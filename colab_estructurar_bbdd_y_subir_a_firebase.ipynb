{
  "nbformat": 4,
  "nbformat_minor": 0,
  "metadata": {
    "colab": {
      "name": "estructurar_bbdd_y_subir_a_firebase.ipynb",
      "version": "0.3.2",
      "provenance": [],
      "collapsed_sections": [],
      "include_colab_link": true
    },
    "language_info": {
      "codemirror_mode": {
        "name": "ipython",
        "version": 3
      },
      "file_extension": ".py",
      "mimetype": "text/x-python",
      "name": "python",
      "nbconvert_exporter": "python",
      "pygments_lexer": "ipython3",
      "version": "3.7.3"
    },
    "kernelspec": {
      "name": "python3",
      "display_name": "Python 3"
    },
    "accelerator": "GPU"
  },
  "cells": [
    {
      "cell_type": "markdown",
      "metadata": {
        "id": "view-in-github",
        "colab_type": "text"
      },
      "source": [
        "<a href=\"https://colab.research.google.com/github/OANInternational/aguapp/blob/master/estructurar_bbdd_y_subir_a_firebase.ipynb\" target=\"_parent\"><img src=\"https://colab.research.google.com/assets/colab-badge.svg\" alt=\"Open In Colab\"/></a>"
      ]
    },
    {
      "cell_type": "markdown",
      "metadata": {
        "id": "Ym3RvFva0G5q",
        "colab_type": "text"
      },
      "source": [
        "Proyecto para estructurar base de datos y subir a FIRBASE"
      ]
    },
    {
      "cell_type": "markdown",
      "metadata": {
        "id": "rgQcFZkGZhWF",
        "colab_type": "text"
      },
      "source": [
        "# INTSTALS"
      ]
    },
    {
      "cell_type": "code",
      "metadata": {
        "id": "qlU4ZVqQ4gib",
        "colab_type": "code",
        "colab": {}
      },
      "source": [
        "#!pip install firebase-admin"
      ],
      "execution_count": 0,
      "outputs": []
    },
    {
      "cell_type": "markdown",
      "metadata": {
        "id": "F9UYXCg7mf0w",
        "colab_type": "text"
      },
      "source": [
        "# DIRECTORIO"
      ]
    },
    {
      "cell_type": "markdown",
      "metadata": {
        "id": "yK41IOyZN6M9",
        "colab_type": "text"
      },
      "source": [
        "utilizar google como directorio de trabajo\n"
      ]
    },
    {
      "cell_type": "code",
      "metadata": {
        "id": "PB9QEH1ljfSa",
        "colab_type": "code",
        "outputId": "fede92bb-bcfd-4af5-ea31-a7ed41be28b3",
        "colab": {
          "base_uri": "https://localhost:8080/",
          "height": 35
        }
      },
      "source": [
        "%cd"
      ],
      "execution_count": 1,
      "outputs": [
        {
          "output_type": "stream",
          "text": [
            "/root\n"
          ],
          "name": "stdout"
        }
      ]
    },
    {
      "cell_type": "code",
      "metadata": {
        "id": "BZ-Mi5uM6Ywq",
        "colab_type": "code",
        "outputId": "3acb61c4-2977-4d56-c97b-c224d768ebf6",
        "colab": {
          "base_uri": "https://localhost:8080/",
          "height": 69
        }
      },
      "source": [
        "%cd\n",
        "%cd ..\n",
        "%cd content"
      ],
      "execution_count": 2,
      "outputs": [
        {
          "output_type": "stream",
          "text": [
            "/root\n",
            "/\n",
            "/content\n"
          ],
          "name": "stdout"
        }
      ]
    },
    {
      "cell_type": "code",
      "metadata": {
        "id": "8DJBx357k1kw",
        "colab_type": "code",
        "outputId": "e7caedd0-ba3e-4c4c-f79b-ec6f04abe7a5",
        "colab": {
          "base_uri": "https://localhost:8080/",
          "height": 124
        }
      },
      "source": [
        "from google.colab import drive\n",
        "drive.mount('/content/drive')"
      ],
      "execution_count": 1,
      "outputs": [
        {
          "output_type": "stream",
          "text": [
            "Go to this URL in a browser: https://accounts.google.com/o/oauth2/auth?client_id=947318989803-6bn6qk8qdgf4n4g3pfee6491hc0brc4i.apps.googleusercontent.com&redirect_uri=urn%3Aietf%3Awg%3Aoauth%3A2.0%3Aoob&scope=email%20https%3A%2F%2Fwww.googleapis.com%2Fauth%2Fdocs.test%20https%3A%2F%2Fwww.googleapis.com%2Fauth%2Fdrive%20https%3A%2F%2Fwww.googleapis.com%2Fauth%2Fdrive.photos.readonly%20https%3A%2F%2Fwww.googleapis.com%2Fauth%2Fpeopleapi.readonly&response_type=code\n",
            "\n",
            "Enter your authorization code:\n",
            "··········\n",
            "Mounted at /content/drive\n"
          ],
          "name": "stdout"
        }
      ]
    },
    {
      "cell_type": "code",
      "metadata": {
        "id": "APqZadV71EDZ",
        "colab_type": "code",
        "outputId": "435e7fa3-520f-4e0f-dd1c-1c2ded4ad903",
        "colab": {
          "base_uri": "https://localhost:8080/",
          "height": 34
        }
      },
      "source": [
        "!ls"
      ],
      "execution_count": 0,
      "outputs": [
        {
          "output_type": "stream",
          "text": [
            "drive  sample_data\n"
          ],
          "name": "stdout"
        }
      ]
    },
    {
      "cell_type": "code",
      "metadata": {
        "id": "YLlHkfPNlSv1",
        "colab_type": "code",
        "outputId": "0d522559-1eb2-4a12-ac3f-5e7c778aebcb",
        "colab": {
          "base_uri": "https://localhost:8080/",
          "height": 55
        }
      },
      "source": [
        "%cd drive/'Shared drives'/'Comité de Infraestructuras, Energía y Agua'/'Proyectos'/'Red de Reparadores de Bombas Manuales'/'AGUAPP'/'BASES DE DATOS'"
      ],
      "execution_count": 2,
      "outputs": [
        {
          "output_type": "stream",
          "text": [
            "/content/drive/Shared drives/Comité de Infraestructuras, Energía y Agua/Proyectos/Red de Reparadores de Bombas Manuales/AGUAPP/BASES DE DATOS\n"
          ],
          "name": "stdout"
        }
      ]
    },
    {
      "cell_type": "code",
      "metadata": {
        "id": "9KAdA-R8xKw5",
        "colab_type": "code",
        "colab": {}
      },
      "source": [
        "import yaml\n",
        "spreadsheet_ids = yaml.load( open(\"sheets_parameters.yaml\", \"r\" ))\n",
        "#bombas de 2018, ultima version\n",
        "ID1=str(spreadsheet_ids['ID1'])\n",
        "#bombas de 2016, ultima version\n",
        "ID2=str(spreadsheet_ids['ID2'])\n",
        "#bombas de 2009, ultima version\n",
        "ID3=str(spreadsheet_ids['ID3'])\n",
        "#bombas final, datos de 2016 y 2009\n",
        "ID4=str(spreadsheet_ids['ID4'])\n",
        "#bombas lisette\n",
        "ID5=str(spreadsheet_ids['ID5'])\n",
        "#demograpique data\n",
        "ID6=str(spreadsheet_ids['ID6'])"
      ],
      "execution_count": 0,
      "outputs": []
    },
    {
      "cell_type": "markdown",
      "metadata": {
        "id": "iA76tKgbnBvj",
        "colab_type": "text"
      },
      "source": [
        "# CONNECT TO FIREBASE"
      ]
    },
    {
      "cell_type": "code",
      "metadata": {
        "id": "6pIrQEso408R",
        "colab_type": "code",
        "colab": {}
      },
      "source": [
        "filename='firebase_parameters.json'"
      ],
      "execution_count": 0,
      "outputs": []
    },
    {
      "cell_type": "code",
      "metadata": {
        "id": "j0-CWZv25YWX",
        "colab_type": "code",
        "colab": {}
      },
      "source": [
        "import firebase_admin\n",
        "from firebase_admin import credentials\n",
        "from firebase_admin import firestore\n",
        "\n",
        "# Use a service account\n",
        "cred = credentials.Certificate(filename)\n",
        "firebase_admin.initialize_app(cred)\n",
        "\n",
        "db = firestore.client()"
      ],
      "execution_count": 0,
      "outputs": []
    },
    {
      "cell_type": "code",
      "metadata": {
        "id": "2uOdUFhhczNe",
        "colab_type": "code",
        "colab": {}
      },
      "source": [
        "def on_snapshot(col_snapshot, changes, read_time):\n",
        "    print(u'Callback received query snapshot.')\n",
        "    print(u'Current cities in California:')\n",
        "    for doc in col_snapshot:\n",
        "        print(u'{}'.format(doc.id))"
      ],
      "execution_count": 0,
      "outputs": []
    },
    {
      "cell_type": "code",
      "metadata": {
        "id": "4U8v9RtS6uv0",
        "colab_type": "code",
        "colab": {}
      },
      "source": [
        "col_query = db.collection('Pompes_2019').where(u'Arrondissement', u'==', u'BIRO')"
      ],
      "execution_count": 0,
      "outputs": []
    },
    {
      "cell_type": "code",
      "metadata": {
        "id": "UiiJg-ZHc537",
        "colab_type": "code",
        "outputId": "31afb6fb-4881-43c8-d519-b1931e714195",
        "colab": {
          "base_uri": "https://localhost:8080/",
          "height": 72
        }
      },
      "source": [
        "pumps = col_query.get()"
      ],
      "execution_count": 10,
      "outputs": [
        {
          "output_type": "stream",
          "text": [
            "/usr/local/lib/python3.6/dist-packages/ipykernel_launcher.py:1: DeprecationWarning: 'Query.get' is deprecated:  please use 'Query.stream' instead.\n",
            "  \"\"\"Entry point for launching an IPython kernel.\n"
          ],
          "name": "stderr"
        }
      ]
    },
    {
      "cell_type": "code",
      "metadata": {
        "id": "XojjB9MT8qGe",
        "colab_type": "code",
        "outputId": "b8f62ebf-1734-4e31-b743-5082a3b56abb",
        "colab": {
          "base_uri": "https://localhost:8080/",
          "height": 555
        }
      },
      "source": [
        "for pump in pumps:\n",
        "    print(u'{} => {}'.format(pump.id, pump.to_dict()))"
      ],
      "execution_count": 11,
      "outputs": [
        {
          "output_type": "stream",
          "text": [
            "Banon_1 => {'Localite': 'Banon', 'Latitude': 9.92461111111111, 'Village': 'OURAROU', 'Longitude': 2.7904722222222222, 'Marque': 'Afridev', 'Arrondissement': 'BIRO'}\n",
            "Biro_1 => {'Longitude': 2.947777777777778, 'Marque': 'Vergnet', 'Arrondissement': 'BIRO', 'Localite': 'Biro', 'Village': 'BIRO', 'Latitude': 9.9}\n",
            "Biro_2 => {'Arrondissement': 'BIRO', 'Localite': 'Biro', 'Latitude': 9.902777777777779, 'Village': 'BIRO', 'Longitude': 2.940638888888889, 'Marque': 'NA'}\n",
            "Biro_3 => {'Arrondissement': 'BIRO', 'Localite': 'Biro', 'Village': 'BIRO', 'Latitude': 9.902944444444445, 'Longitude': 2.9468333333333336, 'Marque': 'NA'}\n",
            "Biro_4 => {'Arrondissement': 'BIRO', 'Localite': 'Biro', 'Village': 'BIRO', 'Latitude': 9.903027777777778, 'Longitude': 2.9466388888888893, 'Marque': 'Afridev'}\n",
            "Biro_5 => {'Longitude': 2.9463611111111114, 'Marque': 'Vergnet', 'Arrondissement': 'BIRO', 'Localite': 'Biro', 'Village': 'BIRO', 'Latitude': 9.900333333333334}\n",
            "Gah_Sona_1 => {'Arrondissement': 'BIRO', 'Localite': 'Gah Sona', 'Latitude': 9.88411111111111, 'Village': 'SONSONRE', 'Longitude': 2.8417777777777777, 'Marque': 'NA'}\n",
            "Gando_Chein_1 => {'Longitude': 2.9021388888888886, 'Marque': 'Vergnet', 'Arrondissement': 'BIRO', 'Localite': 'Gando Chein', 'Village': 'GNANHOUN', 'Latitude': 9.897694444444443}\n",
            "Gando_Paris_1 => {'Arrondissement': 'BIRO', 'Localite': 'Gando Paris', 'Latitude': 9.959333333333333, 'Village': 'GNANHOUN', 'Longitude': 2.8890277777777778, 'Marque': 'India'}\n",
            "Gbaba_1 => {'Longitude': 2.8366944444444444, 'Marque': 'NA', 'Arrondissement': 'BIRO', 'Localite': 'Gbaba', 'Village': 'TEBO', 'Latitude': 9.834805555555556}\n",
            "Gbérou_Kpanin_1 => {'Village': 'OURAROU', 'Latitude': 9.941416666666667, 'Longitude': 2.7823333333333333, 'Marque': 'NA', 'Arrondissement': 'BIRO', 'Localite': 'Gbérou Kpanin'}\n",
            "Gnanhoun_1 => {'Longitude': 2.9058055555555553, 'Marque': 'Vergnet', 'Arrondissement': 'BIRO', 'Localite': 'Gnanhoun', 'Village': 'GNANHOUN', 'Latitude': 9.91686111111111}\n",
            "Gnanhoun_2 => {'Arrondissement': 'BIRO', 'Localite': 'Gnanhoun', 'Latitude': 9.902722222222222, 'Village': 'GNANHOUN', 'Marque': 'Vergnet', 'Longitude': 2.9020555555555556}\n",
            "Gnanhoun_3 => {'Longitude': 2.9019999999999997, 'Marque': 'NA', 'Arrondissement': 'BIRO', 'Localite': 'Gnanhoun', 'Latitude': 9.846388888888889, 'Village': 'GNANHOUN'}\n",
            "Goutto_1 => {'Marque': 'Vergnet', 'Longitude': 2.9429722222222225, 'Arrondissement': 'BIRO', 'Localite': 'Goutto', 'Latitude': 9.909055555555556, 'Village': 'BIRO'}\n",
            "Kiranin_1 => {'Arrondissement': 'BIRO', 'Localite': 'Kiranin', 'Latitude': 9.91686111111111, 'Village': 'GNANHOUN', 'Longitude': 2.885333333333333, 'Marque': 'India'}\n",
            "Massiagourou_1 => {'Arrondissement': 'BIRO', 'Localite': 'Massiagourou', 'Village': 'BIRO', 'Latitude': 9.965833333333332, 'Longitude': 2.9361111111111113, 'Marque': 'Vergnet'}\n",
            "Nallou_1 => {'Arrondissement': 'BIRO', 'Localite': 'Nallou', 'Latitude': 9.980027777777778, 'Village': 'BIRO', 'Longitude': 2.889777777777778, 'Marque': 'Vergnet'}\n",
            "Nallou_2 => {'Longitude': 2.9083888888888887, 'Marque': 'Vergnet', 'Arrondissement': 'BIRO', 'Localite': 'Nallou', 'Latitude': 9.933333333333334, 'Village': 'BIRO'}\n",
            "Ourarou_1 => {'Longitude': 2.8122777777777777, 'Marque': 'NA', 'Arrondissement': 'BIRO', 'Localite': 'Ourarou', 'Village': 'OURAROU', 'Latitude': 9.896166666666666}\n",
            "Ourarou_2 => {'Longitude': 2.7805555555555554, 'Marque': 'Vergnet', 'Arrondissement': 'BIRO', 'Localite': 'Ourarou', 'Village': 'OURAROU', 'Latitude': 9.947222222222223}\n",
            "Ourarou_3 => {'Arrondissement': 'BIRO', 'Localite': 'Ourarou', 'Village': 'OURAROU', 'Latitude': 9.89125, 'Longitude': 2.8117777777777775, 'Marque': 'Vergnet'}\n",
            "Sarawondo_1 => {'Arrondissement': 'BIRO', 'Localite': 'Sarawondo', 'Latitude': 9.903666666666666, 'Village': 'BIRO', 'Longitude': 2.9747777777777777, 'Marque': 'Vergnet'}\n",
            "Sonsonré_1 => {'Longitude': 2.8606944444444444, 'Marque': 'Vergnet', 'Arrondissement': 'BIRO', 'Localite': 'Sonsonré', 'Village': 'SONSONRE', 'Latitude': 9.900194444444445}\n",
            "Sonsonré_2 => {'Village': 'SONSONRE', 'Latitude': 9.9, 'Longitude': 2.8583333333333334, 'Marque': 'Vergnet', 'Arrondissement': 'BIRO', 'Localite': 'Sonsonré'}\n",
            "Sonsonré_3 => {'Arrondissement': 'BIRO', 'Localite': 'Sonsonré', 'Latitude': 9.883333333333333, 'Village': 'SONSONRE', 'Marque': 'Vergnet', 'Longitude': 2.858166666666667}\n",
            "Tèbo_1 => {'Longitude': 2.8398333333333334, 'Marque': 'Vergnet', 'Arrondissement': 'BIRO', 'Localite': 'Tèbo', 'Village': 'TEBO', 'Latitude': 9.834833333333334}\n",
            "Tèbo_2 => {'Longitude': 2.836777777777778, 'Marque': 'Vergnet', 'Arrondissement': 'BIRO', 'Localite': 'Tèbo', 'Village': 'TEBO', 'Latitude': 9.833333333333334}\n",
            "Tèbo_3 => {'Longitude': 2.8393055555555557, 'Marque': 'Afridev', 'Arrondissement': 'BIRO', 'Localite': 'Tèbo', 'Village': 'TEBO', 'Latitude': 9.836944444444445}\n",
            "Waboudo_1 => {'Longitude': 2.8243888888888886, 'Marque': 'Vergnet', 'Arrondissement': 'BIRO', 'Localite': 'Waboudo', 'Latitude': 9.933333333333334, 'Village': 'OURAROU'}\n"
          ],
          "name": "stdout"
        }
      ]
    },
    {
      "cell_type": "markdown",
      "metadata": {
        "id": "RtjMV_OZ_bPM",
        "colab_type": "text"
      },
      "source": [
        "# ABRIR LAS BBDD"
      ]
    },
    {
      "cell_type": "markdown",
      "metadata": {
        "id": "8xW2qPCe_lDT",
        "colab_type": "text"
      },
      "source": [
        "## OPEN GOOGLE SHEETS"
      ]
    },
    {
      "cell_type": "code",
      "metadata": {
        "id": "gfr5Z8ZT5NNB",
        "colab_type": "code",
        "colab": {}
      },
      "source": [
        "from google.colab import auth\n",
        "auth.authenticate_user()"
      ],
      "execution_count": 0,
      "outputs": []
    },
    {
      "cell_type": "code",
      "metadata": {
        "id": "jSS9qT59_vUu",
        "colab_type": "code",
        "colab": {}
      },
      "source": [
        "from googleapiclient.discovery import build\n",
        "sheet_service = build('sheets', 'v4')"
      ],
      "execution_count": 0,
      "outputs": []
    },
    {
      "cell_type": "markdown",
      "metadata": {
        "id": "mfuH8ETf_0Qg",
        "colab_type": "text"
      },
      "source": [
        "## IMPORTS"
      ]
    },
    {
      "cell_type": "code",
      "metadata": {
        "id": "GB58EI_l_wXx",
        "colab_type": "code",
        "colab": {}
      },
      "source": [
        "import plotly\n",
        "import plotly.plotly as py\n",
        "import numpy as np\n",
        "import re\n",
        "\n",
        "import pandas as pd\n"
      ],
      "execution_count": 0,
      "outputs": []
    },
    {
      "cell_type": "markdown",
      "metadata": {
        "id": "Yzqr9P9nFav0",
        "colab_type": "text"
      },
      "source": [
        "## OPEN FROM GOOGLE SHEET"
      ]
    },
    {
      "cell_type": "code",
      "metadata": {
        "id": "TmlXIbSK__ig",
        "colab_type": "code",
        "colab": {}
      },
      "source": [
        "ids = [ID1,ID2,ID3,ID5]\n",
        "dfs = []\n",
        "for ID in ids:\n",
        "  #SPREADSHEET_ID = ID\n",
        "  RANGE_NAME = 'Sheet1'\n",
        "\n",
        "  gsheet = sheet_service.spreadsheets().values().get(spreadsheetId=ID, range=RANGE_NAME).execute()\n",
        "\n",
        "  dfs.append(pd.DataFrame(gsheet.get('values', [])[1:],columns= gsheet.get('values', [])[0:1][0]))\n",
        "\n",
        "df_2019=dfs[0]\n",
        "df_2016=dfs[1]\n",
        "df_2009=dfs[2]\n",
        "df_lisette = dfs[3]"
      ],
      "execution_count": 0,
      "outputs": []
    },
    {
      "cell_type": "code",
      "metadata": {
        "id": "JFsli7phvLmC",
        "colab_type": "code",
        "outputId": "870e6716-b8af-432b-b88e-1831a8d869d4",
        "colab": {
          "base_uri": "https://localhost:8080/",
          "height": 69
        }
      },
      "source": [
        "dfs[1][\"Etat de l'ouvrage\"].unique()"
      ],
      "execution_count": 0,
      "outputs": [
        {
          "output_type": "execute_result",
          "data": {
            "text/plain": [
              "array(['Fonctionnel', 'Panne', 'En panne', 'Tête de pompe', '2 pompes',\n",
              "       'Privé', '1  Pompe', '', 'Pompe', 'Pompe non', 'Faible débit',\n",
              "       '1 pompe', 'Kalale'], dtype=object)"
            ]
          },
          "metadata": {
            "tags": []
          },
          "execution_count": 59
        }
      ]
    },
    {
      "cell_type": "code",
      "metadata": {
        "id": "f1edXXKuADxS",
        "colab_type": "code",
        "outputId": "f1147152-5bfc-4c6a-985d-f22e6b7d64ab",
        "colab": {
          "base_uri": "https://localhost:8080/",
          "height": 173
        }
      },
      "source": [
        "[df.columns for df in dfs]\n",
        "#df_2016.head(2)\n",
        "#df_2009.head(2)"
      ],
      "execution_count": 0,
      "outputs": [
        {
          "output_type": "execute_result",
          "data": {
            "text/plain": [
              "[Index(['Arrondissement', 'Village', 'Localite', 'Nom_Local', 'Longitude',\n",
              "        'Latitude', 'xCoord', 'yCoord', 'rqtListe_Pompe.Modele_Pompe'],\n",
              "       dtype='object'),\n",
              " Index(['N°', 'Arrondissement', 'Village', 'Localité', 'Hameau',\n",
              "        'Etat de l'ouvrage', 'Redevance', 'Année de réalisation', 'Marque'],\n",
              "       dtype='object'),\n",
              " Index(['Arrondissement', 'Village', 'Localité', 'Population', 'Type d'ouvrage',\n",
              "        'Etat', 'Longitude', 'Latitude', 'Domaine d'installation'],\n",
              "       dtype='object')]"
            ]
          },
          "metadata": {
            "tags": []
          },
          "execution_count": 56
        }
      ]
    },
    {
      "cell_type": "markdown",
      "metadata": {
        "id": "xl9ONa9Ot8mL",
        "colab_type": "text"
      },
      "source": [
        "So common data is:\n",
        "\n",
        "* 2019 vs 2016: Arrondissement, Village, Localite, Marque\n",
        "\n",
        "* 2019 vs 2009: Arrondissement, Village, Localite, Longitude, Latitude\n",
        "\n",
        "* 2009 vs 2016: Arrondissement, Village, Localite, Etat\n",
        "\n",
        "ONLY DATA:\n",
        "\n",
        "* 2019: Nom_Local which is little identifier for more info on pumps\n",
        "\n",
        "* 2016: Année de réalisation, , Redevace, Hameau, which would be kind of the same as Nom_Local\n",
        "\n",
        "* 2009: Population, Type d'ouvrage"
      ]
    },
    {
      "cell_type": "markdown",
      "metadata": {
        "id": "misPQG19oIzO",
        "colab_type": "text"
      },
      "source": [
        "## Process the Data"
      ]
    },
    {
      "cell_type": "markdown",
      "metadata": {
        "id": "0DecbYdark5c",
        "colab_type": "text"
      },
      "source": [
        "### FUZZY TO COMPARE Localites"
      ]
    },
    {
      "cell_type": "code",
      "metadata": {
        "id": "Oj_z2M2wrnqE",
        "colab_type": "code",
        "outputId": "a78ea83a-33e5-4de4-9eb0-0376fc915b8b",
        "colab": {
          "base_uri": "https://localhost:8080/",
          "height": 208
        }
      },
      "source": [
        "!pip install fuzzywuzzy[speedup]"
      ],
      "execution_count": 0,
      "outputs": [
        {
          "output_type": "stream",
          "text": [
            "Requirement already satisfied: fuzzywuzzy[speedup] in /usr/local/lib/python3.6/dist-packages (0.17.0)\n",
            "Collecting python-levenshtein>=0.12; extra == \"speedup\" (from fuzzywuzzy[speedup])\n",
            "\u001b[?25l  Downloading https://files.pythonhosted.org/packages/42/a9/d1785c85ebf9b7dfacd08938dd028209c34a0ea3b1bcdb895208bd40a67d/python-Levenshtein-0.12.0.tar.gz (48kB)\n",
            "\u001b[K     |████████████████████████████████| 51kB 22.3MB/s \n",
            "\u001b[?25hRequirement already satisfied: setuptools in /usr/local/lib/python3.6/dist-packages (from python-levenshtein>=0.12; extra == \"speedup\"->fuzzywuzzy[speedup]) (41.0.1)\n",
            "Building wheels for collected packages: python-levenshtein\n",
            "  Building wheel for python-levenshtein (setup.py) ... \u001b[?25l\u001b[?25hdone\n",
            "  Stored in directory: /root/.cache/pip/wheels/de/c2/93/660fd5f7559049268ad2dc6d81c4e39e9e36518766eaf7e342\n",
            "Successfully built python-levenshtein\n",
            "Installing collected packages: python-levenshtein\n",
            "Successfully installed python-levenshtein-0.12.0\n"
          ],
          "name": "stdout"
        }
      ]
    },
    {
      "cell_type": "code",
      "metadata": {
        "id": "y2-s5poDsNeL",
        "colab_type": "code",
        "colab": {}
      },
      "source": [
        "from fuzzywuzzy import fuzz\n",
        "from fuzzywuzzy import process"
      ],
      "execution_count": 0,
      "outputs": []
    },
    {
      "cell_type": "code",
      "metadata": {
        "id": "UI_5YMeNsiDY",
        "colab_type": "code",
        "outputId": "e7cba08e-996f-468d-a6a1-7b46a123826d",
        "colab": {
          "base_uri": "https://localhost:8080/",
          "height": 104
        }
      },
      "source": [
        "#Example of use\n",
        "choices = df_2016['Localité'].tolist()\n",
        "localite = df_2019.loc[20,'Localite']\n",
        "process.extract(localite, choices, limit=5)\n"
      ],
      "execution_count": 0,
      "outputs": [
        {
          "output_type": "execute_result",
          "data": {
            "text/plain": [
              "[('Ourarou', 100),\n",
              " ('Ourarou', 100),\n",
              " ('Ourarou', 100),\n",
              " ('Ourarou Gberou kpanin', 90),\n",
              " ('Gnelkourarou', 90)]"
            ]
          },
          "metadata": {
            "tags": []
          },
          "execution_count": 52
        }
      ]
    },
    {
      "cell_type": "code",
      "metadata": {
        "id": "nQ00DzmmxSH5",
        "colab_type": "code",
        "outputId": "187a4565-61a4-4d28-b144-6970f6159398",
        "colab": {
          "base_uri": "https://localhost:8080/",
          "height": 52
        }
      },
      "source": [
        "#another one\n",
        "word1=df_2019.loc[108,'Localite']\n",
        "word2=df_2016.loc[150,'Localité']\n",
        "print(word1,'\\n',word2)"
      ],
      "execution_count": 0,
      "outputs": [
        {
          "output_type": "stream",
          "text": [
            "Kparissérou Gando \n",
            " Kparisserou gando\n"
          ],
          "name": "stdout"
        }
      ]
    },
    {
      "cell_type": "code",
      "metadata": {
        "id": "QMvV2q-gxbrw",
        "colab_type": "code",
        "outputId": "93c38831-c17f-43de-8f1b-d79e13ea045c",
        "colab": {
          "base_uri": "https://localhost:8080/",
          "height": 34
        }
      },
      "source": [
        "fuzz.ratio(word1, word2)"
      ],
      "execution_count": 0,
      "outputs": [
        {
          "output_type": "execute_result",
          "data": {
            "text/plain": [
              "88"
            ]
          },
          "metadata": {
            "tags": []
          },
          "execution_count": 76
        }
      ]
    },
    {
      "cell_type": "code",
      "metadata": {
        "id": "xI42ZzYdyeTt",
        "colab_type": "code",
        "outputId": "5f224dbd-d1b6-41b2-f6d9-60e6fa3cf592",
        "colab": {
          "base_uri": "https://localhost:8080/",
          "height": 34
        }
      },
      "source": [
        "word1=word1+'!'\n",
        "fuzz.partial_ratio(word1, word2)"
      ],
      "execution_count": 0,
      "outputs": [
        {
          "output_type": "execute_result",
          "data": {
            "text/plain": [
              "88"
            ]
          },
          "metadata": {
            "tags": []
          },
          "execution_count": 78
        }
      ]
    },
    {
      "cell_type": "code",
      "metadata": {
        "id": "uszE38yXyluT",
        "colab_type": "code",
        "outputId": "2164dd73-8210-4750-eae2-51a9b3543f59",
        "colab": {
          "base_uri": "https://localhost:8080/",
          "height": 34
        }
      },
      "source": [
        "fuzz.ratio(word1, word2)"
      ],
      "execution_count": 0,
      "outputs": [
        {
          "output_type": "execute_result",
          "data": {
            "text/plain": [
              "86"
            ]
          },
          "metadata": {
            "tags": []
          },
          "execution_count": 79
        }
      ]
    },
    {
      "cell_type": "code",
      "metadata": {
        "id": "fLXUlMOt0fip",
        "colab_type": "code",
        "outputId": "32f37258-1f30-4062-8835-ac83fd48fec7",
        "colab": {
          "base_uri": "https://localhost:8080/",
          "height": 104
        }
      },
      "source": [
        "process.extract('Gando Gourou', df_2019['Localite'], limit=5)\n"
      ],
      "execution_count": 0,
      "outputs": [
        {
          "output_type": "execute_result",
          "data": {
            "text/plain": [
              "[('Gando Gourou', 100, 329),\n",
              " ('Gourou', 90, 109),\n",
              " ('Gourou', 90, 110),\n",
              " ('Gourou', 90, 111),\n",
              " ('Dèh Gando', 86, 172)]"
            ]
          },
          "metadata": {
            "tags": []
          },
          "execution_count": 114
        }
      ]
    },
    {
      "cell_type": "code",
      "metadata": {
        "id": "5l3U4bPTzjQA",
        "colab_type": "code",
        "outputId": "ba6d962a-7255-4f50-ee8d-f05edb103215",
        "colab": {
          "base_uri": "https://localhost:8080/",
          "height": 52
        }
      },
      "source": [
        "#last one\n",
        "word1=df_2019.loc[329,'Localite']\n",
        "word2=df_2016.loc[270,'Localité']\n",
        "print(word1,'\\n',word2)"
      ],
      "execution_count": 0,
      "outputs": [
        {
          "output_type": "stream",
          "text": [
            "Gando Gourou \n",
            " Ganrou gando\n"
          ],
          "name": "stdout"
        }
      ]
    },
    {
      "cell_type": "code",
      "metadata": {
        "id": "vfc0Pjm-zvNv",
        "colab_type": "code",
        "outputId": "712dc555-eee0-43f4-bd33-9b38c0da0d1f",
        "colab": {
          "base_uri": "https://localhost:8080/",
          "height": 34
        }
      },
      "source": [
        "fuzz.ratio(word1, word2)"
      ],
      "execution_count": 0,
      "outputs": [
        {
          "output_type": "execute_result",
          "data": {
            "text/plain": [
              "42"
            ]
          },
          "metadata": {
            "tags": []
          },
          "execution_count": 102
        }
      ]
    },
    {
      "cell_type": "code",
      "metadata": {
        "id": "YO11EVMVzy3o",
        "colab_type": "code",
        "outputId": "d8bcfb2f-0fab-436d-a3a9-0e1f6b598986",
        "colab": {
          "base_uri": "https://localhost:8080/",
          "height": 34
        }
      },
      "source": [
        "fuzz.token_sort_ratio(word1, word2)"
      ],
      "execution_count": 0,
      "outputs": [
        {
          "output_type": "execute_result",
          "data": {
            "text/plain": [
              "83"
            ]
          },
          "metadata": {
            "tags": []
          },
          "execution_count": 103
        }
      ]
    },
    {
      "cell_type": "markdown",
      "metadata": {
        "id": "3u48Pkw7wkag",
        "colab_type": "text"
      },
      "source": [
        "### LETS CLEAN THE DATA"
      ]
    },
    {
      "cell_type": "markdown",
      "metadata": {
        "id": "31jD9gsH1daO",
        "colab_type": "text"
      },
      "source": [
        "#### Functions"
      ]
    },
    {
      "cell_type": "code",
      "metadata": {
        "id": "mHAt1GY81guW",
        "colab_type": "code",
        "colab": {}
      },
      "source": [
        "#Marques des Pompes\n",
        "def marques(x,name,name2):\n",
        "  marque='NA'\n",
        "  \n",
        "  if x[name]:\n",
        "    if bool(re.search('ergnet',x[name].lower())):\n",
        "      marque='Vergnet'\n",
        "    elif bool(re.search('ndia',x[name].lower())):\n",
        "      marque='India'\n",
        "    elif bool(re.search('afri',x[name].lower())):\n",
        "      marque='Afridev'\n",
        "  elif x[name2]:\n",
        "    if bool(re.search('moteur',x[name2].lower())):\n",
        "      marque='pompe_a_moteur'\n",
        "  return marque"
      ],
      "execution_count": 0,
      "outputs": []
    },
    {
      "cell_type": "code",
      "metadata": {
        "id": "y99B2ff51ln5",
        "colab_type": "code",
        "colab": {}
      },
      "source": [
        "#Years\n",
        "def getyear(x):\n",
        "  year=None\n",
        "  if x['Année de réalisation']:\n",
        "    for s in x['Année de réalisation'].split():\n",
        "      if s.isdigit():\n",
        "         year=int(s)\n",
        "    if year==None:\n",
        "      return year\n",
        "    elif year >2019:\n",
        "      #print(year)\n",
        "      year=2010\n",
        "      return year\n",
        "    elif year > 100:\n",
        "      return int(year)\n",
        "    elif year >70:\n",
        "      year=int('19'+str(year))\n",
        "      return int(year)\n",
        "    else:\n",
        "      year=None\n",
        "    \n",
        "  return year"
      ],
      "execution_count": 0,
      "outputs": []
    },
    {
      "cell_type": "code",
      "metadata": {
        "id": "IVw7BytI1rGk",
        "colab_type": "code",
        "colab": {}
      },
      "source": [
        "'''\n",
        "Function to change latitude/longitude data from degrees,minutes and seconds into decimals\n",
        "'''\n",
        "def decimals_lat_lon(x,lat):\n",
        "  coord=None\n",
        "  if x[lat]:\n",
        "    if len(x[lat])>2:\n",
        "      if len(re.split('[°\\'\"]', x[lat])) == 4 :\n",
        "        \n",
        "        #gets all the parts of the coordinates into different elements of a vector\n",
        "        deg, minutes, seconds, direction =  re.split('[°\\'\"]', x[lat])\n",
        "        \n",
        "        #had to put replace commas because of data of 2009\n",
        "        coord=(float(deg) + float(minutes.replace(\",\",\".\"))/60 + float(seconds.replace(\",\",\".\"))/(60*60)) * (-1 if direction in ['W', 'S'] else 1)\n",
        "      elif len(re.split('[°\\'\"]', x[lat])) > 0:\n",
        "        coord=x[lat]\n",
        "        print(coord)\n",
        "  else:\n",
        "    coord=None\n",
        "    print(coord)\n",
        "  return coord"
      ],
      "execution_count": 0,
      "outputs": []
    },
    {
      "cell_type": "markdown",
      "metadata": {
        "id": "zubT2jcrwt3s",
        "colab_type": "text"
      },
      "source": [
        "#### Begin with 2019"
      ]
    },
    {
      "cell_type": "code",
      "metadata": {
        "id": "Nj7TkvBBAFYL",
        "colab_type": "code",
        "outputId": "ace91e75-ded5-4307-e1aa-c0ed3e6688b1",
        "colab": {
          "base_uri": "https://localhost:8080/",
          "height": 52
        }
      },
      "source": [
        "#Create decimals from degrees latitude\n",
        "df_2019['Latitude_decimals']=df_2019.apply(lambda x: decimals_lat_lon(x,'Latitude'),axis=1)"
      ],
      "execution_count": 0,
      "outputs": [
        {
          "output_type": "stream",
          "text": [
            "None\n",
            "None\n"
          ],
          "name": "stdout"
        }
      ]
    },
    {
      "cell_type": "code",
      "metadata": {
        "colab_type": "code",
        "outputId": "febd4935-cbc8-4134-b9d2-cd335cb090f8",
        "id": "SSPsnn5SnW9G",
        "colab": {
          "base_uri": "https://localhost:8080/",
          "height": 52
        }
      },
      "source": [
        "df_2019['Longitude_decimals']=df_2019.apply(lambda x: decimals_lat_lon(x,'Longitude'),axis=1)"
      ],
      "execution_count": 0,
      "outputs": [
        {
          "output_type": "stream",
          "text": [
            "None\n",
            "None\n"
          ],
          "name": "stdout"
        }
      ]
    },
    {
      "cell_type": "code",
      "metadata": {
        "id": "P4rX9UKBwsxk",
        "colab_type": "code",
        "colab": {}
      },
      "source": [
        "df_2019_filtered = df_2019[['Arrondissement', 'Village','Localite', 'Longitude_decimals',\n",
        "        'Latitude_decimals', 'rqtListe_Pompe.Modele_Pompe']]\n",
        "df_2019_filtered.columns = ['Arrondissement', 'Village','Localite', 'Longitude',\n",
        "        'Latitude', 'Marque']"
      ],
      "execution_count": 0,
      "outputs": []
    },
    {
      "cell_type": "code",
      "metadata": {
        "id": "hOzHn44212R5",
        "colab_type": "code",
        "outputId": "92788f5b-6ee3-4301-8948-130b2d37d88f",
        "colab": {
          "base_uri": "https://localhost:8080/",
          "height": 156
        }
      },
      "source": [
        "df_2019_filtered['Marque']=df_2019_filtered.apply(lambda x: marques(x,\"Marque\"),axis=1)"
      ],
      "execution_count": 0,
      "outputs": [
        {
          "output_type": "stream",
          "text": [
            "/usr/local/lib/python3.6/dist-packages/ipykernel_launcher.py:1: SettingWithCopyWarning:\n",
            "\n",
            "\n",
            "A value is trying to be set on a copy of a slice from a DataFrame.\n",
            "Try using .loc[row_indexer,col_indexer] = value instead\n",
            "\n",
            "See the caveats in the documentation: http://pandas.pydata.org/pandas-docs/stable/indexing.html#indexing-view-versus-copy\n",
            "\n"
          ],
          "name": "stderr"
        }
      ]
    },
    {
      "cell_type": "code",
      "metadata": {
        "id": "xdQSTE8x3mPy",
        "colab_type": "code",
        "colab": {}
      },
      "source": [
        "l_2019_local = df_2019_filtered['Localite'].sort_values().tolist()\n",
        "\n",
        "index = []\n",
        "j=1\n",
        "for i,local in enumerate(l_2019_local):\n",
        "  if i == 0:\n",
        "    j=1\n",
        "    word = local+' '+str(j)\n",
        "    word=word.replace(' ','_')\n",
        "    index.append(word)\n",
        "    continue\n",
        "  if l_2019_local[i-1] == local:\n",
        "      j+=1\n",
        "      word = local+' '+str(j)\n",
        "      word=word.replace(' ','_')\n",
        "      index.append(word)\n",
        "  else:\n",
        "      j=1\n",
        "      word = local+' '+str(j)\n",
        "      word=word.replace(' ','_')\n",
        "      index.append(word)"
      ],
      "execution_count": 0,
      "outputs": []
    },
    {
      "cell_type": "code",
      "metadata": {
        "id": "h48OMF1ABI44",
        "colab_type": "code",
        "colab": {}
      },
      "source": [
        "df_2019_filtered=df_2019_filtered.sort_values('Localite')"
      ],
      "execution_count": 0,
      "outputs": []
    },
    {
      "cell_type": "code",
      "metadata": {
        "id": "KQzRvxSw3cWx",
        "colab_type": "code",
        "colab": {}
      },
      "source": [
        "df_2019_filtered['index'] = index"
      ],
      "execution_count": 0,
      "outputs": []
    },
    {
      "cell_type": "code",
      "metadata": {
        "id": "47YefexP7nIB",
        "colab_type": "code",
        "colab": {}
      },
      "source": [
        "df_2019_filtered=df_2019_filtered.set_index('index')"
      ],
      "execution_count": 0,
      "outputs": []
    },
    {
      "cell_type": "code",
      "metadata": {
        "id": "ofrIxt4CAILM",
        "colab_type": "code",
        "colab": {}
      },
      "source": [
        "#convert to dictionary\n",
        "dict_2019 = df_2019_filtered.to_dict('index')\n",
        "dict_2019 = [{k: v} for k, v in dict_2019.items()]"
      ],
      "execution_count": 0,
      "outputs": []
    },
    {
      "cell_type": "markdown",
      "metadata": {
        "id": "J4X-N-uZAPug",
        "colab_type": "text"
      },
      "source": [
        "##Process data of Lisette"
      ]
    },
    {
      "cell_type": "code",
      "metadata": {
        "id": "YblZBJKyAWji",
        "colab_type": "code",
        "colab": {
          "base_uri": "https://localhost:8080/",
          "height": 235
        },
        "outputId": "171bb22b-4ad8-4cd9-c0af-ec2d865f8e6b"
      },
      "source": [
        "df_lisette.head()"
      ],
      "execution_count": 10,
      "outputs": [
        {
          "output_type": "execute_result",
          "data": {
            "text/html": [
              "<div>\n",
              "<style scoped>\n",
              "    .dataframe tbody tr th:only-of-type {\n",
              "        vertical-align: middle;\n",
              "    }\n",
              "\n",
              "    .dataframe tbody tr th {\n",
              "        vertical-align: top;\n",
              "    }\n",
              "\n",
              "    .dataframe thead th {\n",
              "        text-align: right;\n",
              "    }\n",
              "</style>\n",
              "<table border=\"1\" class=\"dataframe\">\n",
              "  <thead>\n",
              "    <tr style=\"text-align: right;\">\n",
              "      <th></th>\n",
              "      <th>Departement</th>\n",
              "      <th>Commune</th>\n",
              "      <th>Arrondissement</th>\n",
              "      <th>Village</th>\n",
              "      <th>Localite</th>\n",
              "      <th>Nom_Local</th>\n",
              "      <th>Longitude</th>\n",
              "      <th>Latitude</th>\n",
              "      <th>xCoord</th>\n",
              "      <th>yCoord</th>\n",
              "      <th>Type_Exhaure</th>\n",
              "      <th>Modele_Pompe</th>\n",
              "    </tr>\n",
              "  </thead>\n",
              "  <tbody>\n",
              "    <tr>\n",
              "      <th>0</th>\n",
              "      <td>BORGOU</td>\n",
              "      <td>NIKKI</td>\n",
              "      <td>BIRO</td>\n",
              "      <td>BIRO</td>\n",
              "      <td>BIRO NOUKOUROU</td>\n",
              "      <td></td>\n",
              "      <td>02°56'50.96\"E</td>\n",
              "      <td>09°54'18.50\"N</td>\n",
              "      <td>2.947489</td>\n",
              "      <td>9.905139</td>\n",
              "      <td>PMH</td>\n",
              "      <td>VERGNET 4C</td>\n",
              "    </tr>\n",
              "    <tr>\n",
              "      <th>1</th>\n",
              "      <td>BORGOU</td>\n",
              "      <td>NIKKI</td>\n",
              "      <td>BIRO</td>\n",
              "      <td>BIRO</td>\n",
              "      <td>GOUTTO</td>\n",
              "      <td></td>\n",
              "      <td>02°56'47.38\"E</td>\n",
              "      <td>09°54'59.99\"N</td>\n",
              "      <td>2.946494</td>\n",
              "      <td>9.916664</td>\n",
              "      <td>PMH</td>\n",
              "      <td>VERGNET 4D</td>\n",
              "    </tr>\n",
              "    <tr>\n",
              "      <th>2</th>\n",
              "      <td>BORGOU</td>\n",
              "      <td>NIKKI</td>\n",
              "      <td>BIRO</td>\n",
              "      <td>BIRO</td>\n",
              "      <td>SARAVONDO</td>\n",
              "      <td></td>\n",
              "      <td>02°58'29.33\"E</td>\n",
              "      <td>09°54'13.30\"N</td>\n",
              "      <td>2.974814</td>\n",
              "      <td>9.903694</td>\n",
              "      <td>PMH</td>\n",
              "      <td>VERGNET 4D</td>\n",
              "    </tr>\n",
              "    <tr>\n",
              "      <th>3</th>\n",
              "      <td>BORGOU</td>\n",
              "      <td>NIKKI</td>\n",
              "      <td>BIRO</td>\n",
              "      <td>BIRO</td>\n",
              "      <td>MADINA</td>\n",
              "      <td></td>\n",
              "      <td>02°56'44.34\"E</td>\n",
              "      <td>09°54'02.71\"N</td>\n",
              "      <td>2.94565</td>\n",
              "      <td>9.900753</td>\n",
              "      <td>PMH</td>\n",
              "      <td>VERGNET 4C</td>\n",
              "    </tr>\n",
              "    <tr>\n",
              "      <th>4</th>\n",
              "      <td>BORGOU</td>\n",
              "      <td>NIKKI</td>\n",
              "      <td>BIRO</td>\n",
              "      <td>BIRO</td>\n",
              "      <td>MADINA</td>\n",
              "      <td></td>\n",
              "      <td>02°56'46.83\"E</td>\n",
              "      <td>09°54'01.55\"N</td>\n",
              "      <td>2.946342</td>\n",
              "      <td>9.900431</td>\n",
              "      <td>PMH</td>\n",
              "      <td>VERGNET 4C</td>\n",
              "    </tr>\n",
              "  </tbody>\n",
              "</table>\n",
              "</div>"
            ],
            "text/plain": [
              "  Departement Commune Arrondissement  ...    yCoord Type_Exhaure Modele_Pompe\n",
              "0      BORGOU   NIKKI           BIRO  ...  9.905139          PMH   VERGNET 4C\n",
              "1      BORGOU   NIKKI           BIRO  ...  9.916664          PMH   VERGNET 4D\n",
              "2      BORGOU   NIKKI           BIRO  ...  9.903694          PMH   VERGNET 4D\n",
              "3      BORGOU   NIKKI           BIRO  ...  9.900753          PMH   VERGNET 4C\n",
              "4      BORGOU   NIKKI           BIRO  ...  9.900431          PMH   VERGNET 4C\n",
              "\n",
              "[5 rows x 12 columns]"
            ]
          },
          "metadata": {
            "tags": []
          },
          "execution_count": 10
        }
      ]
    },
    {
      "cell_type": "code",
      "metadata": {
        "id": "7dKkdv3AAbvr",
        "colab_type": "code",
        "colab": {}
      },
      "source": [
        "#Create decimals from degrees latitude\n",
        "df_lisette['Latitude_decimals']=df_lisette.apply(lambda x: decimals_lat_lon(x,'Latitude'),axis=1)"
      ],
      "execution_count": 0,
      "outputs": []
    },
    {
      "cell_type": "code",
      "metadata": {
        "id": "phQupZuxAo0u",
        "colab_type": "code",
        "colab": {}
      },
      "source": [
        "df_lisette['Longitude_decimals']=df_lisette.apply(lambda x: decimals_lat_lon(x,'Longitude'),axis=1)"
      ],
      "execution_count": 0,
      "outputs": []
    },
    {
      "cell_type": "code",
      "metadata": {
        "id": "pKPEE8PCBMWA",
        "colab_type": "code",
        "colab": {}
      },
      "source": [
        "df_lisette['Marque']=df_lisette.apply(lambda x: marques(x,\"Modele_Pompe\",\"Type_Exhaure\"),axis=1)"
      ],
      "execution_count": 0,
      "outputs": []
    },
    {
      "cell_type": "code",
      "metadata": {
        "id": "SI_QCtuuFXmt",
        "colab_type": "code",
        "colab": {
          "base_uri": "https://localhost:8080/",
          "height": 248
        },
        "outputId": "98fbd1bf-e213-4cde-c042-27de66dd7c04"
      },
      "source": [
        "df_lisette.groupby(\"Marque\",axis=0).count()"
      ],
      "execution_count": 49,
      "outputs": [
        {
          "output_type": "execute_result",
          "data": {
            "text/html": [
              "<div>\n",
              "<style scoped>\n",
              "    .dataframe tbody tr th:only-of-type {\n",
              "        vertical-align: middle;\n",
              "    }\n",
              "\n",
              "    .dataframe tbody tr th {\n",
              "        vertical-align: top;\n",
              "    }\n",
              "\n",
              "    .dataframe thead th {\n",
              "        text-align: right;\n",
              "    }\n",
              "</style>\n",
              "<table border=\"1\" class=\"dataframe\">\n",
              "  <thead>\n",
              "    <tr style=\"text-align: right;\">\n",
              "      <th></th>\n",
              "      <th>Departement</th>\n",
              "      <th>Commune</th>\n",
              "      <th>Arrondissement</th>\n",
              "      <th>Village</th>\n",
              "      <th>Localite</th>\n",
              "      <th>Nom_Local</th>\n",
              "      <th>Longitude</th>\n",
              "      <th>Latitude</th>\n",
              "      <th>xCoord</th>\n",
              "      <th>yCoord</th>\n",
              "      <th>Type_Exhaure</th>\n",
              "      <th>Modele_Pompe</th>\n",
              "      <th>Latitude_decimals</th>\n",
              "      <th>Longitude_decimals</th>\n",
              "    </tr>\n",
              "    <tr>\n",
              "      <th>Marque</th>\n",
              "      <th></th>\n",
              "      <th></th>\n",
              "      <th></th>\n",
              "      <th></th>\n",
              "      <th></th>\n",
              "      <th></th>\n",
              "      <th></th>\n",
              "      <th></th>\n",
              "      <th></th>\n",
              "      <th></th>\n",
              "      <th></th>\n",
              "      <th></th>\n",
              "      <th></th>\n",
              "      <th></th>\n",
              "    </tr>\n",
              "  </thead>\n",
              "  <tbody>\n",
              "    <tr>\n",
              "      <th>Afridev</th>\n",
              "      <td>33</td>\n",
              "      <td>33</td>\n",
              "      <td>33</td>\n",
              "      <td>33</td>\n",
              "      <td>33</td>\n",
              "      <td>33</td>\n",
              "      <td>33</td>\n",
              "      <td>33</td>\n",
              "      <td>33</td>\n",
              "      <td>33</td>\n",
              "      <td>33</td>\n",
              "      <td>33</td>\n",
              "      <td>33</td>\n",
              "      <td>33</td>\n",
              "    </tr>\n",
              "    <tr>\n",
              "      <th>India</th>\n",
              "      <td>95</td>\n",
              "      <td>95</td>\n",
              "      <td>95</td>\n",
              "      <td>95</td>\n",
              "      <td>95</td>\n",
              "      <td>95</td>\n",
              "      <td>95</td>\n",
              "      <td>95</td>\n",
              "      <td>95</td>\n",
              "      <td>95</td>\n",
              "      <td>95</td>\n",
              "      <td>95</td>\n",
              "      <td>95</td>\n",
              "      <td>95</td>\n",
              "    </tr>\n",
              "    <tr>\n",
              "      <th>NA</th>\n",
              "      <td>4</td>\n",
              "      <td>4</td>\n",
              "      <td>4</td>\n",
              "      <td>4</td>\n",
              "      <td>4</td>\n",
              "      <td>4</td>\n",
              "      <td>4</td>\n",
              "      <td>4</td>\n",
              "      <td>4</td>\n",
              "      <td>4</td>\n",
              "      <td>3</td>\n",
              "      <td>0</td>\n",
              "      <td>4</td>\n",
              "      <td>4</td>\n",
              "    </tr>\n",
              "    <tr>\n",
              "      <th>Vergnet</th>\n",
              "      <td>253</td>\n",
              "      <td>253</td>\n",
              "      <td>253</td>\n",
              "      <td>253</td>\n",
              "      <td>253</td>\n",
              "      <td>253</td>\n",
              "      <td>253</td>\n",
              "      <td>253</td>\n",
              "      <td>253</td>\n",
              "      <td>253</td>\n",
              "      <td>253</td>\n",
              "      <td>253</td>\n",
              "      <td>253</td>\n",
              "      <td>253</td>\n",
              "    </tr>\n",
              "    <tr>\n",
              "      <th>pompe_a_moteur</th>\n",
              "      <td>14</td>\n",
              "      <td>14</td>\n",
              "      <td>14</td>\n",
              "      <td>14</td>\n",
              "      <td>14</td>\n",
              "      <td>14</td>\n",
              "      <td>14</td>\n",
              "      <td>14</td>\n",
              "      <td>14</td>\n",
              "      <td>14</td>\n",
              "      <td>14</td>\n",
              "      <td>0</td>\n",
              "      <td>14</td>\n",
              "      <td>14</td>\n",
              "    </tr>\n",
              "  </tbody>\n",
              "</table>\n",
              "</div>"
            ],
            "text/plain": [
              "                Departement  Commune  ...  Latitude_decimals  Longitude_decimals\n",
              "Marque                                ...                                       \n",
              "Afridev                  33       33  ...                 33                  33\n",
              "India                    95       95  ...                 95                  95\n",
              "NA                        4        4  ...                  4                   4\n",
              "Vergnet                 253      253  ...                253                 253\n",
              "pompe_a_moteur           14       14  ...                 14                  14\n",
              "\n",
              "[5 rows x 14 columns]"
            ]
          },
          "metadata": {
            "tags": []
          },
          "execution_count": 49
        }
      ]
    },
    {
      "cell_type": "markdown",
      "metadata": {
        "id": "efr3I_1SBIdd",
        "colab_type": "text"
      },
      "source": [
        "###Analysis to check"
      ]
    },
    {
      "cell_type": "markdown",
      "metadata": {
        "id": "UYAROYlxA_HE",
        "colab_type": "text"
      },
      "source": [
        "###How many villages have pompes"
      ]
    },
    {
      "cell_type": "code",
      "metadata": {
        "id": "Vr3RaSkjAsX6",
        "colab_type": "code",
        "colab": {
          "base_uri": "https://localhost:8080/",
          "height": 35
        },
        "outputId": "b0c3b310-5d03-406b-f2ef-8ba6e6d9caa9"
      },
      "source": [
        "len(df_lisette.groupby(\"Localite\",axis=0).count())"
      ],
      "execution_count": 15,
      "outputs": [
        {
          "output_type": "execute_result",
          "data": {
            "text/plain": [
              "277"
            ]
          },
          "metadata": {
            "tags": []
          },
          "execution_count": 15
        }
      ]
    },
    {
      "cell_type": "code",
      "metadata": {
        "id": "fOSYZXc-A5-k",
        "colab_type": "code",
        "colab": {
          "base_uri": "https://localhost:8080/",
          "height": 35
        },
        "outputId": "f46ee963-cf7f-49f2-c045-be87309068aa"
      },
      "source": [
        "len(df_2009.groupby(\"Localité\",axis=0).count())"
      ],
      "execution_count": 17,
      "outputs": [
        {
          "output_type": "execute_result",
          "data": {
            "text/plain": [
              "326"
            ]
          },
          "metadata": {
            "tags": []
          },
          "execution_count": 17
        }
      ]
    },
    {
      "cell_type": "markdown",
      "metadata": {
        "id": "WppikOLvBHTo",
        "colab_type": "text"
      },
      "source": [
        "#VILLAGES\n"
      ]
    },
    {
      "cell_type": "code",
      "metadata": {
        "id": "o2TtbNgfU8Ek",
        "colab_type": "code",
        "colab": {}
      },
      "source": [
        "#get data of RPGH4\n",
        "RANGE_NAME = 'Sheet1'\n",
        "\n",
        "gsheet = sheet_service.spreadsheets().values().get(spreadsheetId=ID6, range=RANGE_NAME).execute()\n",
        "\n",
        "df_rpgh4 = pd.DataFrame(gsheet.get('values', [])[1:],columns= gsheet.get('values', [])[0:1][0])"
      ],
      "execution_count": 0,
      "outputs": []
    },
    {
      "cell_type": "markdown",
      "metadata": {
        "id": "foQ0UVXYW8ce",
        "colab_type": "text"
      },
      "source": [
        "##State DB"
      ]
    },
    {
      "cell_type": "code",
      "metadata": {
        "id": "cIiGSVdAVMAF",
        "colab_type": "code",
        "colab": {}
      },
      "source": [
        "df_dep = df_rpgh4[df_rpgh4['Divison administrative'].str[0:4] == 'DEP:'].copy()"
      ],
      "execution_count": 0,
      "outputs": []
    },
    {
      "cell_type": "code",
      "metadata": {
        "id": "xsVd792NV5MM",
        "colab_type": "code",
        "colab": {}
      },
      "source": [
        "df_dep=df_dep.reset_index()"
      ],
      "execution_count": 0,
      "outputs": []
    },
    {
      "cell_type": "code",
      "metadata": {
        "id": "Q8ZZD-TNV_Ib",
        "colab_type": "code",
        "colab": {}
      },
      "source": [
        "df_dep['Departement'] = df_dep.apply(lambda x: x['Divison administrative'][5:], axis=1)"
      ],
      "execution_count": 0,
      "outputs": []
    },
    {
      "cell_type": "code",
      "metadata": {
        "id": "oH3YqW2_Wr3t",
        "colab_type": "code",
        "colab": {}
      },
      "source": [
        "df_dep=df_dep.sort_values('Departement')"
      ],
      "execution_count": 0,
      "outputs": []
    },
    {
      "cell_type": "code",
      "metadata": {
        "id": "sfKCMW-9XEcr",
        "colab_type": "code",
        "colab": {}
      },
      "source": [
        "df_dep = df_dep[['Departement','Total','Masculin','Feminin']]"
      ],
      "execution_count": 0,
      "outputs": []
    },
    {
      "cell_type": "markdown",
      "metadata": {
        "id": "99Z9fXCkZ3yq",
        "colab_type": "text"
      },
      "source": [
        "### get localisation from geocoder"
      ]
    },
    {
      "cell_type": "code",
      "metadata": {
        "id": "bE5nWUOmXQE1",
        "colab_type": "code",
        "colab": {}
      },
      "source": [
        "#!pip install geocoder"
      ],
      "execution_count": 0,
      "outputs": []
    },
    {
      "cell_type": "code",
      "metadata": {
        "id": "bQ5BoT-Uay2t",
        "colab_type": "code",
        "colab": {}
      },
      "source": [
        "import geocoder"
      ],
      "execution_count": 0,
      "outputs": []
    },
    {
      "cell_type": "code",
      "metadata": {
        "id": "iAo9JCuEd7xS",
        "colab_type": "code",
        "colab": {}
      },
      "source": [
        "def get_coor(x):\n",
        "  g=geocoder.geonames(x['Departement']+' Benin',key='5danalfaro')\n",
        "  return [g.lat,g.lng]"
      ],
      "execution_count": 0,
      "outputs": []
    },
    {
      "cell_type": "code",
      "metadata": {
        "id": "pvHHzpoddcoj",
        "colab_type": "code",
        "colab": {}
      },
      "source": [
        "df_dep['Coordinates'] = df_dep.apply(lambda x: get_coor(x),axis=1)"
      ],
      "execution_count": 0,
      "outputs": []
    },
    {
      "cell_type": "code",
      "metadata": {
        "id": "yz_yRRpEeeAi",
        "colab_type": "code",
        "colab": {}
      },
      "source": [
        "df_dep['Latitude'] = df_dep.apply(lambda x: x['Coordinates'][0],axis=1)"
      ],
      "execution_count": 0,
      "outputs": []
    },
    {
      "cell_type": "code",
      "metadata": {
        "id": "GnYy8J4jekv7",
        "colab_type": "code",
        "colab": {}
      },
      "source": [
        "df_dep['Longitude'] = df_dep.apply(lambda x: x['Coordinates'][1],axis=1)"
      ],
      "execution_count": 0,
      "outputs": []
    },
    {
      "cell_type": "code",
      "metadata": {
        "id": "qb9JrbCUgiqq",
        "colab_type": "code",
        "colab": {}
      },
      "source": [
        "df_dep=df_dep[['Departement','Latitude','Longitude','Total']]"
      ],
      "execution_count": 0,
      "outputs": []
    },
    {
      "cell_type": "code",
      "metadata": {
        "id": "GEN_-sRRg93r",
        "colab_type": "code",
        "colab": {}
      },
      "source": [
        "df_dep.columns = ['Name','Latitude','Longitude','Population']"
      ],
      "execution_count": 0,
      "outputs": []
    },
    {
      "cell_type": "markdown",
      "metadata": {
        "id": "1pEkDh9Ef9X0",
        "colab_type": "text"
      },
      "source": [
        "Check if everything is okay, exported to csv and uploaded to google mymaps"
      ]
    },
    {
      "cell_type": "code",
      "metadata": {
        "id": "izoBpzY1epjN",
        "colab_type": "code",
        "colab": {}
      },
      "source": [
        "df_dep.to_csv('dep.csv')"
      ],
      "execution_count": 0,
      "outputs": []
    },
    {
      "cell_type": "markdown",
      "metadata": {
        "id": "NNAu43dLgDZD",
        "colab_type": "text"
      },
      "source": [
        "https://drive.google.com/open?id=1yJeiKBrO8j9GE10wYyRmjnQqxufG-YT0&usp=sharing all alright"
      ]
    },
    {
      "cell_type": "code",
      "metadata": {
        "id": "39FtseJzglfY",
        "colab_type": "code",
        "colab": {}
      },
      "source": [
        "#convert to dictionary\n",
        "states = df_dep.to_dict('index')\n",
        "#states = [{k: v} for k, v in dict_2019.items()]"
      ],
      "execution_count": 0,
      "outputs": []
    },
    {
      "cell_type": "code",
      "metadata": {
        "id": "lshPuyhchezO",
        "colab_type": "code",
        "colab": {}
      },
      "source": [
        "states_dict = [{k: v} for k, v in states.items()] "
      ],
      "execution_count": 0,
      "outputs": []
    },
    {
      "cell_type": "code",
      "metadata": {
        "id": "62NpbY85hwnR",
        "colab_type": "code",
        "colab": {}
      },
      "source": [
        "states_l_dict = []\n",
        "for data in states_dict:\n",
        "  id=list(data.keys())[0]\n",
        "  new_data={'Name':data[id]['Name'],\n",
        "            'Coordinates':{\n",
        "                'Longitude':data[id]['Longitude'],\n",
        "                'Latitude':data[id]['Latitude']},\n",
        "            'Population':data[id]['Population']}\n",
        "  states_l_dict.append(new_data)"
      ],
      "execution_count": 0,
      "outputs": []
    },
    {
      "cell_type": "markdown",
      "metadata": {
        "id": "7z2RTV4GFqgg",
        "colab_type": "text"
      },
      "source": [
        "#### upload to Firebase STATES"
      ]
    },
    {
      "cell_type": "code",
      "metadata": {
        "id": "zDmZqjfTARzg",
        "colab_type": "code",
        "colab": {}
      },
      "source": [
        "for data in states_l_dict:\n",
        "  db.collection(u'LocationsDB').add(data)"
      ],
      "execution_count": 0,
      "outputs": []
    },
    {
      "cell_type": "code",
      "metadata": {
        "id": "h8BaxT51mBI3",
        "colab_type": "code",
        "colab": {}
      },
      "source": [
        ""
      ],
      "execution_count": 0,
      "outputs": []
    }
  ]
}