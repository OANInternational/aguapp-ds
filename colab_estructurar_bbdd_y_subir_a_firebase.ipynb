{
  "nbformat": 4,
  "nbformat_minor": 0,
  "metadata": {
    "colab": {
      "name": "colab_estructurar_bbdd_y_subir_a_firebase.ipynb",
      "provenance": [],
      "collapsed_sections": [],
      "include_colab_link": true
    },
    "language_info": {
      "codemirror_mode": {
        "name": "ipython",
        "version": 3
      },
      "file_extension": ".py",
      "mimetype": "text/x-python",
      "name": "python",
      "nbconvert_exporter": "python",
      "pygments_lexer": "ipython3",
      "version": "3.7.3"
    },
    "kernelspec": {
      "name": "python3",
      "display_name": "Python 3"
    },
    "accelerator": "GPU"
  },
  "cells": [
    {
      "cell_type": "markdown",
      "metadata": {
        "id": "view-in-github",
        "colab_type": "text"
      },
      "source": [
        "<a href=\"https://colab.research.google.com/github/OANInternational/aguapp-ds/blob/master/colab_estructurar_bbdd_y_subir_a_firebase.ipynb\" target=\"_parent\"><img src=\"https://colab.research.google.com/assets/colab-badge.svg\" alt=\"Open In Colab\"/></a>"
      ]
    },
    {
      "cell_type": "markdown",
      "metadata": {
        "id": "Ym3RvFva0G5q",
        "colab_type": "text"
      },
      "source": [
        "Proyecto para estructurar base de datos y subir a FIRBASE"
      ]
    },
    {
      "cell_type": "markdown",
      "metadata": {
        "id": "rgQcFZkGZhWF",
        "colab_type": "text"
      },
      "source": [
        "# INTSTALS"
      ]
    },
    {
      "cell_type": "code",
      "metadata": {
        "id": "qlU4ZVqQ4gib",
        "colab_type": "code",
        "colab": {}
      },
      "source": [
        "#!pip install firebase-admin\n",
        "#!pip install geocoder\n",
        "#!pip install fuzzywuzzy[speedup]"
      ],
      "execution_count": 0,
      "outputs": []
    },
    {
      "cell_type": "markdown",
      "metadata": {
        "id": "F9UYXCg7mf0w",
        "colab_type": "text"
      },
      "source": [
        "# DIRECTORIO"
      ]
    },
    {
      "cell_type": "markdown",
      "metadata": {
        "id": "yK41IOyZN6M9",
        "colab_type": "text"
      },
      "source": [
        "utilizar google como directorio de trabajo\n"
      ]
    },
    {
      "cell_type": "code",
      "metadata": {
        "id": "PB9QEH1ljfSa",
        "colab_type": "code",
        "outputId": "dbabdc77-befa-4227-a2d0-c05f158411d9",
        "colab": {
          "base_uri": "https://localhost:8080/",
          "height": 34
        }
      },
      "source": [
        "%cd"
      ],
      "execution_count": 0,
      "outputs": [
        {
          "output_type": "stream",
          "text": [
            "/root\n"
          ],
          "name": "stdout"
        }
      ]
    },
    {
      "cell_type": "code",
      "metadata": {
        "id": "BZ-Mi5uM6Ywq",
        "colab_type": "code",
        "outputId": "6a1d909e-73bc-498a-800e-69cddea70bef",
        "colab": {
          "base_uri": "https://localhost:8080/",
          "height": 69
        }
      },
      "source": [
        "%cd\n",
        "%cd ..\n",
        "%cd content"
      ],
      "execution_count": 0,
      "outputs": [
        {
          "output_type": "stream",
          "text": [
            "/root\n",
            "/\n",
            "/content\n"
          ],
          "name": "stdout"
        }
      ]
    },
    {
      "cell_type": "code",
      "metadata": {
        "id": "8DJBx357k1kw",
        "colab_type": "code",
        "outputId": "92ba3f74-30a0-47ec-b865-74bcd686c4a8",
        "colab": {
          "base_uri": "https://localhost:8080/",
          "height": 124
        }
      },
      "source": [
        "from google.colab import drive\n",
        "drive.mount('/content/drive')"
      ],
      "execution_count": 0,
      "outputs": [
        {
          "output_type": "stream",
          "text": [
            "Go to this URL in a browser: https://accounts.google.com/o/oauth2/auth?client_id=947318989803-6bn6qk8qdgf4n4g3pfee6491hc0brc4i.apps.googleusercontent.com&redirect_uri=urn%3Aietf%3Awg%3Aoauth%3A2.0%3Aoob&scope=email%20https%3A%2F%2Fwww.googleapis.com%2Fauth%2Fdocs.test%20https%3A%2F%2Fwww.googleapis.com%2Fauth%2Fdrive%20https%3A%2F%2Fwww.googleapis.com%2Fauth%2Fdrive.photos.readonly%20https%3A%2F%2Fwww.googleapis.com%2Fauth%2Fpeopleapi.readonly&response_type=code\n",
            "\n",
            "Enter your authorization code:\n",
            "··········\n",
            "Mounted at /content/drive\n"
          ],
          "name": "stdout"
        }
      ]
    },
    {
      "cell_type": "code",
      "metadata": {
        "id": "APqZadV71EDZ",
        "colab_type": "code",
        "outputId": "94bd2ce5-b4eb-48c5-b0fe-1c0b3ab2d8fa",
        "colab": {
          "base_uri": "https://localhost:8080/",
          "height": 35
        }
      },
      "source": [
        "!ls"
      ],
      "execution_count": 0,
      "outputs": [
        {
          "output_type": "stream",
          "text": [
            "adc.json  drive  sample_data\n"
          ],
          "name": "stdout"
        }
      ]
    },
    {
      "cell_type": "code",
      "metadata": {
        "id": "YLlHkfPNlSv1",
        "colab_type": "code",
        "outputId": "a97dc925-4566-4442-e73e-fa0f72244536",
        "colab": {
          "base_uri": "https://localhost:8080/",
          "height": 34
        }
      },
      "source": [
        "%cd drive/'Shared drives'/'Comité de Infraestructuras, Energía y Agua'/'Proyectos'/'Red de Reparadores de Bombas Manuales'/'AGUAPP'/'BASES DE DATOS'"
      ],
      "execution_count": 0,
      "outputs": [
        {
          "output_type": "stream",
          "text": [
            "/content/drive/Shared drives/Comité de Infraestructuras, Energía y Agua/Proyectos/Red de Reparadores de Bombas Manuales/AGUAPP/BASES DE DATOS\n"
          ],
          "name": "stdout"
        }
      ]
    },
    {
      "cell_type": "code",
      "metadata": {
        "id": "9KAdA-R8xKw5",
        "colab_type": "code",
        "colab": {}
      },
      "source": [
        "import yaml\n",
        "spreadsheet_ids = yaml.load( open(\"sheets_parameters.yaml\", \"r\" ))\n",
        "#bombas de 2018, ultima version\n",
        "ID1=str(spreadsheet_ids['ID1'])\n",
        "#bombas de 2016, ultima version\n",
        "ID2=str(spreadsheet_ids['ID2'])\n",
        "#bombas de 2009, ultima version\n",
        "ID3=str(spreadsheet_ids['ID3'])\n",
        "#bombas final, datos de 2016 y 2009\n",
        "ID4=str(spreadsheet_ids['ID4'])\n",
        "#bombas lisette\n",
        "ID5=str(spreadsheet_ids['ID5'])\n",
        "#demograpique data\n",
        "ID6=str(spreadsheet_ids['ID6'])"
      ],
      "execution_count": 0,
      "outputs": []
    },
    {
      "cell_type": "markdown",
      "metadata": {
        "id": "iA76tKgbnBvj",
        "colab_type": "text"
      },
      "source": [
        "# CONNECT TO FIREBASE"
      ]
    },
    {
      "cell_type": "code",
      "metadata": {
        "id": "6pIrQEso408R",
        "colab_type": "code",
        "colab": {}
      },
      "source": [
        "filename='firebase_parameters.json'"
      ],
      "execution_count": 0,
      "outputs": []
    },
    {
      "cell_type": "code",
      "metadata": {
        "id": "j0-CWZv25YWX",
        "colab_type": "code",
        "colab": {}
      },
      "source": [
        "import firebase_admin\n",
        "from firebase_admin import credentials\n",
        "from firebase_admin import firestore\n",
        "\n",
        "# Use a service account\n",
        "cred = credentials.Certificate(filename)\n",
        "firebase_admin.initialize_app(cred)\n",
        "\n",
        "db = firestore.client()"
      ],
      "execution_count": 0,
      "outputs": []
    },
    {
      "cell_type": "code",
      "metadata": {
        "id": "2uOdUFhhczNe",
        "colab_type": "code",
        "colab": {}
      },
      "source": [
        "def on_snapshot(col_snapshot, changes, read_time):\n",
        "    print(u'Callback received query snapshot.')\n",
        "    print(u'Current cities in California:')\n",
        "    for doc in col_snapshot:\n",
        "        print(u'{}'.format(doc.id))"
      ],
      "execution_count": 0,
      "outputs": []
    },
    {
      "cell_type": "code",
      "metadata": {
        "id": "4U8v9RtS6uv0",
        "colab_type": "code",
        "colab": {}
      },
      "source": [
        "col_query = db.collection('Pompes_2019').where(u'Arrondissement', u'==', u'BIRO')"
      ],
      "execution_count": 0,
      "outputs": []
    },
    {
      "cell_type": "code",
      "metadata": {
        "id": "mHG-1nY4lSIr",
        "colab_type": "code",
        "colab": {}
      },
      "source": [
        "col= db.collection('Locations')"
      ],
      "execution_count": 0,
      "outputs": []
    },
    {
      "cell_type": "code",
      "metadata": {
        "id": "9vAkEEAolYwP",
        "colab_type": "code",
        "colab": {}
      },
      "source": [
        "doc = col.document('Bennin')"
      ],
      "execution_count": 0,
      "outputs": []
    },
    {
      "cell_type": "code",
      "metadata": {
        "id": "1cqhJFwvml1T",
        "colab_type": "code",
        "colab": {}
      },
      "source": [
        "get_doc=doc.get()"
      ],
      "execution_count": 0,
      "outputs": []
    },
    {
      "cell_type": "code",
      "metadata": {
        "id": "AOZeI1_vmwgE",
        "colab_type": "code",
        "outputId": "53ec840c-0708-45d6-e62f-3dfb790bf952",
        "colab": {
          "base_uri": "https://localhost:8080/",
          "height": 34
        }
      },
      "source": [
        "print(u'{} => {}'.format(get_doc.id,get_doc.to_dict()))"
      ],
      "execution_count": 0,
      "outputs": [
        {
          "output_type": "stream",
          "text": [
            "Bennin => {'coordinates': {'latitud': '12.121234', 'longitud': '12.12343'}, 'population': 2342341234, 'id': 'Bennin'}\n"
          ],
          "name": "stdout"
        }
      ]
    },
    {
      "cell_type": "code",
      "metadata": {
        "id": "vp60VA4Jq5WQ",
        "colab_type": "code",
        "colab": {}
      },
      "source": [
        "9.30769,2.315834"
      ],
      "execution_count": 0,
      "outputs": []
    },
    {
      "cell_type": "code",
      "metadata": {
        "id": "7q1utzdDpD6H",
        "colab_type": "code",
        "colab": {}
      },
      "source": [
        "dict_benin= {'coordinates': {'latitud': '9.30769', 'longitud': '2.315834'}, 'population': 11180000, 'id': 'Benin'}"
      ],
      "execution_count": 0,
      "outputs": []
    },
    {
      "cell_type": "code",
      "metadata": {
        "id": "u-VaYv1kpHKc",
        "colab_type": "code",
        "outputId": "07cfa42d-1c02-423c-8e63-43f8a75ac9e1",
        "colab": {
          "base_uri": "https://localhost:8080/",
          "height": 86
        }
      },
      "source": [
        "col.document(u'Benin').set(dict_benin)"
      ],
      "execution_count": 0,
      "outputs": [
        {
          "output_type": "execute_result",
          "data": {
            "text/plain": [
              "update_time {\n",
              "  seconds: 1568999769\n",
              "  nanos: 476994000\n",
              "}"
            ]
          },
          "metadata": {
            "tags": []
          },
          "execution_count": 87
        }
      ]
    },
    {
      "cell_type": "code",
      "metadata": {
        "id": "UiiJg-ZHc537",
        "colab_type": "code",
        "colab": {}
      },
      "source": [
        "pumps = col_query.stream()"
      ],
      "execution_count": 0,
      "outputs": []
    },
    {
      "cell_type": "code",
      "metadata": {
        "id": "XojjB9MT8qGe",
        "colab_type": "code",
        "outputId": "1a1d7231-53ad-4ee5-8d17-9007e29f6503",
        "colab": {
          "base_uri": "https://localhost:8080/",
          "height": 537
        }
      },
      "source": [
        "for pump in pumps:\n",
        "    print(u'{} => {}'.format(pump.id, pump.to_dict()))"
      ],
      "execution_count": 0,
      "outputs": [
        {
          "output_type": "stream",
          "text": [
            "Banon_1 => {'Localite': 'Banon', 'Latitude': 9.92461111111111, 'Village': 'OURAROU', 'Longitude': 2.7904722222222222, 'Marque': 'Afridev', 'Arrondissement': 'BIRO'}\n",
            "Biro_1 => {'Latitude': 9.9, 'Village': 'BIRO', 'Longitude': 2.947777777777778, 'Marque': 'Vergnet', 'Arrondissement': 'BIRO', 'Localite': 'Biro'}\n",
            "Biro_2 => {'Longitude': 2.940638888888889, 'Marque': 'NA', 'Arrondissement': 'BIRO', 'Localite': 'Biro', 'Latitude': 9.902777777777779, 'Village': 'BIRO'}\n",
            "Biro_3 => {'Longitude': 2.9468333333333336, 'Marque': 'NA', 'Arrondissement': 'BIRO', 'Localite': 'Biro', 'Latitude': 9.902944444444445, 'Village': 'BIRO'}\n",
            "Biro_4 => {'Localite': 'Biro', 'Latitude': 9.903027777777778, 'Village': 'BIRO', 'Longitude': 2.9466388888888893, 'Marque': 'Afridev', 'Arrondissement': 'BIRO'}\n",
            "Biro_5 => {'Longitude': 2.9463611111111114, 'Marque': 'Vergnet', 'Arrondissement': 'BIRO', 'Localite': 'Biro', 'Latitude': 9.900333333333334, 'Village': 'BIRO'}\n",
            "Gah_Sona_1 => {'Arrondissement': 'BIRO', 'Localite': 'Gah Sona', 'Latitude': 9.88411111111111, 'Village': 'SONSONRE', 'Marque': 'NA', 'Longitude': 2.8417777777777777}\n",
            "Gando_Chein_1 => {'Arrondissement': 'BIRO', 'Localite': 'Gando Chein', 'Latitude': 9.897694444444443, 'Village': 'GNANHOUN', 'Longitude': 2.9021388888888886, 'Marque': 'Vergnet'}\n",
            "Gando_Paris_1 => {'Localite': 'Gando Paris', 'Latitude': 9.959333333333333, 'Village': 'GNANHOUN', 'Longitude': 2.8890277777777778, 'Marque': 'India', 'Arrondissement': 'BIRO'}\n",
            "Gbaba_1 => {'Longitude': 2.8366944444444444, 'Marque': 'NA', 'Arrondissement': 'BIRO', 'Localite': 'Gbaba', 'Village': 'TEBO', 'Latitude': 9.834805555555556}\n",
            "Gbérou_Kpanin_1 => {'Longitude': 2.7823333333333333, 'Marque': 'NA', 'Arrondissement': 'BIRO', 'Localite': 'Gbérou Kpanin', 'Village': 'OURAROU', 'Latitude': 9.941416666666667}\n",
            "Gnanhoun_1 => {'Localite': 'Gnanhoun', 'Latitude': 9.91686111111111, 'Village': 'GNANHOUN', 'Marque': 'Vergnet', 'Longitude': 2.9058055555555553, 'Arrondissement': 'BIRO'}\n",
            "Gnanhoun_2 => {'Arrondissement': 'BIRO', 'Localite': 'Gnanhoun', 'Latitude': 9.902722222222222, 'Village': 'GNANHOUN', 'Longitude': 2.9020555555555556, 'Marque': 'Vergnet'}\n",
            "Gnanhoun_3 => {'Longitude': 2.9019999999999997, 'Marque': 'NA', 'Arrondissement': 'BIRO', 'Localite': 'Gnanhoun', 'Latitude': 9.846388888888889, 'Village': 'GNANHOUN'}\n",
            "Goutto_1 => {'Marque': 'Vergnet', 'Longitude': 2.9429722222222225, 'Arrondissement': 'BIRO', 'Localite': 'Goutto', 'Latitude': 9.909055555555556, 'Village': 'BIRO'}\n",
            "Kiranin_1 => {'Localite': 'Kiranin', 'Village': 'GNANHOUN', 'Latitude': 9.91686111111111, 'Longitude': 2.885333333333333, 'Marque': 'India', 'Arrondissement': 'BIRO'}\n",
            "Massiagourou_1 => {'Latitude': 9.965833333333332, 'Village': 'BIRO', 'Longitude': 2.9361111111111113, 'Marque': 'Vergnet', 'Arrondissement': 'BIRO', 'Localite': 'Massiagourou'}\n",
            "Nallou_1 => {'Village': 'BIRO', 'Latitude': 9.980027777777778, 'Longitude': 2.889777777777778, 'Marque': 'Vergnet', 'Arrondissement': 'BIRO', 'Localite': 'Nallou'}\n",
            "Nallou_2 => {'Localite': 'Nallou', 'Latitude': 9.933333333333334, 'Village': 'BIRO', 'Longitude': 2.9083888888888887, 'Marque': 'Vergnet', 'Arrondissement': 'BIRO'}\n",
            "Ourarou_1 => {'Longitude': 2.8122777777777777, 'Marque': 'NA', 'Arrondissement': 'BIRO', 'Localite': 'Ourarou', 'Latitude': 9.896166666666666, 'Village': 'OURAROU'}\n",
            "Ourarou_2 => {'Localite': 'Ourarou', 'Village': 'OURAROU', 'Latitude': 9.947222222222223, 'Longitude': 2.7805555555555554, 'Marque': 'Vergnet', 'Arrondissement': 'BIRO'}\n",
            "Ourarou_3 => {'Arrondissement': 'BIRO', 'Localite': 'Ourarou', 'Village': 'OURAROU', 'Latitude': 9.89125, 'Longitude': 2.8117777777777775, 'Marque': 'Vergnet'}\n",
            "Sarawondo_1 => {'Arrondissement': 'BIRO', 'Localite': 'Sarawondo', 'Village': 'BIRO', 'Latitude': 9.903666666666666, 'Longitude': 2.9747777777777777, 'Marque': 'Vergnet'}\n",
            "Sonsonré_1 => {'Arrondissement': 'BIRO', 'Localite': 'Sonsonré', 'Village': 'SONSONRE', 'Latitude': 9.900194444444445, 'Longitude': 2.8606944444444444, 'Marque': 'Vergnet'}\n",
            "Sonsonré_2 => {'Longitude': 2.8583333333333334, 'Marque': 'Vergnet', 'Arrondissement': 'BIRO', 'Localite': 'Sonsonré', 'Village': 'SONSONRE', 'Latitude': 9.9}\n",
            "Sonsonré_3 => {'Arrondissement': 'BIRO', 'Localite': 'Sonsonré', 'Village': 'SONSONRE', 'Latitude': 9.883333333333333, 'Longitude': 2.858166666666667, 'Marque': 'Vergnet'}\n",
            "Tèbo_1 => {'Latitude': 9.834833333333334, 'Village': 'TEBO', 'Longitude': 2.8398333333333334, 'Marque': 'Vergnet', 'Arrondissement': 'BIRO', 'Localite': 'Tèbo'}\n",
            "Tèbo_2 => {'Longitude': 2.836777777777778, 'Marque': 'Vergnet', 'Arrondissement': 'BIRO', 'Localite': 'Tèbo', 'Village': 'TEBO', 'Latitude': 9.833333333333334}\n",
            "Tèbo_3 => {'Arrondissement': 'BIRO', 'Localite': 'Tèbo', 'Latitude': 9.836944444444445, 'Village': 'TEBO', 'Longitude': 2.8393055555555557, 'Marque': 'Afridev'}\n",
            "Waboudo_1 => {'Arrondissement': 'BIRO', 'Localite': 'Waboudo', 'Village': 'OURAROU', 'Latitude': 9.933333333333334, 'Longitude': 2.8243888888888886, 'Marque': 'Vergnet'}\n"
          ],
          "name": "stdout"
        }
      ]
    },
    {
      "cell_type": "markdown",
      "metadata": {
        "id": "RtjMV_OZ_bPM",
        "colab_type": "text"
      },
      "source": [
        "# ABRIR LAS BBDD"
      ]
    },
    {
      "cell_type": "markdown",
      "metadata": {
        "id": "8xW2qPCe_lDT",
        "colab_type": "text"
      },
      "source": [
        "## OPEN GOOGLE SHEETS"
      ]
    },
    {
      "cell_type": "code",
      "metadata": {
        "id": "gfr5Z8ZT5NNB",
        "colab_type": "code",
        "colab": {}
      },
      "source": [
        "from google.colab import auth\n",
        "auth.authenticate_user()"
      ],
      "execution_count": 0,
      "outputs": []
    },
    {
      "cell_type": "code",
      "metadata": {
        "id": "jSS9qT59_vUu",
        "colab_type": "code",
        "colab": {}
      },
      "source": [
        "from googleapiclient.discovery import build\n",
        "sheet_service = build('sheets', 'v4')"
      ],
      "execution_count": 0,
      "outputs": []
    },
    {
      "cell_type": "markdown",
      "metadata": {
        "id": "mfuH8ETf_0Qg",
        "colab_type": "text"
      },
      "source": [
        "## IMPORTS"
      ]
    },
    {
      "cell_type": "code",
      "metadata": {
        "id": "GB58EI_l_wXx",
        "colab_type": "code",
        "colab": {}
      },
      "source": [
        "import numpy as np\n",
        "import re\n",
        "\n",
        "import pandas as pd\n",
        "\n",
        "import geocoder\n",
        "\n",
        "from fuzzywuzzy import fuzz\n",
        "from fuzzywuzzy import process"
      ],
      "execution_count": 0,
      "outputs": []
    },
    {
      "cell_type": "markdown",
      "metadata": {
        "id": "Yzqr9P9nFav0",
        "colab_type": "text"
      },
      "source": [
        "## OPEN FROM GOOGLE SHEET"
      ]
    },
    {
      "cell_type": "code",
      "metadata": {
        "id": "TmlXIbSK__ig",
        "colab_type": "code",
        "colab": {}
      },
      "source": [
        "ids = [ID1,ID2,ID3,ID5]\n",
        "dfs = []\n",
        "for ID in ids:\n",
        "  #SPREADSHEET_ID = ID\n",
        "  RANGE_NAME = 'Sheet1'\n",
        "\n",
        "  gsheet = sheet_service.spreadsheets().values().get(spreadsheetId=ID, range=RANGE_NAME).execute()\n",
        "\n",
        "  dfs.append(pd.DataFrame(gsheet.get('values', [])[1:],columns= gsheet.get('values', [])[0:1][0]))\n",
        "\n",
        "df_2019=dfs[0]\n",
        "df_2016=dfs[1]\n",
        "df_2009=dfs[2]\n",
        "df_lisette = dfs[3]"
      ],
      "execution_count": 0,
      "outputs": []
    },
    {
      "cell_type": "code",
      "metadata": {
        "id": "JFsli7phvLmC",
        "colab_type": "code",
        "outputId": "870e6716-b8af-432b-b88e-1831a8d869d4",
        "colab": {
          "base_uri": "https://localhost:8080/",
          "height": 69
        }
      },
      "source": [
        "dfs[1][\"Etat de l'ouvrage\"].unique()"
      ],
      "execution_count": 0,
      "outputs": [
        {
          "output_type": "execute_result",
          "data": {
            "text/plain": [
              "array(['Fonctionnel', 'Panne', 'En panne', 'Tête de pompe', '2 pompes',\n",
              "       'Privé', '1  Pompe', '', 'Pompe', 'Pompe non', 'Faible débit',\n",
              "       '1 pompe', 'Kalale'], dtype=object)"
            ]
          },
          "metadata": {
            "tags": []
          },
          "execution_count": 59
        }
      ]
    },
    {
      "cell_type": "code",
      "metadata": {
        "id": "f1edXXKuADxS",
        "colab_type": "code",
        "outputId": "f1147152-5bfc-4c6a-985d-f22e6b7d64ab",
        "colab": {
          "base_uri": "https://localhost:8080/",
          "height": 173
        }
      },
      "source": [
        "[df.columns for df in dfs]\n",
        "#df_2016.head(2)\n",
        "#df_2009.head(2)"
      ],
      "execution_count": 0,
      "outputs": [
        {
          "output_type": "execute_result",
          "data": {
            "text/plain": [
              "[Index(['Arrondissement', 'Village', 'Localite', 'Nom_Local', 'Longitude',\n",
              "        'Latitude', 'xCoord', 'yCoord', 'rqtListe_Pompe.Modele_Pompe'],\n",
              "       dtype='object'),\n",
              " Index(['N°', 'Arrondissement', 'Village', 'Localité', 'Hameau',\n",
              "        'Etat de l'ouvrage', 'Redevance', 'Année de réalisation', 'Marque'],\n",
              "       dtype='object'),\n",
              " Index(['Arrondissement', 'Village', 'Localité', 'Population', 'Type d'ouvrage',\n",
              "        'Etat', 'Longitude', 'Latitude', 'Domaine d'installation'],\n",
              "       dtype='object')]"
            ]
          },
          "metadata": {
            "tags": []
          },
          "execution_count": 56
        }
      ]
    },
    {
      "cell_type": "markdown",
      "metadata": {
        "id": "xl9ONa9Ot8mL",
        "colab_type": "text"
      },
      "source": [
        "So common data is:\n",
        "\n",
        "* 2019 vs 2016: Arrondissement, Village, Localite, Marque\n",
        "\n",
        "* 2019 vs 2009: Arrondissement, Village, Localite, Longitude, Latitude\n",
        "\n",
        "* 2009 vs 2016: Arrondissement, Village, Localite, Etat\n",
        "\n",
        "ONLY DATA:\n",
        "\n",
        "* 2019: Nom_Local which is little identifier for more info on pumps\n",
        "\n",
        "* 2016: Année de réalisation, , Redevace, Hameau, which would be kind of the same as Nom_Local\n",
        "\n",
        "* 2009: Population, Type d'ouvrage"
      ]
    },
    {
      "cell_type": "markdown",
      "metadata": {
        "id": "misPQG19oIzO",
        "colab_type": "text"
      },
      "source": [
        "## Process the Data"
      ]
    },
    {
      "cell_type": "markdown",
      "metadata": {
        "id": "0DecbYdark5c",
        "colab_type": "text"
      },
      "source": [
        "### FUZZY TO COMPARE Localites"
      ]
    },
    {
      "cell_type": "code",
      "metadata": {
        "id": "UI_5YMeNsiDY",
        "colab_type": "code",
        "outputId": "e7cba08e-996f-468d-a6a1-7b46a123826d",
        "colab": {
          "base_uri": "https://localhost:8080/",
          "height": 104
        }
      },
      "source": [
        "#Example of use\n",
        "choices = df_2016['Localité'].tolist()\n",
        "localite = df_2019.loc[20,'Localite']\n",
        "process.extract(localite, choices, limit=5)\n"
      ],
      "execution_count": 0,
      "outputs": [
        {
          "output_type": "execute_result",
          "data": {
            "text/plain": [
              "[('Ourarou', 100),\n",
              " ('Ourarou', 100),\n",
              " ('Ourarou', 100),\n",
              " ('Ourarou Gberou kpanin', 90),\n",
              " ('Gnelkourarou', 90)]"
            ]
          },
          "metadata": {
            "tags": []
          },
          "execution_count": 52
        }
      ]
    },
    {
      "cell_type": "code",
      "metadata": {
        "id": "nQ00DzmmxSH5",
        "colab_type": "code",
        "outputId": "187a4565-61a4-4d28-b144-6970f6159398",
        "colab": {
          "base_uri": "https://localhost:8080/",
          "height": 52
        }
      },
      "source": [
        "#another one\n",
        "word1=df_2019.loc[108,'Localite']\n",
        "word2=df_2016.loc[150,'Localité']\n",
        "print(word1,'\\n',word2)"
      ],
      "execution_count": 0,
      "outputs": [
        {
          "output_type": "stream",
          "text": [
            "Kparissérou Gando \n",
            " Kparisserou gando\n"
          ],
          "name": "stdout"
        }
      ]
    },
    {
      "cell_type": "code",
      "metadata": {
        "id": "QMvV2q-gxbrw",
        "colab_type": "code",
        "outputId": "93c38831-c17f-43de-8f1b-d79e13ea045c",
        "colab": {
          "base_uri": "https://localhost:8080/",
          "height": 34
        }
      },
      "source": [
        "fuzz.ratio(word1, word2)"
      ],
      "execution_count": 0,
      "outputs": [
        {
          "output_type": "execute_result",
          "data": {
            "text/plain": [
              "88"
            ]
          },
          "metadata": {
            "tags": []
          },
          "execution_count": 76
        }
      ]
    },
    {
      "cell_type": "code",
      "metadata": {
        "id": "xI42ZzYdyeTt",
        "colab_type": "code",
        "outputId": "5f224dbd-d1b6-41b2-f6d9-60e6fa3cf592",
        "colab": {
          "base_uri": "https://localhost:8080/",
          "height": 34
        }
      },
      "source": [
        "word1=word1+'!'\n",
        "fuzz.partial_ratio(word1, word2)"
      ],
      "execution_count": 0,
      "outputs": [
        {
          "output_type": "execute_result",
          "data": {
            "text/plain": [
              "88"
            ]
          },
          "metadata": {
            "tags": []
          },
          "execution_count": 78
        }
      ]
    },
    {
      "cell_type": "code",
      "metadata": {
        "id": "uszE38yXyluT",
        "colab_type": "code",
        "outputId": "2164dd73-8210-4750-eae2-51a9b3543f59",
        "colab": {
          "base_uri": "https://localhost:8080/",
          "height": 34
        }
      },
      "source": [
        "fuzz.ratio(word1, word2)"
      ],
      "execution_count": 0,
      "outputs": [
        {
          "output_type": "execute_result",
          "data": {
            "text/plain": [
              "86"
            ]
          },
          "metadata": {
            "tags": []
          },
          "execution_count": 79
        }
      ]
    },
    {
      "cell_type": "code",
      "metadata": {
        "id": "fLXUlMOt0fip",
        "colab_type": "code",
        "outputId": "32f37258-1f30-4062-8835-ac83fd48fec7",
        "colab": {
          "base_uri": "https://localhost:8080/",
          "height": 104
        }
      },
      "source": [
        "process.extract('Gando Gourou', df_2019['Localite'], limit=5)\n"
      ],
      "execution_count": 0,
      "outputs": [
        {
          "output_type": "execute_result",
          "data": {
            "text/plain": [
              "[('Gando Gourou', 100, 329),\n",
              " ('Gourou', 90, 109),\n",
              " ('Gourou', 90, 110),\n",
              " ('Gourou', 90, 111),\n",
              " ('Dèh Gando', 86, 172)]"
            ]
          },
          "metadata": {
            "tags": []
          },
          "execution_count": 114
        }
      ]
    },
    {
      "cell_type": "code",
      "metadata": {
        "id": "5l3U4bPTzjQA",
        "colab_type": "code",
        "outputId": "ba6d962a-7255-4f50-ee8d-f05edb103215",
        "colab": {
          "base_uri": "https://localhost:8080/",
          "height": 52
        }
      },
      "source": [
        "#last one\n",
        "word1=df_2019.loc[329,'Localite']\n",
        "word2=df_2016.loc[270,'Localité']\n",
        "print(word1,'\\n',word2)"
      ],
      "execution_count": 0,
      "outputs": [
        {
          "output_type": "stream",
          "text": [
            "Gando Gourou \n",
            " Ganrou gando\n"
          ],
          "name": "stdout"
        }
      ]
    },
    {
      "cell_type": "code",
      "metadata": {
        "id": "vfc0Pjm-zvNv",
        "colab_type": "code",
        "outputId": "712dc555-eee0-43f4-bd33-9b38c0da0d1f",
        "colab": {
          "base_uri": "https://localhost:8080/",
          "height": 34
        }
      },
      "source": [
        "fuzz.ratio(word1, word2)"
      ],
      "execution_count": 0,
      "outputs": [
        {
          "output_type": "execute_result",
          "data": {
            "text/plain": [
              "42"
            ]
          },
          "metadata": {
            "tags": []
          },
          "execution_count": 102
        }
      ]
    },
    {
      "cell_type": "code",
      "metadata": {
        "id": "YO11EVMVzy3o",
        "colab_type": "code",
        "outputId": "d8bcfb2f-0fab-436d-a3a9-0e1f6b598986",
        "colab": {
          "base_uri": "https://localhost:8080/",
          "height": 34
        }
      },
      "source": [
        "fuzz.token_sort_ratio(word1, word2)"
      ],
      "execution_count": 0,
      "outputs": [
        {
          "output_type": "execute_result",
          "data": {
            "text/plain": [
              "83"
            ]
          },
          "metadata": {
            "tags": []
          },
          "execution_count": 103
        }
      ]
    },
    {
      "cell_type": "markdown",
      "metadata": {
        "id": "3u48Pkw7wkag",
        "colab_type": "text"
      },
      "source": [
        "### LETS CLEAN THE DATA"
      ]
    },
    {
      "cell_type": "markdown",
      "metadata": {
        "id": "31jD9gsH1daO",
        "colab_type": "text"
      },
      "source": [
        "#### Functions"
      ]
    },
    {
      "cell_type": "code",
      "metadata": {
        "id": "mHAt1GY81guW",
        "colab_type": "code",
        "colab": {}
      },
      "source": [
        "#Marques des Pompes\n",
        "def marques(x,name,name2):\n",
        "  marque='NA'\n",
        "  \n",
        "  if x[name]:\n",
        "    if bool(re.search('ergnet',x[name].lower())):\n",
        "      marque='Vergnet'\n",
        "    elif bool(re.search('ndia',x[name].lower())):\n",
        "      marque='India'\n",
        "    elif bool(re.search('afri',x[name].lower())):\n",
        "      marque='Afridev'\n",
        "  elif x[name2]:\n",
        "    if bool(re.search('moteur',x[name2].lower())):\n",
        "      marque='pompe_a_moteur'\n",
        "  return marque"
      ],
      "execution_count": 0,
      "outputs": []
    },
    {
      "cell_type": "code",
      "metadata": {
        "id": "y99B2ff51ln5",
        "colab_type": "code",
        "colab": {}
      },
      "source": [
        "#Years\n",
        "def getyear(x):\n",
        "  year=None\n",
        "  if x['Année de réalisation']:\n",
        "    for s in x['Année de réalisation'].split():\n",
        "      if s.isdigit():\n",
        "         year=int(s)\n",
        "    if year==None:\n",
        "      return year\n",
        "    elif year >2019:\n",
        "      #print(year)\n",
        "      year=2010\n",
        "      return year\n",
        "    elif year > 100:\n",
        "      return int(year)\n",
        "    elif year >70:\n",
        "      year=int('19'+str(year))\n",
        "      return int(year)\n",
        "    else:\n",
        "      year=None\n",
        "    \n",
        "  return year"
      ],
      "execution_count": 0,
      "outputs": []
    },
    {
      "cell_type": "code",
      "metadata": {
        "id": "IVw7BytI1rGk",
        "colab_type": "code",
        "colab": {}
      },
      "source": [
        "'''\n",
        "Function to change latitude/longitude data from degrees,minutes and seconds into decimals\n",
        "'''\n",
        "def decimals_lat_lon(x,lat):\n",
        "  coord=None\n",
        "  if x[lat]:\n",
        "    if len(x[lat])>2:\n",
        "      if len(re.split('[°\\'\"]', x[lat])) == 4 :\n",
        "        \n",
        "        #gets all the parts of the coordinates into different elements of a vector\n",
        "        deg, minutes, seconds, direction =  re.split('[°\\'\"]', x[lat])\n",
        "        \n",
        "        #had to put replace commas because of data of 2009\n",
        "        coord=(float(deg) + float(minutes.replace(\",\",\".\"))/60 + float(seconds.replace(\",\",\".\"))/(60*60)) * (-1 if direction in ['W', 'S'] else 1)\n",
        "      elif len(re.split('[°\\'\"]', x[lat])) > 0:\n",
        "        coord=x[lat]\n",
        "        print(coord)\n",
        "  else:\n",
        "    coord=None\n",
        "    print(coord)\n",
        "  return coord"
      ],
      "execution_count": 0,
      "outputs": []
    },
    {
      "cell_type": "markdown",
      "metadata": {
        "id": "boN5lk47bjaC",
        "colab_type": "text"
      },
      "source": [
        "2009"
      ]
    },
    {
      "cell_type": "code",
      "metadata": {
        "id": "mGvS7rJJbQeQ",
        "colab_type": "code",
        "outputId": "dbfd10c7-e4e2-4b88-97d4-16d71de4611e",
        "colab": {
          "base_uri": "https://localhost:8080/",
          "height": 70
        }
      },
      "source": [
        "df_2009.columns"
      ],
      "execution_count": 0,
      "outputs": [
        {
          "output_type": "execute_result",
          "data": {
            "text/plain": [
              "Index(['Arrondissement', 'Village', 'Localité', 'Population', 'Type d'ouvrage',\n",
              "       'Etat', 'Longitude', 'Latitude', 'Domaine d'installation'],\n",
              "      dtype='object')"
            ]
          },
          "metadata": {
            "tags": []
          },
          "execution_count": 15
        }
      ]
    },
    {
      "cell_type": "code",
      "metadata": {
        "id": "nwdHijDXbOFh",
        "colab_type": "code",
        "outputId": "7656352d-c9c7-48a7-9acd-bc2401eed569",
        "colab": {
          "base_uri": "https://localhost:8080/",
          "height": 194
        }
      },
      "source": [
        "df_2009['Latitude_decimals']=df_2009.apply(lambda x: decimals_lat_lon(x,'Latitude'),axis=1)\n",
        "df_2009['Longitude_decimals']=df_2009.apply(lambda x: decimals_lat_lon(x,'Longitude'),axis=1)"
      ],
      "execution_count": 0,
      "outputs": [
        {
          "output_type": "stream",
          "text": [
            "None\n",
            "None\n",
            "None\n",
            "None\n",
            "None\n",
            "None\n",
            "None\n",
            "None\n",
            "None\n",
            "None\n"
          ],
          "name": "stdout"
        }
      ]
    },
    {
      "cell_type": "markdown",
      "metadata": {
        "id": "zubT2jcrwt3s",
        "colab_type": "text"
      },
      "source": [
        "#### Begin with 2019"
      ]
    },
    {
      "cell_type": "code",
      "metadata": {
        "id": "Nj7TkvBBAFYL",
        "colab_type": "code",
        "outputId": "ace91e75-ded5-4307-e1aa-c0ed3e6688b1",
        "colab": {
          "base_uri": "https://localhost:8080/",
          "height": 52
        }
      },
      "source": [
        "#Create decimals from degrees latitude\n",
        "df_2019['Latitude_decimals']=df_2019.apply(lambda x: decimals_lat_lon(x,'Latitude'),axis=1)"
      ],
      "execution_count": 0,
      "outputs": [
        {
          "output_type": "stream",
          "text": [
            "None\n",
            "None\n"
          ],
          "name": "stdout"
        }
      ]
    },
    {
      "cell_type": "code",
      "metadata": {
        "colab_type": "code",
        "outputId": "febd4935-cbc8-4134-b9d2-cd335cb090f8",
        "id": "SSPsnn5SnW9G",
        "colab": {
          "base_uri": "https://localhost:8080/",
          "height": 52
        }
      },
      "source": [
        "df_2019['Longitude_decimals']=df_2019.apply(lambda x: decimals_lat_lon(x,'Longitude'),axis=1)"
      ],
      "execution_count": 0,
      "outputs": [
        {
          "output_type": "stream",
          "text": [
            "None\n",
            "None\n"
          ],
          "name": "stdout"
        }
      ]
    },
    {
      "cell_type": "code",
      "metadata": {
        "id": "P4rX9UKBwsxk",
        "colab_type": "code",
        "colab": {}
      },
      "source": [
        "df_2019_filtered = df_2019[['Arrondissement', 'Village','Localite', 'Longitude_decimals',\n",
        "        'Latitude_decimals', 'rqtListe_Pompe.Modele_Pompe']]\n",
        "df_2019_filtered.columns = ['Arrondissement', 'Village','Localite', 'Longitude',\n",
        "        'Latitude', 'Marque']"
      ],
      "execution_count": 0,
      "outputs": []
    },
    {
      "cell_type": "code",
      "metadata": {
        "id": "hOzHn44212R5",
        "colab_type": "code",
        "outputId": "92788f5b-6ee3-4301-8948-130b2d37d88f",
        "colab": {
          "base_uri": "https://localhost:8080/",
          "height": 156
        }
      },
      "source": [
        "df_2019_filtered['Marque']=df_2019_filtered.apply(lambda x: marques(x,\"Marque\"),axis=1)"
      ],
      "execution_count": 0,
      "outputs": [
        {
          "output_type": "stream",
          "text": [
            "/usr/local/lib/python3.6/dist-packages/ipykernel_launcher.py:1: SettingWithCopyWarning:\n",
            "\n",
            "\n",
            "A value is trying to be set on a copy of a slice from a DataFrame.\n",
            "Try using .loc[row_indexer,col_indexer] = value instead\n",
            "\n",
            "See the caveats in the documentation: http://pandas.pydata.org/pandas-docs/stable/indexing.html#indexing-view-versus-copy\n",
            "\n"
          ],
          "name": "stderr"
        }
      ]
    },
    {
      "cell_type": "code",
      "metadata": {
        "id": "xdQSTE8x3mPy",
        "colab_type": "code",
        "colab": {}
      },
      "source": [
        "l_2019_local = df_2019_filtered['Localite'].sort_values().tolist()\n",
        "\n",
        "index = []\n",
        "j=1\n",
        "for i,local in enumerate(l_2019_local):\n",
        "  if i == 0:\n",
        "    j=1\n",
        "    word = local+' '+str(j)\n",
        "    word=word.replace(' ','_')\n",
        "    index.append(word)\n",
        "    continue\n",
        "  if l_2019_local[i-1] == local:\n",
        "      j+=1\n",
        "      word = local+' '+str(j)\n",
        "      word=word.replace(' ','_')\n",
        "      index.append(word)\n",
        "  else:\n",
        "      j=1\n",
        "      word = local+' '+str(j)\n",
        "      word=word.replace(' ','_')\n",
        "      index.append(word)"
      ],
      "execution_count": 0,
      "outputs": []
    },
    {
      "cell_type": "code",
      "metadata": {
        "id": "h48OMF1ABI44",
        "colab_type": "code",
        "colab": {}
      },
      "source": [
        "df_2019_filtered=df_2019_filtered.sort_values('Localite')"
      ],
      "execution_count": 0,
      "outputs": []
    },
    {
      "cell_type": "code",
      "metadata": {
        "id": "KQzRvxSw3cWx",
        "colab_type": "code",
        "colab": {}
      },
      "source": [
        "df_2019_filtered['index'] = index"
      ],
      "execution_count": 0,
      "outputs": []
    },
    {
      "cell_type": "code",
      "metadata": {
        "id": "47YefexP7nIB",
        "colab_type": "code",
        "colab": {}
      },
      "source": [
        "df_2019_filtered=df_2019_filtered.set_index('index')"
      ],
      "execution_count": 0,
      "outputs": []
    },
    {
      "cell_type": "code",
      "metadata": {
        "id": "ofrIxt4CAILM",
        "colab_type": "code",
        "colab": {}
      },
      "source": [
        "#convert to dictionary\n",
        "dict_2019 = df_2019_filtered.to_dict('index')\n",
        "dict_2019 = [{k: v} for k, v in dict_2019.items()]"
      ],
      "execution_count": 0,
      "outputs": []
    },
    {
      "cell_type": "markdown",
      "metadata": {
        "id": "J4X-N-uZAPug",
        "colab_type": "text"
      },
      "source": [
        "##Process data of Lisette"
      ]
    },
    {
      "cell_type": "code",
      "metadata": {
        "id": "YblZBJKyAWji",
        "colab_type": "code",
        "outputId": "04a830c1-7dd1-4bed-95cd-8ca40be59274",
        "colab": {
          "base_uri": "https://localhost:8080/",
          "height": 197
        }
      },
      "source": [
        "df_lisette.head()"
      ],
      "execution_count": 0,
      "outputs": [
        {
          "output_type": "execute_result",
          "data": {
            "text/html": [
              "<div>\n",
              "<style scoped>\n",
              "    .dataframe tbody tr th:only-of-type {\n",
              "        vertical-align: middle;\n",
              "    }\n",
              "\n",
              "    .dataframe tbody tr th {\n",
              "        vertical-align: top;\n",
              "    }\n",
              "\n",
              "    .dataframe thead th {\n",
              "        text-align: right;\n",
              "    }\n",
              "</style>\n",
              "<table border=\"1\" class=\"dataframe\">\n",
              "  <thead>\n",
              "    <tr style=\"text-align: right;\">\n",
              "      <th></th>\n",
              "      <th>Departement</th>\n",
              "      <th>Commune</th>\n",
              "      <th>Arrondissement</th>\n",
              "      <th>Village</th>\n",
              "      <th>Localite</th>\n",
              "      <th>Nom_Local</th>\n",
              "      <th>Longitude</th>\n",
              "      <th>Latitude</th>\n",
              "      <th>xCoord</th>\n",
              "      <th>yCoord</th>\n",
              "      <th>Type_Exhaure</th>\n",
              "      <th>Modele_Pompe</th>\n",
              "    </tr>\n",
              "  </thead>\n",
              "  <tbody>\n",
              "    <tr>\n",
              "      <th>0</th>\n",
              "      <td>BORGOU</td>\n",
              "      <td>NIKKI</td>\n",
              "      <td>BIRO</td>\n",
              "      <td>BIRO</td>\n",
              "      <td>BIRO NOUKOUROU</td>\n",
              "      <td></td>\n",
              "      <td>02°56'50.96\"E</td>\n",
              "      <td>09°54'18.50\"N</td>\n",
              "      <td>2.947489</td>\n",
              "      <td>9.905139</td>\n",
              "      <td>PMH</td>\n",
              "      <td>VERGNET 4C</td>\n",
              "    </tr>\n",
              "    <tr>\n",
              "      <th>1</th>\n",
              "      <td>BORGOU</td>\n",
              "      <td>NIKKI</td>\n",
              "      <td>BIRO</td>\n",
              "      <td>BIRO</td>\n",
              "      <td>GOUTTO</td>\n",
              "      <td></td>\n",
              "      <td>02°56'47.38\"E</td>\n",
              "      <td>09°54'59.99\"N</td>\n",
              "      <td>2.946494</td>\n",
              "      <td>9.916664</td>\n",
              "      <td>PMH</td>\n",
              "      <td>VERGNET 4D</td>\n",
              "    </tr>\n",
              "    <tr>\n",
              "      <th>2</th>\n",
              "      <td>BORGOU</td>\n",
              "      <td>NIKKI</td>\n",
              "      <td>BIRO</td>\n",
              "      <td>BIRO</td>\n",
              "      <td>SARAVONDO</td>\n",
              "      <td></td>\n",
              "      <td>02°58'29.33\"E</td>\n",
              "      <td>09°54'13.30\"N</td>\n",
              "      <td>2.974814</td>\n",
              "      <td>9.903694</td>\n",
              "      <td>PMH</td>\n",
              "      <td>VERGNET 4D</td>\n",
              "    </tr>\n",
              "    <tr>\n",
              "      <th>3</th>\n",
              "      <td>BORGOU</td>\n",
              "      <td>NIKKI</td>\n",
              "      <td>BIRO</td>\n",
              "      <td>BIRO</td>\n",
              "      <td>MADINA</td>\n",
              "      <td></td>\n",
              "      <td>02°56'44.34\"E</td>\n",
              "      <td>09°54'02.71\"N</td>\n",
              "      <td>2.94565</td>\n",
              "      <td>9.900753</td>\n",
              "      <td>PMH</td>\n",
              "      <td>VERGNET 4C</td>\n",
              "    </tr>\n",
              "    <tr>\n",
              "      <th>4</th>\n",
              "      <td>BORGOU</td>\n",
              "      <td>NIKKI</td>\n",
              "      <td>BIRO</td>\n",
              "      <td>BIRO</td>\n",
              "      <td>MADINA</td>\n",
              "      <td></td>\n",
              "      <td>02°56'46.83\"E</td>\n",
              "      <td>09°54'01.55\"N</td>\n",
              "      <td>2.946342</td>\n",
              "      <td>9.900431</td>\n",
              "      <td>PMH</td>\n",
              "      <td>VERGNET 4C</td>\n",
              "    </tr>\n",
              "  </tbody>\n",
              "</table>\n",
              "</div>"
            ],
            "text/plain": [
              "  Departement Commune Arrondissement  ...    yCoord Type_Exhaure Modele_Pompe\n",
              "0      BORGOU   NIKKI           BIRO  ...  9.905139          PMH   VERGNET 4C\n",
              "1      BORGOU   NIKKI           BIRO  ...  9.916664          PMH   VERGNET 4D\n",
              "2      BORGOU   NIKKI           BIRO  ...  9.903694          PMH   VERGNET 4D\n",
              "3      BORGOU   NIKKI           BIRO  ...  9.900753          PMH   VERGNET 4C\n",
              "4      BORGOU   NIKKI           BIRO  ...  9.900431          PMH   VERGNET 4C\n",
              "\n",
              "[5 rows x 12 columns]"
            ]
          },
          "metadata": {
            "tags": []
          },
          "execution_count": 19
        }
      ]
    },
    {
      "cell_type": "code",
      "metadata": {
        "id": "7dKkdv3AAbvr",
        "colab_type": "code",
        "colab": {}
      },
      "source": [
        "#Create decimals from degrees latitude\n",
        "df_lisette['Latitude_decimals']=df_lisette.apply(lambda x: decimals_lat_lon(x,'Latitude'),axis=1)"
      ],
      "execution_count": 0,
      "outputs": []
    },
    {
      "cell_type": "code",
      "metadata": {
        "id": "phQupZuxAo0u",
        "colab_type": "code",
        "colab": {}
      },
      "source": [
        "df_lisette['Longitude_decimals']=df_lisette.apply(lambda x: decimals_lat_lon(x,'Longitude'),axis=1)"
      ],
      "execution_count": 0,
      "outputs": []
    },
    {
      "cell_type": "code",
      "metadata": {
        "id": "pKPEE8PCBMWA",
        "colab_type": "code",
        "colab": {}
      },
      "source": [
        "df_lisette['Marque']=df_lisette.apply(lambda x: marques(x,\"Modele_Pompe\",\"Type_Exhaure\"),axis=1)"
      ],
      "execution_count": 0,
      "outputs": []
    },
    {
      "cell_type": "code",
      "metadata": {
        "id": "SI_QCtuuFXmt",
        "colab_type": "code",
        "outputId": "a87bdb07-bec9-4ece-ce4f-3e5925d46f5e",
        "colab": {
          "base_uri": "https://localhost:8080/",
          "height": 247
        }
      },
      "source": [
        "df_lisette.groupby(\"Marque\",axis=0).count()"
      ],
      "execution_count": 0,
      "outputs": [
        {
          "output_type": "execute_result",
          "data": {
            "text/html": [
              "<div>\n",
              "<style scoped>\n",
              "    .dataframe tbody tr th:only-of-type {\n",
              "        vertical-align: middle;\n",
              "    }\n",
              "\n",
              "    .dataframe tbody tr th {\n",
              "        vertical-align: top;\n",
              "    }\n",
              "\n",
              "    .dataframe thead th {\n",
              "        text-align: right;\n",
              "    }\n",
              "</style>\n",
              "<table border=\"1\" class=\"dataframe\">\n",
              "  <thead>\n",
              "    <tr style=\"text-align: right;\">\n",
              "      <th></th>\n",
              "      <th>Departement</th>\n",
              "      <th>Commune</th>\n",
              "      <th>Arrondissement</th>\n",
              "      <th>Village</th>\n",
              "      <th>Localite</th>\n",
              "      <th>Nom_Local</th>\n",
              "      <th>Longitude</th>\n",
              "      <th>Latitude</th>\n",
              "      <th>xCoord</th>\n",
              "      <th>yCoord</th>\n",
              "      <th>Type_Exhaure</th>\n",
              "      <th>Modele_Pompe</th>\n",
              "      <th>Latitude_decimals</th>\n",
              "      <th>Longitude_decimals</th>\n",
              "    </tr>\n",
              "    <tr>\n",
              "      <th>Marque</th>\n",
              "      <th></th>\n",
              "      <th></th>\n",
              "      <th></th>\n",
              "      <th></th>\n",
              "      <th></th>\n",
              "      <th></th>\n",
              "      <th></th>\n",
              "      <th></th>\n",
              "      <th></th>\n",
              "      <th></th>\n",
              "      <th></th>\n",
              "      <th></th>\n",
              "      <th></th>\n",
              "      <th></th>\n",
              "    </tr>\n",
              "  </thead>\n",
              "  <tbody>\n",
              "    <tr>\n",
              "      <th>Afridev</th>\n",
              "      <td>33</td>\n",
              "      <td>33</td>\n",
              "      <td>33</td>\n",
              "      <td>33</td>\n",
              "      <td>33</td>\n",
              "      <td>33</td>\n",
              "      <td>33</td>\n",
              "      <td>33</td>\n",
              "      <td>33</td>\n",
              "      <td>33</td>\n",
              "      <td>33</td>\n",
              "      <td>33</td>\n",
              "      <td>33</td>\n",
              "      <td>33</td>\n",
              "    </tr>\n",
              "    <tr>\n",
              "      <th>India</th>\n",
              "      <td>95</td>\n",
              "      <td>95</td>\n",
              "      <td>95</td>\n",
              "      <td>95</td>\n",
              "      <td>95</td>\n",
              "      <td>95</td>\n",
              "      <td>95</td>\n",
              "      <td>95</td>\n",
              "      <td>95</td>\n",
              "      <td>95</td>\n",
              "      <td>95</td>\n",
              "      <td>95</td>\n",
              "      <td>95</td>\n",
              "      <td>95</td>\n",
              "    </tr>\n",
              "    <tr>\n",
              "      <th>NA</th>\n",
              "      <td>4</td>\n",
              "      <td>4</td>\n",
              "      <td>4</td>\n",
              "      <td>4</td>\n",
              "      <td>4</td>\n",
              "      <td>4</td>\n",
              "      <td>4</td>\n",
              "      <td>4</td>\n",
              "      <td>4</td>\n",
              "      <td>4</td>\n",
              "      <td>3</td>\n",
              "      <td>0</td>\n",
              "      <td>4</td>\n",
              "      <td>4</td>\n",
              "    </tr>\n",
              "    <tr>\n",
              "      <th>Vergnet</th>\n",
              "      <td>253</td>\n",
              "      <td>253</td>\n",
              "      <td>253</td>\n",
              "      <td>253</td>\n",
              "      <td>253</td>\n",
              "      <td>253</td>\n",
              "      <td>253</td>\n",
              "      <td>253</td>\n",
              "      <td>253</td>\n",
              "      <td>253</td>\n",
              "      <td>253</td>\n",
              "      <td>253</td>\n",
              "      <td>253</td>\n",
              "      <td>253</td>\n",
              "    </tr>\n",
              "    <tr>\n",
              "      <th>pompe_a_moteur</th>\n",
              "      <td>14</td>\n",
              "      <td>14</td>\n",
              "      <td>14</td>\n",
              "      <td>14</td>\n",
              "      <td>14</td>\n",
              "      <td>14</td>\n",
              "      <td>14</td>\n",
              "      <td>14</td>\n",
              "      <td>14</td>\n",
              "      <td>14</td>\n",
              "      <td>14</td>\n",
              "      <td>0</td>\n",
              "      <td>14</td>\n",
              "      <td>14</td>\n",
              "    </tr>\n",
              "  </tbody>\n",
              "</table>\n",
              "</div>"
            ],
            "text/plain": [
              "                Departement  Commune  ...  Latitude_decimals  Longitude_decimals\n",
              "Marque                                ...                                       \n",
              "Afridev                  33       33  ...                 33                  33\n",
              "India                    95       95  ...                 95                  95\n",
              "NA                        4        4  ...                  4                   4\n",
              "Vergnet                 253      253  ...                253                 253\n",
              "pompe_a_moteur           14       14  ...                 14                  14\n",
              "\n",
              "[5 rows x 14 columns]"
            ]
          },
          "metadata": {
            "tags": []
          },
          "execution_count": 23
        }
      ]
    },
    {
      "cell_type": "markdown",
      "metadata": {
        "id": "efr3I_1SBIdd",
        "colab_type": "text"
      },
      "source": [
        "###Analysis to check"
      ]
    },
    {
      "cell_type": "markdown",
      "metadata": {
        "id": "UYAROYlxA_HE",
        "colab_type": "text"
      },
      "source": [
        "###How many villages have pompes"
      ]
    },
    {
      "cell_type": "code",
      "metadata": {
        "id": "Vr3RaSkjAsX6",
        "colab_type": "code",
        "outputId": "11832960-bfe7-4675-d468-3fb14ee558e5",
        "colab": {
          "base_uri": "https://localhost:8080/",
          "height": 34
        }
      },
      "source": [
        "len(df_lisette.groupby(\"Localite\",axis=0).count())"
      ],
      "execution_count": 0,
      "outputs": [
        {
          "output_type": "execute_result",
          "data": {
            "text/plain": [
              "277"
            ]
          },
          "metadata": {
            "tags": []
          },
          "execution_count": 24
        }
      ]
    },
    {
      "cell_type": "code",
      "metadata": {
        "id": "fOSYZXc-A5-k",
        "colab_type": "code",
        "outputId": "29a275a8-590c-4de1-f1d0-e0cf26b36b64",
        "colab": {
          "base_uri": "https://localhost:8080/",
          "height": 34
        }
      },
      "source": [
        "len(df_2009.groupby(\"Localité\",axis=0).count())"
      ],
      "execution_count": 0,
      "outputs": [
        {
          "output_type": "execute_result",
          "data": {
            "text/plain": [
              "326"
            ]
          },
          "metadata": {
            "tags": []
          },
          "execution_count": 25
        }
      ]
    },
    {
      "cell_type": "markdown",
      "metadata": {
        "id": "WppikOLvBHTo",
        "colab_type": "text"
      },
      "source": [
        "#STATES/COUNTY/DISTRICT\n"
      ]
    },
    {
      "cell_type": "markdown",
      "metadata": {
        "id": "hT5ep9EVtMVp",
        "colab_type": "text"
      },
      "source": [
        "### Demographics\n",
        "\n",
        "get data from INSAE BENIN link: https://www.insae-bj.org/statistiques/statistiques-demographiques#nos-12-departements -> placed it manually into a google sheet\n",
        "\n",
        "then add the coordinates by Geonames API"
      ]
    },
    {
      "cell_type": "code",
      "metadata": {
        "id": "o2TtbNgfU8Ek",
        "colab_type": "code",
        "colab": {}
      },
      "source": [
        "#get data of RPGH4\n",
        "RANGE_NAME = 'Sheet1'\n",
        "\n",
        "gsheet = sheet_service.spreadsheets().values().get(spreadsheetId=ID6, range=RANGE_NAME).execute()\n",
        "\n",
        "df_rpgh4 = pd.DataFrame(gsheet.get('values', [])[1:],columns= gsheet.get('values', [])[0:1][0])"
      ],
      "execution_count": 0,
      "outputs": []
    },
    {
      "cell_type": "markdown",
      "metadata": {
        "id": "foQ0UVXYW8ce",
        "colab_type": "text"
      },
      "source": [
        "##State DB"
      ]
    },
    {
      "cell_type": "code",
      "metadata": {
        "id": "cIiGSVdAVMAF",
        "colab_type": "code",
        "colab": {}
      },
      "source": [
        "df_dep_base = df_rpgh4[df_rpgh4['Divison administrative'].str[0:4] == 'DEP:'].copy()"
      ],
      "execution_count": 0,
      "outputs": []
    },
    {
      "cell_type": "code",
      "metadata": {
        "id": "xsVd792NV5MM",
        "colab_type": "code",
        "colab": {}
      },
      "source": [
        "df_dep_base=df_dep_base.reset_index()"
      ],
      "execution_count": 0,
      "outputs": []
    },
    {
      "cell_type": "code",
      "metadata": {
        "id": "Q8ZZD-TNV_Ib",
        "colab_type": "code",
        "colab": {}
      },
      "source": [
        "df_dep_base['Departement'] = df_dep_base.apply(lambda x: x['Divison administrative'][5:], axis=1)"
      ],
      "execution_count": 0,
      "outputs": []
    },
    {
      "cell_type": "code",
      "metadata": {
        "id": "oH3YqW2_Wr3t",
        "colab_type": "code",
        "colab": {}
      },
      "source": [
        "df_dep=df_dep_base.sort_values('Departement')"
      ],
      "execution_count": 0,
      "outputs": []
    },
    {
      "cell_type": "code",
      "metadata": {
        "id": "sfKCMW-9XEcr",
        "colab_type": "code",
        "colab": {}
      },
      "source": [
        "df_dep = df_dep[['Departement','Total','Masculin','Feminin']]"
      ],
      "execution_count": 0,
      "outputs": []
    },
    {
      "cell_type": "markdown",
      "metadata": {
        "id": "99Z9fXCkZ3yq",
        "colab_type": "text"
      },
      "source": [
        "### get localisation from geocoder"
      ]
    },
    {
      "cell_type": "code",
      "metadata": {
        "id": "iAo9JCuEd7xS",
        "colab_type": "code",
        "colab": {}
      },
      "source": [
        "def get_coor(x):\n",
        "  g=geocoder.geonames(x['Departement']+' Benin',key='5danalfaro')\n",
        "  return [g.lat,g.lng]"
      ],
      "execution_count": 0,
      "outputs": []
    },
    {
      "cell_type": "code",
      "metadata": {
        "id": "pvHHzpoddcoj",
        "colab_type": "code",
        "colab": {}
      },
      "source": [
        "df_dep['Coordinates'] = df_dep.apply(lambda x: get_coor(x),axis=1)"
      ],
      "execution_count": 0,
      "outputs": []
    },
    {
      "cell_type": "code",
      "metadata": {
        "id": "yz_yRRpEeeAi",
        "colab_type": "code",
        "colab": {}
      },
      "source": [
        "df_dep['Latitude'] = df_dep.apply(lambda x: x['Coordinates'][0],axis=1)"
      ],
      "execution_count": 0,
      "outputs": []
    },
    {
      "cell_type": "code",
      "metadata": {
        "id": "GnYy8J4jekv7",
        "colab_type": "code",
        "colab": {}
      },
      "source": [
        "df_dep['Longitude'] = df_dep.apply(lambda x: x['Coordinates'][1],axis=1)"
      ],
      "execution_count": 0,
      "outputs": []
    },
    {
      "cell_type": "code",
      "metadata": {
        "id": "qb9JrbCUgiqq",
        "colab_type": "code",
        "colab": {}
      },
      "source": [
        "df_dep=df_dep[['Departement','Latitude','Longitude','Total']]"
      ],
      "execution_count": 0,
      "outputs": []
    },
    {
      "cell_type": "code",
      "metadata": {
        "id": "GEN_-sRRg93r",
        "colab_type": "code",
        "colab": {}
      },
      "source": [
        "df_dep.columns = ['Name','Latitude','Longitude','Population']"
      ],
      "execution_count": 0,
      "outputs": []
    },
    {
      "cell_type": "markdown",
      "metadata": {
        "id": "1pEkDh9Ef9X0",
        "colab_type": "text"
      },
      "source": [
        "Check if everything is okay, exported to csv and uploaded to google mymaps"
      ]
    },
    {
      "cell_type": "code",
      "metadata": {
        "id": "izoBpzY1epjN",
        "colab_type": "code",
        "colab": {}
      },
      "source": [
        "df_dep.to_csv('dep.csv')"
      ],
      "execution_count": 0,
      "outputs": []
    },
    {
      "cell_type": "markdown",
      "metadata": {
        "id": "NNAu43dLgDZD",
        "colab_type": "text"
      },
      "source": [
        "https://drive.google.com/open?id=1yJeiKBrO8j9GE10wYyRmjnQqxufG-YT0&usp=sharing all alright"
      ]
    },
    {
      "cell_type": "markdown",
      "metadata": {
        "id": "h8BaxT51mBI3",
        "colab_type": "text"
      },
      "source": [
        "## COUNTY DB"
      ]
    },
    {
      "cell_type": "code",
      "metadata": {
        "colab_type": "code",
        "id": "9KPTp0K2pPpD",
        "colab": {}
      },
      "source": [
        "df_county_base = df_rpgh4[df_rpgh4['Divison administrative'].str[0:4] == 'COM:'].copy()"
      ],
      "execution_count": 0,
      "outputs": []
    },
    {
      "cell_type": "code",
      "metadata": {
        "colab_type": "code",
        "id": "UWrc2kazpPpH",
        "colab": {}
      },
      "source": [
        "df_county_base=df_county_base.reset_index()"
      ],
      "execution_count": 0,
      "outputs": []
    },
    {
      "cell_type": "code",
      "metadata": {
        "id": "9gMAp4jMqReM",
        "colab_type": "code",
        "colab": {}
      },
      "source": [
        "def getdep(x):\n",
        "  l_dep_in = df_dep_base['index'].to_list()\n",
        "  row = x['index']\n",
        "  for i,index in enumerate(l_dep_in):\n",
        "    if i+1< len(l_dep_in):\n",
        "      if ((index < row) and (row<l_dep_in[i+1])):\n",
        "        return df_dep_base[df_dep_base['index']==index]['Departement'].values[0]\n",
        "    else:\n",
        "      if(index < row):\n",
        "        return df_dep_base[df_dep_base['index']==index]['Departement'].values[0]"
      ],
      "execution_count": 0,
      "outputs": []
    },
    {
      "cell_type": "code",
      "metadata": {
        "colab_type": "code",
        "id": "IPDLXQEBpPpK",
        "colab": {}
      },
      "source": [
        "df_county_base['Departement'] = df_county_base.apply(lambda x: getdep(x), axis=1)"
      ],
      "execution_count": 0,
      "outputs": []
    },
    {
      "cell_type": "code",
      "metadata": {
        "id": "6lzqECimve2G",
        "colab_type": "code",
        "colab": {}
      },
      "source": [
        "df_county_base['Name'] = df_county_base.apply(lambda x: x['Divison administrative'][5:], axis=1)"
      ],
      "execution_count": 0,
      "outputs": []
    },
    {
      "cell_type": "code",
      "metadata": {
        "colab_type": "code",
        "id": "j-_ihVMbpPpL",
        "colab": {}
      },
      "source": [
        "df_county=df_county_base.sort_values(by=['Departement','Name'])"
      ],
      "execution_count": 0,
      "outputs": []
    },
    {
      "cell_type": "code",
      "metadata": {
        "colab_type": "code",
        "id": "L19tW31GpPpO",
        "colab": {}
      },
      "source": [
        "df_county = df_county[['Name','Departement','Total']]"
      ],
      "execution_count": 0,
      "outputs": []
    },
    {
      "cell_type": "markdown",
      "metadata": {
        "id": "8pfRokQfwPJN",
        "colab_type": "text"
      },
      "source": [
        "### get localisation from geocoder"
      ]
    },
    {
      "cell_type": "code",
      "metadata": {
        "colab_type": "code",
        "id": "B9-lP762wVQJ",
        "colab": {}
      },
      "source": [
        "def get_coor_county(x):\n",
        "  g=geocoder.geonames(x['Name']+' '+x['Departement']+' Benin',key='5danalfaro')\n",
        "  return [g.lat,g.lng]"
      ],
      "execution_count": 0,
      "outputs": []
    },
    {
      "cell_type": "code",
      "metadata": {
        "colab_type": "code",
        "id": "Gi7_NMQywVQP",
        "colab": {}
      },
      "source": [
        "df_county['Coordinates'] = df_county.apply(lambda x: get_coor_county(x),axis=1)"
      ],
      "execution_count": 0,
      "outputs": []
    },
    {
      "cell_type": "code",
      "metadata": {
        "colab_type": "code",
        "id": "_5K5BGvDwVQR",
        "colab": {}
      },
      "source": [
        "df_county['Latitude'] = df_county.apply(lambda x: x['Coordinates'][0],axis=1)"
      ],
      "execution_count": 0,
      "outputs": []
    },
    {
      "cell_type": "code",
      "metadata": {
        "colab_type": "code",
        "id": "Pn6_1EIbwVQU",
        "colab": {}
      },
      "source": [
        "df_county['Longitude'] = df_county.apply(lambda x: x['Coordinates'][1],axis=1)"
      ],
      "execution_count": 0,
      "outputs": []
    },
    {
      "cell_type": "code",
      "metadata": {
        "colab_type": "code",
        "id": "txN40jfdwVQW",
        "colab": {}
      },
      "source": [
        "df_county=df_county[['Name','Departement','Latitude','Longitude','Total']]"
      ],
      "execution_count": 0,
      "outputs": []
    },
    {
      "cell_type": "code",
      "metadata": {
        "colab_type": "code",
        "id": "a4QqtNPzwVQY",
        "colab": {}
      },
      "source": [
        "df_county.columns = ['Name','State','Latitude','Longitude','Population']"
      ],
      "execution_count": 0,
      "outputs": []
    },
    {
      "cell_type": "markdown",
      "metadata": {
        "colab_type": "text",
        "id": "7hNKLaj6wVQa"
      },
      "source": [
        "Check if everything is okay, exported to csv and uploaded to google mymaps"
      ]
    },
    {
      "cell_type": "code",
      "metadata": {
        "colab_type": "code",
        "id": "0tUzIvrewVQb",
        "colab": {}
      },
      "source": [
        "df_county.to_csv('dis.csv')"
      ],
      "execution_count": 0,
      "outputs": []
    },
    {
      "cell_type": "markdown",
      "metadata": {
        "id": "BpIKLh9pkLbw",
        "colab_type": "text"
      },
      "source": [
        "https://drive.google.com/open?id=1yJeiKBrO8j9GE10wYyRmjnQqxufG-YT0&usp=sharing seems all right"
      ]
    },
    {
      "cell_type": "markdown",
      "metadata": {
        "colab_type": "text",
        "id": "W_u29xyQMT1_"
      },
      "source": [
        "## DISTRICT DB"
      ]
    },
    {
      "cell_type": "code",
      "metadata": {
        "colab_type": "code",
        "id": "Abv3QqW0MT2C",
        "colab": {}
      },
      "source": [
        "df_dis = df_rpgh4[df_rpgh4['Divison administrative'].str[0:7] == 'ARROND:'].copy()"
      ],
      "execution_count": 0,
      "outputs": []
    },
    {
      "cell_type": "code",
      "metadata": {
        "colab_type": "code",
        "id": "MBIbGl6sMT2E",
        "colab": {}
      },
      "source": [
        "df_dis=df_dis.reset_index()"
      ],
      "execution_count": 0,
      "outputs": []
    },
    {
      "cell_type": "code",
      "metadata": {
        "colab_type": "code",
        "id": "RhA3LcApMT2G",
        "colab": {}
      },
      "source": [
        "def getcounty(x):\n",
        "  l_county_in = df_county_base['index'].to_list()\n",
        "  row = x['index']\n",
        "  for i,index in enumerate(l_county_in):\n",
        "    if i+1< len(l_county_in):\n",
        "      if ((index < row) and (row<l_county_in[i+1])):\n",
        "        return df_county_base[df_county_base['index']==index]['Name'].values[0]\n",
        "    else:\n",
        "      if(index < row):\n",
        "        return df_county_base[df_county_base['index']==index]['Name'].values[0]"
      ],
      "execution_count": 0,
      "outputs": []
    },
    {
      "cell_type": "code",
      "metadata": {
        "colab_type": "code",
        "id": "ZFLJCzawMT2J",
        "colab": {}
      },
      "source": [
        "df_dis['Commune'] = df_dis.apply(lambda x: getcounty(x), axis=1)"
      ],
      "execution_count": 0,
      "outputs": []
    },
    {
      "cell_type": "code",
      "metadata": {
        "id": "b-mdgF2XUNk-",
        "colab_type": "code",
        "colab": {}
      },
      "source": [
        "df_dis['Departement'] = df_dis.apply(lambda x: getdep(x), axis=1)"
      ],
      "execution_count": 0,
      "outputs": []
    },
    {
      "cell_type": "code",
      "metadata": {
        "colab_type": "code",
        "id": "0oNLmrvHMT2K",
        "colab": {}
      },
      "source": [
        "df_dis['Name'] = df_dis.apply(lambda x: x['Divison administrative'][8:], axis=1)"
      ],
      "execution_count": 0,
      "outputs": []
    },
    {
      "cell_type": "code",
      "metadata": {
        "colab_type": "code",
        "id": "64CvhoavMT2M",
        "colab": {}
      },
      "source": [
        "df_dis=df_dis.sort_values(by=['Departement','Commune','Name'])"
      ],
      "execution_count": 0,
      "outputs": []
    },
    {
      "cell_type": "code",
      "metadata": {
        "colab_type": "code",
        "id": "w7clwwhgMT2O",
        "colab": {}
      },
      "source": [
        "df_dis = df_dis[['Name','Departement','Commune','Total']]"
      ],
      "execution_count": 0,
      "outputs": []
    },
    {
      "cell_type": "markdown",
      "metadata": {
        "colab_type": "text",
        "id": "5xlEC_UyMT2Q"
      },
      "source": [
        "### get localisation from geocoder"
      ]
    },
    {
      "cell_type": "code",
      "metadata": {
        "colab_type": "code",
        "id": "gL9sGeh0MT2R",
        "colab": {}
      },
      "source": [
        "def get_coor_dis(x):\n",
        "  g=geocoder.geonames(x['Name']+' '+x['Commune']+' '+x['Departement']+' Benin',key='5danalfaro')\n",
        "  return [g.lat,g.lng]"
      ],
      "execution_count": 0,
      "outputs": []
    },
    {
      "cell_type": "code",
      "metadata": {
        "colab_type": "code",
        "id": "tN6OkpuYMT2S",
        "colab": {}
      },
      "source": [
        "df_dis['Coordinates'] = df_dis.apply(lambda x: get_coor_dis(x),axis=1)"
      ],
      "execution_count": 0,
      "outputs": []
    },
    {
      "cell_type": "code",
      "metadata": {
        "colab_type": "code",
        "id": "lFT4Jrb6MT2W",
        "colab": {}
      },
      "source": [
        "df_dis['Latitude'] = df_dis.apply(lambda x: x['Coordinates'][0],axis=1)"
      ],
      "execution_count": 0,
      "outputs": []
    },
    {
      "cell_type": "code",
      "metadata": {
        "colab_type": "code",
        "id": "Aj6PxvAqMT2Z",
        "colab": {}
      },
      "source": [
        "df_dis['Longitude'] = df_dis.apply(lambda x: x['Coordinates'][1],axis=1)"
      ],
      "execution_count": 0,
      "outputs": []
    },
    {
      "cell_type": "code",
      "metadata": {
        "colab_type": "code",
        "id": "V3KslbaeMT2c",
        "colab": {}
      },
      "source": [
        "df_dis=df_dis[['Name','Departement','Commune','Latitude','Longitude','Total']]"
      ],
      "execution_count": 0,
      "outputs": []
    },
    {
      "cell_type": "code",
      "metadata": {
        "colab_type": "code",
        "id": "5vtEy_E8MT2e",
        "colab": {}
      },
      "source": [
        "df_dis.columns = ['Name','State','County','Latitude','Longitude','Population']"
      ],
      "execution_count": 0,
      "outputs": []
    },
    {
      "cell_type": "markdown",
      "metadata": {
        "colab_type": "text",
        "id": "o0Hmj6bbMT2f"
      },
      "source": [
        "Check if everything is okay, exported to csv and uploaded to google mymaps"
      ]
    },
    {
      "cell_type": "code",
      "metadata": {
        "colab_type": "code",
        "id": "9oGduX9ZMT2g",
        "colab": {}
      },
      "source": [
        "df_dis.to_csv('dis.csv')"
      ],
      "execution_count": 0,
      "outputs": []
    },
    {
      "cell_type": "markdown",
      "metadata": {
        "colab_type": "text",
        "id": "qOLi-mgMMT2h"
      },
      "source": [
        "https://drive.google.com/open?id=1yJeiKBrO8j9GE10wYyRmjnQqxufG-YT0&usp=sharing some mistakes in locating the districts"
      ]
    },
    {
      "cell_type": "markdown",
      "metadata": {
        "id": "bipA0Hn8z1Dn",
        "colab_type": "text"
      },
      "source": [
        "### UPLOAD TO FIREBASE"
      ]
    },
    {
      "cell_type": "code",
      "metadata": {
        "id": "DoRcoqKJnr6J",
        "colab_type": "code",
        "colab": {}
      },
      "source": [
        "#STATE\n",
        "#Convert states df to a dictionary\n",
        "states = df_dep.to_dict('index')\n",
        "states_dict = [{k: v} for k, v in states.items()] \n",
        "states_l_dict = []\n",
        "for i,sta in enumerate(states_dict):\n",
        "  id_state=list(sta.keys())[0]\n",
        "  state=sta[id_state]['Name']\n",
        "  new_data={'Name':state,\n",
        "            'Coordinates':{\n",
        "                'Longitude':sta[id_state]['Longitude'],\n",
        "                'Latitude':sta[id_state]['Latitude']},\n",
        "            'Population':sta[id_state]['Population']}\n",
        "  states_l_dict.append(new_data)\n",
        "  \n",
        "  doc_state = db.collection(u'Locations').document(u'Benin').collection(u'States').add(new_data)[1]\n",
        "  if i ==1:\n",
        "    break"
      ],
      "execution_count": 0,
      "outputs": []
    },
    {
      "cell_type": "code",
      "metadata": {
        "id": "424yujA-oeis",
        "colab_type": "code",
        "outputId": "ffb49a56-57a2-45ee-c22a-de3b74296b50",
        "colab": {
          "base_uri": "https://localhost:8080/",
          "height": 86
        }
      },
      "source": [
        "doc_state.update({'id':doc_state.id})"
      ],
      "execution_count": 0,
      "outputs": [
        {
          "output_type": "execute_result",
          "data": {
            "text/plain": [
              "update_time {\n",
              "  seconds: 1568999130\n",
              "  nanos: 556021000\n",
              "}"
            ]
          },
          "metadata": {
            "tags": []
          },
          "execution_count": 81
        }
      ]
    },
    {
      "cell_type": "code",
      "metadata": {
        "id": "0iPuFBfHn6Qo",
        "colab_type": "code",
        "outputId": "91945831-5452-450b-9588-225d308ddf93",
        "colab": {
          "base_uri": "https://localhost:8080/",
          "height": 165
        }
      },
      "source": [
        "doc_state.get().add({'id':doc_state.id})"
      ],
      "execution_count": 0,
      "outputs": [
        {
          "output_type": "error",
          "ename": "AttributeError",
          "evalue": "ignored",
          "traceback": [
            "\u001b[0;31m---------------------------------------------------------------------------\u001b[0m",
            "\u001b[0;31mAttributeError\u001b[0m                            Traceback (most recent call last)",
            "\u001b[0;32m<ipython-input-79-b9220da92e54>\u001b[0m in \u001b[0;36m<module>\u001b[0;34m()\u001b[0m\n\u001b[0;32m----> 1\u001b[0;31m \u001b[0mdoc_state\u001b[0m\u001b[0;34m.\u001b[0m\u001b[0mget\u001b[0m\u001b[0;34m(\u001b[0m\u001b[0;34m)\u001b[0m\u001b[0;34m.\u001b[0m\u001b[0madd\u001b[0m\u001b[0;34m(\u001b[0m\u001b[0;34m{\u001b[0m\u001b[0;34m'id'\u001b[0m\u001b[0;34m:\u001b[0m\u001b[0mdoc_state\u001b[0m\u001b[0;34m.\u001b[0m\u001b[0mid\u001b[0m\u001b[0;34m}\u001b[0m\u001b[0;34m)\u001b[0m\u001b[0;34m\u001b[0m\u001b[0;34m\u001b[0m\u001b[0m\n\u001b[0m",
            "\u001b[0;31mAttributeError\u001b[0m: 'DocumentSnapshot' object has no attribute 'add'"
          ]
        }
      ]
    },
    {
      "cell_type": "code",
      "metadata": {
        "id": "5li8AbKBshFo",
        "colab_type": "code",
        "outputId": "87e208c5-086f-439c-f269-07ebdb40e6ed",
        "colab": {
          "base_uri": "https://localhost:8080/",
          "height": 86
        }
      },
      "source": [
        "new_data"
      ],
      "execution_count": 0,
      "outputs": [
        {
          "output_type": "execute_result",
          "data": {
            "text/plain": [
              "{'Coordinates': {'Latitude': '10.30416', 'Longitude': '1.37962'},\n",
              " 'Name': 'ATACORA',\n",
              " 'Population': '772262',\n",
              " 'id': 'hey'}"
            ]
          },
          "metadata": {
            "tags": []
          },
          "execution_count": 91
        }
      ]
    },
    {
      "cell_type": "code",
      "metadata": {
        "id": "53Ko72Cox1ia",
        "colab_type": "code",
        "colab": {}
      },
      "source": [
        "#STATE\n",
        "#Convert states df to a dictionary\n",
        "states = df_dep.to_dict('index')\n",
        "states_dict = [{k: v} for k, v in states.items()] \n",
        "states_l_dict = []\n",
        "districts_l_dict = []\n",
        "countys_l_dict = []\n",
        "for sta in states_dict:\n",
        "  id_state=list(sta.keys())[0]\n",
        "  state=sta[id_state]['Name']\n",
        "  new_data={'name':state,\n",
        "            'coordinates':{\n",
        "                'longitude':sta[id_state]['Longitude'],\n",
        "                'latitude':sta[id_state]['Latitude']},\n",
        "            'population':sta[id_state]['Population']}\n",
        "  \n",
        "  doc_state = db.collection(u'Locations').document(u'Benin').collection(u'States').add(new_data)[1]\n",
        "  state_id = doc_state.id\n",
        "  doc_state.update({'id':state_id})\n",
        "  new_data['id']=state_id\n",
        "  states_l_dict.append(new_data)\n",
        "\n",
        "  \n",
        "  #COUNTY\n",
        "  #get countys of that state\n",
        "  df_county_state = df_county[df_county['State']==state]\n",
        "  #Convert countys df to a dictionary\n",
        "  countys = df_county_state.to_dict('index')\n",
        "  countys_dict = [{k: v} for k, v in countys.items()] \n",
        "  for coun in countys_dict:\n",
        "    id_county=list(coun.keys())[0]\n",
        "    county=coun[id_county]['Name']\n",
        "    new_data={'name':county,\n",
        "              'coordinates':{\n",
        "                  'longitude':coun[id_county]['Longitude'],\n",
        "                  'latitude':coun[id_county]['Latitude']},\n",
        "              'population':coun[id_county]['Population'],\n",
        "              'state':state,\n",
        "              'state_id':state_id}\n",
        "    doc_county = db.collection(u'Locations').document(u'Benin').collection(u'County').add(new_data)[1]\n",
        "    county_id=doc_county.id\n",
        "    doc_county.update({'id':county_id})\n",
        "    new_data['id']=county_id\n",
        "    countys_l_dict.append(new_data)\n",
        "    \n",
        "    #DISTRICT\n",
        "    #get districts of that county\n",
        "    df_districts_county = df_dis[df_dis['County']==county]\n",
        "    #Convert district df to a dictionary\n",
        "    districts = df_districts_county.to_dict('index')\n",
        "    districts_dict = [{k: v} for k, v in districts.items()] \n",
        "    for dis in districts_dict:\n",
        "      id_districts=list(dis.keys())[0]\n",
        "      district = dis[id_districts]['Name']\n",
        "      new_data={'name':district,\n",
        "                'coordinates':{\n",
        "                    'longitude':dis[id_districts]['Longitude'],\n",
        "                    'latitude':dis[id_districts]['Latitude']},\n",
        "                'population':dis[id_districts]['Population'],\n",
        "               'state':state,\n",
        "               'state_id':state_id,\n",
        "               'county':county,\n",
        "               'county_id':county_id}\n",
        "      doc_district = db.collection(u'Locations').document(u'Benin').collection(u'District').add(new_data)[1]\n",
        "      district_id=doc_district.id\n",
        "      doc_county.update({'id':district_id})\n",
        "      new_data['id']=district_id\n",
        "      districts_l_dict.append(new_data)\n",
        "  "
      ],
      "execution_count": 0,
      "outputs": []
    },
    {
      "cell_type": "markdown",
      "metadata": {
        "id": "2578uhpY5sbB",
        "colab_type": "text"
      },
      "source": [
        "## VILLAGES\n",
        "\n",
        "Only Nikki - get villages from work done by FICAI: https://www.google.com/maps/d/edit?mid=1te53KEJYUJ2ulJLsGpa9S15suY1lNPGQ&ll=10.108170603054887%2C2.9732788000000028&z=8"
      ]
    },
    {
      "cell_type": "code",
      "metadata": {
        "id": "wz-sJyZbP0Tr",
        "colab_type": "code",
        "colab": {}
      },
      "source": [
        "import xml.sax, xml.sax.handler\n",
        "import re\n",
        "from zipfile import ZipFile"
      ],
      "execution_count": 0,
      "outputs": []
    },
    {
      "cell_type": "code",
      "metadata": {
        "id": "e_WHVGatP2v1",
        "colab_type": "code",
        "colab": {}
      },
      "source": [
        "filename = 'Poblacion.kmz'\n",
        "\n",
        "kmz = ZipFile(filename, 'r')\n",
        "kml = kmz.open('doc.kml', 'r')"
      ],
      "execution_count": 0,
      "outputs": []
    },
    {
      "cell_type": "code",
      "metadata": {
        "id": "LkMQlzjNP38T",
        "colab_type": "code",
        "colab": {}
      },
      "source": [
        "\n",
        "class PlacemarkHandler(xml.sax.handler.ContentHandler):\n",
        "    def __init__(self):\n",
        "        self.inName = False # handle XML parser events\n",
        "        self.inPlacemark = False\n",
        "        self.mapping = {} \n",
        "        self.buffer = \"\"\n",
        "        self.name_tag = \"\"\n",
        "        \n",
        "    def startElement(self, name, attributes):\n",
        "        if name == \"Placemark\": # on start Placemark tag\n",
        "            self.inPlacemark = True\n",
        "            self.buffer = \"\" \n",
        "        if self.inPlacemark:\n",
        "            if name == \"name\": # on start title tag\n",
        "                self.inName = True # save name text to follow\n",
        "            \n",
        "    def characters(self, data):\n",
        "        if self.inPlacemark: # on text within tag\n",
        "            self.buffer += data # save text if in title\n",
        "            \n",
        "    def endElement(self, name):\n",
        "        self.buffer = self.buffer.strip('\\n\\t')\n",
        "        \n",
        "        if name == \"Placemark\":\n",
        "            self.inPlacemark = False\n",
        "            self.name_tag = \"\" #clear current name\n",
        "        \n",
        "        elif name == \"name\" and self.inPlacemark:\n",
        "            self.inName = False # on end title tag            \n",
        "            self.name_tag = self.buffer.strip()\n",
        "            self.mapping[self.name_tag] = {}\n",
        "        elif self.inPlacemark:\n",
        "            if name in self.mapping[self.name_tag]:\n",
        "                self.mapping[self.name_tag][name] += self.buffer\n",
        "            else:\n",
        "                self.mapping[self.name_tag][name] = self.buffer\n",
        "        self.buffer = \"\""
      ],
      "execution_count": 0,
      "outputs": []
    },
    {
      "cell_type": "code",
      "metadata": {
        "id": "s1mDSxzoP7Yx",
        "colab_type": "code",
        "colab": {}
      },
      "source": [
        "parser = xml.sax.make_parser()\n",
        "handler = PlacemarkHandler()\n",
        "parser.setContentHandler(handler)\n",
        "parser.parse(kml)\n",
        "kmz.close()"
      ],
      "execution_count": 0,
      "outputs": []
    },
    {
      "cell_type": "code",
      "metadata": {
        "id": "AQdpmkT7P9Sz",
        "colab_type": "code",
        "colab": {}
      },
      "source": [
        "def build_table(mapping):\n",
        "    sep = ','\n",
        "        \n",
        "    output = []\n",
        "    shapes = ''\n",
        "    for key in mapping:\n",
        "        coord_str = mapping[key]['coordinates']\n",
        "        coords = re.findall('\\d.*,.*\\d', coord_str )\n",
        "        coord = coords[0].replace(',0',\"\")\n",
        "        coord = coord.split(',')\n",
        "        name = key.split(' - ')\n",
        "        if len(name)==1:\n",
        "          continue\n",
        "        else:\n",
        "          output.append({'Name':name[1],'Arrondissement':name[0],'Longitude':coord[0],'Latitude':coord[1]})\n",
        "    return output"
      ],
      "execution_count": 0,
      "outputs": []
    },
    {
      "cell_type": "code",
      "metadata": {
        "id": "WxA3KXR5QDga",
        "colab_type": "code",
        "colab": {}
      },
      "source": [
        "outstr = build_table(handler.mapping)"
      ],
      "execution_count": 0,
      "outputs": []
    },
    {
      "cell_type": "code",
      "metadata": {
        "id": "U7HxCulFQPTY",
        "colab_type": "code",
        "colab": {}
      },
      "source": [
        "df_villages = pd.DataFrame(outstr)"
      ],
      "execution_count": 0,
      "outputs": []
    },
    {
      "cell_type": "code",
      "metadata": {
        "id": "8rA-rc7IQP9n",
        "colab_type": "code",
        "colab": {}
      },
      "source": [
        "df_villages = df_villages[['Name','Arrondissement','Longitude','Latitude']]"
      ],
      "execution_count": 0,
      "outputs": []
    },
    {
      "cell_type": "code",
      "metadata": {
        "id": "YNMMO8bekGDT",
        "colab_type": "code",
        "colab": {}
      },
      "source": [
        "df_villages['Arrondissement'] = df_villages.apply(lambda x: 'GNONKOUROKALI' \n",
        "                                                  if bool(re.search('gnonkou',x['Arrondissement'].lower()))\n",
        "                                                  else str(x['Arrondissement']).upper(), \n",
        "                                                  axis=1)"
      ],
      "execution_count": 0,
      "outputs": []
    },
    {
      "cell_type": "code",
      "metadata": {
        "id": "1DQZHZamb3iZ",
        "colab_type": "code",
        "colab": {}
      },
      "source": [
        "def cosa(x):\n",
        "  arron = x['Arrondissement']\n",
        "  village = x['Name']\n",
        "  df_arron = df_2009[df_2009['Arrondissement']==arron]\n",
        "  \n",
        "  choices = df_arron['Localité'].to_list()\n",
        "  \n",
        "  results = process.extract(village, choices, limit=5)\n",
        "  \n",
        "  if len(results)>0:\n",
        "  \n",
        "    result = results[0][0]\n",
        "    value = results[0][1]\n",
        "    if value <85:\n",
        "      print(village)\n",
        "      print(results)\n",
        "      print('FINI\\n\\n')\n",
        "\n",
        "    population = df_2009[df_2009['Localité']==result].values[0]\n",
        "    \n",
        "  else:\n",
        "    population = None\n",
        "    print(village)\n",
        "    print('CACA\\n')\n",
        "    \n",
        "  return population\n",
        "    \n",
        "\n",
        "    \n",
        "    "
      ],
      "execution_count": 0,
      "outputs": []
    },
    {
      "cell_type": "code",
      "metadata": {
        "id": "l_Y0lVVIUS6Q",
        "colab_type": "code",
        "outputId": "d10a6281-badc-4317-a1e6-d77ad7ea974d",
        "colab": {
          "base_uri": "https://localhost:8080/",
          "height": 1000
        }
      },
      "source": [
        "df_villages['Population'] = df_villages.apply(lambda x: cosa(x),axis=1)"
      ],
      "execution_count": 0,
      "outputs": [
        {
          "output_type": "stream",
          "text": [
            "Gneltoko\n",
            "[('Bokon', 60), ('Gnonho', 57), ('Gnonkourokali', 56), ('Gnonkourokali', 56), ('Gnonkourokali', 56)]\n",
            "FINI\n",
            "\n",
            "\n",
            "Gourou Pibou\n",
            "[('Dakou Gourou', 71), ('Koro', 68), ('Guinrou', 64), ('Guinrou', 64), ('Guinrou', 64)]\n",
            "FINI\n",
            "\n",
            "\n",
            "Weketere\n",
            "[('Wèkètèrè', 67), ('Gotel centre', 50), ('Gnel Kéridji', 32), ('Gotel Peuhl', 32), ('Kongaré', 29)]\n",
            "FINI\n",
            "\n",
            "\n",
            "Ouromonsi Peulh\n",
            "[('Ouroumon', 79), ('Ouroumon', 79), ('Ouroumon', 79), ('Bouérou', 60), ('Ouénou', 54)]\n",
            "FINI\n",
            "\n",
            "\n",
            "GnelKiradje\n",
            "[('Gnel Siradjè', 82), ('Gnel Kéridji', 73), ('Gnel Bodédji', 55), ('Kibia', 54), ('Gnel Sanna', 48)]\n",
            "FINI\n",
            "\n",
            "\n",
            "Ganrou Peulh\n",
            "[('Ganrou Bariba', 64), ('Ganrou Bariba', 64), ('Ganrou Bariba', 64), ('Ganrou Gando', 64), ('Gah Sonna Peuhl', 59)]\n",
            "FINI\n",
            "\n",
            "\n",
            "Bantere\n",
            "[('Bantéré', 83), ('Bantéré', 83), ('Dantcha', 43), ('Gnannoubéré', 38), ('Gnannoubéré', 38)]\n",
            "FINI\n",
            "\n",
            "\n",
            "Ganchon\n",
            "[('Ganson', 77), ('Ganson', 77), ('Ganson', 77), ('Gah Sonna', 62), ('Gando Pénéré', 62)]\n",
            "FINI\n",
            "\n",
            "\n",
            "Gbarire\n",
            "[('Gbabiré', 77), ('Gbabiré', 77), ('Gbabiré Zongo', 64), ('Boa', 60), ('Quartier', 53)]\n",
            "FINI\n",
            "\n",
            "\n",
            "Bakedje\n",
            "[('Barikèdjè', 71), ('Gnel Anakèdjè', 56), ('Bèlè', 45), ('Sako', 45), ('Babi', 45)]\n",
            "FINI\n",
            "\n",
            "\n",
            "Boukanere\n",
            "[('Boucanèrè', 75), ('Boucanèrè', 75), ('Boucanèrè', 75), ('Boucanèrè Peuhl', 64), ('Boudal', 60)]\n",
            "FINI\n",
            "\n",
            "\n",
            "Kparisserou\n",
            "[('Kparissérou Bariba', 82), ('Kparissérou Bariba', 82), ('Kparissérou Gando', 74), ('Kparissérou Peuhl', 74), ('Yassinrou', 60)]\n",
            "FINI\n",
            "\n",
            "\n",
            "Belle\n",
            "[('Bèlè', 57), ('Gnel Pèdèlè', 46), ('Boudal', 36), ('Boucanèrè Peuhl', 36), ('Djibril Gbérou Kpanin', 36)]\n",
            "FINI\n",
            "\n",
            "\n",
            "Donkparawi\n",
            "[('Domplawi', 67), ('Domplawi', 67), ('Domplawi', 67), ('Kparissérou Gando', 60), ('Tèpa', 60)]\n",
            "FINI\n",
            "\n",
            "\n",
            "Gbaoussi Kpaa\n",
            "[('Baoussi 1', 73), ('Baoussi 1', 73), ('Baoussi 1', 73), ('Baoussi 1', 73), ('Baoussi 2', 73)]\n",
            "FINI\n",
            "\n",
            "\n",
            "Gboussi\n",
            "[('Baoussi 1', 75), ('Baoussi 1', 75), ('Baoussi 1', 75), ('Baoussi 1', 75), ('Baoussi 2', 75)]\n",
            "FINI\n",
            "\n",
            "\n"
          ],
          "name": "stdout"
        }
      ]
    },
    {
      "cell_type": "code",
      "metadata": {
        "id": "9PvWylExYvBd",
        "colab_type": "code",
        "outputId": "3ef8c872-f49a-4125-b680-f1c9c06c7266",
        "colab": {
          "base_uri": "https://localhost:8080/",
          "height": 52
        }
      },
      "source": [
        "village = 'Gourou Pibou'\n",
        "arron = df_villages[df_villages['Name']==village]['Arrondissement'].values[0]\n",
        "df_arron = df_2009[df_2009['Arrondissement']==arron]\n",
        "\n",
        "choices1 = df_2009['Village'].to_list()\n",
        "choices2 = df_2009['Localité'].to_list()\n",
        "\n",
        "results1=process.extract(village, choices1, limit=5)\n",
        "results2=process.extract(village, choices2, limit=5)\n",
        "print(results1)\n",
        "print(results2)"
      ],
      "execution_count": 0,
      "outputs": [
        {
          "output_type": "stream",
          "text": [
            "[('Gourou', 90), ('Gourou', 90), ('Gourou', 90), ('Gourou', 90), ('Gourou', 90)]\n",
            "[('Gourou', 90), ('Gourou', 90), ('Gourou', 90), ('Gourou', 90), ('Gourou', 90)]\n"
          ],
          "name": "stdout"
        }
      ]
    },
    {
      "cell_type": "code",
      "metadata": {
        "id": "xho_LwcFm7rD",
        "colab_type": "code",
        "outputId": "72b200c8-5d68-4c17-928a-193e55aae792",
        "colab": {
          "base_uri": "https://localhost:8080/",
          "height": 1000
        }
      },
      "source": [
        "df_arron"
      ],
      "execution_count": 0,
      "outputs": [
        {
          "output_type": "execute_result",
          "data": {
            "text/html": [
              "<div>\n",
              "<style scoped>\n",
              "    .dataframe tbody tr th:only-of-type {\n",
              "        vertical-align: middle;\n",
              "    }\n",
              "\n",
              "    .dataframe tbody tr th {\n",
              "        vertical-align: top;\n",
              "    }\n",
              "\n",
              "    .dataframe thead th {\n",
              "        text-align: right;\n",
              "    }\n",
              "</style>\n",
              "<table border=\"1\" class=\"dataframe\">\n",
              "  <thead>\n",
              "    <tr style=\"text-align: right;\">\n",
              "      <th></th>\n",
              "      <th>Arrondissement</th>\n",
              "      <th>Village</th>\n",
              "      <th>Localité</th>\n",
              "      <th>Population</th>\n",
              "      <th>Type d'ouvrage</th>\n",
              "      <th>Etat</th>\n",
              "      <th>Longitude</th>\n",
              "      <th>Latitude</th>\n",
              "      <th>Domaine d'installation</th>\n",
              "      <th>Latitude_decimals</th>\n",
              "      <th>Longitude_decimals</th>\n",
              "    </tr>\n",
              "  </thead>\n",
              "  <tbody>\n",
              "    <tr>\n",
              "      <th>57</th>\n",
              "      <td>GNONKOUROKALI</td>\n",
              "      <td>Gbari</td>\n",
              "      <td>Angaradébou Peuhl</td>\n",
              "      <td>140</td>\n",
              "      <td>/</td>\n",
              "      <td>/</td>\n",
              "      <td>/</td>\n",
              "      <td>/</td>\n",
              "      <td>/</td>\n",
              "      <td>NaN</td>\n",
              "      <td>NaN</td>\n",
              "    </tr>\n",
              "    <tr>\n",
              "      <th>58</th>\n",
              "      <td>GNONKOUROKALI</td>\n",
              "      <td>Gbari</td>\n",
              "      <td>Dassarou Peuhl</td>\n",
              "      <td>650</td>\n",
              "      <td>FPM</td>\n",
              "      <td>Fonctionnel</td>\n",
              "      <td>02°55'07,8\"E</td>\n",
              "      <td>10°01'31,2\"N</td>\n",
              "      <td>Domaine public</td>\n",
              "      <td>10.025333</td>\n",
              "      <td>2.918833</td>\n",
              "    </tr>\n",
              "    <tr>\n",
              "      <th>59</th>\n",
              "      <td>GNONKOUROKALI</td>\n",
              "      <td>Gbari</td>\n",
              "      <td>Dassarou Peuhl</td>\n",
              "      <td>650</td>\n",
              "      <td>FPM</td>\n",
              "      <td>Fonctionnel</td>\n",
              "      <td>02°55'40,1\"E</td>\n",
              "      <td>10°01'52,5\"N</td>\n",
              "      <td>Domaine public</td>\n",
              "      <td>10.031250</td>\n",
              "      <td>2.927806</td>\n",
              "    </tr>\n",
              "    <tr>\n",
              "      <th>60</th>\n",
              "      <td>GNONKOUROKALI</td>\n",
              "      <td>Gbari</td>\n",
              "      <td>Gah Gosso</td>\n",
              "      <td>450</td>\n",
              "      <td>/</td>\n",
              "      <td>/</td>\n",
              "      <td>/</td>\n",
              "      <td>/</td>\n",
              "      <td>/</td>\n",
              "      <td>NaN</td>\n",
              "      <td>NaN</td>\n",
              "    </tr>\n",
              "    <tr>\n",
              "      <th>61</th>\n",
              "      <td>GNONKOUROKALI</td>\n",
              "      <td>Gbari</td>\n",
              "      <td>Gbari</td>\n",
              "      <td>1132</td>\n",
              "      <td>FPM</td>\n",
              "      <td>Fonctionnel</td>\n",
              "      <td>02°55'51,9\"E</td>\n",
              "      <td>10°00'22,0\"N</td>\n",
              "      <td>Domaine public</td>\n",
              "      <td>10.006111</td>\n",
              "      <td>2.931083</td>\n",
              "    </tr>\n",
              "    <tr>\n",
              "      <th>62</th>\n",
              "      <td>GNONKOUROKALI</td>\n",
              "      <td>Gbari</td>\n",
              "      <td>Gbari</td>\n",
              "      <td>1132</td>\n",
              "      <td>FPM</td>\n",
              "      <td>Fonctionnel</td>\n",
              "      <td>02°55'43,7\"E</td>\n",
              "      <td>10°00'24,5\"N</td>\n",
              "      <td>Domaine public</td>\n",
              "      <td>10.006806</td>\n",
              "      <td>2.928806</td>\n",
              "    </tr>\n",
              "    <tr>\n",
              "      <th>63</th>\n",
              "      <td>GNONKOUROKALI</td>\n",
              "      <td>Gbari</td>\n",
              "      <td>Gbari</td>\n",
              "      <td>1132</td>\n",
              "      <td>PM</td>\n",
              "      <td>Abandonné</td>\n",
              "      <td>02°55'49,2\"E</td>\n",
              "      <td>10°00'15,8\"N</td>\n",
              "      <td>Domaine public</td>\n",
              "      <td>10.004389</td>\n",
              "      <td>2.930333</td>\n",
              "    </tr>\n",
              "    <tr>\n",
              "      <th>64</th>\n",
              "      <td>GNONKOUROKALI</td>\n",
              "      <td>Gbari</td>\n",
              "      <td>Gbari</td>\n",
              "      <td>1132</td>\n",
              "      <td>PM</td>\n",
              "      <td>Non fonctionnel</td>\n",
              "      <td>02°55'50,4\"E</td>\n",
              "      <td>10°00'16,6\"N</td>\n",
              "      <td>Domaine public</td>\n",
              "      <td>10.004611</td>\n",
              "      <td>2.930667</td>\n",
              "    </tr>\n",
              "    <tr>\n",
              "      <th>65</th>\n",
              "      <td>GNONKOUROKALI</td>\n",
              "      <td>Gbari</td>\n",
              "      <td>Gbari</td>\n",
              "      <td>1132</td>\n",
              "      <td>PM</td>\n",
              "      <td>Fonctionnel</td>\n",
              "      <td>02°55'54,2\"E</td>\n",
              "      <td>10°00'17,0\"N</td>\n",
              "      <td>Domaine public</td>\n",
              "      <td>10.004722</td>\n",
              "      <td>2.931722</td>\n",
              "    </tr>\n",
              "    <tr>\n",
              "      <th>66</th>\n",
              "      <td>GNONKOUROKALI</td>\n",
              "      <td>Gbari</td>\n",
              "      <td>Gbari</td>\n",
              "      <td>1132</td>\n",
              "      <td>PM</td>\n",
              "      <td>Fonctionnel</td>\n",
              "      <td>02°55'21,5\"E</td>\n",
              "      <td>10°00'03,9\"N</td>\n",
              "      <td>Domaine public</td>\n",
              "      <td>10.001083</td>\n",
              "      <td>2.922639</td>\n",
              "    </tr>\n",
              "    <tr>\n",
              "      <th>67</th>\n",
              "      <td>GNONKOUROKALI</td>\n",
              "      <td>Gbari</td>\n",
              "      <td>Gbari</td>\n",
              "      <td></td>\n",
              "      <td>PM</td>\n",
              "      <td>Fonctionnel</td>\n",
              "      <td>02°55'32,8\"E</td>\n",
              "      <td>10°00'38,6\"N</td>\n",
              "      <td>Domaine public</td>\n",
              "      <td>10.010722</td>\n",
              "      <td>2.925778</td>\n",
              "    </tr>\n",
              "    <tr>\n",
              "      <th>68</th>\n",
              "      <td>GNONKOUROKALI</td>\n",
              "      <td>Gbari</td>\n",
              "      <td>Gnonho</td>\n",
              "      <td>260</td>\n",
              "      <td>FPM</td>\n",
              "      <td>Fonctionnel</td>\n",
              "      <td>02°56'59,0\"E</td>\n",
              "      <td>10°01'41,2\"N</td>\n",
              "      <td>Domaine public</td>\n",
              "      <td>10.028111</td>\n",
              "      <td>2.949722</td>\n",
              "    </tr>\n",
              "    <tr>\n",
              "      <th>69</th>\n",
              "      <td>GNONKOUROKALI</td>\n",
              "      <td>Gbari</td>\n",
              "      <td>Guéroga</td>\n",
              "      <td>300</td>\n",
              "      <td>FPM</td>\n",
              "      <td>Fonctionnel</td>\n",
              "      <td>02°56'51,4\"E</td>\n",
              "      <td>10°00'04,4\"N</td>\n",
              "      <td>Domaine public</td>\n",
              "      <td>10.001222</td>\n",
              "      <td>2.947611</td>\n",
              "    </tr>\n",
              "    <tr>\n",
              "      <th>70</th>\n",
              "      <td>GNONKOUROKALI</td>\n",
              "      <td>Gnonkourokali</td>\n",
              "      <td>Bacoubé N'Kparou</td>\n",
              "      <td>100</td>\n",
              "      <td>/</td>\n",
              "      <td>/</td>\n",
              "      <td>/</td>\n",
              "      <td>/</td>\n",
              "      <td>/</td>\n",
              "      <td>NaN</td>\n",
              "      <td>NaN</td>\n",
              "    </tr>\n",
              "    <tr>\n",
              "      <th>71</th>\n",
              "      <td>GNONKOUROKALI</td>\n",
              "      <td>Gnonkourokali</td>\n",
              "      <td>Gnonkourokali</td>\n",
              "      <td>1780</td>\n",
              "      <td>FPM</td>\n",
              "      <td>Fonctionnel</td>\n",
              "      <td>02°53'58,2\"E</td>\n",
              "      <td>10°06'52,5\"N</td>\n",
              "      <td>Domaine public</td>\n",
              "      <td>10.114583</td>\n",
              "      <td>2.899500</td>\n",
              "    </tr>\n",
              "    <tr>\n",
              "      <th>72</th>\n",
              "      <td>GNONKOUROKALI</td>\n",
              "      <td>Gnonkourokali</td>\n",
              "      <td>Gnonkourokali</td>\n",
              "      <td>1780</td>\n",
              "      <td>PM</td>\n",
              "      <td>Fonctionnel</td>\n",
              "      <td>02°54'00,5\"E</td>\n",
              "      <td>10°06'58,0\"N</td>\n",
              "      <td>Domaine public</td>\n",
              "      <td>10.116111</td>\n",
              "      <td>2.900139</td>\n",
              "    </tr>\n",
              "    <tr>\n",
              "      <th>73</th>\n",
              "      <td>GNONKOUROKALI</td>\n",
              "      <td>Gnonkourokali</td>\n",
              "      <td>Gnonkourokali</td>\n",
              "      <td>1780</td>\n",
              "      <td>FPM</td>\n",
              "      <td>Fonctionnel</td>\n",
              "      <td>02°54'10,0\"E</td>\n",
              "      <td>10°06'58,4\"N</td>\n",
              "      <td>Lieu de culte</td>\n",
              "      <td>10.116222</td>\n",
              "      <td>2.902778</td>\n",
              "    </tr>\n",
              "    <tr>\n",
              "      <th>74</th>\n",
              "      <td>GNONKOUROKALI</td>\n",
              "      <td>Gnonkourokali</td>\n",
              "      <td>Gnonkourokali</td>\n",
              "      <td>1780</td>\n",
              "      <td>PM</td>\n",
              "      <td>Fonctionnel</td>\n",
              "      <td>02°53'57,6\"E</td>\n",
              "      <td>10°07'04,5\"N</td>\n",
              "      <td>Domaine public</td>\n",
              "      <td>10.117917</td>\n",
              "      <td>2.899333</td>\n",
              "    </tr>\n",
              "    <tr>\n",
              "      <th>75</th>\n",
              "      <td>GNONKOUROKALI</td>\n",
              "      <td>Gnonkourokal</td>\n",
              "      <td>Sabi Yèrè Kparou</td>\n",
              "      <td>428</td>\n",
              "      <td>/</td>\n",
              "      <td>/</td>\n",
              "      <td>/</td>\n",
              "      <td>/</td>\n",
              "      <td>/</td>\n",
              "      <td>NaN</td>\n",
              "      <td>NaN</td>\n",
              "    </tr>\n",
              "    <tr>\n",
              "      <th>76</th>\n",
              "      <td>GNONKOUROKALI</td>\n",
              "      <td>Gnonkourokal</td>\n",
              "      <td>Sèriasson</td>\n",
              "      <td>600</td>\n",
              "      <td>PM</td>\n",
              "      <td>Fonctionnel</td>\n",
              "      <td>02°54'57,6\"E</td>\n",
              "      <td>10°04'26,3\"N</td>\n",
              "      <td>Mission catholique</td>\n",
              "      <td>10.073972</td>\n",
              "      <td>2.916000</td>\n",
              "    </tr>\n",
              "    <tr>\n",
              "      <th>77</th>\n",
              "      <td>GNONKOUROKALI</td>\n",
              "      <td>Guèma</td>\n",
              "      <td>Gourè Karèa</td>\n",
              "      <td>160</td>\n",
              "      <td>/</td>\n",
              "      <td>/</td>\n",
              "      <td>/</td>\n",
              "      <td>/</td>\n",
              "      <td>/</td>\n",
              "      <td>NaN</td>\n",
              "      <td>NaN</td>\n",
              "    </tr>\n",
              "    <tr>\n",
              "      <th>78</th>\n",
              "      <td>GNONKOUROKALI</td>\n",
              "      <td>Guèma</td>\n",
              "      <td>Goutto</td>\n",
              "      <td>300</td>\n",
              "      <td>FPM</td>\n",
              "      <td>Fonctionnel</td>\n",
              "      <td>03°00'14,9\"E</td>\n",
              "      <td>09°57'53,3\"N</td>\n",
              "      <td>Domaine public</td>\n",
              "      <td>9.964806</td>\n",
              "      <td>3.004139</td>\n",
              "    </tr>\n",
              "    <tr>\n",
              "      <th>79</th>\n",
              "      <td>GNONKOUROKALI</td>\n",
              "      <td>Guèma</td>\n",
              "      <td>Guèma</td>\n",
              "      <td>715</td>\n",
              "      <td>FPM</td>\n",
              "      <td>Fonctionnel</td>\n",
              "      <td>02°59'36,9\"E</td>\n",
              "      <td>09°57'56,0\"N</td>\n",
              "      <td>Domaine public</td>\n",
              "      <td>9.965556</td>\n",
              "      <td>2.993583</td>\n",
              "    </tr>\n",
              "    <tr>\n",
              "      <th>80</th>\n",
              "      <td>GNONKOUROKALI</td>\n",
              "      <td>Guèma</td>\n",
              "      <td>Guèma</td>\n",
              "      <td>715</td>\n",
              "      <td>PM</td>\n",
              "      <td>Fonctionnel</td>\n",
              "      <td>02°59'26,7\"E</td>\n",
              "      <td>09°57'58,9\"N</td>\n",
              "      <td>Domaine public</td>\n",
              "      <td>9.966361</td>\n",
              "      <td>2.990750</td>\n",
              "    </tr>\n",
              "    <tr>\n",
              "      <th>81</th>\n",
              "      <td>GNONKOUROKALI</td>\n",
              "      <td>Guinrou</td>\n",
              "      <td>Guinrou</td>\n",
              "      <td>802</td>\n",
              "      <td>PM</td>\n",
              "      <td>Fonctionnel</td>\n",
              "      <td>02°56'53,3\"E</td>\n",
              "      <td>09°57'42,4\"N</td>\n",
              "      <td>Domaine public</td>\n",
              "      <td>9.961778</td>\n",
              "      <td>2.948139</td>\n",
              "    </tr>\n",
              "    <tr>\n",
              "      <th>82</th>\n",
              "      <td>GNONKOUROKALI</td>\n",
              "      <td>Guinrou</td>\n",
              "      <td>Guinrou</td>\n",
              "      <td>802</td>\n",
              "      <td>FPM</td>\n",
              "      <td>Fonctionnel</td>\n",
              "      <td>02°56'46,3\"E</td>\n",
              "      <td>09°57'37,7\"N</td>\n",
              "      <td>Domaine public</td>\n",
              "      <td>9.960472</td>\n",
              "      <td>2.946194</td>\n",
              "    </tr>\n",
              "    <tr>\n",
              "      <th>83</th>\n",
              "      <td>GNONKOUROKALI</td>\n",
              "      <td>Guinrou</td>\n",
              "      <td>Guinrou</td>\n",
              "      <td>802</td>\n",
              "      <td>FPM</td>\n",
              "      <td>Fonctionnel</td>\n",
              "      <td>02°56'54,0\"E</td>\n",
              "      <td>09°57'37,2\"N</td>\n",
              "      <td>Domaine public</td>\n",
              "      <td>9.960333</td>\n",
              "      <td>2.948333</td>\n",
              "    </tr>\n",
              "    <tr>\n",
              "      <th>84</th>\n",
              "      <td>GNONKOUROKALI</td>\n",
              "      <td>Guinrou</td>\n",
              "      <td>Guinrou</td>\n",
              "      <td>802</td>\n",
              "      <td>PM</td>\n",
              "      <td>Abandonné</td>\n",
              "      <td>02°56'45,1\"E</td>\n",
              "      <td>09°57'41,8\"N</td>\n",
              "      <td>Domaine public</td>\n",
              "      <td>9.961611</td>\n",
              "      <td>2.945861</td>\n",
              "    </tr>\n",
              "    <tr>\n",
              "      <th>85</th>\n",
              "      <td>GNONKOUROKALI</td>\n",
              "      <td>Guinrou Peuhl</td>\n",
              "      <td>Banikparou</td>\n",
              "      <td></td>\n",
              "      <td>FPM</td>\n",
              "      <td>Fonctionnel</td>\n",
              "      <td>02°53'23,2\"E</td>\n",
              "      <td>09°58'48,1\"N</td>\n",
              "      <td>Domaine public</td>\n",
              "      <td>9.980028</td>\n",
              "      <td>2.889778</td>\n",
              "    </tr>\n",
              "    <tr>\n",
              "      <th>86</th>\n",
              "      <td>GNONKOUROKALI</td>\n",
              "      <td>Guinrou Peuhl</td>\n",
              "      <td>Dakou Gourou</td>\n",
              "      <td>251</td>\n",
              "      <td>FPM</td>\n",
              "      <td>Fonctionnel</td>\n",
              "      <td>02°57'25,7\"E</td>\n",
              "      <td>09°59'11,4\"N</td>\n",
              "      <td>Domaine public</td>\n",
              "      <td>9.986500</td>\n",
              "      <td>2.957139</td>\n",
              "    </tr>\n",
              "    <tr>\n",
              "      <th>87</th>\n",
              "      <td>GNONKOUROKALI</td>\n",
              "      <td>Guinrou Peuhl</td>\n",
              "      <td>Djanéri</td>\n",
              "      <td>308</td>\n",
              "      <td>/</td>\n",
              "      <td>/</td>\n",
              "      <td>/</td>\n",
              "      <td>/</td>\n",
              "      <td>/</td>\n",
              "      <td>NaN</td>\n",
              "      <td>NaN</td>\n",
              "    </tr>\n",
              "    <tr>\n",
              "      <th>88</th>\n",
              "      <td>GNONKOUROKALI</td>\n",
              "      <td>Guinrou Peuhl</td>\n",
              "      <td>Guèma Peuhl (Gassa\\nWorou)</td>\n",
              "      <td>500</td>\n",
              "      <td>PM</td>\n",
              "      <td>Fonctionnel</td>\n",
              "      <td>02°58'38,6\"E</td>\n",
              "      <td>09°57'59,0\"N</td>\n",
              "      <td>Domaine public</td>\n",
              "      <td>9.966389</td>\n",
              "      <td>2.977389</td>\n",
              "    </tr>\n",
              "    <tr>\n",
              "      <th>89</th>\n",
              "      <td>GNONKOUROKALI</td>\n",
              "      <td>Guinrou Peuhl</td>\n",
              "      <td>Guèma Peuh (Gassa\\nWorou)</td>\n",
              "      <td>500</td>\n",
              "      <td>FPM</td>\n",
              "      <td>Fonctionnel</td>\n",
              "      <td>02°58'35,0\"E</td>\n",
              "      <td>09°58'07,6\"N</td>\n",
              "      <td>Domaine public</td>\n",
              "      <td>9.968778</td>\n",
              "      <td>2.976389</td>\n",
              "    </tr>\n",
              "    <tr>\n",
              "      <th>90</th>\n",
              "      <td>GNONKOUROKALI</td>\n",
              "      <td>Guinrou Peuhl</td>\n",
              "      <td>Guinrou Peuhl</td>\n",
              "      <td>174</td>\n",
              "      <td>FPM</td>\n",
              "      <td>Fonctionnel</td>\n",
              "      <td>02°56'10,8\"E</td>\n",
              "      <td>09°56'38,2\"N</td>\n",
              "      <td>Domaine public</td>\n",
              "      <td>9.943944</td>\n",
              "      <td>2.936333</td>\n",
              "    </tr>\n",
              "    <tr>\n",
              "      <th>91</th>\n",
              "      <td>GNONKOUROKALI</td>\n",
              "      <td>Guinrou Peuhl</td>\n",
              "      <td>Sombirou</td>\n",
              "      <td>200</td>\n",
              "      <td>PM</td>\n",
              "      <td>Fonctionnel</td>\n",
              "      <td>02°57'22,2\"E</td>\n",
              "      <td>09°57'32,9\"N</td>\n",
              "      <td>Domaine public</td>\n",
              "      <td>9.959139</td>\n",
              "      <td>2.956167</td>\n",
              "    </tr>\n",
              "    <tr>\n",
              "      <th>92</th>\n",
              "      <td>GNONKOUROKALI</td>\n",
              "      <td>Guinrou Peuhl</td>\n",
              "      <td>Tèti</td>\n",
              "      <td>160</td>\n",
              "      <td>/</td>\n",
              "      <td>/</td>\n",
              "      <td>/</td>\n",
              "      <td>/</td>\n",
              "      <td>/</td>\n",
              "      <td>NaN</td>\n",
              "      <td>NaN</td>\n",
              "    </tr>\n",
              "    <tr>\n",
              "      <th>93</th>\n",
              "      <td>GNONKOUROKALI</td>\n",
              "      <td>Soubo</td>\n",
              "      <td>Bassiarou</td>\n",
              "      <td>250</td>\n",
              "      <td>FPM</td>\n",
              "      <td>Fonctionnel</td>\n",
              "      <td>02°49'42,2\"E</td>\n",
              "      <td>10°03'29,4\"N</td>\n",
              "      <td>Domaine public</td>\n",
              "      <td>10.058167</td>\n",
              "      <td>2.828389</td>\n",
              "    </tr>\n",
              "    <tr>\n",
              "      <th>94</th>\n",
              "      <td>GNONKOUROKALI</td>\n",
              "      <td>Soubo</td>\n",
              "      <td>Bokon</td>\n",
              "      <td>100</td>\n",
              "      <td>/</td>\n",
              "      <td>/</td>\n",
              "      <td>/</td>\n",
              "      <td>/</td>\n",
              "      <td>/</td>\n",
              "      <td>NaN</td>\n",
              "      <td>NaN</td>\n",
              "    </tr>\n",
              "    <tr>\n",
              "      <th>95</th>\n",
              "      <td>GNONKOUROKALI</td>\n",
              "      <td>Soubo</td>\n",
              "      <td>Bouégourou</td>\n",
              "      <td>200</td>\n",
              "      <td>FPM</td>\n",
              "      <td>Fonctionnel</td>\n",
              "      <td>02°49'34,8\"E</td>\n",
              "      <td>10°02'15,7\"N</td>\n",
              "      <td>Domaine public</td>\n",
              "      <td>10.037694</td>\n",
              "      <td>2.826333</td>\n",
              "    </tr>\n",
              "    <tr>\n",
              "      <th>96</th>\n",
              "      <td>GNONKOUROKALI</td>\n",
              "      <td>Soubo</td>\n",
              "      <td>Gourè Tèti</td>\n",
              "      <td>160</td>\n",
              "      <td>/</td>\n",
              "      <td>/</td>\n",
              "      <td>/</td>\n",
              "      <td>/</td>\n",
              "      <td>/</td>\n",
              "      <td>NaN</td>\n",
              "      <td>NaN</td>\n",
              "    </tr>\n",
              "    <tr>\n",
              "      <th>97</th>\n",
              "      <td>GNONKOUROKALI</td>\n",
              "      <td>Soubo</td>\n",
              "      <td>Kiraborou</td>\n",
              "      <td>200</td>\n",
              "      <td>/</td>\n",
              "      <td>/</td>\n",
              "      <td>/</td>\n",
              "      <td>/</td>\n",
              "      <td>/</td>\n",
              "      <td>NaN</td>\n",
              "      <td>NaN</td>\n",
              "    </tr>\n",
              "    <tr>\n",
              "      <th>98</th>\n",
              "      <td>GNONKOUROKALI</td>\n",
              "      <td>Soubo</td>\n",
              "      <td>Koro</td>\n",
              "      <td>300</td>\n",
              "      <td>FPM</td>\n",
              "      <td>Fonctionnel</td>\n",
              "      <td>02°48'44,9\"E</td>\n",
              "      <td>10°04'34,8\"N</td>\n",
              "      <td>Domaine public</td>\n",
              "      <td>10.076333</td>\n",
              "      <td>2.812472</td>\n",
              "    </tr>\n",
              "    <tr>\n",
              "      <th>99</th>\n",
              "      <td>GNONKOUROKALI</td>\n",
              "      <td>Soubo</td>\n",
              "      <td>Soubo</td>\n",
              "      <td>1468</td>\n",
              "      <td>PM</td>\n",
              "      <td>Fonctionnel</td>\n",
              "      <td>02°49'48,0\"E</td>\n",
              "      <td>10°03'36,9\"N</td>\n",
              "      <td>Centre de santé</td>\n",
              "      <td>10.060250</td>\n",
              "      <td>2.830000</td>\n",
              "    </tr>\n",
              "    <tr>\n",
              "      <th>100</th>\n",
              "      <td>GNONKOUROKALI</td>\n",
              "      <td>Soubo</td>\n",
              "      <td>Soubo</td>\n",
              "      <td>1468</td>\n",
              "      <td>FPM</td>\n",
              "      <td>Fonctionnel</td>\n",
              "      <td>02°50'04,8\"E</td>\n",
              "      <td>10°03'54,0\"N</td>\n",
              "      <td>Mission catholique</td>\n",
              "      <td>10.065000</td>\n",
              "      <td>2.834667</td>\n",
              "    </tr>\n",
              "    <tr>\n",
              "      <th>101</th>\n",
              "      <td>GNONKOUROKALI</td>\n",
              "      <td>Soubo</td>\n",
              "      <td>Soubo</td>\n",
              "      <td>1468</td>\n",
              "      <td>FPM</td>\n",
              "      <td>Fonctionnel</td>\n",
              "      <td>02°49'48,0\"E</td>\n",
              "      <td>10°03'50,4\"N</td>\n",
              "      <td>Domaine public</td>\n",
              "      <td>10.064000</td>\n",
              "      <td>2.830000</td>\n",
              "    </tr>\n",
              "    <tr>\n",
              "      <th>102</th>\n",
              "      <td>GNONKOUROKALI</td>\n",
              "      <td>Soubo</td>\n",
              "      <td>Soubo</td>\n",
              "      <td>1468</td>\n",
              "      <td>FPM</td>\n",
              "      <td>Fonctionnel</td>\n",
              "      <td>02°49'52,0\"E</td>\n",
              "      <td>10°03'42,7\"N</td>\n",
              "      <td>Domaine public</td>\n",
              "      <td>10.061861</td>\n",
              "      <td>2.831111</td>\n",
              "    </tr>\n",
              "    <tr>\n",
              "      <th>103</th>\n",
              "      <td>GNONKOUROKALI</td>\n",
              "      <td>Woroumagassarou</td>\n",
              "      <td>Gassounon Kparou\\n(Bai Bai)</td>\n",
              "      <td>300</td>\n",
              "      <td>FPM</td>\n",
              "      <td>Fonctionnel</td>\n",
              "      <td>02°50'34,9\"E</td>\n",
              "      <td>10°05'47,1\"N</td>\n",
              "      <td>Domaine public</td>\n",
              "      <td>10.096417</td>\n",
              "      <td>2.843028</td>\n",
              "    </tr>\n",
              "    <tr>\n",
              "      <th>104</th>\n",
              "      <td>GNONKOUROKALI</td>\n",
              "      <td>Woroumagassarou</td>\n",
              "      <td>Gassounon Kparou\\n(Bai Bai)</td>\n",
              "      <td>300</td>\n",
              "      <td>PM</td>\n",
              "      <td>Fonctionnel</td>\n",
              "      <td>02°50'34,0\"E</td>\n",
              "      <td>10°05'41,2\"N</td>\n",
              "      <td>Domaine public</td>\n",
              "      <td>10.094778</td>\n",
              "      <td>2.842778</td>\n",
              "    </tr>\n",
              "    <tr>\n",
              "      <th>105</th>\n",
              "      <td>GNONKOUROKALI</td>\n",
              "      <td>Woroumagassarou</td>\n",
              "      <td>Gourè Karel</td>\n",
              "      <td>260</td>\n",
              "      <td>FPM</td>\n",
              "      <td>Fonctionnel</td>\n",
              "      <td>02°51'09,2\"E</td>\n",
              "      <td>10°07'31,6\"N</td>\n",
              "      <td>Domaine public</td>\n",
              "      <td>10.125444</td>\n",
              "      <td>2.852556</td>\n",
              "    </tr>\n",
              "    <tr>\n",
              "      <th>106</th>\n",
              "      <td>GNONKOUROKALI</td>\n",
              "      <td>Woroumagassarou</td>\n",
              "      <td>Tèpa\\n(Danbourasson; Taïrou Kparou)</td>\n",
              "      <td>160</td>\n",
              "      <td>/</td>\n",
              "      <td>/</td>\n",
              "      <td>/</td>\n",
              "      <td>/</td>\n",
              "      <td>/</td>\n",
              "      <td>NaN</td>\n",
              "      <td>NaN</td>\n",
              "    </tr>\n",
              "    <tr>\n",
              "      <th>107</th>\n",
              "      <td>GNONKOUROKALI</td>\n",
              "      <td>Woroumagassarou</td>\n",
              "      <td>Woroumagassarou</td>\n",
              "      <td>500</td>\n",
              "      <td>FPM</td>\n",
              "      <td>Fonctionnel</td>\n",
              "      <td>02°50'49,5\"E</td>\n",
              "      <td>10°06'18,2\"N</td>\n",
              "      <td>Domaine public</td>\n",
              "      <td>10.105056</td>\n",
              "      <td>2.847083</td>\n",
              "    </tr>\n",
              "    <tr>\n",
              "      <th>108</th>\n",
              "      <td>GNONKOUROKALI</td>\n",
              "      <td>Woroumagassarou</td>\n",
              "      <td>Woroumagassarou</td>\n",
              "      <td>500</td>\n",
              "      <td>PM</td>\n",
              "      <td>Fonctionnel</td>\n",
              "      <td>02°50'49,8\"E</td>\n",
              "      <td>10°06'19,1\"N</td>\n",
              "      <td>Domaine public</td>\n",
              "      <td>10.105306</td>\n",
              "      <td>2.847167</td>\n",
              "    </tr>\n",
              "    <tr>\n",
              "      <th>109</th>\n",
              "      <td>GNONKOUROKALI</td>\n",
              "      <td>Woroumagassarou</td>\n",
              "      <td>Yarama</td>\n",
              "      <td>301</td>\n",
              "      <td>FPM</td>\n",
              "      <td>Fonctionnel</td>\n",
              "      <td>02°51'12,6\"E</td>\n",
              "      <td>10°06'33,1\"N</td>\n",
              "      <td>Domaine public</td>\n",
              "      <td>10.109194</td>\n",
              "      <td>2.853500</td>\n",
              "    </tr>\n",
              "  </tbody>\n",
              "</table>\n",
              "</div>"
            ],
            "text/plain": [
              "    Arrondissement          Village  ... Latitude_decimals Longitude_decimals\n",
              "57   GNONKOUROKALI            Gbari  ...               NaN                NaN\n",
              "58   GNONKOUROKALI            Gbari  ...         10.025333           2.918833\n",
              "59   GNONKOUROKALI            Gbari  ...         10.031250           2.927806\n",
              "60   GNONKOUROKALI            Gbari  ...               NaN                NaN\n",
              "61   GNONKOUROKALI            Gbari  ...         10.006111           2.931083\n",
              "62   GNONKOUROKALI            Gbari  ...         10.006806           2.928806\n",
              "63   GNONKOUROKALI            Gbari  ...         10.004389           2.930333\n",
              "64   GNONKOUROKALI            Gbari  ...         10.004611           2.930667\n",
              "65   GNONKOUROKALI            Gbari  ...         10.004722           2.931722\n",
              "66   GNONKOUROKALI            Gbari  ...         10.001083           2.922639\n",
              "67   GNONKOUROKALI            Gbari  ...         10.010722           2.925778\n",
              "68   GNONKOUROKALI            Gbari  ...         10.028111           2.949722\n",
              "69   GNONKOUROKALI            Gbari  ...         10.001222           2.947611\n",
              "70   GNONKOUROKALI    Gnonkourokali  ...               NaN                NaN\n",
              "71   GNONKOUROKALI    Gnonkourokali  ...         10.114583           2.899500\n",
              "72   GNONKOUROKALI    Gnonkourokali  ...         10.116111           2.900139\n",
              "73   GNONKOUROKALI    Gnonkourokali  ...         10.116222           2.902778\n",
              "74   GNONKOUROKALI    Gnonkourokali  ...         10.117917           2.899333\n",
              "75   GNONKOUROKALI     Gnonkourokal  ...               NaN                NaN\n",
              "76   GNONKOUROKALI     Gnonkourokal  ...         10.073972           2.916000\n",
              "77   GNONKOUROKALI            Guèma  ...               NaN                NaN\n",
              "78   GNONKOUROKALI            Guèma  ...          9.964806           3.004139\n",
              "79   GNONKOUROKALI            Guèma  ...          9.965556           2.993583\n",
              "80   GNONKOUROKALI            Guèma  ...          9.966361           2.990750\n",
              "81   GNONKOUROKALI          Guinrou  ...          9.961778           2.948139\n",
              "82   GNONKOUROKALI          Guinrou  ...          9.960472           2.946194\n",
              "83   GNONKOUROKALI          Guinrou  ...          9.960333           2.948333\n",
              "84   GNONKOUROKALI          Guinrou  ...          9.961611           2.945861\n",
              "85   GNONKOUROKALI    Guinrou Peuhl  ...          9.980028           2.889778\n",
              "86   GNONKOUROKALI    Guinrou Peuhl  ...          9.986500           2.957139\n",
              "87   GNONKOUROKALI    Guinrou Peuhl  ...               NaN                NaN\n",
              "88   GNONKOUROKALI    Guinrou Peuhl  ...          9.966389           2.977389\n",
              "89   GNONKOUROKALI    Guinrou Peuhl  ...          9.968778           2.976389\n",
              "90   GNONKOUROKALI    Guinrou Peuhl  ...          9.943944           2.936333\n",
              "91   GNONKOUROKALI    Guinrou Peuhl  ...          9.959139           2.956167\n",
              "92   GNONKOUROKALI    Guinrou Peuhl  ...               NaN                NaN\n",
              "93   GNONKOUROKALI            Soubo  ...         10.058167           2.828389\n",
              "94   GNONKOUROKALI            Soubo  ...               NaN                NaN\n",
              "95   GNONKOUROKALI            Soubo  ...         10.037694           2.826333\n",
              "96   GNONKOUROKALI            Soubo  ...               NaN                NaN\n",
              "97   GNONKOUROKALI            Soubo  ...               NaN                NaN\n",
              "98   GNONKOUROKALI            Soubo  ...         10.076333           2.812472\n",
              "99   GNONKOUROKALI            Soubo  ...         10.060250           2.830000\n",
              "100  GNONKOUROKALI            Soubo  ...         10.065000           2.834667\n",
              "101  GNONKOUROKALI            Soubo  ...         10.064000           2.830000\n",
              "102  GNONKOUROKALI            Soubo  ...         10.061861           2.831111\n",
              "103  GNONKOUROKALI  Woroumagassarou  ...         10.096417           2.843028\n",
              "104  GNONKOUROKALI  Woroumagassarou  ...         10.094778           2.842778\n",
              "105  GNONKOUROKALI  Woroumagassarou  ...         10.125444           2.852556\n",
              "106  GNONKOUROKALI  Woroumagassarou  ...               NaN                NaN\n",
              "107  GNONKOUROKALI  Woroumagassarou  ...         10.105056           2.847083\n",
              "108  GNONKOUROKALI  Woroumagassarou  ...         10.105306           2.847167\n",
              "109  GNONKOUROKALI  Woroumagassarou  ...         10.109194           2.853500\n",
              "\n",
              "[53 rows x 11 columns]"
            ]
          },
          "metadata": {
            "tags": []
          },
          "execution_count": 76
        }
      ]
    },
    {
      "cell_type": "code",
      "metadata": {
        "id": "KXXYgO5clZ8k",
        "colab_type": "code",
        "outputId": "0a87c72f-3cfd-4c27-f794-705cc0311fd0",
        "colab": {
          "base_uri": "https://localhost:8080/",
          "height": 34
        }
      },
      "source": [
        "arron"
      ],
      "execution_count": 0,
      "outputs": [
        {
          "output_type": "execute_result",
          "data": {
            "text/plain": [
              "'GNONKOUROKALI'"
            ]
          },
          "metadata": {
            "tags": []
          },
          "execution_count": 77
        }
      ]
    },
    {
      "cell_type": "code",
      "metadata": {
        "id": "4xQik4UCj232",
        "colab_type": "code",
        "outputId": "148680fc-38f3-4014-9995-8a4e93ec54a9",
        "colab": {
          "base_uri": "https://localhost:8080/",
          "height": 304
        }
      },
      "source": [
        "df_2009[df_2009['Localité']==results1[0][0]]"
      ],
      "execution_count": 0,
      "outputs": [
        {
          "output_type": "execute_result",
          "data": {
            "text/html": [
              "<div>\n",
              "<style scoped>\n",
              "    .dataframe tbody tr th:only-of-type {\n",
              "        vertical-align: middle;\n",
              "    }\n",
              "\n",
              "    .dataframe tbody tr th {\n",
              "        vertical-align: top;\n",
              "    }\n",
              "\n",
              "    .dataframe thead th {\n",
              "        text-align: right;\n",
              "    }\n",
              "</style>\n",
              "<table border=\"1\" class=\"dataframe\">\n",
              "  <thead>\n",
              "    <tr style=\"text-align: right;\">\n",
              "      <th></th>\n",
              "      <th>Arrondissement</th>\n",
              "      <th>Village</th>\n",
              "      <th>Localité</th>\n",
              "      <th>Population</th>\n",
              "      <th>Type d'ouvrage</th>\n",
              "      <th>Etat</th>\n",
              "      <th>Longitude</th>\n",
              "      <th>Latitude</th>\n",
              "      <th>Domaine d'installation</th>\n",
              "      <th>Latitude_decimals</th>\n",
              "      <th>Longitude_decimals</th>\n",
              "    </tr>\n",
              "  </thead>\n",
              "  <tbody>\n",
              "    <tr>\n",
              "      <th>157</th>\n",
              "      <td>NIKKI</td>\n",
              "      <td>Gourou</td>\n",
              "      <td>Gourou</td>\n",
              "      <td>5905</td>\n",
              "      <td>PM</td>\n",
              "      <td>Fonctionnel</td>\n",
              "      <td>03°12'34,5\"E</td>\n",
              "      <td>09°56'23,2\"N</td>\n",
              "      <td>Domaine public</td>\n",
              "      <td>9.939778</td>\n",
              "      <td>3.209583</td>\n",
              "    </tr>\n",
              "    <tr>\n",
              "      <th>158</th>\n",
              "      <td>NIKKI</td>\n",
              "      <td>Gourou</td>\n",
              "      <td>Gourou</td>\n",
              "      <td>5905</td>\n",
              "      <td>PM</td>\n",
              "      <td>Fonctionnel</td>\n",
              "      <td>03°12'33,4\"E</td>\n",
              "      <td>09°56'23,0\"N</td>\n",
              "      <td>Domaine public</td>\n",
              "      <td>9.939722</td>\n",
              "      <td>3.209278</td>\n",
              "    </tr>\n",
              "    <tr>\n",
              "      <th>159</th>\n",
              "      <td>NIKKI</td>\n",
              "      <td>Gourou</td>\n",
              "      <td>Gourou</td>\n",
              "      <td>5905</td>\n",
              "      <td>PM</td>\n",
              "      <td>Fonctionnel</td>\n",
              "      <td>03°12'34,3\"E</td>\n",
              "      <td>09°56'17,8\"N</td>\n",
              "      <td>Domaine public</td>\n",
              "      <td>9.938278</td>\n",
              "      <td>3.209528</td>\n",
              "    </tr>\n",
              "    <tr>\n",
              "      <th>160</th>\n",
              "      <td>NIKKI</td>\n",
              "      <td>Gourou</td>\n",
              "      <td>Gourou</td>\n",
              "      <td>5905</td>\n",
              "      <td>PM</td>\n",
              "      <td>Fonctionnel</td>\n",
              "      <td>03°12'30,8\"E</td>\n",
              "      <td>09°56'16,8\"N</td>\n",
              "      <td>Domaine public</td>\n",
              "      <td>9.938000</td>\n",
              "      <td>3.208556</td>\n",
              "    </tr>\n",
              "    <tr>\n",
              "      <th>161</th>\n",
              "      <td>NIKKI</td>\n",
              "      <td>Gourou</td>\n",
              "      <td>Gourou</td>\n",
              "      <td>5905</td>\n",
              "      <td>PT</td>\n",
              "      <td>Fonctionnel</td>\n",
              "      <td>03°12'37,0\"E</td>\n",
              "      <td>09°56'09,2\"N</td>\n",
              "      <td>Palai Royal</td>\n",
              "      <td>9.935889</td>\n",
              "      <td>3.210278</td>\n",
              "    </tr>\n",
              "    <tr>\n",
              "      <th>162</th>\n",
              "      <td>NIKKI</td>\n",
              "      <td>Gourou</td>\n",
              "      <td>Gourou</td>\n",
              "      <td>5905</td>\n",
              "      <td>PM</td>\n",
              "      <td>Fonctionnel</td>\n",
              "      <td>03°12'40,9\"E</td>\n",
              "      <td>09°56'06,9\"N</td>\n",
              "      <td>Domaine public</td>\n",
              "      <td>9.935250</td>\n",
              "      <td>3.211361</td>\n",
              "    </tr>\n",
              "    <tr>\n",
              "      <th>163</th>\n",
              "      <td>NIKKI</td>\n",
              "      <td>Gourou</td>\n",
              "      <td>Gourou</td>\n",
              "      <td>5905</td>\n",
              "      <td>FPM</td>\n",
              "      <td>Fonctionnel</td>\n",
              "      <td>03°12'35,5\"E</td>\n",
              "      <td>09°56'03,4\"N</td>\n",
              "      <td>Mairie de Nikki</td>\n",
              "      <td>9.934278</td>\n",
              "      <td>3.209861</td>\n",
              "    </tr>\n",
              "    <tr>\n",
              "      <th>164</th>\n",
              "      <td>NIKKI</td>\n",
              "      <td>Gourou</td>\n",
              "      <td>Gourou</td>\n",
              "      <td>5905</td>\n",
              "      <td>PM</td>\n",
              "      <td>Fonctionnel</td>\n",
              "      <td>03°12'28,9\"E</td>\n",
              "      <td>09°56'10,0\"N</td>\n",
              "      <td>Marché de Nikki</td>\n",
              "      <td>9.936111</td>\n",
              "      <td>3.208028</td>\n",
              "    </tr>\n",
              "  </tbody>\n",
              "</table>\n",
              "</div>"
            ],
            "text/plain": [
              "    Arrondissement Village  ... Latitude_decimals Longitude_decimals\n",
              "157          NIKKI  Gourou  ...          9.939778           3.209583\n",
              "158          NIKKI  Gourou  ...          9.939722           3.209278\n",
              "159          NIKKI  Gourou  ...          9.938278           3.209528\n",
              "160          NIKKI  Gourou  ...          9.938000           3.208556\n",
              "161          NIKKI  Gourou  ...          9.935889           3.210278\n",
              "162          NIKKI  Gourou  ...          9.935250           3.211361\n",
              "163          NIKKI  Gourou  ...          9.934278           3.209861\n",
              "164          NIKKI  Gourou  ...          9.936111           3.208028\n",
              "\n",
              "[8 rows x 11 columns]"
            ]
          },
          "metadata": {
            "tags": []
          },
          "execution_count": 78
        }
      ]
    },
    {
      "cell_type": "code",
      "metadata": {
        "id": "zK84stnQjsT1",
        "colab_type": "code",
        "outputId": "871254f7-c6f3-4d4a-e1f6-5fb65e8389dd",
        "colab": {
          "base_uri": "https://localhost:8080/",
          "height": 52
        }
      },
      "source": [
        "df_2009['Arrondissement'].unique()"
      ],
      "execution_count": 0,
      "outputs": [
        {
          "output_type": "execute_result",
          "data": {
            "text/plain": [
              "array(['BIRO', 'GNONKOUROKALI', 'NIKKI', 'OUENOU', 'SEREKALE', 'SUYA',\n",
              "       'TASSO'], dtype=object)"
            ]
          },
          "metadata": {
            "tags": []
          },
          "execution_count": 44
        }
      ]
    },
    {
      "cell_type": "code",
      "metadata": {
        "id": "JJf6m_9LmNyH",
        "colab_type": "code",
        "colab": {}
      },
      "source": [
        ""
      ],
      "execution_count": 0,
      "outputs": []
    }
  ]
}