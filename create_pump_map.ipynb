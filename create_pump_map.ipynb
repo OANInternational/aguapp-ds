{
  "nbformat": 4,
  "nbformat_minor": 0,
  "metadata": {
    "colab": {
      "name": "create_pump_map.ipynb",
      "version": "0.3.2",
      "provenance": [],
      "collapsed_sections": [],
      "include_colab_link": true
    },
    "language_info": {
      "codemirror_mode": {
        "name": "ipython",
        "version": 3
      },
      "file_extension": ".py",
      "mimetype": "text/x-python",
      "name": "python",
      "nbconvert_exporter": "python",
      "pygments_lexer": "ipython3",
      "version": "3.7.3"
    },
    "kernelspec": {
      "name": "python3",
      "display_name": "Python 3"
    },
    "accelerator": "GPU"
  },
  "cells": [
    {
      "cell_type": "markdown",
      "metadata": {
        "id": "view-in-github",
        "colab_type": "text"
      },
      "source": [
        "<a href=\"https://colab.research.google.com/github/OANInternational/aguapp/blob/master/create_pump_map.ipynb\" target=\"_parent\"><img src=\"https://colab.research.google.com/assets/colab-badge.svg\" alt=\"Open In Colab\"/></a>"
      ]
    },
    {
      "cell_type": "markdown",
      "metadata": {
        "id": "Ym3RvFva0G5q",
        "colab_type": "text"
      },
      "source": [
        "Proyecto para crear mapas y estudios a partir de las bases de datos de bombas"
      ]
    },
    {
      "cell_type": "markdown",
      "metadata": {
        "id": "F9UYXCg7mf0w",
        "colab_type": "text"
      },
      "source": [
        "Hacer un google Drive un directorio"
      ]
    },
    {
      "cell_type": "code",
      "metadata": {
        "id": "PB9QEH1ljfSa",
        "colab_type": "code",
        "outputId": "06ce4bbb-edd2-49a6-972e-98658852b568",
        "colab": {
          "base_uri": "https://localhost:8080/",
          "height": 33
        }
      },
      "source": [
        "%cd"
      ],
      "execution_count": 0,
      "outputs": [
        {
          "output_type": "stream",
          "text": [
            "/root\n"
          ],
          "name": "stdout"
        }
      ]
    },
    {
      "cell_type": "code",
      "metadata": {
        "id": "BZ-Mi5uM6Ywq",
        "colab_type": "code",
        "outputId": "857cdcc1-d806-43d9-8adb-ca56d7d39fa3",
        "colab": {
          "base_uri": "https://localhost:8080/",
          "height": 66
        }
      },
      "source": [
        "%cd\n",
        "%cd ..\n",
        "%cd content"
      ],
      "execution_count": 3,
      "outputs": [
        {
          "output_type": "stream",
          "text": [
            "/root\n",
            "/\n",
            "/content\n"
          ],
          "name": "stdout"
        }
      ]
    },
    {
      "cell_type": "code",
      "metadata": {
        "id": "8DJBx357k1kw",
        "colab_type": "code",
        "outputId": "ecb0c724-811c-4550-89bc-5919c7d9af18",
        "colab": {
          "base_uri": "https://localhost:8080/",
          "height": 118
        }
      },
      "source": [
        "from google.colab import drive\n",
        "drive.mount('/content/drive')"
      ],
      "execution_count": 2,
      "outputs": [
        {
          "output_type": "stream",
          "text": [
            "Go to this URL in a browser: https://accounts.google.com/o/oauth2/auth?client_id=947318989803-6bn6qk8qdgf4n4g3pfee6491hc0brc4i.apps.googleusercontent.com&redirect_uri=urn%3Aietf%3Awg%3Aoauth%3A2.0%3Aoob&scope=email%20https%3A%2F%2Fwww.googleapis.com%2Fauth%2Fdocs.test%20https%3A%2F%2Fwww.googleapis.com%2Fauth%2Fdrive%20https%3A%2F%2Fwww.googleapis.com%2Fauth%2Fdrive.photos.readonly%20https%3A%2F%2Fwww.googleapis.com%2Fauth%2Fpeopleapi.readonly&response_type=code\n",
            "\n",
            "Enter your authorization code:\n",
            "··········\n",
            "Mounted at /content/drive\n"
          ],
          "name": "stdout"
        }
      ]
    },
    {
      "cell_type": "code",
      "metadata": {
        "id": "APqZadV71EDZ",
        "colab_type": "code",
        "outputId": "7be0c251-364e-4732-96d8-c63b1e060422",
        "colab": {
          "base_uri": "https://localhost:8080/",
          "height": 33
        }
      },
      "source": [
        "!ls"
      ],
      "execution_count": 4,
      "outputs": [
        {
          "output_type": "stream",
          "text": [
            "drive  sample_data\n"
          ],
          "name": "stdout"
        }
      ]
    },
    {
      "cell_type": "code",
      "metadata": {
        "id": "YLlHkfPNlSv1",
        "colab_type": "code",
        "outputId": "763cc5c8-5ba5-4372-a3a9-069483b90a12",
        "colab": {
          "base_uri": "https://localhost:8080/",
          "height": 33
        }
      },
      "source": [
        "%cd drive/'Team Drives'/'Comité de Infraestructuras, Energía y Agua'/'Proyectos'/'Red de Reparadores de Bombas Manuales'/'Prototipo Automatización'/"
      ],
      "execution_count": 3,
      "outputs": [
        {
          "output_type": "stream",
          "text": [
            "/content/drive/Team Drives/Comité de Infraestructuras, Energía y Agua/Proyectos/Red de Reparadores de Bombas Manuales/Prototipo Automatización\n"
          ],
          "name": "stdout"
        }
      ]
    },
    {
      "cell_type": "code",
      "metadata": {
        "id": "7jTD8AGUEph_",
        "colab_type": "code",
        "colab": {
          "base_uri": "https://localhost:8080/",
          "height": 33
        },
        "outputId": "d63cc105-f12c-4656-d679-1f5ed9f89b9a"
      },
      "source": [
        "%cd 'Mapas'"
      ],
      "execution_count": 5,
      "outputs": [
        {
          "output_type": "stream",
          "text": [
            "/content/drive/Team Drives/Comité de Infraestructuras, Energía y Agua/Proyectos/Red de Reparadores de Bombas Manuales/Prototipo Automatización/Mapas\n"
          ],
          "name": "stdout"
        }
      ]
    },
    {
      "cell_type": "code",
      "metadata": {
        "id": "9KAdA-R8xKw5",
        "colab_type": "code",
        "colab": {}
      },
      "source": [
        "import yaml\n",
        "spreadsheet_ids = yaml.load( open(\"parameters.yaml\", \"r\" ))\n",
        "#bombas de 2018, ultima version\n",
        "ID1=str(spreadsheet_ids['ID1'])\n",
        "#bombas de 2016, ultima version\n",
        "ID2=str(spreadsheet_ids['ID2'])\n",
        "#bombas de 2009, ultima version\n",
        "ID3=str(spreadsheet_ids['ID3'])\n",
        "#bombas final, datos de 2016 y 2009\n",
        "ID4=str(spreadsheet_ids['ID4'])"
      ],
      "execution_count": 0,
      "outputs": []
    },
    {
      "cell_type": "markdown",
      "metadata": {
        "id": "Xwyycijf0Qvn",
        "colab_type": "text"
      },
      "source": [
        "GSHEET & GDRIVE AUTHETICATION"
      ]
    },
    {
      "cell_type": "code",
      "metadata": {
        "id": "mmfpyKADzdfG",
        "colab_type": "code",
        "colab": {}
      },
      "source": [
        "from google.colab import auth\n",
        "auth.authenticate_user()"
      ],
      "execution_count": 0,
      "outputs": []
    },
    {
      "cell_type": "code",
      "metadata": {
        "id": "SpLCBRrxCK0L",
        "colab_type": "code",
        "colab": {}
      },
      "source": [
        "from googleapiclient.discovery import build\n",
        "sheet_service = build('sheets', 'v4')"
      ],
      "execution_count": 0,
      "outputs": []
    },
    {
      "cell_type": "markdown",
      "metadata": {
        "id": "iyD4iZjS0UV7",
        "colab_type": "text"
      },
      "source": [
        "IMPORTS"
      ]
    },
    {
      "cell_type": "code",
      "metadata": {
        "id": "nn90UXN40O4S",
        "colab_type": "code",
        "colab": {}
      },
      "source": [
        "import plotly\n",
        "import plotly.plotly as py\n",
        "import numpy as np\n",
        "\n",
        "\n",
        "import matplotlib.pyplot as plt\n",
        "\n",
        "import pandas as pd\n",
        "\n",
        "import matplotlib.pyplot as plt\n",
        "import matplotlib.font_manager as font_manager\n",
        "import matplotlib.dates\n",
        "import seaborn as sns\n",
        "\n"
      ],
      "execution_count": 0,
      "outputs": []
    },
    {
      "cell_type": "markdown",
      "metadata": {
        "id": "tTsqr0eZIhNB",
        "colab_type": "text"
      },
      "source": [
        "Get Data in a spreadsheet with tasks and dates of project (starting and ending)"
      ]
    },
    {
      "cell_type": "code",
      "metadata": {
        "id": "f0p3zFE6Cdz2",
        "colab_type": "code",
        "colab": {}
      },
      "source": [
        "SPREADSHEET_ID = ID1\n",
        "RANGE_NAME = 'Sheet1'\n",
        "\n",
        "gsheet = sheet_service.spreadsheets().values().get(spreadsheetId=SPREADSHEET_ID, range=RANGE_NAME).execute()\n",
        "\n",
        "df_2019 = pd.DataFrame(gsheet.get('values', [])[1:],columns= gsheet.get('values', [])[0:1][0])"
      ],
      "execution_count": 0,
      "outputs": []
    },
    {
      "cell_type": "code",
      "metadata": {
        "id": "j3c5zI29G8kJ",
        "colab_type": "code",
        "colab": {
          "base_uri": "https://localhost:8080/",
          "height": 191
        },
        "outputId": "d6c801f6-becb-445f-bf19-f674bb876ad9"
      },
      "source": [
        "df_2019.head()"
      ],
      "execution_count": 13,
      "outputs": [
        {
          "output_type": "execute_result",
          "data": {
            "text/html": [
              "<div>\n",
              "<style scoped>\n",
              "    .dataframe tbody tr th:only-of-type {\n",
              "        vertical-align: middle;\n",
              "    }\n",
              "\n",
              "    .dataframe tbody tr th {\n",
              "        vertical-align: top;\n",
              "    }\n",
              "\n",
              "    .dataframe thead th {\n",
              "        text-align: right;\n",
              "    }\n",
              "</style>\n",
              "<table border=\"1\" class=\"dataframe\">\n",
              "  <thead>\n",
              "    <tr style=\"text-align: right;\">\n",
              "      <th></th>\n",
              "      <th>Arrondissement</th>\n",
              "      <th>Village</th>\n",
              "      <th>Localite</th>\n",
              "      <th>Nom_Local</th>\n",
              "      <th>Longitude</th>\n",
              "      <th>Latitude</th>\n",
              "      <th>xCoord</th>\n",
              "      <th>yCoord</th>\n",
              "      <th>rqtListe_Pompe.Modele_Pompe</th>\n",
              "    </tr>\n",
              "  </thead>\n",
              "  <tbody>\n",
              "    <tr>\n",
              "      <th>0</th>\n",
              "      <td>BIRO</td>\n",
              "      <td>BIRO</td>\n",
              "      <td>Biro</td>\n",
              "      <td>BIRO 2</td>\n",
              "      <td>02°56'52.0\"E</td>\n",
              "      <td>09°54'00.0\"N</td>\n",
              "      <td>2.947778</td>\n",
              "      <td>9.9</td>\n",
              "      <td>VERGNET</td>\n",
              "    </tr>\n",
              "    <tr>\n",
              "      <th>1</th>\n",
              "      <td>BIRO</td>\n",
              "      <td>BIRO</td>\n",
              "      <td>Sarawondo</td>\n",
              "      <td>SARAWONDO</td>\n",
              "      <td>02°58'29.2\"E</td>\n",
              "      <td>09°54'13.2\"N</td>\n",
              "      <td>2.974778</td>\n",
              "      <td>9.903666</td>\n",
              "      <td>VERGNET</td>\n",
              "    </tr>\n",
              "    <tr>\n",
              "      <th>2</th>\n",
              "      <td>BIRO</td>\n",
              "      <td>BIRO</td>\n",
              "      <td>Nallou</td>\n",
              "      <td>NANLOU</td>\n",
              "      <td>02°54'30.2\"E</td>\n",
              "      <td>09°56'00.0\"N</td>\n",
              "      <td>2.908389</td>\n",
              "      <td>9.933333</td>\n",
              "      <td>VERGNET</td>\n",
              "    </tr>\n",
              "    <tr>\n",
              "      <th>3</th>\n",
              "      <td>BIRO</td>\n",
              "      <td>BIRO</td>\n",
              "      <td>Biro</td>\n",
              "      <td>BIRO CENTRE</td>\n",
              "      <td>02°56'26.3\"E</td>\n",
              "      <td>09°54'10.0\"N</td>\n",
              "      <td>2.940639</td>\n",
              "      <td>9.902778</td>\n",
              "      <td>None</td>\n",
              "    </tr>\n",
              "    <tr>\n",
              "      <th>4</th>\n",
              "      <td>BIRO</td>\n",
              "      <td>BIRO</td>\n",
              "      <td>Biro</td>\n",
              "      <td>BIRO CENTRE</td>\n",
              "      <td>02°56'47.9\"E</td>\n",
              "      <td>09°54'10.9\"N</td>\n",
              "      <td>2.946639</td>\n",
              "      <td>9.903028</td>\n",
              "      <td>AFRIDEV</td>\n",
              "    </tr>\n",
              "  </tbody>\n",
              "</table>\n",
              "</div>"
            ],
            "text/plain": [
              "  Arrondissement Village  ...    yCoord rqtListe_Pompe.Modele_Pompe\n",
              "0           BIRO    BIRO  ...       9.9                     VERGNET\n",
              "1           BIRO    BIRO  ...  9.903666                     VERGNET\n",
              "2           BIRO    BIRO  ...  9.933333                     VERGNET\n",
              "3           BIRO    BIRO  ...  9.902778                        None\n",
              "4           BIRO    BIRO  ...  9.903028                     AFRIDEV\n",
              "\n",
              "[5 rows x 9 columns]"
            ]
          },
          "metadata": {
            "tags": []
          },
          "execution_count": 13
        }
      ]
    },
    {
      "cell_type": "code",
      "metadata": {
        "id": "D5jTt-bbGx6O",
        "colab_type": "code",
        "colab": {
          "base_uri": "https://localhost:8080/",
          "height": 277
        },
        "outputId": "3b681e57-ed36-4505-bf1b-00e9746c5589"
      },
      "source": [
        "df_2019.groupby('Arrondissement',axis=0).min()"
      ],
      "execution_count": 37,
      "outputs": [
        {
          "output_type": "execute_result",
          "data": {
            "text/html": [
              "<div>\n",
              "<style scoped>\n",
              "    .dataframe tbody tr th:only-of-type {\n",
              "        vertical-align: middle;\n",
              "    }\n",
              "\n",
              "    .dataframe tbody tr th {\n",
              "        vertical-align: top;\n",
              "    }\n",
              "\n",
              "    .dataframe thead th {\n",
              "        text-align: right;\n",
              "    }\n",
              "</style>\n",
              "<table border=\"1\" class=\"dataframe\">\n",
              "  <thead>\n",
              "    <tr style=\"text-align: right;\">\n",
              "      <th></th>\n",
              "      <th>Village</th>\n",
              "      <th>Localite</th>\n",
              "      <th>Nom_Local</th>\n",
              "      <th>Longitude</th>\n",
              "      <th>Latitude</th>\n",
              "      <th>xCoord</th>\n",
              "      <th>yCoord</th>\n",
              "      <th>rqtListe_Pompe.Modele_Pompe</th>\n",
              "      <th>Latitude_decimals</th>\n",
              "      <th>Longitude_decimals</th>\n",
              "    </tr>\n",
              "    <tr>\n",
              "      <th>Arrondissement</th>\n",
              "      <th></th>\n",
              "      <th></th>\n",
              "      <th></th>\n",
              "      <th></th>\n",
              "      <th></th>\n",
              "      <th></th>\n",
              "      <th></th>\n",
              "      <th></th>\n",
              "      <th></th>\n",
              "      <th></th>\n",
              "    </tr>\n",
              "  </thead>\n",
              "  <tbody>\n",
              "    <tr>\n",
              "      <th>BIRO</th>\n",
              "      <td>BIRO</td>\n",
              "      <td>Banon</td>\n",
              "      <td>BAANON</td>\n",
              "      <td>02°46'50.0\"E</td>\n",
              "      <td>09°50'00.0\"N</td>\n",
              "      <td>2.780555</td>\n",
              "      <td>9.833333</td>\n",
              "      <td>ABI</td>\n",
              "      <td>9.833333</td>\n",
              "      <td>2.780556</td>\n",
              "    </tr>\n",
              "    <tr>\n",
              "      <th>GNONKOURAKALI</th>\n",
              "      <td>GBARI</td>\n",
              "      <td>Bassiarou</td>\n",
              "      <td></td>\n",
              "      <td>02°46'22.2\"E</td>\n",
              "      <td>09°56'00.0\"N</td>\n",
              "      <td>2.772833</td>\n",
              "      <td>10</td>\n",
              "      <td>AFRIDEV</td>\n",
              "      <td>9.933333</td>\n",
              "      <td>2.772833</td>\n",
              "    </tr>\n",
              "    <tr>\n",
              "      <th>NIKKI</th>\n",
              "      <td>BOUASSI</td>\n",
              "      <td>Alazi Kparou</td>\n",
              "      <td></td>\n",
              "      <td>03°06'03.2\"E</td>\n",
              "      <td>09°07'25.7\"N</td>\n",
              "      <td>3.100889</td>\n",
              "      <td>10.00028</td>\n",
              "      <td>ABI</td>\n",
              "      <td>9.123806</td>\n",
              "      <td>3.100889</td>\n",
              "    </tr>\n",
              "    <tr>\n",
              "      <th>OUENOU</th>\n",
              "      <td>FOMBAOUI</td>\n",
              "      <td>Assolè</td>\n",
              "      <td></td>\n",
              "      <td>03°15'37.8\"E</td>\n",
              "      <td>09°50'00.0\"N</td>\n",
              "      <td>3.2605</td>\n",
              "      <td>9.833333</td>\n",
              "      <td>AFRIDEV</td>\n",
              "      <td>9.833333</td>\n",
              "      <td>3.260500</td>\n",
              "    </tr>\n",
              "    <tr>\n",
              "      <th>SEREKALE</th>\n",
              "      <td>GANROU BARIBA</td>\n",
              "      <td>Alafiarou</td>\n",
              "      <td></td>\n",
              "      <td>02°58'35.1\"E</td>\n",
              "      <td>09°53'02.7\"N</td>\n",
              "      <td>2.976417</td>\n",
              "      <td>10.00361</td>\n",
              "      <td>AFRIDEV</td>\n",
              "      <td>9.884083</td>\n",
              "      <td>2.976417</td>\n",
              "    </tr>\n",
              "    <tr>\n",
              "      <th>SUYA</th>\n",
              "      <td>DAROUKPARA</td>\n",
              "      <td>Bantéré</td>\n",
              "      <td>BANTERE</td>\n",
              "      <td>03°01'43.1\"E</td>\n",
              "      <td>09°48'57.7\"N</td>\n",
              "      <td>3.028639</td>\n",
              "      <td>9.816028</td>\n",
              "      <td>INDIA</td>\n",
              "      <td>9.816028</td>\n",
              "      <td>3.028639</td>\n",
              "    </tr>\n",
              "    <tr>\n",
              "      <th>TASSO</th>\n",
              "      <td>CHEIN</td>\n",
              "      <td>Bakou Tanakpé</td>\n",
              "      <td></td>\n",
              "      <td>02°53'20.5\"E</td>\n",
              "      <td>09°39'17.7\"N</td>\n",
              "      <td>2.889028</td>\n",
              "      <td>10.19672</td>\n",
              "      <td>ABI</td>\n",
              "      <td>9.654917</td>\n",
              "      <td>2.889028</td>\n",
              "    </tr>\n",
              "  </tbody>\n",
              "</table>\n",
              "</div>"
            ],
            "text/plain": [
              "                      Village  ... Longitude_decimals\n",
              "Arrondissement                 ...                   \n",
              "BIRO                     BIRO  ...           2.780556\n",
              "GNONKOURAKALI           GBARI  ...           2.772833\n",
              "NIKKI                 BOUASSI  ...           3.100889\n",
              "OUENOU               FOMBAOUI  ...           3.260500\n",
              "SEREKALE        GANROU BARIBA  ...           2.976417\n",
              "SUYA               DAROUKPARA  ...           3.028639\n",
              "TASSO                   CHEIN  ...           2.889028\n",
              "\n",
              "[7 rows x 10 columns]"
            ]
          },
          "metadata": {
            "tags": []
          },
          "execution_count": 37
        }
      ]
    },
    {
      "cell_type": "code",
      "metadata": {
        "id": "4jd1tEL_HMeQ",
        "colab_type": "code",
        "colab": {
          "base_uri": "https://localhost:8080/",
          "height": 33
        },
        "outputId": "e5377809-ed19-48de-9dab-845057ebe0ad"
      },
      "source": [
        "df_2019.loc[0,'xCoord']"
      ],
      "execution_count": 15,
      "outputs": [
        {
          "output_type": "execute_result",
          "data": {
            "text/plain": [
              "'2.947778'"
            ]
          },
          "metadata": {
            "tags": []
          },
          "execution_count": 15
        }
      ]
    },
    {
      "cell_type": "code",
      "metadata": {
        "id": "pXY1d_kQIT9m",
        "colab_type": "code",
        "colab": {
          "base_uri": "https://localhost:8080/",
          "height": 33
        },
        "outputId": "4b213697-afaa-437e-d7c8-0dbaf8a35c77"
      },
      "source": [
        "df_2019.loc[0,'Longitude']"
      ],
      "execution_count": 16,
      "outputs": [
        {
          "output_type": "execute_result",
          "data": {
            "text/plain": [
              "'02°56\\'52.0\"E'"
            ]
          },
          "metadata": {
            "tags": []
          },
          "execution_count": 16
        }
      ]
    },
    {
      "cell_type": "code",
      "metadata": {
        "id": "rxtnAAjqInGL",
        "colab_type": "code",
        "colab": {
          "base_uri": "https://localhost:8080/",
          "height": 33
        },
        "outputId": "0651f762-a003-46e9-c010-f7a31f437271"
      },
      "source": [
        "import re\n",
        "lat = df_2019.loc[0,'Longitude']\n",
        "deg, minutes, seconds, direction =  re.split('[°\\'\"]', lat)\n",
        "(float(deg) + float(minutes)/60 + float(seconds)/(60*60)) * (-1 if direction in ['W', 'S'] else 1)"
      ],
      "execution_count": 17,
      "outputs": [
        {
          "output_type": "execute_result",
          "data": {
            "text/plain": [
              "2.947777777777778"
            ]
          },
          "metadata": {
            "tags": []
          },
          "execution_count": 17
        }
      ]
    },
    {
      "cell_type": "code",
      "metadata": {
        "id": "euTWzzqMI-Wv",
        "colab_type": "code",
        "colab": {
          "base_uri": "https://localhost:8080/",
          "height": 50
        },
        "outputId": "a0b52d11-88b2-4a8f-b3f9-c7fdea81942b"
      },
      "source": [
        "def decimals_lat(x):\n",
        "  if x['Latitude']:\n",
        "    if len(re.split('[°\\'\"]', x['Latitude'])) == 4 :\n",
        "      deg, minutes, seconds, direction =  re.split('[°\\'\"]', x['Latitude'])\n",
        "      lat=(float(deg) + float(minutes)/60 + float(seconds)/(60*60)) * (-1 if direction in ['W', 'S'] else 1)\n",
        "    elif len(re.split('[°\\'\"]', x['Latitude'])) > 0:\n",
        "      lat=x['Latitude']\n",
        "      print(lat)\n",
        "  else:\n",
        "    lat=None\n",
        "    print(lat)\n",
        "  return lat\n",
        "df_2019['Latitude_decimals']=df_2019.apply(lambda x: decimals_lat(x),axis=1)"
      ],
      "execution_count": 18,
      "outputs": [
        {
          "output_type": "stream",
          "text": [
            "None\n",
            "None\n"
          ],
          "name": "stdout"
        }
      ]
    },
    {
      "cell_type": "code",
      "metadata": {
        "id": "sAAfpuXYMQw8",
        "colab_type": "code",
        "colab": {
          "base_uri": "https://localhost:8080/",
          "height": 50
        },
        "outputId": "425a74ce-3379-452a-d4d7-dccc2bacd84d"
      },
      "source": [
        "def decimals_lon(x):\n",
        "  if x['Longitude']:\n",
        "    if len(re.split('[°\\'\"]', x['Longitude'])) == 4 :\n",
        "      deg, minutes, seconds, direction =  re.split('[°\\'\"]', x['Longitude'])\n",
        "      lat=(float(deg) + float(minutes)/60 + float(seconds)/(60*60)) * (-1 if direction in ['W', 'S'] else 1)\n",
        "    elif len(re.split('[°\\'\"]', x['Longitude'])) > 0:\n",
        "      lat=x['Longitude']\n",
        "      print(lat)\n",
        "  else:\n",
        "    lat=None\n",
        "    print(lat)\n",
        "  return lat\n",
        "df_2019['Longitude_decimals']=df_2019.apply(lambda x: decimals_lon(x),axis=1)"
      ],
      "execution_count": 19,
      "outputs": [
        {
          "output_type": "stream",
          "text": [
            "None\n",
            "None\n"
          ],
          "name": "stdout"
        }
      ]
    },
    {
      "cell_type": "code",
      "metadata": {
        "id": "qdUlHWBhJPMm",
        "colab_type": "code",
        "colab": {}
      },
      "source": [
        "df_2019=df_2019.dropna()"
      ],
      "execution_count": 0,
      "outputs": []
    },
    {
      "cell_type": "code",
      "metadata": {
        "id": "sQ9LgDXLOjA0",
        "colab_type": "code",
        "colab": {}
      },
      "source": [
        "#!apt-get install libgeos-3.5.0\n",
        "#!apt-get install libgeos-dev\n",
        "#!pip install https://github.com/matplotlib/basemap/archive/master.zip"
      ],
      "execution_count": 0,
      "outputs": []
    },
    {
      "cell_type": "code",
      "metadata": {
        "id": "54Z16bxaP9s3",
        "colab_type": "code",
        "colab": {
          "base_uri": "https://localhost:8080/",
          "height": 212
        },
        "outputId": "ef525396-6f12-47c5-a7f3-b446b1598181"
      },
      "source": [
        "!pip install pyproj==1.9.6"
      ],
      "execution_count": 22,
      "outputs": [
        {
          "output_type": "stream",
          "text": [
            "Collecting pyproj==1.9.6\n",
            "\u001b[?25l  Downloading https://files.pythonhosted.org/packages/26/8c/1da0580f334718e04f8bbf74f0515a7fb8185ff96b2560ce080c11aa145b/pyproj-1.9.6.tar.gz (2.8MB)\n",
            "\r\u001b[K     |▏                               | 10kB 15.5MB/s eta 0:00:01\r\u001b[K     |▎                               | 20kB 4.4MB/s eta 0:00:01\r\u001b[K     |▍                               | 30kB 6.3MB/s eta 0:00:01\r\u001b[K     |▌                               | 40kB 4.0MB/s eta 0:00:01\r\u001b[K     |▋                               | 51kB 4.9MB/s eta 0:00:01\r\u001b[K     |▊                               | 61kB 5.8MB/s eta 0:00:01\r\u001b[K     |▉                               | 71kB 6.7MB/s eta 0:00:01\r\u001b[K     |█                               | 81kB 7.5MB/s eta 0:00:01\r\u001b[K     |█                               | 92kB 5.4MB/s eta 0:00:01\r\u001b[K     |█▏                              | 102kB 6.0MB/s eta 0:00:01\r\u001b[K     |█▎                              | 112kB 6.0MB/s eta 0:00:01\r\u001b[K     |█▍                              | 122kB 6.0MB/s eta 0:00:01\r\u001b[K     |█▌                              | 133kB 6.0MB/s eta 0:00:01\r\u001b[K     |█▋                              | 143kB 6.0MB/s eta 0:00:01\r\u001b[K     |█▊                              | 153kB 6.0MB/s eta 0:00:01\r\u001b[K     |█▉                              | 163kB 6.0MB/s eta 0:00:01\r\u001b[K     |██                              | 174kB 6.0MB/s eta 0:00:01\r\u001b[K     |██                              | 184kB 6.0MB/s eta 0:00:01\r\u001b[K     |██▎                             | 194kB 6.0MB/s eta 0:00:01\r\u001b[K     |██▍                             | 204kB 6.0MB/s eta 0:00:01\r\u001b[K     |██▌                             | 215kB 6.0MB/s eta 0:00:01\r\u001b[K     |██▋                             | 225kB 6.0MB/s eta 0:00:01\r\u001b[K     |██▊                             | 235kB 6.0MB/s eta 0:00:01\r\u001b[K     |██▉                             | 245kB 6.0MB/s eta 0:00:01\r\u001b[K     |███                             | 256kB 6.0MB/s eta 0:00:01\r\u001b[K     |███                             | 266kB 6.0MB/s eta 0:00:01\r\u001b[K     |███▏                            | 276kB 6.0MB/s eta 0:00:01\r\u001b[K     |███▎                            | 286kB 6.0MB/s eta 0:00:01\r\u001b[K     |███▍                            | 296kB 6.0MB/s eta 0:00:01\r\u001b[K     |███▌                            | 307kB 6.0MB/s eta 0:00:01\r\u001b[K     |███▋                            | 317kB 6.0MB/s eta 0:00:01\r\u001b[K     |███▊                            | 327kB 6.0MB/s eta 0:00:01\r\u001b[K     |███▉                            | 337kB 6.0MB/s eta 0:00:01\r\u001b[K     |████                            | 348kB 6.0MB/s eta 0:00:01\r\u001b[K     |████                            | 358kB 6.0MB/s eta 0:00:01\r\u001b[K     |████▏                           | 368kB 6.0MB/s eta 0:00:01\r\u001b[K     |████▎                           | 378kB 6.0MB/s eta 0:00:01\r\u001b[K     |████▌                           | 389kB 6.0MB/s eta 0:00:01\r\u001b[K     |████▋                           | 399kB 6.0MB/s eta 0:00:01\r\u001b[K     |████▊                           | 409kB 6.0MB/s eta 0:00:01\r\u001b[K     |████▉                           | 419kB 6.0MB/s eta 0:00:01\r\u001b[K     |█████                           | 430kB 6.0MB/s eta 0:00:01\r\u001b[K     |█████                           | 440kB 6.0MB/s eta 0:00:01\r\u001b[K     |█████▏                          | 450kB 6.0MB/s eta 0:00:01\r\u001b[K     |█████▎                          | 460kB 6.0MB/s eta 0:00:01\r\u001b[K     |█████▍                          | 471kB 6.0MB/s eta 0:00:01\r\u001b[K     |█████▌                          | 481kB 6.0MB/s eta 0:00:01\r\u001b[K     |█████▋                          | 491kB 6.0MB/s eta 0:00:01\r\u001b[K     |█████▊                          | 501kB 6.0MB/s eta 0:00:01\r\u001b[K     |█████▉                          | 512kB 6.0MB/s eta 0:00:01\r\u001b[K     |██████                          | 522kB 6.0MB/s eta 0:00:01\r\u001b[K     |██████                          | 532kB 6.0MB/s eta 0:00:01\r\u001b[K     |██████▏                         | 542kB 6.0MB/s eta 0:00:01\r\u001b[K     |██████▎                         | 552kB 6.0MB/s eta 0:00:01\r\u001b[K     |██████▍                         | 563kB 6.0MB/s eta 0:00:01\r\u001b[K     |██████▋                         | 573kB 6.0MB/s eta 0:00:01\r\u001b[K     |██████▊                         | 583kB 6.0MB/s eta 0:00:01\r\u001b[K     |██████▉                         | 593kB 6.0MB/s eta 0:00:01\r\u001b[K     |███████                         | 604kB 6.0MB/s eta 0:00:01\r\u001b[K     |███████                         | 614kB 6.0MB/s eta 0:00:01\r\u001b[K     |███████▏                        | 624kB 6.0MB/s eta 0:00:01\r\u001b[K     |███████▎                        | 634kB 6.0MB/s eta 0:00:01\r\u001b[K     |███████▍                        | 645kB 6.0MB/s eta 0:00:01\r\u001b[K     |███████▌                        | 655kB 6.0MB/s eta 0:00:01\r\u001b[K     |███████▋                        | 665kB 6.0MB/s eta 0:00:01\r\u001b[K     |███████▊                        | 675kB 6.0MB/s eta 0:00:01\r\u001b[K     |███████▉                        | 686kB 6.0MB/s eta 0:00:01\r\u001b[K     |████████                        | 696kB 6.0MB/s eta 0:00:01\r\u001b[K     |████████                        | 706kB 6.0MB/s eta 0:00:01\r\u001b[K     |████████▏                       | 716kB 6.0MB/s eta 0:00:01\r\u001b[K     |████████▎                       | 727kB 6.0MB/s eta 0:00:01\r\u001b[K     |████████▍                       | 737kB 6.0MB/s eta 0:00:01\r\u001b[K     |████████▌                       | 747kB 6.0MB/s eta 0:00:01\r\u001b[K     |████████▋                       | 757kB 6.0MB/s eta 0:00:01\r\u001b[K     |████████▉                       | 768kB 6.0MB/s eta 0:00:01\r\u001b[K     |█████████                       | 778kB 6.0MB/s eta 0:00:01\r\u001b[K     |█████████                       | 788kB 6.0MB/s eta 0:00:01\r\u001b[K     |█████████▏                      | 798kB 6.0MB/s eta 0:00:01\r\u001b[K     |█████████▎                      | 808kB 6.0MB/s eta 0:00:01\r\u001b[K     |█████████▍                      | 819kB 6.0MB/s eta 0:00:01\r\u001b[K     |█████████▌                      | 829kB 6.0MB/s eta 0:00:01\r\u001b[K     |█████████▋                      | 839kB 6.0MB/s eta 0:00:01\r\u001b[K     |█████████▊                      | 849kB 6.0MB/s eta 0:00:01\r\u001b[K     |█████████▉                      | 860kB 6.0MB/s eta 0:00:01\r\u001b[K     |██████████                      | 870kB 6.0MB/s eta 0:00:01\r\u001b[K     |██████████                      | 880kB 6.0MB/s eta 0:00:01\r\u001b[K     |██████████▏                     | 890kB 6.0MB/s eta 0:00:01\r\u001b[K     |██████████▎                     | 901kB 6.0MB/s eta 0:00:01\r\u001b[K     |██████████▍                     | 911kB 6.0MB/s eta 0:00:01\r\u001b[K     |██████████▌                     | 921kB 6.0MB/s eta 0:00:01\r\u001b[K     |██████████▋                     | 931kB 6.0MB/s eta 0:00:01\r\u001b[K     |██████████▊                     | 942kB 6.0MB/s eta 0:00:01\r\u001b[K     |███████████                     | 952kB 6.0MB/s eta 0:00:01\r\u001b[K     |███████████                     | 962kB 6.0MB/s eta 0:00:01\r\u001b[K     |███████████▏                    | 972kB 6.0MB/s eta 0:00:01\r\u001b[K     |███████████▎                    | 983kB 6.0MB/s eta 0:00:01\r\u001b[K     |███████████▍                    | 993kB 6.0MB/s eta 0:00:01\r\u001b[K     |███████████▌                    | 1.0MB 6.0MB/s eta 0:00:01\r\u001b[K     |███████████▋                    | 1.0MB 6.0MB/s eta 0:00:01\r\u001b[K     |███████████▊                    | 1.0MB 6.0MB/s eta 0:00:01\r\u001b[K     |███████████▉                    | 1.0MB 6.0MB/s eta 0:00:01\r\u001b[K     |████████████                    | 1.0MB 6.0MB/s eta 0:00:01\r\u001b[K     |████████████                    | 1.1MB 6.0MB/s eta 0:00:01\r\u001b[K     |████████████▏                   | 1.1MB 6.0MB/s eta 0:00:01\r\u001b[K     |████████████▎                   | 1.1MB 6.0MB/s eta 0:00:01\r\u001b[K     |████████████▍                   | 1.1MB 6.0MB/s eta 0:00:01\r\u001b[K     |████████████▌                   | 1.1MB 6.0MB/s eta 0:00:01\r\u001b[K     |████████████▋                   | 1.1MB 6.0MB/s eta 0:00:01\r\u001b[K     |████████████▊                   | 1.1MB 6.0MB/s eta 0:00:01\r\u001b[K     |████████████▉                   | 1.1MB 6.0MB/s eta 0:00:01\r\u001b[K     |█████████████                   | 1.1MB 6.0MB/s eta 0:00:01\r\u001b[K     |█████████████▏                  | 1.1MB 6.0MB/s eta 0:00:01\r\u001b[K     |█████████████▎                  | 1.2MB 6.0MB/s eta 0:00:01\r\u001b[K     |█████████████▍                  | 1.2MB 6.0MB/s eta 0:00:01\r\u001b[K     |█████████████▌                  | 1.2MB 6.0MB/s eta 0:00:01\r\u001b[K     |█████████████▋                  | 1.2MB 6.0MB/s eta 0:00:01\r\u001b[K     |█████████████▊                  | 1.2MB 6.0MB/s eta 0:00:01\r\u001b[K     |█████████████▉                  | 1.2MB 6.0MB/s eta 0:00:01\r\u001b[K     |██████████████                  | 1.2MB 6.0MB/s eta 0:00:01\r\u001b[K     |██████████████                  | 1.2MB 6.0MB/s eta 0:00:01\r\u001b[K     |██████████████▏                 | 1.2MB 6.0MB/s eta 0:00:01\r\u001b[K     |██████████████▎                 | 1.2MB 6.0MB/s eta 0:00:01\r\u001b[K     |██████████████▍                 | 1.3MB 6.0MB/s eta 0:00:01\r\u001b[K     |██████████████▌                 | 1.3MB 6.0MB/s eta 0:00:01\r\u001b[K     |██████████████▋                 | 1.3MB 6.0MB/s eta 0:00:01\r\u001b[K     |██████████████▊                 | 1.3MB 6.0MB/s eta 0:00:01\r\u001b[K     |██████████████▉                 | 1.3MB 6.0MB/s eta 0:00:01\r\u001b[K     |███████████████                 | 1.3MB 6.0MB/s eta 0:00:01\r\u001b[K     |███████████████                 | 1.3MB 6.0MB/s eta 0:00:01\r\u001b[K     |███████████████▎                | 1.3MB 6.0MB/s eta 0:00:01\r\u001b[K     |███████████████▍                | 1.3MB 6.0MB/s eta 0:00:01\r\u001b[K     |███████████████▌                | 1.4MB 6.0MB/s eta 0:00:01\r\u001b[K     |███████████████▋                | 1.4MB 6.0MB/s eta 0:00:01\r\u001b[K     |███████████████▊                | 1.4MB 6.0MB/s eta 0:00:01\r\u001b[K     |███████████████▉                | 1.4MB 6.0MB/s eta 0:00:01\r\u001b[K     |████████████████                | 1.4MB 6.0MB/s eta 0:00:01\r\u001b[K     |████████████████                | 1.4MB 6.0MB/s eta 0:00:01\r\u001b[K     |████████████████▏               | 1.4MB 6.0MB/s eta 0:00:01\r\u001b[K     |████████████████▎               | 1.4MB 6.0MB/s eta 0:00:01\r\u001b[K     |████████████████▍               | 1.4MB 6.0MB/s eta 0:00:01\r\u001b[K     |████████████████▌               | 1.4MB 6.0MB/s eta 0:00:01\r\u001b[K     |████████████████▋               | 1.5MB 6.0MB/s eta 0:00:01\r\u001b[K     |████████████████▊               | 1.5MB 6.0MB/s eta 0:00:01\r\u001b[K     |████████████████▉               | 1.5MB 6.0MB/s eta 0:00:01\r\u001b[K     |█████████████████               | 1.5MB 6.0MB/s eta 0:00:01\r\u001b[K     |█████████████████               | 1.5MB 6.0MB/s eta 0:00:01\r\u001b[K     |█████████████████▏              | 1.5MB 6.0MB/s eta 0:00:01\r\u001b[K     |█████████████████▎              | 1.5MB 6.0MB/s eta 0:00:01\r\u001b[K     |█████████████████▌              | 1.5MB 6.0MB/s eta 0:00:01\r\u001b[K     |█████████████████▋              | 1.5MB 6.0MB/s eta 0:00:01\r\u001b[K     |█████████████████▊              | 1.5MB 6.0MB/s eta 0:00:01\r\u001b[K     |█████████████████▉              | 1.6MB 6.0MB/s eta 0:00:01\r\u001b[K     |██████████████████              | 1.6MB 6.0MB/s eta 0:00:01\r\u001b[K     |██████████████████              | 1.6MB 6.0MB/s eta 0:00:01\r\u001b[K     |██████████████████▏             | 1.6MB 6.0MB/s eta 0:00:01\r\u001b[K     |██████████████████▎             | 1.6MB 6.0MB/s eta 0:00:01\r\u001b[K     |██████████████████▍             | 1.6MB 6.0MB/s eta 0:00:01\r\u001b[K     |██████████████████▌             | 1.6MB 6.0MB/s eta 0:00:01\r\u001b[K     |██████████████████▋             | 1.6MB 6.0MB/s eta 0:00:01\r\u001b[K     |██████████████████▊             | 1.6MB 6.0MB/s eta 0:00:01\r\u001b[K     |██████████████████▉             | 1.6MB 6.0MB/s eta 0:00:01\r\u001b[K     |███████████████████             | 1.7MB 6.0MB/s eta 0:00:01\r\u001b[K     |███████████████████             | 1.7MB 6.0MB/s eta 0:00:01\r\u001b[K     |███████████████████▏            | 1.7MB 6.0MB/s eta 0:00:01\r\u001b[K     |███████████████████▎            | 1.7MB 6.0MB/s eta 0:00:01\r\u001b[K     |███████████████████▍            | 1.7MB 6.0MB/s eta 0:00:01\r\u001b[K     |███████████████████▋            | 1.7MB 6.0MB/s eta 0:00:01\r\u001b[K     |███████████████████▊            | 1.7MB 6.0MB/s eta 0:00:01\r\u001b[K     |███████████████████▉            | 1.7MB 6.0MB/s eta 0:00:01\r\u001b[K     |████████████████████            | 1.7MB 6.0MB/s eta 0:00:01\r\u001b[K     |████████████████████            | 1.8MB 6.0MB/s eta 0:00:01\r\u001b[K     |████████████████████▏           | 1.8MB 6.0MB/s eta 0:00:01\r\u001b[K     |████████████████████▎           | 1.8MB 6.0MB/s eta 0:00:01\r\u001b[K     |████████████████████▍           | 1.8MB 6.0MB/s eta 0:00:01\r\u001b[K     |████████████████████▌           | 1.8MB 6.0MB/s eta 0:00:01\r\u001b[K     |████████████████████▋           | 1.8MB 6.0MB/s eta 0:00:01\r\u001b[K     |████████████████████▊           | 1.8MB 6.0MB/s eta 0:00:01\r\u001b[K     |████████████████████▉           | 1.8MB 6.0MB/s eta 0:00:01\r\u001b[K     |█████████████████████           | 1.8MB 6.0MB/s eta 0:00:01\r\u001b[K     |█████████████████████           | 1.8MB 6.0MB/s eta 0:00:01\r\u001b[K     |█████████████████████▏          | 1.9MB 6.0MB/s eta 0:00:01\r\u001b[K     |█████████████████████▎          | 1.9MB 6.0MB/s eta 0:00:01\r\u001b[K     |█████████████████████▍          | 1.9MB 6.0MB/s eta 0:00:01\r\u001b[K     |█████████████████████▌          | 1.9MB 6.0MB/s eta 0:00:01\r\u001b[K     |█████████████████████▋          | 1.9MB 6.0MB/s eta 0:00:01\r\u001b[K     |█████████████████████▉          | 1.9MB 6.0MB/s eta 0:00:01\r\u001b[K     |██████████████████████          | 1.9MB 6.0MB/s eta 0:00:01\r\u001b[K     |██████████████████████          | 1.9MB 6.0MB/s eta 0:00:01\r\u001b[K     |██████████████████████▏         | 1.9MB 6.0MB/s eta 0:00:01\r\u001b[K     |██████████████████████▎         | 1.9MB 6.0MB/s eta 0:00:01\r\u001b[K     |██████████████████████▍         | 2.0MB 6.0MB/s eta 0:00:01\r\u001b[K     |██████████████████████▌         | 2.0MB 6.0MB/s eta 0:00:01\r\u001b[K     |██████████████████████▋         | 2.0MB 6.0MB/s eta 0:00:01\r\u001b[K     |██████████████████████▊         | 2.0MB 6.0MB/s eta 0:00:01\r\u001b[K     |██████████████████████▉         | 2.0MB 6.0MB/s eta 0:00:01\r\u001b[K     |███████████████████████         | 2.0MB 6.0MB/s eta 0:00:01\r\u001b[K     |███████████████████████         | 2.0MB 6.0MB/s eta 0:00:01\r\u001b[K     |███████████████████████▏        | 2.0MB 6.0MB/s eta 0:00:01\r\u001b[K     |███████████████████████▎        | 2.0MB 6.0MB/s eta 0:00:01\r\u001b[K     |███████████████████████▍        | 2.0MB 6.0MB/s eta 0:00:01\r\u001b[K     |███████████████████████▌        | 2.1MB 6.0MB/s eta 0:00:01\r\u001b[K     |███████████████████████▋        | 2.1MB 6.0MB/s eta 0:00:01\r\u001b[K     |███████████████████████▊        | 2.1MB 6.0MB/s eta 0:00:01\r\u001b[K     |████████████████████████        | 2.1MB 6.0MB/s eta 0:00:01\r\u001b[K     |████████████████████████        | 2.1MB 6.0MB/s eta 0:00:01\r\u001b[K     |████████████████████████▏       | 2.1MB 6.0MB/s eta 0:00:01\r\u001b[K     |████████████████████████▎       | 2.1MB 6.0MB/s eta 0:00:01\r\u001b[K     |████████████████████████▍       | 2.1MB 6.0MB/s eta 0:00:01\r\u001b[K     |████████████████████████▌       | 2.1MB 6.0MB/s eta 0:00:01\r\u001b[K     |████████████████████████▋       | 2.2MB 6.0MB/s eta 0:00:01\r\u001b[K     |████████████████████████▊       | 2.2MB 6.0MB/s eta 0:00:01\r\u001b[K     |████████████████████████▉       | 2.2MB 6.0MB/s eta 0:00:01\r\u001b[K     |█████████████████████████       | 2.2MB 6.0MB/s eta 0:00:01\r\u001b[K     |█████████████████████████       | 2.2MB 6.0MB/s eta 0:00:01\r\u001b[K     |█████████████████████████▏      | 2.2MB 6.0MB/s eta 0:00:01\r\u001b[K     |█████████████████████████▎      | 2.2MB 6.0MB/s eta 0:00:01\r\u001b[K     |█████████████████████████▍      | 2.2MB 6.0MB/s eta 0:00:01\r\u001b[K     |█████████████████████████▌      | 2.2MB 6.0MB/s eta 0:00:01\r\u001b[K     |█████████████████████████▋      | 2.2MB 6.0MB/s eta 0:00:01\r\u001b[K     |█████████████████████████▊      | 2.3MB 6.0MB/s eta 0:00:01\r\u001b[K     |█████████████████████████▉      | 2.3MB 6.0MB/s eta 0:00:01\r\u001b[K     |██████████████████████████      | 2.3MB 6.0MB/s eta 0:00:01\r\u001b[K     |██████████████████████████▏     | 2.3MB 6.0MB/s eta 0:00:01\r\u001b[K     |██████████████████████████▎     | 2.3MB 6.0MB/s eta 0:00:01\r\u001b[K     |██████████████████████████▍     | 2.3MB 6.0MB/s eta 0:00:01\r\u001b[K     |██████████████████████████▌     | 2.3MB 6.0MB/s eta 0:00:01\r\u001b[K     |██████████████████████████▋     | 2.3MB 6.0MB/s eta 0:00:01\r\u001b[K     |██████████████████████████▊     | 2.3MB 6.0MB/s eta 0:00:01\r\u001b[K     |██████████████████████████▉     | 2.3MB 6.0MB/s eta 0:00:01\r\u001b[K     |███████████████████████████     | 2.4MB 6.0MB/s eta 0:00:01\r\u001b[K     |███████████████████████████     | 2.4MB 6.0MB/s eta 0:00:01\r\u001b[K     |███████████████████████████▏    | 2.4MB 6.0MB/s eta 0:00:01\r\u001b[K     |███████████████████████████▎    | 2.4MB 6.0MB/s eta 0:00:01\r\u001b[K     |███████████████████████████▍    | 2.4MB 6.0MB/s eta 0:00:01\r\u001b[K     |███████████████████████████▌    | 2.4MB 6.0MB/s eta 0:00:01\r\u001b[K     |███████████████████████████▋    | 2.4MB 6.0MB/s eta 0:00:01\r\u001b[K     |███████████████████████████▊    | 2.4MB 6.0MB/s eta 0:00:01\r\u001b[K     |███████████████████████████▉    | 2.4MB 6.0MB/s eta 0:00:01\r\u001b[K     |████████████████████████████    | 2.4MB 6.0MB/s eta 0:00:01\r\u001b[K     |████████████████████████████    | 2.5MB 6.0MB/s eta 0:00:01\r\u001b[K     |████████████████████████████▎   | 2.5MB 6.0MB/s eta 0:00:01\r\u001b[K     |████████████████████████████▍   | 2.5MB 6.0MB/s eta 0:00:01\r\u001b[K     |████████████████████████████▌   | 2.5MB 6.0MB/s eta 0:00:01\r\u001b[K     |████████████████████████████▋   | 2.5MB 6.0MB/s eta 0:00:01\r\u001b[K     |████████████████████████████▊   | 2.5MB 6.0MB/s eta 0:00:01\r\u001b[K     |████████████████████████████▉   | 2.5MB 6.0MB/s eta 0:00:01\r\u001b[K     |█████████████████████████████   | 2.5MB 6.0MB/s eta 0:00:01\r\u001b[K     |█████████████████████████████   | 2.5MB 6.0MB/s eta 0:00:01\r\u001b[K     |█████████████████████████████▏  | 2.5MB 6.0MB/s eta 0:00:01\r\u001b[K     |█████████████████████████████▎  | 2.6MB 6.0MB/s eta 0:00:01\r\u001b[K     |█████████████████████████████▍  | 2.6MB 6.0MB/s eta 0:00:01\r\u001b[K     |█████████████████████████████▌  | 2.6MB 6.0MB/s eta 0:00:01\r\u001b[K     |█████████████████████████████▋  | 2.6MB 6.0MB/s eta 0:00:01\r\u001b[K     |█████████████████████████████▊  | 2.6MB 6.0MB/s eta 0:00:01\r\u001b[K     |█████████████████████████████▉  | 2.6MB 6.0MB/s eta 0:00:01\r\u001b[K     |██████████████████████████████  | 2.6MB 6.0MB/s eta 0:00:01\r\u001b[K     |██████████████████████████████  | 2.6MB 6.0MB/s eta 0:00:01\r\u001b[K     |██████████████████████████████▏ | 2.6MB 6.0MB/s eta 0:00:01\r\u001b[K     |██████████████████████████████▎ | 2.7MB 6.0MB/s eta 0:00:01\r\u001b[K     |██████████████████████████████▌ | 2.7MB 6.0MB/s eta 0:00:01\r\u001b[K     |██████████████████████████████▋ | 2.7MB 6.0MB/s eta 0:00:01\r\u001b[K     |██████████████████████████████▊ | 2.7MB 6.0MB/s eta 0:00:01\r\u001b[K     |██████████████████████████████▉ | 2.7MB 6.0MB/s eta 0:00:01\r\u001b[K     |███████████████████████████████ | 2.7MB 6.0MB/s eta 0:00:01\r\u001b[K     |███████████████████████████████ | 2.7MB 6.0MB/s eta 0:00:01\r\u001b[K     |███████████████████████████████▏| 2.7MB 6.0MB/s eta 0:00:01\r\u001b[K     |███████████████████████████████▎| 2.7MB 6.0MB/s eta 0:00:01\r\u001b[K     |███████████████████████████████▍| 2.7MB 6.0MB/s eta 0:00:01\r\u001b[K     |███████████████████████████████▌| 2.8MB 6.0MB/s eta 0:00:01\r\u001b[K     |███████████████████████████████▋| 2.8MB 6.0MB/s eta 0:00:01\r\u001b[K     |███████████████████████████████▊| 2.8MB 6.0MB/s eta 0:00:01\r\u001b[K     |███████████████████████████████▉| 2.8MB 6.0MB/s eta 0:00:01\r\u001b[K     |████████████████████████████████| 2.8MB 6.0MB/s eta 0:00:01\r\u001b[K     |████████████████████████████████| 2.8MB 6.0MB/s \n",
            "\u001b[?25hBuilding wheels for collected packages: pyproj\n",
            "  Building wheel for pyproj (setup.py) ... \u001b[?25l\u001b[?25hdone\n",
            "  Stored in directory: /root/.cache/pip/wheels/02/cd/b1/a2d6430f74c7a778a43d62f78bec109ca69c732dc9b929142a\n",
            "Successfully built pyproj\n",
            "Installing collected packages: pyproj\n",
            "  Found existing installation: pyproj 2.2.1\n",
            "    Uninstalling pyproj-2.2.1:\n",
            "      Successfully uninstalled pyproj-2.2.1\n",
            "Successfully installed pyproj-1.9.6\n"
          ],
          "name": "stdout"
        }
      ]
    },
    {
      "cell_type": "code",
      "metadata": {
        "id": "5g3Jn9scNDlM",
        "colab_type": "code",
        "colab": {}
      },
      "source": [
        "from mpl_toolkits.basemap import Basemap\n",
        "import folium\n",
        "from matplotlib import colors as mcolors\n",
        "import matplotlib.patches as mpatches"
      ],
      "execution_count": 0,
      "outputs": []
    },
    {
      "cell_type": "code",
      "metadata": {
        "id": "yNYXs46kS2Yp",
        "colab_type": "code",
        "colab": {}
      },
      "source": [
        "df_count=df_2019[['Arrondissement','Village']].groupby('Arrondissement',axis=0).count()\n",
        "colors = dict(mcolors.BASE_COLORS, **mcolors.CSS4_COLORS)"
      ],
      "execution_count": 0,
      "outputs": []
    },
    {
      "cell_type": "code",
      "metadata": {
        "id": "nk4ZoeZd883q",
        "colab_type": "code",
        "colab": {
          "base_uri": "https://localhost:8080/",
          "height": 163
        },
        "outputId": "af61cd06-98a3-4e03-aae1-e496029cd93e"
      },
      "source": [
        "df_count['Village']"
      ],
      "execution_count": 182,
      "outputs": [
        {
          "output_type": "execute_result",
          "data": {
            "text/plain": [
              "Arrondissement\n",
              "BIRO              25\n",
              "GNONKOURAKALI     33\n",
              "NIKKI            109\n",
              "OUENOU            44\n",
              "SEREKALE          42\n",
              "SUYA              12\n",
              "TASSO             36\n",
              "Name: Village, dtype: int64"
            ]
          },
          "metadata": {
            "tags": []
          },
          "execution_count": 182
        }
      ]
    },
    {
      "cell_type": "code",
      "metadata": {
        "id": "PpgS-B2j2d1c",
        "colab_type": "code",
        "colab": {
          "base_uri": "https://localhost:8080/",
          "height": 33
        },
        "outputId": "0e780c6d-5488-405b-8941-16cc5a59259b"
      },
      "source": [
        "map_colors = {}\n",
        "[map_colors.update({arron: colors[list(colors.keys())[i*3+8]]}) for i,arron in enumerate(df_count.index.tolist()) ]"
      ],
      "execution_count": 209,
      "outputs": [
        {
          "output_type": "execute_result",
          "data": {
            "text/plain": [
              "[None, None, None, None, None, None, None]"
            ]
          },
          "metadata": {
            "tags": []
          },
          "execution_count": 209
        }
      ]
    },
    {
      "cell_type": "code",
      "metadata": {
        "id": "MB_Dxioh5tMM",
        "colab_type": "code",
        "colab": {
          "base_uri": "https://localhost:8080/",
          "height": 131
        },
        "outputId": "eed5d339-5cd0-4f51-9456-493d4e7da75f"
      },
      "source": [
        "map_colors"
      ],
      "execution_count": 210,
      "outputs": [
        {
          "output_type": "execute_result",
          "data": {
            "text/plain": [
              "{'BIRO': '#F0F8FF',\n",
              " 'GNONKOURAKALI': '#7FFFD4',\n",
              " 'NIKKI': '#FFE4C4',\n",
              " 'OUENOU': '#0000FF',\n",
              " 'SEREKALE': '#DEB887',\n",
              " 'SUYA': '#D2691E',\n",
              " 'TASSO': '#FFF8DC'}"
            ]
          },
          "metadata": {
            "tags": []
          },
          "execution_count": 210
        }
      ]
    },
    {
      "cell_type": "code",
      "metadata": {
        "id": "-7biFED73qOS",
        "colab_type": "code",
        "colab": {}
      },
      "source": [
        "data=df_2019\n",
        "data['color']=data.apply(lambda x: map_colors[x['Arrondissement']],axis=1)"
      ],
      "execution_count": 0,
      "outputs": []
    },
    {
      "cell_type": "markdown",
      "metadata": {
        "id": "QnB7RJ4_6eMh",
        "colab_type": "text"
      },
      "source": [
        "c"
      ]
    },
    {
      "cell_type": "code",
      "metadata": {
        "id": "9wxk_JAURW6e",
        "colab_type": "code",
        "colab": {
          "base_uri": "https://localhost:8080/",
          "height": 750
        },
        "outputId": "3bf3ac55-0efb-4ab0-bf2d-f5c9c223f3ee"
      },
      "source": [
        "\n",
        "lat_begin=data['Latitude_decimals'].quantile(0.5)\n",
        "\n",
        "lat_min=data['Latitude_decimals'].min()\n",
        "lat_max=data['Latitude_decimals'].max()\n",
        "\n",
        "lon_min=data['Longitude_decimals'].min()\n",
        "lon_max=data['Longitude_decimals'].max()\n",
        "\n",
        "lon_begin=data['Longitude_decimals'].quantile(0.5)\n",
        "lats=np.array(data['Latitude_decimals'])\n",
        "lons=np.array(data['Longitude_decimals'])\n",
        "zoom_scale = 0\n",
        "\n",
        "# Setup the bounding box for the zoom and bounds of the map\n",
        "bbox = [np.min(lats)-zoom_scale,np.max(lats)+zoom_scale,\\\n",
        "        np.min(lons)-zoom_scale,np.max(lons)+zoom_scale]\n",
        "\n",
        "plt.figure(figsize=(25,12))\n",
        "# Define the projection, scale, the corners of the map, and the resolution.\n",
        "m = Basemap(projection='merc',llcrnrlat=lat_min-4,urcrnrlat=lat_max+4,\\\n",
        "            llcrnrlon=lon_min-4,urcrnrlon=lon_max+4,lat_ts=10,resolution='i')\n",
        "\n",
        "# Draw coastlines and fill continents and water with color\n",
        "m.drawcoastlines()\n",
        "m.fillcontinents(color='grey',lake_color='dodgerblue')\n",
        "\n",
        "# draw parallels, meridians, and color boundaries\n",
        "m.drawparallels(np.arange(bbox[0],bbox[1],(bbox[1]-bbox[0])/5),labels=[1,0,0,0])\n",
        "m.drawmeridians(np.arange(bbox[2],bbox[3],(bbox[3]-bbox[2])/5),labels=[0,0,0,1],rotation=45)\n",
        "m.drawmapboundary(fill_color='dodgerblue')\n",
        "m.readshapefile('gadm36_BEN_shp/gadm36_BEN_2','NAME_2')\n",
        "# build and plot coordinates onto map\n",
        "for arron in df_count.index.tolist():\n",
        "  data_arron=data[data['Arrondissement']==arron]\n",
        "  lats=np.array(data_arron['Latitude_decimals'])\n",
        "  lons=np.array(data_arron['Longitude_decimals'])\n",
        "  x,y = m(lons,lats)\n",
        "  m.plot(x,y,'r*',c=map_colors[arron],markersize=5,label=arron)\n",
        "  \n",
        "plt.legend()\n",
        "  \n",
        "plt.title(\"Carte des pompes de Nikki\")\n",
        "plt.savefig('carte_des_pompes_de_Niki_benin.png', format='png', dpi=500)\n",
        "plt.show()"
      ],
      "execution_count": 226,
      "outputs": [
        {
          "output_type": "display_data",
          "data": {
            "image/png": "[encoded data removed]",
            "text/plain": [
              "<Figure size 1800x864 with 1 Axes>"
            ]
          },
          "metadata": {
            "tags": []
          }
        }
      ]
    },
    {
      "cell_type": "code",
      "metadata": {
        "id": "oTH9Y2g40Ck4",
        "colab_type": "code",
        "colab": {
          "base_uri": "https://localhost:8080/",
          "height": 752
        },
        "outputId": "0ab9f488-bfa3-422e-e095-70a3c7aee591"
      },
      "source": [
        "data=df_2019\n",
        "lat_begin=data['Latitude_decimals'].quantile(0.5)\n",
        "\n",
        "lat_min=data['Latitude_decimals'].min()\n",
        "lat_max=data['Latitude_decimals'].max()\n",
        "\n",
        "lon_min=data['Longitude_decimals'].min()\n",
        "lon_max=data['Longitude_decimals'].max()\n",
        "\n",
        "lon_begin=data['Longitude_decimals'].quantile(0.5)\n",
        "lats=np.array(data['Latitude_decimals'])\n",
        "lons=np.array(data['Longitude_decimals'])\n",
        "zoom_scale = 0\n",
        "\n",
        "# Setup the bounding box for the zoom and bounds of the map\n",
        "bbox = [np.min(lats)-zoom_scale,np.max(lats)+zoom_scale,\\\n",
        "        np.min(lons)-zoom_scale,np.max(lons)+zoom_scale]\n",
        "\n",
        "plt.figure(figsize=(25,12))\n",
        "# Define the projection, scale, the corners of the map, and the resolution.\n",
        "m = Basemap(projection='merc',llcrnrlat=lat_min-0.2,urcrnrlat=lat_max+0.2,\\\n",
        "            llcrnrlon=lon_min-0.2,urcrnrlon=lon_max,lat_ts=10,resolution='i')\n",
        "\n",
        "# Draw coastlines and fill continents and water with color\n",
        "m.drawcoastlines()\n",
        "m.fillcontinents(color='grey',lake_color='dodgerblue')\n",
        "\n",
        "# draw parallels, meridians, and color boundaries\n",
        "m.drawparallels(np.arange(bbox[0],bbox[1],(bbox[1]-bbox[0])/5),labels=[1,0,0,0])\n",
        "m.drawmeridians(np.arange(bbox[2],bbox[3],(bbox[3]-bbox[2])/5),labels=[0,0,0,1],rotation=45)\n",
        "m.drawmapboundary(fill_color='dodgerblue')\n",
        "m.readshapefile('gadm36_BEN_shp/gadm36_BEN_2','NAME_2')\n",
        "\n",
        "# build and plot coordinates onto map\n",
        "for arron in df_count.index.tolist():\n",
        "  data_arron=data[data['Arrondissement']==arron]\n",
        "  lats=np.array(data_arron['Latitude_decimals'])\n",
        "  lons=np.array(data_arron['Longitude_decimals'])\n",
        "  x,y = m(lons,lats)\n",
        "  m.plot(x,y,'.',c=map_colors[arron],markersize=5,label=arron+'_'+str(len(data_arron)))\n",
        "  \n",
        "plt.legend()\n",
        "plt.title(\"Carte des pompes de Nikki\")\n",
        "plt.savefig('carte_des_pompes_de_Niki_borgou.png', format='png', dpi=500)\n",
        "plt.show()"
      ],
      "execution_count": 225,
      "outputs": [
        {
          "output_type": "display_data",
          "data": {
            "image/png": "[encoded data removed]",
            "text/plain": [
              "<Figure size 1800x864 with 1 Axes>"
            ]
          },
          "metadata": {
            "tags": []
          }
        }
      ]
    },
    {
      "cell_type": "code",
      "metadata": {
        "id": "pVfYXKTm8m9w",
        "colab_type": "code",
        "colab": {
          "base_uri": "https://localhost:8080/",
          "height": 752
        },
        "outputId": "3030331a-1a8e-42d1-b78b-3f1242940c33"
      },
      "source": [
        "data=df_2019\n",
        "lat_begin=data['Latitude_decimals'].quantile(0.5)\n",
        "\n",
        "lat_min=data['Latitude_decimals'].min()\n",
        "lat_max=data['Latitude_decimals'].max()\n",
        "\n",
        "lon_min=data['Longitude_decimals'].min()\n",
        "lon_max=data['Longitude_decimals'].max()\n",
        "\n",
        "lon_begin=data['Longitude_decimals'].quantile(0.5)\n",
        "lats=np.array(data['Latitude_decimals'])\n",
        "lons=np.array(data['Longitude_decimals'])\n",
        "zoom_scale = 0\n",
        "\n",
        "# Setup the bounding box for the zoom and bounds of the map\n",
        "bbox = [np.min(lats)-zoom_scale,np.max(lats)+zoom_scale,\\\n",
        "        np.min(lons)-zoom_scale,np.max(lons)+zoom_scale]\n",
        "\n",
        "plt.figure(figsize=(25,12))\n",
        "# Define the projection, scale, the corners of the map, and the resolution.\n",
        "m = Basemap(projection='merc',llcrnrlat=lat_min-0.2,urcrnrlat=lat_max+0.2,\\\n",
        "            llcrnrlon=lon_min-0.2,urcrnrlon=lon_max,lat_ts=10,resolution='i')\n",
        "\n",
        "# Draw coastlines and fill continents and water with color\n",
        "m.drawcoastlines()\n",
        "m.fillcontinents(color='grey',lake_color='dodgerblue')\n",
        "\n",
        "# draw parallels, meridians, and color boundaries\n",
        "m.drawparallels(np.arange(bbox[0],bbox[1],(bbox[1]-bbox[0])/5),labels=[1,0,0,0])\n",
        "m.drawmeridians(np.arange(bbox[2],bbox[3],(bbox[3]-bbox[2])/5),labels=[0,0,0,1],rotation=45)\n",
        "m.drawmapboundary(fill_color='dodgerblue')\n",
        "m.readshapefile('gadm36_BEN_shp/gadm36_BEN_2','NAME_2')\n",
        "handlers =[]\n",
        "# build and plot coordinates onto map\n",
        "for arron in df_count.index.tolist():\n",
        "  data_arron=data[data['Arrondissement']==arron]\n",
        "  lats=np.array(data_arron['Latitude_decimals'].quantile(0.5))\n",
        "  lons=np.array(data_arron['Longitude_decimals'].quantile(0.5))\n",
        "  size=df_count.loc[arron,'Village']\n",
        "  x,y = m(lons,lats)\n",
        "  m.plot(x,y,'.',c=map_colors[arron],markersize=size)\n",
        "  handlers.append(mpatches.Patch(color=map_colors[arron], label=arron))\n",
        "  \n",
        "plt.legend(handles=handlers)\n",
        "plt.title(\"Carte des pompes de Nikki\")\n",
        "plt.savefig('carte_nombre_des_pompes_Nikki_borgou.png', format='png', dpi=500)\n",
        "plt.show()"
      ],
      "execution_count": 224,
      "outputs": [
        {
          "output_type": "display_data",
          "data": {
            "image/png": "[encoded data removed]",
            "text/plain": [
              "<Figure size 1800x864 with 1 Axes>"
            ]
          },
          "metadata": {
            "tags": []
          }
        }
      ]
    },
    {
      "cell_type": "code",
      "metadata": {
        "id": "abQSx7zlA8XU",
        "colab_type": "code",
        "colab": {
          "base_uri": "https://localhost:8080/",
          "height": 732
        },
        "outputId": "3b0109c8-7de1-493b-ec33-dc4496d2a542"
      },
      "source": [
        "plt.rcParams['figure.figsize'] = 20,10\n",
        "x=list(df_2019['rqtListe_Pompe.Modele_Pompe'].unique())\n",
        "y=[df_2019[df_2019['rqtListe_Pompe.Modele_Pompe']==model]['rqtListe_Pompe.Modele_Pompe'].count() for model in x]\n",
        "\n",
        "plt.xticks(fontsize=14,rotation=90)\n",
        "plt.bar(x,y)"
      ],
      "execution_count": 222,
      "outputs": [
        {
          "output_type": "execute_result",
          "data": {
            "text/plain": [
              "<BarContainer object of 15 artists>"
            ]
          },
          "metadata": {
            "tags": []
          },
          "execution_count": 222
        },
        {
          "output_type": "display_data",
          "data": {
            "image/png": "[encoded data removed]",
            "text/plain": [
              "<Figure size 1440x720 with 1 Axes>"
            ]
          },
          "metadata": {
            "tags": []
          }
        }
      ]
    },
    {
      "cell_type": "markdown",
      "metadata": {
        "id": "AFiUwvsAI-NN",
        "colab_type": "text"
      },
      "source": [
        "LEER EL SHAPEFILE DESCARAGO DE:\n",
        "\n",
        "https://gadm.org/download_country_v3.html ->benin"
      ]
    },
    {
      "cell_type": "code",
      "metadata": {
        "id": "i00lRll6y-sC",
        "colab_type": "code",
        "colab": {}
      },
      "source": [
        "import shapefile as shp"
      ],
      "execution_count": 0,
      "outputs": []
    },
    {
      "cell_type": "code",
      "metadata": {
        "id": "9szsz-5iOJ9I",
        "colab_type": "code",
        "colab": {}
      },
      "source": [
        "shp_path = 'gadm36_BEN_shp/gadm36_BEN_2.shp'\n",
        "sf = shp.Reader(shp_path)"
      ],
      "execution_count": 0,
      "outputs": []
    },
    {
      "cell_type": "code",
      "metadata": {
        "id": "xkVk9qgVzWFh",
        "colab_type": "code",
        "colab": {}
      },
      "source": [
        "def read_shapefile(sf):\n",
        "    \"\"\"\n",
        "    Read a shapefile into a Pandas dataframe with a 'coords' \n",
        "    column holding the geometry information. This uses the pyshp\n",
        "    package\n",
        "    \"\"\"\n",
        "    fields = [x[0] for x in sf.fields][1:]\n",
        "    records = sf.records()\n",
        "    shps = [s.points for s in sf.shapes()]\n",
        "    df = pd.DataFrame(columns=fields, data=records)\n",
        "    df = df.assign(coords=shps)\n",
        "    return df"
      ],
      "execution_count": 0,
      "outputs": []
    },
    {
      "cell_type": "code",
      "metadata": {
        "id": "djUIbeKVzYCd",
        "colab_type": "code",
        "colab": {
          "base_uri": "https://localhost:8080/",
          "height": 33
        },
        "outputId": "accc0c3e-7471-43fc-f416-c646c1c3ebb4"
      },
      "source": [
        "df = read_shapefile(sf)\n",
        "df.shape"
      ],
      "execution_count": 117,
      "outputs": [
        {
          "output_type": "execute_result",
          "data": {
            "text/plain": [
              "(76, 14)"
            ]
          },
          "metadata": {
            "tags": []
          },
          "execution_count": 117
        }
      ]
    },
    {
      "cell_type": "code",
      "metadata": {
        "id": "rtk8IPt_zbRB",
        "colab_type": "code",
        "colab": {
          "base_uri": "https://localhost:8080/",
          "height": 1000
        },
        "outputId": "47536ba1-bba4-4f35-c502-969681816dc7"
      },
      "source": [
        "df"
      ],
      "execution_count": 118,
      "outputs": [
        {
          "output_type": "execute_result",
          "data": {
            "text/html": [
              "<div>\n",
              "<style scoped>\n",
              "    .dataframe tbody tr th:only-of-type {\n",
              "        vertical-align: middle;\n",
              "    }\n",
              "\n",
              "    .dataframe tbody tr th {\n",
              "        vertical-align: top;\n",
              "    }\n",
              "\n",
              "    .dataframe thead th {\n",
              "        text-align: right;\n",
              "    }\n",
              "</style>\n",
              "<table border=\"1\" class=\"dataframe\">\n",
              "  <thead>\n",
              "    <tr style=\"text-align: right;\">\n",
              "      <th></th>\n",
              "      <th>GID_0</th>\n",
              "      <th>NAME_0</th>\n",
              "      <th>GID_1</th>\n",
              "      <th>NAME_1</th>\n",
              "      <th>NL_NAME_1</th>\n",
              "      <th>GID_2</th>\n",
              "      <th>NAME_2</th>\n",
              "      <th>VARNAME_2</th>\n",
              "      <th>NL_NAME_2</th>\n",
              "      <th>TYPE_2</th>\n",
              "      <th>ENGTYPE_2</th>\n",
              "      <th>CC_2</th>\n",
              "      <th>HASC_2</th>\n",
              "      <th>coords</th>\n",
              "    </tr>\n",
              "  </thead>\n",
              "  <tbody>\n",
              "    <tr>\n",
              "      <th>0</th>\n",
              "      <td>BEN</td>\n",
              "      <td>Benin</td>\n",
              "      <td>BEN.1_1</td>\n",
              "      <td>Alibori</td>\n",
              "      <td></td>\n",
              "      <td>BEN.1.1_1</td>\n",
              "      <td>Banikoara</td>\n",
              "      <td></td>\n",
              "      <td></td>\n",
              "      <td>Commune</td>\n",
              "      <td>Commune</td>\n",
              "      <td></td>\n",
              "      <td>BJ.AL.BA</td>\n",
              "      <td>[(2.8467729091645424, 11.42146110534668), (2.8...</td>\n",
              "    </tr>\n",
              "    <tr>\n",
              "      <th>1</th>\n",
              "      <td>BEN</td>\n",
              "      <td>Benin</td>\n",
              "      <td>BEN.1_1</td>\n",
              "      <td>Alibori</td>\n",
              "      <td></td>\n",
              "      <td>BEN.1.2_1</td>\n",
              "      <td>Gogounou</td>\n",
              "      <td></td>\n",
              "      <td></td>\n",
              "      <td>Commune</td>\n",
              "      <td>Commune</td>\n",
              "      <td></td>\n",
              "      <td>BJ.AL.GO</td>\n",
              "      <td>[(2.2658329010010902, 10.54574203491211), (2.2...</td>\n",
              "    </tr>\n",
              "    <tr>\n",
              "      <th>2</th>\n",
              "      <td>BEN</td>\n",
              "      <td>Benin</td>\n",
              "      <td>BEN.1_1</td>\n",
              "      <td>Alibori</td>\n",
              "      <td></td>\n",
              "      <td>BEN.1.3_1</td>\n",
              "      <td>Kandi</td>\n",
              "      <td></td>\n",
              "      <td></td>\n",
              "      <td>Commune</td>\n",
              "      <td>Commune</td>\n",
              "      <td></td>\n",
              "      <td>BJ.AL.KN</td>\n",
              "      <td>[(3.273935079574642, 11.306771278381404), (3.2...</td>\n",
              "    </tr>\n",
              "    <tr>\n",
              "      <th>3</th>\n",
              "      <td>BEN</td>\n",
              "      <td>Benin</td>\n",
              "      <td>BEN.1_1</td>\n",
              "      <td>Alibori</td>\n",
              "      <td></td>\n",
              "      <td>BEN.1.4_1</td>\n",
              "      <td>Karimama</td>\n",
              "      <td></td>\n",
              "      <td></td>\n",
              "      <td>Commune</td>\n",
              "      <td>Commune</td>\n",
              "      <td></td>\n",
              "      <td>BJ.AL.KR</td>\n",
              "      <td>[(3.2918179035187904, 11.928750991821289), (3....</td>\n",
              "    </tr>\n",
              "    <tr>\n",
              "      <th>4</th>\n",
              "      <td>BEN</td>\n",
              "      <td>Benin</td>\n",
              "      <td>BEN.1_1</td>\n",
              "      <td>Alibori</td>\n",
              "      <td></td>\n",
              "      <td>BEN.1.5_1</td>\n",
              "      <td>Malanville</td>\n",
              "      <td></td>\n",
              "      <td></td>\n",
              "      <td>Commune</td>\n",
              "      <td>Commune</td>\n",
              "      <td></td>\n",
              "      <td>BJ.AL.MA</td>\n",
              "      <td>[(3.5912120342255776, 11.673298835754451), (3....</td>\n",
              "    </tr>\n",
              "    <tr>\n",
              "      <th>5</th>\n",
              "      <td>BEN</td>\n",
              "      <td>Benin</td>\n",
              "      <td>BEN.1_1</td>\n",
              "      <td>Alibori</td>\n",
              "      <td></td>\n",
              "      <td>BEN.1.6_1</td>\n",
              "      <td>Segbana</td>\n",
              "      <td></td>\n",
              "      <td></td>\n",
              "      <td>Commune</td>\n",
              "      <td>Commune</td>\n",
              "      <td></td>\n",
              "      <td>BJ.AL.SE</td>\n",
              "      <td>[(3.7127580642700764, 11.127946853637809), (3....</td>\n",
              "    </tr>\n",
              "    <tr>\n",
              "      <th>6</th>\n",
              "      <td>BEN</td>\n",
              "      <td>Benin</td>\n",
              "      <td>BEN.2_1</td>\n",
              "      <td>Atakora</td>\n",
              "      <td></td>\n",
              "      <td>BEN.2.1_1</td>\n",
              "      <td>Boukoumbé</td>\n",
              "      <td>Boukombé</td>\n",
              "      <td></td>\n",
              "      <td>Commune</td>\n",
              "      <td>Commune</td>\n",
              "      <td></td>\n",
              "      <td>BJ.AK.BO</td>\n",
              "      <td>[(1.3887850046158974, 10.039131164550838), (1....</td>\n",
              "    </tr>\n",
              "    <tr>\n",
              "      <th>7</th>\n",
              "      <td>BEN</td>\n",
              "      <td>Benin</td>\n",
              "      <td>BEN.2_1</td>\n",
              "      <td>Atakora</td>\n",
              "      <td></td>\n",
              "      <td>BEN.2.2_1</td>\n",
              "      <td>Cobly</td>\n",
              "      <td>Cobli|Cobli</td>\n",
              "      <td></td>\n",
              "      <td>Commune</td>\n",
              "      <td>Commune</td>\n",
              "      <td></td>\n",
              "      <td>BJ.AK.CB</td>\n",
              "      <td>[(0.897539973259029, 10.29423904418951), (0.88...</td>\n",
              "    </tr>\n",
              "    <tr>\n",
              "      <th>8</th>\n",
              "      <td>BEN</td>\n",
              "      <td>Benin</td>\n",
              "      <td>BEN.2_1</td>\n",
              "      <td>Atakora</td>\n",
              "      <td></td>\n",
              "      <td>BEN.2.3_1</td>\n",
              "      <td>Kérou</td>\n",
              "      <td></td>\n",
              "      <td></td>\n",
              "      <td>Commune</td>\n",
              "      <td>Commune</td>\n",
              "      <td></td>\n",
              "      <td>BJ.AK.KE</td>\n",
              "      <td>[(2.2658329010010902, 10.54574203491211), (2.2...</td>\n",
              "    </tr>\n",
              "    <tr>\n",
              "      <th>9</th>\n",
              "      <td>BEN</td>\n",
              "      <td>Benin</td>\n",
              "      <td>BEN.2_1</td>\n",
              "      <td>Atakora</td>\n",
              "      <td></td>\n",
              "      <td>BEN.2.4_1</td>\n",
              "      <td>Kouandé</td>\n",
              "      <td></td>\n",
              "      <td></td>\n",
              "      <td>Commune</td>\n",
              "      <td>Commune</td>\n",
              "      <td></td>\n",
              "      <td>BJ.AK.KO</td>\n",
              "      <td>[(1.3887850046158974, 10.039131164550838), (1....</td>\n",
              "    </tr>\n",
              "    <tr>\n",
              "      <th>10</th>\n",
              "      <td>BEN</td>\n",
              "      <td>Benin</td>\n",
              "      <td>BEN.2_1</td>\n",
              "      <td>Atakora</td>\n",
              "      <td></td>\n",
              "      <td>BEN.2.5_1</td>\n",
              "      <td>Matéri</td>\n",
              "      <td></td>\n",
              "      <td></td>\n",
              "      <td>Commune</td>\n",
              "      <td>Commune</td>\n",
              "      <td></td>\n",
              "      <td>BJ.AK.MA</td>\n",
              "      <td>[(1.1157790422440144, 11.03819942474371), (1.1...</td>\n",
              "    </tr>\n",
              "    <tr>\n",
              "      <th>11</th>\n",
              "      <td>BEN</td>\n",
              "      <td>Benin</td>\n",
              "      <td>BEN.2_1</td>\n",
              "      <td>Atakora</td>\n",
              "      <td></td>\n",
              "      <td>BEN.2.6_1</td>\n",
              "      <td>Natitingou</td>\n",
              "      <td>Natingou</td>\n",
              "      <td></td>\n",
              "      <td>Commune</td>\n",
              "      <td>Commune</td>\n",
              "      <td></td>\n",
              "      <td>BJ.AK.NA</td>\n",
              "      <td>[(1.3887850046158974, 10.039131164550838), (1....</td>\n",
              "    </tr>\n",
              "    <tr>\n",
              "      <th>12</th>\n",
              "      <td>BEN</td>\n",
              "      <td>Benin</td>\n",
              "      <td>BEN.2_1</td>\n",
              "      <td>Atakora</td>\n",
              "      <td></td>\n",
              "      <td>BEN.2.7_1</td>\n",
              "      <td>Péhunco</td>\n",
              "      <td>Pehonko</td>\n",
              "      <td></td>\n",
              "      <td>Commune</td>\n",
              "      <td>Commune</td>\n",
              "      <td></td>\n",
              "      <td>BJ.AK.PE</td>\n",
              "      <td>[(2.2658329010010902, 10.54574203491211), (2.2...</td>\n",
              "    </tr>\n",
              "    <tr>\n",
              "      <th>13</th>\n",
              "      <td>BEN</td>\n",
              "      <td>Benin</td>\n",
              "      <td>BEN.2_1</td>\n",
              "      <td>Atakora</td>\n",
              "      <td></td>\n",
              "      <td>BEN.2.8_1</td>\n",
              "      <td>Tanguiéta</td>\n",
              "      <td></td>\n",
              "      <td></td>\n",
              "      <td>Commune</td>\n",
              "      <td>Commune</td>\n",
              "      <td></td>\n",
              "      <td>BJ.AK.TA</td>\n",
              "      <td>[(1.5668350458146278, 10.75683975219738), (1.5...</td>\n",
              "    </tr>\n",
              "    <tr>\n",
              "      <th>14</th>\n",
              "      <td>BEN</td>\n",
              "      <td>Benin</td>\n",
              "      <td>BEN.2_1</td>\n",
              "      <td>Atakora</td>\n",
              "      <td></td>\n",
              "      <td>BEN.2.9_1</td>\n",
              "      <td>Toucountouna</td>\n",
              "      <td>Tchoukoutouna</td>\n",
              "      <td></td>\n",
              "      <td>Commune</td>\n",
              "      <td>Commune</td>\n",
              "      <td></td>\n",
              "      <td>BJ.AK.TO</td>\n",
              "      <td>[(1.2202860116959755, 10.476679801940918), (1....</td>\n",
              "    </tr>\n",
              "    <tr>\n",
              "      <th>15</th>\n",
              "      <td>BEN</td>\n",
              "      <td>Benin</td>\n",
              "      <td>BEN.3_1</td>\n",
              "      <td>Atlantique</td>\n",
              "      <td></td>\n",
              "      <td>BEN.3.1_1</td>\n",
              "      <td>Abomey-Calavi</td>\n",
              "      <td></td>\n",
              "      <td></td>\n",
              "      <td>Commune</td>\n",
              "      <td>Commune</td>\n",
              "      <td></td>\n",
              "      <td>BJ.AQ.AC</td>\n",
              "      <td>[(2.3700959682465736, 6.385532855987549), (2.3...</td>\n",
              "    </tr>\n",
              "    <tr>\n",
              "      <th>16</th>\n",
              "      <td>BEN</td>\n",
              "      <td>Benin</td>\n",
              "      <td>BEN.3_1</td>\n",
              "      <td>Atlantique</td>\n",
              "      <td></td>\n",
              "      <td>BEN.3.2_1</td>\n",
              "      <td>Allada</td>\n",
              "      <td></td>\n",
              "      <td></td>\n",
              "      <td>Commune</td>\n",
              "      <td>Commune</td>\n",
              "      <td></td>\n",
              "      <td>BJ.AQ.AL</td>\n",
              "      <td>[(2.2014150619507404, 6.603563785553035), (2.1...</td>\n",
              "    </tr>\n",
              "    <tr>\n",
              "      <th>17</th>\n",
              "      <td>BEN</td>\n",
              "      <td>Benin</td>\n",
              "      <td>BEN.3_1</td>\n",
              "      <td>Atlantique</td>\n",
              "      <td></td>\n",
              "      <td>BEN.3.3_1</td>\n",
              "      <td>Kpomassè</td>\n",
              "      <td></td>\n",
              "      <td></td>\n",
              "      <td>Commune</td>\n",
              "      <td>Commune</td>\n",
              "      <td></td>\n",
              "      <td>BJ.AQ.KP</td>\n",
              "      <td>[(1.9796169996262734, 6.341844081878719), (1.9...</td>\n",
              "    </tr>\n",
              "    <tr>\n",
              "      <th>18</th>\n",
              "      <td>BEN</td>\n",
              "      <td>Benin</td>\n",
              "      <td>BEN.3_1</td>\n",
              "      <td>Atlantique</td>\n",
              "      <td></td>\n",
              "      <td>BEN.3.4_1</td>\n",
              "      <td>Ouidah</td>\n",
              "      <td></td>\n",
              "      <td></td>\n",
              "      <td>Commune</td>\n",
              "      <td>Commune</td>\n",
              "      <td></td>\n",
              "      <td>BJ.AQ.OU</td>\n",
              "      <td>[(1.9842729568481445, 6.3118047714234535), (1....</td>\n",
              "    </tr>\n",
              "    <tr>\n",
              "      <th>19</th>\n",
              "      <td>BEN</td>\n",
              "      <td>Benin</td>\n",
              "      <td>BEN.3_1</td>\n",
              "      <td>Atlantique</td>\n",
              "      <td></td>\n",
              "      <td>BEN.3.5_1</td>\n",
              "      <td>Sô-Ava</td>\n",
              "      <td></td>\n",
              "      <td></td>\n",
              "      <td>Commune</td>\n",
              "      <td>Commune</td>\n",
              "      <td></td>\n",
              "      <td>BJ.AQ.SA</td>\n",
              "      <td>[(2.488802909851131, 6.489311218261719), (2.48...</td>\n",
              "    </tr>\n",
              "    <tr>\n",
              "      <th>20</th>\n",
              "      <td>BEN</td>\n",
              "      <td>Benin</td>\n",
              "      <td>BEN.3_1</td>\n",
              "      <td>Atlantique</td>\n",
              "      <td></td>\n",
              "      <td>BEN.3.6_1</td>\n",
              "      <td>Toffo</td>\n",
              "      <td></td>\n",
              "      <td></td>\n",
              "      <td>Commune</td>\n",
              "      <td>Commune</td>\n",
              "      <td></td>\n",
              "      <td>BJ.AQ.TF</td>\n",
              "      <td>[(2.030635118484497, 6.714011192321834), (2.03...</td>\n",
              "    </tr>\n",
              "    <tr>\n",
              "      <th>21</th>\n",
              "      <td>BEN</td>\n",
              "      <td>Benin</td>\n",
              "      <td>BEN.3_1</td>\n",
              "      <td>Atlantique</td>\n",
              "      <td></td>\n",
              "      <td>BEN.3.7_1</td>\n",
              "      <td>Tori-Bossito</td>\n",
              "      <td></td>\n",
              "      <td></td>\n",
              "      <td>Commune</td>\n",
              "      <td>Commune</td>\n",
              "      <td></td>\n",
              "      <td>BJ.AQ.TB</td>\n",
              "      <td>[(2.217668056488151, 6.435691833496094), (2.20...</td>\n",
              "    </tr>\n",
              "    <tr>\n",
              "      <th>22</th>\n",
              "      <td>BEN</td>\n",
              "      <td>Benin</td>\n",
              "      <td>BEN.3_1</td>\n",
              "      <td>Atlantique</td>\n",
              "      <td></td>\n",
              "      <td>BEN.3.8_1</td>\n",
              "      <td>Zè</td>\n",
              "      <td></td>\n",
              "      <td></td>\n",
              "      <td>Commune</td>\n",
              "      <td>Commune</td>\n",
              "      <td></td>\n",
              "      <td>BJ.AQ.ZE</td>\n",
              "      <td>[(2.2303369045258137, 6.759677886962891), (2.2...</td>\n",
              "    </tr>\n",
              "    <tr>\n",
              "      <th>23</th>\n",
              "      <td>BEN</td>\n",
              "      <td>Benin</td>\n",
              "      <td>BEN.4_1</td>\n",
              "      <td>Borgou</td>\n",
              "      <td></td>\n",
              "      <td>BEN.4.1_1</td>\n",
              "      <td>Bembéréké</td>\n",
              "      <td></td>\n",
              "      <td></td>\n",
              "      <td>Commune</td>\n",
              "      <td>Commune</td>\n",
              "      <td></td>\n",
              "      <td>BJ.BO.BE</td>\n",
              "      <td>[(3.0436739921569824, 10.269531250000057), (3....</td>\n",
              "    </tr>\n",
              "    <tr>\n",
              "      <th>24</th>\n",
              "      <td>BEN</td>\n",
              "      <td>Benin</td>\n",
              "      <td>BEN.4_1</td>\n",
              "      <td>Borgou</td>\n",
              "      <td></td>\n",
              "      <td>BEN.4.2_1</td>\n",
              "      <td>Kalalé</td>\n",
              "      <td></td>\n",
              "      <td></td>\n",
              "      <td>Commune</td>\n",
              "      <td>Commune</td>\n",
              "      <td></td>\n",
              "      <td>BJ.BO.KL</td>\n",
              "      <td>[(3.670058012008724, 10.129911422729606), (3.6...</td>\n",
              "    </tr>\n",
              "    <tr>\n",
              "      <th>25</th>\n",
              "      <td>BEN</td>\n",
              "      <td>Benin</td>\n",
              "      <td>BEN.4_1</td>\n",
              "      <td>Borgou</td>\n",
              "      <td></td>\n",
              "      <td>BEN.4.3_1</td>\n",
              "      <td>N'Dali</td>\n",
              "      <td>Ndali</td>\n",
              "      <td></td>\n",
              "      <td>Commune</td>\n",
              "      <td>Commune</td>\n",
              "      <td></td>\n",
              "      <td>BJ.BO.ND</td>\n",
              "      <td>[(2.547421932220459, 9.453910827636719), (2.53...</td>\n",
              "    </tr>\n",
              "    <tr>\n",
              "      <th>26</th>\n",
              "      <td>BEN</td>\n",
              "      <td>Benin</td>\n",
              "      <td>BEN.4_1</td>\n",
              "      <td>Borgou</td>\n",
              "      <td></td>\n",
              "      <td>BEN.4.4_1</td>\n",
              "      <td>Nikki</td>\n",
              "      <td></td>\n",
              "      <td></td>\n",
              "      <td>Commune</td>\n",
              "      <td>Commune</td>\n",
              "      <td></td>\n",
              "      <td>BJ.BO.NI</td>\n",
              "      <td>[(3.6286149024963947, 10.092581748962516), (3....</td>\n",
              "    </tr>\n",
              "    <tr>\n",
              "      <th>27</th>\n",
              "      <td>BEN</td>\n",
              "      <td>Benin</td>\n",
              "      <td>BEN.4_1</td>\n",
              "      <td>Borgou</td>\n",
              "      <td></td>\n",
              "      <td>BEN.4.5_1</td>\n",
              "      <td>Parakou</td>\n",
              "      <td></td>\n",
              "      <td></td>\n",
              "      <td>Commune</td>\n",
              "      <td>Commune</td>\n",
              "      <td></td>\n",
              "      <td>BJ.BO.PA</td>\n",
              "      <td>[(2.7648680210114094, 9.428414344787654), (2.7...</td>\n",
              "    </tr>\n",
              "    <tr>\n",
              "      <th>28</th>\n",
              "      <td>BEN</td>\n",
              "      <td>Benin</td>\n",
              "      <td>BEN.4_1</td>\n",
              "      <td>Borgou</td>\n",
              "      <td></td>\n",
              "      <td>BEN.4.6_1</td>\n",
              "      <td>Pèrèrè</td>\n",
              "      <td></td>\n",
              "      <td></td>\n",
              "      <td>Commune</td>\n",
              "      <td>Commune</td>\n",
              "      <td></td>\n",
              "      <td>BJ.BO.PE</td>\n",
              "      <td>[(3.266597032546997, 9.654834747314453), (3.26...</td>\n",
              "    </tr>\n",
              "    <tr>\n",
              "      <th>29</th>\n",
              "      <td>BEN</td>\n",
              "      <td>Benin</td>\n",
              "      <td>BEN.4_1</td>\n",
              "      <td>Borgou</td>\n",
              "      <td></td>\n",
              "      <td>BEN.4.7_1</td>\n",
              "      <td>Sinendé</td>\n",
              "      <td></td>\n",
              "      <td></td>\n",
              "      <td>Commune</td>\n",
              "      <td>Commune</td>\n",
              "      <td></td>\n",
              "      <td>BJ.BO.SI</td>\n",
              "      <td>[(2.087599992752132, 9.970624923706112), (2.08...</td>\n",
              "    </tr>\n",
              "    <tr>\n",
              "      <th>...</th>\n",
              "      <td>...</td>\n",
              "      <td>...</td>\n",
              "      <td>...</td>\n",
              "      <td>...</td>\n",
              "      <td>...</td>\n",
              "      <td>...</td>\n",
              "      <td>...</td>\n",
              "      <td>...</td>\n",
              "      <td>...</td>\n",
              "      <td>...</td>\n",
              "      <td>...</td>\n",
              "      <td>...</td>\n",
              "      <td>...</td>\n",
              "      <td>...</td>\n",
              "    </tr>\n",
              "    <tr>\n",
              "      <th>46</th>\n",
              "      <td>BEN</td>\n",
              "      <td>Benin</td>\n",
              "      <td>BEN.7_1</td>\n",
              "      <td>Kouffo</td>\n",
              "      <td></td>\n",
              "      <td>BEN.7.6_1</td>\n",
              "      <td>Toviklin</td>\n",
              "      <td></td>\n",
              "      <td></td>\n",
              "      <td>Commune</td>\n",
              "      <td>Commune</td>\n",
              "      <td></td>\n",
              "      <td>BJ.CF.TO</td>\n",
              "      <td>[(1.8612060546875568, 6.827836036682243), (1.8...</td>\n",
              "    </tr>\n",
              "    <tr>\n",
              "      <th>47</th>\n",
              "      <td>BEN</td>\n",
              "      <td>Benin</td>\n",
              "      <td>BEN.8_1</td>\n",
              "      <td>Littoral</td>\n",
              "      <td></td>\n",
              "      <td>BEN.8.1_1</td>\n",
              "      <td>Cotonou</td>\n",
              "      <td></td>\n",
              "      <td></td>\n",
              "      <td>Commune</td>\n",
              "      <td>Commune</td>\n",
              "      <td></td>\n",
              "      <td>BJ.LI.CO</td>\n",
              "      <td>[(2.3700959682465736, 6.385532855987549), (2.3...</td>\n",
              "    </tr>\n",
              "    <tr>\n",
              "      <th>48</th>\n",
              "      <td>BEN</td>\n",
              "      <td>Benin</td>\n",
              "      <td>BEN.9_1</td>\n",
              "      <td>Mono</td>\n",
              "      <td></td>\n",
              "      <td>BEN.9.1_1</td>\n",
              "      <td>Athiémé</td>\n",
              "      <td></td>\n",
              "      <td></td>\n",
              "      <td>Commune</td>\n",
              "      <td>Commune</td>\n",
              "      <td></td>\n",
              "      <td>BJ.MO.AT</td>\n",
              "      <td>[(1.8219159841538044, 6.63898420333868), (1.80...</td>\n",
              "    </tr>\n",
              "    <tr>\n",
              "      <th>49</th>\n",
              "      <td>BEN</td>\n",
              "      <td>Benin</td>\n",
              "      <td>BEN.9_1</td>\n",
              "      <td>Mono</td>\n",
              "      <td></td>\n",
              "      <td>BEN.9.2_1</td>\n",
              "      <td>Bopa</td>\n",
              "      <td></td>\n",
              "      <td></td>\n",
              "      <td>Commune</td>\n",
              "      <td>Commune</td>\n",
              "      <td></td>\n",
              "      <td>BJ.MO.BO</td>\n",
              "      <td>[(1.96468102931982, 6.48068904876709), (1.9611...</td>\n",
              "    </tr>\n",
              "    <tr>\n",
              "      <th>50</th>\n",
              "      <td>BEN</td>\n",
              "      <td>Benin</td>\n",
              "      <td>BEN.9_1</td>\n",
              "      <td>Mono</td>\n",
              "      <td></td>\n",
              "      <td>BEN.9.3_1</td>\n",
              "      <td>Comè</td>\n",
              "      <td></td>\n",
              "      <td></td>\n",
              "      <td>Commune</td>\n",
              "      <td>Commune</td>\n",
              "      <td></td>\n",
              "      <td>BJ.MO.CO</td>\n",
              "      <td>[(1.9796169996262734, 6.341844081878719), (1.9...</td>\n",
              "    </tr>\n",
              "    <tr>\n",
              "      <th>51</th>\n",
              "      <td>BEN</td>\n",
              "      <td>Benin</td>\n",
              "      <td>BEN.9_1</td>\n",
              "      <td>Mono</td>\n",
              "      <td></td>\n",
              "      <td>BEN.9.4_1</td>\n",
              "      <td>Grand-Popo</td>\n",
              "      <td></td>\n",
              "      <td></td>\n",
              "      <td>Commune</td>\n",
              "      <td>Commune</td>\n",
              "      <td></td>\n",
              "      <td>BJ.MO.GP</td>\n",
              "      <td>[(1.9842729568481445, 6.3118047714234535), (1....</td>\n",
              "    </tr>\n",
              "    <tr>\n",
              "      <th>52</th>\n",
              "      <td>BEN</td>\n",
              "      <td>Benin</td>\n",
              "      <td>BEN.9_1</td>\n",
              "      <td>Mono</td>\n",
              "      <td></td>\n",
              "      <td>BEN.9.5_1</td>\n",
              "      <td>Houéyogbé</td>\n",
              "      <td></td>\n",
              "      <td></td>\n",
              "      <td>Commune</td>\n",
              "      <td>Commune</td>\n",
              "      <td></td>\n",
              "      <td>BJ.MO.HO</td>\n",
              "      <td>[(1.8360379934311482, 6.4168548583984375), (1....</td>\n",
              "    </tr>\n",
              "    <tr>\n",
              "      <th>53</th>\n",
              "      <td>BEN</td>\n",
              "      <td>Benin</td>\n",
              "      <td>BEN.10_1</td>\n",
              "      <td>Ouémé</td>\n",
              "      <td></td>\n",
              "      <td>BEN.10.1_1</td>\n",
              "      <td>Adjarra</td>\n",
              "      <td>Adjara</td>\n",
              "      <td></td>\n",
              "      <td>Commune</td>\n",
              "      <td>Commune</td>\n",
              "      <td></td>\n",
              "      <td>BJ.OU.AA</td>\n",
              "      <td>[(2.672157049179134, 6.423590183258057), (2.66...</td>\n",
              "    </tr>\n",
              "    <tr>\n",
              "      <th>54</th>\n",
              "      <td>BEN</td>\n",
              "      <td>Benin</td>\n",
              "      <td>BEN.10_1</td>\n",
              "      <td>Ouémé</td>\n",
              "      <td></td>\n",
              "      <td>BEN.10.2_1</td>\n",
              "      <td>Adjohoun</td>\n",
              "      <td></td>\n",
              "      <td></td>\n",
              "      <td>Commune</td>\n",
              "      <td>Commune</td>\n",
              "      <td></td>\n",
              "      <td>BJ.OU.AH</td>\n",
              "      <td>[(2.43598389625555, 6.66477108001709), (2.4358...</td>\n",
              "    </tr>\n",
              "    <tr>\n",
              "      <th>55</th>\n",
              "      <td>BEN</td>\n",
              "      <td>Benin</td>\n",
              "      <td>BEN.10_1</td>\n",
              "      <td>Ouémé</td>\n",
              "      <td></td>\n",
              "      <td>BEN.10.3_1</td>\n",
              "      <td>Aguégués</td>\n",
              "      <td>Aguegue|Aguégué</td>\n",
              "      <td></td>\n",
              "      <td>Commune</td>\n",
              "      <td>Commune</td>\n",
              "      <td></td>\n",
              "      <td>BJ.OU.AG</td>\n",
              "      <td>[(2.59430909156805, 6.4287638664245605), (2.58...</td>\n",
              "    </tr>\n",
              "    <tr>\n",
              "      <th>56</th>\n",
              "      <td>BEN</td>\n",
              "      <td>Benin</td>\n",
              "      <td>BEN.10_1</td>\n",
              "      <td>Ouémé</td>\n",
              "      <td></td>\n",
              "      <td>BEN.10.4_1</td>\n",
              "      <td>Akpro-Missérété</td>\n",
              "      <td></td>\n",
              "      <td></td>\n",
              "      <td>Commune</td>\n",
              "      <td>Commune</td>\n",
              "      <td></td>\n",
              "      <td>BJ.OU.AM</td>\n",
              "      <td>[(2.6325340270996094, 6.611471176147575), (2.6...</td>\n",
              "    </tr>\n",
              "    <tr>\n",
              "      <th>57</th>\n",
              "      <td>BEN</td>\n",
              "      <td>Benin</td>\n",
              "      <td>BEN.10_1</td>\n",
              "      <td>Ouémé</td>\n",
              "      <td></td>\n",
              "      <td>BEN.10.5_1</td>\n",
              "      <td>Avrankou</td>\n",
              "      <td></td>\n",
              "      <td></td>\n",
              "      <td>Commune</td>\n",
              "      <td>Commune</td>\n",
              "      <td></td>\n",
              "      <td>BJ.OU.AV</td>\n",
              "      <td>[(2.635679006576595, 6.497016906738338), (2.62...</td>\n",
              "    </tr>\n",
              "    <tr>\n",
              "      <th>58</th>\n",
              "      <td>BEN</td>\n",
              "      <td>Benin</td>\n",
              "      <td>BEN.10_1</td>\n",
              "      <td>Ouémé</td>\n",
              "      <td></td>\n",
              "      <td>BEN.10.6_1</td>\n",
              "      <td>Bonou</td>\n",
              "      <td></td>\n",
              "      <td></td>\n",
              "      <td>Commune</td>\n",
              "      <td>Commune</td>\n",
              "      <td></td>\n",
              "      <td>BJ.OU.BO</td>\n",
              "      <td>[(2.5579240322113606, 6.8481698036194985), (2....</td>\n",
              "    </tr>\n",
              "    <tr>\n",
              "      <th>59</th>\n",
              "      <td>BEN</td>\n",
              "      <td>Benin</td>\n",
              "      <td>BEN.10_1</td>\n",
              "      <td>Ouémé</td>\n",
              "      <td></td>\n",
              "      <td>BEN.10.7_1</td>\n",
              "      <td>Dangbo</td>\n",
              "      <td></td>\n",
              "      <td></td>\n",
              "      <td>Commune</td>\n",
              "      <td>Commune</td>\n",
              "      <td></td>\n",
              "      <td>BJ.OU.DA</td>\n",
              "      <td>[(2.488802909851131, 6.489311218261719), (2.48...</td>\n",
              "    </tr>\n",
              "    <tr>\n",
              "      <th>60</th>\n",
              "      <td>BEN</td>\n",
              "      <td>Benin</td>\n",
              "      <td>BEN.10_1</td>\n",
              "      <td>Ouémé</td>\n",
              "      <td></td>\n",
              "      <td>BEN.10.8_1</td>\n",
              "      <td>Porto-Novo</td>\n",
              "      <td>Porto Novo</td>\n",
              "      <td></td>\n",
              "      <td>Commune</td>\n",
              "      <td>Commune</td>\n",
              "      <td></td>\n",
              "      <td>BJ.OU.PN</td>\n",
              "      <td>[(2.672157049179134, 6.423590183258057), (2.66...</td>\n",
              "    </tr>\n",
              "    <tr>\n",
              "      <th>61</th>\n",
              "      <td>BEN</td>\n",
              "      <td>Benin</td>\n",
              "      <td>BEN.10_1</td>\n",
              "      <td>Ouémé</td>\n",
              "      <td></td>\n",
              "      <td>BEN.10.9_1</td>\n",
              "      <td>Sèmè-Kpodji</td>\n",
              "      <td>Sèmè-Podji</td>\n",
              "      <td></td>\n",
              "      <td>Commune</td>\n",
              "      <td>Commune</td>\n",
              "      <td></td>\n",
              "      <td>BJ.OU.SK</td>\n",
              "      <td>[(2.59430909156805, 6.4287638664245605), (2.59...</td>\n",
              "    </tr>\n",
              "    <tr>\n",
              "      <th>62</th>\n",
              "      <td>BEN</td>\n",
              "      <td>Benin</td>\n",
              "      <td>BEN.11_1</td>\n",
              "      <td>Plateau</td>\n",
              "      <td></td>\n",
              "      <td>BEN.11.1_1</td>\n",
              "      <td>Adja-Ouèrè</td>\n",
              "      <td>Ikpinle</td>\n",
              "      <td></td>\n",
              "      <td>Commune</td>\n",
              "      <td>Commune</td>\n",
              "      <td></td>\n",
              "      <td>BJ.PL.AO</td>\n",
              "      <td>[(2.7195239067078774, 6.936367988586483), (2.7...</td>\n",
              "    </tr>\n",
              "    <tr>\n",
              "      <th>63</th>\n",
              "      <td>BEN</td>\n",
              "      <td>Benin</td>\n",
              "      <td>BEN.11_1</td>\n",
              "      <td>Plateau</td>\n",
              "      <td></td>\n",
              "      <td>BEN.11.2_1</td>\n",
              "      <td>Ifangni</td>\n",
              "      <td></td>\n",
              "      <td></td>\n",
              "      <td>Commune</td>\n",
              "      <td>Commune</td>\n",
              "      <td></td>\n",
              "      <td>BJ.PL.IF</td>\n",
              "      <td>[(2.7879459857941242, 6.751255035400391), (2.7...</td>\n",
              "    </tr>\n",
              "    <tr>\n",
              "      <th>64</th>\n",
              "      <td>BEN</td>\n",
              "      <td>Benin</td>\n",
              "      <td>BEN.11_1</td>\n",
              "      <td>Plateau</td>\n",
              "      <td></td>\n",
              "      <td>BEN.11.3_1</td>\n",
              "      <td>Kétou</td>\n",
              "      <td></td>\n",
              "      <td></td>\n",
              "      <td>Commune</td>\n",
              "      <td>Commune</td>\n",
              "      <td></td>\n",
              "      <td>BJ.PL.KE</td>\n",
              "      <td>[(2.7991909980773926, 7.426600933075008), (2.7...</td>\n",
              "    </tr>\n",
              "    <tr>\n",
              "      <th>65</th>\n",
              "      <td>BEN</td>\n",
              "      <td>Benin</td>\n",
              "      <td>BEN.11_1</td>\n",
              "      <td>Plateau</td>\n",
              "      <td></td>\n",
              "      <td>BEN.11.4_1</td>\n",
              "      <td>Pobè</td>\n",
              "      <td></td>\n",
              "      <td></td>\n",
              "      <td>Commune</td>\n",
              "      <td>Commune</td>\n",
              "      <td></td>\n",
              "      <td>BJ.PL.PB</td>\n",
              "      <td>[(2.537767887115592, 7.177865982055607), (2.55...</td>\n",
              "    </tr>\n",
              "    <tr>\n",
              "      <th>66</th>\n",
              "      <td>BEN</td>\n",
              "      <td>Benin</td>\n",
              "      <td>BEN.11_1</td>\n",
              "      <td>Plateau</td>\n",
              "      <td></td>\n",
              "      <td>BEN.11.5_1</td>\n",
              "      <td>Sakété</td>\n",
              "      <td></td>\n",
              "      <td></td>\n",
              "      <td>Commune</td>\n",
              "      <td>Commune</td>\n",
              "      <td></td>\n",
              "      <td>BJ.PL.SA</td>\n",
              "      <td>[(2.5766019821166424, 6.627039909362907), (2.5...</td>\n",
              "    </tr>\n",
              "    <tr>\n",
              "      <th>67</th>\n",
              "      <td>BEN</td>\n",
              "      <td>Benin</td>\n",
              "      <td>BEN.12_1</td>\n",
              "      <td>Zou</td>\n",
              "      <td></td>\n",
              "      <td>BEN.12.1_1</td>\n",
              "      <td>Abomey</td>\n",
              "      <td>Abomé</td>\n",
              "      <td></td>\n",
              "      <td>Commune</td>\n",
              "      <td>Commune</td>\n",
              "      <td></td>\n",
              "      <td>BJ.ZO.AB</td>\n",
              "      <td>[(2.0492689609528156, 7.13519811630249), (2.04...</td>\n",
              "    </tr>\n",
              "    <tr>\n",
              "      <th>68</th>\n",
              "      <td>BEN</td>\n",
              "      <td>Benin</td>\n",
              "      <td>BEN.12_1</td>\n",
              "      <td>Zou</td>\n",
              "      <td></td>\n",
              "      <td>BEN.12.2_1</td>\n",
              "      <td>Agbangnizoun</td>\n",
              "      <td></td>\n",
              "      <td></td>\n",
              "      <td>Commune</td>\n",
              "      <td>Commune</td>\n",
              "      <td></td>\n",
              "      <td>BJ.ZO.AG</td>\n",
              "      <td>[(1.8705550432205769, 7.135935783386174), (1.8...</td>\n",
              "    </tr>\n",
              "    <tr>\n",
              "      <th>69</th>\n",
              "      <td>BEN</td>\n",
              "      <td>Benin</td>\n",
              "      <td>BEN.12_1</td>\n",
              "      <td>Zou</td>\n",
              "      <td></td>\n",
              "      <td>BEN.12.3_1</td>\n",
              "      <td>Bohicon</td>\n",
              "      <td></td>\n",
              "      <td></td>\n",
              "      <td>Commune</td>\n",
              "      <td>Commune</td>\n",
              "      <td></td>\n",
              "      <td>BJ.ZO.BO</td>\n",
              "      <td>[(2.07970309257513, 7.260233879089469), (2.083...</td>\n",
              "    </tr>\n",
              "    <tr>\n",
              "      <th>70</th>\n",
              "      <td>BEN</td>\n",
              "      <td>Benin</td>\n",
              "      <td>BEN.12_1</td>\n",
              "      <td>Zou</td>\n",
              "      <td></td>\n",
              "      <td>BEN.12.4_1</td>\n",
              "      <td>Covè</td>\n",
              "      <td></td>\n",
              "      <td></td>\n",
              "      <td>Commune</td>\n",
              "      <td>Commune</td>\n",
              "      <td></td>\n",
              "      <td>BJ.ZO.CO</td>\n",
              "      <td>[(2.2898590564727783, 7.505249977111873), (2.2...</td>\n",
              "    </tr>\n",
              "    <tr>\n",
              "      <th>71</th>\n",
              "      <td>BEN</td>\n",
              "      <td>Benin</td>\n",
              "      <td>BEN.12_1</td>\n",
              "      <td>Zou</td>\n",
              "      <td></td>\n",
              "      <td>BEN.12.5_1</td>\n",
              "      <td>Djidja</td>\n",
              "      <td></td>\n",
              "      <td></td>\n",
              "      <td>Commune</td>\n",
              "      <td>Commune</td>\n",
              "      <td></td>\n",
              "      <td>BJ.ZO.DJ</td>\n",
              "      <td>[(1.6761430501937866, 7.503859043121338), (1.6...</td>\n",
              "    </tr>\n",
              "    <tr>\n",
              "      <th>72</th>\n",
              "      <td>BEN</td>\n",
              "      <td>Benin</td>\n",
              "      <td>BEN.12_1</td>\n",
              "      <td>Zou</td>\n",
              "      <td></td>\n",
              "      <td>BEN.12.6_1</td>\n",
              "      <td>Ouinhi</td>\n",
              "      <td></td>\n",
              "      <td></td>\n",
              "      <td>Commune</td>\n",
              "      <td>Commune</td>\n",
              "      <td></td>\n",
              "      <td>BJ.ZO.ON</td>\n",
              "      <td>[(2.4075679779053303, 6.978621006011963), (2.4...</td>\n",
              "    </tr>\n",
              "    <tr>\n",
              "      <th>73</th>\n",
              "      <td>BEN</td>\n",
              "      <td>Benin</td>\n",
              "      <td>BEN.12_1</td>\n",
              "      <td>Zou</td>\n",
              "      <td></td>\n",
              "      <td>BEN.12.7_1</td>\n",
              "      <td>Za-Kpota</td>\n",
              "      <td>Za Kpota</td>\n",
              "      <td></td>\n",
              "      <td>Commune</td>\n",
              "      <td>Commune</td>\n",
              "      <td></td>\n",
              "      <td>BJ.ZO.ZK</td>\n",
              "      <td>[(2.07970309257513, 7.260233879089469), (2.090...</td>\n",
              "    </tr>\n",
              "    <tr>\n",
              "      <th>74</th>\n",
              "      <td>BEN</td>\n",
              "      <td>Benin</td>\n",
              "      <td>BEN.12_1</td>\n",
              "      <td>Zou</td>\n",
              "      <td></td>\n",
              "      <td>BEN.12.8_1</td>\n",
              "      <td>Zagnanado</td>\n",
              "      <td>Zangnanado</td>\n",
              "      <td></td>\n",
              "      <td>Commune</td>\n",
              "      <td>Commune</td>\n",
              "      <td></td>\n",
              "      <td>BJ.ZO.ZN</td>\n",
              "      <td>[(2.2898590564727783, 7.505249977111873), (2.3...</td>\n",
              "    </tr>\n",
              "    <tr>\n",
              "      <th>75</th>\n",
              "      <td>BEN</td>\n",
              "      <td>Benin</td>\n",
              "      <td>BEN.12_1</td>\n",
              "      <td>Zou</td>\n",
              "      <td></td>\n",
              "      <td>BEN.12.9_1</td>\n",
              "      <td>Zogbodomey</td>\n",
              "      <td>Zogbodome</td>\n",
              "      <td></td>\n",
              "      <td>Commune</td>\n",
              "      <td>Commune</td>\n",
              "      <td></td>\n",
              "      <td>BJ.ZO.ZB</td>\n",
              "      <td>[(2.377510070800838, 6.930169105529842), (2.36...</td>\n",
              "    </tr>\n",
              "  </tbody>\n",
              "</table>\n",
              "<p>76 rows × 14 columns</p>\n",
              "</div>"
            ],
            "text/plain": [
              "   GID_0 NAME_0  ...    HASC_2                                             coords\n",
              "0    BEN  Benin  ...  BJ.AL.BA  [(2.8467729091645424, 11.42146110534668), (2.8...\n",
              "1    BEN  Benin  ...  BJ.AL.GO  [(2.2658329010010902, 10.54574203491211), (2.2...\n",
              "2    BEN  Benin  ...  BJ.AL.KN  [(3.273935079574642, 11.306771278381404), (3.2...\n",
              "3    BEN  Benin  ...  BJ.AL.KR  [(3.2918179035187904, 11.928750991821289), (3....\n",
              "4    BEN  Benin  ...  BJ.AL.MA  [(3.5912120342255776, 11.673298835754451), (3....\n",
              "5    BEN  Benin  ...  BJ.AL.SE  [(3.7127580642700764, 11.127946853637809), (3....\n",
              "6    BEN  Benin  ...  BJ.AK.BO  [(1.3887850046158974, 10.039131164550838), (1....\n",
              "7    BEN  Benin  ...  BJ.AK.CB  [(0.897539973259029, 10.29423904418951), (0.88...\n",
              "8    BEN  Benin  ...  BJ.AK.KE  [(2.2658329010010902, 10.54574203491211), (2.2...\n",
              "9    BEN  Benin  ...  BJ.AK.KO  [(1.3887850046158974, 10.039131164550838), (1....\n",
              "10   BEN  Benin  ...  BJ.AK.MA  [(1.1157790422440144, 11.03819942474371), (1.1...\n",
              "11   BEN  Benin  ...  BJ.AK.NA  [(1.3887850046158974, 10.039131164550838), (1....\n",
              "12   BEN  Benin  ...  BJ.AK.PE  [(2.2658329010010902, 10.54574203491211), (2.2...\n",
              "13   BEN  Benin  ...  BJ.AK.TA  [(1.5668350458146278, 10.75683975219738), (1.5...\n",
              "14   BEN  Benin  ...  BJ.AK.TO  [(1.2202860116959755, 10.476679801940918), (1....\n",
              "15   BEN  Benin  ...  BJ.AQ.AC  [(2.3700959682465736, 6.385532855987549), (2.3...\n",
              "16   BEN  Benin  ...  BJ.AQ.AL  [(2.2014150619507404, 6.603563785553035), (2.1...\n",
              "17   BEN  Benin  ...  BJ.AQ.KP  [(1.9796169996262734, 6.341844081878719), (1.9...\n",
              "18   BEN  Benin  ...  BJ.AQ.OU  [(1.9842729568481445, 6.3118047714234535), (1....\n",
              "19   BEN  Benin  ...  BJ.AQ.SA  [(2.488802909851131, 6.489311218261719), (2.48...\n",
              "20   BEN  Benin  ...  BJ.AQ.TF  [(2.030635118484497, 6.714011192321834), (2.03...\n",
              "21   BEN  Benin  ...  BJ.AQ.TB  [(2.217668056488151, 6.435691833496094), (2.20...\n",
              "22   BEN  Benin  ...  BJ.AQ.ZE  [(2.2303369045258137, 6.759677886962891), (2.2...\n",
              "23   BEN  Benin  ...  BJ.BO.BE  [(3.0436739921569824, 10.269531250000057), (3....\n",
              "24   BEN  Benin  ...  BJ.BO.KL  [(3.670058012008724, 10.129911422729606), (3.6...\n",
              "25   BEN  Benin  ...  BJ.BO.ND  [(2.547421932220459, 9.453910827636719), (2.53...\n",
              "26   BEN  Benin  ...  BJ.BO.NI  [(3.6286149024963947, 10.092581748962516), (3....\n",
              "27   BEN  Benin  ...  BJ.BO.PA  [(2.7648680210114094, 9.428414344787654), (2.7...\n",
              "28   BEN  Benin  ...  BJ.BO.PE  [(3.266597032546997, 9.654834747314453), (3.26...\n",
              "29   BEN  Benin  ...  BJ.BO.SI  [(2.087599992752132, 9.970624923706112), (2.08...\n",
              "..   ...    ...  ...       ...                                                ...\n",
              "46   BEN  Benin  ...  BJ.CF.TO  [(1.8612060546875568, 6.827836036682243), (1.8...\n",
              "47   BEN  Benin  ...  BJ.LI.CO  [(2.3700959682465736, 6.385532855987549), (2.3...\n",
              "48   BEN  Benin  ...  BJ.MO.AT  [(1.8219159841538044, 6.63898420333868), (1.80...\n",
              "49   BEN  Benin  ...  BJ.MO.BO  [(1.96468102931982, 6.48068904876709), (1.9611...\n",
              "50   BEN  Benin  ...  BJ.MO.CO  [(1.9796169996262734, 6.341844081878719), (1.9...\n",
              "51   BEN  Benin  ...  BJ.MO.GP  [(1.9842729568481445, 6.3118047714234535), (1....\n",
              "52   BEN  Benin  ...  BJ.MO.HO  [(1.8360379934311482, 6.4168548583984375), (1....\n",
              "53   BEN  Benin  ...  BJ.OU.AA  [(2.672157049179134, 6.423590183258057), (2.66...\n",
              "54   BEN  Benin  ...  BJ.OU.AH  [(2.43598389625555, 6.66477108001709), (2.4358...\n",
              "55   BEN  Benin  ...  BJ.OU.AG  [(2.59430909156805, 6.4287638664245605), (2.58...\n",
              "56   BEN  Benin  ...  BJ.OU.AM  [(2.6325340270996094, 6.611471176147575), (2.6...\n",
              "57   BEN  Benin  ...  BJ.OU.AV  [(2.635679006576595, 6.497016906738338), (2.62...\n",
              "58   BEN  Benin  ...  BJ.OU.BO  [(2.5579240322113606, 6.8481698036194985), (2....\n",
              "59   BEN  Benin  ...  BJ.OU.DA  [(2.488802909851131, 6.489311218261719), (2.48...\n",
              "60   BEN  Benin  ...  BJ.OU.PN  [(2.672157049179134, 6.423590183258057), (2.66...\n",
              "61   BEN  Benin  ...  BJ.OU.SK  [(2.59430909156805, 6.4287638664245605), (2.59...\n",
              "62   BEN  Benin  ...  BJ.PL.AO  [(2.7195239067078774, 6.936367988586483), (2.7...\n",
              "63   BEN  Benin  ...  BJ.PL.IF  [(2.7879459857941242, 6.751255035400391), (2.7...\n",
              "64   BEN  Benin  ...  BJ.PL.KE  [(2.7991909980773926, 7.426600933075008), (2.7...\n",
              "65   BEN  Benin  ...  BJ.PL.PB  [(2.537767887115592, 7.177865982055607), (2.55...\n",
              "66   BEN  Benin  ...  BJ.PL.SA  [(2.5766019821166424, 6.627039909362907), (2.5...\n",
              "67   BEN  Benin  ...  BJ.ZO.AB  [(2.0492689609528156, 7.13519811630249), (2.04...\n",
              "68   BEN  Benin  ...  BJ.ZO.AG  [(1.8705550432205769, 7.135935783386174), (1.8...\n",
              "69   BEN  Benin  ...  BJ.ZO.BO  [(2.07970309257513, 7.260233879089469), (2.083...\n",
              "70   BEN  Benin  ...  BJ.ZO.CO  [(2.2898590564727783, 7.505249977111873), (2.2...\n",
              "71   BEN  Benin  ...  BJ.ZO.DJ  [(1.6761430501937866, 7.503859043121338), (1.6...\n",
              "72   BEN  Benin  ...  BJ.ZO.ON  [(2.4075679779053303, 6.978621006011963), (2.4...\n",
              "73   BEN  Benin  ...  BJ.ZO.ZK  [(2.07970309257513, 7.260233879089469), (2.090...\n",
              "74   BEN  Benin  ...  BJ.ZO.ZN  [(2.2898590564727783, 7.505249977111873), (2.3...\n",
              "75   BEN  Benin  ...  BJ.ZO.ZB  [(2.377510070800838, 6.930169105529842), (2.36...\n",
              "\n",
              "[76 rows x 14 columns]"
            ]
          },
          "metadata": {
            "tags": []
          },
          "execution_count": 118
        }
      ]
    },
    {
      "cell_type": "code",
      "metadata": {
        "id": "iWBZDsu7zcez",
        "colab_type": "code",
        "colab": {}
      },
      "source": [
        ""
      ],
      "execution_count": 0,
      "outputs": []
    }
  ]
}