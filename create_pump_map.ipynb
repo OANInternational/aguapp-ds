{
  "nbformat": 4,
  "nbformat_minor": 0,
  "metadata": {
    "colab": {
      "name": "create_pump_map.ipynb",
      "version": "0.3.2",
      "provenance": [],
      "collapsed_sections": [],
      "include_colab_link": true
    },
    "language_info": {
      "codemirror_mode": {
        "name": "ipython",
        "version": 3
      },
      "file_extension": ".py",
      "mimetype": "text/x-python",
      "name": "python",
      "nbconvert_exporter": "python",
      "pygments_lexer": "ipython3",
      "version": "3.7.3"
    },
    "kernelspec": {
      "name": "python3",
      "display_name": "Python 3"
    },
    "accelerator": "GPU"
  },
  "cells": [
    {
      "cell_type": "markdown",
      "metadata": {
        "id": "view-in-github",
        "colab_type": "text"
      },
      "source": [
        "<a href=\"https://colab.research.google.com/github/OANInternational/aguapp/blob/master/create_pump_map.ipynb\" target=\"_parent\"><img src=\"https://colab.research.google.com/assets/colab-badge.svg\" alt=\"Open In Colab\"/></a>"
      ]
    },
    {
      "cell_type": "markdown",
      "metadata": {
        "id": "Ym3RvFva0G5q",
        "colab_type": "text"
      },
      "source": [
        "Proyecto para crear mapas y estudios a partir de las bases de datos de bombas"
      ]
    },
    {
      "cell_type": "markdown",
      "metadata": {
        "id": "NZW1x90D_A2N",
        "colab_type": "text"
      },
      "source": [
        "INSTALS, JUST RUN ONCE"
      ]
    },
    {
      "cell_type": "code",
      "metadata": {
        "id": "KBU7P35o_DsC",
        "colab_type": "code",
        "colab": {}
      },
      "source": [
        "!apt-get install libgeos-3.5.0\n",
        "!apt-get install libgeos-dev\n",
        "!pip install https://github.com/matplotlib/basemap/archive/master.zip\n",
        "!pip install pyproj==1.9.6"
      ],
      "execution_count": 0,
      "outputs": []
    },
    {
      "cell_type": "markdown",
      "metadata": {
        "id": "F9UYXCg7mf0w",
        "colab_type": "text"
      },
      "source": [
        "Hacer un google Drive un directorio"
      ]
    },
    {
      "cell_type": "code",
      "metadata": {
        "id": "PB9QEH1ljfSa",
        "colab_type": "code",
        "outputId": "d69c8221-7876-4bb5-b61a-4b62ad0696df",
        "colab": {
          "base_uri": "https://localhost:8080/",
          "height": 33
        }
      },
      "source": [
        "%cd"
      ],
      "execution_count": 8,
      "outputs": [
        {
          "output_type": "stream",
          "text": [
            "/root\n"
          ],
          "name": "stdout"
        }
      ]
    },
    {
      "cell_type": "code",
      "metadata": {
        "id": "BZ-Mi5uM6Ywq",
        "colab_type": "code",
        "outputId": "4a1c38c8-1cf0-4c08-96b6-5506ddb987e4",
        "colab": {
          "base_uri": "https://localhost:8080/",
          "height": 66
        }
      },
      "source": [
        "%cd\n",
        "%cd ..\n",
        "%cd content"
      ],
      "execution_count": 9,
      "outputs": [
        {
          "output_type": "stream",
          "text": [
            "/root\n",
            "/\n",
            "/content\n"
          ],
          "name": "stdout"
        }
      ]
    },
    {
      "cell_type": "code",
      "metadata": {
        "id": "8DJBx357k1kw",
        "colab_type": "code",
        "outputId": "c0c70df4-5e63-498e-a4de-34448b753f64",
        "colab": {
          "base_uri": "https://localhost:8080/",
          "height": 118
        }
      },
      "source": [
        "from google.colab import drive\n",
        "drive.mount('/content/drive')"
      ],
      "execution_count": 2,
      "outputs": [
        {
          "output_type": "stream",
          "text": [
            "Go to this URL in a browser: https://accounts.google.com/o/oauth2/auth?client_id=947318989803-6bn6qk8qdgf4n4g3pfee6491hc0brc4i.apps.googleusercontent.com&redirect_uri=urn%3Aietf%3Awg%3Aoauth%3A2.0%3Aoob&scope=email%20https%3A%2F%2Fwww.googleapis.com%2Fauth%2Fdocs.test%20https%3A%2F%2Fwww.googleapis.com%2Fauth%2Fdrive%20https%3A%2F%2Fwww.googleapis.com%2Fauth%2Fdrive.photos.readonly%20https%3A%2F%2Fwww.googleapis.com%2Fauth%2Fpeopleapi.readonly&response_type=code\n",
            "\n",
            "Enter your authorization code:\n",
            "··········\n",
            "Mounted at /content/drive\n"
          ],
          "name": "stdout"
        }
      ]
    },
    {
      "cell_type": "code",
      "metadata": {
        "id": "APqZadV71EDZ",
        "colab_type": "code",
        "outputId": "0e1417cd-2855-4518-b539-48b38321618c",
        "colab": {
          "base_uri": "https://localhost:8080/",
          "height": 33
        }
      },
      "source": [
        "!ls"
      ],
      "execution_count": 4,
      "outputs": [
        {
          "output_type": "stream",
          "text": [
            "drive  sample_data\n"
          ],
          "name": "stdout"
        }
      ]
    },
    {
      "cell_type": "code",
      "metadata": {
        "id": "YLlHkfPNlSv1",
        "colab_type": "code",
        "outputId": "e198067d-c5ab-4035-c0c7-685265ea8546",
        "colab": {
          "base_uri": "https://localhost:8080/",
          "height": 33
        }
      },
      "source": [
        "%cd drive/'Shared drives'/'Comité de Infraestructuras, Energía y Agua'/'Proyectos'/'Red de Reparadores de Bombas Manuales'/'Prototipo Automatización'/'Mapas'"
      ],
      "execution_count": 1,
      "outputs": [
        {
          "output_type": "stream",
          "text": [
            "/content/drive/Shared drives/Comité de Infraestructuras, Energía y Agua/Proyectos/Red de Reparadores de Bombas Manuales/Prototipo Automatización/Mapas\n"
          ],
          "name": "stdout"
        }
      ]
    },
    {
      "cell_type": "code",
      "metadata": {
        "id": "9KAdA-R8xKw5",
        "colab_type": "code",
        "colab": {}
      },
      "source": [
        "import yaml\n",
        "spreadsheet_ids = yaml.load( open(\"parameters.yaml\", \"r\" ))\n",
        "#bombas de 2018, ultima version\n",
        "ID1=str(spreadsheet_ids['ID1'])\n",
        "#bombas de 2016, ultima version\n",
        "ID2=str(spreadsheet_ids['ID2'])\n",
        "#bombas de 2009, ultima version\n",
        "ID3=str(spreadsheet_ids['ID3'])\n",
        "#bombas final, datos de 2016 y 2009\n",
        "ID4=str(spreadsheet_ids['ID4'])"
      ],
      "execution_count": 0,
      "outputs": []
    },
    {
      "cell_type": "markdown",
      "metadata": {
        "id": "Xwyycijf0Qvn",
        "colab_type": "text"
      },
      "source": [
        "GSHEET & GDRIVE AUTHETICATION"
      ]
    },
    {
      "cell_type": "code",
      "metadata": {
        "id": "mmfpyKADzdfG",
        "colab_type": "code",
        "colab": {}
      },
      "source": [
        "from google.colab import auth\n",
        "auth.authenticate_user()"
      ],
      "execution_count": 0,
      "outputs": []
    },
    {
      "cell_type": "code",
      "metadata": {
        "id": "SpLCBRrxCK0L",
        "colab_type": "code",
        "colab": {}
      },
      "source": [
        "from googleapiclient.discovery import build\n",
        "sheet_service = build('sheets', 'v4')"
      ],
      "execution_count": 0,
      "outputs": []
    },
    {
      "cell_type": "markdown",
      "metadata": {
        "id": "iyD4iZjS0UV7",
        "colab_type": "text"
      },
      "source": [
        "IMPORTS"
      ]
    },
    {
      "cell_type": "code",
      "metadata": {
        "id": "nn90UXN40O4S",
        "colab_type": "code",
        "colab": {}
      },
      "source": [
        "import plotly\n",
        "import plotly.plotly as py\n",
        "import numpy as np\n",
        "import re\n",
        "\n",
        "\n",
        "import matplotlib.pyplot as plt\n",
        "\n",
        "import pandas as pd\n",
        "\n",
        "import matplotlib.pyplot as plt\n",
        "import matplotlib.font_manager as font_manager\n",
        "import matplotlib.dates\n",
        "import seaborn as sns\n",
        "\n",
        "import folium\n",
        "import matplotlib.patches as mpatches\n",
        "\n",
        "from mpl_toolkits.basemap import Basemap\n",
        "from matplotlib import colors as mcolors\n",
        "\n"
      ],
      "execution_count": 0,
      "outputs": []
    },
    {
      "cell_type": "code",
      "metadata": {
        "id": "CmU3fhlHPutS",
        "colab_type": "code",
        "colab": {}
      },
      "source": [
        "colors = dict(mcolors.BASE_COLORS, **mcolors.CSS4_COLORS)"
      ],
      "execution_count": 0,
      "outputs": []
    },
    {
      "cell_type": "markdown",
      "metadata": {
        "id": "tTsqr0eZIhNB",
        "colab_type": "text"
      },
      "source": [
        "Get Data in a spreadsheet with tasks and dates of project (starting and ending)"
      ]
    },
    {
      "cell_type": "code",
      "metadata": {
        "id": "f0p3zFE6Cdz2",
        "colab_type": "code",
        "colab": {}
      },
      "source": [
        "SPREADSHEET_ID = ID1\n",
        "RANGE_NAME = 'Sheet1'\n",
        "\n",
        "gsheet = sheet_service.spreadsheets().values().get(spreadsheetId=SPREADSHEET_ID, range=RANGE_NAME).execute()\n",
        "\n",
        "df_2019 = pd.DataFrame(gsheet.get('values', [])[1:],columns= gsheet.get('values', [])[0:1][0])"
      ],
      "execution_count": 0,
      "outputs": []
    },
    {
      "cell_type": "code",
      "metadata": {
        "id": "j3c5zI29G8kJ",
        "colab_type": "code",
        "outputId": "14ab4cff-ced2-4cb1-e551-e7c3ce78bfdf",
        "colab": {
          "base_uri": "https://localhost:8080/",
          "height": 191
        }
      },
      "source": [
        "df_2019.head()"
      ],
      "execution_count": 108,
      "outputs": [
        {
          "output_type": "execute_result",
          "data": {
            "text/html": [
              "<div>\n",
              "<style scoped>\n",
              "    .dataframe tbody tr th:only-of-type {\n",
              "        vertical-align: middle;\n",
              "    }\n",
              "\n",
              "    .dataframe tbody tr th {\n",
              "        vertical-align: top;\n",
              "    }\n",
              "\n",
              "    .dataframe thead th {\n",
              "        text-align: right;\n",
              "    }\n",
              "</style>\n",
              "<table border=\"1\" class=\"dataframe\">\n",
              "  <thead>\n",
              "    <tr style=\"text-align: right;\">\n",
              "      <th></th>\n",
              "      <th>Arrondissement</th>\n",
              "      <th>Village</th>\n",
              "      <th>Localite</th>\n",
              "      <th>Nom_Local</th>\n",
              "      <th>Longitude</th>\n",
              "      <th>Latitude</th>\n",
              "      <th>xCoord</th>\n",
              "      <th>yCoord</th>\n",
              "      <th>rqtListe_Pompe.Modele_Pompe</th>\n",
              "    </tr>\n",
              "  </thead>\n",
              "  <tbody>\n",
              "    <tr>\n",
              "      <th>0</th>\n",
              "      <td>BIRO</td>\n",
              "      <td>BIRO</td>\n",
              "      <td>Biro</td>\n",
              "      <td>BIRO 2</td>\n",
              "      <td>02°56'52.0\"E</td>\n",
              "      <td>09°54'00.0\"N</td>\n",
              "      <td>2.947778</td>\n",
              "      <td>9.9</td>\n",
              "      <td>VERGNET</td>\n",
              "    </tr>\n",
              "    <tr>\n",
              "      <th>1</th>\n",
              "      <td>BIRO</td>\n",
              "      <td>BIRO</td>\n",
              "      <td>Sarawondo</td>\n",
              "      <td>SARAWONDO</td>\n",
              "      <td>02°58'29.2\"E</td>\n",
              "      <td>09°54'13.2\"N</td>\n",
              "      <td>2.974778</td>\n",
              "      <td>9.903666</td>\n",
              "      <td>VERGNET</td>\n",
              "    </tr>\n",
              "    <tr>\n",
              "      <th>2</th>\n",
              "      <td>BIRO</td>\n",
              "      <td>BIRO</td>\n",
              "      <td>Nallou</td>\n",
              "      <td>NANLOU</td>\n",
              "      <td>02°54'30.2\"E</td>\n",
              "      <td>09°56'00.0\"N</td>\n",
              "      <td>2.908389</td>\n",
              "      <td>9.933333</td>\n",
              "      <td>VERGNET</td>\n",
              "    </tr>\n",
              "    <tr>\n",
              "      <th>3</th>\n",
              "      <td>BIRO</td>\n",
              "      <td>BIRO</td>\n",
              "      <td>Biro</td>\n",
              "      <td>BIRO CENTRE</td>\n",
              "      <td>02°56'26.3\"E</td>\n",
              "      <td>09°54'10.0\"N</td>\n",
              "      <td>2.940639</td>\n",
              "      <td>9.902778</td>\n",
              "      <td>None</td>\n",
              "    </tr>\n",
              "    <tr>\n",
              "      <th>4</th>\n",
              "      <td>BIRO</td>\n",
              "      <td>BIRO</td>\n",
              "      <td>Biro</td>\n",
              "      <td>BIRO CENTRE</td>\n",
              "      <td>02°56'47.9\"E</td>\n",
              "      <td>09°54'10.9\"N</td>\n",
              "      <td>2.946639</td>\n",
              "      <td>9.903028</td>\n",
              "      <td>AFRIDEV</td>\n",
              "    </tr>\n",
              "  </tbody>\n",
              "</table>\n",
              "</div>"
            ],
            "text/plain": [
              "  Arrondissement Village  ...    yCoord rqtListe_Pompe.Modele_Pompe\n",
              "0           BIRO    BIRO  ...       9.9                     VERGNET\n",
              "1           BIRO    BIRO  ...  9.903666                     VERGNET\n",
              "2           BIRO    BIRO  ...  9.933333                     VERGNET\n",
              "3           BIRO    BIRO  ...  9.902778                        None\n",
              "4           BIRO    BIRO  ...  9.903028                     AFRIDEV\n",
              "\n",
              "[5 rows x 9 columns]"
            ]
          },
          "metadata": {
            "tags": []
          },
          "execution_count": 108
        }
      ]
    },
    {
      "cell_type": "code",
      "metadata": {
        "id": "D5jTt-bbGx6O",
        "colab_type": "code",
        "outputId": "c7fe07f1-d9cc-4e6e-c851-711935d8a85c",
        "colab": {
          "base_uri": "https://localhost:8080/",
          "height": 277
        }
      },
      "source": [
        "df_2019.groupby('Arrondissement',axis=0).count()"
      ],
      "execution_count": 109,
      "outputs": [
        {
          "output_type": "execute_result",
          "data": {
            "text/html": [
              "<div>\n",
              "<style scoped>\n",
              "    .dataframe tbody tr th:only-of-type {\n",
              "        vertical-align: middle;\n",
              "    }\n",
              "\n",
              "    .dataframe tbody tr th {\n",
              "        vertical-align: top;\n",
              "    }\n",
              "\n",
              "    .dataframe thead th {\n",
              "        text-align: right;\n",
              "    }\n",
              "</style>\n",
              "<table border=\"1\" class=\"dataframe\">\n",
              "  <thead>\n",
              "    <tr style=\"text-align: right;\">\n",
              "      <th></th>\n",
              "      <th>Village</th>\n",
              "      <th>Localite</th>\n",
              "      <th>Nom_Local</th>\n",
              "      <th>Longitude</th>\n",
              "      <th>Latitude</th>\n",
              "      <th>xCoord</th>\n",
              "      <th>yCoord</th>\n",
              "      <th>rqtListe_Pompe.Modele_Pompe</th>\n",
              "    </tr>\n",
              "    <tr>\n",
              "      <th>Arrondissement</th>\n",
              "      <th></th>\n",
              "      <th></th>\n",
              "      <th></th>\n",
              "      <th></th>\n",
              "      <th></th>\n",
              "      <th></th>\n",
              "      <th></th>\n",
              "      <th></th>\n",
              "    </tr>\n",
              "  </thead>\n",
              "  <tbody>\n",
              "    <tr>\n",
              "      <th>BIRO</th>\n",
              "      <td>30</td>\n",
              "      <td>30</td>\n",
              "      <td>30</td>\n",
              "      <td>30</td>\n",
              "      <td>30</td>\n",
              "      <td>30</td>\n",
              "      <td>30</td>\n",
              "      <td>25</td>\n",
              "    </tr>\n",
              "    <tr>\n",
              "      <th>GNONKOURAKALI</th>\n",
              "      <td>36</td>\n",
              "      <td>36</td>\n",
              "      <td>36</td>\n",
              "      <td>36</td>\n",
              "      <td>36</td>\n",
              "      <td>36</td>\n",
              "      <td>36</td>\n",
              "      <td>33</td>\n",
              "    </tr>\n",
              "    <tr>\n",
              "      <th>NIKKI</th>\n",
              "      <td>132</td>\n",
              "      <td>132</td>\n",
              "      <td>132</td>\n",
              "      <td>132</td>\n",
              "      <td>132</td>\n",
              "      <td>132</td>\n",
              "      <td>132</td>\n",
              "      <td>109</td>\n",
              "    </tr>\n",
              "    <tr>\n",
              "      <th>OUENOU</th>\n",
              "      <td>56</td>\n",
              "      <td>56</td>\n",
              "      <td>56</td>\n",
              "      <td>56</td>\n",
              "      <td>56</td>\n",
              "      <td>56</td>\n",
              "      <td>56</td>\n",
              "      <td>44</td>\n",
              "    </tr>\n",
              "    <tr>\n",
              "      <th>SEREKALE</th>\n",
              "      <td>54</td>\n",
              "      <td>54</td>\n",
              "      <td>54</td>\n",
              "      <td>53</td>\n",
              "      <td>53</td>\n",
              "      <td>53</td>\n",
              "      <td>53</td>\n",
              "      <td>43</td>\n",
              "    </tr>\n",
              "    <tr>\n",
              "      <th>SUYA</th>\n",
              "      <td>16</td>\n",
              "      <td>16</td>\n",
              "      <td>16</td>\n",
              "      <td>16</td>\n",
              "      <td>16</td>\n",
              "      <td>16</td>\n",
              "      <td>16</td>\n",
              "      <td>12</td>\n",
              "    </tr>\n",
              "    <tr>\n",
              "      <th>TASSO</th>\n",
              "      <td>41</td>\n",
              "      <td>41</td>\n",
              "      <td>41</td>\n",
              "      <td>41</td>\n",
              "      <td>41</td>\n",
              "      <td>41</td>\n",
              "      <td>41</td>\n",
              "      <td>36</td>\n",
              "    </tr>\n",
              "  </tbody>\n",
              "</table>\n",
              "</div>"
            ],
            "text/plain": [
              "                Village  Localite  ...  yCoord  rqtListe_Pompe.Modele_Pompe\n",
              "Arrondissement                     ...                                     \n",
              "BIRO                 30        30  ...      30                           25\n",
              "GNONKOURAKALI        36        36  ...      36                           33\n",
              "NIKKI               132       132  ...     132                          109\n",
              "OUENOU               56        56  ...      56                           44\n",
              "SEREKALE             54        54  ...      53                           43\n",
              "SUYA                 16        16  ...      16                           12\n",
              "TASSO                41        41  ...      41                           36\n",
              "\n",
              "[7 rows x 8 columns]"
            ]
          },
          "metadata": {
            "tags": []
          },
          "execution_count": 109
        }
      ]
    },
    {
      "cell_type": "code",
      "metadata": {
        "id": "euTWzzqMI-Wv",
        "colab_type": "code",
        "colab": {}
      },
      "source": [
        "def decimals_lat_lon(x,lat):\n",
        "  coord=None\n",
        "  if x[lat]:\n",
        "    if len(x[lat])>2:\n",
        "      if len(re.split('[°\\'\"]', x[lat])) == 4 :\n",
        "        deg, minutes, seconds, direction =  re.split('[°\\'\"]', x[lat])\n",
        "        coord=(float(deg) + float(minutes.replace(\",\",\".\"))/60 + float(seconds.replace(\",\",\".\"))/(60*60)) * (-1 if direction in ['W', 'S'] else 1)\n",
        "      elif len(re.split('[°\\'\"]', x[lat])) > 0:\n",
        "        coord=x[lat]\n",
        "        print(coord)\n",
        "  else:\n",
        "    coord=None\n",
        "    print(coord)\n",
        "  return coord"
      ],
      "execution_count": 0,
      "outputs": []
    },
    {
      "cell_type": "code",
      "metadata": {
        "id": "beS63ZuJGRKU",
        "colab_type": "code",
        "colab": {
          "base_uri": "https://localhost:8080/",
          "height": 50
        },
        "outputId": "47a2685a-0df1-4b6c-c144-ff2136910d97"
      },
      "source": [
        "df_2019['Latitude_decimals']=df_2019.apply(lambda x: decimals_lat_lon(x,'Latitude'),axis=1)"
      ],
      "execution_count": 111,
      "outputs": [
        {
          "output_type": "stream",
          "text": [
            "None\n",
            "None\n"
          ],
          "name": "stdout"
        }
      ]
    },
    {
      "cell_type": "code",
      "metadata": {
        "id": "maSbCAo1GT0N",
        "colab_type": "code",
        "colab": {
          "base_uri": "https://localhost:8080/",
          "height": 50
        },
        "outputId": "92655067-610f-4952-a468-8a93f18efd59"
      },
      "source": [
        "df_2019['Longitude_decimals']=df_2019.apply(lambda x: decimals_lat_lon(x,'Longitude'),axis=1)"
      ],
      "execution_count": 112,
      "outputs": [
        {
          "output_type": "stream",
          "text": [
            "None\n",
            "None\n"
          ],
          "name": "stdout"
        }
      ]
    },
    {
      "cell_type": "code",
      "metadata": {
        "id": "qdUlHWBhJPMm",
        "colab_type": "code",
        "colab": {}
      },
      "source": [
        "df_2019=df_2019.dropna(subset=['Longitude_decimals', 'Latitude_decimals'])"
      ],
      "execution_count": 0,
      "outputs": []
    },
    {
      "cell_type": "code",
      "metadata": {
        "id": "9wxk_JAURW6e",
        "colab_type": "code",
        "colab": {}
      },
      "source": [
        "def drawmap(df,title,zoom,savefig):\n",
        "  data=df\n",
        "  map_colors = {}\n",
        "  l_arron = data['Arrondissement'].unique().tolist()\n",
        "  [map_colors.update({arron: colors[list(colors.keys())[i*3+8]]}) for i,arron in enumerate(l_arron) ]\n",
        "  lat_begin=data['Latitude_decimals'].quantile(0.5)\n",
        "\n",
        "  lat_min=data['Latitude_decimals'].min()\n",
        "  lat_max=data['Latitude_decimals'].max()\n",
        "\n",
        "  lon_min=data['Longitude_decimals'].min()\n",
        "  lon_max=data['Longitude_decimals'].max()\n",
        "\n",
        "  lon_begin=data['Longitude_decimals'].quantile(0.5)\n",
        "  lats=np.array(data['Latitude_decimals'])\n",
        "  lons=np.array(data['Longitude_decimals'])\n",
        "  zoom_scale = 0\n",
        "\n",
        "  # Setup the bounding box for the zoom and bounds of the map\n",
        "  bbox = [np.min(lats)-zoom_scale,np.max(lats)+zoom_scale,\\\n",
        "          np.min(lons)-zoom_scale,np.max(lons)+zoom_scale]\n",
        "\n",
        "  plt.figure(figsize=(25,12))\n",
        "  # Define the projection, scale, the corners of the map, and the resolution.\n",
        "  m = Basemap(projection='merc',llcrnrlat=lat_min-zoom,urcrnrlat=lat_max+zoom,\\\n",
        "              llcrnrlon=lon_min-zoom,urcrnrlon=lon_max+zoom,lat_ts=10,resolution='i')\n",
        "\n",
        "  # Draw coastlines and fill continents and water with color\n",
        "  m.drawcoastlines()\n",
        "  m.fillcontinents(color='grey',lake_color='dodgerblue')\n",
        "\n",
        "  # draw parallels, meridians, and color boundaries\n",
        "  m.drawparallels(np.arange(bbox[0],bbox[1],(bbox[1]-bbox[0])/5),labels=[1,0,0,0])\n",
        "  m.drawmeridians(np.arange(bbox[2],bbox[3],(bbox[3]-bbox[2])/5),labels=[0,0,0,1],rotation=45)\n",
        "  m.drawmapboundary(fill_color='dodgerblue')\n",
        "  m.readshapefile('gadm36_BEN_shp/gadm36_BEN_2','NAME_2')\n",
        "  # build and plot coordinates onto map\n",
        "  for arron in l_arron:\n",
        "    data_arron=data[data['Arrondissement']==arron]\n",
        "    lats=np.array(data_arron['Latitude_decimals'])\n",
        "    lons=np.array(data_arron['Longitude_decimals'])\n",
        "    x,y = m(lons,lats)\n",
        "    m.plot(x,y,'.',c=map_colors[arron],markersize=5,label=arron+'_'+str(len(data_arron)))\n",
        "\n",
        "  plt.legend()\n",
        "\n",
        "  plt.title(title +'\\n total points:'+str(len(data)))\n",
        "  if savefig:\n",
        "    plt.savefig(title+'.png', format='png', dpi=500)\n",
        "  plt.show()"
      ],
      "execution_count": 0,
      "outputs": []
    },
    {
      "cell_type": "code",
      "metadata": {
        "id": "73DwWh7yLHZ-",
        "colab_type": "code",
        "colab": {
          "base_uri": "https://localhost:8080/",
          "height": 766
        },
        "outputId": "ee00a60f-437e-460a-ebe8-4f309340010c"
      },
      "source": [
        "title=\"Carte des pompes de Nikki borgou\"\n",
        "#zoom=4\n",
        "zoom=0.2\n",
        "drawmap(df_2019,title,zoom,False)"
      ],
      "execution_count": 151,
      "outputs": [
        {
          "output_type": "display_data",
          "data": {
            "image/png": "[encoded data removed]",
            "text/plain": [
              "<Figure size 1800x864 with 1 Axes>"
            ]
          },
          "metadata": {
            "tags": []
          }
        }
      ]
    },
    {
      "cell_type": "code",
      "metadata": {
        "id": "pVfYXKTm8m9w",
        "colab_type": "code",
        "colab": {}
      },
      "source": [
        "def drawbubblemap(df,title,zoom,savefig):\n",
        "  data=df\n",
        "\n",
        "  df_count=data[['Arrondissement','Village']].groupby('Arrondissement',axis=0).count()\n",
        "\n",
        "  map_colors = {}\n",
        "  l_arron = data['Arrondissement'].unique().tolist()\n",
        "  [map_colors.update({arron: colors[list(colors.keys())[i*3+8]]}) for i,arron in enumerate(l_arron) ]\n",
        "\n",
        "  lat_begin=data['Latitude_decimals'].quantile(0.5)\n",
        "\n",
        "  lat_min=data['Latitude_decimals'].min()\n",
        "  lat_max=data['Latitude_decimals'].max()\n",
        "\n",
        "  lon_min=data['Longitude_decimals'].min()\n",
        "  lon_max=data['Longitude_decimals'].max()\n",
        "\n",
        "  lon_begin=data['Longitude_decimals'].quantile(0.5)\n",
        "  lats=np.array(data['Latitude_decimals'])\n",
        "  lons=np.array(data['Longitude_decimals'])\n",
        "  zoom_scale = 0\n",
        "\n",
        "  # Setup the bounding box for the zoom and bounds of the map\n",
        "  bbox = [np.min(lats)-zoom_scale,np.max(lats)+zoom_scale,\\\n",
        "          np.min(lons)-zoom_scale,np.max(lons)+zoom_scale]\n",
        "\n",
        "  plt.figure(figsize=(25,12))\n",
        "  # Define the projection, scale, the corners of the map, and the resolution.\n",
        "  m = Basemap(projection='merc',llcrnrlat=lat_min-zoom,urcrnrlat=lat_max+zoom,\\\n",
        "              llcrnrlon=lon_min-zoom,urcrnrlon=lon_max+zoom,lat_ts=10,resolution='i')\n",
        "\n",
        "  # Draw coastlines and fill continents and water with color\n",
        "  m.drawcoastlines()\n",
        "  m.fillcontinents(color='grey',lake_color='dodgerblue')\n",
        "\n",
        "  # draw parallels, meridians, and color boundaries\n",
        "  m.drawparallels(np.arange(bbox[0],bbox[1],(bbox[1]-bbox[0])/5),labels=[1,0,0,0])\n",
        "  m.drawmeridians(np.arange(bbox[2],bbox[3],(bbox[3]-bbox[2])/5),labels=[0,0,0,1],rotation=45)\n",
        "  m.drawmapboundary(fill_color='dodgerblue')\n",
        "  m.readshapefile('gadm36_BEN_shp/gadm36_BEN_2','NAME_2')\n",
        "  handlers =[]\n",
        "  # build and plot coordinates onto map\n",
        "  for arron in l_arron:\n",
        "    data_arron=data[data['Arrondissement']==arron]\n",
        "    lats=np.array(data_arron['Latitude_decimals'].quantile(0.5))\n",
        "    lons=np.array(data_arron['Longitude_decimals'].quantile(0.5))\n",
        "    size=df_count.loc[arron,'Village']\n",
        "    x,y = m(lons,lats)\n",
        "    m.plot(x,y,'.',c=map_colors[arron],markersize=size)\n",
        "    handlers.append(mpatches.Patch(color=map_colors[arron], label=arron))\n",
        "\n",
        "  plt.legend(handles=handlers)\n",
        "  plt.title(title)\n",
        "  if savefig:\n",
        "    plt.savefig(title+'.png', format='png', dpi=500)\n",
        "  plt.show()"
      ],
      "execution_count": 0,
      "outputs": []
    },
    {
      "cell_type": "code",
      "metadata": {
        "id": "fZ9tQZ7oQTqE",
        "colab_type": "code",
        "colab": {
          "base_uri": "https://localhost:8080/",
          "height": 751
        },
        "outputId": "492fb86d-a3ed-4211-d8ed-e6acd27c308e"
      },
      "source": [
        "title=\"Bubble map des pompes de Nikki borgou\"\n",
        "#zoom=4\n",
        "zoom=0.2\n",
        "\n",
        "drawbubblemap(df_2019,title,zoom,False)"
      ],
      "execution_count": 162,
      "outputs": [
        {
          "output_type": "display_data",
          "data": {
            "image/png": "[encoded data removed]",
            "text/plain": [
              "<Figure size 1800x864 with 1 Axes>"
            ]
          },
          "metadata": {
            "tags": []
          }
        }
      ]
    },
    {
      "cell_type": "code",
      "metadata": {
        "id": "abQSx7zlA8XU",
        "colab_type": "code",
        "colab": {
          "base_uri": "https://localhost:8080/",
          "height": 732
        },
        "outputId": "3b3fd69e-d784-4748-a35c-927f81648e6c"
      },
      "source": [
        "plt.rcParams['figure.figsize'] = 20,10\n",
        "x=list(df_2019['rqtListe_Pompe.Modele_Pompe'].unique())\n",
        "y=[df_2019[df_2019['rqtListe_Pompe.Modele_Pompe']==model]['rqtListe_Pompe.Modele_Pompe'].count() for model in x]\n",
        "\n",
        "plt.xticks(fontsize=14,rotation=90)\n",
        "plt.bar(x,y)"
      ],
      "execution_count": 56,
      "outputs": [
        {
          "output_type": "execute_result",
          "data": {
            "text/plain": [
              "<BarContainer object of 15 artists>"
            ]
          },
          "metadata": {
            "tags": []
          },
          "execution_count": 56
        },
        {
          "output_type": "display_data",
          "data": {
            "image/png": "[encoded data removed]",
            "text/plain": [
              "<Figure size 1440x720 with 1 Axes>"
            ]
          },
          "metadata": {
            "tags": []
          }
        }
      ]
    },
    {
      "cell_type": "code",
      "metadata": {
        "id": "nUd_4d7k-r-1",
        "colab_type": "code",
        "colab": {}
      },
      "source": [
        ""
      ],
      "execution_count": 0,
      "outputs": []
    },
    {
      "cell_type": "markdown",
      "metadata": {
        "id": "AFiUwvsAI-NN",
        "colab_type": "text"
      },
      "source": [
        "LEER EL SHAPEFILE DESCARAGO DE:\n",
        "\n",
        "https://gadm.org/download_country_v3.html ->benin"
      ]
    },
    {
      "cell_type": "code",
      "metadata": {
        "id": "i00lRll6y-sC",
        "colab_type": "code",
        "colab": {}
      },
      "source": [
        "import shapefile as shp"
      ],
      "execution_count": 0,
      "outputs": []
    },
    {
      "cell_type": "code",
      "metadata": {
        "id": "9szsz-5iOJ9I",
        "colab_type": "code",
        "colab": {}
      },
      "source": [
        "shp_path = 'gadm36_BEN_shp/gadm36_BEN_2.shp'\n",
        "sf = shp.Reader(shp_path)"
      ],
      "execution_count": 0,
      "outputs": []
    },
    {
      "cell_type": "code",
      "metadata": {
        "id": "xkVk9qgVzWFh",
        "colab_type": "code",
        "colab": {}
      },
      "source": [
        "def read_shapefile(sf):\n",
        "    \"\"\"\n",
        "    Read a shapefile into a Pandas dataframe with a 'coords' \n",
        "    column holding the geometry information. This uses the pyshp\n",
        "    package\n",
        "    \"\"\"\n",
        "    fields = [x[0] for x in sf.fields][1:]\n",
        "    records = sf.records()\n",
        "    shps = [s.points for s in sf.shapes()]\n",
        "    df = pd.DataFrame(columns=fields, data=records)\n",
        "    df = df.assign(coords=shps)\n",
        "    return df"
      ],
      "execution_count": 0,
      "outputs": []
    },
    {
      "cell_type": "code",
      "metadata": {
        "id": "djUIbeKVzYCd",
        "colab_type": "code",
        "outputId": "accc0c3e-7471-43fc-f416-c646c1c3ebb4",
        "colab": {
          "base_uri": "https://localhost:8080/",
          "height": 33
        }
      },
      "source": [
        "df = read_shapefile(sf)\n",
        "df.shape"
      ],
      "execution_count": 0,
      "outputs": [
        {
          "output_type": "execute_result",
          "data": {
            "text/plain": [
              "(76, 14)"
            ]
          },
          "metadata": {
            "tags": []
          },
          "execution_count": 117
        }
      ]
    },
    {
      "cell_type": "code",
      "metadata": {
        "id": "rtk8IPt_zbRB",
        "colab_type": "code",
        "outputId": "47536ba1-bba4-4f35-c502-969681816dc7",
        "colab": {
          "base_uri": "https://localhost:8080/",
          "height": 1000
        }
      },
      "source": [
        "df"
      ],
      "execution_count": 0,
      "outputs": [
        {
          "output_type": "execute_result",
          "data": {
            "text/html": [
              "<div>\n",
              "<style scoped>\n",
              "    .dataframe tbody tr th:only-of-type {\n",
              "        vertical-align: middle;\n",
              "    }\n",
              "\n",
              "    .dataframe tbody tr th {\n",
              "        vertical-align: top;\n",
              "    }\n",
              "\n",
              "    .dataframe thead th {\n",
              "        text-align: right;\n",
              "    }\n",
              "</style>\n",
              "<table border=\"1\" class=\"dataframe\">\n",
              "  <thead>\n",
              "    <tr style=\"text-align: right;\">\n",
              "      <th></th>\n",
              "      <th>GID_0</th>\n",
              "      <th>NAME_0</th>\n",
              "      <th>GID_1</th>\n",
              "      <th>NAME_1</th>\n",
              "      <th>NL_NAME_1</th>\n",
              "      <th>GID_2</th>\n",
              "      <th>NAME_2</th>\n",
              "      <th>VARNAME_2</th>\n",
              "      <th>NL_NAME_2</th>\n",
              "      <th>TYPE_2</th>\n",
              "      <th>ENGTYPE_2</th>\n",
              "      <th>CC_2</th>\n",
              "      <th>HASC_2</th>\n",
              "      <th>coords</th>\n",
              "    </tr>\n",
              "  </thead>\n",
              "  <tbody>\n",
              "    <tr>\n",
              "      <th>0</th>\n",
              "      <td>BEN</td>\n",
              "      <td>Benin</td>\n",
              "      <td>BEN.1_1</td>\n",
              "      <td>Alibori</td>\n",
              "      <td></td>\n",
              "      <td>BEN.1.1_1</td>\n",
              "      <td>Banikoara</td>\n",
              "      <td></td>\n",
              "      <td></td>\n",
              "      <td>Commune</td>\n",
              "      <td>Commune</td>\n",
              "      <td></td>\n",
              "      <td>BJ.AL.BA</td>\n",
              "      <td>[(2.8467729091645424, 11.42146110534668), (2.8...</td>\n",
              "    </tr>\n",
              "    <tr>\n",
              "      <th>1</th>\n",
              "      <td>BEN</td>\n",
              "      <td>Benin</td>\n",
              "      <td>BEN.1_1</td>\n",
              "      <td>Alibori</td>\n",
              "      <td></td>\n",
              "      <td>BEN.1.2_1</td>\n",
              "      <td>Gogounou</td>\n",
              "      <td></td>\n",
              "      <td></td>\n",
              "      <td>Commune</td>\n",
              "      <td>Commune</td>\n",
              "      <td></td>\n",
              "      <td>BJ.AL.GO</td>\n",
              "      <td>[(2.2658329010010902, 10.54574203491211), (2.2...</td>\n",
              "    </tr>\n",
              "    <tr>\n",
              "      <th>2</th>\n",
              "      <td>BEN</td>\n",
              "      <td>Benin</td>\n",
              "      <td>BEN.1_1</td>\n",
              "      <td>Alibori</td>\n",
              "      <td></td>\n",
              "      <td>BEN.1.3_1</td>\n",
              "      <td>Kandi</td>\n",
              "      <td></td>\n",
              "      <td></td>\n",
              "      <td>Commune</td>\n",
              "      <td>Commune</td>\n",
              "      <td></td>\n",
              "      <td>BJ.AL.KN</td>\n",
              "      <td>[(3.273935079574642, 11.306771278381404), (3.2...</td>\n",
              "    </tr>\n",
              "    <tr>\n",
              "      <th>3</th>\n",
              "      <td>BEN</td>\n",
              "      <td>Benin</td>\n",
              "      <td>BEN.1_1</td>\n",
              "      <td>Alibori</td>\n",
              "      <td></td>\n",
              "      <td>BEN.1.4_1</td>\n",
              "      <td>Karimama</td>\n",
              "      <td></td>\n",
              "      <td></td>\n",
              "      <td>Commune</td>\n",
              "      <td>Commune</td>\n",
              "      <td></td>\n",
              "      <td>BJ.AL.KR</td>\n",
              "      <td>[(3.2918179035187904, 11.928750991821289), (3....</td>\n",
              "    </tr>\n",
              "    <tr>\n",
              "      <th>4</th>\n",
              "      <td>BEN</td>\n",
              "      <td>Benin</td>\n",
              "      <td>BEN.1_1</td>\n",
              "      <td>Alibori</td>\n",
              "      <td></td>\n",
              "      <td>BEN.1.5_1</td>\n",
              "      <td>Malanville</td>\n",
              "      <td></td>\n",
              "      <td></td>\n",
              "      <td>Commune</td>\n",
              "      <td>Commune</td>\n",
              "      <td></td>\n",
              "      <td>BJ.AL.MA</td>\n",
              "      <td>[(3.5912120342255776, 11.673298835754451), (3....</td>\n",
              "    </tr>\n",
              "    <tr>\n",
              "      <th>5</th>\n",
              "      <td>BEN</td>\n",
              "      <td>Benin</td>\n",
              "      <td>BEN.1_1</td>\n",
              "      <td>Alibori</td>\n",
              "      <td></td>\n",
              "      <td>BEN.1.6_1</td>\n",
              "      <td>Segbana</td>\n",
              "      <td></td>\n",
              "      <td></td>\n",
              "      <td>Commune</td>\n",
              "      <td>Commune</td>\n",
              "      <td></td>\n",
              "      <td>BJ.AL.SE</td>\n",
              "      <td>[(3.7127580642700764, 11.127946853637809), (3....</td>\n",
              "    </tr>\n",
              "    <tr>\n",
              "      <th>6</th>\n",
              "      <td>BEN</td>\n",
              "      <td>Benin</td>\n",
              "      <td>BEN.2_1</td>\n",
              "      <td>Atakora</td>\n",
              "      <td></td>\n",
              "      <td>BEN.2.1_1</td>\n",
              "      <td>Boukoumbé</td>\n",
              "      <td>Boukombé</td>\n",
              "      <td></td>\n",
              "      <td>Commune</td>\n",
              "      <td>Commune</td>\n",
              "      <td></td>\n",
              "      <td>BJ.AK.BO</td>\n",
              "      <td>[(1.3887850046158974, 10.039131164550838), (1....</td>\n",
              "    </tr>\n",
              "    <tr>\n",
              "      <th>7</th>\n",
              "      <td>BEN</td>\n",
              "      <td>Benin</td>\n",
              "      <td>BEN.2_1</td>\n",
              "      <td>Atakora</td>\n",
              "      <td></td>\n",
              "      <td>BEN.2.2_1</td>\n",
              "      <td>Cobly</td>\n",
              "      <td>Cobli|Cobli</td>\n",
              "      <td></td>\n",
              "      <td>Commune</td>\n",
              "      <td>Commune</td>\n",
              "      <td></td>\n",
              "      <td>BJ.AK.CB</td>\n",
              "      <td>[(0.897539973259029, 10.29423904418951), (0.88...</td>\n",
              "    </tr>\n",
              "    <tr>\n",
              "      <th>8</th>\n",
              "      <td>BEN</td>\n",
              "      <td>Benin</td>\n",
              "      <td>BEN.2_1</td>\n",
              "      <td>Atakora</td>\n",
              "      <td></td>\n",
              "      <td>BEN.2.3_1</td>\n",
              "      <td>Kérou</td>\n",
              "      <td></td>\n",
              "      <td></td>\n",
              "      <td>Commune</td>\n",
              "      <td>Commune</td>\n",
              "      <td></td>\n",
              "      <td>BJ.AK.KE</td>\n",
              "      <td>[(2.2658329010010902, 10.54574203491211), (2.2...</td>\n",
              "    </tr>\n",
              "    <tr>\n",
              "      <th>9</th>\n",
              "      <td>BEN</td>\n",
              "      <td>Benin</td>\n",
              "      <td>BEN.2_1</td>\n",
              "      <td>Atakora</td>\n",
              "      <td></td>\n",
              "      <td>BEN.2.4_1</td>\n",
              "      <td>Kouandé</td>\n",
              "      <td></td>\n",
              "      <td></td>\n",
              "      <td>Commune</td>\n",
              "      <td>Commune</td>\n",
              "      <td></td>\n",
              "      <td>BJ.AK.KO</td>\n",
              "      <td>[(1.3887850046158974, 10.039131164550838), (1....</td>\n",
              "    </tr>\n",
              "    <tr>\n",
              "      <th>10</th>\n",
              "      <td>BEN</td>\n",
              "      <td>Benin</td>\n",
              "      <td>BEN.2_1</td>\n",
              "      <td>Atakora</td>\n",
              "      <td></td>\n",
              "      <td>BEN.2.5_1</td>\n",
              "      <td>Matéri</td>\n",
              "      <td></td>\n",
              "      <td></td>\n",
              "      <td>Commune</td>\n",
              "      <td>Commune</td>\n",
              "      <td></td>\n",
              "      <td>BJ.AK.MA</td>\n",
              "      <td>[(1.1157790422440144, 11.03819942474371), (1.1...</td>\n",
              "    </tr>\n",
              "    <tr>\n",
              "      <th>11</th>\n",
              "      <td>BEN</td>\n",
              "      <td>Benin</td>\n",
              "      <td>BEN.2_1</td>\n",
              "      <td>Atakora</td>\n",
              "      <td></td>\n",
              "      <td>BEN.2.6_1</td>\n",
              "      <td>Natitingou</td>\n",
              "      <td>Natingou</td>\n",
              "      <td></td>\n",
              "      <td>Commune</td>\n",
              "      <td>Commune</td>\n",
              "      <td></td>\n",
              "      <td>BJ.AK.NA</td>\n",
              "      <td>[(1.3887850046158974, 10.039131164550838), (1....</td>\n",
              "    </tr>\n",
              "    <tr>\n",
              "      <th>12</th>\n",
              "      <td>BEN</td>\n",
              "      <td>Benin</td>\n",
              "      <td>BEN.2_1</td>\n",
              "      <td>Atakora</td>\n",
              "      <td></td>\n",
              "      <td>BEN.2.7_1</td>\n",
              "      <td>Péhunco</td>\n",
              "      <td>Pehonko</td>\n",
              "      <td></td>\n",
              "      <td>Commune</td>\n",
              "      <td>Commune</td>\n",
              "      <td></td>\n",
              "      <td>BJ.AK.PE</td>\n",
              "      <td>[(2.2658329010010902, 10.54574203491211), (2.2...</td>\n",
              "    </tr>\n",
              "    <tr>\n",
              "      <th>13</th>\n",
              "      <td>BEN</td>\n",
              "      <td>Benin</td>\n",
              "      <td>BEN.2_1</td>\n",
              "      <td>Atakora</td>\n",
              "      <td></td>\n",
              "      <td>BEN.2.8_1</td>\n",
              "      <td>Tanguiéta</td>\n",
              "      <td></td>\n",
              "      <td></td>\n",
              "      <td>Commune</td>\n",
              "      <td>Commune</td>\n",
              "      <td></td>\n",
              "      <td>BJ.AK.TA</td>\n",
              "      <td>[(1.5668350458146278, 10.75683975219738), (1.5...</td>\n",
              "    </tr>\n",
              "    <tr>\n",
              "      <th>14</th>\n",
              "      <td>BEN</td>\n",
              "      <td>Benin</td>\n",
              "      <td>BEN.2_1</td>\n",
              "      <td>Atakora</td>\n",
              "      <td></td>\n",
              "      <td>BEN.2.9_1</td>\n",
              "      <td>Toucountouna</td>\n",
              "      <td>Tchoukoutouna</td>\n",
              "      <td></td>\n",
              "      <td>Commune</td>\n",
              "      <td>Commune</td>\n",
              "      <td></td>\n",
              "      <td>BJ.AK.TO</td>\n",
              "      <td>[(1.2202860116959755, 10.476679801940918), (1....</td>\n",
              "    </tr>\n",
              "    <tr>\n",
              "      <th>15</th>\n",
              "      <td>BEN</td>\n",
              "      <td>Benin</td>\n",
              "      <td>BEN.3_1</td>\n",
              "      <td>Atlantique</td>\n",
              "      <td></td>\n",
              "      <td>BEN.3.1_1</td>\n",
              "      <td>Abomey-Calavi</td>\n",
              "      <td></td>\n",
              "      <td></td>\n",
              "      <td>Commune</td>\n",
              "      <td>Commune</td>\n",
              "      <td></td>\n",
              "      <td>BJ.AQ.AC</td>\n",
              "      <td>[(2.3700959682465736, 6.385532855987549), (2.3...</td>\n",
              "    </tr>\n",
              "    <tr>\n",
              "      <th>16</th>\n",
              "      <td>BEN</td>\n",
              "      <td>Benin</td>\n",
              "      <td>BEN.3_1</td>\n",
              "      <td>Atlantique</td>\n",
              "      <td></td>\n",
              "      <td>BEN.3.2_1</td>\n",
              "      <td>Allada</td>\n",
              "      <td></td>\n",
              "      <td></td>\n",
              "      <td>Commune</td>\n",
              "      <td>Commune</td>\n",
              "      <td></td>\n",
              "      <td>BJ.AQ.AL</td>\n",
              "      <td>[(2.2014150619507404, 6.603563785553035), (2.1...</td>\n",
              "    </tr>\n",
              "    <tr>\n",
              "      <th>17</th>\n",
              "      <td>BEN</td>\n",
              "      <td>Benin</td>\n",
              "      <td>BEN.3_1</td>\n",
              "      <td>Atlantique</td>\n",
              "      <td></td>\n",
              "      <td>BEN.3.3_1</td>\n",
              "      <td>Kpomassè</td>\n",
              "      <td></td>\n",
              "      <td></td>\n",
              "      <td>Commune</td>\n",
              "      <td>Commune</td>\n",
              "      <td></td>\n",
              "      <td>BJ.AQ.KP</td>\n",
              "      <td>[(1.9796169996262734, 6.341844081878719), (1.9...</td>\n",
              "    </tr>\n",
              "    <tr>\n",
              "      <th>18</th>\n",
              "      <td>BEN</td>\n",
              "      <td>Benin</td>\n",
              "      <td>BEN.3_1</td>\n",
              "      <td>Atlantique</td>\n",
              "      <td></td>\n",
              "      <td>BEN.3.4_1</td>\n",
              "      <td>Ouidah</td>\n",
              "      <td></td>\n",
              "      <td></td>\n",
              "      <td>Commune</td>\n",
              "      <td>Commune</td>\n",
              "      <td></td>\n",
              "      <td>BJ.AQ.OU</td>\n",
              "      <td>[(1.9842729568481445, 6.3118047714234535), (1....</td>\n",
              "    </tr>\n",
              "    <tr>\n",
              "      <th>19</th>\n",
              "      <td>BEN</td>\n",
              "      <td>Benin</td>\n",
              "      <td>BEN.3_1</td>\n",
              "      <td>Atlantique</td>\n",
              "      <td></td>\n",
              "      <td>BEN.3.5_1</td>\n",
              "      <td>Sô-Ava</td>\n",
              "      <td></td>\n",
              "      <td></td>\n",
              "      <td>Commune</td>\n",
              "      <td>Commune</td>\n",
              "      <td></td>\n",
              "      <td>BJ.AQ.SA</td>\n",
              "      <td>[(2.488802909851131, 6.489311218261719), (2.48...</td>\n",
              "    </tr>\n",
              "    <tr>\n",
              "      <th>20</th>\n",
              "      <td>BEN</td>\n",
              "      <td>Benin</td>\n",
              "      <td>BEN.3_1</td>\n",
              "      <td>Atlantique</td>\n",
              "      <td></td>\n",
              "      <td>BEN.3.6_1</td>\n",
              "      <td>Toffo</td>\n",
              "      <td></td>\n",
              "      <td></td>\n",
              "      <td>Commune</td>\n",
              "      <td>Commune</td>\n",
              "      <td></td>\n",
              "      <td>BJ.AQ.TF</td>\n",
              "      <td>[(2.030635118484497, 6.714011192321834), (2.03...</td>\n",
              "    </tr>\n",
              "    <tr>\n",
              "      <th>21</th>\n",
              "      <td>BEN</td>\n",
              "      <td>Benin</td>\n",
              "      <td>BEN.3_1</td>\n",
              "      <td>Atlantique</td>\n",
              "      <td></td>\n",
              "      <td>BEN.3.7_1</td>\n",
              "      <td>Tori-Bossito</td>\n",
              "      <td></td>\n",
              "      <td></td>\n",
              "      <td>Commune</td>\n",
              "      <td>Commune</td>\n",
              "      <td></td>\n",
              "      <td>BJ.AQ.TB</td>\n",
              "      <td>[(2.217668056488151, 6.435691833496094), (2.20...</td>\n",
              "    </tr>\n",
              "    <tr>\n",
              "      <th>22</th>\n",
              "      <td>BEN</td>\n",
              "      <td>Benin</td>\n",
              "      <td>BEN.3_1</td>\n",
              "      <td>Atlantique</td>\n",
              "      <td></td>\n",
              "      <td>BEN.3.8_1</td>\n",
              "      <td>Zè</td>\n",
              "      <td></td>\n",
              "      <td></td>\n",
              "      <td>Commune</td>\n",
              "      <td>Commune</td>\n",
              "      <td></td>\n",
              "      <td>BJ.AQ.ZE</td>\n",
              "      <td>[(2.2303369045258137, 6.759677886962891), (2.2...</td>\n",
              "    </tr>\n",
              "    <tr>\n",
              "      <th>23</th>\n",
              "      <td>BEN</td>\n",
              "      <td>Benin</td>\n",
              "      <td>BEN.4_1</td>\n",
              "      <td>Borgou</td>\n",
              "      <td></td>\n",
              "      <td>BEN.4.1_1</td>\n",
              "      <td>Bembéréké</td>\n",
              "      <td></td>\n",
              "      <td></td>\n",
              "      <td>Commune</td>\n",
              "      <td>Commune</td>\n",
              "      <td></td>\n",
              "      <td>BJ.BO.BE</td>\n",
              "      <td>[(3.0436739921569824, 10.269531250000057), (3....</td>\n",
              "    </tr>\n",
              "    <tr>\n",
              "      <th>24</th>\n",
              "      <td>BEN</td>\n",
              "      <td>Benin</td>\n",
              "      <td>BEN.4_1</td>\n",
              "      <td>Borgou</td>\n",
              "      <td></td>\n",
              "      <td>BEN.4.2_1</td>\n",
              "      <td>Kalalé</td>\n",
              "      <td></td>\n",
              "      <td></td>\n",
              "      <td>Commune</td>\n",
              "      <td>Commune</td>\n",
              "      <td></td>\n",
              "      <td>BJ.BO.KL</td>\n",
              "      <td>[(3.670058012008724, 10.129911422729606), (3.6...</td>\n",
              "    </tr>\n",
              "    <tr>\n",
              "      <th>25</th>\n",
              "      <td>BEN</td>\n",
              "      <td>Benin</td>\n",
              "      <td>BEN.4_1</td>\n",
              "      <td>Borgou</td>\n",
              "      <td></td>\n",
              "      <td>BEN.4.3_1</td>\n",
              "      <td>N'Dali</td>\n",
              "      <td>Ndali</td>\n",
              "      <td></td>\n",
              "      <td>Commune</td>\n",
              "      <td>Commune</td>\n",
              "      <td></td>\n",
              "      <td>BJ.BO.ND</td>\n",
              "      <td>[(2.547421932220459, 9.453910827636719), (2.53...</td>\n",
              "    </tr>\n",
              "    <tr>\n",
              "      <th>26</th>\n",
              "      <td>BEN</td>\n",
              "      <td>Benin</td>\n",
              "      <td>BEN.4_1</td>\n",
              "      <td>Borgou</td>\n",
              "      <td></td>\n",
              "      <td>BEN.4.4_1</td>\n",
              "      <td>Nikki</td>\n",
              "      <td></td>\n",
              "      <td></td>\n",
              "      <td>Commune</td>\n",
              "      <td>Commune</td>\n",
              "      <td></td>\n",
              "      <td>BJ.BO.NI</td>\n",
              "      <td>[(3.6286149024963947, 10.092581748962516), (3....</td>\n",
              "    </tr>\n",
              "    <tr>\n",
              "      <th>27</th>\n",
              "      <td>BEN</td>\n",
              "      <td>Benin</td>\n",
              "      <td>BEN.4_1</td>\n",
              "      <td>Borgou</td>\n",
              "      <td></td>\n",
              "      <td>BEN.4.5_1</td>\n",
              "      <td>Parakou</td>\n",
              "      <td></td>\n",
              "      <td></td>\n",
              "      <td>Commune</td>\n",
              "      <td>Commune</td>\n",
              "      <td></td>\n",
              "      <td>BJ.BO.PA</td>\n",
              "      <td>[(2.7648680210114094, 9.428414344787654), (2.7...</td>\n",
              "    </tr>\n",
              "    <tr>\n",
              "      <th>28</th>\n",
              "      <td>BEN</td>\n",
              "      <td>Benin</td>\n",
              "      <td>BEN.4_1</td>\n",
              "      <td>Borgou</td>\n",
              "      <td></td>\n",
              "      <td>BEN.4.6_1</td>\n",
              "      <td>Pèrèrè</td>\n",
              "      <td></td>\n",
              "      <td></td>\n",
              "      <td>Commune</td>\n",
              "      <td>Commune</td>\n",
              "      <td></td>\n",
              "      <td>BJ.BO.PE</td>\n",
              "      <td>[(3.266597032546997, 9.654834747314453), (3.26...</td>\n",
              "    </tr>\n",
              "    <tr>\n",
              "      <th>29</th>\n",
              "      <td>BEN</td>\n",
              "      <td>Benin</td>\n",
              "      <td>BEN.4_1</td>\n",
              "      <td>Borgou</td>\n",
              "      <td></td>\n",
              "      <td>BEN.4.7_1</td>\n",
              "      <td>Sinendé</td>\n",
              "      <td></td>\n",
              "      <td></td>\n",
              "      <td>Commune</td>\n",
              "      <td>Commune</td>\n",
              "      <td></td>\n",
              "      <td>BJ.BO.SI</td>\n",
              "      <td>[(2.087599992752132, 9.970624923706112), (2.08...</td>\n",
              "    </tr>\n",
              "    <tr>\n",
              "      <th>...</th>\n",
              "      <td>...</td>\n",
              "      <td>...</td>\n",
              "      <td>...</td>\n",
              "      <td>...</td>\n",
              "      <td>...</td>\n",
              "      <td>...</td>\n",
              "      <td>...</td>\n",
              "      <td>...</td>\n",
              "      <td>...</td>\n",
              "      <td>...</td>\n",
              "      <td>...</td>\n",
              "      <td>...</td>\n",
              "      <td>...</td>\n",
              "      <td>...</td>\n",
              "    </tr>\n",
              "    <tr>\n",
              "      <th>46</th>\n",
              "      <td>BEN</td>\n",
              "      <td>Benin</td>\n",
              "      <td>BEN.7_1</td>\n",
              "      <td>Kouffo</td>\n",
              "      <td></td>\n",
              "      <td>BEN.7.6_1</td>\n",
              "      <td>Toviklin</td>\n",
              "      <td></td>\n",
              "      <td></td>\n",
              "      <td>Commune</td>\n",
              "      <td>Commune</td>\n",
              "      <td></td>\n",
              "      <td>BJ.CF.TO</td>\n",
              "      <td>[(1.8612060546875568, 6.827836036682243), (1.8...</td>\n",
              "    </tr>\n",
              "    <tr>\n",
              "      <th>47</th>\n",
              "      <td>BEN</td>\n",
              "      <td>Benin</td>\n",
              "      <td>BEN.8_1</td>\n",
              "      <td>Littoral</td>\n",
              "      <td></td>\n",
              "      <td>BEN.8.1_1</td>\n",
              "      <td>Cotonou</td>\n",
              "      <td></td>\n",
              "      <td></td>\n",
              "      <td>Commune</td>\n",
              "      <td>Commune</td>\n",
              "      <td></td>\n",
              "      <td>BJ.LI.CO</td>\n",
              "      <td>[(2.3700959682465736, 6.385532855987549), (2.3...</td>\n",
              "    </tr>\n",
              "    <tr>\n",
              "      <th>48</th>\n",
              "      <td>BEN</td>\n",
              "      <td>Benin</td>\n",
              "      <td>BEN.9_1</td>\n",
              "      <td>Mono</td>\n",
              "      <td></td>\n",
              "      <td>BEN.9.1_1</td>\n",
              "      <td>Athiémé</td>\n",
              "      <td></td>\n",
              "      <td></td>\n",
              "      <td>Commune</td>\n",
              "      <td>Commune</td>\n",
              "      <td></td>\n",
              "      <td>BJ.MO.AT</td>\n",
              "      <td>[(1.8219159841538044, 6.63898420333868), (1.80...</td>\n",
              "    </tr>\n",
              "    <tr>\n",
              "      <th>49</th>\n",
              "      <td>BEN</td>\n",
              "      <td>Benin</td>\n",
              "      <td>BEN.9_1</td>\n",
              "      <td>Mono</td>\n",
              "      <td></td>\n",
              "      <td>BEN.9.2_1</td>\n",
              "      <td>Bopa</td>\n",
              "      <td></td>\n",
              "      <td></td>\n",
              "      <td>Commune</td>\n",
              "      <td>Commune</td>\n",
              "      <td></td>\n",
              "      <td>BJ.MO.BO</td>\n",
              "      <td>[(1.96468102931982, 6.48068904876709), (1.9611...</td>\n",
              "    </tr>\n",
              "    <tr>\n",
              "      <th>50</th>\n",
              "      <td>BEN</td>\n",
              "      <td>Benin</td>\n",
              "      <td>BEN.9_1</td>\n",
              "      <td>Mono</td>\n",
              "      <td></td>\n",
              "      <td>BEN.9.3_1</td>\n",
              "      <td>Comè</td>\n",
              "      <td></td>\n",
              "      <td></td>\n",
              "      <td>Commune</td>\n",
              "      <td>Commune</td>\n",
              "      <td></td>\n",
              "      <td>BJ.MO.CO</td>\n",
              "      <td>[(1.9796169996262734, 6.341844081878719), (1.9...</td>\n",
              "    </tr>\n",
              "    <tr>\n",
              "      <th>51</th>\n",
              "      <td>BEN</td>\n",
              "      <td>Benin</td>\n",
              "      <td>BEN.9_1</td>\n",
              "      <td>Mono</td>\n",
              "      <td></td>\n",
              "      <td>BEN.9.4_1</td>\n",
              "      <td>Grand-Popo</td>\n",
              "      <td></td>\n",
              "      <td></td>\n",
              "      <td>Commune</td>\n",
              "      <td>Commune</td>\n",
              "      <td></td>\n",
              "      <td>BJ.MO.GP</td>\n",
              "      <td>[(1.9842729568481445, 6.3118047714234535), (1....</td>\n",
              "    </tr>\n",
              "    <tr>\n",
              "      <th>52</th>\n",
              "      <td>BEN</td>\n",
              "      <td>Benin</td>\n",
              "      <td>BEN.9_1</td>\n",
              "      <td>Mono</td>\n",
              "      <td></td>\n",
              "      <td>BEN.9.5_1</td>\n",
              "      <td>Houéyogbé</td>\n",
              "      <td></td>\n",
              "      <td></td>\n",
              "      <td>Commune</td>\n",
              "      <td>Commune</td>\n",
              "      <td></td>\n",
              "      <td>BJ.MO.HO</td>\n",
              "      <td>[(1.8360379934311482, 6.4168548583984375), (1....</td>\n",
              "    </tr>\n",
              "    <tr>\n",
              "      <th>53</th>\n",
              "      <td>BEN</td>\n",
              "      <td>Benin</td>\n",
              "      <td>BEN.10_1</td>\n",
              "      <td>Ouémé</td>\n",
              "      <td></td>\n",
              "      <td>BEN.10.1_1</td>\n",
              "      <td>Adjarra</td>\n",
              "      <td>Adjara</td>\n",
              "      <td></td>\n",
              "      <td>Commune</td>\n",
              "      <td>Commune</td>\n",
              "      <td></td>\n",
              "      <td>BJ.OU.AA</td>\n",
              "      <td>[(2.672157049179134, 6.423590183258057), (2.66...</td>\n",
              "    </tr>\n",
              "    <tr>\n",
              "      <th>54</th>\n",
              "      <td>BEN</td>\n",
              "      <td>Benin</td>\n",
              "      <td>BEN.10_1</td>\n",
              "      <td>Ouémé</td>\n",
              "      <td></td>\n",
              "      <td>BEN.10.2_1</td>\n",
              "      <td>Adjohoun</td>\n",
              "      <td></td>\n",
              "      <td></td>\n",
              "      <td>Commune</td>\n",
              "      <td>Commune</td>\n",
              "      <td></td>\n",
              "      <td>BJ.OU.AH</td>\n",
              "      <td>[(2.43598389625555, 6.66477108001709), (2.4358...</td>\n",
              "    </tr>\n",
              "    <tr>\n",
              "      <th>55</th>\n",
              "      <td>BEN</td>\n",
              "      <td>Benin</td>\n",
              "      <td>BEN.10_1</td>\n",
              "      <td>Ouémé</td>\n",
              "      <td></td>\n",
              "      <td>BEN.10.3_1</td>\n",
              "      <td>Aguégués</td>\n",
              "      <td>Aguegue|Aguégué</td>\n",
              "      <td></td>\n",
              "      <td>Commune</td>\n",
              "      <td>Commune</td>\n",
              "      <td></td>\n",
              "      <td>BJ.OU.AG</td>\n",
              "      <td>[(2.59430909156805, 6.4287638664245605), (2.58...</td>\n",
              "    </tr>\n",
              "    <tr>\n",
              "      <th>56</th>\n",
              "      <td>BEN</td>\n",
              "      <td>Benin</td>\n",
              "      <td>BEN.10_1</td>\n",
              "      <td>Ouémé</td>\n",
              "      <td></td>\n",
              "      <td>BEN.10.4_1</td>\n",
              "      <td>Akpro-Missérété</td>\n",
              "      <td></td>\n",
              "      <td></td>\n",
              "      <td>Commune</td>\n",
              "      <td>Commune</td>\n",
              "      <td></td>\n",
              "      <td>BJ.OU.AM</td>\n",
              "      <td>[(2.6325340270996094, 6.611471176147575), (2.6...</td>\n",
              "    </tr>\n",
              "    <tr>\n",
              "      <th>57</th>\n",
              "      <td>BEN</td>\n",
              "      <td>Benin</td>\n",
              "      <td>BEN.10_1</td>\n",
              "      <td>Ouémé</td>\n",
              "      <td></td>\n",
              "      <td>BEN.10.5_1</td>\n",
              "      <td>Avrankou</td>\n",
              "      <td></td>\n",
              "      <td></td>\n",
              "      <td>Commune</td>\n",
              "      <td>Commune</td>\n",
              "      <td></td>\n",
              "      <td>BJ.OU.AV</td>\n",
              "      <td>[(2.635679006576595, 6.497016906738338), (2.62...</td>\n",
              "    </tr>\n",
              "    <tr>\n",
              "      <th>58</th>\n",
              "      <td>BEN</td>\n",
              "      <td>Benin</td>\n",
              "      <td>BEN.10_1</td>\n",
              "      <td>Ouémé</td>\n",
              "      <td></td>\n",
              "      <td>BEN.10.6_1</td>\n",
              "      <td>Bonou</td>\n",
              "      <td></td>\n",
              "      <td></td>\n",
              "      <td>Commune</td>\n",
              "      <td>Commune</td>\n",
              "      <td></td>\n",
              "      <td>BJ.OU.BO</td>\n",
              "      <td>[(2.5579240322113606, 6.8481698036194985), (2....</td>\n",
              "    </tr>\n",
              "    <tr>\n",
              "      <th>59</th>\n",
              "      <td>BEN</td>\n",
              "      <td>Benin</td>\n",
              "      <td>BEN.10_1</td>\n",
              "      <td>Ouémé</td>\n",
              "      <td></td>\n",
              "      <td>BEN.10.7_1</td>\n",
              "      <td>Dangbo</td>\n",
              "      <td></td>\n",
              "      <td></td>\n",
              "      <td>Commune</td>\n",
              "      <td>Commune</td>\n",
              "      <td></td>\n",
              "      <td>BJ.OU.DA</td>\n",
              "      <td>[(2.488802909851131, 6.489311218261719), (2.48...</td>\n",
              "    </tr>\n",
              "    <tr>\n",
              "      <th>60</th>\n",
              "      <td>BEN</td>\n",
              "      <td>Benin</td>\n",
              "      <td>BEN.10_1</td>\n",
              "      <td>Ouémé</td>\n",
              "      <td></td>\n",
              "      <td>BEN.10.8_1</td>\n",
              "      <td>Porto-Novo</td>\n",
              "      <td>Porto Novo</td>\n",
              "      <td></td>\n",
              "      <td>Commune</td>\n",
              "      <td>Commune</td>\n",
              "      <td></td>\n",
              "      <td>BJ.OU.PN</td>\n",
              "      <td>[(2.672157049179134, 6.423590183258057), (2.66...</td>\n",
              "    </tr>\n",
              "    <tr>\n",
              "      <th>61</th>\n",
              "      <td>BEN</td>\n",
              "      <td>Benin</td>\n",
              "      <td>BEN.10_1</td>\n",
              "      <td>Ouémé</td>\n",
              "      <td></td>\n",
              "      <td>BEN.10.9_1</td>\n",
              "      <td>Sèmè-Kpodji</td>\n",
              "      <td>Sèmè-Podji</td>\n",
              "      <td></td>\n",
              "      <td>Commune</td>\n",
              "      <td>Commune</td>\n",
              "      <td></td>\n",
              "      <td>BJ.OU.SK</td>\n",
              "      <td>[(2.59430909156805, 6.4287638664245605), (2.59...</td>\n",
              "    </tr>\n",
              "    <tr>\n",
              "      <th>62</th>\n",
              "      <td>BEN</td>\n",
              "      <td>Benin</td>\n",
              "      <td>BEN.11_1</td>\n",
              "      <td>Plateau</td>\n",
              "      <td></td>\n",
              "      <td>BEN.11.1_1</td>\n",
              "      <td>Adja-Ouèrè</td>\n",
              "      <td>Ikpinle</td>\n",
              "      <td></td>\n",
              "      <td>Commune</td>\n",
              "      <td>Commune</td>\n",
              "      <td></td>\n",
              "      <td>BJ.PL.AO</td>\n",
              "      <td>[(2.7195239067078774, 6.936367988586483), (2.7...</td>\n",
              "    </tr>\n",
              "    <tr>\n",
              "      <th>63</th>\n",
              "      <td>BEN</td>\n",
              "      <td>Benin</td>\n",
              "      <td>BEN.11_1</td>\n",
              "      <td>Plateau</td>\n",
              "      <td></td>\n",
              "      <td>BEN.11.2_1</td>\n",
              "      <td>Ifangni</td>\n",
              "      <td></td>\n",
              "      <td></td>\n",
              "      <td>Commune</td>\n",
              "      <td>Commune</td>\n",
              "      <td></td>\n",
              "      <td>BJ.PL.IF</td>\n",
              "      <td>[(2.7879459857941242, 6.751255035400391), (2.7...</td>\n",
              "    </tr>\n",
              "    <tr>\n",
              "      <th>64</th>\n",
              "      <td>BEN</td>\n",
              "      <td>Benin</td>\n",
              "      <td>BEN.11_1</td>\n",
              "      <td>Plateau</td>\n",
              "      <td></td>\n",
              "      <td>BEN.11.3_1</td>\n",
              "      <td>Kétou</td>\n",
              "      <td></td>\n",
              "      <td></td>\n",
              "      <td>Commune</td>\n",
              "      <td>Commune</td>\n",
              "      <td></td>\n",
              "      <td>BJ.PL.KE</td>\n",
              "      <td>[(2.7991909980773926, 7.426600933075008), (2.7...</td>\n",
              "    </tr>\n",
              "    <tr>\n",
              "      <th>65</th>\n",
              "      <td>BEN</td>\n",
              "      <td>Benin</td>\n",
              "      <td>BEN.11_1</td>\n",
              "      <td>Plateau</td>\n",
              "      <td></td>\n",
              "      <td>BEN.11.4_1</td>\n",
              "      <td>Pobè</td>\n",
              "      <td></td>\n",
              "      <td></td>\n",
              "      <td>Commune</td>\n",
              "      <td>Commune</td>\n",
              "      <td></td>\n",
              "      <td>BJ.PL.PB</td>\n",
              "      <td>[(2.537767887115592, 7.177865982055607), (2.55...</td>\n",
              "    </tr>\n",
              "    <tr>\n",
              "      <th>66</th>\n",
              "      <td>BEN</td>\n",
              "      <td>Benin</td>\n",
              "      <td>BEN.11_1</td>\n",
              "      <td>Plateau</td>\n",
              "      <td></td>\n",
              "      <td>BEN.11.5_1</td>\n",
              "      <td>Sakété</td>\n",
              "      <td></td>\n",
              "      <td></td>\n",
              "      <td>Commune</td>\n",
              "      <td>Commune</td>\n",
              "      <td></td>\n",
              "      <td>BJ.PL.SA</td>\n",
              "      <td>[(2.5766019821166424, 6.627039909362907), (2.5...</td>\n",
              "    </tr>\n",
              "    <tr>\n",
              "      <th>67</th>\n",
              "      <td>BEN</td>\n",
              "      <td>Benin</td>\n",
              "      <td>BEN.12_1</td>\n",
              "      <td>Zou</td>\n",
              "      <td></td>\n",
              "      <td>BEN.12.1_1</td>\n",
              "      <td>Abomey</td>\n",
              "      <td>Abomé</td>\n",
              "      <td></td>\n",
              "      <td>Commune</td>\n",
              "      <td>Commune</td>\n",
              "      <td></td>\n",
              "      <td>BJ.ZO.AB</td>\n",
              "      <td>[(2.0492689609528156, 7.13519811630249), (2.04...</td>\n",
              "    </tr>\n",
              "    <tr>\n",
              "      <th>68</th>\n",
              "      <td>BEN</td>\n",
              "      <td>Benin</td>\n",
              "      <td>BEN.12_1</td>\n",
              "      <td>Zou</td>\n",
              "      <td></td>\n",
              "      <td>BEN.12.2_1</td>\n",
              "      <td>Agbangnizoun</td>\n",
              "      <td></td>\n",
              "      <td></td>\n",
              "      <td>Commune</td>\n",
              "      <td>Commune</td>\n",
              "      <td></td>\n",
              "      <td>BJ.ZO.AG</td>\n",
              "      <td>[(1.8705550432205769, 7.135935783386174), (1.8...</td>\n",
              "    </tr>\n",
              "    <tr>\n",
              "      <th>69</th>\n",
              "      <td>BEN</td>\n",
              "      <td>Benin</td>\n",
              "      <td>BEN.12_1</td>\n",
              "      <td>Zou</td>\n",
              "      <td></td>\n",
              "      <td>BEN.12.3_1</td>\n",
              "      <td>Bohicon</td>\n",
              "      <td></td>\n",
              "      <td></td>\n",
              "      <td>Commune</td>\n",
              "      <td>Commune</td>\n",
              "      <td></td>\n",
              "      <td>BJ.ZO.BO</td>\n",
              "      <td>[(2.07970309257513, 7.260233879089469), (2.083...</td>\n",
              "    </tr>\n",
              "    <tr>\n",
              "      <th>70</th>\n",
              "      <td>BEN</td>\n",
              "      <td>Benin</td>\n",
              "      <td>BEN.12_1</td>\n",
              "      <td>Zou</td>\n",
              "      <td></td>\n",
              "      <td>BEN.12.4_1</td>\n",
              "      <td>Covè</td>\n",
              "      <td></td>\n",
              "      <td></td>\n",
              "      <td>Commune</td>\n",
              "      <td>Commune</td>\n",
              "      <td></td>\n",
              "      <td>BJ.ZO.CO</td>\n",
              "      <td>[(2.2898590564727783, 7.505249977111873), (2.2...</td>\n",
              "    </tr>\n",
              "    <tr>\n",
              "      <th>71</th>\n",
              "      <td>BEN</td>\n",
              "      <td>Benin</td>\n",
              "      <td>BEN.12_1</td>\n",
              "      <td>Zou</td>\n",
              "      <td></td>\n",
              "      <td>BEN.12.5_1</td>\n",
              "      <td>Djidja</td>\n",
              "      <td></td>\n",
              "      <td></td>\n",
              "      <td>Commune</td>\n",
              "      <td>Commune</td>\n",
              "      <td></td>\n",
              "      <td>BJ.ZO.DJ</td>\n",
              "      <td>[(1.6761430501937866, 7.503859043121338), (1.6...</td>\n",
              "    </tr>\n",
              "    <tr>\n",
              "      <th>72</th>\n",
              "      <td>BEN</td>\n",
              "      <td>Benin</td>\n",
              "      <td>BEN.12_1</td>\n",
              "      <td>Zou</td>\n",
              "      <td></td>\n",
              "      <td>BEN.12.6_1</td>\n",
              "      <td>Ouinhi</td>\n",
              "      <td></td>\n",
              "      <td></td>\n",
              "      <td>Commune</td>\n",
              "      <td>Commune</td>\n",
              "      <td></td>\n",
              "      <td>BJ.ZO.ON</td>\n",
              "      <td>[(2.4075679779053303, 6.978621006011963), (2.4...</td>\n",
              "    </tr>\n",
              "    <tr>\n",
              "      <th>73</th>\n",
              "      <td>BEN</td>\n",
              "      <td>Benin</td>\n",
              "      <td>BEN.12_1</td>\n",
              "      <td>Zou</td>\n",
              "      <td></td>\n",
              "      <td>BEN.12.7_1</td>\n",
              "      <td>Za-Kpota</td>\n",
              "      <td>Za Kpota</td>\n",
              "      <td></td>\n",
              "      <td>Commune</td>\n",
              "      <td>Commune</td>\n",
              "      <td></td>\n",
              "      <td>BJ.ZO.ZK</td>\n",
              "      <td>[(2.07970309257513, 7.260233879089469), (2.090...</td>\n",
              "    </tr>\n",
              "    <tr>\n",
              "      <th>74</th>\n",
              "      <td>BEN</td>\n",
              "      <td>Benin</td>\n",
              "      <td>BEN.12_1</td>\n",
              "      <td>Zou</td>\n",
              "      <td></td>\n",
              "      <td>BEN.12.8_1</td>\n",
              "      <td>Zagnanado</td>\n",
              "      <td>Zangnanado</td>\n",
              "      <td></td>\n",
              "      <td>Commune</td>\n",
              "      <td>Commune</td>\n",
              "      <td></td>\n",
              "      <td>BJ.ZO.ZN</td>\n",
              "      <td>[(2.2898590564727783, 7.505249977111873), (2.3...</td>\n",
              "    </tr>\n",
              "    <tr>\n",
              "      <th>75</th>\n",
              "      <td>BEN</td>\n",
              "      <td>Benin</td>\n",
              "      <td>BEN.12_1</td>\n",
              "      <td>Zou</td>\n",
              "      <td></td>\n",
              "      <td>BEN.12.9_1</td>\n",
              "      <td>Zogbodomey</td>\n",
              "      <td>Zogbodome</td>\n",
              "      <td></td>\n",
              "      <td>Commune</td>\n",
              "      <td>Commune</td>\n",
              "      <td></td>\n",
              "      <td>BJ.ZO.ZB</td>\n",
              "      <td>[(2.377510070800838, 6.930169105529842), (2.36...</td>\n",
              "    </tr>\n",
              "  </tbody>\n",
              "</table>\n",
              "<p>76 rows × 14 columns</p>\n",
              "</div>"
            ],
            "text/plain": [
              "   GID_0 NAME_0  ...    HASC_2                                             coords\n",
              "0    BEN  Benin  ...  BJ.AL.BA  [(2.8467729091645424, 11.42146110534668), (2.8...\n",
              "1    BEN  Benin  ...  BJ.AL.GO  [(2.2658329010010902, 10.54574203491211), (2.2...\n",
              "2    BEN  Benin  ...  BJ.AL.KN  [(3.273935079574642, 11.306771278381404), (3.2...\n",
              "3    BEN  Benin  ...  BJ.AL.KR  [(3.2918179035187904, 11.928750991821289), (3....\n",
              "4    BEN  Benin  ...  BJ.AL.MA  [(3.5912120342255776, 11.673298835754451), (3....\n",
              "5    BEN  Benin  ...  BJ.AL.SE  [(3.7127580642700764, 11.127946853637809), (3....\n",
              "6    BEN  Benin  ...  BJ.AK.BO  [(1.3887850046158974, 10.039131164550838), (1....\n",
              "7    BEN  Benin  ...  BJ.AK.CB  [(0.897539973259029, 10.29423904418951), (0.88...\n",
              "8    BEN  Benin  ...  BJ.AK.KE  [(2.2658329010010902, 10.54574203491211), (2.2...\n",
              "9    BEN  Benin  ...  BJ.AK.KO  [(1.3887850046158974, 10.039131164550838), (1....\n",
              "10   BEN  Benin  ...  BJ.AK.MA  [(1.1157790422440144, 11.03819942474371), (1.1...\n",
              "11   BEN  Benin  ...  BJ.AK.NA  [(1.3887850046158974, 10.039131164550838), (1....\n",
              "12   BEN  Benin  ...  BJ.AK.PE  [(2.2658329010010902, 10.54574203491211), (2.2...\n",
              "13   BEN  Benin  ...  BJ.AK.TA  [(1.5668350458146278, 10.75683975219738), (1.5...\n",
              "14   BEN  Benin  ...  BJ.AK.TO  [(1.2202860116959755, 10.476679801940918), (1....\n",
              "15   BEN  Benin  ...  BJ.AQ.AC  [(2.3700959682465736, 6.385532855987549), (2.3...\n",
              "16   BEN  Benin  ...  BJ.AQ.AL  [(2.2014150619507404, 6.603563785553035), (2.1...\n",
              "17   BEN  Benin  ...  BJ.AQ.KP  [(1.9796169996262734, 6.341844081878719), (1.9...\n",
              "18   BEN  Benin  ...  BJ.AQ.OU  [(1.9842729568481445, 6.3118047714234535), (1....\n",
              "19   BEN  Benin  ...  BJ.AQ.SA  [(2.488802909851131, 6.489311218261719), (2.48...\n",
              "20   BEN  Benin  ...  BJ.AQ.TF  [(2.030635118484497, 6.714011192321834), (2.03...\n",
              "21   BEN  Benin  ...  BJ.AQ.TB  [(2.217668056488151, 6.435691833496094), (2.20...\n",
              "22   BEN  Benin  ...  BJ.AQ.ZE  [(2.2303369045258137, 6.759677886962891), (2.2...\n",
              "23   BEN  Benin  ...  BJ.BO.BE  [(3.0436739921569824, 10.269531250000057), (3....\n",
              "24   BEN  Benin  ...  BJ.BO.KL  [(3.670058012008724, 10.129911422729606), (3.6...\n",
              "25   BEN  Benin  ...  BJ.BO.ND  [(2.547421932220459, 9.453910827636719), (2.53...\n",
              "26   BEN  Benin  ...  BJ.BO.NI  [(3.6286149024963947, 10.092581748962516), (3....\n",
              "27   BEN  Benin  ...  BJ.BO.PA  [(2.7648680210114094, 9.428414344787654), (2.7...\n",
              "28   BEN  Benin  ...  BJ.BO.PE  [(3.266597032546997, 9.654834747314453), (3.26...\n",
              "29   BEN  Benin  ...  BJ.BO.SI  [(2.087599992752132, 9.970624923706112), (2.08...\n",
              "..   ...    ...  ...       ...                                                ...\n",
              "46   BEN  Benin  ...  BJ.CF.TO  [(1.8612060546875568, 6.827836036682243), (1.8...\n",
              "47   BEN  Benin  ...  BJ.LI.CO  [(2.3700959682465736, 6.385532855987549), (2.3...\n",
              "48   BEN  Benin  ...  BJ.MO.AT  [(1.8219159841538044, 6.63898420333868), (1.80...\n",
              "49   BEN  Benin  ...  BJ.MO.BO  [(1.96468102931982, 6.48068904876709), (1.9611...\n",
              "50   BEN  Benin  ...  BJ.MO.CO  [(1.9796169996262734, 6.341844081878719), (1.9...\n",
              "51   BEN  Benin  ...  BJ.MO.GP  [(1.9842729568481445, 6.3118047714234535), (1....\n",
              "52   BEN  Benin  ...  BJ.MO.HO  [(1.8360379934311482, 6.4168548583984375), (1....\n",
              "53   BEN  Benin  ...  BJ.OU.AA  [(2.672157049179134, 6.423590183258057), (2.66...\n",
              "54   BEN  Benin  ...  BJ.OU.AH  [(2.43598389625555, 6.66477108001709), (2.4358...\n",
              "55   BEN  Benin  ...  BJ.OU.AG  [(2.59430909156805, 6.4287638664245605), (2.58...\n",
              "56   BEN  Benin  ...  BJ.OU.AM  [(2.6325340270996094, 6.611471176147575), (2.6...\n",
              "57   BEN  Benin  ...  BJ.OU.AV  [(2.635679006576595, 6.497016906738338), (2.62...\n",
              "58   BEN  Benin  ...  BJ.OU.BO  [(2.5579240322113606, 6.8481698036194985), (2....\n",
              "59   BEN  Benin  ...  BJ.OU.DA  [(2.488802909851131, 6.489311218261719), (2.48...\n",
              "60   BEN  Benin  ...  BJ.OU.PN  [(2.672157049179134, 6.423590183258057), (2.66...\n",
              "61   BEN  Benin  ...  BJ.OU.SK  [(2.59430909156805, 6.4287638664245605), (2.59...\n",
              "62   BEN  Benin  ...  BJ.PL.AO  [(2.7195239067078774, 6.936367988586483), (2.7...\n",
              "63   BEN  Benin  ...  BJ.PL.IF  [(2.7879459857941242, 6.751255035400391), (2.7...\n",
              "64   BEN  Benin  ...  BJ.PL.KE  [(2.7991909980773926, 7.426600933075008), (2.7...\n",
              "65   BEN  Benin  ...  BJ.PL.PB  [(2.537767887115592, 7.177865982055607), (2.55...\n",
              "66   BEN  Benin  ...  BJ.PL.SA  [(2.5766019821166424, 6.627039909362907), (2.5...\n",
              "67   BEN  Benin  ...  BJ.ZO.AB  [(2.0492689609528156, 7.13519811630249), (2.04...\n",
              "68   BEN  Benin  ...  BJ.ZO.AG  [(1.8705550432205769, 7.135935783386174), (1.8...\n",
              "69   BEN  Benin  ...  BJ.ZO.BO  [(2.07970309257513, 7.260233879089469), (2.083...\n",
              "70   BEN  Benin  ...  BJ.ZO.CO  [(2.2898590564727783, 7.505249977111873), (2.2...\n",
              "71   BEN  Benin  ...  BJ.ZO.DJ  [(1.6761430501937866, 7.503859043121338), (1.6...\n",
              "72   BEN  Benin  ...  BJ.ZO.ON  [(2.4075679779053303, 6.978621006011963), (2.4...\n",
              "73   BEN  Benin  ...  BJ.ZO.ZK  [(2.07970309257513, 7.260233879089469), (2.090...\n",
              "74   BEN  Benin  ...  BJ.ZO.ZN  [(2.2898590564727783, 7.505249977111873), (2.3...\n",
              "75   BEN  Benin  ...  BJ.ZO.ZB  [(2.377510070800838, 6.930169105529842), (2.36...\n",
              "\n",
              "[76 rows x 14 columns]"
            ]
          },
          "metadata": {
            "tags": []
          },
          "execution_count": 118
        }
      ]
    },
    {
      "cell_type": "code",
      "metadata": {
        "id": "iWBZDsu7zcez",
        "colab_type": "code",
        "colab": {}
      },
      "source": [
        ""
      ],
      "execution_count": 0,
      "outputs": []
    },
    {
      "cell_type": "markdown",
      "metadata": {
        "id": "3tWJsXMM_VKm",
        "colab_type": "text"
      },
      "source": [
        "OPEN 2016 DATA"
      ]
    },
    {
      "cell_type": "code",
      "metadata": {
        "id": "FyT4Xi5D_Xb6",
        "colab_type": "code",
        "colab": {}
      },
      "source": [
        "SPREADSHEET_ID = ID2\n",
        "RANGE_NAME = 'Sheet1'\n",
        "\n",
        "gsheet = sheet_service.spreadsheets().values().get(spreadsheetId=SPREADSHEET_ID, range=RANGE_NAME).execute()\n",
        "\n",
        "df_2016 = pd.DataFrame(gsheet.get('values', [])[1:],columns= gsheet.get('values', [])[0:1][0])"
      ],
      "execution_count": 0,
      "outputs": []
    },
    {
      "cell_type": "code",
      "metadata": {
        "id": "35EPGmnF_bdl",
        "colab_type": "code",
        "colab": {
          "base_uri": "https://localhost:8080/",
          "height": 191
        },
        "outputId": "d21e6dc7-fa33-4835-cb77-274c4c37992e"
      },
      "source": [
        "df_2016.head()"
      ],
      "execution_count": 12,
      "outputs": [
        {
          "output_type": "execute_result",
          "data": {
            "text/html": [
              "<div>\n",
              "<style scoped>\n",
              "    .dataframe tbody tr th:only-of-type {\n",
              "        vertical-align: middle;\n",
              "    }\n",
              "\n",
              "    .dataframe tbody tr th {\n",
              "        vertical-align: top;\n",
              "    }\n",
              "\n",
              "    .dataframe thead th {\n",
              "        text-align: right;\n",
              "    }\n",
              "</style>\n",
              "<table border=\"1\" class=\"dataframe\">\n",
              "  <thead>\n",
              "    <tr style=\"text-align: right;\">\n",
              "      <th></th>\n",
              "      <th>N°</th>\n",
              "      <th>Arrondissement</th>\n",
              "      <th>Village</th>\n",
              "      <th>Localité</th>\n",
              "      <th>Hameau</th>\n",
              "      <th>Etat de l'ouvrage</th>\n",
              "      <th>Redevance</th>\n",
              "      <th>Année de réalisation</th>\n",
              "      <th>Marque</th>\n",
              "    </tr>\n",
              "  </thead>\n",
              "  <tbody>\n",
              "    <tr>\n",
              "      <th>0</th>\n",
              "      <td>284</td>\n",
              "      <td>BIRO</td>\n",
              "      <td>Biro</td>\n",
              "      <td>Nallou</td>\n",
              "      <td>Nallou Banikparou</td>\n",
              "      <td>Fonctionnel</td>\n",
              "      <td>Jamais</td>\n",
              "      <td>2004</td>\n",
              "      <td>Vergnet</td>\n",
              "    </tr>\n",
              "    <tr>\n",
              "      <th>1</th>\n",
              "      <td>285</td>\n",
              "      <td>BIRO</td>\n",
              "      <td>Biro</td>\n",
              "      <td>Goutto</td>\n",
              "      <td>Goutto</td>\n",
              "      <td>Fonctionnel</td>\n",
              "      <td>Jamais</td>\n",
              "      <td>2011</td>\n",
              "      <td>Vergnet</td>\n",
              "    </tr>\n",
              "    <tr>\n",
              "      <th>2</th>\n",
              "      <td>286</td>\n",
              "      <td>BIRO</td>\n",
              "      <td>Biro</td>\n",
              "      <td>Nanlou</td>\n",
              "      <td>Nanlou</td>\n",
              "      <td>Fonctionnel</td>\n",
              "      <td>Jamais</td>\n",
              "      <td></td>\n",
              "      <td>Vergnet</td>\n",
              "    </tr>\n",
              "    <tr>\n",
              "      <th>3</th>\n",
              "      <td>287</td>\n",
              "      <td>BIRO</td>\n",
              "      <td>Biro</td>\n",
              "      <td>Sarawodo</td>\n",
              "      <td>Sarawodo</td>\n",
              "      <td>Fonctionnel</td>\n",
              "      <td>Parfait</td>\n",
              "      <td>Entente 95</td>\n",
              "      <td>Vergnet</td>\n",
              "    </tr>\n",
              "    <tr>\n",
              "      <th>4</th>\n",
              "      <td>288</td>\n",
              "      <td>BIRO</td>\n",
              "      <td>Biro</td>\n",
              "      <td>Biro</td>\n",
              "      <td>Biro 1</td>\n",
              "      <td>Fonctionnel</td>\n",
              "      <td>Parfait</td>\n",
              "      <td>PPEA 2010</td>\n",
              "      <td>Vergnet</td>\n",
              "    </tr>\n",
              "  </tbody>\n",
              "</table>\n",
              "</div>"
            ],
            "text/plain": [
              "    N° Arrondissement Village  ... Redevance Année de réalisation   Marque\n",
              "0  284           BIRO    Biro  ...    Jamais                 2004  Vergnet\n",
              "1  285           BIRO    Biro  ...    Jamais                 2011  Vergnet\n",
              "2  286           BIRO    Biro  ...    Jamais                       Vergnet\n",
              "3  287           BIRO    Biro  ...   Parfait           Entente 95  Vergnet\n",
              "4  288           BIRO    Biro  ...   Parfait            PPEA 2010  Vergnet\n",
              "\n",
              "[5 rows x 9 columns]"
            ]
          },
          "metadata": {
            "tags": []
          },
          "execution_count": 12
        }
      ]
    },
    {
      "cell_type": "code",
      "metadata": {
        "id": "nORSR6FW_cTK",
        "colab_type": "code",
        "colab": {
          "base_uri": "https://localhost:8080/",
          "height": 505
        },
        "outputId": "6a2b376e-8b5b-4674-ab16-b6074bdf96eb"
      },
      "source": [
        "df_2016['Année de réalisation'].unique()"
      ],
      "execution_count": 13,
      "outputs": [
        {
          "output_type": "execute_result",
          "data": {
            "text/plain": [
              "array(['2004', '2011', '', 'Entente 95', 'PPEA 2010', 'Puits Réhabilité',\n",
              "       '2002', 'Chinois 2013', 'Helvetas 2013', 'Puits Réhabilité 2014',\n",
              "       '2007', 'PADEAR 2003', '2003', '2005', '1995', 'PPEA 2012',\n",
              "       '2009 DANIDA', 'DANIDA 2006', 'FS 2011', '2012 HELVETAS',\n",
              "       'PADSEA 2003', None, '2012', '2 becs ENTENTE 1995', 'UEMOA 2008',\n",
              "       '2006', 'ACCES 2013', '2003 PADEAR', 'Programme Chinois 2013',\n",
              "       'Réhabilité par ACCES', 'Réhabilité par Helvetas', '2009 Danida',\n",
              "       '2007 Danida', 'Entente 1996', '2008 UEMOA', 'PSDCC  2016',\n",
              "       'Pagirel 2009', 'PPEA 2011', '2005 Danida', 'Entente 95 HPV',\n",
              "       'Padsea 2007', 'Entente 3 1995 P-B132', 'B 2599 2002',\n",
              "       'UEMOA 2015', 'Réha Helvetas 2013', 'PAFILAV 2016', '2013',\n",
              "       'ACCES 2016', '2009', 'FS 2012', 'Danida 2001',\n",
              "       'Réha Helvetas 2009', 'GAIN 2009', 'DANIDA 2002', 'PPEA 2013',\n",
              "       'GAIN 2008', 'GAIN 2011 Dassari', 'CE1 1990', 'CE 1 1995',\n",
              "       'HPV1 2012', 'HPV 6', 'ACCES 2014', 'Helvetas 2010',\n",
              "       'Entente III 1995', 'Entente III 1996', '?2011', '??NC 2011',\n",
              "       'PPEA 2015', 'HPV 1996', 'Château', 'DG EAU 2007', '1996',\n",
              "       'ACCES (réhabilité) CE3 95', 'CE1 BIS 2002', 'PAGIREL  2011',\n",
              "       'Entente 1995', 'DANIDA 2004', 'PPEA 20010', 'PADSEA 2 2007',\n",
              "       'BEST -SD 2012', 'PPEA', 'APIDEV 2012', 'Entente III 1981',\n",
              "       'PPEA 2007', '2013 ACCES', 'DANIDA 2009', 'PNUD 2016',\n",
              "       'Pagirel 2010', 'Entente 96', 'CE1', 'Helvetas 2011',\n",
              "       'PADSEA 2 2002', 'DANIDA 2007', 'DANIDA 2005', 'PPEA 2005',\n",
              "       'ASEHA 2013', 'Programme chinois2013', 'Puits Réhabilité 2015 HEL',\n",
              "       'Entente III', 'Etat', 'Catholique 1985', 'PVH 2007', 'PVH 2008',\n",
              "       'DANIDA 2003', 'PVH 2006', '1988', 'CE3 1995',\n",
              "       'RAIN 2014 HELVETAS', 'PPEA 2009', 'PADSEA2 2007', 'PHV 2007',\n",
              "       'CE 3', 'enlevée DANIDA 2001', 'PAGIREL 2008', 'ZOFROLA /PIP2014',\n",
              "       '2001', 'Faible débit DANIDA 2006', 'Faible débit PPEA 2012',\n",
              "       'PADEAR 2004', 'DANIDA 2001 CE1 bis'], dtype=object)"
            ]
          },
          "metadata": {
            "tags": []
          },
          "execution_count": 13
        }
      ]
    },
    {
      "cell_type": "code",
      "metadata": {
        "id": "y9nnMCXV_2x4",
        "colab_type": "code",
        "colab": {
          "base_uri": "https://localhost:8080/",
          "height": 33
        },
        "outputId": "599b7f2f-dd72-4875-b91d-6c57597685c3"
      },
      "source": [
        "def getyear(x):\n",
        "  year=None\n",
        "  if x['Année de réalisation']:\n",
        "    for s in x['Année de réalisation'].split():\n",
        "      if s.isdigit():\n",
        "         year=int(s)\n",
        "    if year==None:\n",
        "      return year\n",
        "    elif year >2019:\n",
        "      #print(year)\n",
        "      year=2010\n",
        "      return year\n",
        "    elif year > 100:\n",
        "      return int(year)\n",
        "    elif year >70:\n",
        "      year=int('19'+str(year))\n",
        "      return int(year)\n",
        "    else:\n",
        "      year=None\n",
        "    \n",
        "  return year\n",
        "  \n",
        "df_2016['Annes']=df_2016.apply(lambda x: getyear(x)\n",
        "              ,axis=1)"
      ],
      "execution_count": 58,
      "outputs": [
        {
          "output_type": "stream",
          "text": [
            "20010\n"
          ],
          "name": "stdout"
        }
      ]
    },
    {
      "cell_type": "code",
      "metadata": {
        "id": "NWFHCrAjAU4z",
        "colab_type": "code",
        "colab": {
          "base_uri": "https://localhost:8080/",
          "height": 595
        },
        "outputId": "ecbe7818-acdb-41fc-b7cd-8dc5dc7ebf39"
      },
      "source": [
        "df_2016['Annes'].hist(bins=20)\n",
        "plt.rcParams['figure.figsize']=20,10\n",
        "plt.show()"
      ],
      "execution_count": 59,
      "outputs": [
        {
          "output_type": "display_data",
          "data": {
            "image/png": "[encoded data removed]",
            "text/plain": [
              "<Figure size 1440x720 with 1 Axes>"
            ]
          },
          "metadata": {
            "tags": []
          }
        }
      ]
    },
    {
      "cell_type": "code",
      "metadata": {
        "id": "rQhW-RBFDpHM",
        "colab_type": "code",
        "colab": {
          "base_uri": "https://localhost:8080/",
          "height": 66
        },
        "outputId": "3c145986-2404-408f-b933-8b0661839eae"
      },
      "source": [
        "df_2016['Marque'].unique()"
      ],
      "execution_count": 60,
      "outputs": [
        {
          "output_type": "execute_result",
          "data": {
            "text/plain": [
              "array(['Vergnet', 'India', None, 'PEA', 'V ergnet 2011', 'AFRIDEV',\n",
              "       'Vergnet (B2599)', 'Abandonné', 'Vergnet ???', 'vergnet'],\n",
              "      dtype=object)"
            ]
          },
          "metadata": {
            "tags": []
          },
          "execution_count": 60
        }
      ]
    },
    {
      "cell_type": "code",
      "metadata": {
        "id": "LLzFjGeECYsN",
        "colab_type": "code",
        "colab": {}
      },
      "source": [
        "SPREADSHEET_ID = ID3\n",
        "RANGE_NAME = 'Sheet1'\n",
        "\n",
        "gsheet = sheet_service.spreadsheets().values().get(spreadsheetId=SPREADSHEET_ID, range=RANGE_NAME).execute()\n",
        "\n",
        "df_2009 = pd.DataFrame(gsheet.get('values', [])[1:],columns= gsheet.get('values', [])[0:1][0])"
      ],
      "execution_count": 0,
      "outputs": []
    },
    {
      "cell_type": "code",
      "metadata": {
        "id": "YFZjDCFMIwaG",
        "colab_type": "code",
        "colab": {
          "base_uri": "https://localhost:8080/",
          "height": 191
        },
        "outputId": "45723aa3-6319-4ee9-b0dc-25cd90f196d9"
      },
      "source": [
        "df_2009.head()"
      ],
      "execution_count": 84,
      "outputs": [
        {
          "output_type": "execute_result",
          "data": {
            "text/html": [
              "<div>\n",
              "<style scoped>\n",
              "    .dataframe tbody tr th:only-of-type {\n",
              "        vertical-align: middle;\n",
              "    }\n",
              "\n",
              "    .dataframe tbody tr th {\n",
              "        vertical-align: top;\n",
              "    }\n",
              "\n",
              "    .dataframe thead th {\n",
              "        text-align: right;\n",
              "    }\n",
              "</style>\n",
              "<table border=\"1\" class=\"dataframe\">\n",
              "  <thead>\n",
              "    <tr style=\"text-align: right;\">\n",
              "      <th></th>\n",
              "      <th>Arrondissement</th>\n",
              "      <th>Village</th>\n",
              "      <th>Localité</th>\n",
              "      <th>Population</th>\n",
              "      <th>Type d'ouvrage</th>\n",
              "      <th>Etat</th>\n",
              "      <th>Longitude</th>\n",
              "      <th>Latitude</th>\n",
              "      <th>Domaine d'installation</th>\n",
              "      <th>Latitude_decimals</th>\n",
              "      <th>Longitude_decimals</th>\n",
              "    </tr>\n",
              "  </thead>\n",
              "  <tbody>\n",
              "    <tr>\n",
              "      <th>0</th>\n",
              "      <td>BIRO</td>\n",
              "      <td>Biro</td>\n",
              "      <td>Bah Boré</td>\n",
              "      <td>150</td>\n",
              "      <td>/</td>\n",
              "      <td>/</td>\n",
              "      <td>/</td>\n",
              "      <td>/</td>\n",
              "      <td>/</td>\n",
              "      <td>9.900000</td>\n",
              "      <td>2.947778</td>\n",
              "    </tr>\n",
              "    <tr>\n",
              "      <th>1</th>\n",
              "      <td>BIRO</td>\n",
              "      <td>Biro</td>\n",
              "      <td>Biro</td>\n",
              "      <td>5000</td>\n",
              "      <td>FPM</td>\n",
              "      <td>Fonctionnel</td>\n",
              "      <td>02°56'48,5\"E</td>\n",
              "      <td>09°54'10,7\"N</td>\n",
              "      <td>Marché</td>\n",
              "      <td>9.903667</td>\n",
              "      <td>2.974778</td>\n",
              "    </tr>\n",
              "    <tr>\n",
              "      <th>2</th>\n",
              "      <td>BIRO</td>\n",
              "      <td>Biro</td>\n",
              "      <td>Biro</td>\n",
              "      <td>5000</td>\n",
              "      <td>FPM</td>\n",
              "      <td>Fonctionnel</td>\n",
              "      <td>02°56'52,0\"E</td>\n",
              "      <td>09°54'18,6\"N</td>\n",
              "      <td>Domaine public</td>\n",
              "      <td>9.933333</td>\n",
              "      <td>2.908389</td>\n",
              "    </tr>\n",
              "    <tr>\n",
              "      <th>3</th>\n",
              "      <td>BIRO</td>\n",
              "      <td>Biro</td>\n",
              "      <td>Biro</td>\n",
              "      <td>5000</td>\n",
              "      <td>FPM</td>\n",
              "      <td>Fonctionnel</td>\n",
              "      <td>02°57'03,7\"E</td>\n",
              "      <td>09°54'11,4\"N</td>\n",
              "      <td>Domaine public</td>\n",
              "      <td>NaN</td>\n",
              "      <td>NaN</td>\n",
              "    </tr>\n",
              "    <tr>\n",
              "      <th>4</th>\n",
              "      <td>BIRO</td>\n",
              "      <td>Biro</td>\n",
              "      <td>Biro</td>\n",
              "      <td>5000</td>\n",
              "      <td>PM</td>\n",
              "      <td>Fonctionnel</td>\n",
              "      <td>02°56'51,1\"E</td>\n",
              "      <td>09°54'08,5\"N</td>\n",
              "      <td>Marché</td>\n",
              "      <td>9.903028</td>\n",
              "      <td>2.946639</td>\n",
              "    </tr>\n",
              "  </tbody>\n",
              "</table>\n",
              "</div>"
            ],
            "text/plain": [
              "  Arrondissement Village  ... Latitude_decimals Longitude_decimals\n",
              "0           BIRO    Biro  ...          9.900000           2.947778\n",
              "1           BIRO    Biro  ...          9.903667           2.974778\n",
              "2           BIRO    Biro  ...          9.933333           2.908389\n",
              "3           BIRO    Biro  ...               NaN                NaN\n",
              "4           BIRO    Biro  ...          9.903028           2.946639\n",
              "\n",
              "[5 rows x 11 columns]"
            ]
          },
          "metadata": {
            "tags": []
          },
          "execution_count": 84
        }
      ]
    },
    {
      "cell_type": "code",
      "metadata": {
        "id": "gSoTMLWoIyXa",
        "colab_type": "code",
        "colab": {
          "base_uri": "https://localhost:8080/",
          "height": 191
        },
        "outputId": "be65a485-2c9b-4a35-e347-8f7960850930"
      },
      "source": [
        "df_2019.head()"
      ],
      "execution_count": 85,
      "outputs": [
        {
          "output_type": "execute_result",
          "data": {
            "text/html": [
              "<div>\n",
              "<style scoped>\n",
              "    .dataframe tbody tr th:only-of-type {\n",
              "        vertical-align: middle;\n",
              "    }\n",
              "\n",
              "    .dataframe tbody tr th {\n",
              "        vertical-align: top;\n",
              "    }\n",
              "\n",
              "    .dataframe thead th {\n",
              "        text-align: right;\n",
              "    }\n",
              "</style>\n",
              "<table border=\"1\" class=\"dataframe\">\n",
              "  <thead>\n",
              "    <tr style=\"text-align: right;\">\n",
              "      <th></th>\n",
              "      <th>Arrondissement</th>\n",
              "      <th>Village</th>\n",
              "      <th>Localite</th>\n",
              "      <th>Nom_Local</th>\n",
              "      <th>Longitude</th>\n",
              "      <th>Latitude</th>\n",
              "      <th>xCoord</th>\n",
              "      <th>yCoord</th>\n",
              "      <th>rqtListe_Pompe.Modele_Pompe</th>\n",
              "    </tr>\n",
              "  </thead>\n",
              "  <tbody>\n",
              "    <tr>\n",
              "      <th>0</th>\n",
              "      <td>BIRO</td>\n",
              "      <td>BIRO</td>\n",
              "      <td>Biro</td>\n",
              "      <td>BIRO 2</td>\n",
              "      <td>02°56'52.0\"E</td>\n",
              "      <td>09°54'00.0\"N</td>\n",
              "      <td>2.947778</td>\n",
              "      <td>9.9</td>\n",
              "      <td>VERGNET</td>\n",
              "    </tr>\n",
              "    <tr>\n",
              "      <th>1</th>\n",
              "      <td>BIRO</td>\n",
              "      <td>BIRO</td>\n",
              "      <td>Sarawondo</td>\n",
              "      <td>SARAWONDO</td>\n",
              "      <td>02°58'29.2\"E</td>\n",
              "      <td>09°54'13.2\"N</td>\n",
              "      <td>2.974778</td>\n",
              "      <td>9.903666</td>\n",
              "      <td>VERGNET</td>\n",
              "    </tr>\n",
              "    <tr>\n",
              "      <th>2</th>\n",
              "      <td>BIRO</td>\n",
              "      <td>BIRO</td>\n",
              "      <td>Nallou</td>\n",
              "      <td>NANLOU</td>\n",
              "      <td>02°54'30.2\"E</td>\n",
              "      <td>09°56'00.0\"N</td>\n",
              "      <td>2.908389</td>\n",
              "      <td>9.933333</td>\n",
              "      <td>VERGNET</td>\n",
              "    </tr>\n",
              "    <tr>\n",
              "      <th>4</th>\n",
              "      <td>BIRO</td>\n",
              "      <td>BIRO</td>\n",
              "      <td>Biro</td>\n",
              "      <td>BIRO CENTRE</td>\n",
              "      <td>02°56'47.9\"E</td>\n",
              "      <td>09°54'10.9\"N</td>\n",
              "      <td>2.946639</td>\n",
              "      <td>9.903028</td>\n",
              "      <td>AFRIDEV</td>\n",
              "    </tr>\n",
              "    <tr>\n",
              "      <th>5</th>\n",
              "      <td>BIRO</td>\n",
              "      <td>BIRO</td>\n",
              "      <td>Nallou</td>\n",
              "      <td>NALOU  BANIKPAROU</td>\n",
              "      <td>02°53'23.2\"E</td>\n",
              "      <td>09°58'48.1\"N</td>\n",
              "      <td>2.889778</td>\n",
              "      <td>9.980028</td>\n",
              "      <td>VERGNET</td>\n",
              "    </tr>\n",
              "  </tbody>\n",
              "</table>\n",
              "</div>"
            ],
            "text/plain": [
              "  Arrondissement Village  ...    yCoord rqtListe_Pompe.Modele_Pompe\n",
              "0           BIRO    BIRO  ...       9.9                     VERGNET\n",
              "1           BIRO    BIRO  ...  9.903666                     VERGNET\n",
              "2           BIRO    BIRO  ...  9.933333                     VERGNET\n",
              "4           BIRO    BIRO  ...  9.903028                     AFRIDEV\n",
              "5           BIRO    BIRO  ...  9.980028                     VERGNET\n",
              "\n",
              "[5 rows x 9 columns]"
            ]
          },
          "metadata": {
            "tags": []
          },
          "execution_count": 85
        }
      ]
    },
    {
      "cell_type": "code",
      "metadata": {
        "id": "rakekyPvJQ9F",
        "colab_type": "code",
        "colab": {}
      },
      "source": [
        "#df_2009=df_2009.drop(['Latitude_decimals', 'Longitude_decimals'], axis=1)"
      ],
      "execution_count": 0,
      "outputs": []
    },
    {
      "cell_type": "code",
      "metadata": {
        "id": "vOeoW_GVF0Od",
        "colab_type": "code",
        "colab": {
          "base_uri": "https://localhost:8080/",
          "height": 98
        },
        "outputId": "1d3deecc-6497-4db8-87d5-c5d210924ffd"
      },
      "source": [
        "df_2009['Latitude_decimals']=df_2009.apply(lambda x: decimals_lat_lon(x,'Latitude'),axis=1)"
      ],
      "execution_count": 99,
      "outputs": [
        {
          "output_type": "stream",
          "text": [
            "None\n",
            "None\n",
            "None\n",
            "None\n",
            "None\n"
          ],
          "name": "stdout"
        }
      ]
    },
    {
      "cell_type": "code",
      "metadata": {
        "id": "rcJCnTd6Grz1",
        "colab_type": "code",
        "colab": {
          "base_uri": "https://localhost:8080/",
          "height": 98
        },
        "outputId": "edc6b02c-2e0a-4c33-c202-6d96957c76b4"
      },
      "source": [
        "df_2009['Longitude_decimals']=df_2009.apply(lambda x: decimals_lat_lon(x,'Longitude'),axis=1)"
      ],
      "execution_count": 100,
      "outputs": [
        {
          "output_type": "stream",
          "text": [
            "None\n",
            "None\n",
            "None\n",
            "None\n",
            "None\n"
          ],
          "name": "stdout"
        }
      ]
    },
    {
      "cell_type": "code",
      "metadata": {
        "id": "x3KxSy93G0kX",
        "colab_type": "code",
        "colab": {}
      },
      "source": [
        "df_2009_points=df_2009.dropna(subset=['Longitude_decimals', 'Latitude_decimals'])"
      ],
      "execution_count": 0,
      "outputs": []
    },
    {
      "cell_type": "code",
      "metadata": {
        "id": "y6AQthXaHNbB",
        "colab_type": "code",
        "colab": {
          "base_uri": "https://localhost:8080/",
          "height": 767
        },
        "outputId": "6ca49f6a-6ebc-4a7e-d2dc-9254d983f81c"
      },
      "source": [
        "title=\"Carte des pompes de Nikki borgou\"\n",
        "#zoom=4\n",
        "zoom=0.2\n",
        "drawmap(df_2009_points,title,zoom,False)"
      ],
      "execution_count": 152,
      "outputs": [
        {
          "output_type": "display_data",
          "data": {
            "image/png": "[encoded data removed]",
            "text/plain": [
              "<Figure size 1800x864 with 1 Axes>"
            ]
          },
          "metadata": {
            "tags": []
          }
        }
      ]
    },
    {
      "cell_type": "code",
      "metadata": {
        "id": "AgM6ISxQKMMk",
        "colab_type": "code",
        "colab": {
          "base_uri": "https://localhost:8080/",
          "height": 752
        },
        "outputId": "e9395168-d9ac-4f12-ac3b-718dc07bd88d"
      },
      "source": [
        "title=\"Bubble map des pompes de Nikki borgou\"\n",
        "#zoom=4\n",
        "zoom=0.2\n",
        "\n",
        "drawbubblemap(df_2009_points,title,zoom,False)"
      ],
      "execution_count": 163,
      "outputs": [
        {
          "output_type": "display_data",
          "data": {
            "image/png": "[encoded data removed]",
            "text/plain": [
              "<Figure size 1800x864 with 1 Axes>"
            ]
          },
          "metadata": {
            "tags": []
          }
        }
      ]
    },
    {
      "cell_type": "code",
      "metadata": {
        "id": "rsxEF9cHQmvi",
        "colab_type": "code",
        "colab": {}
      },
      "source": [
        ""
      ],
      "execution_count": 0,
      "outputs": []
    }
  ]
}