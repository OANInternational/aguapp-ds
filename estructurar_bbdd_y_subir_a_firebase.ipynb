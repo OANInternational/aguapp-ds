{
 "cells": [
  {
   "cell_type": "markdown",
   "metadata": {},
   "source": [
    "# IMPORTS"
   ]
  },
  {
   "cell_type": "code",
   "execution_count": 1,
   "metadata": {},
   "outputs": [],
   "source": [
    "import yaml\n",
    "import firebase_admin\n",
    "import plotly\n",
    "import plotly.plotly as py\n",
    "import numpy as np\n",
    "import re\n",
    "\n",
    "import pandas as pd\n",
    "\n",
    "\n",
    "import gspread\n",
    "import httplib2\n",
    "import os, io\n",
    "import argparse\n",
    "import auth\n",
    "\n",
    "\n",
    "from firebase_admin import credentials\n",
    "from firebase_admin import firestore\n",
    "\n",
    "\n",
    "from httplib2 import Http\n",
    "from oauth2client import file,client, tools\n",
    "from googleapiclient import discovery\n",
    "from googleapiclient.http import MediaFileUpload, MediaIoBaseDownload\n",
    "from oauth2client.service_account import ServiceAccountCredentials"
   ]
  },
  {
   "cell_type": "code",
   "execution_count": 19,
   "metadata": {
    "colab": {},
    "colab_type": "code",
    "id": "9KAdA-R8xKw5"
   },
   "outputs": [],
   "source": [
    "\n",
    "spreadsheet_ids = yaml.load( open(\"/Users/5danalfaro/OAN/credentials/sheets_parameters.yaml\", \"r\" ),Loader=yaml.FullLoader)\n",
    "#bombas de 2018, ultima version\n",
    "ID1=str(spreadsheet_ids['ID1'])\n",
    "#bombas de 2016, ultima version\n",
    "ID2=str(spreadsheet_ids['ID2'])\n",
    "#bombas de 2009, ultima version\n",
    "ID3=str(spreadsheet_ids['ID3'])\n",
    "#bombas final, datos de 2016 y 2009\n",
    "ID4=str(spreadsheet_ids['ID4'])\n",
    "#bombas lisette\n",
    "ID5=str(spreadsheet_ids['ID5'])\n",
    "#demograpique data\n",
    "ID6=str(spreadsheet_ids['ID6'])"
   ]
  },
  {
   "cell_type": "markdown",
   "metadata": {
    "colab_type": "text",
    "id": "iA76tKgbnBvj"
   },
   "source": [
    "# CONNECT TO FIREBASE"
   ]
  },
  {
   "cell_type": "code",
   "execution_count": 4,
   "metadata": {
    "colab": {},
    "colab_type": "code",
    "id": "6pIrQEso408R"
   },
   "outputs": [],
   "source": [
    "filename='/Users/5danalfaro/OAN/credentials/firebase_parameters.json'"
   ]
  },
  {
   "cell_type": "code",
   "execution_count": 5,
   "metadata": {
    "colab": {},
    "colab_type": "code",
    "id": "j0-CWZv25YWX"
   },
   "outputs": [],
   "source": [
    "# Use a service account\n",
    "cred = credentials.Certificate(filename)\n",
    "firebase_admin.initialize_app(cred)\n",
    "\n",
    "db = firestore.client()"
   ]
  },
  {
   "cell_type": "markdown",
   "metadata": {},
   "source": [
    "# TEST"
   ]
  },
  {
   "cell_type": "code",
   "execution_count": 6,
   "metadata": {
    "colab": {},
    "colab_type": "code",
    "id": "4U8v9RtS6uv0"
   },
   "outputs": [],
   "source": [
    "col_query = db.collection('Pompes_2019').where(u'Arrondissement', u'==', u'BIRO')"
   ]
  },
  {
   "cell_type": "code",
   "execution_count": 8,
   "metadata": {
    "colab": {
     "base_uri": "https://localhost:8080/",
     "height": 72
    },
    "colab_type": "code",
    "id": "UiiJg-ZHc537",
    "outputId": "31afb6fb-4881-43c8-d519-b1931e714195"
   },
   "outputs": [],
   "source": [
    "pumps = col_query.stream()"
   ]
  },
  {
   "cell_type": "code",
   "execution_count": 9,
   "metadata": {
    "colab": {
     "base_uri": "https://localhost:8080/",
     "height": 555
    },
    "colab_type": "code",
    "id": "XojjB9MT8qGe",
    "outputId": "b8f62ebf-1734-4e31-b743-5082a3b56abb",
    "scrolled": true
   },
   "outputs": [
    {
     "name": "stdout",
     "output_type": "stream",
     "text": [
      "Banon_1 => {'Longitude': 2.7904722222222222, 'Marque': 'Afridev', 'Arrondissement': 'BIRO', 'Localite': 'Banon', 'Village': 'OURAROU', 'Latitude': 9.92461111111111}\n",
      "Biro_1 => {'Longitude': 2.947777777777778, 'Marque': 'Vergnet', 'Arrondissement': 'BIRO', 'Localite': 'Biro', 'Latitude': 9.9, 'Village': 'BIRO'}\n",
      "Biro_2 => {'Latitude': 9.902777777777779, 'Village': 'BIRO', 'Longitude': 2.940638888888889, 'Marque': 'NA', 'Arrondissement': 'BIRO', 'Localite': 'Biro'}\n",
      "Biro_3 => {'Arrondissement': 'BIRO', 'Localite': 'Biro', 'Latitude': 9.902944444444445, 'Village': 'BIRO', 'Longitude': 2.9468333333333336, 'Marque': 'NA'}\n",
      "Biro_4 => {'Longitude': 2.9466388888888893, 'Marque': 'Afridev', 'Arrondissement': 'BIRO', 'Localite': 'Biro', 'Latitude': 9.903027777777778, 'Village': 'BIRO'}\n",
      "Biro_5 => {'Longitude': 2.9463611111111114, 'Marque': 'Vergnet', 'Arrondissement': 'BIRO', 'Localite': 'Biro', 'Latitude': 9.900333333333334, 'Village': 'BIRO'}\n",
      "Gah_Sona_1 => {'Arrondissement': 'BIRO', 'Localite': 'Gah Sona', 'Latitude': 9.88411111111111, 'Village': 'SONSONRE', 'Longitude': 2.8417777777777777, 'Marque': 'NA'}\n",
      "Gando_Chein_1 => {'Arrondissement': 'BIRO', 'Localite': 'Gando Chein', 'Latitude': 9.897694444444443, 'Village': 'GNANHOUN', 'Longitude': 2.9021388888888886, 'Marque': 'Vergnet'}\n",
      "Gando_Paris_1 => {'Village': 'GNANHOUN', 'Latitude': 9.959333333333333, 'Longitude': 2.8890277777777778, 'Marque': 'India', 'Arrondissement': 'BIRO', 'Localite': 'Gando Paris'}\n",
      "Gbaba_1 => {'Arrondissement': 'BIRO', 'Localite': 'Gbaba', 'Latitude': 9.834805555555556, 'Village': 'TEBO', 'Longitude': 2.8366944444444444, 'Marque': 'NA'}\n",
      "Gbérou_Kpanin_1 => {'Arrondissement': 'BIRO', 'Localite': 'Gbérou Kpanin', 'Latitude': 9.941416666666667, 'Village': 'OURAROU', 'Marque': 'NA', 'Longitude': 2.7823333333333333}\n",
      "Gnanhoun_1 => {'Arrondissement': 'BIRO', 'Localite': 'Gnanhoun', 'Latitude': 9.91686111111111, 'Village': 'GNANHOUN', 'Longitude': 2.9058055555555553, 'Marque': 'Vergnet'}\n",
      "Gnanhoun_2 => {'Longitude': 2.9020555555555556, 'Marque': 'Vergnet', 'Arrondissement': 'BIRO', 'Localite': 'Gnanhoun', 'Village': 'GNANHOUN', 'Latitude': 9.902722222222222}\n",
      "Gnanhoun_3 => {'Latitude': 9.846388888888889, 'Village': 'GNANHOUN', 'Longitude': 2.9019999999999997, 'Marque': 'NA', 'Arrondissement': 'BIRO', 'Localite': 'Gnanhoun'}\n",
      "Goutto_1 => {'Longitude': 2.9429722222222225, 'Marque': 'Vergnet', 'Arrondissement': 'BIRO', 'Localite': 'Goutto', 'Village': 'BIRO', 'Latitude': 9.909055555555556}\n",
      "Kiranin_1 => {'Marque': 'India', 'Longitude': 2.885333333333333, 'Arrondissement': 'BIRO', 'Localite': 'Kiranin', 'Latitude': 9.91686111111111, 'Village': 'GNANHOUN'}\n",
      "Massiagourou_1 => {'Latitude': 9.965833333333332, 'Village': 'BIRO', 'Longitude': 2.9361111111111113, 'Marque': 'Vergnet', 'Arrondissement': 'BIRO', 'Localite': 'Massiagourou'}\n",
      "Nallou_1 => {'Longitude': 2.889777777777778, 'Marque': 'Vergnet', 'Arrondissement': 'BIRO', 'Localite': 'Nallou', 'Village': 'BIRO', 'Latitude': 9.980027777777778}\n",
      "Nallou_2 => {'Latitude': 9.933333333333334, 'Village': 'BIRO', 'Longitude': 2.9083888888888887, 'Marque': 'Vergnet', 'Arrondissement': 'BIRO', 'Localite': 'Nallou'}\n",
      "Ourarou_1 => {'Latitude': 9.896166666666666, 'Village': 'OURAROU', 'Longitude': 2.8122777777777777, 'Marque': 'NA', 'Arrondissement': 'BIRO', 'Localite': 'Ourarou'}\n",
      "Ourarou_2 => {'Latitude': 9.947222222222223, 'Village': 'OURAROU', 'Longitude': 2.7805555555555554, 'Marque': 'Vergnet', 'Arrondissement': 'BIRO', 'Localite': 'Ourarou'}\n",
      "Ourarou_3 => {'Arrondissement': 'BIRO', 'Localite': 'Ourarou', 'Village': 'OURAROU', 'Latitude': 9.89125, 'Longitude': 2.8117777777777775, 'Marque': 'Vergnet'}\n",
      "Sarawondo_1 => {'Marque': 'Vergnet', 'Longitude': 2.9747777777777777, 'Arrondissement': 'BIRO', 'Localite': 'Sarawondo', 'Latitude': 9.903666666666666, 'Village': 'BIRO'}\n",
      "Sonsonré_1 => {'Arrondissement': 'BIRO', 'Localite': 'Sonsonré', 'Latitude': 9.900194444444445, 'Village': 'SONSONRE', 'Longitude': 2.8606944444444444, 'Marque': 'Vergnet'}\n",
      "Sonsonré_2 => {'Latitude': 9.9, 'Village': 'SONSONRE', 'Longitude': 2.8583333333333334, 'Marque': 'Vergnet', 'Arrondissement': 'BIRO', 'Localite': 'Sonsonré'}\n",
      "Sonsonré_3 => {'Latitude': 9.883333333333333, 'Village': 'SONSONRE', 'Longitude': 2.858166666666667, 'Marque': 'Vergnet', 'Arrondissement': 'BIRO', 'Localite': 'Sonsonré'}\n",
      "Tèbo_1 => {'Arrondissement': 'BIRO', 'Localite': 'Tèbo', 'Latitude': 9.834833333333334, 'Village': 'TEBO', 'Longitude': 2.8398333333333334, 'Marque': 'Vergnet'}\n",
      "Tèbo_2 => {'Localite': 'Tèbo', 'Latitude': 9.833333333333334, 'Village': 'TEBO', 'Longitude': 2.836777777777778, 'Marque': 'Vergnet', 'Arrondissement': 'BIRO'}\n",
      "Tèbo_3 => {'Arrondissement': 'BIRO', 'Localite': 'Tèbo', 'Latitude': 9.836944444444445, 'Village': 'TEBO', 'Longitude': 2.8393055555555557, 'Marque': 'Afridev'}\n",
      "Waboudo_1 => {'Localite': 'Waboudo', 'Village': 'OURAROU', 'Latitude': 9.933333333333334, 'Longitude': 2.8243888888888886, 'Marque': 'Vergnet', 'Arrondissement': 'BIRO'}\n"
     ]
    }
   ],
   "source": [
    "for pump in pumps:\n",
    "    print(u'{} => {}'.format(pump.id, pump.to_dict()))"
   ]
  },
  {
   "cell_type": "markdown",
   "metadata": {
    "colab_type": "text",
    "id": "RtjMV_OZ_bPM"
   },
   "source": [
    "# ABRIR LAS BBDD"
   ]
  },
  {
   "cell_type": "markdown",
   "metadata": {
    "colab_type": "text",
    "id": "8xW2qPCe_lDT"
   },
   "source": [
    "## OPEN GOOGLE SHEETS"
   ]
  },
  {
   "cell_type": "markdown",
   "metadata": {
    "colab_type": "text",
    "id": "mfuH8ETf_0Qg"
   },
   "source": [
    "## autentification"
   ]
  },
  {
   "cell_type": "code",
   "execution_count": 20,
   "metadata": {
    "colab": {},
    "colab_type": "code",
    "id": "GB58EI_l_wXx"
   },
   "outputs": [],
   "source": [
    "SCOPES = ['https://spreadsheets.google.com/feeds',\n",
    "         'https://www.googleapis.com/auth/drive',\n",
    "         'https://www.googleapis.com/auth/drive.file',\n",
    "         'https://www.googleapis.com/auth/spreadsheets.currentonly',\n",
    "         'https://www.googleapis.com/auth/spreadsheets',\n",
    "         'https://www.googleapis.com/auth/presentations',\n",
    "         'https://www.googleapis.com/auth/drive.scripts',\n",
    "         'https://www.googleapis.com/auth/drive.appdata',\n",
    "         'https://www.googleapis.com/auth/drive.metadata'\n",
    "        ]\n",
    "store = file.Storage('/Users/5danalfaro/OAN/credentials/storage.json')\n",
    "creds = store.get()\n",
    "if not creds or creds.invalid:\n",
    "    flow = client.flow_from_clientsecrets('/Users/5danalfaro/OAN/credentials/client_id.json', SCOPES)\n",
    "    creds = tools.run_flow(flow, store)\n",
    "drive_service = discovery.build('drive', 'v3', http=creds.authorize(Http()))\n",
    "sheet_service = discovery.build('sheets', 'v4', http=creds.authorize(Http()))"
   ]
  },
  {
   "cell_type": "markdown",
   "metadata": {
    "colab_type": "text",
    "id": "Yzqr9P9nFav0"
   },
   "source": [
    "## OPEN FROM GOOGLE SHEET"
   ]
  },
  {
   "cell_type": "code",
   "execution_count": 16,
   "metadata": {
    "colab": {},
    "colab_type": "code",
    "id": "TmlXIbSK__ig"
   },
   "outputs": [],
   "source": [
    "ids = [ID1,ID2,ID3,ID5]\n",
    "dfs = []\n",
    "for ID in ids:\n",
    "  #SPREADSHEET_ID = ID\n",
    "  RANGE_NAME = 'Sheet1'\n",
    "\n",
    "  gsheet = sheet_service.spreadsheets().values().get(spreadsheetId=ID, range=RANGE_NAME).execute()\n",
    "\n",
    "  dfs.append(pd.DataFrame(gsheet.get('values', [])[1:],columns= gsheet.get('values', [])[0:1][0]))\n",
    "\n",
    "df_2019=dfs[0]\n",
    "df_2016=dfs[1]\n",
    "df_2009=dfs[2]\n",
    "df_lisette = dfs[3]"
   ]
  },
  {
   "cell_type": "code",
   "execution_count": 17,
   "metadata": {
    "colab": {
     "base_uri": "https://localhost:8080/",
     "height": 69
    },
    "colab_type": "code",
    "id": "JFsli7phvLmC",
    "outputId": "870e6716-b8af-432b-b88e-1831a8d869d4"
   },
   "outputs": [
    {
     "data": {
      "text/plain": [
       "array(['Fonctionnel', 'Panne', 'En panne', 'Tête de pompe', '2 pompes',\n",
       "       'Privé', '1  Pompe', '', 'Pompe', 'Pompe non', 'Faible débit',\n",
       "       '1 pompe', 'Kalale'], dtype=object)"
      ]
     },
     "execution_count": 17,
     "metadata": {},
     "output_type": "execute_result"
    }
   ],
   "source": [
    "dfs[1][\"Etat de l'ouvrage\"].unique()"
   ]
  },
  {
   "cell_type": "code",
   "execution_count": 0,
   "metadata": {
    "colab": {
     "base_uri": "https://localhost:8080/",
     "height": 173
    },
    "colab_type": "code",
    "id": "f1edXXKuADxS",
    "outputId": "f1147152-5bfc-4c6a-985d-f22e6b7d64ab"
   },
   "outputs": [
    {
     "data": {
      "text/plain": [
       "[Index(['Arrondissement', 'Village', 'Localite', 'Nom_Local', 'Longitude',\n",
       "        'Latitude', 'xCoord', 'yCoord', 'rqtListe_Pompe.Modele_Pompe'],\n",
       "       dtype='object'),\n",
       " Index(['N°', 'Arrondissement', 'Village', 'Localité', 'Hameau',\n",
       "        'Etat de l'ouvrage', 'Redevance', 'Année de réalisation', 'Marque'],\n",
       "       dtype='object'),\n",
       " Index(['Arrondissement', 'Village', 'Localité', 'Population', 'Type d'ouvrage',\n",
       "        'Etat', 'Longitude', 'Latitude', 'Domaine d'installation'],\n",
       "       dtype='object')]"
      ]
     },
     "execution_count": 56,
     "metadata": {
      "tags": []
     },
     "output_type": "execute_result"
    }
   ],
   "source": [
    "[df.columns for df in dfs]\n",
    "#df_2016.head(2)\n",
    "#df_2009.head(2)"
   ]
  },
  {
   "cell_type": "markdown",
   "metadata": {
    "colab_type": "text",
    "id": "xl9ONa9Ot8mL"
   },
   "source": [
    "So common data is:\n",
    "\n",
    "* 2019 vs 2016: Arrondissement, Village, Localite, Marque\n",
    "\n",
    "* 2019 vs 2009: Arrondissement, Village, Localite, Longitude, Latitude\n",
    "\n",
    "* 2009 vs 2016: Arrondissement, Village, Localite, Etat\n",
    "\n",
    "ONLY DATA:\n",
    "\n",
    "* 2019: Nom_Local which is little identifier for more info on pumps\n",
    "\n",
    "* 2016: Année de réalisation, , Redevace, Hameau, which would be kind of the same as Nom_Local\n",
    "\n",
    "* 2009: Population, Type d'ouvrage"
   ]
  },
  {
   "cell_type": "markdown",
   "metadata": {
    "colab_type": "text",
    "id": "misPQG19oIzO"
   },
   "source": [
    "## Process the Data"
   ]
  },
  {
   "cell_type": "markdown",
   "metadata": {
    "colab_type": "text",
    "id": "0DecbYdark5c"
   },
   "source": [
    "### FUZZY TO COMPARE Localites"
   ]
  },
  {
   "cell_type": "code",
   "execution_count": 0,
   "metadata": {
    "colab": {
     "base_uri": "https://localhost:8080/",
     "height": 208
    },
    "colab_type": "code",
    "id": "Oj_z2M2wrnqE",
    "outputId": "a78ea83a-33e5-4de4-9eb0-0376fc915b8b"
   },
   "outputs": [
    {
     "name": "stdout",
     "output_type": "stream",
     "text": [
      "Requirement already satisfied: fuzzywuzzy[speedup] in /usr/local/lib/python3.6/dist-packages (0.17.0)\n",
      "Collecting python-levenshtein>=0.12; extra == \"speedup\" (from fuzzywuzzy[speedup])\n",
      "\u001b[?25l  Downloading https://files.pythonhosted.org/packages/42/a9/d1785c85ebf9b7dfacd08938dd028209c34a0ea3b1bcdb895208bd40a67d/python-Levenshtein-0.12.0.tar.gz (48kB)\n",
      "\u001b[K     |████████████████████████████████| 51kB 22.3MB/s \n",
      "\u001b[?25hRequirement already satisfied: setuptools in /usr/local/lib/python3.6/dist-packages (from python-levenshtein>=0.12; extra == \"speedup\"->fuzzywuzzy[speedup]) (41.0.1)\n",
      "Building wheels for collected packages: python-levenshtein\n",
      "  Building wheel for python-levenshtein (setup.py) ... \u001b[?25l\u001b[?25hdone\n",
      "  Stored in directory: /root/.cache/pip/wheels/de/c2/93/660fd5f7559049268ad2dc6d81c4e39e9e36518766eaf7e342\n",
      "Successfully built python-levenshtein\n",
      "Installing collected packages: python-levenshtein\n",
      "Successfully installed python-levenshtein-0.12.0\n"
     ]
    }
   ],
   "source": [
    "!pip install fuzzywuzzy[speedup]"
   ]
  },
  {
   "cell_type": "code",
   "execution_count": 0,
   "metadata": {
    "colab": {},
    "colab_type": "code",
    "id": "y2-s5poDsNeL"
   },
   "outputs": [],
   "source": [
    "from fuzzywuzzy import fuzz\n",
    "from fuzzywuzzy import process"
   ]
  },
  {
   "cell_type": "code",
   "execution_count": 0,
   "metadata": {
    "colab": {
     "base_uri": "https://localhost:8080/",
     "height": 104
    },
    "colab_type": "code",
    "id": "UI_5YMeNsiDY",
    "outputId": "e7cba08e-996f-468d-a6a1-7b46a123826d"
   },
   "outputs": [
    {
     "data": {
      "text/plain": [
       "[('Ourarou', 100),\n",
       " ('Ourarou', 100),\n",
       " ('Ourarou', 100),\n",
       " ('Ourarou Gberou kpanin', 90),\n",
       " ('Gnelkourarou', 90)]"
      ]
     },
     "execution_count": 52,
     "metadata": {
      "tags": []
     },
     "output_type": "execute_result"
    }
   ],
   "source": [
    "#Example of use\n",
    "choices = df_2016['Localité'].tolist()\n",
    "localite = df_2019.loc[20,'Localite']\n",
    "process.extract(localite, choices, limit=5)\n"
   ]
  },
  {
   "cell_type": "code",
   "execution_count": 0,
   "metadata": {
    "colab": {
     "base_uri": "https://localhost:8080/",
     "height": 52
    },
    "colab_type": "code",
    "id": "nQ00DzmmxSH5",
    "outputId": "187a4565-61a4-4d28-b144-6970f6159398"
   },
   "outputs": [
    {
     "name": "stdout",
     "output_type": "stream",
     "text": [
      "Kparissérou Gando \n",
      " Kparisserou gando\n"
     ]
    }
   ],
   "source": [
    "#another one\n",
    "word1=df_2019.loc[108,'Localite']\n",
    "word2=df_2016.loc[150,'Localité']\n",
    "print(word1,'\\n',word2)"
   ]
  },
  {
   "cell_type": "code",
   "execution_count": 0,
   "metadata": {
    "colab": {
     "base_uri": "https://localhost:8080/",
     "height": 34
    },
    "colab_type": "code",
    "id": "QMvV2q-gxbrw",
    "outputId": "93c38831-c17f-43de-8f1b-d79e13ea045c"
   },
   "outputs": [
    {
     "data": {
      "text/plain": [
       "88"
      ]
     },
     "execution_count": 76,
     "metadata": {
      "tags": []
     },
     "output_type": "execute_result"
    }
   ],
   "source": [
    "fuzz.ratio(word1, word2)"
   ]
  },
  {
   "cell_type": "code",
   "execution_count": 0,
   "metadata": {
    "colab": {
     "base_uri": "https://localhost:8080/",
     "height": 34
    },
    "colab_type": "code",
    "id": "xI42ZzYdyeTt",
    "outputId": "5f224dbd-d1b6-41b2-f6d9-60e6fa3cf592"
   },
   "outputs": [
    {
     "data": {
      "text/plain": [
       "88"
      ]
     },
     "execution_count": 78,
     "metadata": {
      "tags": []
     },
     "output_type": "execute_result"
    }
   ],
   "source": [
    "word1=word1+'!'\n",
    "fuzz.partial_ratio(word1, word2)"
   ]
  },
  {
   "cell_type": "code",
   "execution_count": 0,
   "metadata": {
    "colab": {
     "base_uri": "https://localhost:8080/",
     "height": 34
    },
    "colab_type": "code",
    "id": "uszE38yXyluT",
    "outputId": "2164dd73-8210-4750-eae2-51a9b3543f59"
   },
   "outputs": [
    {
     "data": {
      "text/plain": [
       "86"
      ]
     },
     "execution_count": 79,
     "metadata": {
      "tags": []
     },
     "output_type": "execute_result"
    }
   ],
   "source": [
    "fuzz.ratio(word1, word2)"
   ]
  },
  {
   "cell_type": "code",
   "execution_count": 0,
   "metadata": {
    "colab": {
     "base_uri": "https://localhost:8080/",
     "height": 104
    },
    "colab_type": "code",
    "id": "fLXUlMOt0fip",
    "outputId": "32f37258-1f30-4062-8835-ac83fd48fec7"
   },
   "outputs": [
    {
     "data": {
      "text/plain": [
       "[('Gando Gourou', 100, 329),\n",
       " ('Gourou', 90, 109),\n",
       " ('Gourou', 90, 110),\n",
       " ('Gourou', 90, 111),\n",
       " ('Dèh Gando', 86, 172)]"
      ]
     },
     "execution_count": 114,
     "metadata": {
      "tags": []
     },
     "output_type": "execute_result"
    }
   ],
   "source": [
    "process.extract('Gando Gourou', df_2019['Localite'], limit=5)\n"
   ]
  },
  {
   "cell_type": "code",
   "execution_count": 0,
   "metadata": {
    "colab": {
     "base_uri": "https://localhost:8080/",
     "height": 52
    },
    "colab_type": "code",
    "id": "5l3U4bPTzjQA",
    "outputId": "ba6d962a-7255-4f50-ee8d-f05edb103215"
   },
   "outputs": [
    {
     "name": "stdout",
     "output_type": "stream",
     "text": [
      "Gando Gourou \n",
      " Ganrou gando\n"
     ]
    }
   ],
   "source": [
    "#last one\n",
    "word1=df_2019.loc[329,'Localite']\n",
    "word2=df_2016.loc[270,'Localité']\n",
    "print(word1,'\\n',word2)"
   ]
  },
  {
   "cell_type": "code",
   "execution_count": 0,
   "metadata": {
    "colab": {
     "base_uri": "https://localhost:8080/",
     "height": 34
    },
    "colab_type": "code",
    "id": "vfc0Pjm-zvNv",
    "outputId": "712dc555-eee0-43f4-bd33-9b38c0da0d1f"
   },
   "outputs": [
    {
     "data": {
      "text/plain": [
       "42"
      ]
     },
     "execution_count": 102,
     "metadata": {
      "tags": []
     },
     "output_type": "execute_result"
    }
   ],
   "source": [
    "fuzz.ratio(word1, word2)"
   ]
  },
  {
   "cell_type": "code",
   "execution_count": 0,
   "metadata": {
    "colab": {
     "base_uri": "https://localhost:8080/",
     "height": 34
    },
    "colab_type": "code",
    "id": "YO11EVMVzy3o",
    "outputId": "d8bcfb2f-0fab-436d-a3a9-0e1f6b598986"
   },
   "outputs": [
    {
     "data": {
      "text/plain": [
       "83"
      ]
     },
     "execution_count": 103,
     "metadata": {
      "tags": []
     },
     "output_type": "execute_result"
    }
   ],
   "source": [
    "fuzz.token_sort_ratio(word1, word2)"
   ]
  },
  {
   "cell_type": "markdown",
   "metadata": {
    "colab_type": "text",
    "id": "3u48Pkw7wkag"
   },
   "source": [
    "### LETS CLEAN THE DATA"
   ]
  },
  {
   "cell_type": "markdown",
   "metadata": {
    "colab_type": "text",
    "id": "31jD9gsH1daO"
   },
   "source": [
    "#### Functions"
   ]
  },
  {
   "cell_type": "code",
   "execution_count": 0,
   "metadata": {
    "colab": {},
    "colab_type": "code",
    "id": "mHAt1GY81guW"
   },
   "outputs": [],
   "source": [
    "#Marques des Pompes\n",
    "def marques(x,name,name2):\n",
    "  marque='NA'\n",
    "  \n",
    "  if x[name]:\n",
    "    if bool(re.search('ergnet',x[name].lower())):\n",
    "      marque='Vergnet'\n",
    "    elif bool(re.search('ndia',x[name].lower())):\n",
    "      marque='India'\n",
    "    elif bool(re.search('afri',x[name].lower())):\n",
    "      marque='Afridev'\n",
    "  elif x[name2]:\n",
    "    if bool(re.search('moteur',x[name2].lower())):\n",
    "      marque='pompe_a_moteur'\n",
    "  return marque"
   ]
  },
  {
   "cell_type": "code",
   "execution_count": 0,
   "metadata": {
    "colab": {},
    "colab_type": "code",
    "id": "y99B2ff51ln5"
   },
   "outputs": [],
   "source": [
    "#Years\n",
    "def getyear(x):\n",
    "  year=None\n",
    "  if x['Année de réalisation']:\n",
    "    for s in x['Année de réalisation'].split():\n",
    "      if s.isdigit():\n",
    "         year=int(s)\n",
    "    if year==None:\n",
    "      return year\n",
    "    elif year >2019:\n",
    "      #print(year)\n",
    "      year=2010\n",
    "      return year\n",
    "    elif year > 100:\n",
    "      return int(year)\n",
    "    elif year >70:\n",
    "      year=int('19'+str(year))\n",
    "      return int(year)\n",
    "    else:\n",
    "      year=None\n",
    "    \n",
    "  return year"
   ]
  },
  {
   "cell_type": "code",
   "execution_count": 0,
   "metadata": {
    "colab": {},
    "colab_type": "code",
    "id": "IVw7BytI1rGk"
   },
   "outputs": [],
   "source": [
    "'''\n",
    "Function to change latitude/longitude data from degrees,minutes and seconds into decimals\n",
    "'''\n",
    "def decimals_lat_lon(x,lat):\n",
    "  coord=None\n",
    "  if x[lat]:\n",
    "    if len(x[lat])>2:\n",
    "      if len(re.split('[°\\'\"]', x[lat])) == 4 :\n",
    "        \n",
    "        #gets all the parts of the coordinates into different elements of a vector\n",
    "        deg, minutes, seconds, direction =  re.split('[°\\'\"]', x[lat])\n",
    "        \n",
    "        #had to put replace commas because of data of 2009\n",
    "        coord=(float(deg) + float(minutes.replace(\",\",\".\"))/60 + float(seconds.replace(\",\",\".\"))/(60*60)) * (-1 if direction in ['W', 'S'] else 1)\n",
    "      elif len(re.split('[°\\'\"]', x[lat])) > 0:\n",
    "        coord=x[lat]\n",
    "        print(coord)\n",
    "  else:\n",
    "    coord=None\n",
    "    print(coord)\n",
    "  return coord"
   ]
  },
  {
   "cell_type": "markdown",
   "metadata": {
    "colab_type": "text",
    "id": "zubT2jcrwt3s"
   },
   "source": [
    "#### Begin with 2019"
   ]
  },
  {
   "cell_type": "code",
   "execution_count": 0,
   "metadata": {
    "colab": {
     "base_uri": "https://localhost:8080/",
     "height": 52
    },
    "colab_type": "code",
    "id": "Nj7TkvBBAFYL",
    "outputId": "ace91e75-ded5-4307-e1aa-c0ed3e6688b1"
   },
   "outputs": [
    {
     "name": "stdout",
     "output_type": "stream",
     "text": [
      "None\n",
      "None\n"
     ]
    }
   ],
   "source": [
    "#Create decimals from degrees latitude\n",
    "df_2019['Latitude_decimals']=df_2019.apply(lambda x: decimals_lat_lon(x,'Latitude'),axis=1)"
   ]
  },
  {
   "cell_type": "code",
   "execution_count": 0,
   "metadata": {
    "colab": {
     "base_uri": "https://localhost:8080/",
     "height": 52
    },
    "colab_type": "code",
    "id": "SSPsnn5SnW9G",
    "outputId": "febd4935-cbc8-4134-b9d2-cd335cb090f8"
   },
   "outputs": [
    {
     "name": "stdout",
     "output_type": "stream",
     "text": [
      "None\n",
      "None\n"
     ]
    }
   ],
   "source": [
    "df_2019['Longitude_decimals']=df_2019.apply(lambda x: decimals_lat_lon(x,'Longitude'),axis=1)"
   ]
  },
  {
   "cell_type": "code",
   "execution_count": 0,
   "metadata": {
    "colab": {},
    "colab_type": "code",
    "id": "P4rX9UKBwsxk"
   },
   "outputs": [],
   "source": [
    "df_2019_filtered = df_2019[['Arrondissement', 'Village','Localite', 'Longitude_decimals',\n",
    "        'Latitude_decimals', 'rqtListe_Pompe.Modele_Pompe']]\n",
    "df_2019_filtered.columns = ['Arrondissement', 'Village','Localite', 'Longitude',\n",
    "        'Latitude', 'Marque']"
   ]
  },
  {
   "cell_type": "code",
   "execution_count": 0,
   "metadata": {
    "colab": {
     "base_uri": "https://localhost:8080/",
     "height": 156
    },
    "colab_type": "code",
    "id": "hOzHn44212R5",
    "outputId": "92788f5b-6ee3-4301-8948-130b2d37d88f"
   },
   "outputs": [
    {
     "name": "stderr",
     "output_type": "stream",
     "text": [
      "/usr/local/lib/python3.6/dist-packages/ipykernel_launcher.py:1: SettingWithCopyWarning:\n",
      "\n",
      "\n",
      "A value is trying to be set on a copy of a slice from a DataFrame.\n",
      "Try using .loc[row_indexer,col_indexer] = value instead\n",
      "\n",
      "See the caveats in the documentation: http://pandas.pydata.org/pandas-docs/stable/indexing.html#indexing-view-versus-copy\n",
      "\n"
     ]
    }
   ],
   "source": [
    "df_2019_filtered['Marque']=df_2019_filtered.apply(lambda x: marques(x,\"Marque\"),axis=1)"
   ]
  },
  {
   "cell_type": "code",
   "execution_count": 0,
   "metadata": {
    "colab": {},
    "colab_type": "code",
    "id": "xdQSTE8x3mPy"
   },
   "outputs": [],
   "source": [
    "l_2019_local = df_2019_filtered['Localite'].sort_values().tolist()\n",
    "\n",
    "index = []\n",
    "j=1\n",
    "for i,local in enumerate(l_2019_local):\n",
    "  if i == 0:\n",
    "    j=1\n",
    "    word = local+' '+str(j)\n",
    "    word=word.replace(' ','_')\n",
    "    index.append(word)\n",
    "    continue\n",
    "  if l_2019_local[i-1] == local:\n",
    "      j+=1\n",
    "      word = local+' '+str(j)\n",
    "      word=word.replace(' ','_')\n",
    "      index.append(word)\n",
    "  else:\n",
    "      j=1\n",
    "      word = local+' '+str(j)\n",
    "      word=word.replace(' ','_')\n",
    "      index.append(word)"
   ]
  },
  {
   "cell_type": "code",
   "execution_count": 0,
   "metadata": {
    "colab": {},
    "colab_type": "code",
    "id": "h48OMF1ABI44"
   },
   "outputs": [],
   "source": [
    "df_2019_filtered=df_2019_filtered.sort_values('Localite')"
   ]
  },
  {
   "cell_type": "code",
   "execution_count": 0,
   "metadata": {
    "colab": {},
    "colab_type": "code",
    "id": "KQzRvxSw3cWx"
   },
   "outputs": [],
   "source": [
    "df_2019_filtered['index'] = index"
   ]
  },
  {
   "cell_type": "code",
   "execution_count": 0,
   "metadata": {
    "colab": {},
    "colab_type": "code",
    "id": "47YefexP7nIB"
   },
   "outputs": [],
   "source": [
    "df_2019_filtered=df_2019_filtered.set_index('index')"
   ]
  },
  {
   "cell_type": "code",
   "execution_count": 0,
   "metadata": {
    "colab": {},
    "colab_type": "code",
    "id": "ofrIxt4CAILM"
   },
   "outputs": [],
   "source": [
    "#convert to dictionary\n",
    "dict_2019 = df_2019_filtered.to_dict('index')\n",
    "dict_2019 = [{k: v} for k, v in dict_2019.items()]"
   ]
  },
  {
   "cell_type": "markdown",
   "metadata": {
    "colab_type": "text",
    "id": "J4X-N-uZAPug"
   },
   "source": [
    "##Process data of Lisette"
   ]
  },
  {
   "cell_type": "code",
   "execution_count": 10,
   "metadata": {
    "colab": {
     "base_uri": "https://localhost:8080/",
     "height": 235
    },
    "colab_type": "code",
    "id": "YblZBJKyAWji",
    "outputId": "171bb22b-4ad8-4cd9-c0af-ec2d865f8e6b"
   },
   "outputs": [
    {
     "data": {
      "text/html": [
       "<div>\n",
       "<style scoped>\n",
       "    .dataframe tbody tr th:only-of-type {\n",
       "        vertical-align: middle;\n",
       "    }\n",
       "\n",
       "    .dataframe tbody tr th {\n",
       "        vertical-align: top;\n",
       "    }\n",
       "\n",
       "    .dataframe thead th {\n",
       "        text-align: right;\n",
       "    }\n",
       "</style>\n",
       "<table border=\"1\" class=\"dataframe\">\n",
       "  <thead>\n",
       "    <tr style=\"text-align: right;\">\n",
       "      <th></th>\n",
       "      <th>Departement</th>\n",
       "      <th>Commune</th>\n",
       "      <th>Arrondissement</th>\n",
       "      <th>Village</th>\n",
       "      <th>Localite</th>\n",
       "      <th>Nom_Local</th>\n",
       "      <th>Longitude</th>\n",
       "      <th>Latitude</th>\n",
       "      <th>xCoord</th>\n",
       "      <th>yCoord</th>\n",
       "      <th>Type_Exhaure</th>\n",
       "      <th>Modele_Pompe</th>\n",
       "    </tr>\n",
       "  </thead>\n",
       "  <tbody>\n",
       "    <tr>\n",
       "      <th>0</th>\n",
       "      <td>BORGOU</td>\n",
       "      <td>NIKKI</td>\n",
       "      <td>BIRO</td>\n",
       "      <td>BIRO</td>\n",
       "      <td>BIRO NOUKOUROU</td>\n",
       "      <td></td>\n",
       "      <td>02°56'50.96\"E</td>\n",
       "      <td>09°54'18.50\"N</td>\n",
       "      <td>2.947489</td>\n",
       "      <td>9.905139</td>\n",
       "      <td>PMH</td>\n",
       "      <td>VERGNET 4C</td>\n",
       "    </tr>\n",
       "    <tr>\n",
       "      <th>1</th>\n",
       "      <td>BORGOU</td>\n",
       "      <td>NIKKI</td>\n",
       "      <td>BIRO</td>\n",
       "      <td>BIRO</td>\n",
       "      <td>GOUTTO</td>\n",
       "      <td></td>\n",
       "      <td>02°56'47.38\"E</td>\n",
       "      <td>09°54'59.99\"N</td>\n",
       "      <td>2.946494</td>\n",
       "      <td>9.916664</td>\n",
       "      <td>PMH</td>\n",
       "      <td>VERGNET 4D</td>\n",
       "    </tr>\n",
       "    <tr>\n",
       "      <th>2</th>\n",
       "      <td>BORGOU</td>\n",
       "      <td>NIKKI</td>\n",
       "      <td>BIRO</td>\n",
       "      <td>BIRO</td>\n",
       "      <td>SARAVONDO</td>\n",
       "      <td></td>\n",
       "      <td>02°58'29.33\"E</td>\n",
       "      <td>09°54'13.30\"N</td>\n",
       "      <td>2.974814</td>\n",
       "      <td>9.903694</td>\n",
       "      <td>PMH</td>\n",
       "      <td>VERGNET 4D</td>\n",
       "    </tr>\n",
       "    <tr>\n",
       "      <th>3</th>\n",
       "      <td>BORGOU</td>\n",
       "      <td>NIKKI</td>\n",
       "      <td>BIRO</td>\n",
       "      <td>BIRO</td>\n",
       "      <td>MADINA</td>\n",
       "      <td></td>\n",
       "      <td>02°56'44.34\"E</td>\n",
       "      <td>09°54'02.71\"N</td>\n",
       "      <td>2.94565</td>\n",
       "      <td>9.900753</td>\n",
       "      <td>PMH</td>\n",
       "      <td>VERGNET 4C</td>\n",
       "    </tr>\n",
       "    <tr>\n",
       "      <th>4</th>\n",
       "      <td>BORGOU</td>\n",
       "      <td>NIKKI</td>\n",
       "      <td>BIRO</td>\n",
       "      <td>BIRO</td>\n",
       "      <td>MADINA</td>\n",
       "      <td></td>\n",
       "      <td>02°56'46.83\"E</td>\n",
       "      <td>09°54'01.55\"N</td>\n",
       "      <td>2.946342</td>\n",
       "      <td>9.900431</td>\n",
       "      <td>PMH</td>\n",
       "      <td>VERGNET 4C</td>\n",
       "    </tr>\n",
       "  </tbody>\n",
       "</table>\n",
       "</div>"
      ],
      "text/plain": [
       "  Departement Commune Arrondissement  ...    yCoord Type_Exhaure Modele_Pompe\n",
       "0      BORGOU   NIKKI           BIRO  ...  9.905139          PMH   VERGNET 4C\n",
       "1      BORGOU   NIKKI           BIRO  ...  9.916664          PMH   VERGNET 4D\n",
       "2      BORGOU   NIKKI           BIRO  ...  9.903694          PMH   VERGNET 4D\n",
       "3      BORGOU   NIKKI           BIRO  ...  9.900753          PMH   VERGNET 4C\n",
       "4      BORGOU   NIKKI           BIRO  ...  9.900431          PMH   VERGNET 4C\n",
       "\n",
       "[5 rows x 12 columns]"
      ]
     },
     "execution_count": 10,
     "metadata": {
      "tags": []
     },
     "output_type": "execute_result"
    }
   ],
   "source": [
    "df_lisette.head()"
   ]
  },
  {
   "cell_type": "code",
   "execution_count": 0,
   "metadata": {
    "colab": {},
    "colab_type": "code",
    "id": "7dKkdv3AAbvr"
   },
   "outputs": [],
   "source": [
    "#Create decimals from degrees latitude\n",
    "df_lisette['Latitude_decimals']=df_lisette.apply(lambda x: decimals_lat_lon(x,'Latitude'),axis=1)"
   ]
  },
  {
   "cell_type": "code",
   "execution_count": 0,
   "metadata": {
    "colab": {},
    "colab_type": "code",
    "id": "phQupZuxAo0u"
   },
   "outputs": [],
   "source": [
    "df_lisette['Longitude_decimals']=df_lisette.apply(lambda x: decimals_lat_lon(x,'Longitude'),axis=1)"
   ]
  },
  {
   "cell_type": "code",
   "execution_count": 0,
   "metadata": {
    "colab": {},
    "colab_type": "code",
    "id": "pKPEE8PCBMWA"
   },
   "outputs": [],
   "source": [
    "df_lisette['Marque']=df_lisette.apply(lambda x: marques(x,\"Modele_Pompe\",\"Type_Exhaure\"),axis=1)"
   ]
  },
  {
   "cell_type": "code",
   "execution_count": 49,
   "metadata": {
    "colab": {
     "base_uri": "https://localhost:8080/",
     "height": 248
    },
    "colab_type": "code",
    "id": "SI_QCtuuFXmt",
    "outputId": "98fbd1bf-e213-4cde-c042-27de66dd7c04"
   },
   "outputs": [
    {
     "data": {
      "text/html": [
       "<div>\n",
       "<style scoped>\n",
       "    .dataframe tbody tr th:only-of-type {\n",
       "        vertical-align: middle;\n",
       "    }\n",
       "\n",
       "    .dataframe tbody tr th {\n",
       "        vertical-align: top;\n",
       "    }\n",
       "\n",
       "    .dataframe thead th {\n",
       "        text-align: right;\n",
       "    }\n",
       "</style>\n",
       "<table border=\"1\" class=\"dataframe\">\n",
       "  <thead>\n",
       "    <tr style=\"text-align: right;\">\n",
       "      <th></th>\n",
       "      <th>Departement</th>\n",
       "      <th>Commune</th>\n",
       "      <th>Arrondissement</th>\n",
       "      <th>Village</th>\n",
       "      <th>Localite</th>\n",
       "      <th>Nom_Local</th>\n",
       "      <th>Longitude</th>\n",
       "      <th>Latitude</th>\n",
       "      <th>xCoord</th>\n",
       "      <th>yCoord</th>\n",
       "      <th>Type_Exhaure</th>\n",
       "      <th>Modele_Pompe</th>\n",
       "      <th>Latitude_decimals</th>\n",
       "      <th>Longitude_decimals</th>\n",
       "    </tr>\n",
       "    <tr>\n",
       "      <th>Marque</th>\n",
       "      <th></th>\n",
       "      <th></th>\n",
       "      <th></th>\n",
       "      <th></th>\n",
       "      <th></th>\n",
       "      <th></th>\n",
       "      <th></th>\n",
       "      <th></th>\n",
       "      <th></th>\n",
       "      <th></th>\n",
       "      <th></th>\n",
       "      <th></th>\n",
       "      <th></th>\n",
       "      <th></th>\n",
       "    </tr>\n",
       "  </thead>\n",
       "  <tbody>\n",
       "    <tr>\n",
       "      <th>Afridev</th>\n",
       "      <td>33</td>\n",
       "      <td>33</td>\n",
       "      <td>33</td>\n",
       "      <td>33</td>\n",
       "      <td>33</td>\n",
       "      <td>33</td>\n",
       "      <td>33</td>\n",
       "      <td>33</td>\n",
       "      <td>33</td>\n",
       "      <td>33</td>\n",
       "      <td>33</td>\n",
       "      <td>33</td>\n",
       "      <td>33</td>\n",
       "      <td>33</td>\n",
       "    </tr>\n",
       "    <tr>\n",
       "      <th>India</th>\n",
       "      <td>95</td>\n",
       "      <td>95</td>\n",
       "      <td>95</td>\n",
       "      <td>95</td>\n",
       "      <td>95</td>\n",
       "      <td>95</td>\n",
       "      <td>95</td>\n",
       "      <td>95</td>\n",
       "      <td>95</td>\n",
       "      <td>95</td>\n",
       "      <td>95</td>\n",
       "      <td>95</td>\n",
       "      <td>95</td>\n",
       "      <td>95</td>\n",
       "    </tr>\n",
       "    <tr>\n",
       "      <th>NA</th>\n",
       "      <td>4</td>\n",
       "      <td>4</td>\n",
       "      <td>4</td>\n",
       "      <td>4</td>\n",
       "      <td>4</td>\n",
       "      <td>4</td>\n",
       "      <td>4</td>\n",
       "      <td>4</td>\n",
       "      <td>4</td>\n",
       "      <td>4</td>\n",
       "      <td>3</td>\n",
       "      <td>0</td>\n",
       "      <td>4</td>\n",
       "      <td>4</td>\n",
       "    </tr>\n",
       "    <tr>\n",
       "      <th>Vergnet</th>\n",
       "      <td>253</td>\n",
       "      <td>253</td>\n",
       "      <td>253</td>\n",
       "      <td>253</td>\n",
       "      <td>253</td>\n",
       "      <td>253</td>\n",
       "      <td>253</td>\n",
       "      <td>253</td>\n",
       "      <td>253</td>\n",
       "      <td>253</td>\n",
       "      <td>253</td>\n",
       "      <td>253</td>\n",
       "      <td>253</td>\n",
       "      <td>253</td>\n",
       "    </tr>\n",
       "    <tr>\n",
       "      <th>pompe_a_moteur</th>\n",
       "      <td>14</td>\n",
       "      <td>14</td>\n",
       "      <td>14</td>\n",
       "      <td>14</td>\n",
       "      <td>14</td>\n",
       "      <td>14</td>\n",
       "      <td>14</td>\n",
       "      <td>14</td>\n",
       "      <td>14</td>\n",
       "      <td>14</td>\n",
       "      <td>14</td>\n",
       "      <td>0</td>\n",
       "      <td>14</td>\n",
       "      <td>14</td>\n",
       "    </tr>\n",
       "  </tbody>\n",
       "</table>\n",
       "</div>"
      ],
      "text/plain": [
       "                Departement  Commune  ...  Latitude_decimals  Longitude_decimals\n",
       "Marque                                ...                                       \n",
       "Afridev                  33       33  ...                 33                  33\n",
       "India                    95       95  ...                 95                  95\n",
       "NA                        4        4  ...                  4                   4\n",
       "Vergnet                 253      253  ...                253                 253\n",
       "pompe_a_moteur           14       14  ...                 14                  14\n",
       "\n",
       "[5 rows x 14 columns]"
      ]
     },
     "execution_count": 49,
     "metadata": {
      "tags": []
     },
     "output_type": "execute_result"
    }
   ],
   "source": [
    "df_lisette.groupby(\"Marque\",axis=0).count()"
   ]
  },
  {
   "cell_type": "markdown",
   "metadata": {
    "colab_type": "text",
    "id": "efr3I_1SBIdd"
   },
   "source": [
    "###Analysis to check"
   ]
  },
  {
   "cell_type": "markdown",
   "metadata": {
    "colab_type": "text",
    "id": "UYAROYlxA_HE"
   },
   "source": [
    "###How many villages have pompes"
   ]
  },
  {
   "cell_type": "code",
   "execution_count": 15,
   "metadata": {
    "colab": {
     "base_uri": "https://localhost:8080/",
     "height": 35
    },
    "colab_type": "code",
    "id": "Vr3RaSkjAsX6",
    "outputId": "b0c3b310-5d03-406b-f2ef-8ba6e6d9caa9"
   },
   "outputs": [
    {
     "data": {
      "text/plain": [
       "277"
      ]
     },
     "execution_count": 15,
     "metadata": {
      "tags": []
     },
     "output_type": "execute_result"
    }
   ],
   "source": [
    "len(df_lisette.groupby(\"Localite\",axis=0).count())"
   ]
  },
  {
   "cell_type": "code",
   "execution_count": 17,
   "metadata": {
    "colab": {
     "base_uri": "https://localhost:8080/",
     "height": 35
    },
    "colab_type": "code",
    "id": "fOSYZXc-A5-k",
    "outputId": "f46ee963-cf7f-49f2-c045-be87309068aa"
   },
   "outputs": [
    {
     "data": {
      "text/plain": [
       "326"
      ]
     },
     "execution_count": 17,
     "metadata": {
      "tags": []
     },
     "output_type": "execute_result"
    }
   ],
   "source": [
    "len(df_2009.groupby(\"Localité\",axis=0).count())"
   ]
  },
  {
   "cell_type": "markdown",
   "metadata": {
    "colab_type": "text",
    "id": "WppikOLvBHTo"
   },
   "source": [
    "#VILLAGES\n"
   ]
  },
  {
   "cell_type": "code",
   "execution_count": 0,
   "metadata": {
    "colab": {},
    "colab_type": "code",
    "id": "o2TtbNgfU8Ek"
   },
   "outputs": [],
   "source": [
    "#get data of RPGH4\n",
    "RANGE_NAME = 'Sheet1'\n",
    "\n",
    "gsheet = sheet_service.spreadsheets().values().get(spreadsheetId=ID6, range=RANGE_NAME).execute()\n",
    "\n",
    "df_rpgh4 = pd.DataFrame(gsheet.get('values', [])[1:],columns= gsheet.get('values', [])[0:1][0])"
   ]
  },
  {
   "cell_type": "markdown",
   "metadata": {
    "colab_type": "text",
    "id": "foQ0UVXYW8ce"
   },
   "source": [
    "##State DB"
   ]
  },
  {
   "cell_type": "code",
   "execution_count": 0,
   "metadata": {
    "colab": {},
    "colab_type": "code",
    "id": "cIiGSVdAVMAF"
   },
   "outputs": [],
   "source": [
    "df_dep = df_rpgh4[df_rpgh4['Divison administrative'].str[0:4] == 'DEP:'].copy()"
   ]
  },
  {
   "cell_type": "code",
   "execution_count": 0,
   "metadata": {
    "colab": {},
    "colab_type": "code",
    "id": "xsVd792NV5MM"
   },
   "outputs": [],
   "source": [
    "df_dep=df_dep.reset_index()"
   ]
  },
  {
   "cell_type": "code",
   "execution_count": 0,
   "metadata": {
    "colab": {},
    "colab_type": "code",
    "id": "Q8ZZD-TNV_Ib"
   },
   "outputs": [],
   "source": [
    "df_dep['Departement'] = df_dep.apply(lambda x: x['Divison administrative'][5:], axis=1)"
   ]
  },
  {
   "cell_type": "code",
   "execution_count": 0,
   "metadata": {
    "colab": {},
    "colab_type": "code",
    "id": "oH3YqW2_Wr3t"
   },
   "outputs": [],
   "source": [
    "df_dep=df_dep.sort_values('Departement')"
   ]
  },
  {
   "cell_type": "code",
   "execution_count": 0,
   "metadata": {
    "colab": {},
    "colab_type": "code",
    "id": "sfKCMW-9XEcr"
   },
   "outputs": [],
   "source": [
    "df_dep = df_dep[['Departement','Total','Masculin','Feminin']]"
   ]
  },
  {
   "cell_type": "markdown",
   "metadata": {
    "colab_type": "text",
    "id": "99Z9fXCkZ3yq"
   },
   "source": [
    "### get localisation from geocoder"
   ]
  },
  {
   "cell_type": "code",
   "execution_count": 0,
   "metadata": {
    "colab": {},
    "colab_type": "code",
    "id": "bE5nWUOmXQE1"
   },
   "outputs": [],
   "source": [
    "#!pip install geocoder"
   ]
  },
  {
   "cell_type": "code",
   "execution_count": 0,
   "metadata": {
    "colab": {},
    "colab_type": "code",
    "id": "bQ5BoT-Uay2t"
   },
   "outputs": [],
   "source": [
    "import geocoder"
   ]
  },
  {
   "cell_type": "code",
   "execution_count": 0,
   "metadata": {
    "colab": {},
    "colab_type": "code",
    "id": "iAo9JCuEd7xS"
   },
   "outputs": [],
   "source": [
    "def get_coor(x):\n",
    "  g=geocoder.geonames(x['Departement']+' Benin',key='5danalfaro')\n",
    "  return [g.lat,g.lng]"
   ]
  },
  {
   "cell_type": "code",
   "execution_count": 0,
   "metadata": {
    "colab": {},
    "colab_type": "code",
    "id": "pvHHzpoddcoj"
   },
   "outputs": [],
   "source": [
    "df_dep['Coordinates'] = df_dep.apply(lambda x: get_coor(x),axis=1)"
   ]
  },
  {
   "cell_type": "code",
   "execution_count": 0,
   "metadata": {
    "colab": {},
    "colab_type": "code",
    "id": "yz_yRRpEeeAi"
   },
   "outputs": [],
   "source": [
    "df_dep['Latitude'] = df_dep.apply(lambda x: x['Coordinates'][0],axis=1)"
   ]
  },
  {
   "cell_type": "code",
   "execution_count": 0,
   "metadata": {
    "colab": {},
    "colab_type": "code",
    "id": "GnYy8J4jekv7"
   },
   "outputs": [],
   "source": [
    "df_dep['Longitude'] = df_dep.apply(lambda x: x['Coordinates'][1],axis=1)"
   ]
  },
  {
   "cell_type": "code",
   "execution_count": 0,
   "metadata": {
    "colab": {},
    "colab_type": "code",
    "id": "qb9JrbCUgiqq"
   },
   "outputs": [],
   "source": [
    "df_dep=df_dep[['Departement','Latitude','Longitude','Total']]"
   ]
  },
  {
   "cell_type": "code",
   "execution_count": 0,
   "metadata": {
    "colab": {},
    "colab_type": "code",
    "id": "GEN_-sRRg93r"
   },
   "outputs": [],
   "source": [
    "df_dep.columns = ['Name','Latitude','Longitude','Population']"
   ]
  },
  {
   "cell_type": "markdown",
   "metadata": {
    "colab_type": "text",
    "id": "1pEkDh9Ef9X0"
   },
   "source": [
    "Check if everything is okay, exported to csv and uploaded to google mymaps"
   ]
  },
  {
   "cell_type": "code",
   "execution_count": 0,
   "metadata": {
    "colab": {},
    "colab_type": "code",
    "id": "izoBpzY1epjN"
   },
   "outputs": [],
   "source": [
    "df_dep.to_csv('dep.csv')"
   ]
  },
  {
   "cell_type": "markdown",
   "metadata": {
    "colab_type": "text",
    "id": "NNAu43dLgDZD"
   },
   "source": [
    "https://drive.google.com/open?id=1yJeiKBrO8j9GE10wYyRmjnQqxufG-YT0&usp=sharing all alright"
   ]
  },
  {
   "cell_type": "code",
   "execution_count": 0,
   "metadata": {
    "colab": {},
    "colab_type": "code",
    "id": "39FtseJzglfY"
   },
   "outputs": [],
   "source": [
    "#convert to dictionary\n",
    "states = df_dep.to_dict('index')\n",
    "#states = [{k: v} for k, v in dict_2019.items()]"
   ]
  },
  {
   "cell_type": "code",
   "execution_count": 0,
   "metadata": {
    "colab": {},
    "colab_type": "code",
    "id": "lshPuyhchezO"
   },
   "outputs": [],
   "source": [
    "states_dict = [{k: v} for k, v in states.items()] "
   ]
  },
  {
   "cell_type": "code",
   "execution_count": 0,
   "metadata": {
    "colab": {},
    "colab_type": "code",
    "id": "62NpbY85hwnR"
   },
   "outputs": [],
   "source": [
    "states_l_dict = []\n",
    "for data in states_dict:\n",
    "  id=list(data.keys())[0]\n",
    "  new_data={'Name':data[id]['Name'],\n",
    "            'Coordinates':{\n",
    "                'Longitude':data[id]['Longitude'],\n",
    "                'Latitude':data[id]['Latitude']},\n",
    "            'Population':data[id]['Population']}\n",
    "  states_l_dict.append(new_data)"
   ]
  },
  {
   "cell_type": "markdown",
   "metadata": {
    "colab_type": "text",
    "id": "7z2RTV4GFqgg"
   },
   "source": [
    "#### upload to Firebase STATES"
   ]
  },
  {
   "cell_type": "code",
   "execution_count": 0,
   "metadata": {
    "colab": {},
    "colab_type": "code",
    "id": "zDmZqjfTARzg"
   },
   "outputs": [],
   "source": [
    "for data in states_l_dict:\n",
    "  db.collection(u'LocationsDB').add(data)"
   ]
  },
  {
   "cell_type": "code",
   "execution_count": 0,
   "metadata": {
    "colab": {},
    "colab_type": "code",
    "id": "h8BaxT51mBI3"
   },
   "outputs": [],
   "source": []
  }
 ],
 "metadata": {
  "accelerator": "GPU",
  "colab": {
   "collapsed_sections": [],
   "include_colab_link": true,
   "name": "estructurar_bbdd_y_subir_a_firebase.ipynb",
   "provenance": [],
   "version": "0.3.2"
  },
  "kernelspec": {
   "display_name": "Python 3",
   "language": "python",
   "name": "python3"
  },
  "language_info": {
   "codemirror_mode": {
    "name": "ipython",
    "version": 3
   },
   "file_extension": ".py",
   "mimetype": "text/x-python",
   "name": "python",
   "nbconvert_exporter": "python",
   "pygments_lexer": "ipython3",
   "version": "3.7.3"
  }
 },
 "nbformat": 4,
 "nbformat_minor": 1
}
