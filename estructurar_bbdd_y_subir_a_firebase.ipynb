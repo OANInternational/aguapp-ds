{
 "cells": [
  {
   "cell_type": "markdown",
   "metadata": {
    "colab": {
     "base_uri": "https://localhost:8080/",
     "height": 34
    },
    "colab_type": "code",
    "id": "YLlHkfPNlSv1",
    "outputId": "a97dc925-4566-4442-e73e-fa0f72244536"
   },
   "source": [
    "# IMPORTS"
   ]
  },
  {
   "cell_type": "code",
   "execution_count": 22,
   "metadata": {
    "colab": {},
    "colab_type": "code",
    "id": "9KAdA-R8xKw5"
   },
   "outputs": [],
   "source": [
    "import yaml\n",
    "import firebase_admin\n",
    "import plotly\n",
    "import plotly.plotly as py\n",
    "import numpy as np\n",
    "import re\n",
    "\n",
    "import pandas as pd\n",
    "\n",
    "import geocoder\n",
    "\n",
    "\n",
    "import gspread\n",
    "import httplib2\n",
    "import os, io\n",
    "import argparse\n",
    "import auth\n",
    "\n",
    "\n",
    "from firebase_admin import credentials\n",
    "from firebase_admin import firestore\n",
    "\n",
    "\n",
    "from httplib2 import Http\n",
    "from oauth2client import file,client, tools\n",
    "from googleapiclient import discovery\n",
    "from googleapiclient.http import MediaFileUpload, MediaIoBaseDownload\n",
    "from oauth2client.service_account import ServiceAccountCredentials\n",
    "\n",
    "\n",
    "\n",
    "from fuzzywuzzy import fuzz\n",
    "from fuzzywuzzy import process"
   ]
  },
  {
   "cell_type": "markdown",
   "metadata": {
    "colab_type": "text",
    "id": "iA76tKgbnBvj"
   },
   "source": [
    "# CONNECT TO FIREBASE"
   ]
  },
  {
   "cell_type": "code",
   "execution_count": 2,
   "metadata": {
    "colab": {},
    "colab_type": "code",
    "id": "6pIrQEso408R"
   },
   "outputs": [],
   "source": [
    "filename='/Users/5danalfaro/OAN/credentials/firebase_parameters.json'"
   ]
  },
  {
   "cell_type": "code",
   "execution_count": 3,
   "metadata": {
    "colab": {},
    "colab_type": "code",
    "id": "j0-CWZv25YWX"
   },
   "outputs": [],
   "source": [
    "# Use a service account\n",
    "cred = credentials.Certificate(filename)\n",
    "firebase_admin.initialize_app(cred)\n",
    "\n",
    "db = firestore.client()"
   ]
  },
  {
   "cell_type": "markdown",
   "metadata": {
    "colab": {},
    "colab_type": "code",
    "id": "2uOdUFhhczNe"
   },
   "source": [
    "## TEST"
   ]
  },
  {
   "cell_type": "code",
   "execution_count": 4,
   "metadata": {
    "colab": {},
    "colab_type": "code",
    "id": "4U8v9RtS6uv0"
   },
   "outputs": [],
   "source": [
    "col_query = db.collection('Pompes_2019').where(u'Arrondissement', u'==', u'BIRO')"
   ]
  },
  {
   "cell_type": "code",
   "execution_count": 5,
   "metadata": {
    "colab": {},
    "colab_type": "code",
    "id": "mHG-1nY4lSIr"
   },
   "outputs": [],
   "source": [
    "col= db.collection('Locations')"
   ]
  },
  {
   "cell_type": "code",
   "execution_count": 12,
   "metadata": {
    "colab": {},
    "colab_type": "code",
    "id": "9vAkEEAolYwP"
   },
   "outputs": [],
   "source": [
    "doc = col.document('Benin')"
   ]
  },
  {
   "cell_type": "code",
   "execution_count": 13,
   "metadata": {
    "colab": {},
    "colab_type": "code",
    "id": "1cqhJFwvml1T"
   },
   "outputs": [],
   "source": [
    "get_doc=doc.get()"
   ]
  },
  {
   "cell_type": "code",
   "execution_count": 14,
   "metadata": {
    "colab": {
     "base_uri": "https://localhost:8080/",
     "height": 34
    },
    "colab_type": "code",
    "id": "AOZeI1_vmwgE",
    "outputId": "53ec840c-0708-45d6-e62f-3dfb790bf952"
   },
   "outputs": [
    {
     "name": "stdout",
     "output_type": "stream",
     "text": [
      "Benin => {'population': 11180000, 'id': 'Benin', 'coordinates': {'longitud': '2.315834', 'latitud': '9.30769'}}\n"
     ]
    }
   ],
   "source": [
    "print(u'{} => {}'.format(get_doc.id,get_doc.to_dict()))"
   ]
  },
  {
   "cell_type": "markdown",
   "metadata": {
    "colab_type": "text",
    "id": "RtjMV_OZ_bPM"
   },
   "source": [
    "# ABRIR LAS BBDD"
   ]
  },
  {
   "cell_type": "markdown",
   "metadata": {
    "colab_type": "text",
    "id": "8xW2qPCe_lDT"
   },
   "source": [
    "## OPEN GOOGLE SHEETS"
   ]
  },
  {
   "cell_type": "markdown",
   "metadata": {},
   "source": [
    "## AUTHENTIFICATION"
   ]
  },
  {
   "cell_type": "code",
   "execution_count": 15,
   "metadata": {},
   "outputs": [],
   "source": [
    "SCOPES = ['https://spreadsheets.google.com/feeds',\n",
    "         'https://www.googleapis.com/auth/drive',\n",
    "         'https://www.googleapis.com/auth/drive.file',\n",
    "         'https://www.googleapis.com/auth/spreadsheets.currentonly',\n",
    "         'https://www.googleapis.com/auth/spreadsheets',\n",
    "         'https://www.googleapis.com/auth/presentations',\n",
    "         'https://www.googleapis.com/auth/drive.scripts',\n",
    "         'https://www.googleapis.com/auth/drive.appdata',\n",
    "         'https://www.googleapis.com/auth/drive.metadata'\n",
    "        ]\n",
    "store = file.Storage('/Users/5danalfaro/OAN/credentials/storage.json')\n",
    "creds = store.get()\n",
    "if not creds or creds.invalid:\n",
    "    flow = client.flow_from_clientsecrets('/Users/5danalfaro/OAN/credentials/client_id.json', SCOPES)\n",
    "    creds = tools.run_flow(flow, store)\n",
    "drive_service = discovery.build('drive', 'v3', http=creds.authorize(Http()))\n",
    "sheet_service = discovery.build('sheets', 'v4', http=creds.authorize(Http()))"
   ]
  },
  {
   "cell_type": "markdown",
   "metadata": {},
   "source": [
    "## GOOGLE SHETS IDS"
   ]
  },
  {
   "cell_type": "code",
   "execution_count": 16,
   "metadata": {},
   "outputs": [],
   "source": [
    "spreadsheet_ids = yaml.load( open(\"/Users/5danalfaro/OAN/credentials/sheets_parameters.yaml\", \"r\" ),Loader=yaml.FullLoader)\n",
    "#bombas de 2018, ultima version\n",
    "ID1=str(spreadsheet_ids['ID1'])\n",
    "#bombas de 2016, ultima version\n",
    "ID2=str(spreadsheet_ids['ID2'])\n",
    "#bombas de 2009, ultima version\n",
    "ID3=str(spreadsheet_ids['ID3'])\n",
    "#bombas final, datos de 2016 y 2009\n",
    "ID4=str(spreadsheet_ids['ID4'])\n",
    "#bombas lisette\n",
    "ID5=str(spreadsheet_ids['ID5'])\n",
    "#demograpique data\n",
    "ID6=str(spreadsheet_ids['ID6'])"
   ]
  },
  {
   "cell_type": "markdown",
   "metadata": {
    "colab_type": "text",
    "id": "Yzqr9P9nFav0"
   },
   "source": [
    "## get sheets"
   ]
  },
  {
   "cell_type": "code",
   "execution_count": 104,
   "metadata": {
    "colab": {},
    "colab_type": "code",
    "id": "TmlXIbSK__ig"
   },
   "outputs": [],
   "source": [
    "ids = [ID1,ID2,ID3,ID5]\n",
    "dfs = []\n",
    "for ID in ids:\n",
    "  #SPREADSHEET_ID = ID\n",
    "  RANGE_NAME = 'Sheet1'\n",
    "\n",
    "  gsheet = sheet_service.spreadsheets().values().get(spreadsheetId=ID, range=RANGE_NAME).execute()\n",
    "\n",
    "  dfs.append(pd.DataFrame(gsheet.get('values', [])[1:],columns= gsheet.get('values', [])[0:1][0]))\n",
    "\n",
    "df_2019=dfs[0]\n",
    "df_2016=dfs[1]\n",
    "df_2009=dfs[2]\n",
    "df_lisette = dfs[3]"
   ]
  },
  {
   "cell_type": "code",
   "execution_count": 105,
   "metadata": {
    "colab": {
     "base_uri": "https://localhost:8080/",
     "height": 69
    },
    "colab_type": "code",
    "id": "JFsli7phvLmC",
    "outputId": "870e6716-b8af-432b-b88e-1831a8d869d4"
   },
   "outputs": [
    {
     "data": {
      "text/plain": [
       "array(['Fonctionnel', 'Panne', 'En panne', 'Tête de pompe', '2 pompes',\n",
       "       'Privé', '1  Pompe', '', 'Pompe', 'Pompe non', 'Faible débit',\n",
       "       '1 pompe', 'Kalale'], dtype=object)"
      ]
     },
     "execution_count": 105,
     "metadata": {},
     "output_type": "execute_result"
    }
   ],
   "source": [
    "dfs[1][\"Etat de l'ouvrage\"].unique()"
   ]
  },
  {
   "cell_type": "code",
   "execution_count": 106,
   "metadata": {
    "colab": {
     "base_uri": "https://localhost:8080/",
     "height": 173
    },
    "colab_type": "code",
    "id": "f1edXXKuADxS",
    "outputId": "f1147152-5bfc-4c6a-985d-f22e6b7d64ab"
   },
   "outputs": [
    {
     "data": {
      "text/plain": [
       "[Index(['Arrondissement', 'Village', 'Localite', 'Nom_Local', 'Longitude',\n",
       "        'Latitude', 'xCoord', 'yCoord', 'rqtListe_Pompe.Modele_Pompe'],\n",
       "       dtype='object'),\n",
       " Index(['N°', 'Arrondissement', 'Village', 'Localité', 'Hameau',\n",
       "        'Etat de l'ouvrage', 'Redevance', 'Année de réalisation', 'Marque'],\n",
       "       dtype='object'),\n",
       " Index(['Arrondissement', 'Village', 'Localité', 'Population', 'Type d'ouvrage',\n",
       "        'Etat', 'Longitude', 'Latitude', 'Domaine d'installation'],\n",
       "       dtype='object'),\n",
       " Index(['Departement', 'Commune', 'Arrondissement', 'Village', 'Localite',\n",
       "        'Nom_Local', 'Longitude', 'Latitude', 'xCoord', 'yCoord',\n",
       "        'Type_Exhaure', 'Modele_Pompe'],\n",
       "       dtype='object')]"
      ]
     },
     "execution_count": 106,
     "metadata": {},
     "output_type": "execute_result"
    }
   ],
   "source": [
    "[df.columns for df in dfs]\n",
    "#df_2016.head(2)\n",
    "#df_2009.head(2)"
   ]
  },
  {
   "cell_type": "markdown",
   "metadata": {
    "colab_type": "text",
    "id": "xl9ONa9Ot8mL"
   },
   "source": [
    "So common data is:\n",
    "\n",
    "* 2019 vs 2016: Arrondissement, Village, Localite, Marque\n",
    "\n",
    "* 2019 vs 2009: Arrondissement, Village, Localite, Longitude, Latitude\n",
    "\n",
    "* 2009 vs 2016: Arrondissement, Village, Localite, Etat\n",
    "\n",
    "ONLY DATA:\n",
    "\n",
    "* 2019: Nom_Local which is little identifier for more info on pumps\n",
    "\n",
    "* 2016: Année de réalisation, , Redevace, Hameau, which would be kind of the same as Nom_Local\n",
    "\n",
    "* 2009: Population, Type d'ouvrage\n",
    "\n",
    "MISSING:\n",
    "\n",
    "* 2019: Population, other villages, Année de réalisation, , Redevace, Hameau\n",
    "\n",
    "* 2016: Population, other villages\n",
    "\n",
    "* 2009: Année de réalisation, Redevace, Hameau"
   ]
  },
  {
   "cell_type": "markdown",
   "metadata": {
    "colab_type": "text",
    "id": "3u48Pkw7wkag"
   },
   "source": [
    "### LETS CLEAN THE DATA"
   ]
  },
  {
   "cell_type": "markdown",
   "metadata": {
    "colab_type": "text",
    "id": "31jD9gsH1daO"
   },
   "source": [
    "#### Functions"
   ]
  },
  {
   "cell_type": "code",
   "execution_count": 107,
   "metadata": {
    "colab": {},
    "colab_type": "code",
    "id": "mHAt1GY81guW"
   },
   "outputs": [],
   "source": [
    "#Marques des Pompes\n",
    "def marques(x,name,name2=0):\n",
    "    marque='NA'\n",
    "  \n",
    "    if x[name]:\n",
    "        if bool(re.search('ergnet',x[name].lower())):\n",
    "            marque='Vergnet'\n",
    "        elif bool(re.search('ndia',x[name].lower())):\n",
    "            marque='India'\n",
    "        elif bool(re.search('afri',x[name].lower())):\n",
    "            marque='Afridev'\n",
    "    elif x[name2]:\n",
    "        if bool(re.search('moteur',x[name2].lower())):\n",
    "            marque='pompe_a_moteur'\n",
    "    return marque"
   ]
  },
  {
   "cell_type": "code",
   "execution_count": 108,
   "metadata": {
    "colab": {},
    "colab_type": "code",
    "id": "y99B2ff51ln5"
   },
   "outputs": [],
   "source": [
    "#Years\n",
    "def getyear(x):\n",
    "    year=None\n",
    "    if x['Année de réalisation']:\n",
    "        for s in x['Année de réalisation'].split():\n",
    "            if s.isdigit():\n",
    "                year=int(s)\n",
    "        if year==None:\n",
    "            return year\n",
    "    elif year >2019:\n",
    "        #print(year)\n",
    "        year=2010\n",
    "        return year\n",
    "    elif year > 100:\n",
    "        return int(year)\n",
    "    elif year >70:\n",
    "        year=int('19'+str(year))\n",
    "        return int(year)\n",
    "    else:\n",
    "        year=None\n",
    "    \n",
    "    return year"
   ]
  },
  {
   "cell_type": "code",
   "execution_count": 109,
   "metadata": {
    "colab": {},
    "colab_type": "code",
    "id": "IVw7BytI1rGk"
   },
   "outputs": [],
   "source": [
    "'''\n",
    "Function to change latitude/longitude data from degrees,minutes and seconds into decimals\n",
    "'''\n",
    "def decimals_lat_lon(x,lat):\n",
    "    coord=None\n",
    "    if x[lat]:\n",
    "        if len(x[lat])>2:\n",
    "            if len(re.split('[°\\'\"]', x[lat])) == 4 :\n",
    "        \n",
    "                #gets all the parts of the coordinates into different elements of a vector\n",
    "                deg, minutes, seconds, direction =  re.split('[°\\'\"]', x[lat])\n",
    "\n",
    "                #had to put replace commas because of data of 2009\n",
    "                coord=(float(deg) + float(minutes.replace(\",\",\".\"))/60 + float(seconds.replace(\",\",\".\"))/(60*60)) * (-1 if direction in ['W', 'S'] else 1)\n",
    "            elif len(re.split('[°\\'\"]', x[lat])) > 0:\n",
    "                coord=x[lat]\n",
    "                print(coord)\n",
    "    else:\n",
    "        coord=None\n",
    "        print(coord)\n",
    "    return coord"
   ]
  },
  {
   "cell_type": "markdown",
   "metadata": {
    "colab_type": "text",
    "id": "boN5lk47bjaC"
   },
   "source": [
    "2009"
   ]
  },
  {
   "cell_type": "code",
   "execution_count": 110,
   "metadata": {
    "colab": {
     "base_uri": "https://localhost:8080/",
     "height": 70
    },
    "colab_type": "code",
    "id": "mGvS7rJJbQeQ",
    "outputId": "dbfd10c7-e4e2-4b88-97d4-16d71de4611e"
   },
   "outputs": [
    {
     "data": {
      "text/plain": [
       "Index(['Arrondissement', 'Village', 'Localité', 'Population', 'Type d'ouvrage',\n",
       "       'Etat', 'Longitude', 'Latitude', 'Domaine d'installation'],\n",
       "      dtype='object')"
      ]
     },
     "execution_count": 110,
     "metadata": {},
     "output_type": "execute_result"
    }
   ],
   "source": [
    "df_2009.columns"
   ]
  },
  {
   "cell_type": "code",
   "execution_count": 111,
   "metadata": {
    "colab": {
     "base_uri": "https://localhost:8080/",
     "height": 194
    },
    "colab_type": "code",
    "id": "nwdHijDXbOFh",
    "outputId": "7656352d-c9c7-48a7-9acd-bc2401eed569"
   },
   "outputs": [
    {
     "name": "stdout",
     "output_type": "stream",
     "text": [
      "None\n",
      "None\n",
      "None\n",
      "None\n",
      "None\n",
      "None\n",
      "None\n",
      "None\n",
      "None\n",
      "None\n"
     ]
    }
   ],
   "source": [
    "df_2009['Latitude_decimals']=df_2009.apply(lambda x: decimals_lat_lon(x,'Latitude'),axis=1)\n",
    "df_2009['Longitude_decimals']=df_2009.apply(lambda x: decimals_lat_lon(x,'Longitude'),axis=1)"
   ]
  },
  {
   "cell_type": "markdown",
   "metadata": {
    "colab_type": "text",
    "id": "zubT2jcrwt3s"
   },
   "source": [
    "#### Begin with 2019"
   ]
  },
  {
   "cell_type": "code",
   "execution_count": 37,
   "metadata": {
    "colab": {
     "base_uri": "https://localhost:8080/",
     "height": 52
    },
    "colab_type": "code",
    "id": "Nj7TkvBBAFYL",
    "outputId": "ace91e75-ded5-4307-e1aa-c0ed3e6688b1"
   },
   "outputs": [
    {
     "name": "stdout",
     "output_type": "stream",
     "text": [
      "None\n",
      "None\n"
     ]
    }
   ],
   "source": [
    "#Create decimals from degrees latitude\n",
    "df_2019['Latitude_decimals']=df_2019.apply(lambda x: decimals_lat_lon(x,'Latitude'),axis=1)"
   ]
  },
  {
   "cell_type": "code",
   "execution_count": 38,
   "metadata": {
    "colab": {
     "base_uri": "https://localhost:8080/",
     "height": 52
    },
    "colab_type": "code",
    "id": "SSPsnn5SnW9G",
    "outputId": "febd4935-cbc8-4134-b9d2-cd335cb090f8"
   },
   "outputs": [
    {
     "name": "stdout",
     "output_type": "stream",
     "text": [
      "None\n",
      "None\n"
     ]
    }
   ],
   "source": [
    "df_2019['Longitude_decimals']=df_2019.apply(lambda x: decimals_lat_lon(x,'Longitude'),axis=1)"
   ]
  },
  {
   "cell_type": "code",
   "execution_count": 39,
   "metadata": {
    "colab": {},
    "colab_type": "code",
    "id": "P4rX9UKBwsxk"
   },
   "outputs": [],
   "source": [
    "df_2019_filtered = df_2019[['Arrondissement', 'Village','Localite', 'Longitude_decimals',\n",
    "        'Latitude_decimals', 'rqtListe_Pompe.Modele_Pompe']]\n",
    "df_2019_filtered.columns = ['Arrondissement', 'Village','Localite', 'Longitude',\n",
    "        'Latitude', 'Marque']"
   ]
  },
  {
   "cell_type": "code",
   "execution_count": 42,
   "metadata": {
    "colab": {
     "base_uri": "https://localhost:8080/",
     "height": 156
    },
    "colab_type": "code",
    "id": "hOzHn44212R5",
    "outputId": "92788f5b-6ee3-4301-8948-130b2d37d88f"
   },
   "outputs": [
    {
     "name": "stderr",
     "output_type": "stream",
     "text": [
      "/anaconda3/lib/python3.7/site-packages/ipykernel_launcher.py:1: SettingWithCopyWarning:\n",
      "\n",
      "\n",
      "A value is trying to be set on a copy of a slice from a DataFrame.\n",
      "Try using .loc[row_indexer,col_indexer] = value instead\n",
      "\n",
      "See the caveats in the documentation: http://pandas.pydata.org/pandas-docs/stable/indexing.html#indexing-view-versus-copy\n",
      "\n"
     ]
    }
   ],
   "source": [
    "df_2019_filtered['Marque']=df_2019_filtered.apply(lambda x: marques(x,\"Marque\",),axis=1)"
   ]
  },
  {
   "cell_type": "code",
   "execution_count": 44,
   "metadata": {
    "colab": {},
    "colab_type": "code",
    "id": "xdQSTE8x3mPy"
   },
   "outputs": [],
   "source": [
    "l_2019_local = df_2019_filtered['Localite'].sort_values().tolist()\n",
    "\n",
    "index = []\n",
    "j=1\n",
    "for i,local in enumerate(l_2019_local):\n",
    "    if i == 0:\n",
    "        j=1\n",
    "        word = local+' '+str(j)\n",
    "        word=word.replace(' ','_')\n",
    "        index.append(word)\n",
    "        continue\n",
    "    if l_2019_local[i-1] == local:\n",
    "        j+=1\n",
    "        word = local+' '+str(j)\n",
    "        word=word.replace(' ','_')\n",
    "        index.append(word)\n",
    "    else:\n",
    "        j=1\n",
    "        word = local+' '+str(j)\n",
    "        word=word.replace(' ','_')\n",
    "        index.append(word)"
   ]
  },
  {
   "cell_type": "code",
   "execution_count": 45,
   "metadata": {
    "colab": {},
    "colab_type": "code",
    "id": "h48OMF1ABI44"
   },
   "outputs": [],
   "source": [
    "df_2019_filtered=df_2019_filtered.sort_values('Localite')"
   ]
  },
  {
   "cell_type": "code",
   "execution_count": 46,
   "metadata": {
    "colab": {},
    "colab_type": "code",
    "id": "KQzRvxSw3cWx"
   },
   "outputs": [],
   "source": [
    "df_2019_filtered['index'] = index"
   ]
  },
  {
   "cell_type": "code",
   "execution_count": 47,
   "metadata": {
    "colab": {},
    "colab_type": "code",
    "id": "47YefexP7nIB"
   },
   "outputs": [],
   "source": [
    "df_2019_filtered=df_2019_filtered.set_index('index')"
   ]
  },
  {
   "cell_type": "code",
   "execution_count": 50,
   "metadata": {},
   "outputs": [],
   "source": [
    "df_2019_filtered=df_2019_filtered.reset_index()"
   ]
  },
  {
   "cell_type": "code",
   "execution_count": 0,
   "metadata": {
    "colab": {},
    "colab_type": "code",
    "id": "ofrIxt4CAILM"
   },
   "outputs": [],
   "source": [
    "#convert to dictionary\n",
    "dict_2019 = df_2019_filtered.to_dict('index')\n",
    "dict_2019 = [{k: v} for k, v in dict_2019.items()]"
   ]
  },
  {
   "cell_type": "markdown",
   "metadata": {
    "colab_type": "text",
    "id": "J4X-N-uZAPug"
   },
   "source": [
    "## Process data of Lisette"
   ]
  },
  {
   "cell_type": "code",
   "execution_count": 51,
   "metadata": {
    "colab": {
     "base_uri": "https://localhost:8080/",
     "height": 197
    },
    "colab_type": "code",
    "id": "YblZBJKyAWji",
    "outputId": "04a830c1-7dd1-4bed-95cd-8ca40be59274"
   },
   "outputs": [
    {
     "data": {
      "text/html": [
       "<div>\n",
       "<style scoped>\n",
       "    .dataframe tbody tr th:only-of-type {\n",
       "        vertical-align: middle;\n",
       "    }\n",
       "\n",
       "    .dataframe tbody tr th {\n",
       "        vertical-align: top;\n",
       "    }\n",
       "\n",
       "    .dataframe thead th {\n",
       "        text-align: right;\n",
       "    }\n",
       "</style>\n",
       "<table border=\"1\" class=\"dataframe\">\n",
       "  <thead>\n",
       "    <tr style=\"text-align: right;\">\n",
       "      <th></th>\n",
       "      <th>Departement</th>\n",
       "      <th>Commune</th>\n",
       "      <th>Arrondissement</th>\n",
       "      <th>Village</th>\n",
       "      <th>Localite</th>\n",
       "      <th>Nom_Local</th>\n",
       "      <th>Longitude</th>\n",
       "      <th>Latitude</th>\n",
       "      <th>xCoord</th>\n",
       "      <th>yCoord</th>\n",
       "      <th>Type_Exhaure</th>\n",
       "      <th>Modele_Pompe</th>\n",
       "    </tr>\n",
       "  </thead>\n",
       "  <tbody>\n",
       "    <tr>\n",
       "      <th>0</th>\n",
       "      <td>BORGOU</td>\n",
       "      <td>NIKKI</td>\n",
       "      <td>BIRO</td>\n",
       "      <td>BIRO</td>\n",
       "      <td>BIRO NOUKOUROU</td>\n",
       "      <td></td>\n",
       "      <td>02°56'50.96\"E</td>\n",
       "      <td>09°54'18.50\"N</td>\n",
       "      <td>2.947489</td>\n",
       "      <td>9.905139</td>\n",
       "      <td>PMH</td>\n",
       "      <td>VERGNET 4C</td>\n",
       "    </tr>\n",
       "    <tr>\n",
       "      <th>1</th>\n",
       "      <td>BORGOU</td>\n",
       "      <td>NIKKI</td>\n",
       "      <td>BIRO</td>\n",
       "      <td>BIRO</td>\n",
       "      <td>GOUTTO</td>\n",
       "      <td></td>\n",
       "      <td>02°56'47.38\"E</td>\n",
       "      <td>09°54'59.99\"N</td>\n",
       "      <td>2.946494</td>\n",
       "      <td>9.916664</td>\n",
       "      <td>PMH</td>\n",
       "      <td>VERGNET 4D</td>\n",
       "    </tr>\n",
       "    <tr>\n",
       "      <th>2</th>\n",
       "      <td>BORGOU</td>\n",
       "      <td>NIKKI</td>\n",
       "      <td>BIRO</td>\n",
       "      <td>BIRO</td>\n",
       "      <td>SARAVONDO</td>\n",
       "      <td></td>\n",
       "      <td>02°58'29.33\"E</td>\n",
       "      <td>09°54'13.30\"N</td>\n",
       "      <td>2.974814</td>\n",
       "      <td>9.903694</td>\n",
       "      <td>PMH</td>\n",
       "      <td>VERGNET 4D</td>\n",
       "    </tr>\n",
       "    <tr>\n",
       "      <th>3</th>\n",
       "      <td>BORGOU</td>\n",
       "      <td>NIKKI</td>\n",
       "      <td>BIRO</td>\n",
       "      <td>BIRO</td>\n",
       "      <td>MADINA</td>\n",
       "      <td></td>\n",
       "      <td>02°56'44.34\"E</td>\n",
       "      <td>09°54'02.71\"N</td>\n",
       "      <td>2.94565</td>\n",
       "      <td>9.900753</td>\n",
       "      <td>PMH</td>\n",
       "      <td>VERGNET 4C</td>\n",
       "    </tr>\n",
       "    <tr>\n",
       "      <th>4</th>\n",
       "      <td>BORGOU</td>\n",
       "      <td>NIKKI</td>\n",
       "      <td>BIRO</td>\n",
       "      <td>BIRO</td>\n",
       "      <td>MADINA</td>\n",
       "      <td></td>\n",
       "      <td>02°56'46.83\"E</td>\n",
       "      <td>09°54'01.55\"N</td>\n",
       "      <td>2.946342</td>\n",
       "      <td>9.900431</td>\n",
       "      <td>PMH</td>\n",
       "      <td>VERGNET 4C</td>\n",
       "    </tr>\n",
       "  </tbody>\n",
       "</table>\n",
       "</div>"
      ],
      "text/plain": [
       "  Departement Commune Arrondissement Village        Localite Nom_Local  \\\n",
       "0      BORGOU   NIKKI           BIRO    BIRO  BIRO NOUKOUROU             \n",
       "1      BORGOU   NIKKI           BIRO    BIRO          GOUTTO             \n",
       "2      BORGOU   NIKKI           BIRO    BIRO       SARAVONDO             \n",
       "3      BORGOU   NIKKI           BIRO    BIRO          MADINA             \n",
       "4      BORGOU   NIKKI           BIRO    BIRO          MADINA             \n",
       "\n",
       "       Longitude       Latitude    xCoord    yCoord Type_Exhaure Modele_Pompe  \n",
       "0  02°56'50.96\"E  09°54'18.50\"N  2.947489  9.905139          PMH   VERGNET 4C  \n",
       "1  02°56'47.38\"E  09°54'59.99\"N  2.946494  9.916664          PMH   VERGNET 4D  \n",
       "2  02°58'29.33\"E  09°54'13.30\"N  2.974814  9.903694          PMH   VERGNET 4D  \n",
       "3  02°56'44.34\"E  09°54'02.71\"N   2.94565  9.900753          PMH   VERGNET 4C  \n",
       "4  02°56'46.83\"E  09°54'01.55\"N  2.946342  9.900431          PMH   VERGNET 4C  "
      ]
     },
     "execution_count": 51,
     "metadata": {},
     "output_type": "execute_result"
    }
   ],
   "source": [
    "df_lisette.head()"
   ]
  },
  {
   "cell_type": "code",
   "execution_count": 0,
   "metadata": {
    "colab": {},
    "colab_type": "code",
    "id": "7dKkdv3AAbvr"
   },
   "outputs": [],
   "source": [
    "#Create decimals from degrees latitude\n",
    "df_lisette['Latitude_decimals']=df_lisette.apply(lambda x: decimals_lat_lon(x,'Latitude'),axis=1)"
   ]
  },
  {
   "cell_type": "code",
   "execution_count": 0,
   "metadata": {
    "colab": {},
    "colab_type": "code",
    "id": "phQupZuxAo0u"
   },
   "outputs": [],
   "source": [
    "df_lisette['Longitude_decimals']=df_lisette.apply(lambda x: decimals_lat_lon(x,'Longitude'),axis=1)"
   ]
  },
  {
   "cell_type": "code",
   "execution_count": 0,
   "metadata": {
    "colab": {},
    "colab_type": "code",
    "id": "pKPEE8PCBMWA"
   },
   "outputs": [],
   "source": [
    "df_lisette['Marque']=df_lisette.apply(lambda x: marques(x,\"Modele_Pompe\",\"Type_Exhaure\"),axis=1)"
   ]
  },
  {
   "cell_type": "code",
   "execution_count": 0,
   "metadata": {
    "colab": {
     "base_uri": "https://localhost:8080/",
     "height": 247
    },
    "colab_type": "code",
    "id": "SI_QCtuuFXmt",
    "outputId": "a87bdb07-bec9-4ece-ce4f-3e5925d46f5e"
   },
   "outputs": [
    {
     "data": {
      "text/html": [
       "<div>\n",
       "<style scoped>\n",
       "    .dataframe tbody tr th:only-of-type {\n",
       "        vertical-align: middle;\n",
       "    }\n",
       "\n",
       "    .dataframe tbody tr th {\n",
       "        vertical-align: top;\n",
       "    }\n",
       "\n",
       "    .dataframe thead th {\n",
       "        text-align: right;\n",
       "    }\n",
       "</style>\n",
       "<table border=\"1\" class=\"dataframe\">\n",
       "  <thead>\n",
       "    <tr style=\"text-align: right;\">\n",
       "      <th></th>\n",
       "      <th>Departement</th>\n",
       "      <th>Commune</th>\n",
       "      <th>Arrondissement</th>\n",
       "      <th>Village</th>\n",
       "      <th>Localite</th>\n",
       "      <th>Nom_Local</th>\n",
       "      <th>Longitude</th>\n",
       "      <th>Latitude</th>\n",
       "      <th>xCoord</th>\n",
       "      <th>yCoord</th>\n",
       "      <th>Type_Exhaure</th>\n",
       "      <th>Modele_Pompe</th>\n",
       "      <th>Latitude_decimals</th>\n",
       "      <th>Longitude_decimals</th>\n",
       "    </tr>\n",
       "    <tr>\n",
       "      <th>Marque</th>\n",
       "      <th></th>\n",
       "      <th></th>\n",
       "      <th></th>\n",
       "      <th></th>\n",
       "      <th></th>\n",
       "      <th></th>\n",
       "      <th></th>\n",
       "      <th></th>\n",
       "      <th></th>\n",
       "      <th></th>\n",
       "      <th></th>\n",
       "      <th></th>\n",
       "      <th></th>\n",
       "      <th></th>\n",
       "    </tr>\n",
       "  </thead>\n",
       "  <tbody>\n",
       "    <tr>\n",
       "      <th>Afridev</th>\n",
       "      <td>33</td>\n",
       "      <td>33</td>\n",
       "      <td>33</td>\n",
       "      <td>33</td>\n",
       "      <td>33</td>\n",
       "      <td>33</td>\n",
       "      <td>33</td>\n",
       "      <td>33</td>\n",
       "      <td>33</td>\n",
       "      <td>33</td>\n",
       "      <td>33</td>\n",
       "      <td>33</td>\n",
       "      <td>33</td>\n",
       "      <td>33</td>\n",
       "    </tr>\n",
       "    <tr>\n",
       "      <th>India</th>\n",
       "      <td>95</td>\n",
       "      <td>95</td>\n",
       "      <td>95</td>\n",
       "      <td>95</td>\n",
       "      <td>95</td>\n",
       "      <td>95</td>\n",
       "      <td>95</td>\n",
       "      <td>95</td>\n",
       "      <td>95</td>\n",
       "      <td>95</td>\n",
       "      <td>95</td>\n",
       "      <td>95</td>\n",
       "      <td>95</td>\n",
       "      <td>95</td>\n",
       "    </tr>\n",
       "    <tr>\n",
       "      <th>NA</th>\n",
       "      <td>4</td>\n",
       "      <td>4</td>\n",
       "      <td>4</td>\n",
       "      <td>4</td>\n",
       "      <td>4</td>\n",
       "      <td>4</td>\n",
       "      <td>4</td>\n",
       "      <td>4</td>\n",
       "      <td>4</td>\n",
       "      <td>4</td>\n",
       "      <td>3</td>\n",
       "      <td>0</td>\n",
       "      <td>4</td>\n",
       "      <td>4</td>\n",
       "    </tr>\n",
       "    <tr>\n",
       "      <th>Vergnet</th>\n",
       "      <td>253</td>\n",
       "      <td>253</td>\n",
       "      <td>253</td>\n",
       "      <td>253</td>\n",
       "      <td>253</td>\n",
       "      <td>253</td>\n",
       "      <td>253</td>\n",
       "      <td>253</td>\n",
       "      <td>253</td>\n",
       "      <td>253</td>\n",
       "      <td>253</td>\n",
       "      <td>253</td>\n",
       "      <td>253</td>\n",
       "      <td>253</td>\n",
       "    </tr>\n",
       "    <tr>\n",
       "      <th>pompe_a_moteur</th>\n",
       "      <td>14</td>\n",
       "      <td>14</td>\n",
       "      <td>14</td>\n",
       "      <td>14</td>\n",
       "      <td>14</td>\n",
       "      <td>14</td>\n",
       "      <td>14</td>\n",
       "      <td>14</td>\n",
       "      <td>14</td>\n",
       "      <td>14</td>\n",
       "      <td>14</td>\n",
       "      <td>0</td>\n",
       "      <td>14</td>\n",
       "      <td>14</td>\n",
       "    </tr>\n",
       "  </tbody>\n",
       "</table>\n",
       "</div>"
      ],
      "text/plain": [
       "                Departement  Commune  ...  Latitude_decimals  Longitude_decimals\n",
       "Marque                                ...                                       \n",
       "Afridev                  33       33  ...                 33                  33\n",
       "India                    95       95  ...                 95                  95\n",
       "NA                        4        4  ...                  4                   4\n",
       "Vergnet                 253      253  ...                253                 253\n",
       "pompe_a_moteur           14       14  ...                 14                  14\n",
       "\n",
       "[5 rows x 14 columns]"
      ]
     },
     "execution_count": 23,
     "metadata": {
      "tags": []
     },
     "output_type": "execute_result"
    }
   ],
   "source": [
    "df_lisette.groupby(\"Marque\",axis=0).count()"
   ]
  },
  {
   "cell_type": "markdown",
   "metadata": {
    "colab_type": "text",
    "id": "efr3I_1SBIdd"
   },
   "source": [
    "###Analysis to check"
   ]
  },
  {
   "cell_type": "markdown",
   "metadata": {
    "colab_type": "text",
    "id": "UYAROYlxA_HE"
   },
   "source": [
    "###How many villages have pompes"
   ]
  },
  {
   "cell_type": "code",
   "execution_count": 0,
   "metadata": {
    "colab": {
     "base_uri": "https://localhost:8080/",
     "height": 34
    },
    "colab_type": "code",
    "id": "Vr3RaSkjAsX6",
    "outputId": "11832960-bfe7-4675-d468-3fb14ee558e5"
   },
   "outputs": [
    {
     "data": {
      "text/plain": [
       "277"
      ]
     },
     "execution_count": 24,
     "metadata": {
      "tags": []
     },
     "output_type": "execute_result"
    }
   ],
   "source": [
    "len(df_lisette.groupby(\"Localite\",axis=0).count())"
   ]
  },
  {
   "cell_type": "code",
   "execution_count": 0,
   "metadata": {
    "colab": {
     "base_uri": "https://localhost:8080/",
     "height": 34
    },
    "colab_type": "code",
    "id": "fOSYZXc-A5-k",
    "outputId": "29a275a8-590c-4de1-f1d0-e0cf26b36b64"
   },
   "outputs": [
    {
     "data": {
      "text/plain": [
       "326"
      ]
     },
     "execution_count": 25,
     "metadata": {
      "tags": []
     },
     "output_type": "execute_result"
    }
   ],
   "source": [
    "len(df_2009.groupby(\"Localité\",axis=0).count())"
   ]
  },
  {
   "cell_type": "markdown",
   "metadata": {
    "colab_type": "text",
    "id": "WppikOLvBHTo"
   },
   "source": [
    "#STATES/COUNTY/DISTRICT\n"
   ]
  },
  {
   "cell_type": "markdown",
   "metadata": {
    "colab_type": "text",
    "id": "hT5ep9EVtMVp"
   },
   "source": [
    "### Demographics\n",
    "\n",
    "get data from INSAE BENIN link: https://www.insae-bj.org/statistiques/statistiques-demographiques#nos-12-departements -> placed it manually into a google sheet\n",
    "\n",
    "then add the coordinates by Geonames API"
   ]
  },
  {
   "cell_type": "code",
   "execution_count": 0,
   "metadata": {
    "colab": {},
    "colab_type": "code",
    "id": "o2TtbNgfU8Ek"
   },
   "outputs": [],
   "source": [
    "#get data of RPGH4\n",
    "RANGE_NAME = 'Sheet1'\n",
    "\n",
    "gsheet = sheet_service.spreadsheets().values().get(spreadsheetId=ID6, range=RANGE_NAME).execute()\n",
    "\n",
    "df_rpgh4 = pd.DataFrame(gsheet.get('values', [])[1:],columns= gsheet.get('values', [])[0:1][0])"
   ]
  },
  {
   "cell_type": "markdown",
   "metadata": {
    "colab_type": "text",
    "id": "foQ0UVXYW8ce"
   },
   "source": [
    "##State DB"
   ]
  },
  {
   "cell_type": "code",
   "execution_count": 0,
   "metadata": {
    "colab": {},
    "colab_type": "code",
    "id": "cIiGSVdAVMAF"
   },
   "outputs": [],
   "source": [
    "df_dep_base = df_rpgh4[df_rpgh4['Divison administrative'].str[0:4] == 'DEP:'].copy()"
   ]
  },
  {
   "cell_type": "code",
   "execution_count": 0,
   "metadata": {
    "colab": {},
    "colab_type": "code",
    "id": "xsVd792NV5MM"
   },
   "outputs": [],
   "source": [
    "df_dep_base=df_dep_base.reset_index()"
   ]
  },
  {
   "cell_type": "code",
   "execution_count": 0,
   "metadata": {
    "colab": {},
    "colab_type": "code",
    "id": "Q8ZZD-TNV_Ib"
   },
   "outputs": [],
   "source": [
    "df_dep_base['Departement'] = df_dep_base.apply(lambda x: x['Divison administrative'][5:], axis=1)"
   ]
  },
  {
   "cell_type": "code",
   "execution_count": 0,
   "metadata": {
    "colab": {},
    "colab_type": "code",
    "id": "oH3YqW2_Wr3t"
   },
   "outputs": [],
   "source": [
    "df_dep=df_dep_base.sort_values('Departement')"
   ]
  },
  {
   "cell_type": "code",
   "execution_count": 0,
   "metadata": {
    "colab": {},
    "colab_type": "code",
    "id": "sfKCMW-9XEcr"
   },
   "outputs": [],
   "source": [
    "df_dep = df_dep[['Departement','Total','Masculin','Feminin']]"
   ]
  },
  {
   "cell_type": "markdown",
   "metadata": {
    "colab_type": "text",
    "id": "99Z9fXCkZ3yq"
   },
   "source": [
    "### get localisation from geocoder"
   ]
  },
  {
   "cell_type": "code",
   "execution_count": 0,
   "metadata": {
    "colab": {},
    "colab_type": "code",
    "id": "iAo9JCuEd7xS"
   },
   "outputs": [],
   "source": [
    "def get_coor(x):\n",
    "  g=geocoder.geonames(x['Departement']+' Benin',key='5danalfaro')\n",
    "  return [g.lat,g.lng]"
   ]
  },
  {
   "cell_type": "code",
   "execution_count": 0,
   "metadata": {
    "colab": {},
    "colab_type": "code",
    "id": "pvHHzpoddcoj"
   },
   "outputs": [],
   "source": [
    "df_dep['Coordinates'] = df_dep.apply(lambda x: get_coor(x),axis=1)"
   ]
  },
  {
   "cell_type": "code",
   "execution_count": 0,
   "metadata": {
    "colab": {},
    "colab_type": "code",
    "id": "yz_yRRpEeeAi"
   },
   "outputs": [],
   "source": [
    "df_dep['Latitude'] = df_dep.apply(lambda x: x['Coordinates'][0],axis=1)"
   ]
  },
  {
   "cell_type": "code",
   "execution_count": 0,
   "metadata": {
    "colab": {},
    "colab_type": "code",
    "id": "GnYy8J4jekv7"
   },
   "outputs": [],
   "source": [
    "df_dep['Longitude'] = df_dep.apply(lambda x: x['Coordinates'][1],axis=1)"
   ]
  },
  {
   "cell_type": "code",
   "execution_count": 0,
   "metadata": {
    "colab": {},
    "colab_type": "code",
    "id": "qb9JrbCUgiqq"
   },
   "outputs": [],
   "source": [
    "df_dep=df_dep[['Departement','Latitude','Longitude','Total']]"
   ]
  },
  {
   "cell_type": "code",
   "execution_count": 0,
   "metadata": {
    "colab": {},
    "colab_type": "code",
    "id": "GEN_-sRRg93r"
   },
   "outputs": [],
   "source": [
    "df_dep.columns = ['Name','Latitude','Longitude','Population']"
   ]
  },
  {
   "cell_type": "markdown",
   "metadata": {
    "colab_type": "text",
    "id": "1pEkDh9Ef9X0"
   },
   "source": [
    "Check if everything is okay, exported to csv and uploaded to google mymaps"
   ]
  },
  {
   "cell_type": "code",
   "execution_count": 0,
   "metadata": {
    "colab": {},
    "colab_type": "code",
    "id": "izoBpzY1epjN"
   },
   "outputs": [],
   "source": [
    "df_dep.to_csv('dep.csv')"
   ]
  },
  {
   "cell_type": "markdown",
   "metadata": {
    "colab_type": "text",
    "id": "NNAu43dLgDZD"
   },
   "source": [
    "https://drive.google.com/open?id=1yJeiKBrO8j9GE10wYyRmjnQqxufG-YT0&usp=sharing all alright"
   ]
  },
  {
   "cell_type": "markdown",
   "metadata": {
    "colab_type": "text",
    "id": "h8BaxT51mBI3"
   },
   "source": [
    "## COUNTY DB"
   ]
  },
  {
   "cell_type": "code",
   "execution_count": 0,
   "metadata": {
    "colab": {},
    "colab_type": "code",
    "id": "9KPTp0K2pPpD"
   },
   "outputs": [],
   "source": [
    "df_county_base = df_rpgh4[df_rpgh4['Divison administrative'].str[0:4] == 'COM:'].copy()"
   ]
  },
  {
   "cell_type": "code",
   "execution_count": 0,
   "metadata": {
    "colab": {},
    "colab_type": "code",
    "id": "UWrc2kazpPpH"
   },
   "outputs": [],
   "source": [
    "df_county_base=df_county_base.reset_index()"
   ]
  },
  {
   "cell_type": "code",
   "execution_count": 0,
   "metadata": {
    "colab": {},
    "colab_type": "code",
    "id": "9gMAp4jMqReM"
   },
   "outputs": [],
   "source": [
    "def getdep(x):\n",
    "  l_dep_in = df_dep_base['index'].to_list()\n",
    "  row = x['index']\n",
    "  for i,index in enumerate(l_dep_in):\n",
    "    if i+1< len(l_dep_in):\n",
    "      if ((index < row) and (row<l_dep_in[i+1])):\n",
    "        return df_dep_base[df_dep_base['index']==index]['Departement'].values[0]\n",
    "    else:\n",
    "      if(index < row):\n",
    "        return df_dep_base[df_dep_base['index']==index]['Departement'].values[0]"
   ]
  },
  {
   "cell_type": "code",
   "execution_count": 0,
   "metadata": {
    "colab": {},
    "colab_type": "code",
    "id": "IPDLXQEBpPpK"
   },
   "outputs": [],
   "source": [
    "df_county_base['Departement'] = df_county_base.apply(lambda x: getdep(x), axis=1)"
   ]
  },
  {
   "cell_type": "code",
   "execution_count": 0,
   "metadata": {
    "colab": {},
    "colab_type": "code",
    "id": "6lzqECimve2G"
   },
   "outputs": [],
   "source": [
    "df_county_base['Name'] = df_county_base.apply(lambda x: x['Divison administrative'][5:], axis=1)"
   ]
  },
  {
   "cell_type": "code",
   "execution_count": 0,
   "metadata": {
    "colab": {},
    "colab_type": "code",
    "id": "j-_ihVMbpPpL"
   },
   "outputs": [],
   "source": [
    "df_county=df_county_base.sort_values(by=['Departement','Name'])"
   ]
  },
  {
   "cell_type": "code",
   "execution_count": 0,
   "metadata": {
    "colab": {},
    "colab_type": "code",
    "id": "L19tW31GpPpO"
   },
   "outputs": [],
   "source": [
    "df_county = df_county[['Name','Departement','Total']]"
   ]
  },
  {
   "cell_type": "markdown",
   "metadata": {
    "colab_type": "text",
    "id": "8pfRokQfwPJN"
   },
   "source": [
    "### get localisation from geocoder"
   ]
  },
  {
   "cell_type": "code",
   "execution_count": 0,
   "metadata": {
    "colab": {},
    "colab_type": "code",
    "id": "B9-lP762wVQJ"
   },
   "outputs": [],
   "source": [
    "def get_coor_county(x):\n",
    "  g=geocoder.geonames(x['Name']+' '+x['Departement']+' Benin',key='5danalfaro')\n",
    "  return [g.lat,g.lng]"
   ]
  },
  {
   "cell_type": "code",
   "execution_count": 0,
   "metadata": {
    "colab": {},
    "colab_type": "code",
    "id": "Gi7_NMQywVQP"
   },
   "outputs": [],
   "source": [
    "df_county['Coordinates'] = df_county.apply(lambda x: get_coor_county(x),axis=1)"
   ]
  },
  {
   "cell_type": "code",
   "execution_count": 0,
   "metadata": {
    "colab": {},
    "colab_type": "code",
    "id": "_5K5BGvDwVQR"
   },
   "outputs": [],
   "source": [
    "df_county['Latitude'] = df_county.apply(lambda x: x['Coordinates'][0],axis=1)"
   ]
  },
  {
   "cell_type": "code",
   "execution_count": 0,
   "metadata": {
    "colab": {},
    "colab_type": "code",
    "id": "Pn6_1EIbwVQU"
   },
   "outputs": [],
   "source": [
    "df_county['Longitude'] = df_county.apply(lambda x: x['Coordinates'][1],axis=1)"
   ]
  },
  {
   "cell_type": "code",
   "execution_count": 0,
   "metadata": {
    "colab": {},
    "colab_type": "code",
    "id": "txN40jfdwVQW"
   },
   "outputs": [],
   "source": [
    "df_county=df_county[['Name','Departement','Latitude','Longitude','Total']]"
   ]
  },
  {
   "cell_type": "code",
   "execution_count": 0,
   "metadata": {
    "colab": {},
    "colab_type": "code",
    "id": "a4QqtNPzwVQY"
   },
   "outputs": [],
   "source": [
    "df_county.columns = ['Name','State','Latitude','Longitude','Population']"
   ]
  },
  {
   "cell_type": "markdown",
   "metadata": {
    "colab_type": "text",
    "id": "7hNKLaj6wVQa"
   },
   "source": [
    "Check if everything is okay, exported to csv and uploaded to google mymaps"
   ]
  },
  {
   "cell_type": "code",
   "execution_count": 0,
   "metadata": {
    "colab": {},
    "colab_type": "code",
    "id": "0tUzIvrewVQb"
   },
   "outputs": [],
   "source": [
    "df_county.to_csv('dis.csv')"
   ]
  },
  {
   "cell_type": "markdown",
   "metadata": {
    "colab_type": "text",
    "id": "BpIKLh9pkLbw"
   },
   "source": [
    "https://drive.google.com/open?id=1yJeiKBrO8j9GE10wYyRmjnQqxufG-YT0&usp=sharing seems all right"
   ]
  },
  {
   "cell_type": "markdown",
   "metadata": {
    "colab_type": "text",
    "id": "W_u29xyQMT1_"
   },
   "source": [
    "## DISTRICT DB"
   ]
  },
  {
   "cell_type": "code",
   "execution_count": 0,
   "metadata": {
    "colab": {},
    "colab_type": "code",
    "id": "Abv3QqW0MT2C"
   },
   "outputs": [],
   "source": [
    "df_dis = df_rpgh4[df_rpgh4['Divison administrative'].str[0:7] == 'ARROND:'].copy()"
   ]
  },
  {
   "cell_type": "code",
   "execution_count": 0,
   "metadata": {
    "colab": {},
    "colab_type": "code",
    "id": "MBIbGl6sMT2E"
   },
   "outputs": [],
   "source": [
    "df_dis=df_dis.reset_index()"
   ]
  },
  {
   "cell_type": "code",
   "execution_count": 0,
   "metadata": {
    "colab": {},
    "colab_type": "code",
    "id": "RhA3LcApMT2G"
   },
   "outputs": [],
   "source": [
    "def getcounty(x):\n",
    "  l_county_in = df_county_base['index'].to_list()\n",
    "  row = x['index']\n",
    "  for i,index in enumerate(l_county_in):\n",
    "    if i+1< len(l_county_in):\n",
    "      if ((index < row) and (row<l_county_in[i+1])):\n",
    "        return df_county_base[df_county_base['index']==index]['Name'].values[0]\n",
    "    else:\n",
    "      if(index < row):\n",
    "        return df_county_base[df_county_base['index']==index]['Name'].values[0]"
   ]
  },
  {
   "cell_type": "code",
   "execution_count": 0,
   "metadata": {
    "colab": {},
    "colab_type": "code",
    "id": "ZFLJCzawMT2J"
   },
   "outputs": [],
   "source": [
    "df_dis['Commune'] = df_dis.apply(lambda x: getcounty(x), axis=1)"
   ]
  },
  {
   "cell_type": "code",
   "execution_count": 0,
   "metadata": {
    "colab": {},
    "colab_type": "code",
    "id": "b-mdgF2XUNk-"
   },
   "outputs": [],
   "source": [
    "df_dis['Departement'] = df_dis.apply(lambda x: getdep(x), axis=1)"
   ]
  },
  {
   "cell_type": "code",
   "execution_count": 0,
   "metadata": {
    "colab": {},
    "colab_type": "code",
    "id": "0oNLmrvHMT2K"
   },
   "outputs": [],
   "source": [
    "df_dis['Name'] = df_dis.apply(lambda x: x['Divison administrative'][8:], axis=1)"
   ]
  },
  {
   "cell_type": "code",
   "execution_count": 0,
   "metadata": {
    "colab": {},
    "colab_type": "code",
    "id": "64CvhoavMT2M"
   },
   "outputs": [],
   "source": [
    "df_dis=df_dis.sort_values(by=['Departement','Commune','Name'])"
   ]
  },
  {
   "cell_type": "code",
   "execution_count": 0,
   "metadata": {
    "colab": {},
    "colab_type": "code",
    "id": "w7clwwhgMT2O"
   },
   "outputs": [],
   "source": [
    "df_dis = df_dis[['Name','Departement','Commune','Total']]"
   ]
  },
  {
   "cell_type": "markdown",
   "metadata": {
    "colab_type": "text",
    "id": "5xlEC_UyMT2Q"
   },
   "source": [
    "### get localisation from geocoder"
   ]
  },
  {
   "cell_type": "code",
   "execution_count": 0,
   "metadata": {
    "colab": {},
    "colab_type": "code",
    "id": "gL9sGeh0MT2R"
   },
   "outputs": [],
   "source": [
    "def get_coor_dis(x):\n",
    "  g=geocoder.geonames(x['Name']+' '+x['Commune']+' '+x['Departement']+' Benin',key='5danalfaro')\n",
    "  return [g.lat,g.lng]"
   ]
  },
  {
   "cell_type": "code",
   "execution_count": 0,
   "metadata": {
    "colab": {},
    "colab_type": "code",
    "id": "tN6OkpuYMT2S"
   },
   "outputs": [],
   "source": [
    "df_dis['Coordinates'] = df_dis.apply(lambda x: get_coor_dis(x),axis=1)"
   ]
  },
  {
   "cell_type": "code",
   "execution_count": 0,
   "metadata": {
    "colab": {},
    "colab_type": "code",
    "id": "lFT4Jrb6MT2W"
   },
   "outputs": [],
   "source": [
    "df_dis['Latitude'] = df_dis.apply(lambda x: x['Coordinates'][0],axis=1)"
   ]
  },
  {
   "cell_type": "code",
   "execution_count": 0,
   "metadata": {
    "colab": {},
    "colab_type": "code",
    "id": "Aj6PxvAqMT2Z"
   },
   "outputs": [],
   "source": [
    "df_dis['Longitude'] = df_dis.apply(lambda x: x['Coordinates'][1],axis=1)"
   ]
  },
  {
   "cell_type": "code",
   "execution_count": 0,
   "metadata": {
    "colab": {},
    "colab_type": "code",
    "id": "V3KslbaeMT2c"
   },
   "outputs": [],
   "source": [
    "df_dis=df_dis[['Name','Departement','Commune','Latitude','Longitude','Total']]"
   ]
  },
  {
   "cell_type": "code",
   "execution_count": 0,
   "metadata": {
    "colab": {},
    "colab_type": "code",
    "id": "5vtEy_E8MT2e"
   },
   "outputs": [],
   "source": [
    "df_dis.columns = ['Name','State','County','Latitude','Longitude','Population']"
   ]
  },
  {
   "cell_type": "markdown",
   "metadata": {
    "colab_type": "text",
    "id": "o0Hmj6bbMT2f"
   },
   "source": [
    "Check if everything is okay, exported to csv and uploaded to google mymaps"
   ]
  },
  {
   "cell_type": "code",
   "execution_count": 0,
   "metadata": {
    "colab": {},
    "colab_type": "code",
    "id": "9oGduX9ZMT2g"
   },
   "outputs": [],
   "source": [
    "df_dis.to_csv('dis.csv')"
   ]
  },
  {
   "cell_type": "markdown",
   "metadata": {
    "colab_type": "text",
    "id": "qOLi-mgMMT2h"
   },
   "source": [
    "https://drive.google.com/open?id=1yJeiKBrO8j9GE10wYyRmjnQqxufG-YT0&usp=sharing some mistakes in locating the districts"
   ]
  },
  {
   "cell_type": "markdown",
   "metadata": {
    "colab_type": "text",
    "id": "bipA0Hn8z1Dn"
   },
   "source": [
    "### UPLOAD TO FIREBASE"
   ]
  },
  {
   "cell_type": "code",
   "execution_count": 0,
   "metadata": {
    "colab": {},
    "colab_type": "code",
    "id": "DoRcoqKJnr6J"
   },
   "outputs": [],
   "source": [
    "#STATE\n",
    "#Convert states df to a dictionary\n",
    "states = df_dep.to_dict('index')\n",
    "states_dict = [{k: v} for k, v in states.items()] \n",
    "states_l_dict = []\n",
    "for i,sta in enumerate(states_dict):\n",
    "  id_state=list(sta.keys())[0]\n",
    "  state=sta[id_state]['Name']\n",
    "  new_data={'Name':state,\n",
    "            'Coordinates':{\n",
    "                'Longitude':sta[id_state]['Longitude'],\n",
    "                'Latitude':sta[id_state]['Latitude']},\n",
    "            'Population':sta[id_state]['Population']}\n",
    "  states_l_dict.append(new_data)\n",
    "  \n",
    "  doc_state = db.collection(u'Locations').document(u'Benin').collection(u'States').add(new_data)[1]\n",
    "  if i ==1:\n",
    "    break"
   ]
  },
  {
   "cell_type": "code",
   "execution_count": 0,
   "metadata": {
    "colab": {
     "base_uri": "https://localhost:8080/",
     "height": 86
    },
    "colab_type": "code",
    "id": "424yujA-oeis",
    "outputId": "ffb49a56-57a2-45ee-c22a-de3b74296b50"
   },
   "outputs": [
    {
     "data": {
      "text/plain": [
       "update_time {\n",
       "  seconds: 1568999130\n",
       "  nanos: 556021000\n",
       "}"
      ]
     },
     "execution_count": 81,
     "metadata": {
      "tags": []
     },
     "output_type": "execute_result"
    }
   ],
   "source": [
    "doc_state.update({'id':doc_state.id})"
   ]
  },
  {
   "cell_type": "code",
   "execution_count": 0,
   "metadata": {
    "colab": {
     "base_uri": "https://localhost:8080/",
     "height": 165
    },
    "colab_type": "code",
    "id": "0iPuFBfHn6Qo",
    "outputId": "91945831-5452-450b-9588-225d308ddf93"
   },
   "outputs": [
    {
     "ename": "AttributeError",
     "evalue": "ignored",
     "output_type": "error",
     "traceback": [
      "\u001b[0;31m---------------------------------------------------------------------------\u001b[0m",
      "\u001b[0;31mAttributeError\u001b[0m                            Traceback (most recent call last)",
      "\u001b[0;32m<ipython-input-79-b9220da92e54>\u001b[0m in \u001b[0;36m<module>\u001b[0;34m()\u001b[0m\n\u001b[0;32m----> 1\u001b[0;31m \u001b[0mdoc_state\u001b[0m\u001b[0;34m.\u001b[0m\u001b[0mget\u001b[0m\u001b[0;34m(\u001b[0m\u001b[0;34m)\u001b[0m\u001b[0;34m.\u001b[0m\u001b[0madd\u001b[0m\u001b[0;34m(\u001b[0m\u001b[0;34m{\u001b[0m\u001b[0;34m'id'\u001b[0m\u001b[0;34m:\u001b[0m\u001b[0mdoc_state\u001b[0m\u001b[0;34m.\u001b[0m\u001b[0mid\u001b[0m\u001b[0;34m}\u001b[0m\u001b[0;34m)\u001b[0m\u001b[0;34m\u001b[0m\u001b[0;34m\u001b[0m\u001b[0m\n\u001b[0m",
      "\u001b[0;31mAttributeError\u001b[0m: 'DocumentSnapshot' object has no attribute 'add'"
     ]
    }
   ],
   "source": [
    "doc_state.get().add({'id':doc_state.id})"
   ]
  },
  {
   "cell_type": "code",
   "execution_count": 0,
   "metadata": {
    "colab": {
     "base_uri": "https://localhost:8080/",
     "height": 86
    },
    "colab_type": "code",
    "id": "5li8AbKBshFo",
    "outputId": "87e208c5-086f-439c-f269-07ebdb40e6ed"
   },
   "outputs": [
    {
     "data": {
      "text/plain": [
       "{'Coordinates': {'Latitude': '10.30416', 'Longitude': '1.37962'},\n",
       " 'Name': 'ATACORA',\n",
       " 'Population': '772262',\n",
       " 'id': 'hey'}"
      ]
     },
     "execution_count": 91,
     "metadata": {
      "tags": []
     },
     "output_type": "execute_result"
    }
   ],
   "source": [
    "new_data"
   ]
  },
  {
   "cell_type": "code",
   "execution_count": 0,
   "metadata": {
    "colab": {},
    "colab_type": "code",
    "id": "53Ko72Cox1ia"
   },
   "outputs": [],
   "source": [
    "#STATE\n",
    "#Convert states df to a dictionary\n",
    "states = df_dep.to_dict('index')\n",
    "states_dict = [{k: v} for k, v in states.items()] \n",
    "states_l_dict = []\n",
    "districts_l_dict = []\n",
    "countys_l_dict = []\n",
    "for sta in states_dict:\n",
    "  id_state=list(sta.keys())[0]\n",
    "  state=sta[id_state]['Name']\n",
    "  new_data={'name':state,\n",
    "            'coordinates':{\n",
    "                'longitude':sta[id_state]['Longitude'],\n",
    "                'latitude':sta[id_state]['Latitude']},\n",
    "            'population':sta[id_state]['Population']}\n",
    "  \n",
    "  doc_state = db.collection(u'Locations').document(u'Benin').collection(u'States').add(new_data)[1]\n",
    "  state_id = doc_state.id\n",
    "  doc_state.update({'id':state_id})\n",
    "  new_data['id']=state_id\n",
    "  states_l_dict.append(new_data)\n",
    "\n",
    "  \n",
    "  #COUNTY\n",
    "  #get countys of that state\n",
    "  df_county_state = df_county[df_county['State']==state]\n",
    "  #Convert countys df to a dictionary\n",
    "  countys = df_county_state.to_dict('index')\n",
    "  countys_dict = [{k: v} for k, v in countys.items()] \n",
    "  for coun in countys_dict:\n",
    "    id_county=list(coun.keys())[0]\n",
    "    county=coun[id_county]['Name']\n",
    "    new_data={'name':county,\n",
    "              'coordinates':{\n",
    "                  'longitude':coun[id_county]['Longitude'],\n",
    "                  'latitude':coun[id_county]['Latitude']},\n",
    "              'population':coun[id_county]['Population'],\n",
    "              'state':state,\n",
    "              'state_id':state_id}\n",
    "    doc_county = db.collection(u'Locations').document(u'Benin').collection(u'County').add(new_data)[1]\n",
    "    county_id=doc_county.id\n",
    "    doc_county.update({'id':county_id})\n",
    "    new_data['id']=county_id\n",
    "    countys_l_dict.append(new_data)\n",
    "    \n",
    "    #DISTRICT\n",
    "    #get districts of that county\n",
    "    df_districts_county = df_dis[df_dis['County']==county]\n",
    "    #Convert district df to a dictionary\n",
    "    districts = df_districts_county.to_dict('index')\n",
    "    districts_dict = [{k: v} for k, v in districts.items()] \n",
    "    for dis in districts_dict:\n",
    "      id_districts=list(dis.keys())[0]\n",
    "      district = dis[id_districts]['Name']\n",
    "      new_data={'name':district,\n",
    "                'coordinates':{\n",
    "                    'longitude':dis[id_districts]['Longitude'],\n",
    "                    'latitude':dis[id_districts]['Latitude']},\n",
    "                'population':dis[id_districts]['Population'],\n",
    "               'state':state,\n",
    "               'state_id':state_id,\n",
    "               'county':county,\n",
    "               'county_id':county_id}\n",
    "      doc_district = db.collection(u'Locations').document(u'Benin').collection(u'District').add(new_data)[1]\n",
    "      district_id=doc_district.id\n",
    "      doc_county.update({'id':district_id})\n",
    "      new_data['id']=district_id\n",
    "      districts_l_dict.append(new_data)\n",
    "  "
   ]
  },
  {
   "cell_type": "markdown",
   "metadata": {
    "colab_type": "text",
    "id": "2578uhpY5sbB"
   },
   "source": [
    "## VILLAGES\n",
    "\n",
    "Only Nikki - get villages from work done by FICAI: https://www.google.com/maps/d/edit?mid=1te53KEJYUJ2ulJLsGpa9S15suY1lNPGQ&ll=10.108170603054887%2C2.9732788000000028&z=8"
   ]
  },
  {
   "cell_type": "code",
   "execution_count": 0,
   "metadata": {
    "colab": {},
    "colab_type": "code",
    "id": "wz-sJyZbP0Tr"
   },
   "outputs": [],
   "source": [
    "import xml.sax, xml.sax.handler\n",
    "import re\n",
    "from zipfile import ZipFile"
   ]
  },
  {
   "cell_type": "code",
   "execution_count": 0,
   "metadata": {
    "colab": {},
    "colab_type": "code",
    "id": "e_WHVGatP2v1"
   },
   "outputs": [],
   "source": [
    "filename = 'Poblacion.kmz'\n",
    "\n",
    "kmz = ZipFile(filename, 'r')\n",
    "kml = kmz.open('doc.kml', 'r')"
   ]
  },
  {
   "cell_type": "code",
   "execution_count": 0,
   "metadata": {
    "colab": {},
    "colab_type": "code",
    "id": "LkMQlzjNP38T"
   },
   "outputs": [],
   "source": [
    "\n",
    "class PlacemarkHandler(xml.sax.handler.ContentHandler):\n",
    "    def __init__(self):\n",
    "        self.inName = False # handle XML parser events\n",
    "        self.inPlacemark = False\n",
    "        self.mapping = {} \n",
    "        self.buffer = \"\"\n",
    "        self.name_tag = \"\"\n",
    "        \n",
    "    def startElement(self, name, attributes):\n",
    "        if name == \"Placemark\": # on start Placemark tag\n",
    "            self.inPlacemark = True\n",
    "            self.buffer = \"\" \n",
    "        if self.inPlacemark:\n",
    "            if name == \"name\": # on start title tag\n",
    "                self.inName = True # save name text to follow\n",
    "            \n",
    "    def characters(self, data):\n",
    "        if self.inPlacemark: # on text within tag\n",
    "            self.buffer += data # save text if in title\n",
    "            \n",
    "    def endElement(self, name):\n",
    "        self.buffer = self.buffer.strip('\\n\\t')\n",
    "        \n",
    "        if name == \"Placemark\":\n",
    "            self.inPlacemark = False\n",
    "            self.name_tag = \"\" #clear current name\n",
    "        \n",
    "        elif name == \"name\" and self.inPlacemark:\n",
    "            self.inName = False # on end title tag            \n",
    "            self.name_tag = self.buffer.strip()\n",
    "            self.mapping[self.name_tag] = {}\n",
    "        elif self.inPlacemark:\n",
    "            if name in self.mapping[self.name_tag]:\n",
    "                self.mapping[self.name_tag][name] += self.buffer\n",
    "            else:\n",
    "                self.mapping[self.name_tag][name] = self.buffer\n",
    "        self.buffer = \"\""
   ]
  },
  {
   "cell_type": "code",
   "execution_count": 0,
   "metadata": {
    "colab": {},
    "colab_type": "code",
    "id": "s1mDSxzoP7Yx"
   },
   "outputs": [],
   "source": [
    "parser = xml.sax.make_parser()\n",
    "handler = PlacemarkHandler()\n",
    "parser.setContentHandler(handler)\n",
    "parser.parse(kml)\n",
    "kmz.close()"
   ]
  },
  {
   "cell_type": "code",
   "execution_count": 0,
   "metadata": {
    "colab": {},
    "colab_type": "code",
    "id": "AQdpmkT7P9Sz"
   },
   "outputs": [],
   "source": [
    "def build_table(mapping):\n",
    "    sep = ','\n",
    "        \n",
    "    output = []\n",
    "    shapes = ''\n",
    "    for key in mapping:\n",
    "        coord_str = mapping[key]['coordinates']\n",
    "        coords = re.findall('\\d.*,.*\\d', coord_str )\n",
    "        coord = coords[0].replace(',0',\"\")\n",
    "        coord = coord.split(',')\n",
    "        name = key.split(' - ')\n",
    "        if len(name)==1:\n",
    "          continue\n",
    "        else:\n",
    "          output.append({'Name':name[1],'Arrondissement':name[0],'Longitude':coord[0],'Latitude':coord[1]})\n",
    "    return output"
   ]
  },
  {
   "cell_type": "code",
   "execution_count": 0,
   "metadata": {
    "colab": {},
    "colab_type": "code",
    "id": "WxA3KXR5QDga"
   },
   "outputs": [],
   "source": [
    "outstr = build_table(handler.mapping)"
   ]
  },
  {
   "cell_type": "code",
   "execution_count": 0,
   "metadata": {
    "colab": {},
    "colab_type": "code",
    "id": "U7HxCulFQPTY"
   },
   "outputs": [],
   "source": [
    "df_villages = pd.DataFrame(outstr)"
   ]
  },
  {
   "cell_type": "code",
   "execution_count": 0,
   "metadata": {
    "colab": {},
    "colab_type": "code",
    "id": "8rA-rc7IQP9n"
   },
   "outputs": [],
   "source": [
    "df_villages = df_villages[['Name','Arrondissement','Longitude','Latitude']]"
   ]
  },
  {
   "cell_type": "code",
   "execution_count": 0,
   "metadata": {
    "colab": {},
    "colab_type": "code",
    "id": "YNMMO8bekGDT"
   },
   "outputs": [],
   "source": [
    "df_villages['Arrondissement'] = df_villages.apply(lambda x: 'GNONKOUROKALI' \n",
    "                                                  if bool(re.search('gnonkou',x['Arrondissement'].lower()))\n",
    "                                                  else str(x['Arrondissement']).upper(), \n",
    "                                                  axis=1)"
   ]
  },
  {
   "cell_type": "code",
   "execution_count": 0,
   "metadata": {
    "colab": {},
    "colab_type": "code",
    "id": "1DQZHZamb3iZ"
   },
   "outputs": [],
   "source": [
    "def cosa(x):\n",
    "  arron = x['Arrondissement']\n",
    "  village = x['Name']\n",
    "  df_arron = df_2009[df_2009['Arrondissement']==arron]\n",
    "  \n",
    "  choices = df_arron['Localité'].to_list()\n",
    "  \n",
    "  results = process.extract(village, choices, limit=5)\n",
    "  \n",
    "  if len(results)>0:\n",
    "  \n",
    "    result = results[0][0]\n",
    "    value = results[0][1]\n",
    "    if value <85:\n",
    "      print(village)\n",
    "      print(results)\n",
    "      print('FINI\\n\\n')\n",
    "\n",
    "    population = df_2009[df_2009['Localité']==result].values[0]\n",
    "    \n",
    "  else:\n",
    "    population = None\n",
    "    print(village)\n",
    "    print('CACA\\n')\n",
    "    \n",
    "  return population\n",
    "    \n",
    "\n",
    "    \n",
    "    "
   ]
  },
  {
   "cell_type": "code",
   "execution_count": 0,
   "metadata": {
    "colab": {
     "base_uri": "https://localhost:8080/",
     "height": 1000
    },
    "colab_type": "code",
    "id": "l_Y0lVVIUS6Q",
    "outputId": "d10a6281-badc-4317-a1e6-d77ad7ea974d"
   },
   "outputs": [
    {
     "name": "stdout",
     "output_type": "stream",
     "text": [
      "Gneltoko\n",
      "[('Bokon', 60), ('Gnonho', 57), ('Gnonkourokali', 56), ('Gnonkourokali', 56), ('Gnonkourokali', 56)]\n",
      "FINI\n",
      "\n",
      "\n",
      "Gourou Pibou\n",
      "[('Dakou Gourou', 71), ('Koro', 68), ('Guinrou', 64), ('Guinrou', 64), ('Guinrou', 64)]\n",
      "FINI\n",
      "\n",
      "\n",
      "Weketere\n",
      "[('Wèkètèrè', 67), ('Gotel centre', 50), ('Gnel Kéridji', 32), ('Gotel Peuhl', 32), ('Kongaré', 29)]\n",
      "FINI\n",
      "\n",
      "\n",
      "Ouromonsi Peulh\n",
      "[('Ouroumon', 79), ('Ouroumon', 79), ('Ouroumon', 79), ('Bouérou', 60), ('Ouénou', 54)]\n",
      "FINI\n",
      "\n",
      "\n",
      "GnelKiradje\n",
      "[('Gnel Siradjè', 82), ('Gnel Kéridji', 73), ('Gnel Bodédji', 55), ('Kibia', 54), ('Gnel Sanna', 48)]\n",
      "FINI\n",
      "\n",
      "\n",
      "Ganrou Peulh\n",
      "[('Ganrou Bariba', 64), ('Ganrou Bariba', 64), ('Ganrou Bariba', 64), ('Ganrou Gando', 64), ('Gah Sonna Peuhl', 59)]\n",
      "FINI\n",
      "\n",
      "\n",
      "Bantere\n",
      "[('Bantéré', 83), ('Bantéré', 83), ('Dantcha', 43), ('Gnannoubéré', 38), ('Gnannoubéré', 38)]\n",
      "FINI\n",
      "\n",
      "\n",
      "Ganchon\n",
      "[('Ganson', 77), ('Ganson', 77), ('Ganson', 77), ('Gah Sonna', 62), ('Gando Pénéré', 62)]\n",
      "FINI\n",
      "\n",
      "\n",
      "Gbarire\n",
      "[('Gbabiré', 77), ('Gbabiré', 77), ('Gbabiré Zongo', 64), ('Boa', 60), ('Quartier', 53)]\n",
      "FINI\n",
      "\n",
      "\n",
      "Bakedje\n",
      "[('Barikèdjè', 71), ('Gnel Anakèdjè', 56), ('Bèlè', 45), ('Sako', 45), ('Babi', 45)]\n",
      "FINI\n",
      "\n",
      "\n",
      "Boukanere\n",
      "[('Boucanèrè', 75), ('Boucanèrè', 75), ('Boucanèrè', 75), ('Boucanèrè Peuhl', 64), ('Boudal', 60)]\n",
      "FINI\n",
      "\n",
      "\n",
      "Kparisserou\n",
      "[('Kparissérou Bariba', 82), ('Kparissérou Bariba', 82), ('Kparissérou Gando', 74), ('Kparissérou Peuhl', 74), ('Yassinrou', 60)]\n",
      "FINI\n",
      "\n",
      "\n",
      "Belle\n",
      "[('Bèlè', 57), ('Gnel Pèdèlè', 46), ('Boudal', 36), ('Boucanèrè Peuhl', 36), ('Djibril Gbérou Kpanin', 36)]\n",
      "FINI\n",
      "\n",
      "\n",
      "Donkparawi\n",
      "[('Domplawi', 67), ('Domplawi', 67), ('Domplawi', 67), ('Kparissérou Gando', 60), ('Tèpa', 60)]\n",
      "FINI\n",
      "\n",
      "\n",
      "Gbaoussi Kpaa\n",
      "[('Baoussi 1', 73), ('Baoussi 1', 73), ('Baoussi 1', 73), ('Baoussi 1', 73), ('Baoussi 2', 73)]\n",
      "FINI\n",
      "\n",
      "\n",
      "Gboussi\n",
      "[('Baoussi 1', 75), ('Baoussi 1', 75), ('Baoussi 1', 75), ('Baoussi 1', 75), ('Baoussi 2', 75)]\n",
      "FINI\n",
      "\n",
      "\n"
     ]
    }
   ],
   "source": [
    "df_villages['Population'] = df_villages.apply(lambda x: cosa(x),axis=1)"
   ]
  },
  {
   "cell_type": "code",
   "execution_count": 0,
   "metadata": {
    "colab": {
     "base_uri": "https://localhost:8080/",
     "height": 52
    },
    "colab_type": "code",
    "id": "9PvWylExYvBd",
    "outputId": "3ef8c872-f49a-4125-b680-f1c9c06c7266"
   },
   "outputs": [
    {
     "name": "stdout",
     "output_type": "stream",
     "text": [
      "[('Gourou', 90), ('Gourou', 90), ('Gourou', 90), ('Gourou', 90), ('Gourou', 90)]\n",
      "[('Gourou', 90), ('Gourou', 90), ('Gourou', 90), ('Gourou', 90), ('Gourou', 90)]\n"
     ]
    }
   ],
   "source": [
    "village = 'Gourou Pibou'\n",
    "arron = df_villages[df_villages['Name']==village]['Arrondissement'].values[0]\n",
    "df_arron = df_2009[df_2009['Arrondissement']==arron]\n",
    "\n",
    "choices1 = df_2009['Village'].to_list()\n",
    "choices2 = df_2009['Localité'].to_list()\n",
    "\n",
    "results1=process.extract(village, choices1, limit=5)\n",
    "results2=process.extract(village, choices2, limit=5)\n",
    "print(results1)\n",
    "print(results2)"
   ]
  },
  {
   "cell_type": "code",
   "execution_count": 0,
   "metadata": {
    "colab": {
     "base_uri": "https://localhost:8080/",
     "height": 1000
    },
    "colab_type": "code",
    "id": "xho_LwcFm7rD",
    "outputId": "72b200c8-5d68-4c17-928a-193e55aae792"
   },
   "outputs": [
    {
     "data": {
      "text/html": [
       "<div>\n",
       "<style scoped>\n",
       "    .dataframe tbody tr th:only-of-type {\n",
       "        vertical-align: middle;\n",
       "    }\n",
       "\n",
       "    .dataframe tbody tr th {\n",
       "        vertical-align: top;\n",
       "    }\n",
       "\n",
       "    .dataframe thead th {\n",
       "        text-align: right;\n",
       "    }\n",
       "</style>\n",
       "<table border=\"1\" class=\"dataframe\">\n",
       "  <thead>\n",
       "    <tr style=\"text-align: right;\">\n",
       "      <th></th>\n",
       "      <th>Arrondissement</th>\n",
       "      <th>Village</th>\n",
       "      <th>Localité</th>\n",
       "      <th>Population</th>\n",
       "      <th>Type d'ouvrage</th>\n",
       "      <th>Etat</th>\n",
       "      <th>Longitude</th>\n",
       "      <th>Latitude</th>\n",
       "      <th>Domaine d'installation</th>\n",
       "      <th>Latitude_decimals</th>\n",
       "      <th>Longitude_decimals</th>\n",
       "    </tr>\n",
       "  </thead>\n",
       "  <tbody>\n",
       "    <tr>\n",
       "      <th>57</th>\n",
       "      <td>GNONKOUROKALI</td>\n",
       "      <td>Gbari</td>\n",
       "      <td>Angaradébou Peuhl</td>\n",
       "      <td>140</td>\n",
       "      <td>/</td>\n",
       "      <td>/</td>\n",
       "      <td>/</td>\n",
       "      <td>/</td>\n",
       "      <td>/</td>\n",
       "      <td>NaN</td>\n",
       "      <td>NaN</td>\n",
       "    </tr>\n",
       "    <tr>\n",
       "      <th>58</th>\n",
       "      <td>GNONKOUROKALI</td>\n",
       "      <td>Gbari</td>\n",
       "      <td>Dassarou Peuhl</td>\n",
       "      <td>650</td>\n",
       "      <td>FPM</td>\n",
       "      <td>Fonctionnel</td>\n",
       "      <td>02°55'07,8\"E</td>\n",
       "      <td>10°01'31,2\"N</td>\n",
       "      <td>Domaine public</td>\n",
       "      <td>10.025333</td>\n",
       "      <td>2.918833</td>\n",
       "    </tr>\n",
       "    <tr>\n",
       "      <th>59</th>\n",
       "      <td>GNONKOUROKALI</td>\n",
       "      <td>Gbari</td>\n",
       "      <td>Dassarou Peuhl</td>\n",
       "      <td>650</td>\n",
       "      <td>FPM</td>\n",
       "      <td>Fonctionnel</td>\n",
       "      <td>02°55'40,1\"E</td>\n",
       "      <td>10°01'52,5\"N</td>\n",
       "      <td>Domaine public</td>\n",
       "      <td>10.031250</td>\n",
       "      <td>2.927806</td>\n",
       "    </tr>\n",
       "    <tr>\n",
       "      <th>60</th>\n",
       "      <td>GNONKOUROKALI</td>\n",
       "      <td>Gbari</td>\n",
       "      <td>Gah Gosso</td>\n",
       "      <td>450</td>\n",
       "      <td>/</td>\n",
       "      <td>/</td>\n",
       "      <td>/</td>\n",
       "      <td>/</td>\n",
       "      <td>/</td>\n",
       "      <td>NaN</td>\n",
       "      <td>NaN</td>\n",
       "    </tr>\n",
       "    <tr>\n",
       "      <th>61</th>\n",
       "      <td>GNONKOUROKALI</td>\n",
       "      <td>Gbari</td>\n",
       "      <td>Gbari</td>\n",
       "      <td>1132</td>\n",
       "      <td>FPM</td>\n",
       "      <td>Fonctionnel</td>\n",
       "      <td>02°55'51,9\"E</td>\n",
       "      <td>10°00'22,0\"N</td>\n",
       "      <td>Domaine public</td>\n",
       "      <td>10.006111</td>\n",
       "      <td>2.931083</td>\n",
       "    </tr>\n",
       "    <tr>\n",
       "      <th>62</th>\n",
       "      <td>GNONKOUROKALI</td>\n",
       "      <td>Gbari</td>\n",
       "      <td>Gbari</td>\n",
       "      <td>1132</td>\n",
       "      <td>FPM</td>\n",
       "      <td>Fonctionnel</td>\n",
       "      <td>02°55'43,7\"E</td>\n",
       "      <td>10°00'24,5\"N</td>\n",
       "      <td>Domaine public</td>\n",
       "      <td>10.006806</td>\n",
       "      <td>2.928806</td>\n",
       "    </tr>\n",
       "    <tr>\n",
       "      <th>63</th>\n",
       "      <td>GNONKOUROKALI</td>\n",
       "      <td>Gbari</td>\n",
       "      <td>Gbari</td>\n",
       "      <td>1132</td>\n",
       "      <td>PM</td>\n",
       "      <td>Abandonné</td>\n",
       "      <td>02°55'49,2\"E</td>\n",
       "      <td>10°00'15,8\"N</td>\n",
       "      <td>Domaine public</td>\n",
       "      <td>10.004389</td>\n",
       "      <td>2.930333</td>\n",
       "    </tr>\n",
       "    <tr>\n",
       "      <th>64</th>\n",
       "      <td>GNONKOUROKALI</td>\n",
       "      <td>Gbari</td>\n",
       "      <td>Gbari</td>\n",
       "      <td>1132</td>\n",
       "      <td>PM</td>\n",
       "      <td>Non fonctionnel</td>\n",
       "      <td>02°55'50,4\"E</td>\n",
       "      <td>10°00'16,6\"N</td>\n",
       "      <td>Domaine public</td>\n",
       "      <td>10.004611</td>\n",
       "      <td>2.930667</td>\n",
       "    </tr>\n",
       "    <tr>\n",
       "      <th>65</th>\n",
       "      <td>GNONKOUROKALI</td>\n",
       "      <td>Gbari</td>\n",
       "      <td>Gbari</td>\n",
       "      <td>1132</td>\n",
       "      <td>PM</td>\n",
       "      <td>Fonctionnel</td>\n",
       "      <td>02°55'54,2\"E</td>\n",
       "      <td>10°00'17,0\"N</td>\n",
       "      <td>Domaine public</td>\n",
       "      <td>10.004722</td>\n",
       "      <td>2.931722</td>\n",
       "    </tr>\n",
       "    <tr>\n",
       "      <th>66</th>\n",
       "      <td>GNONKOUROKALI</td>\n",
       "      <td>Gbari</td>\n",
       "      <td>Gbari</td>\n",
       "      <td>1132</td>\n",
       "      <td>PM</td>\n",
       "      <td>Fonctionnel</td>\n",
       "      <td>02°55'21,5\"E</td>\n",
       "      <td>10°00'03,9\"N</td>\n",
       "      <td>Domaine public</td>\n",
       "      <td>10.001083</td>\n",
       "      <td>2.922639</td>\n",
       "    </tr>\n",
       "    <tr>\n",
       "      <th>67</th>\n",
       "      <td>GNONKOUROKALI</td>\n",
       "      <td>Gbari</td>\n",
       "      <td>Gbari</td>\n",
       "      <td></td>\n",
       "      <td>PM</td>\n",
       "      <td>Fonctionnel</td>\n",
       "      <td>02°55'32,8\"E</td>\n",
       "      <td>10°00'38,6\"N</td>\n",
       "      <td>Domaine public</td>\n",
       "      <td>10.010722</td>\n",
       "      <td>2.925778</td>\n",
       "    </tr>\n",
       "    <tr>\n",
       "      <th>68</th>\n",
       "      <td>GNONKOUROKALI</td>\n",
       "      <td>Gbari</td>\n",
       "      <td>Gnonho</td>\n",
       "      <td>260</td>\n",
       "      <td>FPM</td>\n",
       "      <td>Fonctionnel</td>\n",
       "      <td>02°56'59,0\"E</td>\n",
       "      <td>10°01'41,2\"N</td>\n",
       "      <td>Domaine public</td>\n",
       "      <td>10.028111</td>\n",
       "      <td>2.949722</td>\n",
       "    </tr>\n",
       "    <tr>\n",
       "      <th>69</th>\n",
       "      <td>GNONKOUROKALI</td>\n",
       "      <td>Gbari</td>\n",
       "      <td>Guéroga</td>\n",
       "      <td>300</td>\n",
       "      <td>FPM</td>\n",
       "      <td>Fonctionnel</td>\n",
       "      <td>02°56'51,4\"E</td>\n",
       "      <td>10°00'04,4\"N</td>\n",
       "      <td>Domaine public</td>\n",
       "      <td>10.001222</td>\n",
       "      <td>2.947611</td>\n",
       "    </tr>\n",
       "    <tr>\n",
       "      <th>70</th>\n",
       "      <td>GNONKOUROKALI</td>\n",
       "      <td>Gnonkourokali</td>\n",
       "      <td>Bacoubé N'Kparou</td>\n",
       "      <td>100</td>\n",
       "      <td>/</td>\n",
       "      <td>/</td>\n",
       "      <td>/</td>\n",
       "      <td>/</td>\n",
       "      <td>/</td>\n",
       "      <td>NaN</td>\n",
       "      <td>NaN</td>\n",
       "    </tr>\n",
       "    <tr>\n",
       "      <th>71</th>\n",
       "      <td>GNONKOUROKALI</td>\n",
       "      <td>Gnonkourokali</td>\n",
       "      <td>Gnonkourokali</td>\n",
       "      <td>1780</td>\n",
       "      <td>FPM</td>\n",
       "      <td>Fonctionnel</td>\n",
       "      <td>02°53'58,2\"E</td>\n",
       "      <td>10°06'52,5\"N</td>\n",
       "      <td>Domaine public</td>\n",
       "      <td>10.114583</td>\n",
       "      <td>2.899500</td>\n",
       "    </tr>\n",
       "    <tr>\n",
       "      <th>72</th>\n",
       "      <td>GNONKOUROKALI</td>\n",
       "      <td>Gnonkourokali</td>\n",
       "      <td>Gnonkourokali</td>\n",
       "      <td>1780</td>\n",
       "      <td>PM</td>\n",
       "      <td>Fonctionnel</td>\n",
       "      <td>02°54'00,5\"E</td>\n",
       "      <td>10°06'58,0\"N</td>\n",
       "      <td>Domaine public</td>\n",
       "      <td>10.116111</td>\n",
       "      <td>2.900139</td>\n",
       "    </tr>\n",
       "    <tr>\n",
       "      <th>73</th>\n",
       "      <td>GNONKOUROKALI</td>\n",
       "      <td>Gnonkourokali</td>\n",
       "      <td>Gnonkourokali</td>\n",
       "      <td>1780</td>\n",
       "      <td>FPM</td>\n",
       "      <td>Fonctionnel</td>\n",
       "      <td>02°54'10,0\"E</td>\n",
       "      <td>10°06'58,4\"N</td>\n",
       "      <td>Lieu de culte</td>\n",
       "      <td>10.116222</td>\n",
       "      <td>2.902778</td>\n",
       "    </tr>\n",
       "    <tr>\n",
       "      <th>74</th>\n",
       "      <td>GNONKOUROKALI</td>\n",
       "      <td>Gnonkourokali</td>\n",
       "      <td>Gnonkourokali</td>\n",
       "      <td>1780</td>\n",
       "      <td>PM</td>\n",
       "      <td>Fonctionnel</td>\n",
       "      <td>02°53'57,6\"E</td>\n",
       "      <td>10°07'04,5\"N</td>\n",
       "      <td>Domaine public</td>\n",
       "      <td>10.117917</td>\n",
       "      <td>2.899333</td>\n",
       "    </tr>\n",
       "    <tr>\n",
       "      <th>75</th>\n",
       "      <td>GNONKOUROKALI</td>\n",
       "      <td>Gnonkourokal</td>\n",
       "      <td>Sabi Yèrè Kparou</td>\n",
       "      <td>428</td>\n",
       "      <td>/</td>\n",
       "      <td>/</td>\n",
       "      <td>/</td>\n",
       "      <td>/</td>\n",
       "      <td>/</td>\n",
       "      <td>NaN</td>\n",
       "      <td>NaN</td>\n",
       "    </tr>\n",
       "    <tr>\n",
       "      <th>76</th>\n",
       "      <td>GNONKOUROKALI</td>\n",
       "      <td>Gnonkourokal</td>\n",
       "      <td>Sèriasson</td>\n",
       "      <td>600</td>\n",
       "      <td>PM</td>\n",
       "      <td>Fonctionnel</td>\n",
       "      <td>02°54'57,6\"E</td>\n",
       "      <td>10°04'26,3\"N</td>\n",
       "      <td>Mission catholique</td>\n",
       "      <td>10.073972</td>\n",
       "      <td>2.916000</td>\n",
       "    </tr>\n",
       "    <tr>\n",
       "      <th>77</th>\n",
       "      <td>GNONKOUROKALI</td>\n",
       "      <td>Guèma</td>\n",
       "      <td>Gourè Karèa</td>\n",
       "      <td>160</td>\n",
       "      <td>/</td>\n",
       "      <td>/</td>\n",
       "      <td>/</td>\n",
       "      <td>/</td>\n",
       "      <td>/</td>\n",
       "      <td>NaN</td>\n",
       "      <td>NaN</td>\n",
       "    </tr>\n",
       "    <tr>\n",
       "      <th>78</th>\n",
       "      <td>GNONKOUROKALI</td>\n",
       "      <td>Guèma</td>\n",
       "      <td>Goutto</td>\n",
       "      <td>300</td>\n",
       "      <td>FPM</td>\n",
       "      <td>Fonctionnel</td>\n",
       "      <td>03°00'14,9\"E</td>\n",
       "      <td>09°57'53,3\"N</td>\n",
       "      <td>Domaine public</td>\n",
       "      <td>9.964806</td>\n",
       "      <td>3.004139</td>\n",
       "    </tr>\n",
       "    <tr>\n",
       "      <th>79</th>\n",
       "      <td>GNONKOUROKALI</td>\n",
       "      <td>Guèma</td>\n",
       "      <td>Guèma</td>\n",
       "      <td>715</td>\n",
       "      <td>FPM</td>\n",
       "      <td>Fonctionnel</td>\n",
       "      <td>02°59'36,9\"E</td>\n",
       "      <td>09°57'56,0\"N</td>\n",
       "      <td>Domaine public</td>\n",
       "      <td>9.965556</td>\n",
       "      <td>2.993583</td>\n",
       "    </tr>\n",
       "    <tr>\n",
       "      <th>80</th>\n",
       "      <td>GNONKOUROKALI</td>\n",
       "      <td>Guèma</td>\n",
       "      <td>Guèma</td>\n",
       "      <td>715</td>\n",
       "      <td>PM</td>\n",
       "      <td>Fonctionnel</td>\n",
       "      <td>02°59'26,7\"E</td>\n",
       "      <td>09°57'58,9\"N</td>\n",
       "      <td>Domaine public</td>\n",
       "      <td>9.966361</td>\n",
       "      <td>2.990750</td>\n",
       "    </tr>\n",
       "    <tr>\n",
       "      <th>81</th>\n",
       "      <td>GNONKOUROKALI</td>\n",
       "      <td>Guinrou</td>\n",
       "      <td>Guinrou</td>\n",
       "      <td>802</td>\n",
       "      <td>PM</td>\n",
       "      <td>Fonctionnel</td>\n",
       "      <td>02°56'53,3\"E</td>\n",
       "      <td>09°57'42,4\"N</td>\n",
       "      <td>Domaine public</td>\n",
       "      <td>9.961778</td>\n",
       "      <td>2.948139</td>\n",
       "    </tr>\n",
       "    <tr>\n",
       "      <th>82</th>\n",
       "      <td>GNONKOUROKALI</td>\n",
       "      <td>Guinrou</td>\n",
       "      <td>Guinrou</td>\n",
       "      <td>802</td>\n",
       "      <td>FPM</td>\n",
       "      <td>Fonctionnel</td>\n",
       "      <td>02°56'46,3\"E</td>\n",
       "      <td>09°57'37,7\"N</td>\n",
       "      <td>Domaine public</td>\n",
       "      <td>9.960472</td>\n",
       "      <td>2.946194</td>\n",
       "    </tr>\n",
       "    <tr>\n",
       "      <th>83</th>\n",
       "      <td>GNONKOUROKALI</td>\n",
       "      <td>Guinrou</td>\n",
       "      <td>Guinrou</td>\n",
       "      <td>802</td>\n",
       "      <td>FPM</td>\n",
       "      <td>Fonctionnel</td>\n",
       "      <td>02°56'54,0\"E</td>\n",
       "      <td>09°57'37,2\"N</td>\n",
       "      <td>Domaine public</td>\n",
       "      <td>9.960333</td>\n",
       "      <td>2.948333</td>\n",
       "    </tr>\n",
       "    <tr>\n",
       "      <th>84</th>\n",
       "      <td>GNONKOUROKALI</td>\n",
       "      <td>Guinrou</td>\n",
       "      <td>Guinrou</td>\n",
       "      <td>802</td>\n",
       "      <td>PM</td>\n",
       "      <td>Abandonné</td>\n",
       "      <td>02°56'45,1\"E</td>\n",
       "      <td>09°57'41,8\"N</td>\n",
       "      <td>Domaine public</td>\n",
       "      <td>9.961611</td>\n",
       "      <td>2.945861</td>\n",
       "    </tr>\n",
       "    <tr>\n",
       "      <th>85</th>\n",
       "      <td>GNONKOUROKALI</td>\n",
       "      <td>Guinrou Peuhl</td>\n",
       "      <td>Banikparou</td>\n",
       "      <td></td>\n",
       "      <td>FPM</td>\n",
       "      <td>Fonctionnel</td>\n",
       "      <td>02°53'23,2\"E</td>\n",
       "      <td>09°58'48,1\"N</td>\n",
       "      <td>Domaine public</td>\n",
       "      <td>9.980028</td>\n",
       "      <td>2.889778</td>\n",
       "    </tr>\n",
       "    <tr>\n",
       "      <th>86</th>\n",
       "      <td>GNONKOUROKALI</td>\n",
       "      <td>Guinrou Peuhl</td>\n",
       "      <td>Dakou Gourou</td>\n",
       "      <td>251</td>\n",
       "      <td>FPM</td>\n",
       "      <td>Fonctionnel</td>\n",
       "      <td>02°57'25,7\"E</td>\n",
       "      <td>09°59'11,4\"N</td>\n",
       "      <td>Domaine public</td>\n",
       "      <td>9.986500</td>\n",
       "      <td>2.957139</td>\n",
       "    </tr>\n",
       "    <tr>\n",
       "      <th>87</th>\n",
       "      <td>GNONKOUROKALI</td>\n",
       "      <td>Guinrou Peuhl</td>\n",
       "      <td>Djanéri</td>\n",
       "      <td>308</td>\n",
       "      <td>/</td>\n",
       "      <td>/</td>\n",
       "      <td>/</td>\n",
       "      <td>/</td>\n",
       "      <td>/</td>\n",
       "      <td>NaN</td>\n",
       "      <td>NaN</td>\n",
       "    </tr>\n",
       "    <tr>\n",
       "      <th>88</th>\n",
       "      <td>GNONKOUROKALI</td>\n",
       "      <td>Guinrou Peuhl</td>\n",
       "      <td>Guèma Peuhl (Gassa\\nWorou)</td>\n",
       "      <td>500</td>\n",
       "      <td>PM</td>\n",
       "      <td>Fonctionnel</td>\n",
       "      <td>02°58'38,6\"E</td>\n",
       "      <td>09°57'59,0\"N</td>\n",
       "      <td>Domaine public</td>\n",
       "      <td>9.966389</td>\n",
       "      <td>2.977389</td>\n",
       "    </tr>\n",
       "    <tr>\n",
       "      <th>89</th>\n",
       "      <td>GNONKOUROKALI</td>\n",
       "      <td>Guinrou Peuhl</td>\n",
       "      <td>Guèma Peuh (Gassa\\nWorou)</td>\n",
       "      <td>500</td>\n",
       "      <td>FPM</td>\n",
       "      <td>Fonctionnel</td>\n",
       "      <td>02°58'35,0\"E</td>\n",
       "      <td>09°58'07,6\"N</td>\n",
       "      <td>Domaine public</td>\n",
       "      <td>9.968778</td>\n",
       "      <td>2.976389</td>\n",
       "    </tr>\n",
       "    <tr>\n",
       "      <th>90</th>\n",
       "      <td>GNONKOUROKALI</td>\n",
       "      <td>Guinrou Peuhl</td>\n",
       "      <td>Guinrou Peuhl</td>\n",
       "      <td>174</td>\n",
       "      <td>FPM</td>\n",
       "      <td>Fonctionnel</td>\n",
       "      <td>02°56'10,8\"E</td>\n",
       "      <td>09°56'38,2\"N</td>\n",
       "      <td>Domaine public</td>\n",
       "      <td>9.943944</td>\n",
       "      <td>2.936333</td>\n",
       "    </tr>\n",
       "    <tr>\n",
       "      <th>91</th>\n",
       "      <td>GNONKOUROKALI</td>\n",
       "      <td>Guinrou Peuhl</td>\n",
       "      <td>Sombirou</td>\n",
       "      <td>200</td>\n",
       "      <td>PM</td>\n",
       "      <td>Fonctionnel</td>\n",
       "      <td>02°57'22,2\"E</td>\n",
       "      <td>09°57'32,9\"N</td>\n",
       "      <td>Domaine public</td>\n",
       "      <td>9.959139</td>\n",
       "      <td>2.956167</td>\n",
       "    </tr>\n",
       "    <tr>\n",
       "      <th>92</th>\n",
       "      <td>GNONKOUROKALI</td>\n",
       "      <td>Guinrou Peuhl</td>\n",
       "      <td>Tèti</td>\n",
       "      <td>160</td>\n",
       "      <td>/</td>\n",
       "      <td>/</td>\n",
       "      <td>/</td>\n",
       "      <td>/</td>\n",
       "      <td>/</td>\n",
       "      <td>NaN</td>\n",
       "      <td>NaN</td>\n",
       "    </tr>\n",
       "    <tr>\n",
       "      <th>93</th>\n",
       "      <td>GNONKOUROKALI</td>\n",
       "      <td>Soubo</td>\n",
       "      <td>Bassiarou</td>\n",
       "      <td>250</td>\n",
       "      <td>FPM</td>\n",
       "      <td>Fonctionnel</td>\n",
       "      <td>02°49'42,2\"E</td>\n",
       "      <td>10°03'29,4\"N</td>\n",
       "      <td>Domaine public</td>\n",
       "      <td>10.058167</td>\n",
       "      <td>2.828389</td>\n",
       "    </tr>\n",
       "    <tr>\n",
       "      <th>94</th>\n",
       "      <td>GNONKOUROKALI</td>\n",
       "      <td>Soubo</td>\n",
       "      <td>Bokon</td>\n",
       "      <td>100</td>\n",
       "      <td>/</td>\n",
       "      <td>/</td>\n",
       "      <td>/</td>\n",
       "      <td>/</td>\n",
       "      <td>/</td>\n",
       "      <td>NaN</td>\n",
       "      <td>NaN</td>\n",
       "    </tr>\n",
       "    <tr>\n",
       "      <th>95</th>\n",
       "      <td>GNONKOUROKALI</td>\n",
       "      <td>Soubo</td>\n",
       "      <td>Bouégourou</td>\n",
       "      <td>200</td>\n",
       "      <td>FPM</td>\n",
       "      <td>Fonctionnel</td>\n",
       "      <td>02°49'34,8\"E</td>\n",
       "      <td>10°02'15,7\"N</td>\n",
       "      <td>Domaine public</td>\n",
       "      <td>10.037694</td>\n",
       "      <td>2.826333</td>\n",
       "    </tr>\n",
       "    <tr>\n",
       "      <th>96</th>\n",
       "      <td>GNONKOUROKALI</td>\n",
       "      <td>Soubo</td>\n",
       "      <td>Gourè Tèti</td>\n",
       "      <td>160</td>\n",
       "      <td>/</td>\n",
       "      <td>/</td>\n",
       "      <td>/</td>\n",
       "      <td>/</td>\n",
       "      <td>/</td>\n",
       "      <td>NaN</td>\n",
       "      <td>NaN</td>\n",
       "    </tr>\n",
       "    <tr>\n",
       "      <th>97</th>\n",
       "      <td>GNONKOUROKALI</td>\n",
       "      <td>Soubo</td>\n",
       "      <td>Kiraborou</td>\n",
       "      <td>200</td>\n",
       "      <td>/</td>\n",
       "      <td>/</td>\n",
       "      <td>/</td>\n",
       "      <td>/</td>\n",
       "      <td>/</td>\n",
       "      <td>NaN</td>\n",
       "      <td>NaN</td>\n",
       "    </tr>\n",
       "    <tr>\n",
       "      <th>98</th>\n",
       "      <td>GNONKOUROKALI</td>\n",
       "      <td>Soubo</td>\n",
       "      <td>Koro</td>\n",
       "      <td>300</td>\n",
       "      <td>FPM</td>\n",
       "      <td>Fonctionnel</td>\n",
       "      <td>02°48'44,9\"E</td>\n",
       "      <td>10°04'34,8\"N</td>\n",
       "      <td>Domaine public</td>\n",
       "      <td>10.076333</td>\n",
       "      <td>2.812472</td>\n",
       "    </tr>\n",
       "    <tr>\n",
       "      <th>99</th>\n",
       "      <td>GNONKOUROKALI</td>\n",
       "      <td>Soubo</td>\n",
       "      <td>Soubo</td>\n",
       "      <td>1468</td>\n",
       "      <td>PM</td>\n",
       "      <td>Fonctionnel</td>\n",
       "      <td>02°49'48,0\"E</td>\n",
       "      <td>10°03'36,9\"N</td>\n",
       "      <td>Centre de santé</td>\n",
       "      <td>10.060250</td>\n",
       "      <td>2.830000</td>\n",
       "    </tr>\n",
       "    <tr>\n",
       "      <th>100</th>\n",
       "      <td>GNONKOUROKALI</td>\n",
       "      <td>Soubo</td>\n",
       "      <td>Soubo</td>\n",
       "      <td>1468</td>\n",
       "      <td>FPM</td>\n",
       "      <td>Fonctionnel</td>\n",
       "      <td>02°50'04,8\"E</td>\n",
       "      <td>10°03'54,0\"N</td>\n",
       "      <td>Mission catholique</td>\n",
       "      <td>10.065000</td>\n",
       "      <td>2.834667</td>\n",
       "    </tr>\n",
       "    <tr>\n",
       "      <th>101</th>\n",
       "      <td>GNONKOUROKALI</td>\n",
       "      <td>Soubo</td>\n",
       "      <td>Soubo</td>\n",
       "      <td>1468</td>\n",
       "      <td>FPM</td>\n",
       "      <td>Fonctionnel</td>\n",
       "      <td>02°49'48,0\"E</td>\n",
       "      <td>10°03'50,4\"N</td>\n",
       "      <td>Domaine public</td>\n",
       "      <td>10.064000</td>\n",
       "      <td>2.830000</td>\n",
       "    </tr>\n",
       "    <tr>\n",
       "      <th>102</th>\n",
       "      <td>GNONKOUROKALI</td>\n",
       "      <td>Soubo</td>\n",
       "      <td>Soubo</td>\n",
       "      <td>1468</td>\n",
       "      <td>FPM</td>\n",
       "      <td>Fonctionnel</td>\n",
       "      <td>02°49'52,0\"E</td>\n",
       "      <td>10°03'42,7\"N</td>\n",
       "      <td>Domaine public</td>\n",
       "      <td>10.061861</td>\n",
       "      <td>2.831111</td>\n",
       "    </tr>\n",
       "    <tr>\n",
       "      <th>103</th>\n",
       "      <td>GNONKOUROKALI</td>\n",
       "      <td>Woroumagassarou</td>\n",
       "      <td>Gassounon Kparou\\n(Bai Bai)</td>\n",
       "      <td>300</td>\n",
       "      <td>FPM</td>\n",
       "      <td>Fonctionnel</td>\n",
       "      <td>02°50'34,9\"E</td>\n",
       "      <td>10°05'47,1\"N</td>\n",
       "      <td>Domaine public</td>\n",
       "      <td>10.096417</td>\n",
       "      <td>2.843028</td>\n",
       "    </tr>\n",
       "    <tr>\n",
       "      <th>104</th>\n",
       "      <td>GNONKOUROKALI</td>\n",
       "      <td>Woroumagassarou</td>\n",
       "      <td>Gassounon Kparou\\n(Bai Bai)</td>\n",
       "      <td>300</td>\n",
       "      <td>PM</td>\n",
       "      <td>Fonctionnel</td>\n",
       "      <td>02°50'34,0\"E</td>\n",
       "      <td>10°05'41,2\"N</td>\n",
       "      <td>Domaine public</td>\n",
       "      <td>10.094778</td>\n",
       "      <td>2.842778</td>\n",
       "    </tr>\n",
       "    <tr>\n",
       "      <th>105</th>\n",
       "      <td>GNONKOUROKALI</td>\n",
       "      <td>Woroumagassarou</td>\n",
       "      <td>Gourè Karel</td>\n",
       "      <td>260</td>\n",
       "      <td>FPM</td>\n",
       "      <td>Fonctionnel</td>\n",
       "      <td>02°51'09,2\"E</td>\n",
       "      <td>10°07'31,6\"N</td>\n",
       "      <td>Domaine public</td>\n",
       "      <td>10.125444</td>\n",
       "      <td>2.852556</td>\n",
       "    </tr>\n",
       "    <tr>\n",
       "      <th>106</th>\n",
       "      <td>GNONKOUROKALI</td>\n",
       "      <td>Woroumagassarou</td>\n",
       "      <td>Tèpa\\n(Danbourasson; Taïrou Kparou)</td>\n",
       "      <td>160</td>\n",
       "      <td>/</td>\n",
       "      <td>/</td>\n",
       "      <td>/</td>\n",
       "      <td>/</td>\n",
       "      <td>/</td>\n",
       "      <td>NaN</td>\n",
       "      <td>NaN</td>\n",
       "    </tr>\n",
       "    <tr>\n",
       "      <th>107</th>\n",
       "      <td>GNONKOUROKALI</td>\n",
       "      <td>Woroumagassarou</td>\n",
       "      <td>Woroumagassarou</td>\n",
       "      <td>500</td>\n",
       "      <td>FPM</td>\n",
       "      <td>Fonctionnel</td>\n",
       "      <td>02°50'49,5\"E</td>\n",
       "      <td>10°06'18,2\"N</td>\n",
       "      <td>Domaine public</td>\n",
       "      <td>10.105056</td>\n",
       "      <td>2.847083</td>\n",
       "    </tr>\n",
       "    <tr>\n",
       "      <th>108</th>\n",
       "      <td>GNONKOUROKALI</td>\n",
       "      <td>Woroumagassarou</td>\n",
       "      <td>Woroumagassarou</td>\n",
       "      <td>500</td>\n",
       "      <td>PM</td>\n",
       "      <td>Fonctionnel</td>\n",
       "      <td>02°50'49,8\"E</td>\n",
       "      <td>10°06'19,1\"N</td>\n",
       "      <td>Domaine public</td>\n",
       "      <td>10.105306</td>\n",
       "      <td>2.847167</td>\n",
       "    </tr>\n",
       "    <tr>\n",
       "      <th>109</th>\n",
       "      <td>GNONKOUROKALI</td>\n",
       "      <td>Woroumagassarou</td>\n",
       "      <td>Yarama</td>\n",
       "      <td>301</td>\n",
       "      <td>FPM</td>\n",
       "      <td>Fonctionnel</td>\n",
       "      <td>02°51'12,6\"E</td>\n",
       "      <td>10°06'33,1\"N</td>\n",
       "      <td>Domaine public</td>\n",
       "      <td>10.109194</td>\n",
       "      <td>2.853500</td>\n",
       "    </tr>\n",
       "  </tbody>\n",
       "</table>\n",
       "</div>"
      ],
      "text/plain": [
       "    Arrondissement          Village  ... Latitude_decimals Longitude_decimals\n",
       "57   GNONKOUROKALI            Gbari  ...               NaN                NaN\n",
       "58   GNONKOUROKALI            Gbari  ...         10.025333           2.918833\n",
       "59   GNONKOUROKALI            Gbari  ...         10.031250           2.927806\n",
       "60   GNONKOUROKALI            Gbari  ...               NaN                NaN\n",
       "61   GNONKOUROKALI            Gbari  ...         10.006111           2.931083\n",
       "62   GNONKOUROKALI            Gbari  ...         10.006806           2.928806\n",
       "63   GNONKOUROKALI            Gbari  ...         10.004389           2.930333\n",
       "64   GNONKOUROKALI            Gbari  ...         10.004611           2.930667\n",
       "65   GNONKOUROKALI            Gbari  ...         10.004722           2.931722\n",
       "66   GNONKOUROKALI            Gbari  ...         10.001083           2.922639\n",
       "67   GNONKOUROKALI            Gbari  ...         10.010722           2.925778\n",
       "68   GNONKOUROKALI            Gbari  ...         10.028111           2.949722\n",
       "69   GNONKOUROKALI            Gbari  ...         10.001222           2.947611\n",
       "70   GNONKOUROKALI    Gnonkourokali  ...               NaN                NaN\n",
       "71   GNONKOUROKALI    Gnonkourokali  ...         10.114583           2.899500\n",
       "72   GNONKOUROKALI    Gnonkourokali  ...         10.116111           2.900139\n",
       "73   GNONKOUROKALI    Gnonkourokali  ...         10.116222           2.902778\n",
       "74   GNONKOUROKALI    Gnonkourokali  ...         10.117917           2.899333\n",
       "75   GNONKOUROKALI     Gnonkourokal  ...               NaN                NaN\n",
       "76   GNONKOUROKALI     Gnonkourokal  ...         10.073972           2.916000\n",
       "77   GNONKOUROKALI            Guèma  ...               NaN                NaN\n",
       "78   GNONKOUROKALI            Guèma  ...          9.964806           3.004139\n",
       "79   GNONKOUROKALI            Guèma  ...          9.965556           2.993583\n",
       "80   GNONKOUROKALI            Guèma  ...          9.966361           2.990750\n",
       "81   GNONKOUROKALI          Guinrou  ...          9.961778           2.948139\n",
       "82   GNONKOUROKALI          Guinrou  ...          9.960472           2.946194\n",
       "83   GNONKOUROKALI          Guinrou  ...          9.960333           2.948333\n",
       "84   GNONKOUROKALI          Guinrou  ...          9.961611           2.945861\n",
       "85   GNONKOUROKALI    Guinrou Peuhl  ...          9.980028           2.889778\n",
       "86   GNONKOUROKALI    Guinrou Peuhl  ...          9.986500           2.957139\n",
       "87   GNONKOUROKALI    Guinrou Peuhl  ...               NaN                NaN\n",
       "88   GNONKOUROKALI    Guinrou Peuhl  ...          9.966389           2.977389\n",
       "89   GNONKOUROKALI    Guinrou Peuhl  ...          9.968778           2.976389\n",
       "90   GNONKOUROKALI    Guinrou Peuhl  ...          9.943944           2.936333\n",
       "91   GNONKOUROKALI    Guinrou Peuhl  ...          9.959139           2.956167\n",
       "92   GNONKOUROKALI    Guinrou Peuhl  ...               NaN                NaN\n",
       "93   GNONKOUROKALI            Soubo  ...         10.058167           2.828389\n",
       "94   GNONKOUROKALI            Soubo  ...               NaN                NaN\n",
       "95   GNONKOUROKALI            Soubo  ...         10.037694           2.826333\n",
       "96   GNONKOUROKALI            Soubo  ...               NaN                NaN\n",
       "97   GNONKOUROKALI            Soubo  ...               NaN                NaN\n",
       "98   GNONKOUROKALI            Soubo  ...         10.076333           2.812472\n",
       "99   GNONKOUROKALI            Soubo  ...         10.060250           2.830000\n",
       "100  GNONKOUROKALI            Soubo  ...         10.065000           2.834667\n",
       "101  GNONKOUROKALI            Soubo  ...         10.064000           2.830000\n",
       "102  GNONKOUROKALI            Soubo  ...         10.061861           2.831111\n",
       "103  GNONKOUROKALI  Woroumagassarou  ...         10.096417           2.843028\n",
       "104  GNONKOUROKALI  Woroumagassarou  ...         10.094778           2.842778\n",
       "105  GNONKOUROKALI  Woroumagassarou  ...         10.125444           2.852556\n",
       "106  GNONKOUROKALI  Woroumagassarou  ...               NaN                NaN\n",
       "107  GNONKOUROKALI  Woroumagassarou  ...         10.105056           2.847083\n",
       "108  GNONKOUROKALI  Woroumagassarou  ...         10.105306           2.847167\n",
       "109  GNONKOUROKALI  Woroumagassarou  ...         10.109194           2.853500\n",
       "\n",
       "[53 rows x 11 columns]"
      ]
     },
     "execution_count": 76,
     "metadata": {
      "tags": []
     },
     "output_type": "execute_result"
    }
   ],
   "source": [
    "df_arron"
   ]
  },
  {
   "cell_type": "code",
   "execution_count": 0,
   "metadata": {
    "colab": {
     "base_uri": "https://localhost:8080/",
     "height": 34
    },
    "colab_type": "code",
    "id": "KXXYgO5clZ8k",
    "outputId": "0a87c72f-3cfd-4c27-f794-705cc0311fd0"
   },
   "outputs": [
    {
     "data": {
      "text/plain": [
       "'GNONKOUROKALI'"
      ]
     },
     "execution_count": 77,
     "metadata": {
      "tags": []
     },
     "output_type": "execute_result"
    }
   ],
   "source": [
    "arron"
   ]
  },
  {
   "cell_type": "code",
   "execution_count": 0,
   "metadata": {
    "colab": {
     "base_uri": "https://localhost:8080/",
     "height": 304
    },
    "colab_type": "code",
    "id": "4xQik4UCj232",
    "outputId": "148680fc-38f3-4014-9995-8a4e93ec54a9"
   },
   "outputs": [
    {
     "data": {
      "text/html": [
       "<div>\n",
       "<style scoped>\n",
       "    .dataframe tbody tr th:only-of-type {\n",
       "        vertical-align: middle;\n",
       "    }\n",
       "\n",
       "    .dataframe tbody tr th {\n",
       "        vertical-align: top;\n",
       "    }\n",
       "\n",
       "    .dataframe thead th {\n",
       "        text-align: right;\n",
       "    }\n",
       "</style>\n",
       "<table border=\"1\" class=\"dataframe\">\n",
       "  <thead>\n",
       "    <tr style=\"text-align: right;\">\n",
       "      <th></th>\n",
       "      <th>Arrondissement</th>\n",
       "      <th>Village</th>\n",
       "      <th>Localité</th>\n",
       "      <th>Population</th>\n",
       "      <th>Type d'ouvrage</th>\n",
       "      <th>Etat</th>\n",
       "      <th>Longitude</th>\n",
       "      <th>Latitude</th>\n",
       "      <th>Domaine d'installation</th>\n",
       "      <th>Latitude_decimals</th>\n",
       "      <th>Longitude_decimals</th>\n",
       "    </tr>\n",
       "  </thead>\n",
       "  <tbody>\n",
       "    <tr>\n",
       "      <th>157</th>\n",
       "      <td>NIKKI</td>\n",
       "      <td>Gourou</td>\n",
       "      <td>Gourou</td>\n",
       "      <td>5905</td>\n",
       "      <td>PM</td>\n",
       "      <td>Fonctionnel</td>\n",
       "      <td>03°12'34,5\"E</td>\n",
       "      <td>09°56'23,2\"N</td>\n",
       "      <td>Domaine public</td>\n",
       "      <td>9.939778</td>\n",
       "      <td>3.209583</td>\n",
       "    </tr>\n",
       "    <tr>\n",
       "      <th>158</th>\n",
       "      <td>NIKKI</td>\n",
       "      <td>Gourou</td>\n",
       "      <td>Gourou</td>\n",
       "      <td>5905</td>\n",
       "      <td>PM</td>\n",
       "      <td>Fonctionnel</td>\n",
       "      <td>03°12'33,4\"E</td>\n",
       "      <td>09°56'23,0\"N</td>\n",
       "      <td>Domaine public</td>\n",
       "      <td>9.939722</td>\n",
       "      <td>3.209278</td>\n",
       "    </tr>\n",
       "    <tr>\n",
       "      <th>159</th>\n",
       "      <td>NIKKI</td>\n",
       "      <td>Gourou</td>\n",
       "      <td>Gourou</td>\n",
       "      <td>5905</td>\n",
       "      <td>PM</td>\n",
       "      <td>Fonctionnel</td>\n",
       "      <td>03°12'34,3\"E</td>\n",
       "      <td>09°56'17,8\"N</td>\n",
       "      <td>Domaine public</td>\n",
       "      <td>9.938278</td>\n",
       "      <td>3.209528</td>\n",
       "    </tr>\n",
       "    <tr>\n",
       "      <th>160</th>\n",
       "      <td>NIKKI</td>\n",
       "      <td>Gourou</td>\n",
       "      <td>Gourou</td>\n",
       "      <td>5905</td>\n",
       "      <td>PM</td>\n",
       "      <td>Fonctionnel</td>\n",
       "      <td>03°12'30,8\"E</td>\n",
       "      <td>09°56'16,8\"N</td>\n",
       "      <td>Domaine public</td>\n",
       "      <td>9.938000</td>\n",
       "      <td>3.208556</td>\n",
       "    </tr>\n",
       "    <tr>\n",
       "      <th>161</th>\n",
       "      <td>NIKKI</td>\n",
       "      <td>Gourou</td>\n",
       "      <td>Gourou</td>\n",
       "      <td>5905</td>\n",
       "      <td>PT</td>\n",
       "      <td>Fonctionnel</td>\n",
       "      <td>03°12'37,0\"E</td>\n",
       "      <td>09°56'09,2\"N</td>\n",
       "      <td>Palai Royal</td>\n",
       "      <td>9.935889</td>\n",
       "      <td>3.210278</td>\n",
       "    </tr>\n",
       "    <tr>\n",
       "      <th>162</th>\n",
       "      <td>NIKKI</td>\n",
       "      <td>Gourou</td>\n",
       "      <td>Gourou</td>\n",
       "      <td>5905</td>\n",
       "      <td>PM</td>\n",
       "      <td>Fonctionnel</td>\n",
       "      <td>03°12'40,9\"E</td>\n",
       "      <td>09°56'06,9\"N</td>\n",
       "      <td>Domaine public</td>\n",
       "      <td>9.935250</td>\n",
       "      <td>3.211361</td>\n",
       "    </tr>\n",
       "    <tr>\n",
       "      <th>163</th>\n",
       "      <td>NIKKI</td>\n",
       "      <td>Gourou</td>\n",
       "      <td>Gourou</td>\n",
       "      <td>5905</td>\n",
       "      <td>FPM</td>\n",
       "      <td>Fonctionnel</td>\n",
       "      <td>03°12'35,5\"E</td>\n",
       "      <td>09°56'03,4\"N</td>\n",
       "      <td>Mairie de Nikki</td>\n",
       "      <td>9.934278</td>\n",
       "      <td>3.209861</td>\n",
       "    </tr>\n",
       "    <tr>\n",
       "      <th>164</th>\n",
       "      <td>NIKKI</td>\n",
       "      <td>Gourou</td>\n",
       "      <td>Gourou</td>\n",
       "      <td>5905</td>\n",
       "      <td>PM</td>\n",
       "      <td>Fonctionnel</td>\n",
       "      <td>03°12'28,9\"E</td>\n",
       "      <td>09°56'10,0\"N</td>\n",
       "      <td>Marché de Nikki</td>\n",
       "      <td>9.936111</td>\n",
       "      <td>3.208028</td>\n",
       "    </tr>\n",
       "  </tbody>\n",
       "</table>\n",
       "</div>"
      ],
      "text/plain": [
       "    Arrondissement Village  ... Latitude_decimals Longitude_decimals\n",
       "157          NIKKI  Gourou  ...          9.939778           3.209583\n",
       "158          NIKKI  Gourou  ...          9.939722           3.209278\n",
       "159          NIKKI  Gourou  ...          9.938278           3.209528\n",
       "160          NIKKI  Gourou  ...          9.938000           3.208556\n",
       "161          NIKKI  Gourou  ...          9.935889           3.210278\n",
       "162          NIKKI  Gourou  ...          9.935250           3.211361\n",
       "163          NIKKI  Gourou  ...          9.934278           3.209861\n",
       "164          NIKKI  Gourou  ...          9.936111           3.208028\n",
       "\n",
       "[8 rows x 11 columns]"
      ]
     },
     "execution_count": 78,
     "metadata": {
      "tags": []
     },
     "output_type": "execute_result"
    }
   ],
   "source": [
    "df_2009[df_2009['Localité']==results1[0][0]]"
   ]
  },
  {
   "cell_type": "code",
   "execution_count": 0,
   "metadata": {
    "colab": {
     "base_uri": "https://localhost:8080/",
     "height": 52
    },
    "colab_type": "code",
    "id": "zK84stnQjsT1",
    "outputId": "871254f7-c6f3-4d4a-e1f6-5fb65e8389dd"
   },
   "outputs": [
    {
     "data": {
      "text/plain": [
       "array(['BIRO', 'GNONKOUROKALI', 'NIKKI', 'OUENOU', 'SEREKALE', 'SUYA',\n",
       "       'TASSO'], dtype=object)"
      ]
     },
     "execution_count": 44,
     "metadata": {
      "tags": []
     },
     "output_type": "execute_result"
    }
   ],
   "source": [
    "df_2009['Arrondissement'].unique()"
   ]
  },
  {
   "cell_type": "markdown",
   "metadata": {
    "colab_type": "text",
    "id": "misPQG19oIzO"
   },
   "source": [
    "## Process the Data"
   ]
  },
  {
   "cell_type": "markdown",
   "metadata": {
    "colab_type": "text",
    "id": "0DecbYdark5c"
   },
   "source": [
    "### FUZZY TO COMPARE Localites"
   ]
  },
  {
   "cell_type": "markdown",
   "metadata": {},
   "source": [
    "### TEST"
   ]
  },
  {
   "cell_type": "code",
   "execution_count": 23,
   "metadata": {
    "colab": {
     "base_uri": "https://localhost:8080/",
     "height": 104
    },
    "colab_type": "code",
    "id": "UI_5YMeNsiDY",
    "outputId": "e7cba08e-996f-468d-a6a1-7b46a123826d"
   },
   "outputs": [
    {
     "data": {
      "text/plain": [
       "[('Ourarou', 100),\n",
       " ('Ourarou', 100),\n",
       " ('Ourarou', 100),\n",
       " ('Ourarou Gberou kpanin', 90),\n",
       " ('Gnelkourarou', 90)]"
      ]
     },
     "execution_count": 23,
     "metadata": {},
     "output_type": "execute_result"
    }
   ],
   "source": [
    "#Example of use\n",
    "choices = df_2016['Localité'].tolist()\n",
    "localite = df_2019.loc[20,'Localite']\n",
    "process.extract(localite, choices, limit=5)\n"
   ]
  },
  {
   "cell_type": "code",
   "execution_count": 24,
   "metadata": {
    "colab": {
     "base_uri": "https://localhost:8080/",
     "height": 52
    },
    "colab_type": "code",
    "id": "nQ00DzmmxSH5",
    "outputId": "187a4565-61a4-4d28-b144-6970f6159398"
   },
   "outputs": [
    {
     "name": "stdout",
     "output_type": "stream",
     "text": [
      "Kparissérou Gando \n",
      " Kparisserou gando\n"
     ]
    }
   ],
   "source": [
    "#another one\n",
    "word1=df_2019.loc[108,'Localite']\n",
    "word2=df_2016.loc[150,'Localité']\n",
    "print(word1,'\\n',word2)"
   ]
  },
  {
   "cell_type": "code",
   "execution_count": 25,
   "metadata": {
    "colab": {
     "base_uri": "https://localhost:8080/",
     "height": 34
    },
    "colab_type": "code",
    "id": "QMvV2q-gxbrw",
    "outputId": "93c38831-c17f-43de-8f1b-d79e13ea045c"
   },
   "outputs": [
    {
     "data": {
      "text/plain": [
       "88"
      ]
     },
     "execution_count": 25,
     "metadata": {},
     "output_type": "execute_result"
    }
   ],
   "source": [
    "fuzz.ratio(word1, word2)"
   ]
  },
  {
   "cell_type": "code",
   "execution_count": 26,
   "metadata": {
    "colab": {
     "base_uri": "https://localhost:8080/",
     "height": 34
    },
    "colab_type": "code",
    "id": "xI42ZzYdyeTt",
    "outputId": "5f224dbd-d1b6-41b2-f6d9-60e6fa3cf592"
   },
   "outputs": [
    {
     "data": {
      "text/plain": [
       "88"
      ]
     },
     "execution_count": 26,
     "metadata": {},
     "output_type": "execute_result"
    }
   ],
   "source": [
    "word1=word1+'!'\n",
    "fuzz.partial_ratio(word1, word2)"
   ]
  },
  {
   "cell_type": "code",
   "execution_count": 27,
   "metadata": {
    "colab": {
     "base_uri": "https://localhost:8080/",
     "height": 34
    },
    "colab_type": "code",
    "id": "uszE38yXyluT",
    "outputId": "2164dd73-8210-4750-eae2-51a9b3543f59"
   },
   "outputs": [
    {
     "data": {
      "text/plain": [
       "86"
      ]
     },
     "execution_count": 27,
     "metadata": {},
     "output_type": "execute_result"
    }
   ],
   "source": [
    "fuzz.ratio(word1, word2)"
   ]
  },
  {
   "cell_type": "code",
   "execution_count": 28,
   "metadata": {
    "colab": {
     "base_uri": "https://localhost:8080/",
     "height": 104
    },
    "colab_type": "code",
    "id": "fLXUlMOt0fip",
    "outputId": "32f37258-1f30-4062-8835-ac83fd48fec7"
   },
   "outputs": [
    {
     "data": {
      "text/plain": [
       "[('Gando Gourou', 100, 329),\n",
       " ('Gourou', 90, 109),\n",
       " ('Gourou', 90, 110),\n",
       " ('Gourou', 90, 111),\n",
       " ('Dèh Gando', 86, 172)]"
      ]
     },
     "execution_count": 28,
     "metadata": {},
     "output_type": "execute_result"
    }
   ],
   "source": [
    "process.extract('Gando Gourou', df_2019['Localite'], limit=5)\n"
   ]
  },
  {
   "cell_type": "code",
   "execution_count": 29,
   "metadata": {
    "colab": {
     "base_uri": "https://localhost:8080/",
     "height": 52
    },
    "colab_type": "code",
    "id": "5l3U4bPTzjQA",
    "outputId": "ba6d962a-7255-4f50-ee8d-f05edb103215"
   },
   "outputs": [
    {
     "name": "stdout",
     "output_type": "stream",
     "text": [
      "Gando Gourou \n",
      " Ganrou gando\n"
     ]
    }
   ],
   "source": [
    "#last one\n",
    "word1=df_2019.loc[329,'Localite']\n",
    "word2=df_2016.loc[270,'Localité']\n",
    "print(word1,'\\n',word2)"
   ]
  },
  {
   "cell_type": "code",
   "execution_count": 30,
   "metadata": {
    "colab": {
     "base_uri": "https://localhost:8080/",
     "height": 34
    },
    "colab_type": "code",
    "id": "vfc0Pjm-zvNv",
    "outputId": "712dc555-eee0-43f4-bd33-9b38c0da0d1f"
   },
   "outputs": [
    {
     "data": {
      "text/plain": [
       "42"
      ]
     },
     "execution_count": 30,
     "metadata": {},
     "output_type": "execute_result"
    }
   ],
   "source": [
    "fuzz.ratio(word1, word2)"
   ]
  },
  {
   "cell_type": "code",
   "execution_count": 31,
   "metadata": {
    "colab": {
     "base_uri": "https://localhost:8080/",
     "height": 34
    },
    "colab_type": "code",
    "id": "YO11EVMVzy3o",
    "outputId": "d8bcfb2f-0fab-436d-a3a9-0e1f6b598986"
   },
   "outputs": [
    {
     "data": {
      "text/plain": [
       "83"
      ]
     },
     "execution_count": 31,
     "metadata": {},
     "output_type": "execute_result"
    }
   ],
   "source": [
    "fuzz.token_sort_ratio(word1, word2)"
   ]
  },
  {
   "cell_type": "markdown",
   "metadata": {},
   "source": [
    "# WHAT VILLAGES DON'T HAVE FPM"
   ]
  },
  {
   "cell_type": "code",
   "execution_count": 114,
   "metadata": {},
   "outputs": [
    {
     "data": {
      "text/plain": [
       "Index(['Arrondissement', 'Village', 'Localité', 'Population', 'Type d'ouvrage',\n",
       "       'Etat', 'Longitude', 'Latitude', 'Domaine d'installation',\n",
       "       'Latitude_decimals', 'Longitude_decimals'],\n",
       "      dtype='object')"
      ]
     },
     "execution_count": 114,
     "metadata": {},
     "output_type": "execute_result"
    }
   ],
   "source": [
    "df_2009.columns"
   ]
  },
  {
   "cell_type": "code",
   "execution_count": 150,
   "metadata": {},
   "outputs": [],
   "source": [
    "df_villages_2009 = df_2009.groupby('Localité').agg(\n",
    "                            {\n",
    "                            \"Type d'ouvrage\":'unique',\n",
    "                            \"Population\":'max',\n",
    "                            \"Latitude_decimals\":'mean',\n",
    "                            \"Longitude_decimals\":'mean',\n",
    "                            \"Arrondissement\":'unique'})"
   ]
  },
  {
   "cell_type": "code",
   "execution_count": 151,
   "metadata": {},
   "outputs": [],
   "source": [
    "df_villages_2009 = df_villages_2009.reset_index()"
   ]
  },
  {
   "cell_type": "code",
   "execution_count": 152,
   "metadata": {},
   "outputs": [],
   "source": [
    "df_villages_2009.Arrondissement=df_villages_2009.apply(lambda x: x['Arrondissement'][0],axis=1)"
   ]
  },
  {
   "cell_type": "code",
   "execution_count": 153,
   "metadata": {},
   "outputs": [],
   "source": [
    "df_villages_2009.Population=pd.to_numeric(df_villages_2009.Population, errors='coerce')"
   ]
  },
  {
   "cell_type": "code",
   "execution_count": 154,
   "metadata": {},
   "outputs": [],
   "source": [
    "def count_pm_fpm(x):\n",
    "    types_ouvrage=list(x[\"Type d'ouvrage\"])\n",
    "    pm=types_ouvrage.count('PM')\n",
    "    fpm=types_ouvrage.count('FPM')\n",
    "    pt=types_ouvrage.count('PT')\n",
    "    none = types_ouvrage.count('/')\n",
    "    \n",
    "    if(len(types_ouvrage)!= (pm+fpm+pt+none)):\n",
    "        print(types_ouvrage)\n",
    "    return [pm,fpm,pt]"
   ]
  },
  {
   "cell_type": "code",
   "execution_count": 155,
   "metadata": {},
   "outputs": [
    {
     "name": "stdout",
     "output_type": "stream",
     "text": [
      "['FPM', 'PT', 'PM', 'BF 1', 'BF 2', 'BF 3', 'BF 4', 'BF 5']\n",
      "['PEA (Rampes de 4 robinets)', 'FPM']\n"
     ]
    }
   ],
   "source": [
    "df_villages_2009[['PM','FPM','PT']]=df_villages_2009.apply(lambda x: pd.Series(count_pm_fpm(x)), axis=1)"
   ]
  },
  {
   "cell_type": "code",
   "execution_count": 156,
   "metadata": {},
   "outputs": [],
   "source": [
    "df_villages_2009=df_villages_2009.drop(\"Type d'ouvrage\",axis=1)"
   ]
  },
  {
   "cell_type": "code",
   "execution_count": 189,
   "metadata": {
    "colab": {},
    "colab_type": "code",
    "id": "JJf6m_9LmNyH"
   },
   "outputs": [],
   "source": [
    "df_villages_2009['n_per/fpm'] = df_villages_2009.apply(\n",
    "                                    lambda x: 10000 if x['FPM']==0 else x['Population']/x['FPM'],axis=1)"
   ]
  },
  {
   "cell_type": "code",
   "execution_count": 191,
   "metadata": {},
   "outputs": [],
   "source": [
    "def status(x):\n",
    "    ind=x['n_per/fpm']\n",
    "    status='unknown'\n",
    "    if np.isnan(ind) or isinstance(ind, str):\n",
    "        return status\n",
    "    elif ind<250:\n",
    "        status='green'\n",
    "    elif ind <500:\n",
    "        status='orange'\n",
    "    elif ind==10000:\n",
    "        status='super_red'\n",
    "    elif ind>500:\n",
    "        status='red'\n",
    "    return status"
   ]
  },
  {
   "cell_type": "code",
   "execution_count": 192,
   "metadata": {},
   "outputs": [],
   "source": [
    "df_villages_2009['status'] = df_villages_2009.apply(lambda x: status(x),axis=1)"
   ]
  },
  {
   "cell_type": "code",
   "execution_count": 202,
   "metadata": {},
   "outputs": [],
   "source": [
    "df_villages_2009.columns=['village','population','latitude','longitude','arrondissement','pm','fpm','pt','ind','color']\n"
   ]
  },
  {
   "cell_type": "code",
   "execution_count": null,
   "metadata": {},
   "outputs": [],
   "source": [
    "df_villages_2009"
   ]
  },
  {
   "cell_type": "code",
   "execution_count": 195,
   "metadata": {},
   "outputs": [
    {
     "data": {
      "text/html": [
       "<div>\n",
       "<style scoped>\n",
       "    .dataframe tbody tr th:only-of-type {\n",
       "        vertical-align: middle;\n",
       "    }\n",
       "\n",
       "    .dataframe tbody tr th {\n",
       "        vertical-align: top;\n",
       "    }\n",
       "\n",
       "    .dataframe thead th {\n",
       "        text-align: right;\n",
       "    }\n",
       "</style>\n",
       "<table border=\"1\" class=\"dataframe\">\n",
       "  <thead>\n",
       "    <tr style=\"text-align: right;\">\n",
       "      <th></th>\n",
       "      <th></th>\n",
       "      <th>Localité</th>\n",
       "    </tr>\n",
       "    <tr>\n",
       "      <th>Arrondissement</th>\n",
       "      <th>status</th>\n",
       "      <th></th>\n",
       "    </tr>\n",
       "  </thead>\n",
       "  <tbody>\n",
       "    <tr>\n",
       "      <th rowspan=\"4\" valign=\"top\">BIRO</th>\n",
       "      <th>green</th>\n",
       "      <td>2</td>\n",
       "    </tr>\n",
       "    <tr>\n",
       "      <th>orange</th>\n",
       "      <td>6</td>\n",
       "    </tr>\n",
       "    <tr>\n",
       "      <th>red</th>\n",
       "      <td>7</td>\n",
       "    </tr>\n",
       "    <tr>\n",
       "      <th>super_red</th>\n",
       "      <td>16</td>\n",
       "    </tr>\n",
       "    <tr>\n",
       "      <th rowspan=\"5\" valign=\"top\">GNONKOUROKALI</th>\n",
       "      <th>green</th>\n",
       "      <td>2</td>\n",
       "    </tr>\n",
       "    <tr>\n",
       "      <th>orange</th>\n",
       "      <td>8</td>\n",
       "    </tr>\n",
       "    <tr>\n",
       "      <th>red</th>\n",
       "      <td>6</td>\n",
       "    </tr>\n",
       "    <tr>\n",
       "      <th>super_red</th>\n",
       "      <td>14</td>\n",
       "    </tr>\n",
       "    <tr>\n",
       "      <th>unknown</th>\n",
       "      <td>3</td>\n",
       "    </tr>\n",
       "    <tr>\n",
       "      <th rowspan=\"4\" valign=\"top\">NIKKI</th>\n",
       "      <th>green</th>\n",
       "      <td>15</td>\n",
       "    </tr>\n",
       "    <tr>\n",
       "      <th>orange</th>\n",
       "      <td>15</td>\n",
       "    </tr>\n",
       "    <tr>\n",
       "      <th>red</th>\n",
       "      <td>17</td>\n",
       "    </tr>\n",
       "    <tr>\n",
       "      <th>super_red</th>\n",
       "      <td>53</td>\n",
       "    </tr>\n",
       "    <tr>\n",
       "      <th rowspan=\"5\" valign=\"top\">OUENOU</th>\n",
       "      <th>green</th>\n",
       "      <td>4</td>\n",
       "    </tr>\n",
       "    <tr>\n",
       "      <th>orange</th>\n",
       "      <td>6</td>\n",
       "    </tr>\n",
       "    <tr>\n",
       "      <th>red</th>\n",
       "      <td>7</td>\n",
       "    </tr>\n",
       "    <tr>\n",
       "      <th>super_red</th>\n",
       "      <td>40</td>\n",
       "    </tr>\n",
       "    <tr>\n",
       "      <th>unknown</th>\n",
       "      <td>1</td>\n",
       "    </tr>\n",
       "    <tr>\n",
       "      <th rowspan=\"5\" valign=\"top\">SEREKALE</th>\n",
       "      <th>green</th>\n",
       "      <td>6</td>\n",
       "    </tr>\n",
       "    <tr>\n",
       "      <th>orange</th>\n",
       "      <td>8</td>\n",
       "    </tr>\n",
       "    <tr>\n",
       "      <th>red</th>\n",
       "      <td>6</td>\n",
       "    </tr>\n",
       "    <tr>\n",
       "      <th>super_red</th>\n",
       "      <td>14</td>\n",
       "    </tr>\n",
       "    <tr>\n",
       "      <th>unknown</th>\n",
       "      <td>6</td>\n",
       "    </tr>\n",
       "    <tr>\n",
       "      <th rowspan=\"5\" valign=\"top\">SUYA</th>\n",
       "      <th>green</th>\n",
       "      <td>1</td>\n",
       "    </tr>\n",
       "    <tr>\n",
       "      <th>orange</th>\n",
       "      <td>3</td>\n",
       "    </tr>\n",
       "    <tr>\n",
       "      <th>red</th>\n",
       "      <td>5</td>\n",
       "    </tr>\n",
       "    <tr>\n",
       "      <th>super_red</th>\n",
       "      <td>3</td>\n",
       "    </tr>\n",
       "    <tr>\n",
       "      <th>unknown</th>\n",
       "      <td>2</td>\n",
       "    </tr>\n",
       "    <tr>\n",
       "      <th rowspan=\"4\" valign=\"top\">TASSO</th>\n",
       "      <th>green</th>\n",
       "      <td>5</td>\n",
       "    </tr>\n",
       "    <tr>\n",
       "      <th>orange</th>\n",
       "      <td>9</td>\n",
       "    </tr>\n",
       "    <tr>\n",
       "      <th>red</th>\n",
       "      <td>8</td>\n",
       "    </tr>\n",
       "    <tr>\n",
       "      <th>super_red</th>\n",
       "      <td>28</td>\n",
       "    </tr>\n",
       "  </tbody>\n",
       "</table>\n",
       "</div>"
      ],
      "text/plain": [
       "                          Localité\n",
       "Arrondissement status             \n",
       "BIRO           green             2\n",
       "               orange            6\n",
       "               red               7\n",
       "               super_red        16\n",
       "GNONKOUROKALI  green             2\n",
       "               orange            8\n",
       "               red               6\n",
       "               super_red        14\n",
       "               unknown           3\n",
       "NIKKI          green            15\n",
       "               orange           15\n",
       "               red              17\n",
       "               super_red        53\n",
       "OUENOU         green             4\n",
       "               orange            6\n",
       "               red               7\n",
       "               super_red        40\n",
       "               unknown           1\n",
       "SEREKALE       green             6\n",
       "               orange            8\n",
       "               red               6\n",
       "               super_red        14\n",
       "               unknown           6\n",
       "SUYA           green             1\n",
       "               orange            3\n",
       "               red               5\n",
       "               super_red         3\n",
       "               unknown           2\n",
       "TASSO          green             5\n",
       "               orange            9\n",
       "               red               8\n",
       "               super_red        28"
      ]
     },
     "execution_count": 195,
     "metadata": {},
     "output_type": "execute_result"
    }
   ],
   "source": [
    "#STATE\n",
    "#Convert states df to a dictionary\n",
    "villages = df_villages_2009.to_dict('index')\n",
    "villages_dict = [{k: v} for k, v in villages.items()] \n",
    "villages_l_dict = []\n",
    "for i,vill in enumerate(villages_dict):\n",
    "    id_vill=list(vill.keys())[0]\n",
    "    village=vill[id_vill]['village']\n",
    "    new_data={'name':village,\n",
    "              'arrondissement':vill[id_vill]['arrondissement'],\n",
    "              'coordinates':{\n",
    "                    'longitude':vill[id_vill]['longitude'],\n",
    "                    'latitude':vill[id_vill]['latitude']},\n",
    "              'population':vill[id_vill]['population'],\n",
    "              'pm':vill[id_vill]['pm'],\n",
    "              'fpm':vill[id_vill]['fpm'],\n",
    "              'pt':vill[id_vill]['pt'],\n",
    "              'ind':vill[id_vill]['ind'],\n",
    "              'color':vill[id_vill]['color']\n",
    "\n",
    "             \n",
    "             }\n",
    "    villages_l_dict.append(new_data)\n",
    "\n",
    "    db.collection(u'mapa_temp').add(new_data)[1]"
   ]
  },
  {
   "cell_type": "code",
   "execution_count": null,
   "metadata": {},
   "outputs": [],
   "source": []
  }
 ],
 "metadata": {
  "accelerator": "GPU",
  "colab": {
   "collapsed_sections": [],
   "include_colab_link": true,
   "name": "colab_estructurar_bbdd_y_subir_a_firebase.ipynb",
   "provenance": []
  },
  "kernelspec": {
   "display_name": "Python 3",
   "language": "python",
   "name": "python3"
  },
  "language_info": {
   "codemirror_mode": {
    "name": "ipython",
    "version": 3
   },
   "file_extension": ".py",
   "mimetype": "text/x-python",
   "name": "python",
   "nbconvert_exporter": "python",
   "pygments_lexer": "ipython3",
   "version": "3.7.3"
  }
 },
 "nbformat": 4,
 "nbformat_minor": 1
}
