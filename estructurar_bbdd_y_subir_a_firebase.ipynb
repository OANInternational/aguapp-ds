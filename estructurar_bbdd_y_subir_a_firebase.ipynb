{
  "nbformat": 4,
  "nbformat_minor": 0,
  "metadata": {
    "colab": {
      "name": "estructurar_bbdd_y_subir_a_firebase.ipynb",
      "version": "0.3.2",
      "provenance": [],
      "collapsed_sections": [],
      "include_colab_link": true
    },
    "language_info": {
      "codemirror_mode": {
        "name": "ipython",
        "version": 3
      },
      "file_extension": ".py",
      "mimetype": "text/x-python",
      "name": "python",
      "nbconvert_exporter": "python",
      "pygments_lexer": "ipython3",
      "version": "3.7.3"
    },
    "kernelspec": {
      "name": "python3",
      "display_name": "Python 3"
    },
    "accelerator": "GPU"
  },
  "cells": [
    {
      "cell_type": "markdown",
      "metadata": {
        "id": "view-in-github",
        "colab_type": "text"
      },
      "source": [
        "<a href=\"https://colab.research.google.com/github/OANInternational/aguapp/blob/master/estructurar_bbdd_y_subir_a_firebase.ipynb\" target=\"_parent\"><img src=\"https://colab.research.google.com/assets/colab-badge.svg\" alt=\"Open In Colab\"/></a>"
      ]
    },
    {
      "cell_type": "markdown",
      "metadata": {
        "id": "Ym3RvFva0G5q",
        "colab_type": "text"
      },
      "source": [
        "Proyecto para estructurar base de datos y subir a FIRBASE"
      ]
    },
    {
      "cell_type": "markdown",
      "metadata": {
        "id": "F9UYXCg7mf0w",
        "colab_type": "text"
      },
      "source": [
        "# DIRECTORIO"
      ]
    },
    {
      "cell_type": "markdown",
      "metadata": {
        "id": "yK41IOyZN6M9",
        "colab_type": "text"
      },
      "source": [
        "utilizar google como directorio de trabajo\n"
      ]
    },
    {
      "cell_type": "code",
      "metadata": {
        "id": "PB9QEH1ljfSa",
        "colab_type": "code",
        "outputId": "57498850-58dc-4df9-b275-5244565b6f83",
        "colab": {
          "base_uri": "https://localhost:8080/",
          "height": 34
        }
      },
      "source": [
        "%cd"
      ],
      "execution_count": 0,
      "outputs": [
        {
          "output_type": "stream",
          "text": [
            "/root\n"
          ],
          "name": "stdout"
        }
      ]
    },
    {
      "cell_type": "code",
      "metadata": {
        "id": "BZ-Mi5uM6Ywq",
        "colab_type": "code",
        "outputId": "06d64c36-4a26-4c85-864e-291c92c9b696",
        "colab": {
          "base_uri": "https://localhost:8080/",
          "height": 69
        }
      },
      "source": [
        "%cd\n",
        "%cd ..\n",
        "%cd content"
      ],
      "execution_count": 0,
      "outputs": [
        {
          "output_type": "stream",
          "text": [
            "/root\n",
            "/\n",
            "/content\n"
          ],
          "name": "stdout"
        }
      ]
    },
    {
      "cell_type": "code",
      "metadata": {
        "id": "8DJBx357k1kw",
        "colab_type": "code",
        "outputId": "66cb718a-31cf-4d2c-f5b5-58cb7b0356f4",
        "colab": {
          "base_uri": "https://localhost:8080/",
          "height": 124
        }
      },
      "source": [
        "from google.colab import drive\n",
        "drive.mount('/content/drive')"
      ],
      "execution_count": 0,
      "outputs": [
        {
          "output_type": "stream",
          "text": [
            "Go to this URL in a browser: https://accounts.google.com/o/oauth2/auth?client_id=947318989803-6bn6qk8qdgf4n4g3pfee6491hc0brc4i.apps.googleusercontent.com&redirect_uri=urn%3Aietf%3Awg%3Aoauth%3A2.0%3Aoob&scope=email%20https%3A%2F%2Fwww.googleapis.com%2Fauth%2Fdocs.test%20https%3A%2F%2Fwww.googleapis.com%2Fauth%2Fdrive%20https%3A%2F%2Fwww.googleapis.com%2Fauth%2Fdrive.photos.readonly%20https%3A%2F%2Fwww.googleapis.com%2Fauth%2Fpeopleapi.readonly&response_type=code\n",
            "\n",
            "Enter your authorization code:\n",
            "··········\n",
            "Mounted at /content/drive\n"
          ],
          "name": "stdout"
        }
      ]
    },
    {
      "cell_type": "code",
      "metadata": {
        "id": "APqZadV71EDZ",
        "colab_type": "code",
        "outputId": "f6181e11-886f-4f04-dc56-7f613534b363",
        "colab": {
          "base_uri": "https://localhost:8080/",
          "height": 34
        }
      },
      "source": [
        "!ls"
      ],
      "execution_count": 0,
      "outputs": [
        {
          "output_type": "stream",
          "text": [
            "drive  sample_data\n"
          ],
          "name": "stdout"
        }
      ]
    },
    {
      "cell_type": "code",
      "metadata": {
        "id": "YLlHkfPNlSv1",
        "colab_type": "code",
        "outputId": "04496529-4f24-4fc9-c5ef-423dac9e2e1f",
        "colab": {
          "base_uri": "https://localhost:8080/",
          "height": 34
        }
      },
      "source": [
        "%cd drive/'Shared drives'/'Comité de Infraestructuras, Energía y Agua'/'Proyectos'/'Red de Reparadores de Bombas Manuales'/'Prototipo Automatización'/'BASES DE DATOS'"
      ],
      "execution_count": 0,
      "outputs": [
        {
          "output_type": "stream",
          "text": [
            "/content/drive/Shared drives/Comité de Infraestructuras, Energía y Agua/Proyectos/Red de Reparadores de Bombas Manuales/Prototipo Automatización/BASES DE DATOS\n"
          ],
          "name": "stdout"
        }
      ]
    },
    {
      "cell_type": "code",
      "metadata": {
        "id": "9KAdA-R8xKw5",
        "colab_type": "code",
        "colab": {}
      },
      "source": [
        "import yaml\n",
        "spreadsheet_ids = yaml.load( open(\"sheets_parameters.yaml\", \"r\" ))\n",
        "#bombas de 2018, ultima version\n",
        "ID1=str(spreadsheet_ids['ID1'])\n",
        "#bombas de 2016, ultima version\n",
        "ID2=str(spreadsheet_ids['ID2'])\n",
        "#bombas de 2009, ultima version\n",
        "ID3=str(spreadsheet_ids['ID3'])\n",
        "#bombas final, datos de 2016 y 2009\n",
        "ID4=str(spreadsheet_ids['ID4'])"
      ],
      "execution_count": 0,
      "outputs": []
    },
    {
      "cell_type": "markdown",
      "metadata": {
        "id": "iA76tKgbnBvj",
        "colab_type": "text"
      },
      "source": [
        "# CONNECT TO FIREBASE"
      ]
    },
    {
      "cell_type": "code",
      "metadata": {
        "id": "qlU4ZVqQ4gib",
        "colab_type": "code",
        "colab": {}
      },
      "source": [
        "#!pip install firebase-admin"
      ],
      "execution_count": 0,
      "outputs": []
    },
    {
      "cell_type": "code",
      "metadata": {
        "id": "6pIrQEso408R",
        "colab_type": "code",
        "colab": {}
      },
      "source": [
        "filename='firebase_parameters.json'"
      ],
      "execution_count": 0,
      "outputs": []
    },
    {
      "cell_type": "code",
      "metadata": {
        "id": "j0-CWZv25YWX",
        "colab_type": "code",
        "colab": {}
      },
      "source": [
        "import firebase_admin\n",
        "from firebase_admin import credentials\n",
        "from firebase_admin import firestore\n",
        "\n",
        "# Use a service account\n",
        "cred = credentials.Certificate(filename)\n",
        "firebase_admin.initialize_app(cred)\n",
        "\n",
        "db = firestore.client()"
      ],
      "execution_count": 0,
      "outputs": []
    },
    {
      "cell_type": "code",
      "metadata": {
        "id": "4U8v9RtS6uv0",
        "colab_type": "code",
        "colab": {}
      },
      "source": [
        "col_pumps = db.collection('Pumps')"
      ],
      "execution_count": 0,
      "outputs": []
    },
    {
      "cell_type": "code",
      "metadata": {
        "id": "jAP9z1ly8dyQ",
        "colab_type": "code",
        "outputId": "4c079c0e-6c9e-4cb6-f6b0-54b7282d5599",
        "colab": {
          "base_uri": "https://localhost:8080/",
          "height": 52
        }
      },
      "source": [
        "pumps = col_pumps.get()"
      ],
      "execution_count": 0,
      "outputs": [
        {
          "output_type": "stream",
          "text": [
            "/usr/local/lib/python3.6/dist-packages/ipykernel_launcher.py:1: DeprecationWarning: 'Collection.get' is deprecated:  please use 'Collection.stream' instead.\n",
            "  \"\"\"Entry point for launching an IPython kernel.\n"
          ],
          "name": "stderr"
        }
      ]
    },
    {
      "cell_type": "code",
      "metadata": {
        "id": "XojjB9MT8qGe",
        "colab_type": "code",
        "colab": {}
      },
      "source": [
        "for pump in pumps:\n",
        "    print(u'{} => {}'.format(pump.id, pump.to_dict()))"
      ],
      "execution_count": 0,
      "outputs": []
    },
    {
      "cell_type": "markdown",
      "metadata": {
        "id": "RtjMV_OZ_bPM",
        "colab_type": "text"
      },
      "source": [
        "# ABRIR LAS BBDD"
      ]
    },
    {
      "cell_type": "markdown",
      "metadata": {
        "id": "8xW2qPCe_lDT",
        "colab_type": "text"
      },
      "source": [
        "## OPEN GOOGLE SHEETS"
      ]
    },
    {
      "cell_type": "code",
      "metadata": {
        "id": "gfr5Z8ZT5NNB",
        "colab_type": "code",
        "colab": {}
      },
      "source": [
        "from google.colab import auth\n",
        "auth.authenticate_user()"
      ],
      "execution_count": 0,
      "outputs": []
    },
    {
      "cell_type": "code",
      "metadata": {
        "id": "jSS9qT59_vUu",
        "colab_type": "code",
        "colab": {}
      },
      "source": [
        "from googleapiclient.discovery import build\n",
        "sheet_service = build('sheets', 'v4')"
      ],
      "execution_count": 0,
      "outputs": []
    },
    {
      "cell_type": "markdown",
      "metadata": {
        "id": "mfuH8ETf_0Qg",
        "colab_type": "text"
      },
      "source": [
        "## IMPORTS"
      ]
    },
    {
      "cell_type": "code",
      "metadata": {
        "id": "GB58EI_l_wXx",
        "colab_type": "code",
        "colab": {}
      },
      "source": [
        "import plotly\n",
        "import plotly.plotly as py\n",
        "import numpy as np\n",
        "import re\n",
        "\n",
        "import pandas as pd\n"
      ],
      "execution_count": 0,
      "outputs": []
    },
    {
      "cell_type": "markdown",
      "metadata": {
        "id": "Yzqr9P9nFav0",
        "colab_type": "text"
      },
      "source": [
        "## OPEN FROM GOOGLE SHEET"
      ]
    },
    {
      "cell_type": "code",
      "metadata": {
        "id": "TmlXIbSK__ig",
        "colab_type": "code",
        "colab": {}
      },
      "source": [
        "ids = [ID1,ID2,ID3]\n",
        "dfs = []\n",
        "for ID in ids:\n",
        "  #SPREADSHEET_ID = ID\n",
        "  RANGE_NAME = 'Sheet1'\n",
        "\n",
        "  gsheet = sheet_service.spreadsheets().values().get(spreadsheetId=ID, range=RANGE_NAME).execute()\n",
        "\n",
        "  dfs.append(pd.DataFrame(gsheet.get('values', [])[1:],columns= gsheet.get('values', [])[0:1][0]))\n",
        "\n",
        "df_2019=dfs[0]\n",
        "df_2016=dfs[1]\n",
        "df_2009=dfs[2]"
      ],
      "execution_count": 0,
      "outputs": []
    },
    {
      "cell_type": "code",
      "metadata": {
        "id": "JFsli7phvLmC",
        "colab_type": "code",
        "outputId": "870e6716-b8af-432b-b88e-1831a8d869d4",
        "colab": {
          "base_uri": "https://localhost:8080/",
          "height": 69
        }
      },
      "source": [
        "dfs[1][\"Etat de l'ouvrage\"].unique()"
      ],
      "execution_count": 0,
      "outputs": [
        {
          "output_type": "execute_result",
          "data": {
            "text/plain": [
              "array(['Fonctionnel', 'Panne', 'En panne', 'Tête de pompe', '2 pompes',\n",
              "       'Privé', '1  Pompe', '', 'Pompe', 'Pompe non', 'Faible débit',\n",
              "       '1 pompe', 'Kalale'], dtype=object)"
            ]
          },
          "metadata": {
            "tags": []
          },
          "execution_count": 59
        }
      ]
    },
    {
      "cell_type": "code",
      "metadata": {
        "id": "f1edXXKuADxS",
        "colab_type": "code",
        "outputId": "f1147152-5bfc-4c6a-985d-f22e6b7d64ab",
        "colab": {
          "base_uri": "https://localhost:8080/",
          "height": 173
        }
      },
      "source": [
        "[df.columns for df in dfs]\n",
        "#df_2016.head(2)\n",
        "#df_2009.head(2)"
      ],
      "execution_count": 0,
      "outputs": [
        {
          "output_type": "execute_result",
          "data": {
            "text/plain": [
              "[Index(['Arrondissement', 'Village', 'Localite', 'Nom_Local', 'Longitude',\n",
              "        'Latitude', 'xCoord', 'yCoord', 'rqtListe_Pompe.Modele_Pompe'],\n",
              "       dtype='object'),\n",
              " Index(['N°', 'Arrondissement', 'Village', 'Localité', 'Hameau',\n",
              "        'Etat de l'ouvrage', 'Redevance', 'Année de réalisation', 'Marque'],\n",
              "       dtype='object'),\n",
              " Index(['Arrondissement', 'Village', 'Localité', 'Population', 'Type d'ouvrage',\n",
              "        'Etat', 'Longitude', 'Latitude', 'Domaine d'installation'],\n",
              "       dtype='object')]"
            ]
          },
          "metadata": {
            "tags": []
          },
          "execution_count": 56
        }
      ]
    },
    {
      "cell_type": "markdown",
      "metadata": {
        "id": "xl9ONa9Ot8mL",
        "colab_type": "text"
      },
      "source": [
        "So common data is:\n",
        "\n",
        "* 2019 vs 2016: Arrondissement, Village, Localite, Marque\n",
        "\n",
        "* 2019 vs 2009: Arrondissement, Village, Localite, Longitude, Latitude\n",
        "\n",
        "* 2009 vs 2016: Arrondissement, Village, Localite\n",
        "\n",
        "ONLY DATA:\n",
        "\n",
        "* 2019: Nom_Local which is little identifier for more info on pumps\n",
        "\n",
        "* 2016: Année de réalisation, , Redevace, Hameau, which would be kind of the same as Nom_Local\n",
        "\n",
        "* 2009: Population, Type d'ouvrage"
      ]
    },
    {
      "cell_type": "markdown",
      "metadata": {
        "id": "misPQG19oIzO",
        "colab_type": "text"
      },
      "source": [
        "## Process the Data"
      ]
    },
    {
      "cell_type": "markdown",
      "metadata": {
        "id": "0DecbYdark5c",
        "colab_type": "text"
      },
      "source": [
        "### FUZZY TO COMPARE Localites"
      ]
    },
    {
      "cell_type": "code",
      "metadata": {
        "id": "Oj_z2M2wrnqE",
        "colab_type": "code",
        "outputId": "a78ea83a-33e5-4de4-9eb0-0376fc915b8b",
        "colab": {
          "base_uri": "https://localhost:8080/",
          "height": 208
        }
      },
      "source": [
        "!pip install fuzzywuzzy[speedup]"
      ],
      "execution_count": 0,
      "outputs": [
        {
          "output_type": "stream",
          "text": [
            "Requirement already satisfied: fuzzywuzzy[speedup] in /usr/local/lib/python3.6/dist-packages (0.17.0)\n",
            "Collecting python-levenshtein>=0.12; extra == \"speedup\" (from fuzzywuzzy[speedup])\n",
            "\u001b[?25l  Downloading https://files.pythonhosted.org/packages/42/a9/d1785c85ebf9b7dfacd08938dd028209c34a0ea3b1bcdb895208bd40a67d/python-Levenshtein-0.12.0.tar.gz (48kB)\n",
            "\u001b[K     |████████████████████████████████| 51kB 22.3MB/s \n",
            "\u001b[?25hRequirement already satisfied: setuptools in /usr/local/lib/python3.6/dist-packages (from python-levenshtein>=0.12; extra == \"speedup\"->fuzzywuzzy[speedup]) (41.0.1)\n",
            "Building wheels for collected packages: python-levenshtein\n",
            "  Building wheel for python-levenshtein (setup.py) ... \u001b[?25l\u001b[?25hdone\n",
            "  Stored in directory: /root/.cache/pip/wheels/de/c2/93/660fd5f7559049268ad2dc6d81c4e39e9e36518766eaf7e342\n",
            "Successfully built python-levenshtein\n",
            "Installing collected packages: python-levenshtein\n",
            "Successfully installed python-levenshtein-0.12.0\n"
          ],
          "name": "stdout"
        }
      ]
    },
    {
      "cell_type": "code",
      "metadata": {
        "id": "y2-s5poDsNeL",
        "colab_type": "code",
        "colab": {}
      },
      "source": [
        "from fuzzywuzzy import fuzz\n",
        "from fuzzywuzzy import process"
      ],
      "execution_count": 0,
      "outputs": []
    },
    {
      "cell_type": "code",
      "metadata": {
        "id": "UI_5YMeNsiDY",
        "colab_type": "code",
        "outputId": "e7cba08e-996f-468d-a6a1-7b46a123826d",
        "colab": {
          "base_uri": "https://localhost:8080/",
          "height": 104
        }
      },
      "source": [
        "#Example of use\n",
        "choices = df_2016['Localité'].tolist()\n",
        "localite = df_2019.loc[20,'Localite']\n",
        "process.extract(localite, choices, limit=5)\n"
      ],
      "execution_count": 0,
      "outputs": [
        {
          "output_type": "execute_result",
          "data": {
            "text/plain": [
              "[('Ourarou', 100),\n",
              " ('Ourarou', 100),\n",
              " ('Ourarou', 100),\n",
              " ('Ourarou Gberou kpanin', 90),\n",
              " ('Gnelkourarou', 90)]"
            ]
          },
          "metadata": {
            "tags": []
          },
          "execution_count": 52
        }
      ]
    },
    {
      "cell_type": "code",
      "metadata": {
        "id": "nQ00DzmmxSH5",
        "colab_type": "code",
        "outputId": "187a4565-61a4-4d28-b144-6970f6159398",
        "colab": {
          "base_uri": "https://localhost:8080/",
          "height": 52
        }
      },
      "source": [
        "#another one\n",
        "word1=df_2019.loc[108,'Localite']\n",
        "word2=df_2016.loc[150,'Localité']\n",
        "print(word1,'\\n',word2)"
      ],
      "execution_count": 0,
      "outputs": [
        {
          "output_type": "stream",
          "text": [
            "Kparissérou Gando \n",
            " Kparisserou gando\n"
          ],
          "name": "stdout"
        }
      ]
    },
    {
      "cell_type": "code",
      "metadata": {
        "id": "QMvV2q-gxbrw",
        "colab_type": "code",
        "outputId": "93c38831-c17f-43de-8f1b-d79e13ea045c",
        "colab": {
          "base_uri": "https://localhost:8080/",
          "height": 34
        }
      },
      "source": [
        "fuzz.ratio(word1, word2)"
      ],
      "execution_count": 0,
      "outputs": [
        {
          "output_type": "execute_result",
          "data": {
            "text/plain": [
              "88"
            ]
          },
          "metadata": {
            "tags": []
          },
          "execution_count": 76
        }
      ]
    },
    {
      "cell_type": "code",
      "metadata": {
        "id": "xI42ZzYdyeTt",
        "colab_type": "code",
        "outputId": "5f224dbd-d1b6-41b2-f6d9-60e6fa3cf592",
        "colab": {
          "base_uri": "https://localhost:8080/",
          "height": 34
        }
      },
      "source": [
        "word1=word1+'!'\n",
        "fuzz.partial_ratio(word1, word2)"
      ],
      "execution_count": 0,
      "outputs": [
        {
          "output_type": "execute_result",
          "data": {
            "text/plain": [
              "88"
            ]
          },
          "metadata": {
            "tags": []
          },
          "execution_count": 78
        }
      ]
    },
    {
      "cell_type": "code",
      "metadata": {
        "id": "uszE38yXyluT",
        "colab_type": "code",
        "outputId": "2164dd73-8210-4750-eae2-51a9b3543f59",
        "colab": {
          "base_uri": "https://localhost:8080/",
          "height": 34
        }
      },
      "source": [
        "fuzz.ratio(word1, word2)"
      ],
      "execution_count": 0,
      "outputs": [
        {
          "output_type": "execute_result",
          "data": {
            "text/plain": [
              "86"
            ]
          },
          "metadata": {
            "tags": []
          },
          "execution_count": 79
        }
      ]
    },
    {
      "cell_type": "code",
      "metadata": {
        "id": "fLXUlMOt0fip",
        "colab_type": "code",
        "outputId": "32f37258-1f30-4062-8835-ac83fd48fec7",
        "colab": {
          "base_uri": "https://localhost:8080/",
          "height": 104
        }
      },
      "source": [
        "process.extract('Gando Gourou', df_2019['Localite'], limit=5)\n"
      ],
      "execution_count": 0,
      "outputs": [
        {
          "output_type": "execute_result",
          "data": {
            "text/plain": [
              "[('Gando Gourou', 100, 329),\n",
              " ('Gourou', 90, 109),\n",
              " ('Gourou', 90, 110),\n",
              " ('Gourou', 90, 111),\n",
              " ('Dèh Gando', 86, 172)]"
            ]
          },
          "metadata": {
            "tags": []
          },
          "execution_count": 114
        }
      ]
    },
    {
      "cell_type": "code",
      "metadata": {
        "id": "5l3U4bPTzjQA",
        "colab_type": "code",
        "outputId": "ba6d962a-7255-4f50-ee8d-f05edb103215",
        "colab": {
          "base_uri": "https://localhost:8080/",
          "height": 52
        }
      },
      "source": [
        "#last one\n",
        "word1=df_2019.loc[329,'Localite']\n",
        "word2=df_2016.loc[270,'Localité']\n",
        "print(word1,'\\n',word2)"
      ],
      "execution_count": 0,
      "outputs": [
        {
          "output_type": "stream",
          "text": [
            "Gando Gourou \n",
            " Ganrou gando\n"
          ],
          "name": "stdout"
        }
      ]
    },
    {
      "cell_type": "code",
      "metadata": {
        "id": "vfc0Pjm-zvNv",
        "colab_type": "code",
        "outputId": "712dc555-eee0-43f4-bd33-9b38c0da0d1f",
        "colab": {
          "base_uri": "https://localhost:8080/",
          "height": 34
        }
      },
      "source": [
        "fuzz.ratio(word1, word2)"
      ],
      "execution_count": 0,
      "outputs": [
        {
          "output_type": "execute_result",
          "data": {
            "text/plain": [
              "42"
            ]
          },
          "metadata": {
            "tags": []
          },
          "execution_count": 102
        }
      ]
    },
    {
      "cell_type": "code",
      "metadata": {
        "id": "YO11EVMVzy3o",
        "colab_type": "code",
        "outputId": "d8bcfb2f-0fab-436d-a3a9-0e1f6b598986",
        "colab": {
          "base_uri": "https://localhost:8080/",
          "height": 34
        }
      },
      "source": [
        "fuzz.token_sort_ratio(word1, word2)"
      ],
      "execution_count": 0,
      "outputs": [
        {
          "output_type": "execute_result",
          "data": {
            "text/plain": [
              "83"
            ]
          },
          "metadata": {
            "tags": []
          },
          "execution_count": 103
        }
      ]
    },
    {
      "cell_type": "markdown",
      "metadata": {
        "id": "3u48Pkw7wkag",
        "colab_type": "text"
      },
      "source": [
        "### LETS CLEAN THE DATA"
      ]
    },
    {
      "cell_type": "markdown",
      "metadata": {
        "id": "31jD9gsH1daO",
        "colab_type": "text"
      },
      "source": [
        "#### Functions"
      ]
    },
    {
      "cell_type": "code",
      "metadata": {
        "id": "mHAt1GY81guW",
        "colab_type": "code",
        "colab": {}
      },
      "source": [
        "#Marques des Pompes\n",
        "def marques(x):\n",
        "  marque='NA'\n",
        "  \n",
        "  if x['Marque']:\n",
        "    if bool(re.search('ergnet',x['Marque'].lower())):\n",
        "      marque='Vergnet'\n",
        "    elif bool(re.search('ndia',x['Marque'].lower())):\n",
        "      marque='India'\n",
        "    elif bool(re.search('afri',x['Marque'].lower())):\n",
        "      marque='Afridev'\n",
        "  return marque"
      ],
      "execution_count": 0,
      "outputs": []
    },
    {
      "cell_type": "code",
      "metadata": {
        "id": "y99B2ff51ln5",
        "colab_type": "code",
        "colab": {}
      },
      "source": [
        "#Years\n",
        "def getyear(x):\n",
        "  year=None\n",
        "  if x['Année de réalisation']:\n",
        "    for s in x['Année de réalisation'].split():\n",
        "      if s.isdigit():\n",
        "         year=int(s)\n",
        "    if year==None:\n",
        "      return year\n",
        "    elif year >2019:\n",
        "      #print(year)\n",
        "      year=2010\n",
        "      return year\n",
        "    elif year > 100:\n",
        "      return int(year)\n",
        "    elif year >70:\n",
        "      year=int('19'+str(year))\n",
        "      return int(year)\n",
        "    else:\n",
        "      year=None\n",
        "    \n",
        "  return year"
      ],
      "execution_count": 0,
      "outputs": []
    },
    {
      "cell_type": "code",
      "metadata": {
        "id": "IVw7BytI1rGk",
        "colab_type": "code",
        "colab": {}
      },
      "source": [
        "'''\n",
        "Function to change latitude/longitude data from degrees,minutes and seconds into decimals\n",
        "'''\n",
        "def decimals_lat_lon(x,lat):\n",
        "  coord=None\n",
        "  if x[lat]:\n",
        "    if len(x[lat])>2:\n",
        "      if len(re.split('[°\\'\"]', x[lat])) == 4 :\n",
        "        \n",
        "        #gets all the parts of the coordinates into different elements of a vector\n",
        "        deg, minutes, seconds, direction =  re.split('[°\\'\"]', x[lat])\n",
        "        \n",
        "        #had to put replace commas because of data of 2009\n",
        "        coord=(float(deg) + float(minutes.replace(\",\",\".\"))/60 + float(seconds.replace(\",\",\".\"))/(60*60)) * (-1 if direction in ['W', 'S'] else 1)\n",
        "      elif len(re.split('[°\\'\"]', x[lat])) > 0:\n",
        "        coord=x[lat]\n",
        "        print(coord)\n",
        "  else:\n",
        "    coord=None\n",
        "    print(coord)\n",
        "  return coord"
      ],
      "execution_count": 0,
      "outputs": []
    },
    {
      "cell_type": "markdown",
      "metadata": {
        "id": "zubT2jcrwt3s",
        "colab_type": "text"
      },
      "source": [
        "#### Begin with 2019"
      ]
    },
    {
      "cell_type": "code",
      "metadata": {
        "id": "Nj7TkvBBAFYL",
        "colab_type": "code",
        "outputId": "ace91e75-ded5-4307-e1aa-c0ed3e6688b1",
        "colab": {
          "base_uri": "https://localhost:8080/",
          "height": 52
        }
      },
      "source": [
        "#Create decimals from degrees latitude\n",
        "df_2019['Latitude_decimals']=df_2019.apply(lambda x: decimals_lat_lon(x,'Latitude'),axis=1)"
      ],
      "execution_count": 0,
      "outputs": [
        {
          "output_type": "stream",
          "text": [
            "None\n",
            "None\n"
          ],
          "name": "stdout"
        }
      ]
    },
    {
      "cell_type": "code",
      "metadata": {
        "colab_type": "code",
        "outputId": "febd4935-cbc8-4134-b9d2-cd335cb090f8",
        "id": "SSPsnn5SnW9G",
        "colab": {
          "base_uri": "https://localhost:8080/",
          "height": 52
        }
      },
      "source": [
        "df_2019['Longitude_decimals']=df_2019.apply(lambda x: decimals_lat_lon(x,'Longitude'),axis=1)"
      ],
      "execution_count": 0,
      "outputs": [
        {
          "output_type": "stream",
          "text": [
            "None\n",
            "None\n"
          ],
          "name": "stdout"
        }
      ]
    },
    {
      "cell_type": "code",
      "metadata": {
        "id": "P4rX9UKBwsxk",
        "colab_type": "code",
        "colab": {}
      },
      "source": [
        "df_2019_filtered = df_2019[['Arrondissement', 'Village','Localite', 'Longitude_decimals',\n",
        "        'Latitude_decimals', 'rqtListe_Pompe.Modele_Pompe']]\n",
        "df_2019_filtered.columns = ['Arrondissement', 'Village','Localite', 'Longitude',\n",
        "        'Latitude', 'Marque']"
      ],
      "execution_count": 0,
      "outputs": []
    },
    {
      "cell_type": "code",
      "metadata": {
        "id": "hOzHn44212R5",
        "colab_type": "code",
        "outputId": "92788f5b-6ee3-4301-8948-130b2d37d88f",
        "colab": {
          "base_uri": "https://localhost:8080/",
          "height": 156
        }
      },
      "source": [
        "df_2019_filtered['Marque']=df_2019_filtered.apply(lambda x: marques(x),axis=1)"
      ],
      "execution_count": 0,
      "outputs": [
        {
          "output_type": "stream",
          "text": [
            "/usr/local/lib/python3.6/dist-packages/ipykernel_launcher.py:1: SettingWithCopyWarning:\n",
            "\n",
            "\n",
            "A value is trying to be set on a copy of a slice from a DataFrame.\n",
            "Try using .loc[row_indexer,col_indexer] = value instead\n",
            "\n",
            "See the caveats in the documentation: http://pandas.pydata.org/pandas-docs/stable/indexing.html#indexing-view-versus-copy\n",
            "\n"
          ],
          "name": "stderr"
        }
      ]
    },
    {
      "cell_type": "code",
      "metadata": {
        "id": "xdQSTE8x3mPy",
        "colab_type": "code",
        "colab": {}
      },
      "source": [
        "l_2019_local = df_2019_filtered['Localite'].sort_values().tolist()\n",
        "\n",
        "index = []\n",
        "j=1\n",
        "for i,local in enumerate(l_2019_local):\n",
        "  if i == 0:\n",
        "    j=1\n",
        "    word = local+' '+str(j)\n",
        "    word=word.replace(' ','_')\n",
        "    index.append(word)\n",
        "    continue\n",
        "  if l_2019_local[i-1] == local:\n",
        "      j+=1\n",
        "      word = local+' '+str(j)\n",
        "      word=word.replace(' ','_')\n",
        "      index.append(word)\n",
        "  else:\n",
        "      j=1\n",
        "      word = local+' '+str(j)\n",
        "      word=word.replace(' ','_')\n",
        "      index.append(word)"
      ],
      "execution_count": 0,
      "outputs": []
    },
    {
      "cell_type": "code",
      "metadata": {
        "id": "h48OMF1ABI44",
        "colab_type": "code",
        "colab": {}
      },
      "source": [
        "df_2019_filtered=df_2019_filtered.sort_values('Localite')"
      ],
      "execution_count": 0,
      "outputs": []
    },
    {
      "cell_type": "code",
      "metadata": {
        "id": "KQzRvxSw3cWx",
        "colab_type": "code",
        "colab": {}
      },
      "source": [
        "df_2019_filtered['index'] = index"
      ],
      "execution_count": 0,
      "outputs": []
    },
    {
      "cell_type": "code",
      "metadata": {
        "id": "47YefexP7nIB",
        "colab_type": "code",
        "colab": {}
      },
      "source": [
        "df_2019_filtered=df_2019_filtered.set_index('index')"
      ],
      "execution_count": 0,
      "outputs": []
    },
    {
      "cell_type": "code",
      "metadata": {
        "id": "ofrIxt4CAILM",
        "colab_type": "code",
        "colab": {}
      },
      "source": [
        "#convert to dictionary\n",
        "dict_2019 = df_2019_filtered.to_dict('index')\n",
        "dict_2019 = [{k: v} for k, v in dict_2019.items()]"
      ],
      "execution_count": 0,
      "outputs": []
    },
    {
      "cell_type": "markdown",
      "metadata": {
        "id": "7z2RTV4GFqgg",
        "colab_type": "text"
      },
      "source": [
        "## upload to Firebase"
      ]
    },
    {
      "cell_type": "code",
      "metadata": {
        "id": "zDmZqjfTARzg",
        "colab_type": "code",
        "colab": {}
      },
      "source": [
        "for data in dict_2019:\n",
        "  id=list(data.keys())[0]\n",
        "  doc_ref = db.collection(u'Pompes_2019').document(u''+str(id))\n",
        "  doc_ref.set(data[id])"
      ],
      "execution_count": 0,
      "outputs": []
    },
    {
      "cell_type": "code",
      "metadata": {
        "id": "LlzRKCv_-e6g",
        "colab_type": "code",
        "colab": {}
      },
      "source": [
        ""
      ],
      "execution_count": 0,
      "outputs": []
    }
  ]
}