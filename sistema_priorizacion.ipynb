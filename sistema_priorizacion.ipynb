{
 "cells": [
  {
   "cell_type": "markdown",
   "metadata": {
    "colab": {
     "base_uri": "https://localhost:8080/",
     "height": 34
    },
    "colab_type": "code",
    "id": "YLlHkfPNlSv1",
    "outputId": "a97dc925-4566-4442-e73e-fa0f72244536"
   },
   "source": [
    "# IMPORTS"
   ]
  },
  {
   "cell_type": "code",
   "execution_count": 44,
   "metadata": {},
   "outputs": [],
   "source": [
    "import yaml\n",
    "import firebase_admin\n",
    "import numpy as np\n",
    "import pandas as pd\n",
    "import matplotlib.pyplot as plt\n",
    "\n",
    "import requests\n",
    "import json\n",
    "\n",
    "from math import sin, cos, sqrt, atan2, radians\n",
    "\n",
    "\n",
    "from firebase_admin import credentials\n",
    "from firebase_admin import firestore"
   ]
  },
  {
   "cell_type": "markdown",
   "metadata": {
    "colab_type": "text",
    "id": "iA76tKgbnBvj"
   },
   "source": [
    "# CONNECT TO FIREBASE"
   ]
  },
  {
   "cell_type": "code",
   "execution_count": 2,
   "metadata": {
    "colab": {},
    "colab_type": "code",
    "id": "6pIrQEso408R"
   },
   "outputs": [],
   "source": [
    "filename='/Users/5danalfaro/OAN/credentials/firebase_parameters.json'"
   ]
  },
  {
   "cell_type": "code",
   "execution_count": 3,
   "metadata": {
    "colab": {},
    "colab_type": "code",
    "id": "j0-CWZv25YWX"
   },
   "outputs": [],
   "source": [
    "# Use a service account\n",
    "cred = credentials.Certificate(filename)\n",
    "firebase_admin.initialize_app(cred)\n",
    "\n",
    "db = firestore.client()"
   ]
  },
  {
   "cell_type": "markdown",
   "metadata": {},
   "source": [
    "# GET VILLAGE AND PRIORITY SURVEYS"
   ]
  },
  {
   "cell_type": "code",
   "execution_count": 4,
   "metadata": {},
   "outputs": [],
   "source": [
    "col_query = db.collection('Surveys').document('Backup').collection('Answers').where(u'survey_type', u'==', u'2-survey_priority')\n"
   ]
  },
  {
   "cell_type": "code",
   "execution_count": 5,
   "metadata": {},
   "outputs": [],
   "source": [
    "col_sur_priority = col_query.stream()"
   ]
  },
  {
   "cell_type": "code",
   "execution_count": 6,
   "metadata": {},
   "outputs": [],
   "source": [
    "l_sur_priority = []\n",
    "for doc in col_sur_priority:\n",
    "    l_sur_priority.append(doc.to_dict())"
   ]
  },
  {
   "cell_type": "code",
   "execution_count": 7,
   "metadata": {},
   "outputs": [
    {
     "data": {
      "text/plain": [
       "85"
      ]
     },
     "execution_count": 7,
     "metadata": {},
     "output_type": "execute_result"
    }
   ],
   "source": [
    "len(l_sur_priority)"
   ]
  },
  {
   "cell_type": "code",
   "execution_count": 8,
   "metadata": {},
   "outputs": [],
   "source": [
    "col_query = (db.collection('Surveys').\n",
    "                    document('Backup').\n",
    "                        collection('Answers').\n",
    "                            where(u'survey_type', u'==', u'1-survey_village')\n",
    "            )"
   ]
  },
  {
   "cell_type": "code",
   "execution_count": 9,
   "metadata": {},
   "outputs": [],
   "source": [
    "col_sur_village = col_query.stream()"
   ]
  },
  {
   "cell_type": "code",
   "execution_count": 10,
   "metadata": {},
   "outputs": [],
   "source": [
    "l_sur_village = []\n",
    "for doc in col_sur_village:\n",
    "    l_sur_village.append(doc.to_dict())"
   ]
  },
  {
   "cell_type": "code",
   "execution_count": 11,
   "metadata": {},
   "outputs": [
    {
     "data": {
      "text/plain": [
       "7"
      ]
     },
     "execution_count": 11,
     "metadata": {},
     "output_type": "execute_result"
    }
   ],
   "source": [
    "len(l_sur_village)"
   ]
  },
  {
   "cell_type": "code",
   "execution_count": 12,
   "metadata": {},
   "outputs": [
    {
     "data": {
      "text/plain": [
       "['Kora seko Kparou où Sansi Gah Gourou',\n",
       " 'Tata Lafiarou ou Djonwouro Kparou ',\n",
       " 'Debbo',\n",
       " 'Gbérou kpanin',\n",
       " 'Wodora',\n",
       " 'Alafiarou',\n",
       " 'Tata Lafiarou ou Djonwouro Kparou ']"
      ]
     },
     "execution_count": 12,
     "metadata": {},
     "output_type": "execute_result"
    }
   ],
   "source": [
    "[vil['data']['village_name'] for vil in l_sur_village]"
   ]
  },
  {
   "cell_type": "code",
   "execution_count": 13,
   "metadata": {},
   "outputs": [
    {
     "data": {
      "text/plain": [
       "['null', '80', '120', '150', '70', '400', '80']"
      ]
     },
     "execution_count": 13,
     "metadata": {},
     "output_type": "execute_result"
    }
   ],
   "source": [
    "[vil['data']['village_pop'] for vil in l_sur_village]"
   ]
  },
  {
   "cell_type": "markdown",
   "metadata": {},
   "source": [
    "# PROCESS DATA"
   ]
  },
  {
   "cell_type": "markdown",
   "metadata": {},
   "source": [
    "## PRIORISATION DATA"
   ]
  },
  {
   "cell_type": "code",
   "execution_count": 14,
   "metadata": {},
   "outputs": [],
   "source": [
    "df_priority=pd.DataFrame([{'latitude':doc['coords']['latitude'],\n",
    "  'longitude':doc['coords']['longitude'],\n",
    "  'creation_date':doc['creation_date'],\n",
    "  'nb_basin':doc['data']['nb_basin'],\n",
    "  'nb_people':doc['data']['nb_people'],\n",
    "  'nb_diarrhoea':doc['data']['nb_diarrhoea'],\n",
    "  'nb_malnu':doc['data']['nb_malnu'],\n",
    "  'water_storage':doc['data']['water_storage'],\n",
    "  'water_quality':doc['data']['water_quality'],\n",
    "  'self_manag':doc['data']['self_manag']\n",
    "  \n",
    "    } for doc in l_sur_priority\n",
    "])"
   ]
  },
  {
   "cell_type": "markdown",
   "metadata": {},
   "source": [
    "## Village data"
   ]
  },
  {
   "cell_type": "code",
   "execution_count": 15,
   "metadata": {},
   "outputs": [],
   "source": [
    "df_village=pd.DataFrame(\n",
    "    [{'latitude':doc['coords']['latitude'],\n",
    "      'longitude':doc['coords']['longitude'],\n",
    "      'village_coords':doc['data']['village_coords'],\n",
    "      'creation_date':doc['creation_date'],\n",
    "      'nb_water_sources':doc['data']['nb_water_sources'],\n",
    "      'heath_center':doc['data']['heath_center'],\n",
    "      'village_pop':doc['data']['village_pop'],\n",
    "      'village_name':doc['data']['village_name'],\n",
    "      'water_sources':doc['data']['water_sources']\n",
    "\n",
    "        } for doc in l_sur_village\n",
    "    ]\n",
    ")"
   ]
  },
  {
   "cell_type": "code",
   "execution_count": 16,
   "metadata": {},
   "outputs": [],
   "source": [
    "df_village['longitude']=df_village.apply(lambda x: x['village_coords'].split(' ;')[1],axis=1)"
   ]
  },
  {
   "cell_type": "code",
   "execution_count": 17,
   "metadata": {},
   "outputs": [],
   "source": [
    "df_village['latitude']=df_village.apply(lambda x: x['village_coords'].split(' ;')[0],axis=1)"
   ]
  },
  {
   "cell_type": "code",
   "execution_count": 18,
   "metadata": {},
   "outputs": [],
   "source": [
    "l_s_potable= ['PPM','AEV','FPM']"
   ]
  },
  {
   "cell_type": "code",
   "execution_count": 19,
   "metadata": {},
   "outputs": [],
   "source": [
    "df_village['%_s_potable']=df_village.apply(\n",
    "    lambda x: 100*(len([source['ws_type'] \n",
    "                   for source in x['water_sources'] if source['ws_type'] in l_s_potable])\n",
    "                /float(x['nb_water_sources']))\n",
    "    ,axis=1\n",
    ")"
   ]
  },
  {
   "cell_type": "markdown",
   "metadata": {},
   "source": [
    "### merge village and priority"
   ]
  },
  {
   "cell_type": "code",
   "execution_count": 29,
   "metadata": {
    "code_folding": []
   },
   "outputs": [],
   "source": [
    "'''get village from minimum distance to survey (and date of creation date)'''\n",
    "def get_village(x):\n",
    "    min_dist=1\n",
    "    village=''\n",
    "    prior_cre_date=x['creation_date']\n",
    "    lat=float(x['latitude'])\n",
    "    lon=float(x['longitude'])\n",
    "    for vil_coords,vil_name in zip(df_village['village_coords'].to_list(),\n",
    "                                   df_village['village_name'].to_list()\n",
    "                                  ):\n",
    "        vil_lat = float(vil_coords.split(' ;')[0])\n",
    "        vil_lon = float(vil_coords.split(' ;')[1])\n",
    "        \n",
    "        distance=((vil_lat-lat)**2+(vil_lon-lon)**2)**0.5\n",
    "        if min_dist > distance:\n",
    "            min_dist=distance\n",
    "            village=vil_name\n",
    "    #print(prior_cre_date[5:10],\n",
    "    #      df_village[df_village['village_name']==vil_name]['creation_date'].values[0][5:10],\n",
    "    #     prior_cre_date[5:10]==df_village[df_village['village_name']==vil_name]['creation_date'].values[0][5:10],\n",
    "    #     village)\n",
    "    #        \n",
    "    return village\n",
    "        "
   ]
  },
  {
   "cell_type": "code",
   "execution_count": 52,
   "metadata": {},
   "outputs": [],
   "source": [
    "df_priority['nb_people'] = pd.to_numeric(df_priority['nb_people'],errors='coerce')\n",
    "df_priority['nb_diarrhoea'] = pd.to_numeric(df_priority['nb_diarrhoea'],errors='coerce')\n",
    "df_priority['nb_malnu'] = pd.to_numeric(df_priority['nb_malnu'],errors='coerce')\n",
    "df_priority['nb_basin'] = pd.to_numeric(df_priority['nb_basin'],errors='coerce')\n",
    "df_priority['water_quality'] = pd.to_numeric(df_priority['water_quality'],errors='coerce')\n",
    "df_priority['self_manag'] = pd.to_numeric(df_priority['self_manag'],errors='coerce')\n",
    "df_priority['latitude'] = pd.to_numeric(df_priority['latitude'],errors='coerce')\n",
    "df_priority['longitude'] = pd.to_numeric(df_priority['longitude'],errors='coerce')"
   ]
  },
  {
   "cell_type": "code",
   "execution_count": 22,
   "metadata": {},
   "outputs": [],
   "source": [
    "df_priority['l/per']=df_priority['nb_basin']*25/df_priority['nb_people']"
   ]
  },
  {
   "cell_type": "code",
   "execution_count": 23,
   "metadata": {},
   "outputs": [],
   "source": [
    "df_priority['t_diar']=df_priority['nb_diarrhoea']*100/df_priority['nb_people']"
   ]
  },
  {
   "cell_type": "code",
   "execution_count": 24,
   "metadata": {},
   "outputs": [],
   "source": [
    "df_priority['t_mal']=df_priority['nb_malnu']*100/df_priority['nb_people']"
   ]
  },
  {
   "cell_type": "code",
   "execution_count": 30,
   "metadata": {},
   "outputs": [],
   "source": [
    "df_priority['village']=df_priority.apply(lambda x: get_village(x),axis=1)"
   ]
  },
  {
   "cell_type": "code",
   "execution_count": 31,
   "metadata": {},
   "outputs": [
    {
     "data": {
      "text/html": [
       "<div>\n",
       "<style scoped>\n",
       "    .dataframe tbody tr th:only-of-type {\n",
       "        vertical-align: middle;\n",
       "    }\n",
       "\n",
       "    .dataframe tbody tr th {\n",
       "        vertical-align: top;\n",
       "    }\n",
       "\n",
       "    .dataframe thead th {\n",
       "        text-align: right;\n",
       "    }\n",
       "</style>\n",
       "<table border=\"1\" class=\"dataframe\">\n",
       "  <thead>\n",
       "    <tr style=\"text-align: right;\">\n",
       "      <th></th>\n",
       "      <th>latitude</th>\n",
       "      <th>longitude</th>\n",
       "      <th>creation_date</th>\n",
       "      <th>nb_basin</th>\n",
       "      <th>nb_people</th>\n",
       "      <th>nb_diarrhoea</th>\n",
       "      <th>nb_malnu</th>\n",
       "      <th>water_storage</th>\n",
       "      <th>water_quality</th>\n",
       "      <th>self_manag</th>\n",
       "      <th>l/per</th>\n",
       "      <th>t_diar</th>\n",
       "      <th>t_mal</th>\n",
       "      <th>village</th>\n",
       "    </tr>\n",
       "  </thead>\n",
       "  <tbody>\n",
       "    <tr>\n",
       "      <td>0</td>\n",
       "      <td>9.9138</td>\n",
       "      <td>3.40457</td>\n",
       "      <td>2019-11-01T08:11:00.456Z</td>\n",
       "      <td>7</td>\n",
       "      <td>4</td>\n",
       "      <td>1</td>\n",
       "      <td>1</td>\n",
       "      <td>NO</td>\n",
       "      <td>4.0</td>\n",
       "      <td>4</td>\n",
       "      <td>43.750000</td>\n",
       "      <td>25.000000</td>\n",
       "      <td>25.000000</td>\n",
       "      <td>Alafiarou</td>\n",
       "    </tr>\n",
       "    <tr>\n",
       "      <td>1</td>\n",
       "      <td>9.90037</td>\n",
       "      <td>3.40495</td>\n",
       "      <td>2019-10-30T15:56:30.815Z</td>\n",
       "      <td>8</td>\n",
       "      <td>17</td>\n",
       "      <td>3</td>\n",
       "      <td>0</td>\n",
       "      <td>NO</td>\n",
       "      <td>1.0</td>\n",
       "      <td>4</td>\n",
       "      <td>11.764706</td>\n",
       "      <td>17.647059</td>\n",
       "      <td>0.000000</td>\n",
       "      <td>Alafiarou</td>\n",
       "    </tr>\n",
       "    <tr>\n",
       "      <td>2</td>\n",
       "      <td>9.9145</td>\n",
       "      <td>3.40468</td>\n",
       "      <td>2019-11-01T08:18:44.907Z</td>\n",
       "      <td>9</td>\n",
       "      <td>14</td>\n",
       "      <td>3</td>\n",
       "      <td>0</td>\n",
       "      <td>NO</td>\n",
       "      <td>2.0</td>\n",
       "      <td>4</td>\n",
       "      <td>16.071429</td>\n",
       "      <td>21.428571</td>\n",
       "      <td>0.000000</td>\n",
       "      <td>Alafiarou</td>\n",
       "    </tr>\n",
       "    <tr>\n",
       "      <td>3</td>\n",
       "      <td>9.90121</td>\n",
       "      <td>3.40528</td>\n",
       "      <td>2019-10-30T16:21:04.159Z</td>\n",
       "      <td>13</td>\n",
       "      <td>10</td>\n",
       "      <td>1</td>\n",
       "      <td>0</td>\n",
       "      <td>NO</td>\n",
       "      <td>2.0</td>\n",
       "      <td>4</td>\n",
       "      <td>32.500000</td>\n",
       "      <td>10.000000</td>\n",
       "      <td>0.000000</td>\n",
       "      <td>Alafiarou</td>\n",
       "    </tr>\n",
       "    <tr>\n",
       "      <td>4</td>\n",
       "      <td>9.93477</td>\n",
       "      <td>3.41619</td>\n",
       "      <td>2019-10-29T15:54:25.058Z</td>\n",
       "      <td>6</td>\n",
       "      <td>9</td>\n",
       "      <td>0</td>\n",
       "      <td>0</td>\n",
       "      <td>NO</td>\n",
       "      <td>4.0</td>\n",
       "      <td>5</td>\n",
       "      <td>16.666667</td>\n",
       "      <td>0.000000</td>\n",
       "      <td>0.000000</td>\n",
       "      <td>Kora seko Kparou où Sansi Gah Gourou</td>\n",
       "    </tr>\n",
       "    <tr>\n",
       "      <td>...</td>\n",
       "      <td>...</td>\n",
       "      <td>...</td>\n",
       "      <td>...</td>\n",
       "      <td>...</td>\n",
       "      <td>...</td>\n",
       "      <td>...</td>\n",
       "      <td>...</td>\n",
       "      <td>...</td>\n",
       "      <td>...</td>\n",
       "      <td>...</td>\n",
       "      <td>...</td>\n",
       "      <td>...</td>\n",
       "      <td>...</td>\n",
       "      <td>...</td>\n",
       "    </tr>\n",
       "    <tr>\n",
       "      <td>80</td>\n",
       "      <td>9.93279</td>\n",
       "      <td>3.41592</td>\n",
       "      <td>2019-10-29T13:36:27.742Z</td>\n",
       "      <td>99</td>\n",
       "      <td>83</td>\n",
       "      <td>3</td>\n",
       "      <td>2</td>\n",
       "      <td>NO</td>\n",
       "      <td>4.0</td>\n",
       "      <td>5</td>\n",
       "      <td>29.819277</td>\n",
       "      <td>3.614458</td>\n",
       "      <td>2.409639</td>\n",
       "      <td>Kora seko Kparou où Sansi Gah Gourou</td>\n",
       "    </tr>\n",
       "    <tr>\n",
       "      <td>81</td>\n",
       "      <td>9.86297</td>\n",
       "      <td>3.28377</td>\n",
       "      <td>2019-11-02T12:40:57.354Z</td>\n",
       "      <td>19</td>\n",
       "      <td>15</td>\n",
       "      <td>4</td>\n",
       "      <td>0</td>\n",
       "      <td>NO</td>\n",
       "      <td>2.0</td>\n",
       "      <td>4</td>\n",
       "      <td>31.666667</td>\n",
       "      <td>26.666667</td>\n",
       "      <td>0.000000</td>\n",
       "      <td>Debbo</td>\n",
       "    </tr>\n",
       "    <tr>\n",
       "      <td>82</td>\n",
       "      <td>9.8864</td>\n",
       "      <td>3.26168</td>\n",
       "      <td>2019-11-02T10:43:10.355Z</td>\n",
       "      <td>14</td>\n",
       "      <td>12</td>\n",
       "      <td>3</td>\n",
       "      <td>0</td>\n",
       "      <td>NO</td>\n",
       "      <td>2.0</td>\n",
       "      <td>4</td>\n",
       "      <td>29.166667</td>\n",
       "      <td>25.000000</td>\n",
       "      <td>0.000000</td>\n",
       "      <td>Debbo</td>\n",
       "    </tr>\n",
       "    <tr>\n",
       "      <td>83</td>\n",
       "      <td>9.87848</td>\n",
       "      <td>3.27046</td>\n",
       "      <td>2019-11-02T11:21:20.038Z</td>\n",
       "      <td>20</td>\n",
       "      <td>10</td>\n",
       "      <td>1</td>\n",
       "      <td>0</td>\n",
       "      <td>NO</td>\n",
       "      <td>2.0</td>\n",
       "      <td>4</td>\n",
       "      <td>50.000000</td>\n",
       "      <td>10.000000</td>\n",
       "      <td>0.000000</td>\n",
       "      <td>Debbo</td>\n",
       "    </tr>\n",
       "    <tr>\n",
       "      <td>84</td>\n",
       "      <td>9.90551</td>\n",
       "      <td>3.40061</td>\n",
       "      <td>2019-10-30T14:12:42.452Z</td>\n",
       "      <td>17</td>\n",
       "      <td>25</td>\n",
       "      <td>4</td>\n",
       "      <td>0</td>\n",
       "      <td>NO</td>\n",
       "      <td>4.0</td>\n",
       "      <td>5</td>\n",
       "      <td>17.000000</td>\n",
       "      <td>16.000000</td>\n",
       "      <td>0.000000</td>\n",
       "      <td>Alafiarou</td>\n",
       "    </tr>\n",
       "  </tbody>\n",
       "</table>\n",
       "<p>85 rows × 14 columns</p>\n",
       "</div>"
      ],
      "text/plain": [
       "   latitude longitude             creation_date  nb_basin  nb_people  \\\n",
       "0    9.9138   3.40457  2019-11-01T08:11:00.456Z         7          4   \n",
       "1   9.90037   3.40495  2019-10-30T15:56:30.815Z         8         17   \n",
       "2    9.9145   3.40468  2019-11-01T08:18:44.907Z         9         14   \n",
       "3   9.90121   3.40528  2019-10-30T16:21:04.159Z        13         10   \n",
       "4   9.93477   3.41619  2019-10-29T15:54:25.058Z         6          9   \n",
       "..      ...       ...                       ...       ...        ...   \n",
       "80  9.93279   3.41592  2019-10-29T13:36:27.742Z        99         83   \n",
       "81  9.86297   3.28377  2019-11-02T12:40:57.354Z        19         15   \n",
       "82   9.8864   3.26168  2019-11-02T10:43:10.355Z        14         12   \n",
       "83  9.87848   3.27046  2019-11-02T11:21:20.038Z        20         10   \n",
       "84  9.90551   3.40061  2019-10-30T14:12:42.452Z        17         25   \n",
       "\n",
       "    nb_diarrhoea  nb_malnu water_storage  water_quality  self_manag  \\\n",
       "0              1         1            NO            4.0           4   \n",
       "1              3         0            NO            1.0           4   \n",
       "2              3         0            NO            2.0           4   \n",
       "3              1         0            NO            2.0           4   \n",
       "4              0         0            NO            4.0           5   \n",
       "..           ...       ...           ...            ...         ...   \n",
       "80             3         2            NO            4.0           5   \n",
       "81             4         0            NO            2.0           4   \n",
       "82             3         0            NO            2.0           4   \n",
       "83             1         0            NO            2.0           4   \n",
       "84             4         0            NO            4.0           5   \n",
       "\n",
       "        l/per     t_diar      t_mal                               village  \n",
       "0   43.750000  25.000000  25.000000                             Alafiarou  \n",
       "1   11.764706  17.647059   0.000000                             Alafiarou  \n",
       "2   16.071429  21.428571   0.000000                             Alafiarou  \n",
       "3   32.500000  10.000000   0.000000                             Alafiarou  \n",
       "4   16.666667   0.000000   0.000000  Kora seko Kparou où Sansi Gah Gourou  \n",
       "..        ...        ...        ...                                   ...  \n",
       "80  29.819277   3.614458   2.409639  Kora seko Kparou où Sansi Gah Gourou  \n",
       "81  31.666667  26.666667   0.000000                                 Debbo  \n",
       "82  29.166667  25.000000   0.000000                                 Debbo  \n",
       "83  50.000000  10.000000   0.000000                                 Debbo  \n",
       "84  17.000000  16.000000   0.000000                             Alafiarou  \n",
       "\n",
       "[85 rows x 14 columns]"
      ]
     },
     "execution_count": 31,
     "metadata": {},
     "output_type": "execute_result"
    }
   ],
   "source": [
    "df_priority"
   ]
  },
  {
   "cell_type": "code",
   "execution_count": 32,
   "metadata": {},
   "outputs": [
    {
     "data": {
      "text/html": [
       "<div>\n",
       "<style scoped>\n",
       "    .dataframe tbody tr th:only-of-type {\n",
       "        vertical-align: middle;\n",
       "    }\n",
       "\n",
       "    .dataframe tbody tr th {\n",
       "        vertical-align: top;\n",
       "    }\n",
       "\n",
       "    .dataframe thead th {\n",
       "        text-align: right;\n",
       "    }\n",
       "</style>\n",
       "<table border=\"1\" class=\"dataframe\">\n",
       "  <thead>\n",
       "    <tr style=\"text-align: right;\">\n",
       "      <th></th>\n",
       "      <th>nb_people</th>\n",
       "      <th>l/per</th>\n",
       "      <th>nb_diarrhoea</th>\n",
       "      <th>nb_malnu</th>\n",
       "      <th>nb_basin</th>\n",
       "      <th>water_quality</th>\n",
       "      <th>self_manag</th>\n",
       "      <th>t_diar</th>\n",
       "      <th>t_mal</th>\n",
       "      <th>creation_date</th>\n",
       "    </tr>\n",
       "    <tr>\n",
       "      <th>village</th>\n",
       "      <th></th>\n",
       "      <th></th>\n",
       "      <th></th>\n",
       "      <th></th>\n",
       "      <th></th>\n",
       "      <th></th>\n",
       "      <th></th>\n",
       "      <th></th>\n",
       "      <th></th>\n",
       "      <th></th>\n",
       "    </tr>\n",
       "  </thead>\n",
       "  <tbody>\n",
       "    <tr>\n",
       "      <td>Alafiarou</td>\n",
       "      <td>678</td>\n",
       "      <td>24.630128</td>\n",
       "      <td>138</td>\n",
       "      <td>6</td>\n",
       "      <td>567</td>\n",
       "      <td>1.961538</td>\n",
       "      <td>4.055556</td>\n",
       "      <td>21.758433</td>\n",
       "      <td>1.320547</td>\n",
       "      <td>54</td>\n",
       "    </tr>\n",
       "    <tr>\n",
       "      <td>Debbo</td>\n",
       "      <td>227</td>\n",
       "      <td>34.620251</td>\n",
       "      <td>40</td>\n",
       "      <td>3</td>\n",
       "      <td>262</td>\n",
       "      <td>2.066667</td>\n",
       "      <td>4.066667</td>\n",
       "      <td>17.045342</td>\n",
       "      <td>0.702160</td>\n",
       "      <td>15</td>\n",
       "    </tr>\n",
       "    <tr>\n",
       "      <td>Kora seko Kparou où Sansi Gah Gourou</td>\n",
       "      <td>194</td>\n",
       "      <td>27.930525</td>\n",
       "      <td>20</td>\n",
       "      <td>2</td>\n",
       "      <td>218</td>\n",
       "      <td>3.666667</td>\n",
       "      <td>4.777778</td>\n",
       "      <td>12.247193</td>\n",
       "      <td>0.267738</td>\n",
       "      <td>9</td>\n",
       "    </tr>\n",
       "    <tr>\n",
       "      <td>Tata Lafiarou ou Djonwouro Kparou</td>\n",
       "      <td>77</td>\n",
       "      <td>25.696261</td>\n",
       "      <td>18</td>\n",
       "      <td>1</td>\n",
       "      <td>64</td>\n",
       "      <td>1.857143</td>\n",
       "      <td>4.000000</td>\n",
       "      <td>28.829583</td>\n",
       "      <td>2.380952</td>\n",
       "      <td>7</td>\n",
       "    </tr>\n",
       "  </tbody>\n",
       "</table>\n",
       "</div>"
      ],
      "text/plain": [
       "                                      nb_people      l/per  nb_diarrhoea  \\\n",
       "village                                                                    \n",
       "Alafiarou                                   678  24.630128           138   \n",
       "Debbo                                       227  34.620251            40   \n",
       "Kora seko Kparou où Sansi Gah Gourou        194  27.930525            20   \n",
       "Tata Lafiarou ou Djonwouro Kparou            77  25.696261            18   \n",
       "\n",
       "                                      nb_malnu  nb_basin  water_quality  \\\n",
       "village                                                                   \n",
       "Alafiarou                                    6       567       1.961538   \n",
       "Debbo                                        3       262       2.066667   \n",
       "Kora seko Kparou où Sansi Gah Gourou         2       218       3.666667   \n",
       "Tata Lafiarou ou Djonwouro Kparou            1        64       1.857143   \n",
       "\n",
       "                                      self_manag     t_diar     t_mal  \\\n",
       "village                                                                 \n",
       "Alafiarou                               4.055556  21.758433  1.320547   \n",
       "Debbo                                   4.066667  17.045342  0.702160   \n",
       "Kora seko Kparou où Sansi Gah Gourou    4.777778  12.247193  0.267738   \n",
       "Tata Lafiarou ou Djonwouro Kparou       4.000000  28.829583  2.380952   \n",
       "\n",
       "                                      creation_date  \n",
       "village                                              \n",
       "Alafiarou                                        54  \n",
       "Debbo                                            15  \n",
       "Kora seko Kparou où Sansi Gah Gourou              9  \n",
       "Tata Lafiarou ou Djonwouro Kparou                 7  "
      ]
     },
     "execution_count": 32,
     "metadata": {},
     "output_type": "execute_result"
    }
   ],
   "source": [
    "df_priority.groupby('village').agg({\n",
    "                                    'nb_people':'sum',\n",
    "                                    'l/per':'mean',\n",
    "                                    'nb_diarrhoea':'sum',\n",
    "                                    'nb_malnu':'sum',\n",
    "                                    'nb_basin':'sum',\n",
    "                                    'water_quality':'mean',\n",
    "                                    'self_manag':'mean',\n",
    "                                    't_diar':'mean',\n",
    "                                    't_mal':'mean',\n",
    "                                    'creation_date':'count'\n",
    "                            })"
   ]
  },
  {
   "cell_type": "code",
   "execution_count": 33,
   "metadata": {},
   "outputs": [],
   "source": [
    "df_vill_analy=df_priority.groupby('village').agg({\n",
    "                                    'nb_people':'sum',\n",
    "                                    'nb_diarrhoea':'sum',\n",
    "                                    'nb_malnu':'sum',\n",
    "                                    'nb_basin':'sum',\n",
    "                                    'water_quality':'mean',\n",
    "                                    'self_manag':'mean',\n",
    "                                    'creation_date':'count'\n",
    "                            }).reset_index()"
   ]
  },
  {
   "cell_type": "code",
   "execution_count": 34,
   "metadata": {},
   "outputs": [],
   "source": [
    "df_vill_analy['l/per']=df_vill_analy['nb_basin']*25/df_vill_analy['nb_people']"
   ]
  },
  {
   "cell_type": "code",
   "execution_count": 35,
   "metadata": {},
   "outputs": [],
   "source": [
    "df_vill_analy['t_diar']=df_vill_analy['nb_diarrhoea']*100/df_vill_analy['nb_people']"
   ]
  },
  {
   "cell_type": "code",
   "execution_count": 36,
   "metadata": {},
   "outputs": [],
   "source": [
    "df_vill_analy['t_mal']=df_vill_analy['nb_malnu']*100/df_vill_analy['nb_people']"
   ]
  },
  {
   "cell_type": "code",
   "execution_count": 37,
   "metadata": {},
   "outputs": [],
   "source": [
    "col_name=list(df_vill_analy.columns)\n",
    "col_name[7]='n_enquetes'\n",
    "df_vill_analy.columns=col_name"
   ]
  },
  {
   "cell_type": "code",
   "execution_count": 38,
   "metadata": {},
   "outputs": [
    {
     "data": {
      "text/html": [
       "<div>\n",
       "<style scoped>\n",
       "    .dataframe tbody tr th:only-of-type {\n",
       "        vertical-align: middle;\n",
       "    }\n",
       "\n",
       "    .dataframe tbody tr th {\n",
       "        vertical-align: top;\n",
       "    }\n",
       "\n",
       "    .dataframe thead th {\n",
       "        text-align: right;\n",
       "    }\n",
       "</style>\n",
       "<table border=\"1\" class=\"dataframe\">\n",
       "  <thead>\n",
       "    <tr style=\"text-align: right;\">\n",
       "      <th></th>\n",
       "      <th>village</th>\n",
       "      <th>nb_people</th>\n",
       "      <th>nb_diarrhoea</th>\n",
       "      <th>nb_malnu</th>\n",
       "      <th>nb_basin</th>\n",
       "      <th>water_quality</th>\n",
       "      <th>self_manag</th>\n",
       "      <th>n_enquetes</th>\n",
       "      <th>l/per</th>\n",
       "      <th>t_diar</th>\n",
       "      <th>t_mal</th>\n",
       "    </tr>\n",
       "  </thead>\n",
       "  <tbody>\n",
       "    <tr>\n",
       "      <td>0</td>\n",
       "      <td>Alafiarou</td>\n",
       "      <td>678</td>\n",
       "      <td>138</td>\n",
       "      <td>6</td>\n",
       "      <td>567</td>\n",
       "      <td>1.961538</td>\n",
       "      <td>4.055556</td>\n",
       "      <td>54</td>\n",
       "      <td>20.907080</td>\n",
       "      <td>20.353982</td>\n",
       "      <td>0.884956</td>\n",
       "    </tr>\n",
       "    <tr>\n",
       "      <td>1</td>\n",
       "      <td>Debbo</td>\n",
       "      <td>227</td>\n",
       "      <td>40</td>\n",
       "      <td>3</td>\n",
       "      <td>262</td>\n",
       "      <td>2.066667</td>\n",
       "      <td>4.066667</td>\n",
       "      <td>15</td>\n",
       "      <td>28.854626</td>\n",
       "      <td>17.621145</td>\n",
       "      <td>1.321586</td>\n",
       "    </tr>\n",
       "    <tr>\n",
       "      <td>2</td>\n",
       "      <td>Kora seko Kparou où Sansi Gah Gourou</td>\n",
       "      <td>194</td>\n",
       "      <td>20</td>\n",
       "      <td>2</td>\n",
       "      <td>218</td>\n",
       "      <td>3.666667</td>\n",
       "      <td>4.777778</td>\n",
       "      <td>9</td>\n",
       "      <td>28.092784</td>\n",
       "      <td>10.309278</td>\n",
       "      <td>1.030928</td>\n",
       "    </tr>\n",
       "    <tr>\n",
       "      <td>3</td>\n",
       "      <td>Tata Lafiarou ou Djonwouro Kparou</td>\n",
       "      <td>77</td>\n",
       "      <td>18</td>\n",
       "      <td>1</td>\n",
       "      <td>64</td>\n",
       "      <td>1.857143</td>\n",
       "      <td>4.000000</td>\n",
       "      <td>7</td>\n",
       "      <td>20.779221</td>\n",
       "      <td>23.376623</td>\n",
       "      <td>1.298701</td>\n",
       "    </tr>\n",
       "  </tbody>\n",
       "</table>\n",
       "</div>"
      ],
      "text/plain": [
       "                                village  nb_people  nb_diarrhoea  nb_malnu  \\\n",
       "0                             Alafiarou        678           138         6   \n",
       "1                                 Debbo        227            40         3   \n",
       "2  Kora seko Kparou où Sansi Gah Gourou        194            20         2   \n",
       "3    Tata Lafiarou ou Djonwouro Kparou          77            18         1   \n",
       "\n",
       "   nb_basin  water_quality  self_manag  n_enquetes      l/per     t_diar  \\\n",
       "0       567       1.961538    4.055556          54  20.907080  20.353982   \n",
       "1       262       2.066667    4.066667          15  28.854626  17.621145   \n",
       "2       218       3.666667    4.777778           9  28.092784  10.309278   \n",
       "3        64       1.857143    4.000000           7  20.779221  23.376623   \n",
       "\n",
       "      t_mal  \n",
       "0  0.884956  \n",
       "1  1.321586  \n",
       "2  1.030928  \n",
       "3  1.298701  "
      ]
     },
     "execution_count": 38,
     "metadata": {},
     "output_type": "execute_result"
    }
   ],
   "source": [
    "df_vill_analy"
   ]
  },
  {
   "cell_type": "code",
   "execution_count": 137,
   "metadata": {},
   "outputs": [
    {
     "data": {
      "text/plain": [
       "[{'ws_coords': '9.9056017 ; 3.4013483',\n",
       "  'ws_coms': 'null',\n",
       "  'ws_type': 'null',\n",
       "  'ws_operative': 'YES'},\n",
       " {'ws_operative': 'YES',\n",
       "  'ws_coords': '9.9053433 ; 3.4040567',\n",
       "  'ws_coms': 'Se gâte souvent ',\n",
       "  'ws_type': 'PPM'}]"
      ]
     },
     "execution_count": 137,
     "metadata": {},
     "output_type": "execute_result"
    }
   ],
   "source": [
    "df_village.loc[4,'water_sources']"
   ]
  },
  {
   "cell_type": "markdown",
   "metadata": {},
   "source": [
    "## CONTAR CASAS DESDE OPENSTREETMAPS"
   ]
  },
  {
   "cell_type": "code",
   "execution_count": 82,
   "metadata": {},
   "outputs": [],
   "source": [
    "overpass_url = \"http://overpass-api.de/api/interpreter\"\n",
    "overpass_query = (\"\"\"\n",
    "[out:json];\n",
    "area['name'='\"\"\"+str('Alafiarou').upper()+\n",
    "\"\"\"']->.a;\n",
    "way[building](area.a);\n",
    "(._;>;);\n",
    "out body;\n",
    "\"\"\")\n",
    "response = requests.get(overpass_url, \n",
    "                        params={'data': overpass_query})\n",
    "data = response.json()"
   ]
  },
  {
   "cell_type": "code",
   "execution_count": 83,
   "metadata": {},
   "outputs": [],
   "source": [
    "houses = []\n",
    "ways=[elem for elem in data['elements']  if elem['type']=='way']\n",
    "nodes=[elem for elem in data['elements']  if elem['type']=='node']\n",
    "for way in ways:\n",
    "    houses_info={}\n",
    "    houses_info['id']=way['id']\n",
    "    nodes_lats=[]\n",
    "    nodes_longs=[]\n",
    "    houses_info['nodes']=way['nodes']\n",
    "    for node in nodes:\n",
    "        if node['id'] in houses_info['nodes']:\n",
    "            nodes_lats.append(node['lat'])\n",
    "            nodes_longs.append(node['lon'])\n",
    "    houses_info['lat']=np.mean(np.array(nodes_lats))\n",
    "    houses_info['lon']=np.mean(np.array(nodes_longs))\n",
    "    houses.append(houses_info)"
   ]
  },
  {
   "cell_type": "code",
   "execution_count": 84,
   "metadata": {},
   "outputs": [],
   "source": [
    "df_houses=pd.DataFrame(houses)"
   ]
  },
  {
   "cell_type": "code",
   "execution_count": 85,
   "metadata": {},
   "outputs": [
    {
     "data": {
      "text/plain": [
       "114"
      ]
     },
     "execution_count": 85,
     "metadata": {},
     "output_type": "execute_result"
    }
   ],
   "source": [
    "len(df_houses)"
   ]
  },
  {
   "cell_type": "code",
   "execution_count": 86,
   "metadata": {},
   "outputs": [],
   "source": [
    "def distance(p_1,p_2):\n",
    "    # approximate radius of earth in m\n",
    "    R = 6373000\n",
    "\n",
    "    lat1 = radians(p_1['lat'])\n",
    "    lon1 = radians(p_1['lon'])\n",
    "    lat2 = radians(p_2['lat'])\n",
    "    lon2 = radians(p_2['lon'])\n",
    "\n",
    "    dlon = lon2 - lon1\n",
    "    dlat = lat2 - lat1\n",
    "\n",
    "    a = sin(dlat / 2)**2 + cos(lat1) * cos(lat2) * sin(dlon / 2)**2\n",
    "    c = 2 * atan2(sqrt(a), sqrt(1 - a))\n",
    "\n",
    "    distance = R * c\n",
    "    return distance"
   ]
  },
  {
   "cell_type": "code",
   "execution_count": 87,
   "metadata": {},
   "outputs": [],
   "source": [
    "def has_been_survey(x):\n",
    "    p_1={'lat':float(x['lat']),'lon':float(x['lon'])}\n",
    "    points=df_priority.apply(lambda x: True\n",
    "                             if distance(p_1,{'lat':x['latitude'],'lon':x['longitude']}) <20\n",
    "                             else False\n",
    "                                        ,axis=1)\n",
    "    return points.any()"
   ]
  },
  {
   "cell_type": "code",
   "execution_count": 88,
   "metadata": {},
   "outputs": [],
   "source": [
    "df_houses['surveyed']=df_houses.apply(lambda x: has_been_survey(x),axis=1)"
   ]
  },
  {
   "cell_type": "code",
   "execution_count": 95,
   "metadata": {},
   "outputs": [
    {
     "data": {
      "image/png": "[encoded data removed]",
      "text/plain": [
       "<Figure size 2880x2880 with 1 Axes>"
      ]
     },
     "metadata": {
      "needs_background": "light"
     },
     "output_type": "display_data"
    }
   ],
   "source": [
    "village='Alafiarou'\n",
    "f,ax = plt.subplots(1,figsize=(40,40))\n",
    "# Collect coords into list\n",
    "coords = []\n",
    "\n",
    "df_survey=df_houses[df_houses['surveyed']]\n",
    "for a,b in zip(df_survey['lon'].to_list(),df_survey['lat'].to_list()):\n",
    "        coords.append((a, b))\n",
    "# Convert coordinates into numpy array\n",
    "X = np.array(coords)\n",
    "ax.plot(X[:, 0], X[:, 1], 'o',color='green',label='houses_surveyed')\n",
    "\n",
    "coords = []\n",
    "df_notsurvey=df_houses[~df_houses['surveyed']]\n",
    "for a,b in zip(df_notsurvey['lon'].to_list(),df_notsurvey['lat'].to_list()):\n",
    "        coords.append((a, b))\n",
    "# Convert coordinates into numpy array\n",
    "X = np.array(coords)\n",
    "ax.plot(X[:, 0], X[:, 1], 'o',color='blue',label='houses_not_surveyed')\n",
    "\n",
    "coords = []\n",
    "df_debbo=df_priority[df_priority['village']==village]\n",
    "for a,b in zip(df_debbo['longitude'].to_list(),df_debbo['latitude'].to_list()):\n",
    "        coords.append((a, b))\n",
    "# Convert coordinates into numpy array\n",
    "X = np.array(coords)\n",
    "ax.plot(X[:, 0], X[:, 1], 'o',color='red',label='surveys')\n",
    "\n",
    "\n",
    "plt.title(village)\n",
    "plt.xlabel('Longitude')\n",
    "plt.ylabel('Latitude')\n",
    "plt.axis('equal')\n",
    "plt.legend()\n",
    "plt.show()"
   ]
  },
  {
   "cell_type": "code",
   "execution_count": 104,
   "metadata": {},
   "outputs": [
    {
     "data": {
      "text/plain": [
       "2"
      ]
     },
     "execution_count": 104,
     "metadata": {},
     "output_type": "execute_result"
    }
   ],
   "source": [
    "pd.Series([True, True,False]).sum()"
   ]
  },
  {
   "cell_type": "code",
   "execution_count": 105,
   "metadata": {},
   "outputs": [],
   "source": [
    "def n_houses(x):\n",
    "    p_1={'lat':x['latitude'],'lon':x['longitude']}\n",
    "    points=df_houses.apply(lambda x: True\n",
    "                             if distance(p_1,{'lat':x['lat'],'lon':x['lon']}) <20\n",
    "                             else False\n",
    "                                        ,axis=1)\n",
    "    return points.sum()"
   ]
  },
  {
   "cell_type": "code",
   "execution_count": null,
   "metadata": {},
   "outputs": [],
   "source": []
  },
  {
   "cell_type": "code",
   "execution_count": 107,
   "metadata": {},
   "outputs": [],
   "source": [
    "df_priority['n_houses']=df_priority.apply(lambda x: n_houses(x),axis=1)"
   ]
  },
  {
   "cell_type": "code",
   "execution_count": 111,
   "metadata": {},
   "outputs": [
    {
     "data": {
      "text/html": [
       "<div>\n",
       "<style scoped>\n",
       "    .dataframe tbody tr th:only-of-type {\n",
       "        vertical-align: middle;\n",
       "    }\n",
       "\n",
       "    .dataframe tbody tr th {\n",
       "        vertical-align: top;\n",
       "    }\n",
       "\n",
       "    .dataframe thead th {\n",
       "        text-align: right;\n",
       "    }\n",
       "</style>\n",
       "<table border=\"1\" class=\"dataframe\">\n",
       "  <thead>\n",
       "    <tr style=\"text-align: right;\">\n",
       "      <th></th>\n",
       "      <th>latitude</th>\n",
       "      <th>longitude</th>\n",
       "      <th>creation_date</th>\n",
       "      <th>nb_basin</th>\n",
       "      <th>nb_people</th>\n",
       "      <th>nb_diarrhoea</th>\n",
       "      <th>nb_malnu</th>\n",
       "      <th>water_storage</th>\n",
       "      <th>water_quality</th>\n",
       "      <th>self_manag</th>\n",
       "      <th>l/per</th>\n",
       "      <th>t_diar</th>\n",
       "      <th>t_mal</th>\n",
       "      <th>village</th>\n",
       "      <th>n_houses</th>\n",
       "    </tr>\n",
       "  </thead>\n",
       "  <tbody>\n",
       "    <tr>\n",
       "      <td>0</td>\n",
       "      <td>9.913798</td>\n",
       "      <td>3.404567</td>\n",
       "      <td>2019-11-01T08:11:00.456Z</td>\n",
       "      <td>7</td>\n",
       "      <td>4</td>\n",
       "      <td>1</td>\n",
       "      <td>1</td>\n",
       "      <td>NO</td>\n",
       "      <td>4.0</td>\n",
       "      <td>4</td>\n",
       "      <td>43.750000</td>\n",
       "      <td>25.000000</td>\n",
       "      <td>25.0</td>\n",
       "      <td>Alafiarou</td>\n",
       "      <td>0</td>\n",
       "    </tr>\n",
       "    <tr>\n",
       "      <td>1</td>\n",
       "      <td>9.900368</td>\n",
       "      <td>3.404947</td>\n",
       "      <td>2019-10-30T15:56:30.815Z</td>\n",
       "      <td>8</td>\n",
       "      <td>17</td>\n",
       "      <td>3</td>\n",
       "      <td>0</td>\n",
       "      <td>NO</td>\n",
       "      <td>1.0</td>\n",
       "      <td>4</td>\n",
       "      <td>11.764706</td>\n",
       "      <td>17.647059</td>\n",
       "      <td>0.0</td>\n",
       "      <td>Alafiarou</td>\n",
       "      <td>0</td>\n",
       "    </tr>\n",
       "    <tr>\n",
       "      <td>2</td>\n",
       "      <td>9.914502</td>\n",
       "      <td>3.404680</td>\n",
       "      <td>2019-11-01T08:18:44.907Z</td>\n",
       "      <td>9</td>\n",
       "      <td>14</td>\n",
       "      <td>3</td>\n",
       "      <td>0</td>\n",
       "      <td>NO</td>\n",
       "      <td>2.0</td>\n",
       "      <td>4</td>\n",
       "      <td>16.071429</td>\n",
       "      <td>21.428571</td>\n",
       "      <td>0.0</td>\n",
       "      <td>Alafiarou</td>\n",
       "      <td>0</td>\n",
       "    </tr>\n",
       "    <tr>\n",
       "      <td>3</td>\n",
       "      <td>9.901213</td>\n",
       "      <td>3.405283</td>\n",
       "      <td>2019-10-30T16:21:04.159Z</td>\n",
       "      <td>13</td>\n",
       "      <td>10</td>\n",
       "      <td>1</td>\n",
       "      <td>0</td>\n",
       "      <td>NO</td>\n",
       "      <td>2.0</td>\n",
       "      <td>4</td>\n",
       "      <td>32.500000</td>\n",
       "      <td>10.000000</td>\n",
       "      <td>0.0</td>\n",
       "      <td>Alafiarou</td>\n",
       "      <td>6</td>\n",
       "    </tr>\n",
       "    <tr>\n",
       "      <td>4</td>\n",
       "      <td>9.934765</td>\n",
       "      <td>3.416190</td>\n",
       "      <td>2019-10-29T15:54:25.058Z</td>\n",
       "      <td>6</td>\n",
       "      <td>9</td>\n",
       "      <td>0</td>\n",
       "      <td>0</td>\n",
       "      <td>NO</td>\n",
       "      <td>4.0</td>\n",
       "      <td>5</td>\n",
       "      <td>16.666667</td>\n",
       "      <td>0.000000</td>\n",
       "      <td>0.0</td>\n",
       "      <td>Kora seko Kparou où Sansi Gah Gourou</td>\n",
       "      <td>0</td>\n",
       "    </tr>\n",
       "  </tbody>\n",
       "</table>\n",
       "</div>"
      ],
      "text/plain": [
       "   latitude  longitude             creation_date  nb_basin  nb_people  \\\n",
       "0  9.913798   3.404567  2019-11-01T08:11:00.456Z         7          4   \n",
       "1  9.900368   3.404947  2019-10-30T15:56:30.815Z         8         17   \n",
       "2  9.914502   3.404680  2019-11-01T08:18:44.907Z         9         14   \n",
       "3  9.901213   3.405283  2019-10-30T16:21:04.159Z        13         10   \n",
       "4  9.934765   3.416190  2019-10-29T15:54:25.058Z         6          9   \n",
       "\n",
       "   nb_diarrhoea  nb_malnu water_storage  water_quality  self_manag      l/per  \\\n",
       "0             1         1            NO            4.0           4  43.750000   \n",
       "1             3         0            NO            1.0           4  11.764706   \n",
       "2             3         0            NO            2.0           4  16.071429   \n",
       "3             1         0            NO            2.0           4  32.500000   \n",
       "4             0         0            NO            4.0           5  16.666667   \n",
       "\n",
       "      t_diar  t_mal                               village  n_houses  \n",
       "0  25.000000   25.0                             Alafiarou         0  \n",
       "1  17.647059    0.0                             Alafiarou         0  \n",
       "2  21.428571    0.0                             Alafiarou         0  \n",
       "3  10.000000    0.0                             Alafiarou         6  \n",
       "4   0.000000    0.0  Kora seko Kparou où Sansi Gah Gourou         0  "
      ]
     },
     "execution_count": 111,
     "metadata": {},
     "output_type": "execute_result"
    }
   ],
   "source": [
    "df_priority.head(d)"
   ]
  },
  {
   "cell_type": "code",
   "execution_count": 113,
   "metadata": {},
   "outputs": [
    {
     "data": {
      "text/plain": [
       "49"
      ]
     },
     "execution_count": 113,
     "metadata": {},
     "output_type": "execute_result"
    }
   ],
   "source": [
    "df_priority['n_houses'].sum()"
   ]
  },
  {
   "cell_type": "code",
   "execution_count": 112,
   "metadata": {},
   "outputs": [
    {
     "data": {
      "text/plain": [
       "280"
      ]
     },
     "execution_count": 112,
     "metadata": {},
     "output_type": "execute_result"
    }
   ],
   "source": [
    "df_priority[df_priority['n_houses']!=0]['nb_people'].sum()"
   ]
  },
  {
   "cell_type": "code",
   "execution_count": 114,
   "metadata": {},
   "outputs": [
    {
     "data": {
      "text/plain": [
       "114"
      ]
     },
     "execution_count": 114,
     "metadata": {},
     "output_type": "execute_result"
    }
   ],
   "source": [
    "len(df_houses)"
   ]
  },
  {
   "cell_type": "code",
   "execution_count": 115,
   "metadata": {},
   "outputs": [
    {
     "data": {
      "text/plain": [
       "651.4285714285714"
      ]
     },
     "execution_count": 115,
     "metadata": {},
     "output_type": "execute_result"
    }
   ],
   "source": [
    "280*114/49"
   ]
  },
  {
   "cell_type": "markdown",
   "metadata": {},
   "source": [
    "## DETERMINAR N MUESTRAL"
   ]
  },
  {
   "cell_type": "code",
   "execution_count": 116,
   "metadata": {},
   "outputs": [],
   "source": [
    "import math\n",
    "import numpy as np\n",
    "from scipy import stats\n",
    "import pandas as pd\n",
    "import seaborn as sns\n",
    "\n",
    "def z_calc(p1, p2, n1, n2):\n",
    "    p_star = (p1*n1 + p2*n2) / (n1 + n2)\n",
    "    return (p2 - p1) / math.sqrt(p_star*(1 - p_star)*((1.0 / n1) + (1.0 / n2)))"
   ]
  },
  {
   "cell_type": "code",
   "execution_count": 117,
   "metadata": {},
   "outputs": [],
   "source": [
    "def sample_required(p1, p_diff, alpha):\n",
    "    if p_diff <= 0:\n",
    "        raise ValueError(\"p_diff must be > 0\")\n",
    "    n = 1\n",
    "    while True:\n",
    "        z = z_calc(p1, p1+p_diff, n1=n, n2=n)\n",
    "        p = 1 - stats.norm.cdf(z)\n",
    "        if p < alpha:\n",
    "            break\n",
    "        n += 1\n",
    "    return n"
   ]
  },
  {
   "cell_type": "code",
   "execution_count": 138,
   "metadata": {},
   "outputs": [],
   "source": [
    "p_diffs = [x*.01 for x in range(10,40)]\n",
    "\n",
    "data = []\n",
    "for p_diff in p_diffs:\n",
    "    record = {}\n",
    "    record['Probability Difference'] = p_diff * 100\n",
    "    record['Sample Size to Detect Difference'] = sample_required(p1=.5,\n",
    "                                                                p_diff=p_diff,\n",
    "                                                                alpha=.05)\n",
    "    record['Confidence Level'] = '95%'\n",
    "    record['Initial probability'] = '20%'\n",
    "    data.append(record)\n",
    "\n",
    "for p_diff in p_diffs:\n",
    "    record = {}\n",
    "    record['Probability Difference'] = p_diff * 100\n",
    "    record['Sample Size to Detect Difference'] = sample_required(p1=.5,\n",
    "                                                                p_diff=p_diff,\n",
    "                                                                alpha=.01)\n",
    "    record['Confidence Level'] = '99%'\n",
    "    record['Initial probability'] = '20%'\n",
    "    data.append(record)\n",
    "\n",
    "df = pd.DataFrame(data)"
   ]
  },
  {
   "cell_type": "code",
   "execution_count": 142,
   "metadata": {},
   "outputs": [
    {
     "data": {
      "image/png": "[encoded data removed]",
      "text/plain": [
       "<Figure size 1440x720 with 1 Axes>"
      ]
     },
     "metadata": {},
     "output_type": "display_data"
    }
   ],
   "source": [
    "from matplotlib import pyplot\n",
    "fig, ax = pyplot.subplots(figsize=(20, 10))\n",
    "\n",
    "sns.set(style='darkgrid')\n",
    "\n",
    "plot = sns.pointplot(x='Probability Difference',\n",
    "            y='Sample Size to Detect Difference',\n",
    "            hue='Confidence Level', ax = ax,\n",
    "            data=df)"
   ]
  },
  {
   "cell_type": "code",
   "execution_count": null,
   "metadata": {},
   "outputs": [],
   "source": []
  }
 ],
 "metadata": {
  "accelerator": "GPU",
  "colab": {
   "collapsed_sections": [],
   "include_colab_link": true,
   "name": "colab_estructurar_bbdd_y_subir_a_firebase.ipynb",
   "provenance": []
  },
  "kernelspec": {
   "display_name": "Python 3",
   "language": "python",
   "name": "python3"
  },
  "language_info": {
   "codemirror_mode": {
    "name": "ipython",
    "version": 3
   },
   "file_extension": ".py",
   "mimetype": "text/x-python",
   "name": "python",
   "nbconvert_exporter": "python",
   "pygments_lexer": "ipython3",
   "version": "3.7.3"
  }
 },
 "nbformat": 4,
 "nbformat_minor": 1
}
