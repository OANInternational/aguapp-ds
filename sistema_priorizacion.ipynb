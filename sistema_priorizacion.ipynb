{
 "cells": [
  {
   "cell_type": "markdown",
   "metadata": {
    "colab": {
     "base_uri": "https://localhost:8080/",
     "height": 34
    },
    "colab_type": "code",
    "id": "YLlHkfPNlSv1",
    "outputId": "a97dc925-4566-4442-e73e-fa0f72244536"
   },
   "source": [
    "# IMPORTS"
   ]
  },
  {
   "cell_type": "code",
   "execution_count": 44,
   "metadata": {},
   "outputs": [],
   "source": [
    "import yaml\n",
    "import firebase_admin\n",
    "import numpy as np\n",
    "import pandas as pd\n",
    "import matplotlib.pyplot as plt\n",
    "\n",
    "import requests\n",
    "import json\n",
    "\n",
    "from math import sin, cos, sqrt, atan2, radians\n",
    "\n",
    "\n",
    "from firebase_admin import credentials\n",
    "from firebase_admin import firestore"
   ]
  },
  {
   "cell_type": "markdown",
   "metadata": {
    "colab_type": "text",
    "id": "iA76tKgbnBvj"
   },
   "source": [
    "# CONNECT TO FIREBASE"
   ]
  },
  {
   "cell_type": "code",
   "execution_count": 2,
   "metadata": {
    "colab": {},
    "colab_type": "code",
    "id": "6pIrQEso408R"
   },
   "outputs": [],
   "source": [
    "filename='/Users/5danalfaro/OAN/credentials/firebase_parameters.json'"
   ]
  },
  {
   "cell_type": "code",
   "execution_count": 3,
   "metadata": {
    "colab": {},
    "colab_type": "code",
    "id": "j0-CWZv25YWX"
   },
   "outputs": [],
   "source": [
    "# Use a service account\n",
    "cred = credentials.Certificate(filename)\n",
    "firebase_admin.initialize_app(cred)\n",
    "\n",
    "db = firestore.client()"
   ]
  },
  {
   "cell_type": "markdown",
   "metadata": {},
   "source": [
    "# GET VILLAGE AND PRIORITY SURVEYS"
   ]
  },
  {
   "cell_type": "code",
   "execution_count": 4,
   "metadata": {},
   "outputs": [],
   "source": [
    "col_query = db.collection('Surveys').document('Backup').collection('Answers').where(u'survey_type', u'==', u'2-survey_priority')\n"
   ]
  },
  {
   "cell_type": "code",
   "execution_count": 5,
   "metadata": {},
   "outputs": [],
   "source": [
    "col_sur_priority = col_query.stream()"
   ]
  },
  {
   "cell_type": "code",
   "execution_count": 6,
   "metadata": {},
   "outputs": [],
   "source": [
    "l_sur_priority = []\n",
    "for doc in col_sur_priority:\n",
    "    l_sur_priority.append(doc.to_dict())"
   ]
  },
  {
   "cell_type": "code",
   "execution_count": 7,
   "metadata": {},
   "outputs": [
    {
     "data": {
      "text/plain": [
       "85"
      ]
     },
     "execution_count": 7,
     "metadata": {},
     "output_type": "execute_result"
    }
   ],
   "source": [
    "len(l_sur_priority)"
   ]
  },
  {
   "cell_type": "code",
   "execution_count": 8,
   "metadata": {},
   "outputs": [],
   "source": [
    "col_query = (db.collection('Surveys').\n",
    "                    document('Backup').\n",
    "                        collection('Answers').\n",
    "                            where(u'survey_type', u'==', u'1-survey_village')\n",
    "            )"
   ]
  },
  {
   "cell_type": "code",
   "execution_count": 9,
   "metadata": {},
   "outputs": [],
   "source": [
    "col_sur_village = col_query.stream()"
   ]
  },
  {
   "cell_type": "code",
   "execution_count": 10,
   "metadata": {},
   "outputs": [],
   "source": [
    "l_sur_village = []\n",
    "for doc in col_sur_village:\n",
    "    l_sur_village.append(doc.to_dict())"
   ]
  },
  {
   "cell_type": "code",
   "execution_count": 11,
   "metadata": {},
   "outputs": [
    {
     "data": {
      "text/plain": [
       "7"
      ]
     },
     "execution_count": 11,
     "metadata": {},
     "output_type": "execute_result"
    }
   ],
   "source": [
    "len(l_sur_village)"
   ]
  },
  {
   "cell_type": "code",
   "execution_count": 12,
   "metadata": {},
   "outputs": [
    {
     "data": {
      "text/plain": [
       "['Kora seko Kparou où Sansi Gah Gourou',\n",
       " 'Tata Lafiarou ou Djonwouro Kparou ',\n",
       " 'Debbo',\n",
       " 'Gbérou kpanin',\n",
       " 'Wodora',\n",
       " 'Alafiarou',\n",
       " 'Tata Lafiarou ou Djonwouro Kparou ']"
      ]
     },
     "execution_count": 12,
     "metadata": {},
     "output_type": "execute_result"
    }
   ],
   "source": [
    "[vil['data']['village_name'] for vil in l_sur_village]"
   ]
  },
  {
   "cell_type": "code",
   "execution_count": 13,
   "metadata": {},
   "outputs": [
    {
     "data": {
      "text/plain": [
       "['null', '80', '120', '150', '70', '400', '80']"
      ]
     },
     "execution_count": 13,
     "metadata": {},
     "output_type": "execute_result"
    }
   ],
   "source": [
    "[vil['data']['village_pop'] for vil in l_sur_village]"
   ]
  },
  {
   "cell_type": "markdown",
   "metadata": {},
   "source": [
    "# PROCESS DATA"
   ]
  },
  {
   "cell_type": "markdown",
   "metadata": {},
   "source": [
    "## PRIORISATION DATA"
   ]
  },
  {
   "cell_type": "code",
   "execution_count": 14,
   "metadata": {},
   "outputs": [],
   "source": [
    "df_priority=pd.DataFrame([{'latitude':doc['coords']['latitude'],\n",
    "  'longitude':doc['coords']['longitude'],\n",
    "  'creation_date':doc['creation_date'],\n",
    "  'nb_basin':doc['data']['nb_basin'],\n",
    "  'nb_people':doc['data']['nb_people'],\n",
    "  'nb_diarrhoea':doc['data']['nb_diarrhoea'],\n",
    "  'nb_malnu':doc['data']['nb_malnu'],\n",
    "  'water_storage':doc['data']['water_storage'],\n",
    "  'water_quality':doc['data']['water_quality'],\n",
    "  'self_manag':doc['data']['self_manag']\n",
    "  \n",
    "    } for doc in l_sur_priority\n",
    "])"
   ]
  },
  {
   "cell_type": "markdown",
   "metadata": {},
   "source": [
    "## Village data"
   ]
  },
  {
   "cell_type": "code",
   "execution_count": 15,
   "metadata": {},
   "outputs": [],
   "source": [
    "df_village=pd.DataFrame(\n",
    "    [{'latitude':doc['coords']['latitude'],\n",
    "      'longitude':doc['coords']['longitude'],\n",
    "      'village_coords':doc['data']['village_coords'],\n",
    "      'creation_date':doc['creation_date'],\n",
    "      'nb_water_sources':doc['data']['nb_water_sources'],\n",
    "      'heath_center':doc['data']['heath_center'],\n",
    "      'village_pop':doc['data']['village_pop'],\n",
    "      'village_name':doc['data']['village_name'],\n",
    "      'water_sources':doc['data']['water_sources']\n",
    "\n",
    "        } for doc in l_sur_village\n",
    "    ]\n",
    ")"
   ]
  },
  {
   "cell_type": "code",
   "execution_count": 16,
   "metadata": {},
   "outputs": [],
   "source": [
    "df_village['longitude']=df_village.apply(lambda x: x['village_coords'].split(' ;')[1],axis=1)"
   ]
  },
  {
   "cell_type": "code",
   "execution_count": 17,
   "metadata": {},
   "outputs": [],
   "source": [
    "df_village['latitude']=df_village.apply(lambda x: x['village_coords'].split(' ;')[0],axis=1)"
   ]
  },
  {
   "cell_type": "code",
   "execution_count": 18,
   "metadata": {},
   "outputs": [],
   "source": [
    "l_s_potable= ['PPM','AEV','FPM']"
   ]
  },
  {
   "cell_type": "code",
   "execution_count": 19,
   "metadata": {},
   "outputs": [],
   "source": [
    "df_village['%_s_potable']=df_village.apply(\n",
    "    lambda x: 100*(len([source['ws_type'] \n",
    "                   for source in x['water_sources'] if source['ws_type'] in l_s_potable])\n",
    "                /float(x['nb_water_sources']))\n",
    "    ,axis=1\n",
    ")"
   ]
  },
  {
   "cell_type": "markdown",
   "metadata": {},
   "source": [
    "### merge village and priority"
   ]
  },
  {
   "cell_type": "code",
   "execution_count": 29,
   "metadata": {
    "code_folding": []
   },
   "outputs": [],
   "source": [
    "'''get village from minimum distance to survey (and date of creation date)'''\n",
    "def get_village(x):\n",
    "    min_dist=1\n",
    "    village=''\n",
    "    prior_cre_date=x['creation_date']\n",
    "    lat=float(x['latitude'])\n",
    "    lon=float(x['longitude'])\n",
    "    for vil_coords,vil_name in zip(df_village['village_coords'].to_list(),\n",
    "                                   df_village['village_name'].to_list()\n",
    "                                  ):\n",
    "        vil_lat = float(vil_coords.split(' ;')[0])\n",
    "        vil_lon = float(vil_coords.split(' ;')[1])\n",
    "        \n",
    "        distance=((vil_lat-lat)**2+(vil_lon-lon)**2)**0.5\n",
    "        if min_dist > distance:\n",
    "            min_dist=distance\n",
    "            village=vil_name\n",
    "    #print(prior_cre_date[5:10],\n",
    "    #      df_village[df_village['village_name']==vil_name]['creation_date'].values[0][5:10],\n",
    "    #     prior_cre_date[5:10]==df_village[df_village['village_name']==vil_name]['creation_date'].values[0][5:10],\n",
    "    #     village)\n",
    "    #        \n",
    "    return village\n",
    "        "
   ]
  },
  {
   "cell_type": "code",
   "execution_count": 52,
   "metadata": {},
   "outputs": [],
   "source": [
    "df_priority['nb_people'] = pd.to_numeric(df_priority['nb_people'],errors='coerce')\n",
    "df_priority['nb_diarrhoea'] = pd.to_numeric(df_priority['nb_diarrhoea'],errors='coerce')\n",
    "df_priority['nb_malnu'] = pd.to_numeric(df_priority['nb_malnu'],errors='coerce')\n",
    "df_priority['nb_basin'] = pd.to_numeric(df_priority['nb_basin'],errors='coerce')\n",
    "df_priority['water_quality'] = pd.to_numeric(df_priority['water_quality'],errors='coerce')\n",
    "df_priority['self_manag'] = pd.to_numeric(df_priority['self_manag'],errors='coerce')\n",
    "df_priority['latitude'] = pd.to_numeric(df_priority['latitude'],errors='coerce')\n",
    "df_priority['longitude'] = pd.to_numeric(df_priority['longitude'],errors='coerce')"
   ]
  },
  {
   "cell_type": "code",
   "execution_count": 22,
   "metadata": {},
   "outputs": [],
   "source": [
    "df_priority['l/per']=df_priority['nb_basin']*25/df_priority['nb_people']"
   ]
  },
  {
   "cell_type": "code",
   "execution_count": 23,
   "metadata": {},
   "outputs": [],
   "source": [
    "df_priority['t_diar']=df_priority['nb_diarrhoea']*100/df_priority['nb_people']"
   ]
  },
  {
   "cell_type": "code",
   "execution_count": 24,
   "metadata": {},
   "outputs": [],
   "source": [
    "df_priority['t_mal']=df_priority['nb_malnu']*100/df_priority['nb_people']"
   ]
  },
  {
   "cell_type": "code",
   "execution_count": 30,
   "metadata": {},
   "outputs": [],
   "source": [
    "df_priority['village']=df_priority.apply(lambda x: get_village(x),axis=1)"
   ]
  },
  {
   "cell_type": "code",
   "execution_count": 31,
   "metadata": {},
   "outputs": [
    {
     "data": {
      "text/html": [
       "<div>\n",
       "<style scoped>\n",
       "    .dataframe tbody tr th:only-of-type {\n",
       "        vertical-align: middle;\n",
       "    }\n",
       "\n",
       "    .dataframe tbody tr th {\n",
       "        vertical-align: top;\n",
       "    }\n",
       "\n",
       "    .dataframe thead th {\n",
       "        text-align: right;\n",
       "    }\n",
       "</style>\n",
       "<table border=\"1\" class=\"dataframe\">\n",
       "  <thead>\n",
       "    <tr style=\"text-align: right;\">\n",
       "      <th></th>\n",
       "      <th>latitude</th>\n",
       "      <th>longitude</th>\n",
       "      <th>creation_date</th>\n",
       "      <th>nb_basin</th>\n",
       "      <th>nb_people</th>\n",
       "      <th>nb_diarrhoea</th>\n",
       "      <th>nb_malnu</th>\n",
       "      <th>water_storage</th>\n",
       "      <th>water_quality</th>\n",
       "      <th>self_manag</th>\n",
       "      <th>l/per</th>\n",
       "      <th>t_diar</th>\n",
       "      <th>t_mal</th>\n",
       "      <th>village</th>\n",
       "    </tr>\n",
       "  </thead>\n",
       "  <tbody>\n",
       "    <tr>\n",
       "      <td>0</td>\n",
       "      <td>9.9138</td>\n",
       "      <td>3.40457</td>\n",
       "      <td>2019-11-01T08:11:00.456Z</td>\n",
       "      <td>7</td>\n",
       "      <td>4</td>\n",
       "      <td>1</td>\n",
       "      <td>1</td>\n",
       "      <td>NO</td>\n",
       "      <td>4.0</td>\n",
       "      <td>4</td>\n",
       "      <td>43.750000</td>\n",
       "      <td>25.000000</td>\n",
       "      <td>25.000000</td>\n",
       "      <td>Alafiarou</td>\n",
       "    </tr>\n",
       "    <tr>\n",
       "      <td>1</td>\n",
       "      <td>9.90037</td>\n",
       "      <td>3.40495</td>\n",
       "      <td>2019-10-30T15:56:30.815Z</td>\n",
       "      <td>8</td>\n",
       "      <td>17</td>\n",
       "      <td>3</td>\n",
       "      <td>0</td>\n",
       "      <td>NO</td>\n",
       "      <td>1.0</td>\n",
       "      <td>4</td>\n",
       "      <td>11.764706</td>\n",
       "      <td>17.647059</td>\n",
       "      <td>0.000000</td>\n",
       "      <td>Alafiarou</td>\n",
       "    </tr>\n",
       "    <tr>\n",
       "      <td>2</td>\n",
       "      <td>9.9145</td>\n",
       "      <td>3.40468</td>\n",
       "      <td>2019-11-01T08:18:44.907Z</td>\n",
       "      <td>9</td>\n",
       "      <td>14</td>\n",
       "      <td>3</td>\n",
       "      <td>0</td>\n",
       "      <td>NO</td>\n",
       "      <td>2.0</td>\n",
       "      <td>4</td>\n",
       "      <td>16.071429</td>\n",
       "      <td>21.428571</td>\n",
       "      <td>0.000000</td>\n",
       "      <td>Alafiarou</td>\n",
       "    </tr>\n",
       "    <tr>\n",
       "      <td>3</td>\n",
       "      <td>9.90121</td>\n",
       "      <td>3.40528</td>\n",
       "      <td>2019-10-30T16:21:04.159Z</td>\n",
       "      <td>13</td>\n",
       "      <td>10</td>\n",
       "      <td>1</td>\n",
       "      <td>0</td>\n",
       "      <td>NO</td>\n",
       "      <td>2.0</td>\n",
       "      <td>4</td>\n",
       "      <td>32.500000</td>\n",
       "      <td>10.000000</td>\n",
       "      <td>0.000000</td>\n",
       "      <td>Alafiarou</td>\n",
       "    </tr>\n",
       "    <tr>\n",
       "      <td>4</td>\n",
       "      <td>9.93477</td>\n",
       "      <td>3.41619</td>\n",
       "      <td>2019-10-29T15:54:25.058Z</td>\n",
       "      <td>6</td>\n",
       "      <td>9</td>\n",
       "      <td>0</td>\n",
       "      <td>0</td>\n",
       "      <td>NO</td>\n",
       "      <td>4.0</td>\n",
       "      <td>5</td>\n",
       "      <td>16.666667</td>\n",
       "      <td>0.000000</td>\n",
       "      <td>0.000000</td>\n",
       "      <td>Kora seko Kparou où Sansi Gah Gourou</td>\n",
       "    </tr>\n",
       "    <tr>\n",
       "      <td>...</td>\n",
       "      <td>...</td>\n",
       "      <td>...</td>\n",
       "      <td>...</td>\n",
       "      <td>...</td>\n",
       "      <td>...</td>\n",
       "      <td>...</td>\n",
       "      <td>...</td>\n",
       "      <td>...</td>\n",
       "      <td>...</td>\n",
       "      <td>...</td>\n",
       "      <td>...</td>\n",
       "      <td>...</td>\n",
       "      <td>...</td>\n",
       "      <td>...</td>\n",
       "    </tr>\n",
       "    <tr>\n",
       "      <td>80</td>\n",
       "      <td>9.93279</td>\n",
       "      <td>3.41592</td>\n",
       "      <td>2019-10-29T13:36:27.742Z</td>\n",
       "      <td>99</td>\n",
       "      <td>83</td>\n",
       "      <td>3</td>\n",
       "      <td>2</td>\n",
       "      <td>NO</td>\n",
       "      <td>4.0</td>\n",
       "      <td>5</td>\n",
       "      <td>29.819277</td>\n",
       "      <td>3.614458</td>\n",
       "      <td>2.409639</td>\n",
       "      <td>Kora seko Kparou où Sansi Gah Gourou</td>\n",
       "    </tr>\n",
       "    <tr>\n",
       "      <td>81</td>\n",
       "      <td>9.86297</td>\n",
       "      <td>3.28377</td>\n",
       "      <td>2019-11-02T12:40:57.354Z</td>\n",
       "      <td>19</td>\n",
       "      <td>15</td>\n",
       "      <td>4</td>\n",
       "      <td>0</td>\n",
       "      <td>NO</td>\n",
       "      <td>2.0</td>\n",
       "      <td>4</td>\n",
       "      <td>31.666667</td>\n",
       "      <td>26.666667</td>\n",
       "      <td>0.000000</td>\n",
       "      <td>Debbo</td>\n",
       "    </tr>\n",
       "    <tr>\n",
       "      <td>82</td>\n",
       "      <td>9.8864</td>\n",
       "      <td>3.26168</td>\n",
       "      <td>2019-11-02T10:43:10.355Z</td>\n",
       "      <td>14</td>\n",
       "      <td>12</td>\n",
       "      <td>3</td>\n",
       "      <td>0</td>\n",
       "      <td>NO</td>\n",
       "      <td>2.0</td>\n",
       "      <td>4</td>\n",
       "      <td>29.166667</td>\n",
       "      <td>25.000000</td>\n",
       "      <td>0.000000</td>\n",
       "      <td>Debbo</td>\n",
       "    </tr>\n",
       "    <tr>\n",
       "      <td>83</td>\n",
       "      <td>9.87848</td>\n",
       "      <td>3.27046</td>\n",
       "      <td>2019-11-02T11:21:20.038Z</td>\n",
       "      <td>20</td>\n",
       "      <td>10</td>\n",
       "      <td>1</td>\n",
       "      <td>0</td>\n",
       "      <td>NO</td>\n",
       "      <td>2.0</td>\n",
       "      <td>4</td>\n",
       "      <td>50.000000</td>\n",
       "      <td>10.000000</td>\n",
       "      <td>0.000000</td>\n",
       "      <td>Debbo</td>\n",
       "    </tr>\n",
       "    <tr>\n",
       "      <td>84</td>\n",
       "      <td>9.90551</td>\n",
       "      <td>3.40061</td>\n",
       "      <td>2019-10-30T14:12:42.452Z</td>\n",
       "      <td>17</td>\n",
       "      <td>25</td>\n",
       "      <td>4</td>\n",
       "      <td>0</td>\n",
       "      <td>NO</td>\n",
       "      <td>4.0</td>\n",
       "      <td>5</td>\n",
       "      <td>17.000000</td>\n",
       "      <td>16.000000</td>\n",
       "      <td>0.000000</td>\n",
       "      <td>Alafiarou</td>\n",
       "    </tr>\n",
       "  </tbody>\n",
       "</table>\n",
       "<p>85 rows × 14 columns</p>\n",
       "</div>"
      ],
      "text/plain": [
       "   latitude longitude             creation_date  nb_basin  nb_people  \\\n",
       "0    9.9138   3.40457  2019-11-01T08:11:00.456Z         7          4   \n",
       "1   9.90037   3.40495  2019-10-30T15:56:30.815Z         8         17   \n",
       "2    9.9145   3.40468  2019-11-01T08:18:44.907Z         9         14   \n",
       "3   9.90121   3.40528  2019-10-30T16:21:04.159Z        13         10   \n",
       "4   9.93477   3.41619  2019-10-29T15:54:25.058Z         6          9   \n",
       "..      ...       ...                       ...       ...        ...   \n",
       "80  9.93279   3.41592  2019-10-29T13:36:27.742Z        99         83   \n",
       "81  9.86297   3.28377  2019-11-02T12:40:57.354Z        19         15   \n",
       "82   9.8864   3.26168  2019-11-02T10:43:10.355Z        14         12   \n",
       "83  9.87848   3.27046  2019-11-02T11:21:20.038Z        20         10   \n",
       "84  9.90551   3.40061  2019-10-30T14:12:42.452Z        17         25   \n",
       "\n",
       "    nb_diarrhoea  nb_malnu water_storage  water_quality  self_manag  \\\n",
       "0              1         1            NO            4.0           4   \n",
       "1              3         0            NO            1.0           4   \n",
       "2              3         0            NO            2.0           4   \n",
       "3              1         0            NO            2.0           4   \n",
       "4              0         0            NO            4.0           5   \n",
       "..           ...       ...           ...            ...         ...   \n",
       "80             3         2            NO            4.0           5   \n",
       "81             4         0            NO            2.0           4   \n",
       "82             3         0            NO            2.0           4   \n",
       "83             1         0            NO            2.0           4   \n",
       "84             4         0            NO            4.0           5   \n",
       "\n",
       "        l/per     t_diar      t_mal                               village  \n",
       "0   43.750000  25.000000  25.000000                             Alafiarou  \n",
       "1   11.764706  17.647059   0.000000                             Alafiarou  \n",
       "2   16.071429  21.428571   0.000000                             Alafiarou  \n",
       "3   32.500000  10.000000   0.000000                             Alafiarou  \n",
       "4   16.666667   0.000000   0.000000  Kora seko Kparou où Sansi Gah Gourou  \n",
       "..        ...        ...        ...                                   ...  \n",
       "80  29.819277   3.614458   2.409639  Kora seko Kparou où Sansi Gah Gourou  \n",
       "81  31.666667  26.666667   0.000000                                 Debbo  \n",
       "82  29.166667  25.000000   0.000000                                 Debbo  \n",
       "83  50.000000  10.000000   0.000000                                 Debbo  \n",
       "84  17.000000  16.000000   0.000000                             Alafiarou  \n",
       "\n",
       "[85 rows x 14 columns]"
      ]
     },
     "execution_count": 31,
     "metadata": {},
     "output_type": "execute_result"
    }
   ],
   "source": [
    "df_priority"
   ]
  },
  {
   "cell_type": "code",
   "execution_count": 32,
   "metadata": {},
   "outputs": [
    {
     "data": {
      "text/html": [
       "<div>\n",
       "<style scoped>\n",
       "    .dataframe tbody tr th:only-of-type {\n",
       "        vertical-align: middle;\n",
       "    }\n",
       "\n",
       "    .dataframe tbody tr th {\n",
       "        vertical-align: top;\n",
       "    }\n",
       "\n",
       "    .dataframe thead th {\n",
       "        text-align: right;\n",
       "    }\n",
       "</style>\n",
       "<table border=\"1\" class=\"dataframe\">\n",
       "  <thead>\n",
       "    <tr style=\"text-align: right;\">\n",
       "      <th></th>\n",
       "      <th>nb_people</th>\n",
       "      <th>l/per</th>\n",
       "      <th>nb_diarrhoea</th>\n",
       "      <th>nb_malnu</th>\n",
       "      <th>nb_basin</th>\n",
       "      <th>water_quality</th>\n",
       "      <th>self_manag</th>\n",
       "      <th>t_diar</th>\n",
       "      <th>t_mal</th>\n",
       "      <th>creation_date</th>\n",
       "    </tr>\n",
       "    <tr>\n",
       "      <th>village</th>\n",
       "      <th></th>\n",
       "      <th></th>\n",
       "      <th></th>\n",
       "      <th></th>\n",
       "      <th></th>\n",
       "      <th></th>\n",
       "      <th></th>\n",
       "      <th></th>\n",
       "      <th></th>\n",
       "      <th></th>\n",
       "    </tr>\n",
       "  </thead>\n",
       "  <tbody>\n",
       "    <tr>\n",
       "      <td>Alafiarou</td>\n",
       "      <td>678</td>\n",
       "      <td>24.630128</td>\n",
       "      <td>138</td>\n",
       "      <td>6</td>\n",
       "      <td>567</td>\n",
       "      <td>1.961538</td>\n",
       "      <td>4.055556</td>\n",
       "      <td>21.758433</td>\n",
       "      <td>1.320547</td>\n",
       "      <td>54</td>\n",
       "    </tr>\n",
       "    <tr>\n",
       "      <td>Debbo</td>\n",
       "      <td>227</td>\n",
       "      <td>34.620251</td>\n",
       "      <td>40</td>\n",
       "      <td>3</td>\n",
       "      <td>262</td>\n",
       "      <td>2.066667</td>\n",
       "      <td>4.066667</td>\n",
       "      <td>17.045342</td>\n",
       "      <td>0.702160</td>\n",
       "      <td>15</td>\n",
       "    </tr>\n",
       "    <tr>\n",
       "      <td>Kora seko Kparou où Sansi Gah Gourou</td>\n",
       "      <td>194</td>\n",
       "      <td>27.930525</td>\n",
       "      <td>20</td>\n",
       "      <td>2</td>\n",
       "      <td>218</td>\n",
       "      <td>3.666667</td>\n",
       "      <td>4.777778</td>\n",
       "      <td>12.247193</td>\n",
       "      <td>0.267738</td>\n",
       "      <td>9</td>\n",
       "    </tr>\n",
       "    <tr>\n",
       "      <td>Tata Lafiarou ou Djonwouro Kparou</td>\n",
       "      <td>77</td>\n",
       "      <td>25.696261</td>\n",
       "      <td>18</td>\n",
       "      <td>1</td>\n",
       "      <td>64</td>\n",
       "      <td>1.857143</td>\n",
       "      <td>4.000000</td>\n",
       "      <td>28.829583</td>\n",
       "      <td>2.380952</td>\n",
       "      <td>7</td>\n",
       "    </tr>\n",
       "  </tbody>\n",
       "</table>\n",
       "</div>"
      ],
      "text/plain": [
       "                                      nb_people      l/per  nb_diarrhoea  \\\n",
       "village                                                                    \n",
       "Alafiarou                                   678  24.630128           138   \n",
       "Debbo                                       227  34.620251            40   \n",
       "Kora seko Kparou où Sansi Gah Gourou        194  27.930525            20   \n",
       "Tata Lafiarou ou Djonwouro Kparou            77  25.696261            18   \n",
       "\n",
       "                                      nb_malnu  nb_basin  water_quality  \\\n",
       "village                                                                   \n",
       "Alafiarou                                    6       567       1.961538   \n",
       "Debbo                                        3       262       2.066667   \n",
       "Kora seko Kparou où Sansi Gah Gourou         2       218       3.666667   \n",
       "Tata Lafiarou ou Djonwouro Kparou            1        64       1.857143   \n",
       "\n",
       "                                      self_manag     t_diar     t_mal  \\\n",
       "village                                                                 \n",
       "Alafiarou                               4.055556  21.758433  1.320547   \n",
       "Debbo                                   4.066667  17.045342  0.702160   \n",
       "Kora seko Kparou où Sansi Gah Gourou    4.777778  12.247193  0.267738   \n",
       "Tata Lafiarou ou Djonwouro Kparou       4.000000  28.829583  2.380952   \n",
       "\n",
       "                                      creation_date  \n",
       "village                                              \n",
       "Alafiarou                                        54  \n",
       "Debbo                                            15  \n",
       "Kora seko Kparou où Sansi Gah Gourou              9  \n",
       "Tata Lafiarou ou Djonwouro Kparou                 7  "
      ]
     },
     "execution_count": 32,
     "metadata": {},
     "output_type": "execute_result"
    }
   ],
   "source": [
    "df_priority.groupby('village').agg({\n",
    "                                    'nb_people':'sum',\n",
    "                                    'l/per':'mean',\n",
    "                                    'nb_diarrhoea':'sum',\n",
    "                                    'nb_malnu':'sum',\n",
    "                                    'nb_basin':'sum',\n",
    "                                    'water_quality':'mean',\n",
    "                                    'self_manag':'mean',\n",
    "                                    't_diar':'mean',\n",
    "                                    't_mal':'mean',\n",
    "                                    'creation_date':'count'\n",
    "                            })"
   ]
  },
  {
   "cell_type": "code",
   "execution_count": 33,
   "metadata": {},
   "outputs": [],
   "source": [
    "df_vill_analy=df_priority.groupby('village').agg({\n",
    "                                    'nb_people':'sum',\n",
    "                                    'nb_diarrhoea':'sum',\n",
    "                                    'nb_malnu':'sum',\n",
    "                                    'nb_basin':'sum',\n",
    "                                    'water_quality':'mean',\n",
    "                                    'self_manag':'mean',\n",
    "                                    'creation_date':'count'\n",
    "                            }).reset_index()"
   ]
  },
  {
   "cell_type": "code",
   "execution_count": 34,
   "metadata": {},
   "outputs": [],
   "source": [
    "df_vill_analy['l/per']=df_vill_analy['nb_basin']*25/df_vill_analy['nb_people']"
   ]
  },
  {
   "cell_type": "code",
   "execution_count": 35,
   "metadata": {},
   "outputs": [],
   "source": [
    "df_vill_analy['t_diar']=df_vill_analy['nb_diarrhoea']*100/df_vill_analy['nb_people']"
   ]
  },
  {
   "cell_type": "code",
   "execution_count": 36,
   "metadata": {},
   "outputs": [],
   "source": [
    "df_vill_analy['t_mal']=df_vill_analy['nb_malnu']*100/df_vill_analy['nb_people']"
   ]
  },
  {
   "cell_type": "code",
   "execution_count": 37,
   "metadata": {},
   "outputs": [],
   "source": [
    "col_name=list(df_vill_analy.columns)\n",
    "col_name[7]='n_enquetes'\n",
    "df_vill_analy.columns=col_name"
   ]
  },
  {
   "cell_type": "code",
   "execution_count": 38,
   "metadata": {},
   "outputs": [
    {
     "data": {
      "text/html": [
       "<div>\n",
       "<style scoped>\n",
       "    .dataframe tbody tr th:only-of-type {\n",
       "        vertical-align: middle;\n",
       "    }\n",
       "\n",
       "    .dataframe tbody tr th {\n",
       "        vertical-align: top;\n",
       "    }\n",
       "\n",
       "    .dataframe thead th {\n",
       "        text-align: right;\n",
       "    }\n",
       "</style>\n",
       "<table border=\"1\" class=\"dataframe\">\n",
       "  <thead>\n",
       "    <tr style=\"text-align: right;\">\n",
       "      <th></th>\n",
       "      <th>village</th>\n",
       "      <th>nb_people</th>\n",
       "      <th>nb_diarrhoea</th>\n",
       "      <th>nb_malnu</th>\n",
       "      <th>nb_basin</th>\n",
       "      <th>water_quality</th>\n",
       "      <th>self_manag</th>\n",
       "      <th>n_enquetes</th>\n",
       "      <th>l/per</th>\n",
       "      <th>t_diar</th>\n",
       "      <th>t_mal</th>\n",
       "    </tr>\n",
       "  </thead>\n",
       "  <tbody>\n",
       "    <tr>\n",
       "      <td>0</td>\n",
       "      <td>Alafiarou</td>\n",
       "      <td>678</td>\n",
       "      <td>138</td>\n",
       "      <td>6</td>\n",
       "      <td>567</td>\n",
       "      <td>1.961538</td>\n",
       "      <td>4.055556</td>\n",
       "      <td>54</td>\n",
       "      <td>20.907080</td>\n",
       "      <td>20.353982</td>\n",
       "      <td>0.884956</td>\n",
       "    </tr>\n",
       "    <tr>\n",
       "      <td>1</td>\n",
       "      <td>Debbo</td>\n",
       "      <td>227</td>\n",
       "      <td>40</td>\n",
       "      <td>3</td>\n",
       "      <td>262</td>\n",
       "      <td>2.066667</td>\n",
       "      <td>4.066667</td>\n",
       "      <td>15</td>\n",
       "      <td>28.854626</td>\n",
       "      <td>17.621145</td>\n",
       "      <td>1.321586</td>\n",
       "    </tr>\n",
       "    <tr>\n",
       "      <td>2</td>\n",
       "      <td>Kora seko Kparou où Sansi Gah Gourou</td>\n",
       "      <td>194</td>\n",
       "      <td>20</td>\n",
       "      <td>2</td>\n",
       "      <td>218</td>\n",
       "      <td>3.666667</td>\n",
       "      <td>4.777778</td>\n",
       "      <td>9</td>\n",
       "      <td>28.092784</td>\n",
       "      <td>10.309278</td>\n",
       "      <td>1.030928</td>\n",
       "    </tr>\n",
       "    <tr>\n",
       "      <td>3</td>\n",
       "      <td>Tata Lafiarou ou Djonwouro Kparou</td>\n",
       "      <td>77</td>\n",
       "      <td>18</td>\n",
       "      <td>1</td>\n",
       "      <td>64</td>\n",
       "      <td>1.857143</td>\n",
       "      <td>4.000000</td>\n",
       "      <td>7</td>\n",
       "      <td>20.779221</td>\n",
       "      <td>23.376623</td>\n",
       "      <td>1.298701</td>\n",
       "    </tr>\n",
       "  </tbody>\n",
       "</table>\n",
       "</div>"
      ],
      "text/plain": [
       "                                village  nb_people  nb_diarrhoea  nb_malnu  \\\n",
       "0                             Alafiarou        678           138         6   \n",
       "1                                 Debbo        227            40         3   \n",
       "2  Kora seko Kparou où Sansi Gah Gourou        194            20         2   \n",
       "3    Tata Lafiarou ou Djonwouro Kparou          77            18         1   \n",
       "\n",
       "   nb_basin  water_quality  self_manag  n_enquetes      l/per     t_diar  \\\n",
       "0       567       1.961538    4.055556          54  20.907080  20.353982   \n",
       "1       262       2.066667    4.066667          15  28.854626  17.621145   \n",
       "2       218       3.666667    4.777778           9  28.092784  10.309278   \n",
       "3        64       1.857143    4.000000           7  20.779221  23.376623   \n",
       "\n",
       "      t_mal  \n",
       "0  0.884956  \n",
       "1  1.321586  \n",
       "2  1.030928  \n",
       "3  1.298701  "
      ]
     },
     "execution_count": 38,
     "metadata": {},
     "output_type": "execute_result"
    }
   ],
   "source": [
    "df_vill_analy"
   ]
  },
  {
   "cell_type": "code",
   "execution_count": 137,
   "metadata": {},
   "outputs": [
    {
     "data": {
      "text/plain": [
       "[{'ws_coords': '9.9056017 ; 3.4013483',\n",
       "  'ws_coms': 'null',\n",
       "  'ws_type': 'null',\n",
       "  'ws_operative': 'YES'},\n",
       " {'ws_operative': 'YES',\n",
       "  'ws_coords': '9.9053433 ; 3.4040567',\n",
       "  'ws_coms': 'Se gâte souvent ',\n",
       "  'ws_type': 'PPM'}]"
      ]
     },
     "execution_count": 137,
     "metadata": {},
     "output_type": "execute_result"
    }
   ],
   "source": [
    "df_village.loc[4,'water_sources']"
   ]
  },
  {
   "cell_type": "markdown",
   "metadata": {},
   "source": [
    "## CONTAR CASAS DESDE OPENSTREETMAPS"
   ]
  },
  {
   "cell_type": "code",
   "execution_count": 82,
   "metadata": {},
   "outputs": [],
   "source": [
    "overpass_url = \"http://overpass-api.de/api/interpreter\"\n",
    "overpass_query = (\"\"\"\n",
    "[out:json];\n",
    "area['name'='\"\"\"+str('Alafiarou').upper()+\n",
    "\"\"\"']->.a;\n",
    "way[building](area.a);\n",
    "(._;>;);\n",
    "out body;\n",
    "\"\"\")\n",
    "response = requests.get(overpass_url, \n",
    "                        params={'data': overpass_query})\n",
    "data = response.json()"
   ]
  },
  {
   "cell_type": "code",
   "execution_count": 83,
   "metadata": {},
   "outputs": [],
   "source": [
    "houses = []\n",
    "ways=[elem for elem in data['elements']  if elem['type']=='way']\n",
    "nodes=[elem for elem in data['elements']  if elem['type']=='node']\n",
    "for way in ways:\n",
    "    houses_info={}\n",
    "    houses_info['id']=way['id']\n",
    "    nodes_lats=[]\n",
    "    nodes_longs=[]\n",
    "    houses_info['nodes']=way['nodes']\n",
    "    for node in nodes:\n",
    "        if node['id'] in houses_info['nodes']:\n",
    "            nodes_lats.append(node['lat'])\n",
    "            nodes_longs.append(node['lon'])\n",
    "    houses_info['lat']=np.mean(np.array(nodes_lats))\n",
    "    houses_info['lon']=np.mean(np.array(nodes_longs))\n",
    "    houses.append(houses_info)"
   ]
  },
  {
   "cell_type": "code",
   "execution_count": 84,
   "metadata": {},
   "outputs": [],
   "source": [
    "df_houses=pd.DataFrame(houses)"
   ]
  },
  {
   "cell_type": "code",
   "execution_count": 85,
   "metadata": {},
   "outputs": [
    {
     "data": {
      "text/plain": [
       "114"
      ]
     },
     "execution_count": 85,
     "metadata": {},
     "output_type": "execute_result"
    }
   ],
   "source": [
    "len(df_houses)"
   ]
  },
  {
   "cell_type": "code",
   "execution_count": 86,
   "metadata": {},
   "outputs": [],
   "source": [
    "def distance(p_1,p_2):\n",
    "    # approximate radius of earth in m\n",
    "    R = 6373000\n",
    "\n",
    "    lat1 = radians(p_1['lat'])\n",
    "    lon1 = radians(p_1['lon'])\n",
    "    lat2 = radians(p_2['lat'])\n",
    "    lon2 = radians(p_2['lon'])\n",
    "\n",
    "    dlon = lon2 - lon1\n",
    "    dlat = lat2 - lat1\n",
    "\n",
    "    a = sin(dlat / 2)**2 + cos(lat1) * cos(lat2) * sin(dlon / 2)**2\n",
    "    c = 2 * atan2(sqrt(a), sqrt(1 - a))\n",
    "\n",
    "    distance = R * c\n",
    "    return distance"
   ]
  },
  {
   "cell_type": "code",
   "execution_count": 87,
   "metadata": {},
   "outputs": [],
   "source": [
    "def has_been_survey(x):\n",
    "    p_1={'lat':float(x['lat']),'lon':float(x['lon'])}\n",
    "    points=df_priority.apply(lambda x: True\n",
    "                             if distance(p_1,{'lat':x['latitude'],'lon':x['longitude']}) <20\n",
    "                             else False\n",
    "                                        ,axis=1)\n",
    "    return points.any()"
   ]
  },
  {
   "cell_type": "code",
   "execution_count": 88,
   "metadata": {},
   "outputs": [],
   "source": [
    "df_houses['surveyed']=df_houses.apply(lambda x: has_been_survey(x),axis=1)"
   ]
  },
  {
   "cell_type": "code",
   "execution_count": 92,
   "metadata": {},
   "outputs": [
    {
     "data": {
      "image/png": "[encoded data removed]",
      "text/plain": [
       "<Figure size 2880x2880 with 1 Axes>"
      ]
     },
     "metadata": {
      "needs_background": "light"
     },
     "output_type": "display_data"
    }
   ],
   "source": [
    "village='Alafiarou'\n",
    "f,ax = plt.subplots(1,figsize=(40,40))\n",
    "# Collect coords into list\n",
    "coords = []\n",
    "\n",
    "df_survey=df_houses[df_houses['surveyed']]\n",
    "for a,b in zip(df_survey['lon'].to_list(),df_survey['lat'].to_list()):\n",
    "        coords.append((a, b))\n",
    "# Convert coordinates into numpy array\n",
    "X = np.array(coords)\n",
    "ax.plot(X[:, 0], X[:, 1], 'o',color='green',label='houses_surveyed')\n",
    "\n",
    "coords = []\n",
    "df_notsurvey=df_houses[~df_houses['surveyed']]\n",
    "for a,b in zip(df_notsurvey['lon'].to_list(),df_notsurvey['lat'].to_list()):\n",
    "        coords.append((a, b))\n",
    "# Convert coordinates into numpy array\n",
    "X = np.array(coords)\n",
    "ax.plot(X[:, 0], X[:, 1], 'o',color='blue',label='houses_not_surveyed')\n",
    "\n",
    "coords = []\n",
    "df_debbo=df_priority[df_priority['village']==village]\n",
    "for a,b in zip(df_debbo['longitude'].to_list(),df_debbo['latitude'].to_list()):\n",
    "        coords.append((a, b))\n",
    "# Convert coordinates into numpy array\n",
    "X = np.array(coords)\n",
    "ax.plot(X[:, 0], X[:, 1], 'o',color='red',label='surveys')\n",
    "\n",
    "\n",
    "plt.title(village)\n",
    "plt.xlabel('Longitude')\n",
    "plt.ylabel('Latitude')\n",
    "plt.axis('equal')\n",
    "plt.legend()\n",
    "plt.show()"
   ]
  },
  {
   "cell_type": "markdown",
   "metadata": {
    "colab_type": "text",
    "id": "RtjMV_OZ_bPM"
   },
   "source": [
    "# ABRIR LAS BBDD"
   ]
  },
  {
   "cell_type": "markdown",
   "metadata": {
    "colab_type": "text",
    "id": "8xW2qPCe_lDT"
   },
   "source": [
    "## OPEN GOOGLE SHEETS"
   ]
  },
  {
   "cell_type": "markdown",
   "metadata": {},
   "source": [
    "## AUTHENTIFICATION"
   ]
  },
  {
   "cell_type": "code",
   "execution_count": 523,
   "metadata": {},
   "outputs": [],
   "source": [
    "SCOPES = ['https://spreadsheets.google.com/feeds',\n",
    "         'https://www.googleapis.com/auth/drive',\n",
    "         'https://www.googleapis.com/auth/drive.file',\n",
    "         'https://www.googleapis.com/auth/spreadsheets.currentonly',\n",
    "         'https://www.googleapis.com/auth/spreadsheets',\n",
    "         'https://www.googleapis.com/auth/presentations',\n",
    "         'https://www.googleapis.com/auth/drive.scripts',\n",
    "         'https://www.googleapis.com/auth/drive.appdata',\n",
    "         'https://www.googleapis.com/auth/drive.metadata'\n",
    "        ]\n",
    "store = file.Storage('/Users/5danalfaro/OAN/credentials/storage.json')\n",
    "creds = store.get()\n",
    "if not creds or creds.invalid:\n",
    "    flow = client.flow_from_clientsecrets('/Users/5danalfaro/OAN/credentials/client_id.json', SCOPES)\n",
    "    creds = tools.run_flow(flow, store)\n",
    "drive_service = discovery.build('drive', 'v3', http=creds.authorize(Http()))\n",
    "sheet_service = discovery.build('sheets', 'v4', http=creds.authorize(Http()))"
   ]
  },
  {
   "cell_type": "markdown",
   "metadata": {},
   "source": [
    "## GOOGLE SHETS IDS"
   ]
  },
  {
   "cell_type": "code",
   "execution_count": 524,
   "metadata": {},
   "outputs": [],
   "source": [
    "spreadsheet_ids = yaml.load( open(\"/Users/5danalfaro/OAN/credentials/sheets_parameters.yaml\", \"r\" ),Loader=yaml.FullLoader)\n",
    "#bombas de 2018, ultima version\n",
    "ID1=str(spreadsheet_ids['ID1'])\n",
    "#bombas de 2016, ultima version\n",
    "ID2=str(spreadsheet_ids['ID2'])\n",
    "#bombas de 2009, ultima version\n",
    "ID3=str(spreadsheet_ids['ID3'])\n",
    "#bombas final, datos de 2016 y 2009\n",
    "ID4=str(spreadsheet_ids['ID4'])\n",
    "#bombas lisette\n",
    "ID5=str(spreadsheet_ids['ID5'])\n",
    "#demograpique data\n",
    "ID6=str(spreadsheet_ids['ID6'])"
   ]
  },
  {
   "cell_type": "markdown",
   "metadata": {
    "colab_type": "text",
    "id": "Yzqr9P9nFav0"
   },
   "source": [
    "## get sheets"
   ]
  },
  {
   "cell_type": "code",
   "execution_count": 525,
   "metadata": {
    "colab": {},
    "colab_type": "code",
    "id": "TmlXIbSK__ig"
   },
   "outputs": [],
   "source": [
    "ids = [ID1,ID2,ID3,ID5]\n",
    "dfs = []\n",
    "for ID in ids:\n",
    "    #SPREADSHEET_ID = ID\n",
    "    RANGE_NAME = 'Sheet1'\n",
    "    \n",
    "    gsheet = sheet_service.spreadsheets().values().get(spreadsheetId=ID, range=RANGE_NAME).execute()\n",
    "    \n",
    "    dfs.append(pd.DataFrame(gsheet.get('values', [])[1:],columns= gsheet.get('values', [])[0:1][0]))\n",
    "\n",
    "df_2019=dfs[0]\n",
    "df_2016=dfs[1]\n",
    "df_2009=dfs[2]\n",
    "df_lisette = dfs[3]"
   ]
  },
  {
   "cell_type": "code",
   "execution_count": 526,
   "metadata": {
    "colab": {
     "base_uri": "https://localhost:8080/",
     "height": 69
    },
    "colab_type": "code",
    "id": "JFsli7phvLmC",
    "outputId": "870e6716-b8af-432b-b88e-1831a8d869d4"
   },
   "outputs": [
    {
     "data": {
      "text/plain": [
       "array(['Fonctionnel', 'Panne', 'En panne', 'Tête de pompe', '2 pompes',\n",
       "       'Privé', '1  Pompe', '', 'Pompe', 'Pompe non', 'Faible débit',\n",
       "       '1 pompe', 'Kalale'], dtype=object)"
      ]
     },
     "execution_count": 526,
     "metadata": {},
     "output_type": "execute_result"
    }
   ],
   "source": [
    "dfs[1][\"Etat de l'ouvrage\"].unique()"
   ]
  },
  {
   "cell_type": "code",
   "execution_count": 527,
   "metadata": {
    "colab": {
     "base_uri": "https://localhost:8080/",
     "height": 173
    },
    "colab_type": "code",
    "id": "f1edXXKuADxS",
    "outputId": "f1147152-5bfc-4c6a-985d-f22e6b7d64ab"
   },
   "outputs": [
    {
     "data": {
      "text/plain": [
       "[Index(['Arrondissement', 'Village', 'Localite', 'Nom_Local', 'Longitude',\n",
       "        'Latitude', 'xCoord', 'yCoord', 'rqtListe_Pompe.Modele_Pompe'],\n",
       "       dtype='object'),\n",
       " Index(['N°', 'Arrondissement', 'Village', 'Localité', 'Hameau',\n",
       "        'Etat de l'ouvrage', 'Redevance', 'Année de réalisation', 'Marque'],\n",
       "       dtype='object'),\n",
       " Index(['Arrondissement', 'Village', 'Localité', 'Population', 'Type d'ouvrage',\n",
       "        'Etat', 'Longitude', 'Latitude', 'Domaine d'installation'],\n",
       "       dtype='object'),\n",
       " Index(['Departement', 'Commune', 'Arrondissement', 'Village', 'Localite',\n",
       "        'Nom_Local', 'Longitude', 'Latitude', 'xCoord', 'yCoord',\n",
       "        'Type_Exhaure', 'Modele_Pompe'],\n",
       "       dtype='object')]"
      ]
     },
     "execution_count": 527,
     "metadata": {},
     "output_type": "execute_result"
    }
   ],
   "source": [
    "[df.columns for df in dfs]\n",
    "#df_2016.head(2)\n",
    "#df_2009.head(2)"
   ]
  },
  {
   "cell_type": "markdown",
   "metadata": {
    "colab_type": "text",
    "id": "xl9ONa9Ot8mL"
   },
   "source": [
    "So common data is:\n",
    "\n",
    "* 2019 vs 2016: Arrondissement, Village, Localite, Marque\n",
    "\n",
    "* 2019 vs 2009: Arrondissement, Village, Localite, Longitude, Latitude\n",
    "\n",
    "* 2009 vs 2016: Arrondissement, Village, Localite, Etat\n",
    "\n",
    "ONLY DATA:\n",
    "\n",
    "* 2019: Nom_Local which is little identifier for more info on pumps\n",
    "\n",
    "* 2016: Année de réalisation, , Redevace, Hameau, which would be kind of the same as Nom_Local\n",
    "\n",
    "* 2009: Population, Type d'ouvrage\n",
    "\n",
    "MISSING:\n",
    "\n",
    "* 2019: Population, other villages, Année de réalisation, , Redevace, Hameau\n",
    "\n",
    "* 2016: Population, other villages\n",
    "\n",
    "* 2009: Année de réalisation, Redevace, Hameau"
   ]
  },
  {
   "cell_type": "markdown",
   "metadata": {
    "colab_type": "text",
    "id": "3u48Pkw7wkag"
   },
   "source": [
    "### LETS CLEAN THE DATA"
   ]
  },
  {
   "cell_type": "markdown",
   "metadata": {
    "colab_type": "text",
    "id": "31jD9gsH1daO"
   },
   "source": [
    "#### Functions"
   ]
  },
  {
   "cell_type": "code",
   "execution_count": 8,
   "metadata": {
    "colab": {},
    "colab_type": "code",
    "id": "mHAt1GY81guW"
   },
   "outputs": [],
   "source": [
    "#Marques des Pompes\n",
    "def marques(x,name,name2=0):\n",
    "    marque='NA'\n",
    "  \n",
    "    if x[name]:\n",
    "        if bool(re.search('ergnet',x[name].lower())):\n",
    "            marque='Vergnet'\n",
    "        elif bool(re.search('ndia',x[name].lower())):\n",
    "            marque='India'\n",
    "        elif bool(re.search('afri',x[name].lower())):\n",
    "            marque='Afridev'\n",
    "    elif x[name2]:\n",
    "        if bool(re.search('moteur',x[name2].lower())):\n",
    "            marque='pompe_a_moteur'\n",
    "    return marque"
   ]
  },
  {
   "cell_type": "code",
   "execution_count": 9,
   "metadata": {
    "colab": {},
    "colab_type": "code",
    "id": "y99B2ff51ln5"
   },
   "outputs": [],
   "source": [
    "#Years\n",
    "def getyear(x):\n",
    "    year=None\n",
    "    if x['Année de réalisation']:\n",
    "        for s in x['Année de réalisation'].split():\n",
    "            if s.isdigit():\n",
    "                year=int(s)\n",
    "        if year==None:\n",
    "            return year\n",
    "    elif year >2019:\n",
    "        #print(year)\n",
    "        year=2010\n",
    "        return year\n",
    "    elif year > 100:\n",
    "        return int(year)\n",
    "    elif year >70:\n",
    "        year=int('19'+str(year))\n",
    "        return int(year)\n",
    "    else:\n",
    "        year=None\n",
    "    \n",
    "    return year"
   ]
  },
  {
   "cell_type": "code",
   "execution_count": 10,
   "metadata": {
    "colab": {},
    "colab_type": "code",
    "id": "IVw7BytI1rGk"
   },
   "outputs": [],
   "source": [
    "'''\n",
    "Function to change latitude/longitude data from degrees,minutes and seconds into decimals\n",
    "'''\n",
    "def decimals_lat_lon(x,lat):\n",
    "    coord=None\n",
    "    if x[lat]:\n",
    "        if len(x[lat])>2:\n",
    "            if len(re.split('[°\\'\"]', x[lat])) == 4 :\n",
    "        \n",
    "                #gets all the parts of the coordinates into different elements of a vector\n",
    "                deg, minutes, seconds, direction =  re.split('[°\\'\"]', x[lat])\n",
    "\n",
    "                #had to put replace commas because of data of 2009\n",
    "                coord=(float(deg) + float(minutes.replace(\",\",\".\"))/60 + float(seconds.replace(\",\",\".\"))/(60*60)) * (-1 if direction in ['W', 'S'] else 1)\n",
    "            elif len(re.split('[°\\'\"]', x[lat])) > 0:\n",
    "                coord=x[lat]\n",
    "                print(coord)\n",
    "    else:\n",
    "        coord=None\n",
    "        print(coord)\n",
    "    return coord"
   ]
  },
  {
   "cell_type": "markdown",
   "metadata": {
    "colab_type": "text",
    "id": "boN5lk47bjaC"
   },
   "source": [
    "2009"
   ]
  },
  {
   "cell_type": "code",
   "execution_count": 11,
   "metadata": {
    "colab": {
     "base_uri": "https://localhost:8080/",
     "height": 70
    },
    "colab_type": "code",
    "id": "mGvS7rJJbQeQ",
    "outputId": "dbfd10c7-e4e2-4b88-97d4-16d71de4611e"
   },
   "outputs": [
    {
     "data": {
      "text/plain": [
       "Index(['Arrondissement', 'Village', 'Localité', 'Population', 'Type d'ouvrage',\n",
       "       'Etat', 'Longitude', 'Latitude', 'Domaine d'installation'],\n",
       "      dtype='object')"
      ]
     },
     "execution_count": 11,
     "metadata": {},
     "output_type": "execute_result"
    }
   ],
   "source": [
    "df_2009.columns"
   ]
  },
  {
   "cell_type": "code",
   "execution_count": 12,
   "metadata": {
    "colab": {
     "base_uri": "https://localhost:8080/",
     "height": 194
    },
    "colab_type": "code",
    "id": "nwdHijDXbOFh",
    "outputId": "7656352d-c9c7-48a7-9acd-bc2401eed569"
   },
   "outputs": [
    {
     "name": "stdout",
     "output_type": "stream",
     "text": [
      "None\n",
      "None\n",
      "None\n",
      "None\n",
      "None\n",
      "None\n",
      "None\n",
      "None\n",
      "None\n",
      "None\n"
     ]
    }
   ],
   "source": [
    "df_2009['Latitude_decimals']=df_2009.apply(lambda x: decimals_lat_lon(x,'Latitude'),axis=1)\n",
    "df_2009['Longitude_decimals']=df_2009.apply(lambda x: decimals_lat_lon(x,'Longitude'),axis=1)"
   ]
  },
  {
   "cell_type": "markdown",
   "metadata": {
    "colab_type": "text",
    "id": "zubT2jcrwt3s"
   },
   "source": [
    "#### Begin with 2019"
   ]
  },
  {
   "cell_type": "code",
   "execution_count": 13,
   "metadata": {
    "colab": {
     "base_uri": "https://localhost:8080/",
     "height": 52
    },
    "colab_type": "code",
    "id": "Nj7TkvBBAFYL",
    "outputId": "ace91e75-ded5-4307-e1aa-c0ed3e6688b1"
   },
   "outputs": [
    {
     "name": "stdout",
     "output_type": "stream",
     "text": [
      "None\n",
      "None\n"
     ]
    }
   ],
   "source": [
    "#Create decimals from degrees latitude\n",
    "df_2019['Latitude_decimals']=df_2019.apply(lambda x: decimals_lat_lon(x,'Latitude'),axis=1)"
   ]
  },
  {
   "cell_type": "code",
   "execution_count": 14,
   "metadata": {
    "colab": {
     "base_uri": "https://localhost:8080/",
     "height": 52
    },
    "colab_type": "code",
    "id": "SSPsnn5SnW9G",
    "outputId": "febd4935-cbc8-4134-b9d2-cd335cb090f8"
   },
   "outputs": [
    {
     "name": "stdout",
     "output_type": "stream",
     "text": [
      "None\n",
      "None\n"
     ]
    }
   ],
   "source": [
    "df_2019['Longitude_decimals']=df_2019.apply(lambda x: decimals_lat_lon(x,'Longitude'),axis=1)"
   ]
  },
  {
   "cell_type": "code",
   "execution_count": 15,
   "metadata": {
    "colab": {},
    "colab_type": "code",
    "id": "P4rX9UKBwsxk"
   },
   "outputs": [],
   "source": [
    "df_2019_filtered = df_2019[['Arrondissement', 'Village','Localite', 'Longitude_decimals',\n",
    "        'Latitude_decimals', 'rqtListe_Pompe.Modele_Pompe']]\n",
    "df_2019_filtered.columns = ['Arrondissement', 'Village','Localite', 'Longitude',\n",
    "        'Latitude', 'Marque']"
   ]
  },
  {
   "cell_type": "code",
   "execution_count": 16,
   "metadata": {
    "colab": {
     "base_uri": "https://localhost:8080/",
     "height": 156
    },
    "colab_type": "code",
    "id": "hOzHn44212R5",
    "outputId": "92788f5b-6ee3-4301-8948-130b2d37d88f"
   },
   "outputs": [
    {
     "name": "stderr",
     "output_type": "stream",
     "text": [
      "/anaconda3/lib/python3.7/site-packages/ipykernel_launcher.py:1: SettingWithCopyWarning:\n",
      "\n",
      "\n",
      "A value is trying to be set on a copy of a slice from a DataFrame.\n",
      "Try using .loc[row_indexer,col_indexer] = value instead\n",
      "\n",
      "See the caveats in the documentation: http://pandas.pydata.org/pandas-docs/stable/indexing.html#indexing-view-versus-copy\n",
      "\n"
     ]
    }
   ],
   "source": [
    "df_2019_filtered['Marque']=df_2019_filtered.apply(lambda x: marques(x,\"Marque\",),axis=1)"
   ]
  },
  {
   "cell_type": "code",
   "execution_count": 17,
   "metadata": {
    "colab": {},
    "colab_type": "code",
    "id": "xdQSTE8x3mPy"
   },
   "outputs": [],
   "source": [
    "l_2019_local = df_2019_filtered['Localite'].sort_values().tolist()\n",
    "\n",
    "index = []\n",
    "j=1\n",
    "for i,local in enumerate(l_2019_local):\n",
    "    if i == 0:\n",
    "        j=1\n",
    "        word = local+' '+str(j)\n",
    "        word=word.replace(' ','_')\n",
    "        index.append(word)\n",
    "        continue\n",
    "    if l_2019_local[i-1] == local:\n",
    "        j+=1\n",
    "        word = local+' '+str(j)\n",
    "        word=word.replace(' ','_')\n",
    "        index.append(word)\n",
    "    else:\n",
    "        j=1\n",
    "        word = local+' '+str(j)\n",
    "        word=word.replace(' ','_')\n",
    "        index.append(word)"
   ]
  },
  {
   "cell_type": "code",
   "execution_count": 18,
   "metadata": {
    "colab": {},
    "colab_type": "code",
    "id": "h48OMF1ABI44"
   },
   "outputs": [],
   "source": [
    "df_2019_filtered=df_2019_filtered.sort_values('Localite')"
   ]
  },
  {
   "cell_type": "code",
   "execution_count": 19,
   "metadata": {
    "colab": {},
    "colab_type": "code",
    "id": "KQzRvxSw3cWx"
   },
   "outputs": [],
   "source": [
    "df_2019_filtered['index'] = index"
   ]
  },
  {
   "cell_type": "code",
   "execution_count": 20,
   "metadata": {
    "colab": {},
    "colab_type": "code",
    "id": "47YefexP7nIB"
   },
   "outputs": [],
   "source": [
    "df_2019_filtered=df_2019_filtered.set_index('index')"
   ]
  },
  {
   "cell_type": "code",
   "execution_count": 21,
   "metadata": {},
   "outputs": [],
   "source": [
    "df_2019_filtered=df_2019_filtered.reset_index()"
   ]
  },
  {
   "cell_type": "code",
   "execution_count": 0,
   "metadata": {
    "colab": {},
    "colab_type": "code",
    "id": "ofrIxt4CAILM"
   },
   "outputs": [],
   "source": [
    "#convert to dictionary\n",
    "dict_2019 = df_2019_filtered.to_dict('index')\n",
    "dict_2019 = [{k: v} for k, v in dict_2019.items()]"
   ]
  },
  {
   "cell_type": "markdown",
   "metadata": {
    "colab_type": "text",
    "id": "J4X-N-uZAPug"
   },
   "source": [
    "## Process data of Lisette"
   ]
  },
  {
   "cell_type": "code",
   "execution_count": 22,
   "metadata": {
    "colab": {
     "base_uri": "https://localhost:8080/",
     "height": 197
    },
    "colab_type": "code",
    "id": "YblZBJKyAWji",
    "outputId": "04a830c1-7dd1-4bed-95cd-8ca40be59274"
   },
   "outputs": [
    {
     "data": {
      "text/html": [
       "<div>\n",
       "<style scoped>\n",
       "    .dataframe tbody tr th:only-of-type {\n",
       "        vertical-align: middle;\n",
       "    }\n",
       "\n",
       "    .dataframe tbody tr th {\n",
       "        vertical-align: top;\n",
       "    }\n",
       "\n",
       "    .dataframe thead th {\n",
       "        text-align: right;\n",
       "    }\n",
       "</style>\n",
       "<table border=\"1\" class=\"dataframe\">\n",
       "  <thead>\n",
       "    <tr style=\"text-align: right;\">\n",
       "      <th></th>\n",
       "      <th>Departement</th>\n",
       "      <th>Commune</th>\n",
       "      <th>Arrondissement</th>\n",
       "      <th>Village</th>\n",
       "      <th>Localite</th>\n",
       "      <th>Nom_Local</th>\n",
       "      <th>Longitude</th>\n",
       "      <th>Latitude</th>\n",
       "      <th>xCoord</th>\n",
       "      <th>yCoord</th>\n",
       "      <th>Type_Exhaure</th>\n",
       "      <th>Modele_Pompe</th>\n",
       "    </tr>\n",
       "  </thead>\n",
       "  <tbody>\n",
       "    <tr>\n",
       "      <th>0</th>\n",
       "      <td>BORGOU</td>\n",
       "      <td>NIKKI</td>\n",
       "      <td>BIRO</td>\n",
       "      <td>BIRO</td>\n",
       "      <td>BIRO NOUKOUROU</td>\n",
       "      <td></td>\n",
       "      <td>02°56'50.96\"E</td>\n",
       "      <td>09°54'18.50\"N</td>\n",
       "      <td>2.947489</td>\n",
       "      <td>9.905139</td>\n",
       "      <td>PMH</td>\n",
       "      <td>VERGNET 4C</td>\n",
       "    </tr>\n",
       "    <tr>\n",
       "      <th>1</th>\n",
       "      <td>BORGOU</td>\n",
       "      <td>NIKKI</td>\n",
       "      <td>BIRO</td>\n",
       "      <td>BIRO</td>\n",
       "      <td>GOUTTO</td>\n",
       "      <td></td>\n",
       "      <td>02°56'47.38\"E</td>\n",
       "      <td>09°54'59.99\"N</td>\n",
       "      <td>2.946494</td>\n",
       "      <td>9.916664</td>\n",
       "      <td>PMH</td>\n",
       "      <td>VERGNET 4D</td>\n",
       "    </tr>\n",
       "    <tr>\n",
       "      <th>2</th>\n",
       "      <td>BORGOU</td>\n",
       "      <td>NIKKI</td>\n",
       "      <td>BIRO</td>\n",
       "      <td>BIRO</td>\n",
       "      <td>SARAVONDO</td>\n",
       "      <td></td>\n",
       "      <td>02°58'29.33\"E</td>\n",
       "      <td>09°54'13.30\"N</td>\n",
       "      <td>2.974814</td>\n",
       "      <td>9.903694</td>\n",
       "      <td>PMH</td>\n",
       "      <td>VERGNET 4D</td>\n",
       "    </tr>\n",
       "    <tr>\n",
       "      <th>3</th>\n",
       "      <td>BORGOU</td>\n",
       "      <td>NIKKI</td>\n",
       "      <td>BIRO</td>\n",
       "      <td>BIRO</td>\n",
       "      <td>MADINA</td>\n",
       "      <td></td>\n",
       "      <td>02°56'44.34\"E</td>\n",
       "      <td>09°54'02.71\"N</td>\n",
       "      <td>2.94565</td>\n",
       "      <td>9.900753</td>\n",
       "      <td>PMH</td>\n",
       "      <td>VERGNET 4C</td>\n",
       "    </tr>\n",
       "    <tr>\n",
       "      <th>4</th>\n",
       "      <td>BORGOU</td>\n",
       "      <td>NIKKI</td>\n",
       "      <td>BIRO</td>\n",
       "      <td>BIRO</td>\n",
       "      <td>MADINA</td>\n",
       "      <td></td>\n",
       "      <td>02°56'46.83\"E</td>\n",
       "      <td>09°54'01.55\"N</td>\n",
       "      <td>2.946342</td>\n",
       "      <td>9.900431</td>\n",
       "      <td>PMH</td>\n",
       "      <td>VERGNET 4C</td>\n",
       "    </tr>\n",
       "  </tbody>\n",
       "</table>\n",
       "</div>"
      ],
      "text/plain": [
       "  Departement Commune Arrondissement Village        Localite Nom_Local  \\\n",
       "0      BORGOU   NIKKI           BIRO    BIRO  BIRO NOUKOUROU             \n",
       "1      BORGOU   NIKKI           BIRO    BIRO          GOUTTO             \n",
       "2      BORGOU   NIKKI           BIRO    BIRO       SARAVONDO             \n",
       "3      BORGOU   NIKKI           BIRO    BIRO          MADINA             \n",
       "4      BORGOU   NIKKI           BIRO    BIRO          MADINA             \n",
       "\n",
       "       Longitude       Latitude    xCoord    yCoord Type_Exhaure Modele_Pompe  \n",
       "0  02°56'50.96\"E  09°54'18.50\"N  2.947489  9.905139          PMH   VERGNET 4C  \n",
       "1  02°56'47.38\"E  09°54'59.99\"N  2.946494  9.916664          PMH   VERGNET 4D  \n",
       "2  02°58'29.33\"E  09°54'13.30\"N  2.974814  9.903694          PMH   VERGNET 4D  \n",
       "3  02°56'44.34\"E  09°54'02.71\"N   2.94565  9.900753          PMH   VERGNET 4C  \n",
       "4  02°56'46.83\"E  09°54'01.55\"N  2.946342  9.900431          PMH   VERGNET 4C  "
      ]
     },
     "execution_count": 22,
     "metadata": {},
     "output_type": "execute_result"
    }
   ],
   "source": [
    "df_lisette.head()"
   ]
  },
  {
   "cell_type": "code",
   "execution_count": 23,
   "metadata": {
    "colab": {},
    "colab_type": "code",
    "id": "7dKkdv3AAbvr"
   },
   "outputs": [],
   "source": [
    "#Create decimals from degrees latitude\n",
    "df_lisette['Latitude_decimals']=df_lisette.apply(lambda x: decimals_lat_lon(x,'Latitude'),axis=1)"
   ]
  },
  {
   "cell_type": "code",
   "execution_count": 24,
   "metadata": {
    "colab": {},
    "colab_type": "code",
    "id": "phQupZuxAo0u"
   },
   "outputs": [],
   "source": [
    "df_lisette['Longitude_decimals']=df_lisette.apply(lambda x: decimals_lat_lon(x,'Longitude'),axis=1)"
   ]
  },
  {
   "cell_type": "code",
   "execution_count": 25,
   "metadata": {
    "colab": {},
    "colab_type": "code",
    "id": "pKPEE8PCBMWA"
   },
   "outputs": [],
   "source": [
    "df_lisette['Marque']=df_lisette.apply(lambda x: marques(x,\"Modele_Pompe\",\"Type_Exhaure\"),axis=1)"
   ]
  },
  {
   "cell_type": "code",
   "execution_count": 26,
   "metadata": {
    "colab": {
     "base_uri": "https://localhost:8080/",
     "height": 247
    },
    "colab_type": "code",
    "id": "SI_QCtuuFXmt",
    "outputId": "a87bdb07-bec9-4ece-ce4f-3e5925d46f5e"
   },
   "outputs": [
    {
     "data": {
      "text/html": [
       "<div>\n",
       "<style scoped>\n",
       "    .dataframe tbody tr th:only-of-type {\n",
       "        vertical-align: middle;\n",
       "    }\n",
       "\n",
       "    .dataframe tbody tr th {\n",
       "        vertical-align: top;\n",
       "    }\n",
       "\n",
       "    .dataframe thead th {\n",
       "        text-align: right;\n",
       "    }\n",
       "</style>\n",
       "<table border=\"1\" class=\"dataframe\">\n",
       "  <thead>\n",
       "    <tr style=\"text-align: right;\">\n",
       "      <th></th>\n",
       "      <th>Departement</th>\n",
       "      <th>Commune</th>\n",
       "      <th>Arrondissement</th>\n",
       "      <th>Village</th>\n",
       "      <th>Localite</th>\n",
       "      <th>Nom_Local</th>\n",
       "      <th>Longitude</th>\n",
       "      <th>Latitude</th>\n",
       "      <th>xCoord</th>\n",
       "      <th>yCoord</th>\n",
       "      <th>Type_Exhaure</th>\n",
       "      <th>Modele_Pompe</th>\n",
       "      <th>Latitude_decimals</th>\n",
       "      <th>Longitude_decimals</th>\n",
       "    </tr>\n",
       "    <tr>\n",
       "      <th>Marque</th>\n",
       "      <th></th>\n",
       "      <th></th>\n",
       "      <th></th>\n",
       "      <th></th>\n",
       "      <th></th>\n",
       "      <th></th>\n",
       "      <th></th>\n",
       "      <th></th>\n",
       "      <th></th>\n",
       "      <th></th>\n",
       "      <th></th>\n",
       "      <th></th>\n",
       "      <th></th>\n",
       "      <th></th>\n",
       "    </tr>\n",
       "  </thead>\n",
       "  <tbody>\n",
       "    <tr>\n",
       "      <th>Afridev</th>\n",
       "      <td>33</td>\n",
       "      <td>33</td>\n",
       "      <td>33</td>\n",
       "      <td>33</td>\n",
       "      <td>33</td>\n",
       "      <td>33</td>\n",
       "      <td>33</td>\n",
       "      <td>33</td>\n",
       "      <td>33</td>\n",
       "      <td>33</td>\n",
       "      <td>33</td>\n",
       "      <td>33</td>\n",
       "      <td>33</td>\n",
       "      <td>33</td>\n",
       "    </tr>\n",
       "    <tr>\n",
       "      <th>India</th>\n",
       "      <td>95</td>\n",
       "      <td>95</td>\n",
       "      <td>95</td>\n",
       "      <td>95</td>\n",
       "      <td>95</td>\n",
       "      <td>95</td>\n",
       "      <td>95</td>\n",
       "      <td>95</td>\n",
       "      <td>95</td>\n",
       "      <td>95</td>\n",
       "      <td>95</td>\n",
       "      <td>95</td>\n",
       "      <td>95</td>\n",
       "      <td>95</td>\n",
       "    </tr>\n",
       "    <tr>\n",
       "      <th>NA</th>\n",
       "      <td>4</td>\n",
       "      <td>4</td>\n",
       "      <td>4</td>\n",
       "      <td>4</td>\n",
       "      <td>4</td>\n",
       "      <td>4</td>\n",
       "      <td>4</td>\n",
       "      <td>4</td>\n",
       "      <td>4</td>\n",
       "      <td>4</td>\n",
       "      <td>3</td>\n",
       "      <td>0</td>\n",
       "      <td>4</td>\n",
       "      <td>4</td>\n",
       "    </tr>\n",
       "    <tr>\n",
       "      <th>Vergnet</th>\n",
       "      <td>253</td>\n",
       "      <td>253</td>\n",
       "      <td>253</td>\n",
       "      <td>253</td>\n",
       "      <td>253</td>\n",
       "      <td>253</td>\n",
       "      <td>253</td>\n",
       "      <td>253</td>\n",
       "      <td>253</td>\n",
       "      <td>253</td>\n",
       "      <td>253</td>\n",
       "      <td>253</td>\n",
       "      <td>253</td>\n",
       "      <td>253</td>\n",
       "    </tr>\n",
       "    <tr>\n",
       "      <th>pompe_a_moteur</th>\n",
       "      <td>14</td>\n",
       "      <td>14</td>\n",
       "      <td>14</td>\n",
       "      <td>14</td>\n",
       "      <td>14</td>\n",
       "      <td>14</td>\n",
       "      <td>14</td>\n",
       "      <td>14</td>\n",
       "      <td>14</td>\n",
       "      <td>14</td>\n",
       "      <td>14</td>\n",
       "      <td>0</td>\n",
       "      <td>14</td>\n",
       "      <td>14</td>\n",
       "    </tr>\n",
       "  </tbody>\n",
       "</table>\n",
       "</div>"
      ],
      "text/plain": [
       "                Departement  Commune  Arrondissement  Village  Localite  \\\n",
       "Marque                                                                    \n",
       "Afridev                  33       33              33       33        33   \n",
       "India                    95       95              95       95        95   \n",
       "NA                        4        4               4        4         4   \n",
       "Vergnet                 253      253             253      253       253   \n",
       "pompe_a_moteur           14       14              14       14        14   \n",
       "\n",
       "                Nom_Local  Longitude  Latitude  xCoord  yCoord  Type_Exhaure  \\\n",
       "Marque                                                                         \n",
       "Afridev                33         33        33      33      33            33   \n",
       "India                  95         95        95      95      95            95   \n",
       "NA                      4          4         4       4       4             3   \n",
       "Vergnet               253        253       253     253     253           253   \n",
       "pompe_a_moteur         14         14        14      14      14            14   \n",
       "\n",
       "                Modele_Pompe  Latitude_decimals  Longitude_decimals  \n",
       "Marque                                                               \n",
       "Afridev                   33                 33                  33  \n",
       "India                     95                 95                  95  \n",
       "NA                         0                  4                   4  \n",
       "Vergnet                  253                253                 253  \n",
       "pompe_a_moteur             0                 14                  14  "
      ]
     },
     "execution_count": 26,
     "metadata": {},
     "output_type": "execute_result"
    }
   ],
   "source": [
    "df_lisette.groupby(\"Marque\",axis=0).count()"
   ]
  },
  {
   "cell_type": "markdown",
   "metadata": {
    "colab_type": "text",
    "id": "efr3I_1SBIdd"
   },
   "source": [
    "###Analysis to check"
   ]
  },
  {
   "cell_type": "markdown",
   "metadata": {
    "colab_type": "text",
    "id": "UYAROYlxA_HE"
   },
   "source": [
    "###How many villages have pompes"
   ]
  },
  {
   "cell_type": "code",
   "execution_count": 0,
   "metadata": {
    "colab": {
     "base_uri": "https://localhost:8080/",
     "height": 34
    },
    "colab_type": "code",
    "id": "Vr3RaSkjAsX6",
    "outputId": "11832960-bfe7-4675-d468-3fb14ee558e5"
   },
   "outputs": [
    {
     "data": {
      "text/plain": [
       "277"
      ]
     },
     "execution_count": 24,
     "metadata": {
      "tags": []
     },
     "output_type": "execute_result"
    }
   ],
   "source": [
    "len(df_lisette.groupby(\"Localite\",axis=0).count())"
   ]
  },
  {
   "cell_type": "code",
   "execution_count": 0,
   "metadata": {
    "colab": {
     "base_uri": "https://localhost:8080/",
     "height": 34
    },
    "colab_type": "code",
    "id": "fOSYZXc-A5-k",
    "outputId": "29a275a8-590c-4de1-f1d0-e0cf26b36b64"
   },
   "outputs": [
    {
     "data": {
      "text/plain": [
       "326"
      ]
     },
     "execution_count": 25,
     "metadata": {
      "tags": []
     },
     "output_type": "execute_result"
    }
   ],
   "source": [
    "len(df_2009.groupby(\"Localité\",axis=0).count())"
   ]
  },
  {
   "cell_type": "markdown",
   "metadata": {
    "colab_type": "text",
    "id": "WppikOLvBHTo"
   },
   "source": [
    "#STATES/COUNTY/DISTRICT\n"
   ]
  },
  {
   "cell_type": "markdown",
   "metadata": {
    "colab_type": "text",
    "id": "hT5ep9EVtMVp"
   },
   "source": [
    "### Demographics\n",
    "\n",
    "get data from INSAE BENIN link: https://www.insae-bj.org/statistiques/statistiques-demographiques#nos-12-departements -> placed it manually into a google sheet\n",
    "\n",
    "then add the coordinates by Geonames API"
   ]
  },
  {
   "cell_type": "code",
   "execution_count": 528,
   "metadata": {
    "colab": {},
    "colab_type": "code",
    "id": "o2TtbNgfU8Ek"
   },
   "outputs": [],
   "source": [
    "#get data of RPGH4\n",
    "RANGE_NAME = 'Sheet1'\n",
    "\n",
    "gsheet = sheet_service.spreadsheets().values().get(spreadsheetId=ID6, range=RANGE_NAME).execute()\n",
    "\n",
    "df_rpgh4 = pd.DataFrame(gsheet.get('values', [])[1:],columns= gsheet.get('values', [])[0:1][0])"
   ]
  },
  {
   "cell_type": "markdown",
   "metadata": {
    "colab_type": "text",
    "id": "foQ0UVXYW8ce"
   },
   "source": [
    "## State DB"
   ]
  },
  {
   "cell_type": "code",
   "execution_count": 529,
   "metadata": {
    "colab": {},
    "colab_type": "code",
    "id": "cIiGSVdAVMAF"
   },
   "outputs": [],
   "source": [
    "df_dep_base = df_rpgh4[df_rpgh4['Divison administrative'].str[0:4] == 'DEP:'].copy()"
   ]
  },
  {
   "cell_type": "code",
   "execution_count": 530,
   "metadata": {
    "colab": {},
    "colab_type": "code",
    "id": "xsVd792NV5MM"
   },
   "outputs": [],
   "source": [
    "df_dep_base=df_dep_base.reset_index()"
   ]
  },
  {
   "cell_type": "code",
   "execution_count": 531,
   "metadata": {
    "colab": {},
    "colab_type": "code",
    "id": "Q8ZZD-TNV_Ib"
   },
   "outputs": [],
   "source": [
    "df_dep_base['Departement'] = df_dep_base.apply(lambda x: x['Divison administrative'][5:], axis=1)"
   ]
  },
  {
   "cell_type": "code",
   "execution_count": 532,
   "metadata": {
    "colab": {},
    "colab_type": "code",
    "id": "oH3YqW2_Wr3t"
   },
   "outputs": [],
   "source": [
    "df_dep=df_dep_base.sort_values('Departement')"
   ]
  },
  {
   "cell_type": "code",
   "execution_count": 533,
   "metadata": {
    "colab": {},
    "colab_type": "code",
    "id": "sfKCMW-9XEcr"
   },
   "outputs": [],
   "source": [
    "df_dep = df_dep[['Departement','Total','Masculin','Feminin']]"
   ]
  },
  {
   "cell_type": "markdown",
   "metadata": {
    "colab_type": "text",
    "id": "99Z9fXCkZ3yq"
   },
   "source": [
    "### get localisation from geocoder"
   ]
  },
  {
   "cell_type": "code",
   "execution_count": 534,
   "metadata": {
    "colab": {},
    "colab_type": "code",
    "id": "iAo9JCuEd7xS"
   },
   "outputs": [],
   "source": [
    "def get_coor(x):\n",
    "  g=geocoder.geonames(x['Departement']+' Benin',key='5danalfaro')\n",
    "  return [g.lat,g.lng]"
   ]
  },
  {
   "cell_type": "code",
   "execution_count": 535,
   "metadata": {
    "colab": {},
    "colab_type": "code",
    "id": "pvHHzpoddcoj"
   },
   "outputs": [],
   "source": [
    "df_dep['Coordinates'] = df_dep.apply(lambda x: get_coor(x),axis=1)"
   ]
  },
  {
   "cell_type": "code",
   "execution_count": 536,
   "metadata": {
    "colab": {},
    "colab_type": "code",
    "id": "yz_yRRpEeeAi"
   },
   "outputs": [],
   "source": [
    "df_dep['Latitude'] = df_dep.apply(lambda x: x['Coordinates'][0],axis=1)"
   ]
  },
  {
   "cell_type": "code",
   "execution_count": 537,
   "metadata": {
    "colab": {},
    "colab_type": "code",
    "id": "GnYy8J4jekv7"
   },
   "outputs": [],
   "source": [
    "df_dep['Longitude'] = df_dep.apply(lambda x: x['Coordinates'][1],axis=1)"
   ]
  },
  {
   "cell_type": "code",
   "execution_count": 538,
   "metadata": {
    "colab": {},
    "colab_type": "code",
    "id": "qb9JrbCUgiqq"
   },
   "outputs": [],
   "source": [
    "df_dep=df_dep[['Departement','Latitude','Longitude','Total']]"
   ]
  },
  {
   "cell_type": "code",
   "execution_count": 539,
   "metadata": {
    "colab": {},
    "colab_type": "code",
    "id": "GEN_-sRRg93r"
   },
   "outputs": [],
   "source": [
    "df_dep.columns = ['Name','Latitude','Longitude','Population']"
   ]
  },
  {
   "cell_type": "markdown",
   "metadata": {
    "colab_type": "text",
    "id": "1pEkDh9Ef9X0"
   },
   "source": [
    "Check if everything is okay, exported to csv and uploaded to google mymaps"
   ]
  },
  {
   "cell_type": "code",
   "execution_count": 0,
   "metadata": {
    "colab": {},
    "colab_type": "code",
    "id": "izoBpzY1epjN"
   },
   "outputs": [],
   "source": [
    "df_dep.to_csv('dep.csv')"
   ]
  },
  {
   "cell_type": "markdown",
   "metadata": {
    "colab_type": "text",
    "id": "NNAu43dLgDZD"
   },
   "source": [
    "https://drive.google.com/open?id=1yJeiKBrO8j9GE10wYyRmjnQqxufG-YT0&usp=sharing all alright"
   ]
  },
  {
   "cell_type": "markdown",
   "metadata": {
    "colab_type": "text",
    "id": "h8BaxT51mBI3"
   },
   "source": [
    "## COUNTY DB"
   ]
  },
  {
   "cell_type": "code",
   "execution_count": 540,
   "metadata": {
    "colab": {},
    "colab_type": "code",
    "id": "9KPTp0K2pPpD"
   },
   "outputs": [],
   "source": [
    "df_county_base = df_rpgh4[df_rpgh4['Divison administrative'].str[0:4] == 'COM:'].copy()"
   ]
  },
  {
   "cell_type": "code",
   "execution_count": 541,
   "metadata": {
    "colab": {},
    "colab_type": "code",
    "id": "UWrc2kazpPpH"
   },
   "outputs": [],
   "source": [
    "df_county_base=df_county_base.reset_index()"
   ]
  },
  {
   "cell_type": "code",
   "execution_count": 542,
   "metadata": {
    "colab": {},
    "colab_type": "code",
    "id": "9gMAp4jMqReM"
   },
   "outputs": [],
   "source": [
    "def getdep(x):\n",
    "  l_dep_in = df_dep_base['index'].to_list()\n",
    "  row = x['index']\n",
    "  for i,index in enumerate(l_dep_in):\n",
    "    if i+1< len(l_dep_in):\n",
    "      if ((index < row) and (row<l_dep_in[i+1])):\n",
    "        return df_dep_base[df_dep_base['index']==index]['Departement'].values[0]\n",
    "    else:\n",
    "      if(index < row):\n",
    "        return df_dep_base[df_dep_base['index']==index]['Departement'].values[0]"
   ]
  },
  {
   "cell_type": "code",
   "execution_count": 543,
   "metadata": {
    "colab": {},
    "colab_type": "code",
    "id": "IPDLXQEBpPpK"
   },
   "outputs": [],
   "source": [
    "df_county_base['Departement'] = df_county_base.apply(lambda x: getdep(x), axis=1)"
   ]
  },
  {
   "cell_type": "code",
   "execution_count": 544,
   "metadata": {
    "colab": {},
    "colab_type": "code",
    "id": "6lzqECimve2G"
   },
   "outputs": [],
   "source": [
    "df_county_base['Name'] = df_county_base.apply(lambda x: x['Divison administrative'][5:], axis=1)"
   ]
  },
  {
   "cell_type": "code",
   "execution_count": 545,
   "metadata": {
    "colab": {},
    "colab_type": "code",
    "id": "j-_ihVMbpPpL"
   },
   "outputs": [],
   "source": [
    "df_county=df_county_base.sort_values(by=['Departement','Name'])"
   ]
  },
  {
   "cell_type": "code",
   "execution_count": 546,
   "metadata": {
    "colab": {},
    "colab_type": "code",
    "id": "L19tW31GpPpO"
   },
   "outputs": [],
   "source": [
    "df_county = df_county[['Name','Departement','Total']]"
   ]
  },
  {
   "cell_type": "markdown",
   "metadata": {
    "colab_type": "text",
    "id": "8pfRokQfwPJN"
   },
   "source": [
    "### get localisation from geocoder"
   ]
  },
  {
   "cell_type": "code",
   "execution_count": 547,
   "metadata": {
    "colab": {},
    "colab_type": "code",
    "id": "B9-lP762wVQJ"
   },
   "outputs": [],
   "source": [
    "def get_coor_county(x):\n",
    "  g=geocoder.geonames(x['Name']+' '+x['Departement']+' Benin',key='5danalfaro')\n",
    "  return [g.lat,g.lng]"
   ]
  },
  {
   "cell_type": "code",
   "execution_count": 548,
   "metadata": {
    "colab": {},
    "colab_type": "code",
    "id": "Gi7_NMQywVQP"
   },
   "outputs": [],
   "source": [
    "df_county['Coordinates'] = df_county.apply(lambda x: get_coor_county(x),axis=1)"
   ]
  },
  {
   "cell_type": "code",
   "execution_count": 549,
   "metadata": {
    "colab": {},
    "colab_type": "code",
    "id": "_5K5BGvDwVQR"
   },
   "outputs": [],
   "source": [
    "df_county['Latitude'] = df_county.apply(lambda x: x['Coordinates'][0],axis=1)"
   ]
  },
  {
   "cell_type": "code",
   "execution_count": 550,
   "metadata": {
    "colab": {},
    "colab_type": "code",
    "id": "Pn6_1EIbwVQU"
   },
   "outputs": [],
   "source": [
    "df_county['Longitude'] = df_county.apply(lambda x: x['Coordinates'][1],axis=1)"
   ]
  },
  {
   "cell_type": "code",
   "execution_count": 551,
   "metadata": {
    "colab": {},
    "colab_type": "code",
    "id": "txN40jfdwVQW"
   },
   "outputs": [],
   "source": [
    "df_county=df_county[['Name','Departement','Latitude','Longitude','Total']]"
   ]
  },
  {
   "cell_type": "code",
   "execution_count": 552,
   "metadata": {
    "colab": {},
    "colab_type": "code",
    "id": "a4QqtNPzwVQY"
   },
   "outputs": [],
   "source": [
    "df_county.columns = ['Name','State','Latitude','Longitude','Population']"
   ]
  },
  {
   "cell_type": "markdown",
   "metadata": {
    "colab_type": "text",
    "id": "7hNKLaj6wVQa"
   },
   "source": [
    "Check if everything is okay, exported to csv and uploaded to google mymaps"
   ]
  },
  {
   "cell_type": "code",
   "execution_count": 0,
   "metadata": {
    "colab": {},
    "colab_type": "code",
    "id": "0tUzIvrewVQb"
   },
   "outputs": [],
   "source": [
    "df_county.to_csv('dis.csv')"
   ]
  },
  {
   "cell_type": "markdown",
   "metadata": {
    "colab_type": "text",
    "id": "BpIKLh9pkLbw"
   },
   "source": [
    "https://drive.google.com/open?id=1yJeiKBrO8j9GE10wYyRmjnQqxufG-YT0&usp=sharing seems all right"
   ]
  },
  {
   "cell_type": "markdown",
   "metadata": {
    "colab_type": "text",
    "id": "W_u29xyQMT1_"
   },
   "source": [
    "## DISTRICT DB"
   ]
  },
  {
   "cell_type": "code",
   "execution_count": 553,
   "metadata": {
    "colab": {},
    "colab_type": "code",
    "id": "Abv3QqW0MT2C"
   },
   "outputs": [],
   "source": [
    "df_dis = df_rpgh4[df_rpgh4['Divison administrative'].str[0:7] == 'ARROND:'].copy()"
   ]
  },
  {
   "cell_type": "code",
   "execution_count": 554,
   "metadata": {
    "colab": {},
    "colab_type": "code",
    "id": "MBIbGl6sMT2E"
   },
   "outputs": [],
   "source": [
    "df_dis=df_dis.reset_index()"
   ]
  },
  {
   "cell_type": "code",
   "execution_count": 555,
   "metadata": {
    "colab": {},
    "colab_type": "code",
    "id": "RhA3LcApMT2G"
   },
   "outputs": [],
   "source": [
    "def getcounty(x):\n",
    "  l_county_in = df_county_base['index'].to_list()\n",
    "  row = x['index']\n",
    "  for i,index in enumerate(l_county_in):\n",
    "    if i+1< len(l_county_in):\n",
    "      if ((index < row) and (row<l_county_in[i+1])):\n",
    "        return df_county_base[df_county_base['index']==index]['Name'].values[0]\n",
    "    else:\n",
    "      if(index < row):\n",
    "        return df_county_base[df_county_base['index']==index]['Name'].values[0]"
   ]
  },
  {
   "cell_type": "code",
   "execution_count": 556,
   "metadata": {
    "colab": {},
    "colab_type": "code",
    "id": "ZFLJCzawMT2J"
   },
   "outputs": [],
   "source": [
    "df_dis['Commune'] = df_dis.apply(lambda x: getcounty(x), axis=1)"
   ]
  },
  {
   "cell_type": "code",
   "execution_count": 557,
   "metadata": {
    "colab": {},
    "colab_type": "code",
    "id": "b-mdgF2XUNk-"
   },
   "outputs": [],
   "source": [
    "df_dis['Departement'] = df_dis.apply(lambda x: getdep(x), axis=1)"
   ]
  },
  {
   "cell_type": "code",
   "execution_count": 558,
   "metadata": {
    "colab": {},
    "colab_type": "code",
    "id": "0oNLmrvHMT2K"
   },
   "outputs": [],
   "source": [
    "df_dis['Name'] = df_dis.apply(lambda x: x['Divison administrative'][8:], axis=1)"
   ]
  },
  {
   "cell_type": "code",
   "execution_count": 559,
   "metadata": {
    "colab": {},
    "colab_type": "code",
    "id": "64CvhoavMT2M"
   },
   "outputs": [],
   "source": [
    "df_dis=df_dis.sort_values(by=['Departement','Commune','Name'])"
   ]
  },
  {
   "cell_type": "code",
   "execution_count": 560,
   "metadata": {
    "colab": {},
    "colab_type": "code",
    "id": "w7clwwhgMT2O"
   },
   "outputs": [],
   "source": [
    "df_dis = df_dis[['Name','Departement','Commune','Total']]"
   ]
  },
  {
   "cell_type": "markdown",
   "metadata": {
    "colab_type": "text",
    "id": "5xlEC_UyMT2Q"
   },
   "source": [
    "### get localisation from geocoder"
   ]
  },
  {
   "cell_type": "code",
   "execution_count": 561,
   "metadata": {
    "colab": {},
    "colab_type": "code",
    "id": "gL9sGeh0MT2R"
   },
   "outputs": [],
   "source": [
    "def get_coor_dis(x):\n",
    "  g=geocoder.geonames(x['Name']+' '+x['Commune']+' '+x['Departement']+' Benin',key='5danalfaro')\n",
    "  return [g.lat,g.lng]"
   ]
  },
  {
   "cell_type": "code",
   "execution_count": 562,
   "metadata": {
    "colab": {},
    "colab_type": "code",
    "id": "tN6OkpuYMT2S"
   },
   "outputs": [],
   "source": [
    "df_dis['Coordinates'] = df_dis.apply(lambda x: get_coor_dis(x),axis=1)"
   ]
  },
  {
   "cell_type": "code",
   "execution_count": 563,
   "metadata": {
    "colab": {},
    "colab_type": "code",
    "id": "lFT4Jrb6MT2W"
   },
   "outputs": [],
   "source": [
    "df_dis['Latitude'] = df_dis.apply(lambda x: x['Coordinates'][0],axis=1)"
   ]
  },
  {
   "cell_type": "code",
   "execution_count": 564,
   "metadata": {
    "colab": {},
    "colab_type": "code",
    "id": "Aj6PxvAqMT2Z"
   },
   "outputs": [],
   "source": [
    "df_dis['Longitude'] = df_dis.apply(lambda x: x['Coordinates'][1],axis=1)"
   ]
  },
  {
   "cell_type": "code",
   "execution_count": 565,
   "metadata": {
    "colab": {},
    "colab_type": "code",
    "id": "V3KslbaeMT2c"
   },
   "outputs": [],
   "source": [
    "df_dis=df_dis[['Name','Departement','Commune','Latitude','Longitude','Total']]"
   ]
  },
  {
   "cell_type": "code",
   "execution_count": 566,
   "metadata": {
    "colab": {},
    "colab_type": "code",
    "id": "5vtEy_E8MT2e"
   },
   "outputs": [],
   "source": [
    "df_dis.columns = ['Name','State','County','Latitude','Longitude','Population']"
   ]
  },
  {
   "cell_type": "markdown",
   "metadata": {
    "colab_type": "text",
    "id": "o0Hmj6bbMT2f"
   },
   "source": [
    "Check if everything is okay, exported to csv and uploaded to google mymaps"
   ]
  },
  {
   "cell_type": "code",
   "execution_count": 0,
   "metadata": {
    "colab": {},
    "colab_type": "code",
    "id": "9oGduX9ZMT2g"
   },
   "outputs": [],
   "source": [
    "df_dis.to_csv('dis.csv')"
   ]
  },
  {
   "cell_type": "markdown",
   "metadata": {
    "colab_type": "text",
    "id": "qOLi-mgMMT2h"
   },
   "source": [
    "https://drive.google.com/open?id=1yJeiKBrO8j9GE10wYyRmjnQqxufG-YT0&usp=sharing some mistakes in locating the districts"
   ]
  },
  {
   "cell_type": "markdown",
   "metadata": {
    "colab_type": "text",
    "id": "2578uhpY5sbB"
   },
   "source": [
    "## VILLAGES\n",
    "\n",
    "Only Nikki - get villages from work done by FICAI: https://www.google.com/maps/d/edit?mid=1te53KEJYUJ2ulJLsGpa9S15suY1lNPGQ&ll=10.108170603054887%2C2.9732788000000028&z=8"
   ]
  },
  {
   "cell_type": "code",
   "execution_count": 48,
   "metadata": {
    "colab": {},
    "colab_type": "code",
    "id": "wz-sJyZbP0Tr"
   },
   "outputs": [],
   "source": [
    "import xml.sax, xml.sax.handler\n",
    "import re\n",
    "from zipfile import ZipFile"
   ]
  },
  {
   "cell_type": "code",
   "execution_count": 49,
   "metadata": {
    "colab": {},
    "colab_type": "code",
    "id": "e_WHVGatP2v1"
   },
   "outputs": [],
   "source": [
    "filename = 'Poblacion.kmz'\n",
    "\n",
    "kmz = ZipFile(filename, 'r')\n",
    "kml = kmz.open('doc.kml', 'r')"
   ]
  },
  {
   "cell_type": "code",
   "execution_count": 50,
   "metadata": {
    "colab": {},
    "colab_type": "code",
    "id": "LkMQlzjNP38T"
   },
   "outputs": [],
   "source": [
    "\n",
    "class PlacemarkHandler(xml.sax.handler.ContentHandler):\n",
    "    def __init__(self):\n",
    "        self.inName = False # handle XML parser events\n",
    "        self.inPlacemark = False\n",
    "        self.mapping = {} \n",
    "        self.buffer = \"\"\n",
    "        self.name_tag = \"\"\n",
    "        \n",
    "    def startElement(self, name, attributes):\n",
    "        if name == \"Placemark\": # on start Placemark tag\n",
    "            self.inPlacemark = True\n",
    "            self.buffer = \"\" \n",
    "        if self.inPlacemark:\n",
    "            if name == \"name\": # on start title tag\n",
    "                self.inName = True # save name text to follow\n",
    "            \n",
    "    def characters(self, data):\n",
    "        if self.inPlacemark: # on text within tag\n",
    "            self.buffer += data # save text if in title\n",
    "            \n",
    "    def endElement(self, name):\n",
    "        self.buffer = self.buffer.strip('\\n\\t')\n",
    "        \n",
    "        if name == \"Placemark\":\n",
    "            self.inPlacemark = False\n",
    "            self.name_tag = \"\" #clear current name\n",
    "        \n",
    "        elif name == \"name\" and self.inPlacemark:\n",
    "            self.inName = False # on end title tag            \n",
    "            self.name_tag = self.buffer.strip()\n",
    "            self.mapping[self.name_tag] = {}\n",
    "        elif self.inPlacemark:\n",
    "            if name in self.mapping[self.name_tag]:\n",
    "                self.mapping[self.name_tag][name] += self.buffer\n",
    "            else:\n",
    "                self.mapping[self.name_tag][name] = self.buffer\n",
    "        self.buffer = \"\""
   ]
  },
  {
   "cell_type": "code",
   "execution_count": 51,
   "metadata": {
    "colab": {},
    "colab_type": "code",
    "id": "s1mDSxzoP7Yx"
   },
   "outputs": [],
   "source": [
    "parser = xml.sax.make_parser()\n",
    "handler = PlacemarkHandler()\n",
    "parser.setContentHandler(handler)\n",
    "parser.parse(kml)\n",
    "kmz.close()"
   ]
  },
  {
   "cell_type": "code",
   "execution_count": 52,
   "metadata": {
    "colab": {},
    "colab_type": "code",
    "id": "AQdpmkT7P9Sz"
   },
   "outputs": [],
   "source": [
    "def build_table(mapping):\n",
    "    sep = ','\n",
    "        \n",
    "    output = []\n",
    "    shapes = ''\n",
    "    for key in mapping:\n",
    "        coord_str = mapping[key]['coordinates']\n",
    "        coords = re.findall('\\d.*,.*\\d', coord_str )\n",
    "        coord = coords[0].replace(',0',\"\")\n",
    "        coord = coord.split(',')\n",
    "        name = key.split(' - ')\n",
    "        if len(name)==1:\n",
    "          continue\n",
    "        else:\n",
    "          output.append({'Name':name[1],'Arrondissement':name[0],'Longitude':coord[0],'Latitude':coord[1]})\n",
    "    return output"
   ]
  },
  {
   "cell_type": "code",
   "execution_count": 53,
   "metadata": {
    "colab": {},
    "colab_type": "code",
    "id": "WxA3KXR5QDga"
   },
   "outputs": [],
   "source": [
    "outstr = build_table(handler.mapping)"
   ]
  },
  {
   "cell_type": "code",
   "execution_count": 230,
   "metadata": {
    "colab": {},
    "colab_type": "code",
    "id": "U7HxCulFQPTY"
   },
   "outputs": [],
   "source": [
    "df_villages = pd.DataFrame(outstr)"
   ]
  },
  {
   "cell_type": "code",
   "execution_count": 231,
   "metadata": {
    "colab": {},
    "colab_type": "code",
    "id": "8rA-rc7IQP9n"
   },
   "outputs": [],
   "source": [
    "df_villages = df_villages[['Name','Arrondissement','Longitude','Latitude']]"
   ]
  },
  {
   "cell_type": "code",
   "execution_count": 232,
   "metadata": {
    "colab": {},
    "colab_type": "code",
    "id": "YNMMO8bekGDT"
   },
   "outputs": [],
   "source": [
    "df_villages['Arrondissement'] = df_villages.apply(lambda x: 'GNONKOUROKALI' \n",
    "                                                  if bool(re.search('gnonkou',x['Arrondissement'].lower()))\n",
    "                                                  else str(x['Arrondissement']).upper(), \n",
    "                                                  axis=1)"
   ]
  },
  {
   "cell_type": "code",
   "execution_count": 234,
   "metadata": {},
   "outputs": [
    {
     "data": {
      "text/plain": [
       "84"
      ]
     },
     "execution_count": 234,
     "metadata": {},
     "output_type": "execute_result"
    }
   ],
   "source": [
    "len(df_villages)"
   ]
  },
  {
   "cell_type": "code",
   "execution_count": 235,
   "metadata": {},
   "outputs": [
    {
     "data": {
      "text/plain": [
       "90"
      ]
     },
     "execution_count": 235,
     "metadata": {},
     "output_type": "execute_result"
    }
   ],
   "source": [
    "len(df_lisette['Village'].unique())"
   ]
  },
  {
   "cell_type": "code",
   "execution_count": 250,
   "metadata": {},
   "outputs": [],
   "source": [
    "df_villages_lisette =df_lisette.groupby('Village')[['Localite','Longitude_decimals',\n",
    "                              'Latitude_decimals']].apply(lambda group_series: \n",
    "                                                          (group_series['Localite'].tolist(),\n",
    "                                                          group_series['Longitude_decimals'].tolist(),\n",
    "                                                          group_series['Latitude_decimals'].tolist())).reset_index()\n"
   ]
  },
  {
   "cell_type": "code",
   "execution_count": 251,
   "metadata": {},
   "outputs": [],
   "source": [
    "df_villages_lisette['Arrondissement']=df_villages_lisette.apply(lambda x: \n",
    "                          df_lisette[df_lisette['Village']==x['Village']]['Arrondissement'].values[0],\n",
    "                         axis=1)"
   ]
  },
  {
   "cell_type": "code",
   "execution_count": 252,
   "metadata": {},
   "outputs": [],
   "source": [
    "df_villages_lisette['Arrondissement'] = df_villages_lisette.apply(lambda x: 'GNONKOUROKALI' \n",
    "                                                  if bool(re.search('gnonkou',x['Arrondissement'].lower()))\n",
    "                                                  else str(x['Arrondissement']).upper(), \n",
    "                                                  axis=1)"
   ]
  },
  {
   "cell_type": "code",
   "execution_count": 253,
   "metadata": {},
   "outputs": [],
   "source": [
    "l_villages = df_villages_lisette['Village'].to_list()\n",
    "df_villages[['Village','match']]=df_villages.apply(lambda x: pd.Series([(a[0],a[1]) for a in process.extract(x['Name'], \n",
    "                                                                 l_villages, \n",
    "                                                                 limit=1)][0]), axis=1)\n"
   ]
  },
  {
   "cell_type": "code",
   "execution_count": 293,
   "metadata": {},
   "outputs": [
    {
     "data": {
      "text/html": [
       "<div>\n",
       "<style scoped>\n",
       "    .dataframe tbody tr th:only-of-type {\n",
       "        vertical-align: middle;\n",
       "    }\n",
       "\n",
       "    .dataframe tbody tr th {\n",
       "        vertical-align: top;\n",
       "    }\n",
       "\n",
       "    .dataframe thead th {\n",
       "        text-align: right;\n",
       "    }\n",
       "</style>\n",
       "<table border=\"1\" class=\"dataframe\">\n",
       "  <thead>\n",
       "    <tr style=\"text-align: right;\">\n",
       "      <th></th>\n",
       "      <th>Name</th>\n",
       "      <th>Arrondissement</th>\n",
       "      <th>Longitude</th>\n",
       "      <th>Latitude</th>\n",
       "      <th>Village</th>\n",
       "      <th>match</th>\n",
       "    </tr>\n",
       "  </thead>\n",
       "  <tbody>\n",
       "    <tr>\n",
       "      <th>19</th>\n",
       "      <td>Ouenou</td>\n",
       "      <td>OUENOU</td>\n",
       "      <td>3.2696342</td>\n",
       "      <td>9.9095441</td>\n",
       "      <td>OUENOU -NIKKI</td>\n",
       "      <td>90</td>\n",
       "    </tr>\n",
       "    <tr>\n",
       "      <th>21</th>\n",
       "      <td>Ourmon</td>\n",
       "      <td>OUENOU</td>\n",
       "      <td>3.3334923</td>\n",
       "      <td>9.8792314</td>\n",
       "      <td>OUROUMON</td>\n",
       "      <td>86</td>\n",
       "    </tr>\n",
       "    <tr>\n",
       "      <th>23</th>\n",
       "      <td>Tchikandou</td>\n",
       "      <td>OUENOU</td>\n",
       "      <td>3.3567309</td>\n",
       "      <td>9.8400999</td>\n",
       "      <td>TCHICANDOU</td>\n",
       "      <td>90</td>\n",
       "    </tr>\n",
       "    <tr>\n",
       "      <th>24</th>\n",
       "      <td>Gotel Centre</td>\n",
       "      <td>OUENOU</td>\n",
       "      <td>3.3747768</td>\n",
       "      <td>9.8603745</td>\n",
       "      <td>GOTEL</td>\n",
       "      <td>90</td>\n",
       "    </tr>\n",
       "    <tr>\n",
       "      <th>28</th>\n",
       "      <td>Gnel sanna</td>\n",
       "      <td>OUENOU</td>\n",
       "      <td>3.4461451</td>\n",
       "      <td>9.9443769</td>\n",
       "      <td>GNELSANDA</td>\n",
       "      <td>84</td>\n",
       "    </tr>\n",
       "    <tr>\n",
       "      <th>29</th>\n",
       "      <td>Goussogui Gouré Baba</td>\n",
       "      <td>OUENOU</td>\n",
       "      <td>3.4822369</td>\n",
       "      <td>9.9212963</td>\n",
       "      <td>GOSSOGUI- GOUREBABA</td>\n",
       "      <td>89</td>\n",
       "    </tr>\n",
       "    <tr>\n",
       "      <th>30</th>\n",
       "      <td>Barkedje (Gothel Centre)</td>\n",
       "      <td>OUENOU</td>\n",
       "      <td>3.3813429</td>\n",
       "      <td>9.8537362</td>\n",
       "      <td>BARKEDJE</td>\n",
       "      <td>90</td>\n",
       "    </tr>\n",
       "    <tr>\n",
       "      <th>36</th>\n",
       "      <td>Serekale Baka</td>\n",
       "      <td>SEREKALE</td>\n",
       "      <td>3.0428481</td>\n",
       "      <td>9.9187388</td>\n",
       "      <td>SEREKALI -BAKA</td>\n",
       "      <td>89</td>\n",
       "    </tr>\n",
       "    <tr>\n",
       "      <th>47</th>\n",
       "      <td>Dema</td>\n",
       "      <td>TASSO</td>\n",
       "      <td>3.1871939</td>\n",
       "      <td>9.7339712</td>\n",
       "      <td>DEMAN</td>\n",
       "      <td>89</td>\n",
       "    </tr>\n",
       "    <tr>\n",
       "      <th>54</th>\n",
       "      <td>Gbarire</td>\n",
       "      <td>TASSO</td>\n",
       "      <td>3.1944466</td>\n",
       "      <td>9.6748975</td>\n",
       "      <td>GBABIRE</td>\n",
       "      <td>86</td>\n",
       "    </tr>\n",
       "  </tbody>\n",
       "</table>\n",
       "</div>"
      ],
      "text/plain": [
       "                        Name Arrondissement  Longitude   Latitude  \\\n",
       "19                    Ouenou         OUENOU  3.2696342  9.9095441   \n",
       "21                    Ourmon         OUENOU  3.3334923  9.8792314   \n",
       "23                Tchikandou         OUENOU  3.3567309  9.8400999   \n",
       "24              Gotel Centre         OUENOU  3.3747768  9.8603745   \n",
       "28                Gnel sanna         OUENOU  3.4461451  9.9443769   \n",
       "29      Goussogui Gouré Baba         OUENOU  3.4822369  9.9212963   \n",
       "30  Barkedje (Gothel Centre)         OUENOU  3.3813429  9.8537362   \n",
       "36             Serekale Baka       SEREKALE  3.0428481  9.9187388   \n",
       "47                      Dema          TASSO  3.1871939  9.7339712   \n",
       "54                   Gbarire          TASSO  3.1944466  9.6748975   \n",
       "\n",
       "                Village  match  \n",
       "19        OUENOU -NIKKI     90  \n",
       "21             OUROUMON     86  \n",
       "23           TCHICANDOU     90  \n",
       "24                GOTEL     90  \n",
       "28            GNELSANDA     84  \n",
       "29  GOSSOGUI- GOUREBABA     89  \n",
       "30             BARKEDJE     90  \n",
       "36       SEREKALI -BAKA     89  \n",
       "47                DEMAN     89  \n",
       "54              GBABIRE     86  "
      ]
     },
     "execution_count": 293,
     "metadata": {},
     "output_type": "execute_result"
    }
   ],
   "source": [
    "df_villages[df_villages['match']<92]"
   ]
  },
  {
   "cell_type": "code",
   "execution_count": 294,
   "metadata": {},
   "outputs": [
    {
     "data": {
      "text/plain": [
       "[('BARKEDJE', 90), ('GOTEL', 72)]"
      ]
     },
     "execution_count": 294,
     "metadata": {},
     "output_type": "execute_result"
    }
   ],
   "source": [
    "reanalysis='Barkedje (Gothel Centre)'\n",
    "process.extract(reanalysis,l_villages,limit=2)"
   ]
  },
  {
   "cell_type": "code",
   "execution_count": 295,
   "metadata": {},
   "outputs": [],
   "source": [
    "df_villages.loc[30,'Village']='GOTEL'"
   ]
  },
  {
   "cell_type": "code",
   "execution_count": 296,
   "metadata": {},
   "outputs": [
    {
     "data": {
      "text/html": [
       "<div>\n",
       "<style scoped>\n",
       "    .dataframe tbody tr th:only-of-type {\n",
       "        vertical-align: middle;\n",
       "    }\n",
       "\n",
       "    .dataframe tbody tr th {\n",
       "        vertical-align: top;\n",
       "    }\n",
       "\n",
       "    .dataframe thead th {\n",
       "        text-align: right;\n",
       "    }\n",
       "</style>\n",
       "<table border=\"1\" class=\"dataframe\">\n",
       "  <thead>\n",
       "    <tr style=\"text-align: right;\">\n",
       "      <th></th>\n",
       "      <th>Name</th>\n",
       "      <th>Arrondissement</th>\n",
       "      <th>Longitude</th>\n",
       "      <th>Latitude</th>\n",
       "      <th>Village</th>\n",
       "      <th>match</th>\n",
       "    </tr>\n",
       "  </thead>\n",
       "  <tbody>\n",
       "    <tr>\n",
       "      <th>24</th>\n",
       "      <td>Gotel Centre</td>\n",
       "      <td>OUENOU</td>\n",
       "      <td>3.3747768</td>\n",
       "      <td>9.8603745</td>\n",
       "      <td>GOTEL</td>\n",
       "      <td>90</td>\n",
       "    </tr>\n",
       "    <tr>\n",
       "      <th>30</th>\n",
       "      <td>Barkedje (Gothel Centre)</td>\n",
       "      <td>OUENOU</td>\n",
       "      <td>3.3813429</td>\n",
       "      <td>9.8537362</td>\n",
       "      <td>GOTEL</td>\n",
       "      <td>90</td>\n",
       "    </tr>\n",
       "  </tbody>\n",
       "</table>\n",
       "</div>"
      ],
      "text/plain": [
       "                        Name Arrondissement  Longitude   Latitude Village  \\\n",
       "24              Gotel Centre         OUENOU  3.3747768  9.8603745   GOTEL   \n",
       "30  Barkedje (Gothel Centre)         OUENOU  3.3813429  9.8537362   GOTEL   \n",
       "\n",
       "    match  \n",
       "24     90  \n",
       "30     90  "
      ]
     },
     "execution_count": 296,
     "metadata": {},
     "output_type": "execute_result"
    }
   ],
   "source": [
    "df_villages[df_villages['Village']=='GOTEL']"
   ]
  },
  {
   "cell_type": "code",
   "execution_count": 303,
   "metadata": {},
   "outputs": [
    {
     "data": {
      "text/plain": [
       "[2]"
      ]
     },
     "execution_count": 303,
     "metadata": {},
     "output_type": "execute_result"
    }
   ],
   "source": [
    "[val for val in df_villages['Village'].value_counts().sort_values() if val>1]"
   ]
  },
  {
   "cell_type": "code",
   "execution_count": 308,
   "metadata": {},
   "outputs": [],
   "source": [
    "#df_villages=df_villages.drop(30)\n",
    "df_villages=df_villages.reset_index()"
   ]
  },
  {
   "cell_type": "code",
   "execution_count": 311,
   "metadata": {},
   "outputs": [],
   "source": [
    "df_villages=df_villages.drop('index',axis=1)"
   ]
  },
  {
   "cell_type": "code",
   "execution_count": 312,
   "metadata": {},
   "outputs": [],
   "source": [
    "df_villages_loc_pumps=pd.merge(df_villages_lisette,df_villages,on='Village',how='outer')"
   ]
  },
  {
   "cell_type": "code",
   "execution_count": 313,
   "metadata": {},
   "outputs": [],
   "source": [
    "def getcoord_loc(x):\n",
    "    local=x[0]\n",
    "    l_local=local[0]\n",
    "    village=x['Village']\n",
    "    \n",
    "    match=[(a[0]) for a in process.extract(village, \n",
    "                                           l_local, \n",
    "                                           limit=1)][0]\n",
    "    long=local[1][l_local.index(match)]\n",
    "    lat=local[2][l_local.index(match)]\n",
    "    \n",
    "    for col,value in zip(['Name','Latitude','Longitude'],[match,lat,long] ):\n",
    "    \n",
    "        df_villages_loc_pumps.loc[x.name,col] = value"
   ]
  },
  {
   "cell_type": "code",
   "execution_count": 314,
   "metadata": {},
   "outputs": [
    {
     "data": {
      "text/plain": [
       "8     None\n",
       "12    None\n",
       "20    None\n",
       "49    None\n",
       "83    None\n",
       "88    None\n",
       "89    None\n",
       "dtype: object"
      ]
     },
     "execution_count": 314,
     "metadata": {},
     "output_type": "execute_result"
    }
   ],
   "source": [
    "df_reanalysis = df_villages_loc_pumps[df_villages_loc_pumps['Name'].isna()]\n",
    "df_reanalysis.apply(lambda x: getcoord_loc(x), axis=1)"
   ]
  },
  {
   "cell_type": "code",
   "execution_count": 315,
   "metadata": {},
   "outputs": [
    {
     "data": {
      "text/html": [
       "<div>\n",
       "<style scoped>\n",
       "    .dataframe tbody tr th:only-of-type {\n",
       "        vertical-align: middle;\n",
       "    }\n",
       "\n",
       "    .dataframe tbody tr th {\n",
       "        vertical-align: top;\n",
       "    }\n",
       "\n",
       "    .dataframe thead th {\n",
       "        text-align: right;\n",
       "    }\n",
       "</style>\n",
       "<table border=\"1\" class=\"dataframe\">\n",
       "  <thead>\n",
       "    <tr style=\"text-align: right;\">\n",
       "      <th></th>\n",
       "      <th>Village</th>\n",
       "      <th>0</th>\n",
       "      <th>Arrondissement_x</th>\n",
       "      <th>Name</th>\n",
       "      <th>Arrondissement_y</th>\n",
       "      <th>Longitude</th>\n",
       "      <th>Latitude</th>\n",
       "      <th>match</th>\n",
       "    </tr>\n",
       "  </thead>\n",
       "  <tbody>\n",
       "    <tr>\n",
       "      <th>8</th>\n",
       "      <td>BOO</td>\n",
       "      <td>([BOOH  1], [3.403436111111111], [9.980075])</td>\n",
       "      <td>NIKKI</td>\n",
       "      <td>BOOH  1</td>\n",
       "      <td>NaN</td>\n",
       "      <td>3.40344</td>\n",
       "      <td>9.98007</td>\n",
       "      <td>NaN</td>\n",
       "    </tr>\n",
       "    <tr>\n",
       "      <th>12</th>\n",
       "      <td>DANNON</td>\n",
       "      <td>([DANNON, GANDO BAKA], [3.050969444444444, 3.0...</td>\n",
       "      <td>SUYA</td>\n",
       "      <td>DANNON</td>\n",
       "      <td>NaN</td>\n",
       "      <td>3.05097</td>\n",
       "      <td>9.77238</td>\n",
       "      <td>NaN</td>\n",
       "    </tr>\n",
       "    <tr>\n",
       "      <th>20</th>\n",
       "      <td>GAH-GBEROU</td>\n",
       "      <td>([Bona Soua, Sèkentè], [3.3064194444444444, 3....</td>\n",
       "      <td>TASSO</td>\n",
       "      <td>Bona Soua</td>\n",
       "      <td>NaN</td>\n",
       "      <td>3.30642</td>\n",
       "      <td>9.73383</td>\n",
       "      <td>NaN</td>\n",
       "    </tr>\n",
       "    <tr>\n",
       "      <th>49</th>\n",
       "      <td>KOUSSOUKOU</td>\n",
       "      <td>([KRIKOUBE, GOURE BANGUI, KOUSSOUKOU 1, KRIKOU...</td>\n",
       "      <td>NIKKI</td>\n",
       "      <td>KOUSSOUKOU 1</td>\n",
       "      <td>NaN</td>\n",
       "      <td>3.24281</td>\n",
       "      <td>9.98464</td>\n",
       "      <td>NaN</td>\n",
       "    </tr>\n",
       "    <tr>\n",
       "      <th>83</th>\n",
       "      <td>TOTOROU</td>\n",
       "      <td>([TOTOROU], [3.2006555555555556], [9.951266666...</td>\n",
       "      <td>NIKKI</td>\n",
       "      <td>TOTOROU</td>\n",
       "      <td>NaN</td>\n",
       "      <td>3.20066</td>\n",
       "      <td>9.95127</td>\n",
       "      <td>NaN</td>\n",
       "    </tr>\n",
       "    <tr>\n",
       "      <th>88</th>\n",
       "      <td>YAO-GOUROU</td>\n",
       "      <td>([Kinta, Gah baka, Gnelkourarou, Bonyakou], [3...</td>\n",
       "      <td>SEREKALE</td>\n",
       "      <td>Gnelkourarou</td>\n",
       "      <td>NaN</td>\n",
       "      <td>3.02861</td>\n",
       "      <td>10.0606</td>\n",
       "      <td>NaN</td>\n",
       "    </tr>\n",
       "    <tr>\n",
       "      <th>89</th>\n",
       "      <td>YORAROU</td>\n",
       "      <td>([Séré Gando, Yorarou, Yorarou, Dakarou, Damon...</td>\n",
       "      <td>SEREKALE</td>\n",
       "      <td>Yorarou</td>\n",
       "      <td>NaN</td>\n",
       "      <td>3.04201</td>\n",
       "      <td>9.91689</td>\n",
       "      <td>NaN</td>\n",
       "    </tr>\n",
       "  </tbody>\n",
       "</table>\n",
       "</div>"
      ],
      "text/plain": [
       "       Village                                                  0  \\\n",
       "8          BOO       ([BOOH  1], [3.403436111111111], [9.980075])   \n",
       "12      DANNON  ([DANNON, GANDO BAKA], [3.050969444444444, 3.0...   \n",
       "20  GAH-GBEROU  ([Bona Soua, Sèkentè], [3.3064194444444444, 3....   \n",
       "49  KOUSSOUKOU  ([KRIKOUBE, GOURE BANGUI, KOUSSOUKOU 1, KRIKOU...   \n",
       "83     TOTOROU  ([TOTOROU], [3.2006555555555556], [9.951266666...   \n",
       "88  YAO-GOUROU  ([Kinta, Gah baka, Gnelkourarou, Bonyakou], [3...   \n",
       "89     YORAROU  ([Séré Gando, Yorarou, Yorarou, Dakarou, Damon...   \n",
       "\n",
       "   Arrondissement_x          Name Arrondissement_y Longitude Latitude  match  \n",
       "8             NIKKI       BOOH  1              NaN   3.40344  9.98007    NaN  \n",
       "12             SUYA        DANNON              NaN   3.05097  9.77238    NaN  \n",
       "20            TASSO     Bona Soua              NaN   3.30642  9.73383    NaN  \n",
       "49            NIKKI  KOUSSOUKOU 1              NaN   3.24281  9.98464    NaN  \n",
       "83            NIKKI       TOTOROU              NaN   3.20066  9.95127    NaN  \n",
       "88         SEREKALE  Gnelkourarou              NaN   3.02861  10.0606    NaN  \n",
       "89         SEREKALE       Yorarou              NaN   3.04201  9.91689    NaN  "
      ]
     },
     "execution_count": 315,
     "metadata": {},
     "output_type": "execute_result"
    }
   ],
   "source": [
    "df_villages_loc_pumps[df_villages_loc_pumps['Arrondissement_x']!=df_villages_loc_pumps['Arrondissement_y']]"
   ]
  },
  {
   "cell_type": "markdown",
   "metadata": {},
   "source": [
    "#All the village list in this picture\n",
    "\n",
    "<a href=\"https://drive.google.com/open?id=1W2HTUI9EqR_WdigA1m-tfFJ5NryyzqeS\" target=\"_parent\"><img src=\"http://icons.iconarchive.com/icons/marcus-roberto/google-play/256/Google-Drive-icon.png\" alt=\"Open In Drive\"/></a>"
   ]
  },
  {
   "cell_type": "code",
   "execution_count": 316,
   "metadata": {},
   "outputs": [],
   "source": [
    "df_villages_loc_pumps = df_villages_loc_pumps[['Village',0,'Arrondissement_x','Name','Latitude','Longitude']]"
   ]
  },
  {
   "cell_type": "code",
   "execution_count": 317,
   "metadata": {},
   "outputs": [],
   "source": [
    "df_villages_loc_pumps.columns=['Village','pump_loc','Arrondissement','Name','Latitude','Longitude']"
   ]
  },
  {
   "cell_type": "markdown",
   "metadata": {},
   "source": [
    "# LOCALITES"
   ]
  },
  {
   "cell_type": "code",
   "execution_count": null,
   "metadata": {},
   "outputs": [],
   "source": [
    "unidecode.unidecode"
   ]
  },
  {
   "cell_type": "code",
   "execution_count": 332,
   "metadata": {},
   "outputs": [],
   "source": [
    "df_loc_2009 = df_2009.groupby('Localité').agg(\n",
    "                            {\n",
    "                            \"Type d'ouvrage\":'unique',\n",
    "                            \"Population\":'max',\n",
    "                            \"Latitude_decimals\":'mean',\n",
    "                            \"Longitude_decimals\":'mean',\n",
    "                            \"Arrondissement\":'unique',\n",
    "                            \"Village\":'unique'})"
   ]
  },
  {
   "cell_type": "code",
   "execution_count": 333,
   "metadata": {},
   "outputs": [],
   "source": [
    "df_loc_2009.columns = [col for col in df_loc_2009.columns.values]"
   ]
  },
  {
   "cell_type": "code",
   "execution_count": 335,
   "metadata": {},
   "outputs": [],
   "source": [
    "df_loc_2009=df_loc_2009.reset_index()"
   ]
  },
  {
   "cell_type": "code",
   "execution_count": 337,
   "metadata": {},
   "outputs": [],
   "source": [
    "df_loc_2009[['Village','Arrondissement']]=df_loc_2009.apply(lambda x: pd.Series([x['Village'][0],\n",
    "                                                                       x['Arrondissement'][0]]),axis=1)"
   ]
  },
  {
   "cell_type": "code",
   "execution_count": 339,
   "metadata": {},
   "outputs": [],
   "source": [
    "df_loc_2009.Population=pd.to_numeric(df_loc_2009.Population, errors='coerce')"
   ]
  },
  {
   "cell_type": "code",
   "execution_count": 340,
   "metadata": {},
   "outputs": [],
   "source": [
    "def count_pm_fpm(x):\n",
    "    types_ouvrage=list(x[\"Type d'ouvrage\"])\n",
    "    pm=types_ouvrage.count('PM')\n",
    "    fpm=types_ouvrage.count('FPM')\n",
    "    pt=types_ouvrage.count('PT')\n",
    "    none = types_ouvrage.count('/')\n",
    "    \n",
    "    if(len(types_ouvrage)!= (pm+fpm+pt+none)):\n",
    "        print(types_ouvrage)\n",
    "    return [pm,fpm,pt]"
   ]
  },
  {
   "cell_type": "code",
   "execution_count": 341,
   "metadata": {},
   "outputs": [
    {
     "name": "stdout",
     "output_type": "stream",
     "text": [
      "['FPM', 'PT', 'PM', 'BF 1', 'BF 2', 'BF 3', 'BF 4', 'BF 5']\n",
      "['PEA (Rampes de 4 robinets)', 'FPM']\n"
     ]
    }
   ],
   "source": [
    "df_loc_2009[['PM','FPM','PT']]=df_loc_2009.apply(lambda x: pd.Series(count_pm_fpm(x)), axis=1)"
   ]
  },
  {
   "cell_type": "code",
   "execution_count": 342,
   "metadata": {},
   "outputs": [],
   "source": [
    "df_loc_2009=df_loc_2009.drop(\"Type d'ouvrage\",axis=1)"
   ]
  },
  {
   "cell_type": "code",
   "execution_count": 378,
   "metadata": {},
   "outputs": [],
   "source": [
    "df_loc_2009['fpm_lisette']=df_loc_2009['FPM']"
   ]
  },
  {
   "cell_type": "code",
   "execution_count": 385,
   "metadata": {},
   "outputs": [],
   "source": [
    "df_loc_2009['localite_lisette']=df_loc_2009['Localité']"
   ]
  },
  {
   "cell_type": "code",
   "execution_count": 458,
   "metadata": {},
   "outputs": [],
   "source": [
    "l_villages = df_villages_lisette['Village'].to_list()\n",
    "df_loc_2009[['village_lisette','vil_match']]=df_loc_2009.apply(lambda x: pd.Series([(a[0],a[1]) for a in process.extract(x['Village'], \n",
    "                                                                 l_villages, \n",
    "                                                                 limit=1)][0]), axis=1)\n"
   ]
  },
  {
   "cell_type": "code",
   "execution_count": 480,
   "metadata": {},
   "outputs": [
    {
     "name": "stdout",
     "output_type": "stream",
     "text": [
      "SEMEROU serou 83\n",
      "CAMP goure tchame 68\n",
      "MADINA goure waignan 60\n",
      "DANNON bannon 83\n",
      "GOURE GOUDA gossogui goure\n",
      "baaba 86\n",
      "GANCHON gnanhoun 80\n",
      "BOUDAROU bouerou 80\n",
      "Sidi kparou agbo barthelemy kparou 86\n",
      "Gourè Alidou gannoure halidou 86\n",
      "Gnelsanda gnel sanna 84\n",
      "Gneltoko looko 72\n",
      "Banikanni baani 72\n",
      "Sèriaworou serewondirou 73\n",
      "Gourè Kariya goure karea 87\n",
      "Aladji Gaani Kparou alpha kparou 86\n",
      "GREFE KPAROU agbo barthelemy kparou 86\n",
      "Ouenra 1 angankirou 1 86\n",
      "Ouenra 2 angankirou 2 86\n",
      "SACABANSSI MISSION saabo 72\n",
      "SACABANSSI sakabansi 84\n",
      "Baraworou saka worou 74\n",
      "Dadi kparou agbo barthelemy kparou 86\n",
      "Gandérou dandegourou 74\n",
      "SOUNAAROU soumarou 82\n",
      "DJIBRIL KPAROU agbo barthelemy kparou 86\n",
      "TOTOROU tontarou 80\n",
      "Petit paris tepa 68\n",
      "Gah Sounon Kparou alazi kparou (ferme\n",
      "general) 86\n",
      "Dambourasson tepa\n",
      "(danbourasson; tairou kparou) 83\n",
      "nº of localités 278\n"
     ]
    }
   ],
   "source": [
    "i=0\n",
    "locs_2009 = [unidecode.unidecode(loc.lower()) for loc in df_loc_2009['Localité'].to_list()]\n",
    "index\n",
    "for loc_lisette,vill_lisette,arron_lisette in zip(df_villages_loc_pumps['pump_loc'].to_list(),\n",
    "                                                  df_villages_loc_pumps['Village'].to_list(),\n",
    "                                                  df_villages_loc_pumps['Arrondissement'].to_list()):\n",
    "    for loc in list(set(loc_lisette[0])):\n",
    "        find_loc = process.extract(unidecode.unidecode(loc.lower()),locs_2009,limit=1)\n",
    "        i+=1\n",
    "        loc_2009 = find_loc[0][0]\n",
    "        match =find_loc[0][1]\n",
    "        loc_f=process.extract(loc_2009,df_loc_2009['Localité'].to_list(),limit=1)[0][0]\n",
    "        ind=df_loc_2009[df_loc_2009['Localité']==loc_f].index[0]\n",
    "        if find_loc[0][1]<88:\n",
    "            print(loc,loc_2009,match)\n",
    "            df_loc_2009.loc[ind,'fpm_lisette']= None\n",
    "            df_loc_2009.loc[ind,'localite_lisette']= None\n",
    "            df_loc_2009.loc[ind,'arron_lisette']= None\n",
    "        else:\n",
    "            df_loc_2009.loc[ind,'fpm_lisette']=int(loc_lisette[0].count(loc))\n",
    "            df_loc_2009.loc[ind,'localite_lisette']=loc\n",
    "            df_loc_2009.loc[ind,'village_lisette']= vill_lisette\n",
    "            df_loc_2009.loc[ind,'arron_lisette']= arron_lisette\n",
    "            \n",
    "            \n",
    "print('nº of localités %3d'%i)"
   ]
  },
  {
   "cell_type": "code",
   "execution_count": 491,
   "metadata": {},
   "outputs": [
    {
     "data": {
      "text/plain": [
       "'TASSO'"
      ]
     },
     "execution_count": 491,
     "metadata": {},
     "output_type": "execute_result"
    }
   ],
   "source": [
    "df_villages_loc_pumps[df_villages_loc_pumps['Village']=='TANAKPE']['Arrondissement'].values[0]"
   ]
  },
  {
   "cell_type": "code",
   "execution_count": 492,
   "metadata": {},
   "outputs": [],
   "source": [
    "df_loc_2009['arron_lisette']=df_loc_2009.apply(lambda x: df_villages_loc_pumps[\n",
    "                                                        df_villages_loc_pumps['Village']==x['village_lisette']\n",
    "                                                                ]['Arrondissement'].values[0],\n",
    "                                              axis=1)"
   ]
  },
  {
   "cell_type": "code",
   "execution_count": 493,
   "metadata": {},
   "outputs": [
    {
     "data": {
      "text/html": [
       "<div>\n",
       "<style scoped>\n",
       "    .dataframe tbody tr th:only-of-type {\n",
       "        vertical-align: middle;\n",
       "    }\n",
       "\n",
       "    .dataframe tbody tr th {\n",
       "        vertical-align: top;\n",
       "    }\n",
       "\n",
       "    .dataframe thead th {\n",
       "        text-align: right;\n",
       "    }\n",
       "</style>\n",
       "<table border=\"1\" class=\"dataframe\">\n",
       "  <thead>\n",
       "    <tr style=\"text-align: right;\">\n",
       "      <th></th>\n",
       "      <th>Localité</th>\n",
       "      <th>Population</th>\n",
       "      <th>Latitude_decimals</th>\n",
       "      <th>Longitude_decimals</th>\n",
       "      <th>Arrondissement</th>\n",
       "      <th>Village</th>\n",
       "      <th>PM</th>\n",
       "      <th>FPM</th>\n",
       "      <th>PT</th>\n",
       "      <th>fpm_lisette</th>\n",
       "      <th>localite_lisette</th>\n",
       "      <th>village_lisette</th>\n",
       "      <th>match</th>\n",
       "      <th>vil_match</th>\n",
       "      <th>localite</th>\n",
       "      <th>arron_lisette</th>\n",
       "    </tr>\n",
       "  </thead>\n",
       "  <tbody>\n",
       "    <tr>\n",
       "      <th>2</th>\n",
       "      <td>Agbo Barthélémy Kparou</td>\n",
       "      <td>100.0</td>\n",
       "      <td>NaN</td>\n",
       "      <td>NaN</td>\n",
       "      <td>NIKKI</td>\n",
       "      <td>Gori</td>\n",
       "      <td>0</td>\n",
       "      <td>0</td>\n",
       "      <td>0</td>\n",
       "      <td>NaN</td>\n",
       "      <td>None</td>\n",
       "      <td>GORI</td>\n",
       "      <td>100</td>\n",
       "      <td>100</td>\n",
       "      <td>Agbo Barthélémy Kparou</td>\n",
       "      <td>NIKKI</td>\n",
       "    </tr>\n",
       "    <tr>\n",
       "      <th>4</th>\n",
       "      <td>Alazi Kparou (Ferme\\nGénéral)</td>\n",
       "      <td>22.0</td>\n",
       "      <td>10.028500</td>\n",
       "      <td>3.337306</td>\n",
       "      <td>NIKKI</td>\n",
       "      <td>Sakabansi</td>\n",
       "      <td>0</td>\n",
       "      <td>1</td>\n",
       "      <td>0</td>\n",
       "      <td>NaN</td>\n",
       "      <td>None</td>\n",
       "      <td>SAKABANSI</td>\n",
       "      <td>100</td>\n",
       "      <td>100</td>\n",
       "      <td>Alazi Kparou (Ferme\\nGénéral)</td>\n",
       "      <td>NIKKI</td>\n",
       "    </tr>\n",
       "    <tr>\n",
       "      <th>5</th>\n",
       "      <td>Alpha Kparou</td>\n",
       "      <td>73.0</td>\n",
       "      <td>9.891278</td>\n",
       "      <td>2.811806</td>\n",
       "      <td>BIRO</td>\n",
       "      <td>Ourarou</td>\n",
       "      <td>0</td>\n",
       "      <td>1</td>\n",
       "      <td>0</td>\n",
       "      <td>NaN</td>\n",
       "      <td>None</td>\n",
       "      <td>OURAROU</td>\n",
       "      <td>100</td>\n",
       "      <td>100</td>\n",
       "      <td>Alpha Kparou</td>\n",
       "      <td>BIRO</td>\n",
       "    </tr>\n",
       "    <tr>\n",
       "      <th>7</th>\n",
       "      <td>Angankirou 1</td>\n",
       "      <td>283.0</td>\n",
       "      <td>9.796639</td>\n",
       "      <td>3.303056</td>\n",
       "      <td>NIKKI</td>\n",
       "      <td>Tontarou</td>\n",
       "      <td>1</td>\n",
       "      <td>0</td>\n",
       "      <td>0</td>\n",
       "      <td>NaN</td>\n",
       "      <td>None</td>\n",
       "      <td>ANGANKIROU</td>\n",
       "      <td>100</td>\n",
       "      <td>100</td>\n",
       "      <td>Angankirou 1</td>\n",
       "      <td>NIKKI</td>\n",
       "    </tr>\n",
       "    <tr>\n",
       "      <th>8</th>\n",
       "      <td>Angankirou 2</td>\n",
       "      <td>565.0</td>\n",
       "      <td>NaN</td>\n",
       "      <td>NaN</td>\n",
       "      <td>NIKKI</td>\n",
       "      <td>Tontarou</td>\n",
       "      <td>0</td>\n",
       "      <td>0</td>\n",
       "      <td>0</td>\n",
       "      <td>NaN</td>\n",
       "      <td>None</td>\n",
       "      <td>ANGANKIROU</td>\n",
       "      <td>100</td>\n",
       "      <td>100</td>\n",
       "      <td>Angankirou 2</td>\n",
       "      <td>NIKKI</td>\n",
       "    </tr>\n",
       "    <tr>\n",
       "      <th>11</th>\n",
       "      <td>Baani</td>\n",
       "      <td>600.0</td>\n",
       "      <td>10.003000</td>\n",
       "      <td>3.129694</td>\n",
       "      <td>SEREKALE</td>\n",
       "      <td>Ganrou Peuhl</td>\n",
       "      <td>0</td>\n",
       "      <td>1</td>\n",
       "      <td>0</td>\n",
       "      <td>NaN</td>\n",
       "      <td>None</td>\n",
       "      <td>BAANI</td>\n",
       "      <td>90</td>\n",
       "      <td>90</td>\n",
       "      <td>Baani</td>\n",
       "      <td>SEREKALE</td>\n",
       "    </tr>\n",
       "    <tr>\n",
       "      <th>112</th>\n",
       "      <td>Gannourè Halidou</td>\n",
       "      <td>150.0</td>\n",
       "      <td>NaN</td>\n",
       "      <td>NaN</td>\n",
       "      <td>OUENOU</td>\n",
       "      <td>Lafiarou</td>\n",
       "      <td>0</td>\n",
       "      <td>0</td>\n",
       "      <td>0</td>\n",
       "      <td>NaN</td>\n",
       "      <td>None</td>\n",
       "      <td>ALAFIAROU</td>\n",
       "      <td>94</td>\n",
       "      <td>94</td>\n",
       "      <td>Gannourè Halidou</td>\n",
       "      <td>OUENOU</td>\n",
       "    </tr>\n",
       "    <tr>\n",
       "      <th>137</th>\n",
       "      <td>Gnel Sanna</td>\n",
       "      <td>1402.0</td>\n",
       "      <td>9.941889</td>\n",
       "      <td>3.446014</td>\n",
       "      <td>OUENOU</td>\n",
       "      <td>Sansi</td>\n",
       "      <td>1</td>\n",
       "      <td>1</td>\n",
       "      <td>0</td>\n",
       "      <td>NaN</td>\n",
       "      <td>None</td>\n",
       "      <td>SANSI</td>\n",
       "      <td>100</td>\n",
       "      <td>100</td>\n",
       "      <td>Gnel Sanna</td>\n",
       "      <td>OUENOU</td>\n",
       "    </tr>\n",
       "    <tr>\n",
       "      <th>165</th>\n",
       "      <td>Gourè Karèa</td>\n",
       "      <td>160.0</td>\n",
       "      <td>NaN</td>\n",
       "      <td>NaN</td>\n",
       "      <td>GNONKOUROKALI</td>\n",
       "      <td>Guèma</td>\n",
       "      <td>0</td>\n",
       "      <td>0</td>\n",
       "      <td>0</td>\n",
       "      <td>NaN</td>\n",
       "      <td>None</td>\n",
       "      <td>GUEMA</td>\n",
       "      <td>89</td>\n",
       "      <td>89</td>\n",
       "      <td>Gourè Karèa</td>\n",
       "      <td>GNONKOUROKALI</td>\n",
       "    </tr>\n",
       "    <tr>\n",
       "      <th>226</th>\n",
       "      <td>Looko</td>\n",
       "      <td>60.0</td>\n",
       "      <td>NaN</td>\n",
       "      <td>NaN</td>\n",
       "      <td>NIKKI</td>\n",
       "      <td>Sakabansi</td>\n",
       "      <td>0</td>\n",
       "      <td>0</td>\n",
       "      <td>0</td>\n",
       "      <td>NaN</td>\n",
       "      <td>None</td>\n",
       "      <td>SAKABANSI</td>\n",
       "      <td>100</td>\n",
       "      <td>100</td>\n",
       "      <td>Looko</td>\n",
       "      <td>NIKKI</td>\n",
       "    </tr>\n",
       "    <tr>\n",
       "      <th>250</th>\n",
       "      <td>Saabo</td>\n",
       "      <td>100.0</td>\n",
       "      <td>NaN</td>\n",
       "      <td>NaN</td>\n",
       "      <td>NIKKI</td>\n",
       "      <td>Boucanèrè</td>\n",
       "      <td>0</td>\n",
       "      <td>0</td>\n",
       "      <td>0</td>\n",
       "      <td>NaN</td>\n",
       "      <td>None</td>\n",
       "      <td>BOUKANERE</td>\n",
       "      <td>75</td>\n",
       "      <td>75</td>\n",
       "      <td>Saabo</td>\n",
       "      <td>NIKKI</td>\n",
       "    </tr>\n",
       "    <tr>\n",
       "      <th>253</th>\n",
       "      <td>Saka Worou</td>\n",
       "      <td>250.0</td>\n",
       "      <td>9.758528</td>\n",
       "      <td>3.244889</td>\n",
       "      <td>TASSO</td>\n",
       "      <td>Chein</td>\n",
       "      <td>0</td>\n",
       "      <td>1</td>\n",
       "      <td>0</td>\n",
       "      <td>NaN</td>\n",
       "      <td>None</td>\n",
       "      <td>CHEIN-TASSO</td>\n",
       "      <td>90</td>\n",
       "      <td>90</td>\n",
       "      <td>Saka Worou</td>\n",
       "      <td>TASSO</td>\n",
       "    </tr>\n",
       "    <tr>\n",
       "      <th>254</th>\n",
       "      <td>Sakabansi</td>\n",
       "      <td>2163.0</td>\n",
       "      <td>10.040324</td>\n",
       "      <td>3.382921</td>\n",
       "      <td>NIKKI</td>\n",
       "      <td>Sakabansi</td>\n",
       "      <td>1</td>\n",
       "      <td>1</td>\n",
       "      <td>1</td>\n",
       "      <td>NaN</td>\n",
       "      <td>None</td>\n",
       "      <td>SAKABANSI</td>\n",
       "      <td>100</td>\n",
       "      <td>100</td>\n",
       "      <td>Sakabansi</td>\n",
       "      <td>NIKKI</td>\n",
       "    </tr>\n",
       "    <tr>\n",
       "      <th>280</th>\n",
       "      <td>Soumarou</td>\n",
       "      <td>691.0</td>\n",
       "      <td>9.877569</td>\n",
       "      <td>3.124120</td>\n",
       "      <td>SUYA</td>\n",
       "      <td>Soumarou</td>\n",
       "      <td>1</td>\n",
       "      <td>1</td>\n",
       "      <td>0</td>\n",
       "      <td>NaN</td>\n",
       "      <td>None</td>\n",
       "      <td>SOUMAROU</td>\n",
       "      <td>100</td>\n",
       "      <td>100</td>\n",
       "      <td>Soumarou</td>\n",
       "      <td>SUYA</td>\n",
       "    </tr>\n",
       "    <tr>\n",
       "      <th>302</th>\n",
       "      <td>Tontarou</td>\n",
       "      <td>1034.0</td>\n",
       "      <td>9.838361</td>\n",
       "      <td>3.251639</td>\n",
       "      <td>NIKKI</td>\n",
       "      <td>Tontarou</td>\n",
       "      <td>1</td>\n",
       "      <td>1</td>\n",
       "      <td>0</td>\n",
       "      <td>NaN</td>\n",
       "      <td>None</td>\n",
       "      <td>TONTAROU</td>\n",
       "      <td>100</td>\n",
       "      <td>100</td>\n",
       "      <td>Tontarou</td>\n",
       "      <td>NIKKI</td>\n",
       "    </tr>\n",
       "    <tr>\n",
       "      <th>307</th>\n",
       "      <td>Tèpa</td>\n",
       "      <td>503.0</td>\n",
       "      <td>9.982722</td>\n",
       "      <td>3.203778</td>\n",
       "      <td>NIKKI</td>\n",
       "      <td>Nikki Gando</td>\n",
       "      <td>1</td>\n",
       "      <td>0</td>\n",
       "      <td>0</td>\n",
       "      <td>NaN</td>\n",
       "      <td>None</td>\n",
       "      <td>GANROU</td>\n",
       "      <td>66</td>\n",
       "      <td>66</td>\n",
       "      <td>Tèpa</td>\n",
       "      <td>SEREKALE</td>\n",
       "    </tr>\n",
       "    <tr>\n",
       "      <th>308</th>\n",
       "      <td>Tèpa\\n(Danbourasson; Taïrou Kparou)</td>\n",
       "      <td>160.0</td>\n",
       "      <td>NaN</td>\n",
       "      <td>NaN</td>\n",
       "      <td>GNONKOUROKALI</td>\n",
       "      <td>Woroumagassarou</td>\n",
       "      <td>0</td>\n",
       "      <td>0</td>\n",
       "      <td>0</td>\n",
       "      <td>NaN</td>\n",
       "      <td>None</td>\n",
       "      <td>WOROUMANGASSAROU</td>\n",
       "      <td>97</td>\n",
       "      <td>97</td>\n",
       "      <td>Tèpa\\n(Danbourasson; Taïrou Kparou)</td>\n",
       "      <td>GNONKOUROKALI</td>\n",
       "    </tr>\n",
       "  </tbody>\n",
       "</table>\n",
       "</div>"
      ],
      "text/plain": [
       "                                Localité  Population  Latitude_decimals  \\\n",
       "2                 Agbo Barthélémy Kparou       100.0                NaN   \n",
       "4          Alazi Kparou (Ferme\\nGénéral)        22.0          10.028500   \n",
       "5                           Alpha Kparou        73.0           9.891278   \n",
       "7                           Angankirou 1       283.0           9.796639   \n",
       "8                           Angankirou 2       565.0                NaN   \n",
       "11                                 Baani       600.0          10.003000   \n",
       "112                     Gannourè Halidou       150.0                NaN   \n",
       "137                           Gnel Sanna      1402.0           9.941889   \n",
       "165                          Gourè Karèa       160.0                NaN   \n",
       "226                                Looko        60.0                NaN   \n",
       "250                                Saabo       100.0                NaN   \n",
       "253                           Saka Worou       250.0           9.758528   \n",
       "254                            Sakabansi      2163.0          10.040324   \n",
       "280                             Soumarou       691.0           9.877569   \n",
       "302                             Tontarou      1034.0           9.838361   \n",
       "307                                 Tèpa       503.0           9.982722   \n",
       "308  Tèpa\\n(Danbourasson; Taïrou Kparou)       160.0                NaN   \n",
       "\n",
       "     Longitude_decimals Arrondissement          Village  PM  FPM  PT  \\\n",
       "2                   NaN          NIKKI             Gori   0    0   0   \n",
       "4              3.337306          NIKKI        Sakabansi   0    1   0   \n",
       "5              2.811806           BIRO          Ourarou   0    1   0   \n",
       "7              3.303056          NIKKI         Tontarou   1    0   0   \n",
       "8                   NaN          NIKKI         Tontarou   0    0   0   \n",
       "11             3.129694       SEREKALE     Ganrou Peuhl   0    1   0   \n",
       "112                 NaN         OUENOU         Lafiarou   0    0   0   \n",
       "137            3.446014         OUENOU            Sansi   1    1   0   \n",
       "165                 NaN  GNONKOUROKALI            Guèma   0    0   0   \n",
       "226                 NaN          NIKKI        Sakabansi   0    0   0   \n",
       "250                 NaN          NIKKI        Boucanèrè   0    0   0   \n",
       "253            3.244889          TASSO            Chein   0    1   0   \n",
       "254            3.382921          NIKKI        Sakabansi   1    1   1   \n",
       "280            3.124120           SUYA         Soumarou   1    1   0   \n",
       "302            3.251639          NIKKI         Tontarou   1    1   0   \n",
       "307            3.203778          NIKKI      Nikki Gando   1    0   0   \n",
       "308                 NaN  GNONKOUROKALI  Woroumagassarou   0    0   0   \n",
       "\n",
       "     fpm_lisette localite_lisette   village_lisette  match  vil_match  \\\n",
       "2            NaN             None              GORI    100        100   \n",
       "4            NaN             None         SAKABANSI    100        100   \n",
       "5            NaN             None           OURAROU    100        100   \n",
       "7            NaN             None        ANGANKIROU    100        100   \n",
       "8            NaN             None        ANGANKIROU    100        100   \n",
       "11           NaN             None             BAANI     90         90   \n",
       "112          NaN             None         ALAFIAROU     94         94   \n",
       "137          NaN             None             SANSI    100        100   \n",
       "165          NaN             None             GUEMA     89         89   \n",
       "226          NaN             None         SAKABANSI    100        100   \n",
       "250          NaN             None         BOUKANERE     75         75   \n",
       "253          NaN             None       CHEIN-TASSO     90         90   \n",
       "254          NaN             None         SAKABANSI    100        100   \n",
       "280          NaN             None          SOUMAROU    100        100   \n",
       "302          NaN             None          TONTAROU    100        100   \n",
       "307          NaN             None            GANROU     66         66   \n",
       "308          NaN             None  WOROUMANGASSAROU     97         97   \n",
       "\n",
       "                                localite  arron_lisette  \n",
       "2                 Agbo Barthélémy Kparou          NIKKI  \n",
       "4          Alazi Kparou (Ferme\\nGénéral)          NIKKI  \n",
       "5                           Alpha Kparou           BIRO  \n",
       "7                           Angankirou 1          NIKKI  \n",
       "8                           Angankirou 2          NIKKI  \n",
       "11                                 Baani       SEREKALE  \n",
       "112                     Gannourè Halidou         OUENOU  \n",
       "137                           Gnel Sanna         OUENOU  \n",
       "165                          Gourè Karèa  GNONKOUROKALI  \n",
       "226                                Looko          NIKKI  \n",
       "250                                Saabo          NIKKI  \n",
       "253                           Saka Worou          TASSO  \n",
       "254                            Sakabansi          NIKKI  \n",
       "280                             Soumarou           SUYA  \n",
       "302                             Tontarou          NIKKI  \n",
       "307                                 Tèpa       SEREKALE  \n",
       "308  Tèpa\\n(Danbourasson; Taïrou Kparou)  GNONKOUROKALI  "
      ]
     },
     "execution_count": 493,
     "metadata": {},
     "output_type": "execute_result"
    }
   ],
   "source": [
    "df_loc_2009[df_loc_2009['fpm_lisette'].isna()]"
   ]
  },
  {
   "cell_type": "code",
   "execution_count": 509,
   "metadata": {},
   "outputs": [],
   "source": [
    "df_loc_2009['fpm']=df_loc_2009.apply(lambda x: x['fpm_lisette'] if x['fpm_lisette'] else x['FPM'],\n",
    "                                         axis=1)"
   ]
  },
  {
   "cell_type": "code",
   "execution_count": 494,
   "metadata": {},
   "outputs": [],
   "source": [
    "df_loc_2009['localite']=df_loc_2009.apply(lambda x: x['localite_lisette'] if x['localite_lisette'] else x['Localité'],\n",
    "                                         axis=1)"
   ]
  },
  {
   "cell_type": "code",
   "execution_count": 495,
   "metadata": {},
   "outputs": [
    {
     "data": {
      "text/plain": [
       "90"
      ]
     },
     "execution_count": 495,
     "metadata": {},
     "output_type": "execute_result"
    }
   ],
   "source": [
    "len(df_villages_loc_pumps['Village'].unique())"
   ]
  },
  {
   "cell_type": "code",
   "execution_count": 496,
   "metadata": {},
   "outputs": [
    {
     "data": {
      "text/plain": [
       "88"
      ]
     },
     "execution_count": 496,
     "metadata": {},
     "output_type": "execute_result"
    }
   ],
   "source": [
    "len(list(df_loc_2009['village_lisette'].unique()))"
   ]
  },
  {
   "cell_type": "code",
   "execution_count": 497,
   "metadata": {},
   "outputs": [
    {
     "data": {
      "text/plain": [
       "56"
      ]
     },
     "execution_count": 497,
     "metadata": {},
     "output_type": "execute_result"
    }
   ],
   "source": [
    "len(df_loc_2009['Village'].unique())"
   ]
  },
  {
   "cell_type": "code",
   "execution_count": 498,
   "metadata": {},
   "outputs": [],
   "source": [
    "df_pop_vil=df_loc_2009.groupby('village_lisette').agg({'Population':'sum'})"
   ]
  },
  {
   "cell_type": "code",
   "execution_count": 499,
   "metadata": {},
   "outputs": [],
   "source": [
    "df_pop_vil.columns = [col for col in df_pop_vil.columns.values]"
   ]
  },
  {
   "cell_type": "code",
   "execution_count": 500,
   "metadata": {},
   "outputs": [],
   "source": [
    "df_pop_vil=df_pop_vil.reset_index()"
   ]
  },
  {
   "cell_type": "code",
   "execution_count": 501,
   "metadata": {},
   "outputs": [],
   "source": [
    "df_pop_vil.columns=['Village','Population']"
   ]
  },
  {
   "cell_type": "code",
   "execution_count": 502,
   "metadata": {},
   "outputs": [],
   "source": [
    "df_vil_pre=df_villages_loc_pumps[['Village','Arrondissement','Latitude','Longitude']]"
   ]
  },
  {
   "cell_type": "code",
   "execution_count": 503,
   "metadata": {},
   "outputs": [],
   "source": [
    "df_vil_final=pd.merge(df_vil_pre,df_pop_vil,on='Village',how='outer')"
   ]
  },
  {
   "cell_type": "code",
   "execution_count": 504,
   "metadata": {},
   "outputs": [
    {
     "data": {
      "text/plain": [
       "Arrondissement\n",
       "BIRO             14059.0\n",
       "GNONKOUROKALI    23574.0\n",
       "NIKKI            48022.0\n",
       "OUENOU           17738.0\n",
       "SEREKALE         15176.0\n",
       "SUYA              8056.0\n",
       "TASSO            15468.0\n",
       "Name: Population, dtype: float64"
      ]
     },
     "execution_count": 504,
     "metadata": {},
     "output_type": "execute_result"
    }
   ],
   "source": [
    "df_vil_final.groupby('Arrondissement').sum()['Population']"
   ]
  },
  {
   "cell_type": "code",
   "execution_count": 567,
   "metadata": {},
   "outputs": [
    {
     "data": {
      "text/html": [
       "<div>\n",
       "<style scoped>\n",
       "    .dataframe tbody tr th:only-of-type {\n",
       "        vertical-align: middle;\n",
       "    }\n",
       "\n",
       "    .dataframe tbody tr th {\n",
       "        vertical-align: top;\n",
       "    }\n",
       "\n",
       "    .dataframe thead th {\n",
       "        text-align: right;\n",
       "    }\n",
       "</style>\n",
       "<table border=\"1\" class=\"dataframe\">\n",
       "  <thead>\n",
       "    <tr style=\"text-align: right;\">\n",
       "      <th></th>\n",
       "      <th>Village</th>\n",
       "      <th>Arrondissement</th>\n",
       "      <th>Latitude</th>\n",
       "      <th>Longitude</th>\n",
       "      <th>Population</th>\n",
       "    </tr>\n",
       "  </thead>\n",
       "  <tbody>\n",
       "    <tr>\n",
       "      <th>0</th>\n",
       "      <td>ALAFIAROU</td>\n",
       "      <td>OUENOU</td>\n",
       "      <td>9.9058555</td>\n",
       "      <td>3.4009337</td>\n",
       "      <td>1550.0</td>\n",
       "    </tr>\n",
       "    <tr>\n",
       "      <th>1</th>\n",
       "      <td>ANGANKIROU</td>\n",
       "      <td>NIKKI</td>\n",
       "      <td>9.8002871</td>\n",
       "      <td>3.3042026</td>\n",
       "      <td>1098.0</td>\n",
       "    </tr>\n",
       "    <tr>\n",
       "      <th>2</th>\n",
       "      <td>BAANI</td>\n",
       "      <td>SEREKALE</td>\n",
       "      <td>10.0136933</td>\n",
       "      <td>3.1317472</td>\n",
       "      <td>800.0</td>\n",
       "    </tr>\n",
       "    <tr>\n",
       "      <th>3</th>\n",
       "      <td>BANTERE</td>\n",
       "      <td>SUYA</td>\n",
       "      <td>9.853102</td>\n",
       "      <td>3.0919219</td>\n",
       "      <td>500.0</td>\n",
       "    </tr>\n",
       "    <tr>\n",
       "      <th>4</th>\n",
       "      <td>BARKEDJE</td>\n",
       "      <td>NIKKI</td>\n",
       "      <td>10.0264032</td>\n",
       "      <td>3.2874548</td>\n",
       "      <td>516.0</td>\n",
       "    </tr>\n",
       "  </tbody>\n",
       "</table>\n",
       "</div>"
      ],
      "text/plain": [
       "      Village Arrondissement    Latitude  Longitude  Population\n",
       "0   ALAFIAROU         OUENOU   9.9058555  3.4009337      1550.0\n",
       "1  ANGANKIROU          NIKKI   9.8002871  3.3042026      1098.0\n",
       "2       BAANI       SEREKALE  10.0136933  3.1317472       800.0\n",
       "3     BANTERE           SUYA    9.853102  3.0919219       500.0\n",
       "4    BARKEDJE          NIKKI  10.0264032  3.2874548       516.0"
      ]
     },
     "execution_count": 567,
     "metadata": {},
     "output_type": "execute_result"
    }
   ],
   "source": [
    "## FINAL VILLAGE LIST\n",
    "\n",
    "df_vil_final.head()"
   ]
  },
  {
   "cell_type": "code",
   "execution_count": 569,
   "metadata": {},
   "outputs": [],
   "source": [
    "df_vil_final.columns=['Name','District','Latitude','Longitude','Population']"
   ]
  },
  {
   "cell_type": "code",
   "execution_count": 582,
   "metadata": {},
   "outputs": [],
   "source": [
    "df_dis.loc[105,'Name']='GNONKOUROKALI'"
   ]
  },
  {
   "cell_type": "code",
   "execution_count": 583,
   "metadata": {},
   "outputs": [
    {
     "data": {
      "text/html": [
       "<div>\n",
       "<style scoped>\n",
       "    .dataframe tbody tr th:only-of-type {\n",
       "        vertical-align: middle;\n",
       "    }\n",
       "\n",
       "    .dataframe tbody tr th {\n",
       "        vertical-align: top;\n",
       "    }\n",
       "\n",
       "    .dataframe thead th {\n",
       "        text-align: right;\n",
       "    }\n",
       "</style>\n",
       "<table border=\"1\" class=\"dataframe\">\n",
       "  <thead>\n",
       "    <tr style=\"text-align: right;\">\n",
       "      <th></th>\n",
       "      <th>Name</th>\n",
       "      <th>State</th>\n",
       "      <th>County</th>\n",
       "      <th>Latitude</th>\n",
       "      <th>Longitude</th>\n",
       "      <th>Population</th>\n",
       "    </tr>\n",
       "  </thead>\n",
       "  <tbody>\n",
       "    <tr>\n",
       "      <th>105</th>\n",
       "      <td>GNONKOUROKALI</td>\n",
       "      <td>BORGOU</td>\n",
       "      <td>NIKKI</td>\n",
       "      <td>10.11557</td>\n",
       "      <td>2.89811</td>\n",
       "      <td>13825</td>\n",
       "    </tr>\n",
       "  </tbody>\n",
       "</table>\n",
       "</div>"
      ],
      "text/plain": [
       "              Name   State County  Latitude Longitude Population\n",
       "105  GNONKOUROKALI  BORGOU  NIKKI  10.11557   2.89811      13825"
      ]
     },
     "execution_count": 583,
     "metadata": {},
     "output_type": "execute_result"
    }
   ],
   "source": [
    "df_dis[df_dis['Name']=='GNONKOUROKALI']"
   ]
  },
  {
   "cell_type": "code",
   "execution_count": 506,
   "metadata": {},
   "outputs": [],
   "source": [
    "df_local_final=df_loc_2009[['localite','arron_lisette','village_lisette','Population','Latitude_decimals','Longitude_decimals']]\n",
    "df_local_final.columns=['localite','Arrondissement','Village','Population','Latitude','Longitude']\n"
   ]
  },
  {
   "cell_type": "code",
   "execution_count": 510,
   "metadata": {
    "colab": {},
    "colab_type": "code",
    "id": "JJf6m_9LmNyH"
   },
   "outputs": [],
   "source": [
    "df_loc_2009['n_per/fpm'] = df_loc_2009.apply(\n",
    "                                    lambda x: 10000 if x['fpm']==0 else x['Population']/x['fpm'],axis=1)\n"
   ]
  },
  {
   "cell_type": "code",
   "execution_count": 511,
   "metadata": {},
   "outputs": [],
   "source": [
    "def status(x):\n",
    "    ind=x['n_per/fpm']\n",
    "    status='unknown'\n",
    "    if np.isnan(ind) or isinstance(ind, str):\n",
    "        return status\n",
    "    elif ind<250:\n",
    "        status='green'\n",
    "    elif ind <500:\n",
    "        status='orange'\n",
    "    elif ind==10000:\n",
    "        status='super_red'\n",
    "    elif ind>500:\n",
    "        status='red'\n",
    "    return status"
   ]
  },
  {
   "cell_type": "code",
   "execution_count": 512,
   "metadata": {},
   "outputs": [],
   "source": [
    "df_loc_2009['status'] = df_loc_2009.apply(lambda x: status(x),axis=1)"
   ]
  },
  {
   "cell_type": "code",
   "execution_count": 519,
   "metadata": {},
   "outputs": [],
   "source": [
    "df_loc_2009_final=df_loc_2009[['localite','village_lisette','arron_lisette','Population',\n",
    "                  'Latitude_decimals','Longitude_decimals',\n",
    "                  'PM','PT','fpm','n_per/fpm','status']]"
   ]
  },
  {
   "cell_type": "code",
   "execution_count": 521,
   "metadata": {},
   "outputs": [],
   "source": [
    "df_loc_2009_final.columns=['localite','village','arrondisement','population',\n",
    "                  'latitude','longitude',\n",
    "                  'pm','pt','fpm','n_per/fpm','status']\n"
   ]
  },
  {
   "cell_type": "code",
   "execution_count": 586,
   "metadata": {},
   "outputs": [],
   "source": [
    "##final localites list\n",
    "df_loc_final = df_loc_2009_final[['localite','village','population',\n",
    "                  'latitude','longitude']]"
   ]
  },
  {
   "cell_type": "code",
   "execution_count": 589,
   "metadata": {},
   "outputs": [],
   "source": [
    "df_loc_final.columns=['Name','Village','Population',\n",
    "                  'Latitude','Longitude']"
   ]
  },
  {
   "cell_type": "markdown",
   "metadata": {},
   "source": [
    "# UPLOAD TO FIREBASE"
   ]
  },
  {
   "cell_type": "markdown",
   "metadata": {},
   "source": [
    "### map_temp"
   ]
  },
  {
   "cell_type": "code",
   "execution_count": 694,
   "metadata": {},
   "outputs": [],
   "source": [
    "df_loc_2009_final.to_csv('localites_analysis.csv')"
   ]
  },
  {
   "cell_type": "code",
   "execution_count": 203,
   "metadata": {},
   "outputs": [],
   "source": [
    "#Convert info to dict and upload to firebase\n",
    "villages = df_loc_2009_final.to_dict('index')\n",
    "villages_dict = [{k: v} for k, v in villages.items()] \n",
    "villages_l_dict = []\n",
    "for i,vill in enumerate(villages_dict):\n",
    "    id_vill=list(vill.keys())[0]\n",
    "    village=vill[id_vill]['localite']\n",
    "    new_data={'name':village,\n",
    "              'village':vill[id_vill]['village']\n",
    "              'arrondissement':vill[id_vill]['arrondissement'],\n",
    "              'coordinates':{\n",
    "                    'longitude':vill[id_vill]['longitude'],\n",
    "                    'latitude':vill[id_vill]['latitude']},\n",
    "              'population':vill[id_vill]['population'],\n",
    "              'pm':vill[id_vill]['pm'],\n",
    "              'fpm':vill[id_vill]['fpm'],\n",
    "              'pt':vill[id_vill]['pt'],\n",
    "              'ind':vill[id_vill]['ind'],\n",
    "              'color':vill[id_vill]['status']\n",
    "\n",
    "             \n",
    "             }\n",
    "    villages_l_dict.append(new_data)\n",
    "\n",
    "    db.collection(u'mapa_temp').add(new_data)"
   ]
  },
  {
   "cell_type": "code",
   "execution_count": 205,
   "metadata": {},
   "outputs": [],
   "source": [
    "df_villages_2009.to_csv('villages_pompes.csv')"
   ]
  },
  {
   "cell_type": "markdown",
   "metadata": {
    "colab_type": "text",
    "id": "bipA0Hn8z1Dn"
   },
   "source": [
    "### UPLOAD TO FIREBASE"
   ]
  },
  {
   "cell_type": "markdown",
   "metadata": {},
   "source": [
    "## AL BREAKDOWN"
   ]
  },
  {
   "cell_type": "code",
   "execution_count": 612,
   "metadata": {
    "colab": {},
    "colab_type": "code",
    "id": "53Ko72Cox1ia"
   },
   "outputs": [],
   "source": [
    "#STATE\n",
    "#Convert states df to a dictionary\n",
    "states = df_dep.to_dict('index')\n",
    "states_dict = [{k: v} for k, v in states.items()] \n",
    "states_l_dict = []\n",
    "districts_l_dict = []\n",
    "countys_l_dict = []\n",
    "villages_l_dict = []\n",
    "localites_l_dict = []\n",
    "for sta in states_dict:\n",
    "    id_state=list(sta.keys())[0]\n",
    "    state=sta[id_state]['Name']\n",
    "    new_data={'name':state,\n",
    "            'coordinates':{\n",
    "                'longitude':sta[id_state]['Longitude'],\n",
    "                'latitude':sta[id_state]['Latitude']},\n",
    "            'population':sta[id_state]['Population']}\n",
    "  \n",
    "    doc_state = db.collection(u'Locations').document(u'Benin').collection(u'States').add(new_data)[1]\n",
    "    state_id = doc_state.id\n",
    "    doc_state.update({'id':state_id})\n",
    "    new_data['id']=state_id\n",
    "    states_l_dict.append(new_data)\n",
    "\n",
    "  \n",
    "    #COUNTY\n",
    "    #get countys of that state\n",
    "    df_county_state = df_county[df_county['State']==state]\n",
    "    #Convert countys df to a dictionary\n",
    "    countys = df_county_state.to_dict('index')\n",
    "    countys_dict = [{k: v} for k, v in countys.items()] \n",
    "    for coun in countys_dict:\n",
    "        id_county=list(coun.keys())[0]\n",
    "        county=coun[id_county]['Name']\n",
    "        new_data={'name':county,\n",
    "              'coordinates':{\n",
    "                  'longitude':coun[id_county]['Longitude'],\n",
    "                  'latitude':coun[id_county]['Latitude']},\n",
    "              'population':coun[id_county]['Population'],\n",
    "              'state':state,\n",
    "              'state_id':state_id}\n",
    "        doc_county = db.collection(u'Locations').document(u'Benin').collection(u'Countys').add(new_data)[1]\n",
    "        county_id=doc_county.id\n",
    "        doc_county.update({'id':county_id})\n",
    "        new_data['id']=county_id\n",
    "        countys_l_dict.append(new_data)\n",
    "    \n",
    "        #DISTRICT\n",
    "        #get districts of that county\n",
    "        df_districts_county = df_dis[df_dis['County']==county]\n",
    "        #Convert district df to a dictionary\n",
    "        districts = df_districts_county.to_dict('index')\n",
    "        districts_dict = [{k: v} for k, v in districts.items()] \n",
    "        for dis in districts_dict:\n",
    "            id_districts=list(dis.keys())[0]\n",
    "            district = dis[id_districts]['Name']\n",
    "            new_data={'name':district,\n",
    "                      'coordinates':{\n",
    "                        'longitude':dis[id_districts]['Longitude'],\n",
    "                        'latitude':dis[id_districts]['Latitude']},\n",
    "                      'population':dis[id_districts]['Population'],\n",
    "                      'state':state,\n",
    "                      'state_id':state_id,\n",
    "                      'county':county,\n",
    "                      'county_id':county_id}\n",
    "            doc_district = db.collection(u'Locations').document(u'Benin').collection(u'Districts').add(new_data)[1]\n",
    "            district_id=doc_district.id\n",
    "            doc_district.update({'id':district_id})\n",
    "            new_data['id']=district_id\n",
    "            districts_l_dict.append(new_data)\n",
    "            if(county=='NIKKI'):\n",
    "                #VILLAGES\n",
    "                #get villages of that district\n",
    "                df_vil_arron = df_vil_final[df_vil_final['District']==district]\n",
    "                #Convert district df to a dictionary\n",
    "                villages = df_vil_arron.to_dict('index')\n",
    "                villages_dict = [{k: v} for k, v in villages.items()] \n",
    "                for vil in villages_dict:\n",
    "                    id_vil=list(vil.keys())[0]\n",
    "                    village = vil[id_vil]['Name']\n",
    "                    new_data={'name':village,\n",
    "                              'coordinates':{\n",
    "                                'longitude':vil[id_vil]['Longitude'],\n",
    "                                'latitude':vil[id_vil]['Latitude']},\n",
    "                              'population':vil[id_vil]['Population'],\n",
    "                              'state':state,\n",
    "                              'state_id':state_id,\n",
    "                              'county':county,\n",
    "                              'county_id':county_id,\n",
    "                              'district':district,\n",
    "                              'district_id':district_id\n",
    "                             }\n",
    "                    doc_village = db.collection(u'Locations').document(u'Benin').collection(u'Villages').add(new_data)[1]\n",
    "                    village_id=doc_village.id\n",
    "                    doc_village.update({'id':village_id})\n",
    "                    new_data['id']=village_id\n",
    "                    villages_l_dict.append(new_data)\n",
    "                    #LOCALITES\n",
    "                    #get villages of that district\n",
    "                    df_loc_vil = df_loc_final[df_loc_final['Village']==village]\n",
    "                    #Convert district df to a dictionary\n",
    "                    localites = df_loc_vil.to_dict('index')\n",
    "                    localites_dict = [{k: v} for k, v in localites.items()] \n",
    "                    for loc in localites_dict:\n",
    "                        id_loc=list(loc.keys())[0]\n",
    "                        localite = loc[id_loc]['Name']\n",
    "                        new_data={'name':localite,\n",
    "                                  'coordinates':{\n",
    "                                    'longitude':loc[id_loc]['Longitude'],\n",
    "                                    'latitude':loc[id_loc]['Latitude']},\n",
    "                                  'population':loc[id_loc]['Population'],\n",
    "                                  'state':state,\n",
    "                                  'state_id':state_id,\n",
    "                                  'county':county,\n",
    "                                  'county_id':county_id,\n",
    "                                  'district':district,\n",
    "                                  'district_id':district_id,\n",
    "                                  'village':village,\n",
    "                                  'village_id':village_id\n",
    "                                 }\n",
    "                        doc_localite = db.collection(u'Locations').document(u'Benin').collection(u'Localities').add(new_data)[1]\n",
    "                        localite_id=doc_localite.id\n",
    "                        doc_localite.update({'id':localite_id})\n",
    "                        new_data['id']=localite_id\n",
    "                        localites_l_dict.append(new_data)\n",
    "  "
   ]
  },
  {
   "cell_type": "markdown",
   "metadata": {},
   "source": [
    "# convert to CSV"
   ]
  },
  {
   "cell_type": "code",
   "execution_count": 613,
   "metadata": {},
   "outputs": [],
   "source": [
    "df_local_firebase=pd.DataFrame(localites_l_dict)"
   ]
  },
  {
   "cell_type": "code",
   "execution_count": 614,
   "metadata": {},
   "outputs": [],
   "source": [
    "df_local_firebase.to_csv('df_local_firebase.csv')"
   ]
  },
  {
   "cell_type": "code",
   "execution_count": 615,
   "metadata": {},
   "outputs": [],
   "source": [
    "df_village_firebase=pd.DataFrame(villages_l_dict)"
   ]
  },
  {
   "cell_type": "code",
   "execution_count": 616,
   "metadata": {},
   "outputs": [],
   "source": [
    "df_village_firebase.to_csv('df_village_firebase.csv')"
   ]
  },
  {
   "cell_type": "code",
   "execution_count": 617,
   "metadata": {},
   "outputs": [],
   "source": [
    "df_districts_firebase=pd.DataFrame(districts_l_dict)"
   ]
  },
  {
   "cell_type": "code",
   "execution_count": 618,
   "metadata": {},
   "outputs": [],
   "source": [
    "df_districts_firebase.to_csv('df_districts_firebase.csv')"
   ]
  },
  {
   "cell_type": "markdown",
   "metadata": {},
   "source": [
    "# UPLOAD PUPMS"
   ]
  },
  {
   "cell_type": "code",
   "execution_count": 650,
   "metadata": {},
   "outputs": [
    {
     "data": {
      "text/plain": [
       "(326, 12)"
      ]
     },
     "execution_count": 650,
     "metadata": {},
     "output_type": "execute_result"
    }
   ],
   "source": [
    "df_local_firebase.shape"
   ]
  },
  {
   "cell_type": "code",
   "execution_count": 651,
   "metadata": {},
   "outputs": [
    {
     "data": {
      "text/plain": [
       "Index(['coordinates', 'county', 'county_id', 'district', 'district_id', 'id',\n",
       "       'name', 'population', 'state', 'state_id', 'village', 'village_id'],\n",
       "      dtype='object')"
      ]
     },
     "execution_count": 651,
     "metadata": {},
     "output_type": "execute_result"
    }
   ],
   "source": [
    "df_local_firebase.columns"
   ]
  },
  {
   "cell_type": "code",
   "execution_count": 652,
   "metadata": {},
   "outputs": [],
   "source": [
    "df_pumps_firebase=df_lisette.copy()"
   ]
  },
  {
   "cell_type": "code",
   "execution_count": 653,
   "metadata": {},
   "outputs": [],
   "source": [
    "l_local_fire=df_local_firebase['name'].to_list()\n",
    "df_pumps_firebase[['loc_fir','match']]=df_pumps_firebase.apply(lambda x: pd.Series([(a[0],a[1]) for a in process.extract(x['Localite'], \n",
    "                                                                 l_local_fire, \n",
    "                                                                 limit=1)][0]), axis=1)"
   ]
  },
  {
   "cell_type": "code",
   "execution_count": 655,
   "metadata": {},
   "outputs": [],
   "source": [
    "df_pumps_firebase['marque']=df_pumps_firebase.apply(lambda x: marques(x,\"Modele_Pompe\",\"Type_Exhaure\"),axis=1)"
   ]
  },
  {
   "cell_type": "code",
   "execution_count": 656,
   "metadata": {},
   "outputs": [],
   "source": [
    "df_pumps_firebase['latitude']=df_pumps_firebase.apply(lambda x: decimals_lat_lon(x,'Latitude'),axis=1)"
   ]
  },
  {
   "cell_type": "code",
   "execution_count": 657,
   "metadata": {},
   "outputs": [],
   "source": [
    "df_pumps_firebase['longitude']=df_pumps_firebase.apply(lambda x: decimals_lat_lon(x,'Longitude'),axis=1)"
   ]
  },
  {
   "cell_type": "code",
   "execution_count": 658,
   "metadata": {},
   "outputs": [],
   "source": [
    "df_pumps_firebase=pd.merge(df_pumps_firebase,df_local_firebase,left_on='loc_fir',right_on='name',how='inner')"
   ]
  },
  {
   "cell_type": "code",
   "execution_count": 659,
   "metadata": {},
   "outputs": [
    {
     "data": {
      "text/plain": [
       "Index(['Departement', 'Commune', 'Arrondissement', 'Village', 'Localite',\n",
       "       'Nom_Local', 'Longitude', 'Latitude', 'xCoord', 'yCoord',\n",
       "       'Type_Exhaure', 'Modele_Pompe', 'loc_fir', 'match', 'marque',\n",
       "       'latitude', 'longitude', 'coordinates', 'county', 'county_id',\n",
       "       'district', 'district_id', 'id', 'name', 'population', 'state',\n",
       "       'state_id', 'village', 'village_id'],\n",
       "      dtype='object')"
      ]
     },
     "execution_count": 659,
     "metadata": {},
     "output_type": "execute_result"
    }
   ],
   "source": [
    "df_pumps_firebase.columns"
   ]
  },
  {
   "cell_type": "code",
   "execution_count": 660,
   "metadata": {},
   "outputs": [],
   "source": [
    "df_pumps_2019_fire=df_pumps_firebase[['marque','latitude',\n",
    "                                      'longitude','name',\n",
    "                                      'id','village',\n",
    "                                      'village_id','district','district_id']]"
   ]
  },
  {
   "cell_type": "code",
   "execution_count": 664,
   "metadata": {},
   "outputs": [],
   "source": [
    "df_pumps_2019_fire.columns=['marque','latitude',\n",
    "                                      'longitude','localite',\n",
    "                                      'localite_id','village',\n",
    "                                      'village_id','district','district_id']"
   ]
  },
  {
   "cell_type": "code",
   "execution_count": 665,
   "metadata": {
    "colab": {},
    "colab_type": "code",
    "id": "4U8v9RtS6uv0"
   },
   "outputs": [],
   "source": [
    "col_query = db.collection('PumpTypes')"
   ]
  },
  {
   "cell_type": "code",
   "execution_count": 666,
   "metadata": {},
   "outputs": [],
   "source": [
    "pump_types = col_query.stream()"
   ]
  },
  {
   "cell_type": "code",
   "execution_count": 667,
   "metadata": {},
   "outputs": [],
   "source": [
    "l_pump_types = []\n",
    "for p_t in pump_types:\n",
    "    l_pump_types.append({p_t.id:p_t.to_dict()})"
   ]
  },
  {
   "cell_type": "code",
   "execution_count": 675,
   "metadata": {},
   "outputs": [],
   "source": [
    "l_df_pump_types=[]\n",
    "for p_t in l_pump_types:\n",
    "    new_data ={}\n",
    "    id_p=list(p_t.keys())[0]\n",
    "    new_data['id']= id_p\n",
    "    new_data['models']= p_t[id_p]['models']\n",
    "    new_data['name']= p_t[id_p]['name']\n",
    "    new_data['brand']= p_t[id_p]['brand']\n",
    "    l_df_pump_types.append(new_data)"
   ]
  },
  {
   "cell_type": "code",
   "execution_count": 678,
   "metadata": {},
   "outputs": [],
   "source": [
    "df_marques_types=pd.DataFrame(l_df_pump_types)"
   ]
  },
  {
   "cell_type": "code",
   "execution_count": 680,
   "metadata": {},
   "outputs": [],
   "source": [
    "df_marques_types.loc[0,'brand']='india'"
   ]
  },
  {
   "cell_type": "code",
   "execution_count": 681,
   "metadata": {},
   "outputs": [
    {
     "data": {
      "text/html": [
       "<div>\n",
       "<style scoped>\n",
       "    .dataframe tbody tr th:only-of-type {\n",
       "        vertical-align: middle;\n",
       "    }\n",
       "\n",
       "    .dataframe tbody tr th {\n",
       "        vertical-align: top;\n",
       "    }\n",
       "\n",
       "    .dataframe thead th {\n",
       "        text-align: right;\n",
       "    }\n",
       "</style>\n",
       "<table border=\"1\" class=\"dataframe\">\n",
       "  <thead>\n",
       "    <tr style=\"text-align: right;\">\n",
       "      <th></th>\n",
       "      <th>brand</th>\n",
       "      <th>id</th>\n",
       "      <th>models</th>\n",
       "      <th>name</th>\n",
       "    </tr>\n",
       "  </thead>\n",
       "  <tbody>\n",
       "    <tr>\n",
       "      <th>0</th>\n",
       "      <td>india</td>\n",
       "      <td>IonVIuPTQ4d3v2RwVttw</td>\n",
       "      <td>[{'name': 'II', 'doc_url': 'https://firebasest...</td>\n",
       "      <td>INDIA MARK</td>\n",
       "    </tr>\n",
       "    <tr>\n",
       "      <th>1</th>\n",
       "      <td>vergnet</td>\n",
       "      <td>gu5VhmnCxQOnZb0zDt6g</td>\n",
       "      <td>[{'pieces': [], 'id': '0', 'name': 'HPV 60', '...</td>\n",
       "      <td>VERGNET</td>\n",
       "    </tr>\n",
       "    <tr>\n",
       "      <th>2</th>\n",
       "      <td>na</td>\n",
       "      <td>oejIkx1092v6kOZ3CDXu</td>\n",
       "      <td>[]</td>\n",
       "      <td>UNKNOWN</td>\n",
       "    </tr>\n",
       "    <tr>\n",
       "      <th>3</th>\n",
       "      <td>afridev</td>\n",
       "      <td>yPV9Hfnz6CCQl47PjOZD</td>\n",
       "      <td>[]</td>\n",
       "      <td>AFRIDEV</td>\n",
       "    </tr>\n",
       "  </tbody>\n",
       "</table>\n",
       "</div>"
      ],
      "text/plain": [
       "     brand                    id  \\\n",
       "0    india  IonVIuPTQ4d3v2RwVttw   \n",
       "1  vergnet  gu5VhmnCxQOnZb0zDt6g   \n",
       "2       na  oejIkx1092v6kOZ3CDXu   \n",
       "3  afridev  yPV9Hfnz6CCQl47PjOZD   \n",
       "\n",
       "                                              models        name  \n",
       "0  [{'name': 'II', 'doc_url': 'https://firebasest...  INDIA MARK  \n",
       "1  [{'pieces': [], 'id': '0', 'name': 'HPV 60', '...     VERGNET  \n",
       "2                                                 []     UNKNOWN  \n",
       "3                                                 []     AFRIDEV  "
      ]
     },
     "execution_count": 681,
     "metadata": {},
     "output_type": "execute_result"
    }
   ],
   "source": [
    "df_marques_types"
   ]
  },
  {
   "cell_type": "code",
   "execution_count": 684,
   "metadata": {},
   "outputs": [],
   "source": [
    "def get_type(x):\n",
    "    marque=x['marque'].lower()\n",
    "    \n",
    "    type_id=df_marques_types[df_marques_types['brand']==marque]['id']\n",
    "    if len(type_id)>0:\n",
    "        type_id=type_id.values[0]\n",
    "    else:\n",
    "        type_id=df_marques_types[df_marques_types['brand']=='na']['id'].values[0]\n",
    "    return type_id"
   ]
  },
  {
   "cell_type": "code",
   "execution_count": 688,
   "metadata": {},
   "outputs": [
    {
     "name": "stderr",
     "output_type": "stream",
     "text": [
      "/anaconda3/lib/python3.7/site-packages/ipykernel_launcher.py:1: SettingWithCopyWarning:\n",
      "\n",
      "\n",
      "A value is trying to be set on a copy of a slice from a DataFrame.\n",
      "Try using .loc[row_indexer,col_indexer] = value instead\n",
      "\n",
      "See the caveats in the documentation: http://pandas.pydata.org/pandas-docs/stable/indexing.html#indexing-view-versus-copy\n",
      "\n"
     ]
    }
   ],
   "source": [
    "df_pumps_2019_fire['type_id']=df_pumps_2019_fire.apply(lambda x: get_type(x),axis=1)"
   ]
  },
  {
   "cell_type": "code",
   "execution_count": 689,
   "metadata": {},
   "outputs": [],
   "source": [
    "#STATE\n",
    "#Convert states df to a dictionary\n",
    "pumps = df_pumps_2019_fire.to_dict('index')\n",
    "pumps_dict = [{k: v} for k, v in pumps.items()] \n",
    "pumps_l_dict = []\n",
    "for pump in pumps_dict:\n",
    "    id_pump=list(pump.keys())[0]\n",
    "    pump_info=pump[id_pump]\n",
    "    new_data={'marque':pump_info['marque'],\n",
    "              'type_id':pump_info['type_id'],\n",
    "              'model_id':'0',\n",
    "                'coordinates':{\n",
    "                    'longitude':pump_info['longitude'],\n",
    "                    'latitude':pump_info['latitude']},\n",
    "                'localite':pump_info['localite'],\n",
    "                'localite_id':pump_info['localite_id'],\n",
    "                'village':pump_info['village'],\n",
    "                'village_id':pump_info['village_id'],\n",
    "                'district':pump_info['district'],\n",
    "                'district_id':pump_info['district_id']\n",
    "             }\n",
    "  \n",
    "    doc_pump = db.collection(u'Pumps').add(new_data)[1]\n",
    "    pump_id = doc_pump.id\n",
    "    doc_pump.update({'id':pump_id})\n",
    "    pumps_l_dict.append(new_data)"
   ]
  },
  {
   "cell_type": "code",
   "execution_count": 690,
   "metadata": {},
   "outputs": [],
   "source": [
    "df_pumps_f_fire=pd.DataFrame(pumps_l_dict)"
   ]
  },
  {
   "cell_type": "code",
   "execution_count": 691,
   "metadata": {},
   "outputs": [],
   "source": [
    "df_pumps_f_fire.to_csv('pumps_in_firebase.csv')"
   ]
  },
  {
   "cell_type": "code",
   "execution_count": null,
   "metadata": {},
   "outputs": [],
   "source": []
  }
 ],
 "metadata": {
  "accelerator": "GPU",
  "colab": {
   "collapsed_sections": [],
   "include_colab_link": true,
   "name": "colab_estructurar_bbdd_y_subir_a_firebase.ipynb",
   "provenance": []
  },
  "kernelspec": {
   "display_name": "Python 3",
   "language": "python",
   "name": "python3"
  },
  "language_info": {
   "codemirror_mode": {
    "name": "ipython",
    "version": 3
   },
   "file_extension": ".py",
   "mimetype": "text/x-python",
   "name": "python",
   "nbconvert_exporter": "python",
   "pygments_lexer": "ipython3",
   "version": "3.7.3"
  }
 },
 "nbformat": 4,
 "nbformat_minor": 1
}
