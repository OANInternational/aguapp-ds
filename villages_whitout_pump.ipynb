{
 "cells": [
  {
   "cell_type": "markdown",
   "metadata": {},
   "source": [
    "USING THIS AS BASE OF OUR MATCHING: https://www.datacamp.com/community/tutorials/fuzzy-string-python"
   ]
  },
  {
   "cell_type": "markdown",
   "metadata": {
    "colab": {
     "base_uri": "https://localhost:8080/",
     "height": 34
    },
    "colab_type": "code",
    "id": "YLlHkfPNlSv1",
    "outputId": "a97dc925-4566-4442-e73e-fa0f72244536"
   },
   "source": [
    "# IMPORTS"
   ]
  },
  {
   "cell_type": "code",
   "execution_count": 1,
   "metadata": {
    "colab": {},
    "colab_type": "code",
    "id": "9KAdA-R8xKw5"
   },
   "outputs": [],
   "source": [
    "import yaml\n",
    "import firebase_admin\n",
    "import plotly\n",
    "import plotly.plotly as py\n",
    "import numpy as np\n",
    "import re\n",
    "\n",
    "import pandas as pd\n",
    "\n",
    "import geocoder\n",
    "\n",
    "\n",
    "import gspread\n",
    "import httplib2\n",
    "import os, io\n",
    "import argparse\n",
    "import auth\n",
    "\n",
    "import unidecode\n",
    "\n",
    "\n",
    "from firebase_admin import credentials\n",
    "from firebase_admin import firestore\n",
    "\n",
    "\n",
    "from httplib2 import Http\n",
    "from oauth2client import file,client, tools\n",
    "from googleapiclient import discovery\n",
    "from googleapiclient.http import MediaFileUpload, MediaIoBaseDownload\n",
    "from oauth2client.service_account import ServiceAccountCredentials\n",
    "\n",
    "\n",
    "\n",
    "from fuzzywuzzy import fuzz\n",
    "from fuzzywuzzy import process"
   ]
  },
  {
   "cell_type": "markdown",
   "metadata": {
    "colab_type": "text",
    "id": "iA76tKgbnBvj"
   },
   "source": [
    "# CONNECT TO FIREBASE"
   ]
  },
  {
   "cell_type": "code",
   "execution_count": 2,
   "metadata": {
    "colab": {},
    "colab_type": "code",
    "id": "6pIrQEso408R"
   },
   "outputs": [],
   "source": [
    "filename='/Users/5danalfaro/OAN/credentials/firebase_parameters.json'"
   ]
  },
  {
   "cell_type": "code",
   "execution_count": 3,
   "metadata": {
    "colab": {},
    "colab_type": "code",
    "id": "j0-CWZv25YWX"
   },
   "outputs": [],
   "source": [
    "# Use a service account\n",
    "cred = credentials.Certificate(filename)\n",
    "firebase_admin.initialize_app(cred)\n",
    "\n",
    "db = firestore.client()"
   ]
  },
  {
   "cell_type": "markdown",
   "metadata": {
    "colab": {},
    "colab_type": "code",
    "id": "2uOdUFhhczNe"
   },
   "source": [
    "## TEST"
   ]
  },
  {
   "cell_type": "code",
   "execution_count": 4,
   "metadata": {
    "colab": {},
    "colab_type": "code",
    "id": "4U8v9RtS6uv0"
   },
   "outputs": [],
   "source": [
    "col_query = db.collection('Pompes_2019').where(u'Arrondissement', u'==', u'BIRO')"
   ]
  },
  {
   "cell_type": "code",
   "execution_count": 5,
   "metadata": {},
   "outputs": [],
   "source": [
    "pumps = col_query.stream()"
   ]
  },
  {
   "cell_type": "code",
   "execution_count": 7,
   "metadata": {},
   "outputs": [],
   "source": [
    "#for pump in pumps:\n",
    "#    print(u'{} => {}'.format(pump.id, pump.to_dict()))"
   ]
  },
  {
   "cell_type": "code",
   "execution_count": 210,
   "metadata": {
    "colab": {},
    "colab_type": "code",
    "id": "mHG-1nY4lSIr"
   },
   "outputs": [],
   "source": [
    "col= db.collection('Locations')"
   ]
  },
  {
   "cell_type": "code",
   "execution_count": 211,
   "metadata": {
    "colab": {},
    "colab_type": "code",
    "id": "9vAkEEAolYwP"
   },
   "outputs": [],
   "source": [
    "doc = col.document('Benin')"
   ]
  },
  {
   "cell_type": "code",
   "execution_count": 13,
   "metadata": {
    "colab": {},
    "colab_type": "code",
    "id": "1cqhJFwvml1T"
   },
   "outputs": [],
   "source": [
    "get_doc=doc.get()"
   ]
  },
  {
   "cell_type": "code",
   "execution_count": 14,
   "metadata": {
    "colab": {
     "base_uri": "https://localhost:8080/",
     "height": 34
    },
    "colab_type": "code",
    "id": "AOZeI1_vmwgE",
    "outputId": "53ec840c-0708-45d6-e62f-3dfb790bf952",
    "scrolled": true
   },
   "outputs": [
    {
     "name": "stdout",
     "output_type": "stream",
     "text": [
      "Benin => {'population': 11180000, 'id': 'Benin', 'coordinates': {'longitud': '2.315834', 'latitud': '9.30769'}}\n"
     ]
    }
   ],
   "source": [
    "print(u'{} => {}'.format(get_doc.id,get_doc.to_dict()))"
   ]
  },
  {
   "cell_type": "markdown",
   "metadata": {
    "colab_type": "text",
    "id": "RtjMV_OZ_bPM"
   },
   "source": [
    "# ABRIR LAS BBDD"
   ]
  },
  {
   "cell_type": "markdown",
   "metadata": {
    "colab_type": "text",
    "id": "8xW2qPCe_lDT"
   },
   "source": [
    "## OPEN GOOGLE SHEETS"
   ]
  },
  {
   "cell_type": "markdown",
   "metadata": {},
   "source": [
    "## AUTHENTIFICATION"
   ]
  },
  {
   "cell_type": "code",
   "execution_count": 4,
   "metadata": {},
   "outputs": [],
   "source": [
    "SCOPES = ['https://spreadsheets.google.com/feeds',\n",
    "         'https://www.googleapis.com/auth/drive',\n",
    "         'https://www.googleapis.com/auth/drive.file',\n",
    "         'https://www.googleapis.com/auth/spreadsheets.currentonly',\n",
    "         'https://www.googleapis.com/auth/spreadsheets',\n",
    "         'https://www.googleapis.com/auth/presentations',\n",
    "         'https://www.googleapis.com/auth/drive.scripts',\n",
    "         'https://www.googleapis.com/auth/drive.appdata',\n",
    "         'https://www.googleapis.com/auth/drive.metadata'\n",
    "        ]\n",
    "store = file.Storage('/Users/5danalfaro/OAN/credentials/storage.json')\n",
    "creds = store.get()\n",
    "if not creds or creds.invalid:\n",
    "    flow = client.flow_from_clientsecrets('/Users/5danalfaro/OAN/credentials/client_id.json', SCOPES)\n",
    "    creds = tools.run_flow(flow, store)\n",
    "drive_service = discovery.build('drive', 'v3', http=creds.authorize(Http()))\n",
    "sheet_service = discovery.build('sheets', 'v4', http=creds.authorize(Http()))"
   ]
  },
  {
   "cell_type": "markdown",
   "metadata": {},
   "source": [
    "## GOOGLE SHETS IDS"
   ]
  },
  {
   "cell_type": "code",
   "execution_count": 5,
   "metadata": {},
   "outputs": [],
   "source": [
    "spreadsheet_ids = yaml.load( open(\"/Users/5danalfaro/OAN/credentials/sheets_parameters.yaml\", \"r\" ),Loader=yaml.FullLoader)\n",
    "#bombas de 2018, ultima version\n",
    "ID1=str(spreadsheet_ids['ID1'])\n",
    "#bombas de 2016, ultima version\n",
    "ID2=str(spreadsheet_ids['ID2'])\n",
    "#bombas de 2009, ultima version\n",
    "ID3=str(spreadsheet_ids['ID3'])\n",
    "#bombas final, datos de 2016 y 2009\n",
    "ID4=str(spreadsheet_ids['ID4'])\n",
    "#bombas lisette\n",
    "ID5=str(spreadsheet_ids['ID5'])\n",
    "#demograpique data\n",
    "ID6=str(spreadsheet_ids['ID6'])"
   ]
  },
  {
   "cell_type": "markdown",
   "metadata": {
    "colab_type": "text",
    "id": "Yzqr9P9nFav0"
   },
   "source": [
    "## get sheets"
   ]
  },
  {
   "cell_type": "code",
   "execution_count": 716,
   "metadata": {},
   "outputs": [
    {
     "data": {
      "text/plain": [
       "'1WYGvBKMxdpwclamhp0VPb_WguyTx2b-rJsjnvdwl5-k'"
      ]
     },
     "execution_count": 716,
     "metadata": {},
     "output_type": "execute_result"
    }
   ],
   "source": [
    "ID5"
   ]
  },
  {
   "cell_type": "code",
   "execution_count": 17,
   "metadata": {
    "colab": {},
    "colab_type": "code",
    "id": "TmlXIbSK__ig"
   },
   "outputs": [],
   "source": [
    "ids = [ID1,ID2,ID3,ID5]\n",
    "dfs = []\n",
    "for ID in ids:\n",
    "    #SPREADSHEET_ID = ID\n",
    "    RANGE_NAME = 'Sheet1'\n",
    "    \n",
    "    gsheet = sheet_service.spreadsheets().values().get(spreadsheetId=ID, range=RANGE_NAME).execute()\n",
    "    \n",
    "    dfs.append(pd.DataFrame(gsheet.get('values', [])[1:],columns= gsheet.get('values', [])[0:1][0]))\n",
    "\n",
    "df_2019=dfs[0]\n",
    "df_2016=dfs[1]\n",
    "df_2009=dfs[2]\n",
    "df_lisette = dfs[3]"
   ]
  },
  {
   "cell_type": "code",
   "execution_count": 18,
   "metadata": {
    "colab": {
     "base_uri": "https://localhost:8080/",
     "height": 69
    },
    "colab_type": "code",
    "id": "JFsli7phvLmC",
    "outputId": "870e6716-b8af-432b-b88e-1831a8d869d4"
   },
   "outputs": [
    {
     "data": {
      "text/plain": [
       "array(['Fonctionnel', 'Panne', 'En panne', 'Tête de pompe', '2 pompes',\n",
       "       'Privé', '1  Pompe', '', 'Pompe', 'Pompe non', 'Faible débit',\n",
       "       '1 pompe', 'Kalale'], dtype=object)"
      ]
     },
     "execution_count": 18,
     "metadata": {},
     "output_type": "execute_result"
    }
   ],
   "source": [
    "dfs[1][\"Etat de l'ouvrage\"].unique()"
   ]
  },
  {
   "cell_type": "code",
   "execution_count": 19,
   "metadata": {
    "colab": {
     "base_uri": "https://localhost:8080/",
     "height": 173
    },
    "colab_type": "code",
    "id": "f1edXXKuADxS",
    "outputId": "f1147152-5bfc-4c6a-985d-f22e6b7d64ab"
   },
   "outputs": [
    {
     "data": {
      "text/plain": [
       "[Index(['Arrondissement', 'Village', 'Localite', 'Nom_Local', 'Longitude',\n",
       "        'Latitude', 'xCoord', 'yCoord', 'rqtListe_Pompe.Modele_Pompe'],\n",
       "       dtype='object'),\n",
       " Index(['N°', 'Arrondissement', 'Village', 'Localité', 'Hameau',\n",
       "        'Etat de l'ouvrage', 'Redevance', 'Année de réalisation', 'Marque'],\n",
       "       dtype='object'),\n",
       " Index(['Arrondissement', 'Village', 'Localité', 'Population', 'Type d'ouvrage',\n",
       "        'Etat', 'Longitude', 'Latitude', 'Domaine d'installation'],\n",
       "       dtype='object'),\n",
       " Index(['Departement', 'Commune', 'Arrondissement', 'Village', 'Localite',\n",
       "        'Nom_Local', 'Longitude', 'Latitude', 'xCoord', 'yCoord',\n",
       "        'Type_Exhaure', 'Modele_Pompe'],\n",
       "       dtype='object')]"
      ]
     },
     "execution_count": 19,
     "metadata": {},
     "output_type": "execute_result"
    }
   ],
   "source": [
    "[df.columns for df in dfs]\n",
    "#df_2016.head(2)\n",
    "#df_2009.head(2)"
   ]
  },
  {
   "cell_type": "markdown",
   "metadata": {
    "colab_type": "text",
    "id": "xl9ONa9Ot8mL"
   },
   "source": [
    "So common data is:\n",
    "\n",
    "* 2019 vs 2016: Arrondissement, Village, Localite, Marque\n",
    "\n",
    "* 2019 vs 2009: Arrondissement, Village, Localite, Longitude, Latitude\n",
    "\n",
    "* 2009 vs 2016: Arrondissement, Village, Localite, Etat\n",
    "\n",
    "ONLY DATA:\n",
    "\n",
    "* 2019: Nom_Local which is little identifier for more info on pumps\n",
    "\n",
    "* 2016: Année de réalisation, , Redevace, Hameau, which would be kind of the same as Nom_Local\n",
    "\n",
    "* 2009: Population, Type d'ouvrage\n",
    "\n",
    "MISSING:\n",
    "\n",
    "* 2019: Population, other villages, Année de réalisation, , Redevace, Hameau\n",
    "\n",
    "* 2016: Population, other villages\n",
    "\n",
    "* 2009: Année de réalisation, Redevace, Hameau"
   ]
  },
  {
   "cell_type": "markdown",
   "metadata": {
    "colab_type": "text",
    "id": "3u48Pkw7wkag"
   },
   "source": [
    "### LETS CLEAN THE DATA"
   ]
  },
  {
   "cell_type": "markdown",
   "metadata": {
    "colab_type": "text",
    "id": "31jD9gsH1daO"
   },
   "source": [
    "#### Functions"
   ]
  },
  {
   "cell_type": "code",
   "execution_count": 20,
   "metadata": {
    "colab": {},
    "colab_type": "code",
    "id": "mHAt1GY81guW"
   },
   "outputs": [],
   "source": [
    "#Marques des Pompes\n",
    "def marques(x,name,name2=0):\n",
    "    marque='NA'\n",
    "  \n",
    "    if x[name]:\n",
    "        if bool(re.search('ergnet',x[name].lower())):\n",
    "            marque='Vergnet'\n",
    "        elif bool(re.search('ndia',x[name].lower())):\n",
    "            marque='India'\n",
    "        elif bool(re.search('afri',x[name].lower())):\n",
    "            marque='Afridev'\n",
    "    elif x[name2]:\n",
    "        if bool(re.search('moteur',x[name2].lower())):\n",
    "            marque='pompe_a_moteur'\n",
    "    return marque"
   ]
  },
  {
   "cell_type": "code",
   "execution_count": 36,
   "metadata": {
    "colab": {},
    "colab_type": "code",
    "id": "y99B2ff51ln5"
   },
   "outputs": [],
   "source": [
    "#Years\n",
    "def getyear(x,col):\n",
    "    year=None\n",
    "    if x[col]:\n",
    "        for s in x[col].split():\n",
    "            if s.isdigit():\n",
    "                year=int(s)\n",
    "        if year==None:\n",
    "            return year\n",
    "    elif year >2019:\n",
    "        #print(year)\n",
    "        year=2010\n",
    "        return year\n",
    "    elif year > 100:\n",
    "        return int(year)\n",
    "    elif year >70:\n",
    "        year=int('19'+str(year))\n",
    "        return int(year)\n",
    "    else:\n",
    "        year=None\n",
    "    \n",
    "    return year"
   ]
  },
  {
   "cell_type": "code",
   "execution_count": 23,
   "metadata": {
    "colab": {},
    "colab_type": "code",
    "id": "IVw7BytI1rGk"
   },
   "outputs": [],
   "source": [
    "'''\n",
    "Function to change latitude/longitude data from degrees,minutes and seconds into decimals\n",
    "'''\n",
    "def decimals_lat_lon(x,lat):\n",
    "    coord=None\n",
    "    if x[lat]:\n",
    "        if len(x[lat])>2:\n",
    "            if len(re.split('[°\\'\"]', x[lat])) == 4 :\n",
    "        \n",
    "                #gets all the parts of the coordinates into different elements of a vector\n",
    "                deg, minutes, seconds, direction =  re.split('[°\\'\"]', x[lat])\n",
    "\n",
    "                #had to put replace commas because of data of 2009\n",
    "                coord=(float(deg) + float(minutes.replace(\",\",\".\"))/60 + float(seconds.replace(\",\",\".\"))/(60*60)) * (-1 if direction in ['W', 'S'] else 1)\n",
    "            elif len(re.split('[°\\'\"]', x[lat])) > 0:\n",
    "                coord=x[lat]\n",
    "                print(coord)\n",
    "    else:\n",
    "        coord=None\n",
    "        print(coord)\n",
    "    return coord"
   ]
  },
  {
   "cell_type": "markdown",
   "metadata": {},
   "source": [
    "# 2009"
   ]
  },
  {
   "cell_type": "markdown",
   "metadata": {},
   "source": [
    "2009 localite source of truth"
   ]
  },
  {
   "cell_type": "code",
   "execution_count": 24,
   "metadata": {
    "colab": {
     "base_uri": "https://localhost:8080/",
     "height": 70
    },
    "colab_type": "code",
    "id": "mGvS7rJJbQeQ",
    "outputId": "dbfd10c7-e4e2-4b88-97d4-16d71de4611e"
   },
   "outputs": [
    {
     "data": {
      "text/plain": [
       "Index(['Arrondissement', 'Village', 'Localité', 'Population', 'Type d'ouvrage',\n",
       "       'Etat', 'Longitude', 'Latitude', 'Domaine d'installation'],\n",
       "      dtype='object')"
      ]
     },
     "execution_count": 24,
     "metadata": {},
     "output_type": "execute_result"
    }
   ],
   "source": [
    "df_2009.columns"
   ]
  },
  {
   "cell_type": "code",
   "execution_count": 25,
   "metadata": {},
   "outputs": [],
   "source": [
    "df_2009.columns = [unidecode.unidecode(a.lower()) for a in df_2009.columns]"
   ]
  },
  {
   "cell_type": "code",
   "execution_count": 26,
   "metadata": {},
   "outputs": [
    {
     "data": {
      "text/plain": [
       "Index(['arrondissement', 'village', 'localite', 'population', 'type d'ouvrage',\n",
       "       'etat', 'longitude', 'latitude', 'domaine d'installation'],\n",
       "      dtype='object')"
      ]
     },
     "execution_count": 26,
     "metadata": {},
     "output_type": "execute_result"
    }
   ],
   "source": [
    "df_2009.columns"
   ]
  },
  {
   "cell_type": "code",
   "execution_count": 34,
   "metadata": {},
   "outputs": [
    {
     "data": {
      "text/html": [
       "<div>\n",
       "<style scoped>\n",
       "    .dataframe tbody tr th:only-of-type {\n",
       "        vertical-align: middle;\n",
       "    }\n",
       "\n",
       "    .dataframe tbody tr th {\n",
       "        vertical-align: top;\n",
       "    }\n",
       "\n",
       "    .dataframe thead th {\n",
       "        text-align: right;\n",
       "    }\n",
       "</style>\n",
       "<table border=\"1\" class=\"dataframe\">\n",
       "  <thead>\n",
       "    <tr style=\"text-align: right;\">\n",
       "      <th></th>\n",
       "      <th>arrondissement</th>\n",
       "      <th>village</th>\n",
       "      <th>localite</th>\n",
       "      <th>population</th>\n",
       "      <th>type d'ouvrage</th>\n",
       "      <th>etat</th>\n",
       "      <th>longitude</th>\n",
       "      <th>latitude</th>\n",
       "      <th>domaine d'installation</th>\n",
       "      <th>latitude_decimals</th>\n",
       "      <th>longitude_decimals</th>\n",
       "    </tr>\n",
       "  </thead>\n",
       "  <tbody>\n",
       "    <tr>\n",
       "      <td>0</td>\n",
       "      <td>BIRO</td>\n",
       "      <td>Biro</td>\n",
       "      <td>Bah Boré</td>\n",
       "      <td>150.0</td>\n",
       "      <td>/</td>\n",
       "      <td>/</td>\n",
       "      <td>/</td>\n",
       "      <td>/</td>\n",
       "      <td>/</td>\n",
       "      <td>NaN</td>\n",
       "      <td>NaN</td>\n",
       "    </tr>\n",
       "    <tr>\n",
       "      <td>1</td>\n",
       "      <td>BIRO</td>\n",
       "      <td>Biro</td>\n",
       "      <td>Biro</td>\n",
       "      <td>5000.0</td>\n",
       "      <td>FPM</td>\n",
       "      <td>Fonctionnel</td>\n",
       "      <td>02°56'48,5\"E</td>\n",
       "      <td>09°54'10,7\"N</td>\n",
       "      <td>Marché</td>\n",
       "      <td>9.902972</td>\n",
       "      <td>2.946806</td>\n",
       "    </tr>\n",
       "    <tr>\n",
       "      <td>2</td>\n",
       "      <td>BIRO</td>\n",
       "      <td>Biro</td>\n",
       "      <td>Biro</td>\n",
       "      <td>5000.0</td>\n",
       "      <td>FPM</td>\n",
       "      <td>Fonctionnel</td>\n",
       "      <td>02°56'52,0\"E</td>\n",
       "      <td>09°54'18,6\"N</td>\n",
       "      <td>Domaine public</td>\n",
       "      <td>9.905167</td>\n",
       "      <td>2.947778</td>\n",
       "    </tr>\n",
       "    <tr>\n",
       "      <td>3</td>\n",
       "      <td>BIRO</td>\n",
       "      <td>Biro</td>\n",
       "      <td>Biro</td>\n",
       "      <td>5000.0</td>\n",
       "      <td>FPM</td>\n",
       "      <td>Fonctionnel</td>\n",
       "      <td>02°57'03,7\"E</td>\n",
       "      <td>09°54'11,4\"N</td>\n",
       "      <td>Domaine public</td>\n",
       "      <td>9.903167</td>\n",
       "      <td>2.951028</td>\n",
       "    </tr>\n",
       "    <tr>\n",
       "      <td>4</td>\n",
       "      <td>BIRO</td>\n",
       "      <td>Biro</td>\n",
       "      <td>Biro</td>\n",
       "      <td>5000.0</td>\n",
       "      <td>PM</td>\n",
       "      <td>Fonctionnel</td>\n",
       "      <td>02°56'51,1\"E</td>\n",
       "      <td>09°54'08,5\"N</td>\n",
       "      <td>Marché</td>\n",
       "      <td>9.902361</td>\n",
       "      <td>2.947528</td>\n",
       "    </tr>\n",
       "  </tbody>\n",
       "</table>\n",
       "</div>"
      ],
      "text/plain": [
       "  arrondissement village  localite  population type d'ouvrage         etat  \\\n",
       "0           BIRO    Biro  Bah Boré       150.0              /            /   \n",
       "1           BIRO    Biro      Biro      5000.0            FPM  Fonctionnel   \n",
       "2           BIRO    Biro      Biro      5000.0            FPM  Fonctionnel   \n",
       "3           BIRO    Biro      Biro      5000.0            FPM  Fonctionnel   \n",
       "4           BIRO    Biro      Biro      5000.0             PM  Fonctionnel   \n",
       "\n",
       "      longitude      latitude domaine d'installation  latitude_decimals  \\\n",
       "0             /             /                      /                NaN   \n",
       "1  02°56'48,5\"E  09°54'10,7\"N                 Marché           9.902972   \n",
       "2  02°56'52,0\"E  09°54'18,6\"N         Domaine public           9.905167   \n",
       "3  02°57'03,7\"E  09°54'11,4\"N         Domaine public           9.903167   \n",
       "4  02°56'51,1\"E  09°54'08,5\"N                 Marché           9.902361   \n",
       "\n",
       "   longitude_decimals  \n",
       "0                 NaN  \n",
       "1            2.946806  \n",
       "2            2.947778  \n",
       "3            2.951028  \n",
       "4            2.947528  "
      ]
     },
     "execution_count": 34,
     "metadata": {},
     "output_type": "execute_result"
    }
   ],
   "source": [
    "df_2009.head()"
   ]
  },
  {
   "cell_type": "code",
   "execution_count": 43,
   "metadata": {},
   "outputs": [],
   "source": [
    "df_2009.columns=['arrondissement', 'village', 'localite', 'population', 'type',\n",
    "       'etat', 'longitude', 'latitude', 'domaine','latitude_decimals','longitude_decimals']"
   ]
  },
  {
   "cell_type": "code",
   "execution_count": 27,
   "metadata": {
    "colab": {
     "base_uri": "https://localhost:8080/",
     "height": 194
    },
    "colab_type": "code",
    "id": "nwdHijDXbOFh",
    "outputId": "7656352d-c9c7-48a7-9acd-bc2401eed569"
   },
   "outputs": [
    {
     "name": "stdout",
     "output_type": "stream",
     "text": [
      "None\n",
      "None\n",
      "None\n",
      "None\n",
      "None\n",
      "None\n",
      "None\n",
      "None\n",
      "None\n",
      "None\n"
     ]
    }
   ],
   "source": [
    "df_2009['latitude_decimals']=df_2009.apply(lambda x: decimals_lat_lon(x,'latitude'),axis=1)\n",
    "df_2009['longitude_decimals']=df_2009.apply(lambda x: decimals_lat_lon(x,'longitude'),axis=1)"
   ]
  },
  {
   "cell_type": "code",
   "execution_count": 29,
   "metadata": {},
   "outputs": [],
   "source": [
    "df_2009.population=pd.to_numeric(df_2009.population, errors='coerce')"
   ]
  },
  {
   "cell_type": "code",
   "execution_count": 44,
   "metadata": {},
   "outputs": [],
   "source": [
    "df_2009_tomerge=df_2009[['arrondissement', 'village', 'localite', 'type',\n",
    "                         'population','latitude_decimals','longitude_decimals']]"
   ]
  },
  {
   "cell_type": "markdown",
   "metadata": {},
   "source": [
    "# 2016"
   ]
  },
  {
   "cell_type": "code",
   "execution_count": 33,
   "metadata": {},
   "outputs": [
    {
     "data": {
      "text/plain": [
       "Index(['N°', 'Arrondissement', 'Village', 'Localité', 'Hameau',\n",
       "       'Etat de l'ouvrage', 'Redevance', 'Année de réalisation', 'Marque'],\n",
       "      dtype='object')"
      ]
     },
     "execution_count": 33,
     "metadata": {},
     "output_type": "execute_result"
    }
   ],
   "source": [
    "df_2016.columns"
   ]
  },
  {
   "cell_type": "code",
   "execution_count": 31,
   "metadata": {},
   "outputs": [
    {
     "data": {
      "text/html": [
       "<div>\n",
       "<style scoped>\n",
       "    .dataframe tbody tr th:only-of-type {\n",
       "        vertical-align: middle;\n",
       "    }\n",
       "\n",
       "    .dataframe tbody tr th {\n",
       "        vertical-align: top;\n",
       "    }\n",
       "\n",
       "    .dataframe thead th {\n",
       "        text-align: right;\n",
       "    }\n",
       "</style>\n",
       "<table border=\"1\" class=\"dataframe\">\n",
       "  <thead>\n",
       "    <tr style=\"text-align: right;\">\n",
       "      <th></th>\n",
       "      <th>N°</th>\n",
       "      <th>Arrondissement</th>\n",
       "      <th>Village</th>\n",
       "      <th>Localité</th>\n",
       "      <th>Hameau</th>\n",
       "      <th>Etat de l'ouvrage</th>\n",
       "      <th>Redevance</th>\n",
       "      <th>Année de réalisation</th>\n",
       "      <th>Marque</th>\n",
       "    </tr>\n",
       "  </thead>\n",
       "  <tbody>\n",
       "    <tr>\n",
       "      <td>0</td>\n",
       "      <td>284</td>\n",
       "      <td>BIRO</td>\n",
       "      <td>Biro</td>\n",
       "      <td>Nallou</td>\n",
       "      <td>Nallou Banikparou</td>\n",
       "      <td>Fonctionnel</td>\n",
       "      <td>Jamais</td>\n",
       "      <td>2004</td>\n",
       "      <td>Vergnet</td>\n",
       "    </tr>\n",
       "    <tr>\n",
       "      <td>1</td>\n",
       "      <td>285</td>\n",
       "      <td>BIRO</td>\n",
       "      <td>Biro</td>\n",
       "      <td>Goutto</td>\n",
       "      <td>Goutto</td>\n",
       "      <td>Fonctionnel</td>\n",
       "      <td>Jamais</td>\n",
       "      <td>2011</td>\n",
       "      <td>Vergnet</td>\n",
       "    </tr>\n",
       "    <tr>\n",
       "      <td>2</td>\n",
       "      <td>286</td>\n",
       "      <td>BIRO</td>\n",
       "      <td>Biro</td>\n",
       "      <td>Nanlou</td>\n",
       "      <td>Nanlou</td>\n",
       "      <td>Fonctionnel</td>\n",
       "      <td>Jamais</td>\n",
       "      <td></td>\n",
       "      <td>Vergnet</td>\n",
       "    </tr>\n",
       "    <tr>\n",
       "      <td>3</td>\n",
       "      <td>287</td>\n",
       "      <td>BIRO</td>\n",
       "      <td>Biro</td>\n",
       "      <td>Sarawodo</td>\n",
       "      <td>Sarawodo</td>\n",
       "      <td>Fonctionnel</td>\n",
       "      <td>Parfait</td>\n",
       "      <td>Entente 95</td>\n",
       "      <td>Vergnet</td>\n",
       "    </tr>\n",
       "    <tr>\n",
       "      <td>4</td>\n",
       "      <td>288</td>\n",
       "      <td>BIRO</td>\n",
       "      <td>Biro</td>\n",
       "      <td>Biro</td>\n",
       "      <td>Biro 1</td>\n",
       "      <td>Fonctionnel</td>\n",
       "      <td>Parfait</td>\n",
       "      <td>PPEA 2010</td>\n",
       "      <td>Vergnet</td>\n",
       "    </tr>\n",
       "  </tbody>\n",
       "</table>\n",
       "</div>"
      ],
      "text/plain": [
       "    N° Arrondissement Village  Localité             Hameau Etat de l'ouvrage  \\\n",
       "0  284           BIRO    Biro    Nallou  Nallou Banikparou       Fonctionnel   \n",
       "1  285           BIRO    Biro    Goutto             Goutto       Fonctionnel   \n",
       "2  286           BIRO    Biro    Nanlou             Nanlou       Fonctionnel   \n",
       "3  287           BIRO    Biro  Sarawodo           Sarawodo       Fonctionnel   \n",
       "4  288           BIRO    Biro      Biro             Biro 1       Fonctionnel   \n",
       "\n",
       "  Redevance Année de réalisation   Marque  \n",
       "0    Jamais                 2004  Vergnet  \n",
       "1    Jamais                 2011  Vergnet  \n",
       "2    Jamais                       Vergnet  \n",
       "3   Parfait           Entente 95  Vergnet  \n",
       "4   Parfait            PPEA 2010  Vergnet  "
      ]
     },
     "execution_count": 31,
     "metadata": {},
     "output_type": "execute_result"
    }
   ],
   "source": [
    "df_2016.head()"
   ]
  },
  {
   "cell_type": "code",
   "execution_count": 35,
   "metadata": {},
   "outputs": [],
   "source": [
    "df_2016.columns = [unidecode.unidecode(a.lower()) for a in df_2016.columns]"
   ]
  },
  {
   "cell_type": "code",
   "execution_count": 40,
   "metadata": {},
   "outputs": [],
   "source": [
    "df_2016.columns = ['n', 'arrondissement', 'village', 'localite', 'hameau',\n",
    "       'etat', 'redevance', 'annee', 'marque']"
   ]
  },
  {
   "cell_type": "code",
   "execution_count": 41,
   "metadata": {},
   "outputs": [],
   "source": [
    "df_2016.annee=pd.to_numeric(df_2016.annee,errors='coerce')"
   ]
  },
  {
   "cell_type": "code",
   "execution_count": 45,
   "metadata": {},
   "outputs": [],
   "source": [
    "df_2016_tomerge=df_2016[['arrondissement', 'village', 'localite', 'hameau',\n",
    "       'etat', 'redevance', 'annee', 'marque']]"
   ]
  },
  {
   "cell_type": "code",
   "execution_count": 59,
   "metadata": {},
   "outputs": [
    {
     "name": "stderr",
     "output_type": "stream",
     "text": [
      "/anaconda3/lib/python3.7/site-packages/ipykernel_launcher.py:1: SettingWithCopyWarning:\n",
      "\n",
      "\n",
      "A value is trying to be set on a copy of a slice from a DataFrame.\n",
      "Try using .loc[row_indexer,col_indexer] = value instead\n",
      "\n",
      "See the caveats in the documentation: http://pandas.pydata.org/pandas-docs/stable/user_guide/indexing.html#returning-a-view-versus-a-copy\n",
      "\n"
     ]
    }
   ],
   "source": [
    "df_2016_tomerge['marque']=df_2016_tomerge.apply(lambda x: marques(x,\"marque\"),axis=1)"
   ]
  },
  {
   "cell_type": "code",
   "execution_count": 61,
   "metadata": {},
   "outputs": [
    {
     "data": {
      "text/plain": [
       "Vergnet    224\n",
       "India       87\n",
       "NA          40\n",
       "Afridev      2\n",
       "Name: marque, dtype: int64"
      ]
     },
     "execution_count": 61,
     "metadata": {},
     "output_type": "execute_result"
    }
   ],
   "source": [
    "df_2016_tomerge['marque'].value_counts()"
   ]
  },
  {
   "cell_type": "markdown",
   "metadata": {
    "colab_type": "text",
    "id": "zubT2jcrwt3s"
   },
   "source": [
    "# 2019"
   ]
  },
  {
   "cell_type": "code",
   "execution_count": 46,
   "metadata": {
    "colab": {
     "base_uri": "https://localhost:8080/",
     "height": 52
    },
    "colab_type": "code",
    "id": "Nj7TkvBBAFYL",
    "outputId": "ace91e75-ded5-4307-e1aa-c0ed3e6688b1"
   },
   "outputs": [
    {
     "name": "stdout",
     "output_type": "stream",
     "text": [
      "None\n",
      "None\n"
     ]
    }
   ],
   "source": [
    "#Create decimals from degrees latitude\n",
    "df_2019['Latitude_decimals']=df_2019.apply(lambda x: decimals_lat_lon(x,'Latitude'),axis=1)"
   ]
  },
  {
   "cell_type": "code",
   "execution_count": 47,
   "metadata": {
    "colab": {
     "base_uri": "https://localhost:8080/",
     "height": 52
    },
    "colab_type": "code",
    "id": "SSPsnn5SnW9G",
    "outputId": "febd4935-cbc8-4134-b9d2-cd335cb090f8"
   },
   "outputs": [
    {
     "name": "stdout",
     "output_type": "stream",
     "text": [
      "None\n",
      "None\n"
     ]
    }
   ],
   "source": [
    "df_2019['Longitude_decimals']=df_2019.apply(lambda x: decimals_lat_lon(x,'Longitude'),axis=1)"
   ]
  },
  {
   "cell_type": "code",
   "execution_count": 49,
   "metadata": {},
   "outputs": [],
   "source": [
    "df_2019.columns = [unidecode.unidecode(a.lower()) for a in df_2019.columns]"
   ]
  },
  {
   "cell_type": "code",
   "execution_count": 51,
   "metadata": {},
   "outputs": [
    {
     "data": {
      "text/plain": [
       "Index(['arrondissement', 'village', 'localite', 'nom_local', 'longitude',\n",
       "       'latitude', 'xcoord', 'ycoord', 'rqtliste_pompe.modele_pompe',\n",
       "       'latitude_decimals', 'longitude_decimals'],\n",
       "      dtype='object')"
      ]
     },
     "execution_count": 51,
     "metadata": {},
     "output_type": "execute_result"
    }
   ],
   "source": [
    "df_2019.columns"
   ]
  },
  {
   "cell_type": "code",
   "execution_count": 63,
   "metadata": {},
   "outputs": [],
   "source": [
    "df_2019.columns=['arrondissement', 'village', 'localite', 'nom_local', 'longitude',\n",
    "       'latitude', 'xcoord', 'ycoord', 'marque',\n",
    "       'latitude_decimals', 'longitude_decimals']"
   ]
  },
  {
   "cell_type": "code",
   "execution_count": 68,
   "metadata": {
    "colab": {},
    "colab_type": "code",
    "id": "P4rX9UKBwsxk"
   },
   "outputs": [],
   "source": [
    "df_2019_tomerge = df_2019[['arrondissement', 'village', 'localite', 'nom_local', 'marque',\n",
    "       'latitude_decimals', 'longitude_decimals']]"
   ]
  },
  {
   "cell_type": "code",
   "execution_count": 69,
   "metadata": {
    "colab": {
     "base_uri": "https://localhost:8080/",
     "height": 156
    },
    "colab_type": "code",
    "id": "hOzHn44212R5",
    "outputId": "92788f5b-6ee3-4301-8948-130b2d37d88f"
   },
   "outputs": [
    {
     "name": "stderr",
     "output_type": "stream",
     "text": [
      "/anaconda3/lib/python3.7/site-packages/ipykernel_launcher.py:1: SettingWithCopyWarning:\n",
      "\n",
      "\n",
      "A value is trying to be set on a copy of a slice from a DataFrame.\n",
      "Try using .loc[row_indexer,col_indexer] = value instead\n",
      "\n",
      "See the caveats in the documentation: http://pandas.pydata.org/pandas-docs/stable/user_guide/indexing.html#returning-a-view-versus-a-copy\n",
      "\n"
     ]
    }
   ],
   "source": [
    "df_2019_tomerge['marque']=df_2019_tomerge.apply(lambda x: marques(x,\"marque\",),axis=1)"
   ]
  },
  {
   "cell_type": "code",
   "execution_count": 71,
   "metadata": {},
   "outputs": [
    {
     "data": {
      "text/plain": [
       "Vergnet    209\n",
       "NA          85\n",
       "India       47\n",
       "Afridev     24\n",
       "Name: marque, dtype: int64"
      ]
     },
     "execution_count": 71,
     "metadata": {},
     "output_type": "execute_result"
    }
   ],
   "source": [
    "df_2019_tomerge['marque'].value_counts()"
   ]
  },
  {
   "cell_type": "markdown",
   "metadata": {
    "colab_type": "text",
    "id": "J4X-N-uZAPug"
   },
   "source": [
    "## Process data of Lisette"
   ]
  },
  {
   "cell_type": "code",
   "execution_count": 72,
   "metadata": {
    "colab": {
     "base_uri": "https://localhost:8080/",
     "height": 197
    },
    "colab_type": "code",
    "id": "YblZBJKyAWji",
    "outputId": "04a830c1-7dd1-4bed-95cd-8ca40be59274"
   },
   "outputs": [
    {
     "data": {
      "text/html": [
       "<div>\n",
       "<style scoped>\n",
       "    .dataframe tbody tr th:only-of-type {\n",
       "        vertical-align: middle;\n",
       "    }\n",
       "\n",
       "    .dataframe tbody tr th {\n",
       "        vertical-align: top;\n",
       "    }\n",
       "\n",
       "    .dataframe thead th {\n",
       "        text-align: right;\n",
       "    }\n",
       "</style>\n",
       "<table border=\"1\" class=\"dataframe\">\n",
       "  <thead>\n",
       "    <tr style=\"text-align: right;\">\n",
       "      <th></th>\n",
       "      <th>Departement</th>\n",
       "      <th>Commune</th>\n",
       "      <th>Arrondissement</th>\n",
       "      <th>Village</th>\n",
       "      <th>Localite</th>\n",
       "      <th>Nom_Local</th>\n",
       "      <th>Longitude</th>\n",
       "      <th>Latitude</th>\n",
       "      <th>xCoord</th>\n",
       "      <th>yCoord</th>\n",
       "      <th>Type_Exhaure</th>\n",
       "      <th>Modele_Pompe</th>\n",
       "    </tr>\n",
       "  </thead>\n",
       "  <tbody>\n",
       "    <tr>\n",
       "      <td>0</td>\n",
       "      <td>BORGOU</td>\n",
       "      <td>NIKKI</td>\n",
       "      <td>BIRO</td>\n",
       "      <td>BIRO</td>\n",
       "      <td>BIRO NOUKOUROU</td>\n",
       "      <td></td>\n",
       "      <td>02°56'50.96\"E</td>\n",
       "      <td>09°54'18.50\"N</td>\n",
       "      <td>2.947489</td>\n",
       "      <td>9.905139</td>\n",
       "      <td>PMH</td>\n",
       "      <td>VERGNET 4C</td>\n",
       "    </tr>\n",
       "    <tr>\n",
       "      <td>1</td>\n",
       "      <td>BORGOU</td>\n",
       "      <td>NIKKI</td>\n",
       "      <td>BIRO</td>\n",
       "      <td>BIRO</td>\n",
       "      <td>GOUTTO</td>\n",
       "      <td></td>\n",
       "      <td>02°56'47.38\"E</td>\n",
       "      <td>09°54'59.99\"N</td>\n",
       "      <td>2.946494</td>\n",
       "      <td>9.916664</td>\n",
       "      <td>PMH</td>\n",
       "      <td>VERGNET 4D</td>\n",
       "    </tr>\n",
       "    <tr>\n",
       "      <td>2</td>\n",
       "      <td>BORGOU</td>\n",
       "      <td>NIKKI</td>\n",
       "      <td>BIRO</td>\n",
       "      <td>BIRO</td>\n",
       "      <td>SARAVONDO</td>\n",
       "      <td></td>\n",
       "      <td>02°58'29.33\"E</td>\n",
       "      <td>09°54'13.30\"N</td>\n",
       "      <td>2.974814</td>\n",
       "      <td>9.903694</td>\n",
       "      <td>PMH</td>\n",
       "      <td>VERGNET 4D</td>\n",
       "    </tr>\n",
       "    <tr>\n",
       "      <td>3</td>\n",
       "      <td>BORGOU</td>\n",
       "      <td>NIKKI</td>\n",
       "      <td>BIRO</td>\n",
       "      <td>BIRO</td>\n",
       "      <td>MADINA</td>\n",
       "      <td></td>\n",
       "      <td>02°56'44.34\"E</td>\n",
       "      <td>09°54'02.71\"N</td>\n",
       "      <td>2.94565</td>\n",
       "      <td>9.900753</td>\n",
       "      <td>PMH</td>\n",
       "      <td>VERGNET 4C</td>\n",
       "    </tr>\n",
       "    <tr>\n",
       "      <td>4</td>\n",
       "      <td>BORGOU</td>\n",
       "      <td>NIKKI</td>\n",
       "      <td>BIRO</td>\n",
       "      <td>BIRO</td>\n",
       "      <td>MADINA</td>\n",
       "      <td></td>\n",
       "      <td>02°56'46.83\"E</td>\n",
       "      <td>09°54'01.55\"N</td>\n",
       "      <td>2.946342</td>\n",
       "      <td>9.900431</td>\n",
       "      <td>PMH</td>\n",
       "      <td>VERGNET 4C</td>\n",
       "    </tr>\n",
       "  </tbody>\n",
       "</table>\n",
       "</div>"
      ],
      "text/plain": [
       "  Departement Commune Arrondissement Village        Localite Nom_Local  \\\n",
       "0      BORGOU   NIKKI           BIRO    BIRO  BIRO NOUKOUROU             \n",
       "1      BORGOU   NIKKI           BIRO    BIRO          GOUTTO             \n",
       "2      BORGOU   NIKKI           BIRO    BIRO       SARAVONDO             \n",
       "3      BORGOU   NIKKI           BIRO    BIRO          MADINA             \n",
       "4      BORGOU   NIKKI           BIRO    BIRO          MADINA             \n",
       "\n",
       "       Longitude       Latitude    xCoord    yCoord Type_Exhaure Modele_Pompe  \n",
       "0  02°56'50.96\"E  09°54'18.50\"N  2.947489  9.905139          PMH   VERGNET 4C  \n",
       "1  02°56'47.38\"E  09°54'59.99\"N  2.946494  9.916664          PMH   VERGNET 4D  \n",
       "2  02°58'29.33\"E  09°54'13.30\"N  2.974814  9.903694          PMH   VERGNET 4D  \n",
       "3  02°56'44.34\"E  09°54'02.71\"N   2.94565  9.900753          PMH   VERGNET 4C  \n",
       "4  02°56'46.83\"E  09°54'01.55\"N  2.946342  9.900431          PMH   VERGNET 4C  "
      ]
     },
     "execution_count": 72,
     "metadata": {},
     "output_type": "execute_result"
    }
   ],
   "source": [
    "df_lisette.head()"
   ]
  },
  {
   "cell_type": "code",
   "execution_count": 73,
   "metadata": {
    "colab": {},
    "colab_type": "code",
    "id": "7dKkdv3AAbvr"
   },
   "outputs": [],
   "source": [
    "#Create decimals from degrees latitude\n",
    "df_lisette['Latitude_decimals']=df_lisette.apply(lambda x: decimals_lat_lon(x,'Latitude'),axis=1)"
   ]
  },
  {
   "cell_type": "code",
   "execution_count": 74,
   "metadata": {
    "colab": {},
    "colab_type": "code",
    "id": "phQupZuxAo0u"
   },
   "outputs": [],
   "source": [
    "df_lisette['Longitude_decimals']=df_lisette.apply(lambda x: decimals_lat_lon(x,'Longitude'),axis=1)"
   ]
  },
  {
   "cell_type": "code",
   "execution_count": 75,
   "metadata": {
    "colab": {},
    "colab_type": "code",
    "id": "pKPEE8PCBMWA"
   },
   "outputs": [],
   "source": [
    "df_lisette['Marque']=df_lisette.apply(lambda x: marques(x,\"Modele_Pompe\",\"Type_Exhaure\"),axis=1)"
   ]
  },
  {
   "cell_type": "code",
   "execution_count": 76,
   "metadata": {},
   "outputs": [],
   "source": [
    "df_lisette.columns = [unidecode.unidecode(a.lower()) for a in df_lisette.columns]"
   ]
  },
  {
   "cell_type": "code",
   "execution_count": 78,
   "metadata": {},
   "outputs": [
    {
     "data": {
      "text/plain": [
       "Index(['departement', 'commune', 'arrondissement', 'village', 'localite',\n",
       "       'nom_local', 'longitude', 'latitude', 'xcoord', 'ycoord',\n",
       "       'type_exhaure', 'modele_pompe', 'latitude_decimals',\n",
       "       'longitude_decimals', 'marque'],\n",
       "      dtype='object')"
      ]
     },
     "execution_count": 78,
     "metadata": {},
     "output_type": "execute_result"
    }
   ],
   "source": [
    "df_lisette.columns"
   ]
  },
  {
   "cell_type": "code",
   "execution_count": 81,
   "metadata": {},
   "outputs": [],
   "source": [
    "df_lisette_tomerge= df_lisette[['arrondissement','village','localite','nom_local','latitude_decimals',\n",
    "                                'longitude_decimals','marque']]"
   ]
  },
  {
   "cell_type": "markdown",
   "metadata": {
    "colab_type": "text",
    "id": "2578uhpY5sbB"
   },
   "source": [
    "## VILLAGES\n",
    "\n",
    "Only Nikki - get villages from work done by FICAI: https://www.google.com/maps/d/edit?mid=1te53KEJYUJ2ulJLsGpa9S15suY1lNPGQ&ll=10.108170603054887%2C2.9732788000000028&z=8"
   ]
  },
  {
   "cell_type": "code",
   "execution_count": 82,
   "metadata": {
    "colab": {},
    "colab_type": "code",
    "id": "wz-sJyZbP0Tr"
   },
   "outputs": [],
   "source": [
    "import xml.sax, xml.sax.handler\n",
    "import re\n",
    "from zipfile import ZipFile"
   ]
  },
  {
   "cell_type": "code",
   "execution_count": 83,
   "metadata": {
    "colab": {},
    "colab_type": "code",
    "id": "e_WHVGatP2v1"
   },
   "outputs": [],
   "source": [
    "filename = 'Poblacion.kmz'\n",
    "\n",
    "kmz = ZipFile(filename, 'r')\n",
    "kml = kmz.open('doc.kml', 'r')"
   ]
  },
  {
   "cell_type": "code",
   "execution_count": 84,
   "metadata": {
    "colab": {},
    "colab_type": "code",
    "id": "LkMQlzjNP38T"
   },
   "outputs": [],
   "source": [
    "\n",
    "class PlacemarkHandler(xml.sax.handler.ContentHandler):\n",
    "    def __init__(self):\n",
    "        self.inName = False # handle XML parser events\n",
    "        self.inPlacemark = False\n",
    "        self.mapping = {} \n",
    "        self.buffer = \"\"\n",
    "        self.name_tag = \"\"\n",
    "        \n",
    "    def startElement(self, name, attributes):\n",
    "        if name == \"Placemark\": # on start Placemark tag\n",
    "            self.inPlacemark = True\n",
    "            self.buffer = \"\" \n",
    "        if self.inPlacemark:\n",
    "            if name == \"name\": # on start title tag\n",
    "                self.inName = True # save name text to follow\n",
    "            \n",
    "    def characters(self, data):\n",
    "        if self.inPlacemark: # on text within tag\n",
    "            self.buffer += data # save text if in title\n",
    "            \n",
    "    def endElement(self, name):\n",
    "        self.buffer = self.buffer.strip('\\n\\t')\n",
    "        \n",
    "        if name == \"Placemark\":\n",
    "            self.inPlacemark = False\n",
    "            self.name_tag = \"\" #clear current name\n",
    "        \n",
    "        elif name == \"name\" and self.inPlacemark:\n",
    "            self.inName = False # on end title tag            \n",
    "            self.name_tag = self.buffer.strip()\n",
    "            self.mapping[self.name_tag] = {}\n",
    "        elif self.inPlacemark:\n",
    "            if name in self.mapping[self.name_tag]:\n",
    "                self.mapping[self.name_tag][name] += self.buffer\n",
    "            else:\n",
    "                self.mapping[self.name_tag][name] = self.buffer\n",
    "        self.buffer = \"\""
   ]
  },
  {
   "cell_type": "code",
   "execution_count": 85,
   "metadata": {
    "colab": {},
    "colab_type": "code",
    "id": "s1mDSxzoP7Yx"
   },
   "outputs": [],
   "source": [
    "parser = xml.sax.make_parser()\n",
    "handler = PlacemarkHandler()\n",
    "parser.setContentHandler(handler)\n",
    "parser.parse(kml)\n",
    "kmz.close()"
   ]
  },
  {
   "cell_type": "code",
   "execution_count": 86,
   "metadata": {
    "colab": {},
    "colab_type": "code",
    "id": "AQdpmkT7P9Sz"
   },
   "outputs": [],
   "source": [
    "def build_table(mapping):\n",
    "    sep = ','\n",
    "        \n",
    "    output = []\n",
    "    shapes = ''\n",
    "    for key in mapping:\n",
    "        coord_str = mapping[key]['coordinates']\n",
    "        coords = re.findall('\\d.*,.*\\d', coord_str )\n",
    "        coord = coords[0].replace(',0',\"\")\n",
    "        coord = coord.split(',')\n",
    "        name = key.split(' - ')\n",
    "        if len(name)==1:\n",
    "          continue\n",
    "        else:\n",
    "          output.append({'Name':name[1],'Arrondissement':name[0],'Longitude':coord[0],'Latitude':coord[1]})\n",
    "    return output"
   ]
  },
  {
   "cell_type": "code",
   "execution_count": 87,
   "metadata": {
    "colab": {},
    "colab_type": "code",
    "id": "WxA3KXR5QDga"
   },
   "outputs": [],
   "source": [
    "outstr = build_table(handler.mapping)"
   ]
  },
  {
   "cell_type": "code",
   "execution_count": 88,
   "metadata": {
    "colab": {},
    "colab_type": "code",
    "id": "U7HxCulFQPTY"
   },
   "outputs": [],
   "source": [
    "df_villages = pd.DataFrame(outstr)"
   ]
  },
  {
   "cell_type": "code",
   "execution_count": 89,
   "metadata": {
    "colab": {},
    "colab_type": "code",
    "id": "8rA-rc7IQP9n"
   },
   "outputs": [],
   "source": [
    "df_villages = df_villages[['Name','Arrondissement','Longitude','Latitude']]"
   ]
  },
  {
   "cell_type": "code",
   "execution_count": 90,
   "metadata": {
    "colab": {},
    "colab_type": "code",
    "id": "YNMMO8bekGDT"
   },
   "outputs": [],
   "source": [
    "df_villages['Arrondissement'] = df_villages.apply(lambda x: 'GNONKOUROKALI' \n",
    "                                                  if bool(re.search('gnonkou',x['Arrondissement'].lower()))\n",
    "                                                  else str(x['Arrondissement']).upper(), \n",
    "                                                  axis=1)"
   ]
  },
  {
   "cell_type": "code",
   "execution_count": 91,
   "metadata": {},
   "outputs": [
    {
     "data": {
      "text/plain": [
       "84"
      ]
     },
     "execution_count": 91,
     "metadata": {},
     "output_type": "execute_result"
    }
   ],
   "source": [
    "len(df_villages)"
   ]
  },
  {
   "cell_type": "code",
   "execution_count": 93,
   "metadata": {},
   "outputs": [
    {
     "data": {
      "text/plain": [
       "90"
      ]
     },
     "execution_count": 93,
     "metadata": {},
     "output_type": "execute_result"
    }
   ],
   "source": [
    "len(df_lisette['village'].unique())"
   ]
  },
  {
   "cell_type": "code",
   "execution_count": 96,
   "metadata": {},
   "outputs": [],
   "source": [
    "df_villages_lisette =df_lisette.groupby('village')[['localite','longitude_decimals',\n",
    "                              'latitude_decimals']].apply(lambda group_series: \n",
    "                                                          (group_series['localite'].tolist(),\n",
    "                                                          group_series['longitude_decimals'].tolist(),\n",
    "                                                          group_series['latitude_decimals'].tolist())).reset_index()\n"
   ]
  },
  {
   "cell_type": "code",
   "execution_count": 97,
   "metadata": {},
   "outputs": [],
   "source": [
    "df_villages_lisette['arrondissement']=df_villages_lisette.apply(lambda x: \n",
    "                          df_lisette[df_lisette['village']==x['village']]['arrondissement'].values[0],\n",
    "                         axis=1)"
   ]
  },
  {
   "cell_type": "code",
   "execution_count": 98,
   "metadata": {},
   "outputs": [],
   "source": [
    "df_villages_lisette['arrondissement'] = df_villages_lisette.apply(lambda x: 'GNONKOUROKALI' \n",
    "                                                  if bool(re.search('gnonkou',x['arrondissement'].lower()))\n",
    "                                                  else str(x['arrondissement']).upper(), \n",
    "                                                  axis=1)"
   ]
  },
  {
   "cell_type": "code",
   "execution_count": 100,
   "metadata": {},
   "outputs": [],
   "source": [
    "l_villages = df_villages_lisette['village'].to_list()\n",
    "df_villages[['village','match']]=df_villages.apply(lambda x: pd.Series([(a[0],a[1]) for a in process.extract(x['Name'], \n",
    "                                                                 l_villages, \n",
    "                                                                 limit=1)][0]), axis=1)\n"
   ]
  },
  {
   "cell_type": "code",
   "execution_count": 101,
   "metadata": {},
   "outputs": [
    {
     "data": {
      "text/html": [
       "<div>\n",
       "<style scoped>\n",
       "    .dataframe tbody tr th:only-of-type {\n",
       "        vertical-align: middle;\n",
       "    }\n",
       "\n",
       "    .dataframe tbody tr th {\n",
       "        vertical-align: top;\n",
       "    }\n",
       "\n",
       "    .dataframe thead th {\n",
       "        text-align: right;\n",
       "    }\n",
       "</style>\n",
       "<table border=\"1\" class=\"dataframe\">\n",
       "  <thead>\n",
       "    <tr style=\"text-align: right;\">\n",
       "      <th></th>\n",
       "      <th>Name</th>\n",
       "      <th>Arrondissement</th>\n",
       "      <th>Longitude</th>\n",
       "      <th>Latitude</th>\n",
       "      <th>village</th>\n",
       "      <th>match</th>\n",
       "    </tr>\n",
       "  </thead>\n",
       "  <tbody>\n",
       "    <tr>\n",
       "      <td>19</td>\n",
       "      <td>Ouenou</td>\n",
       "      <td>OUENOU</td>\n",
       "      <td>3.2696342</td>\n",
       "      <td>9.9095441</td>\n",
       "      <td>OUENOU -NIKKI</td>\n",
       "      <td>90</td>\n",
       "    </tr>\n",
       "    <tr>\n",
       "      <td>21</td>\n",
       "      <td>Ourmon</td>\n",
       "      <td>OUENOU</td>\n",
       "      <td>3.3334923</td>\n",
       "      <td>9.8792314</td>\n",
       "      <td>OUROUMON</td>\n",
       "      <td>86</td>\n",
       "    </tr>\n",
       "    <tr>\n",
       "      <td>23</td>\n",
       "      <td>Tchikandou</td>\n",
       "      <td>OUENOU</td>\n",
       "      <td>3.3567309</td>\n",
       "      <td>9.8400999</td>\n",
       "      <td>TCHICANDOU</td>\n",
       "      <td>90</td>\n",
       "    </tr>\n",
       "    <tr>\n",
       "      <td>24</td>\n",
       "      <td>Gotel Centre</td>\n",
       "      <td>OUENOU</td>\n",
       "      <td>3.3747768</td>\n",
       "      <td>9.8603745</td>\n",
       "      <td>GOTEL</td>\n",
       "      <td>90</td>\n",
       "    </tr>\n",
       "    <tr>\n",
       "      <td>28</td>\n",
       "      <td>Gnel sanna</td>\n",
       "      <td>OUENOU</td>\n",
       "      <td>3.4461451</td>\n",
       "      <td>9.9443769</td>\n",
       "      <td>GNELSANDA</td>\n",
       "      <td>84</td>\n",
       "    </tr>\n",
       "    <tr>\n",
       "      <td>29</td>\n",
       "      <td>Goussogui Gouré Baba</td>\n",
       "      <td>OUENOU</td>\n",
       "      <td>3.4822369</td>\n",
       "      <td>9.9212963</td>\n",
       "      <td>GOSSOGUI- GOUREBABA</td>\n",
       "      <td>89</td>\n",
       "    </tr>\n",
       "    <tr>\n",
       "      <td>30</td>\n",
       "      <td>Barkedje (Gothel Centre)</td>\n",
       "      <td>OUENOU</td>\n",
       "      <td>3.3813429</td>\n",
       "      <td>9.8537362</td>\n",
       "      <td>BARKEDJE</td>\n",
       "      <td>90</td>\n",
       "    </tr>\n",
       "    <tr>\n",
       "      <td>36</td>\n",
       "      <td>Serekale Baka</td>\n",
       "      <td>SEREKALE</td>\n",
       "      <td>3.0428481</td>\n",
       "      <td>9.9187388</td>\n",
       "      <td>SEREKALI -BAKA</td>\n",
       "      <td>89</td>\n",
       "    </tr>\n",
       "    <tr>\n",
       "      <td>47</td>\n",
       "      <td>Dema</td>\n",
       "      <td>TASSO</td>\n",
       "      <td>3.1871939</td>\n",
       "      <td>9.7339712</td>\n",
       "      <td>DEMAN</td>\n",
       "      <td>89</td>\n",
       "    </tr>\n",
       "    <tr>\n",
       "      <td>54</td>\n",
       "      <td>Gbarire</td>\n",
       "      <td>TASSO</td>\n",
       "      <td>3.1944466</td>\n",
       "      <td>9.6748975</td>\n",
       "      <td>GBABIRE</td>\n",
       "      <td>86</td>\n",
       "    </tr>\n",
       "  </tbody>\n",
       "</table>\n",
       "</div>"
      ],
      "text/plain": [
       "                        Name Arrondissement  Longitude   Latitude  \\\n",
       "19                    Ouenou         OUENOU  3.2696342  9.9095441   \n",
       "21                    Ourmon         OUENOU  3.3334923  9.8792314   \n",
       "23                Tchikandou         OUENOU  3.3567309  9.8400999   \n",
       "24              Gotel Centre         OUENOU  3.3747768  9.8603745   \n",
       "28                Gnel sanna         OUENOU  3.4461451  9.9443769   \n",
       "29      Goussogui Gouré Baba         OUENOU  3.4822369  9.9212963   \n",
       "30  Barkedje (Gothel Centre)         OUENOU  3.3813429  9.8537362   \n",
       "36             Serekale Baka       SEREKALE  3.0428481  9.9187388   \n",
       "47                      Dema          TASSO  3.1871939  9.7339712   \n",
       "54                   Gbarire          TASSO  3.1944466  9.6748975   \n",
       "\n",
       "                village  match  \n",
       "19        OUENOU -NIKKI     90  \n",
       "21             OUROUMON     86  \n",
       "23           TCHICANDOU     90  \n",
       "24                GOTEL     90  \n",
       "28            GNELSANDA     84  \n",
       "29  GOSSOGUI- GOUREBABA     89  \n",
       "30             BARKEDJE     90  \n",
       "36       SEREKALI -BAKA     89  \n",
       "47                DEMAN     89  \n",
       "54              GBABIRE     86  "
      ]
     },
     "execution_count": 101,
     "metadata": {},
     "output_type": "execute_result"
    }
   ],
   "source": [
    "df_villages[df_villages['match']<92]"
   ]
  },
  {
   "cell_type": "code",
   "execution_count": 102,
   "metadata": {},
   "outputs": [
    {
     "data": {
      "text/plain": [
       "[('BARKEDJE', 90), ('GOTEL', 72)]"
      ]
     },
     "execution_count": 102,
     "metadata": {},
     "output_type": "execute_result"
    }
   ],
   "source": [
    "reanalysis='Barkedje (Gothel Centre)'\n",
    "process.extract(reanalysis,l_villages,limit=2)"
   ]
  },
  {
   "cell_type": "code",
   "execution_count": 103,
   "metadata": {},
   "outputs": [],
   "source": [
    "df_villages.loc[30,'Village']='GOTEL'"
   ]
  },
  {
   "cell_type": "code",
   "execution_count": 104,
   "metadata": {},
   "outputs": [
    {
     "data": {
      "text/html": [
       "<div>\n",
       "<style scoped>\n",
       "    .dataframe tbody tr th:only-of-type {\n",
       "        vertical-align: middle;\n",
       "    }\n",
       "\n",
       "    .dataframe tbody tr th {\n",
       "        vertical-align: top;\n",
       "    }\n",
       "\n",
       "    .dataframe thead th {\n",
       "        text-align: right;\n",
       "    }\n",
       "</style>\n",
       "<table border=\"1\" class=\"dataframe\">\n",
       "  <thead>\n",
       "    <tr style=\"text-align: right;\">\n",
       "      <th></th>\n",
       "      <th>Name</th>\n",
       "      <th>Arrondissement</th>\n",
       "      <th>Longitude</th>\n",
       "      <th>Latitude</th>\n",
       "      <th>village</th>\n",
       "      <th>match</th>\n",
       "      <th>Village</th>\n",
       "    </tr>\n",
       "  </thead>\n",
       "  <tbody>\n",
       "    <tr>\n",
       "      <td>30</td>\n",
       "      <td>Barkedje (Gothel Centre)</td>\n",
       "      <td>OUENOU</td>\n",
       "      <td>3.3813429</td>\n",
       "      <td>9.8537362</td>\n",
       "      <td>BARKEDJE</td>\n",
       "      <td>90</td>\n",
       "      <td>GOTEL</td>\n",
       "    </tr>\n",
       "  </tbody>\n",
       "</table>\n",
       "</div>"
      ],
      "text/plain": [
       "                        Name Arrondissement  Longitude   Latitude   village  \\\n",
       "30  Barkedje (Gothel Centre)         OUENOU  3.3813429  9.8537362  BARKEDJE   \n",
       "\n",
       "    match Village  \n",
       "30     90   GOTEL  "
      ]
     },
     "execution_count": 104,
     "metadata": {},
     "output_type": "execute_result"
    }
   ],
   "source": [
    "df_villages[df_villages['Village']=='GOTEL']"
   ]
  },
  {
   "cell_type": "code",
   "execution_count": 105,
   "metadata": {},
   "outputs": [
    {
     "data": {
      "text/plain": [
       "[]"
      ]
     },
     "execution_count": 105,
     "metadata": {},
     "output_type": "execute_result"
    }
   ],
   "source": [
    "[val for val in df_villages['Village'].value_counts().sort_values() if val>1]"
   ]
  },
  {
   "cell_type": "code",
   "execution_count": 106,
   "metadata": {},
   "outputs": [],
   "source": [
    "#df_villages=df_villages.drop(30)\n",
    "df_villages=df_villages.reset_index()"
   ]
  },
  {
   "cell_type": "code",
   "execution_count": 107,
   "metadata": {},
   "outputs": [],
   "source": [
    "df_villages=df_villages.drop('index',axis=1)"
   ]
  },
  {
   "cell_type": "code",
   "execution_count": 109,
   "metadata": {},
   "outputs": [],
   "source": [
    "df_villages_loc_pumps=pd.merge(df_villages_lisette,df_villages,on='village',how='outer')"
   ]
  },
  {
   "cell_type": "code",
   "execution_count": 112,
   "metadata": {},
   "outputs": [],
   "source": [
    "def getcoord_loc(x):\n",
    "    local=x[0]\n",
    "    l_local=local[0]\n",
    "    village=x['village']\n",
    "    \n",
    "    match=[(a[0]) for a in process.extract(village, \n",
    "                                           l_local, \n",
    "                                           limit=1)][0]\n",
    "    long=local[1][l_local.index(match)]\n",
    "    lat=local[2][l_local.index(match)]\n",
    "    \n",
    "    for col,value in zip(['Name','Latitude','Longitude'],[match,lat,long] ):\n",
    "    \n",
    "        df_villages_loc_pumps.loc[x.name,col] = value"
   ]
  },
  {
   "cell_type": "code",
   "execution_count": 113,
   "metadata": {},
   "outputs": [
    {
     "data": {
      "text/plain": [
       "9     None\n",
       "13    None\n",
       "21    None\n",
       "50    None\n",
       "84    None\n",
       "89    None\n",
       "90    None\n",
       "dtype: object"
      ]
     },
     "execution_count": 113,
     "metadata": {},
     "output_type": "execute_result"
    }
   ],
   "source": [
    "df_reanalysis = df_villages_loc_pumps[df_villages_loc_pumps['Name'].isna()]\n",
    "df_reanalysis.apply(lambda x: getcoord_loc(x), axis=1)"
   ]
  },
  {
   "cell_type": "code",
   "execution_count": 116,
   "metadata": {},
   "outputs": [
    {
     "data": {
      "text/plain": [
       "Index([       'village',                0, 'arrondissement',           'Name',\n",
       "       'Arrondissement',      'Longitude',       'Latitude',          'match',\n",
       "              'Village'],\n",
       "      dtype='object')"
      ]
     },
     "execution_count": 116,
     "metadata": {},
     "output_type": "execute_result"
    }
   ],
   "source": [
    "df_villages_loc_pumps.columns"
   ]
  },
  {
   "cell_type": "code",
   "execution_count": 117,
   "metadata": {},
   "outputs": [
    {
     "data": {
      "text/html": [
       "<div>\n",
       "<style scoped>\n",
       "    .dataframe tbody tr th:only-of-type {\n",
       "        vertical-align: middle;\n",
       "    }\n",
       "\n",
       "    .dataframe tbody tr th {\n",
       "        vertical-align: top;\n",
       "    }\n",
       "\n",
       "    .dataframe thead th {\n",
       "        text-align: right;\n",
       "    }\n",
       "</style>\n",
       "<table border=\"1\" class=\"dataframe\">\n",
       "  <thead>\n",
       "    <tr style=\"text-align: right;\">\n",
       "      <th></th>\n",
       "      <th>village</th>\n",
       "      <th>0</th>\n",
       "      <th>arrondissement</th>\n",
       "      <th>Name</th>\n",
       "      <th>Arrondissement</th>\n",
       "      <th>Longitude</th>\n",
       "      <th>Latitude</th>\n",
       "      <th>match</th>\n",
       "      <th>Village</th>\n",
       "    </tr>\n",
       "  </thead>\n",
       "  <tbody>\n",
       "    <tr>\n",
       "      <td>4</td>\n",
       "      <td>BARKEDJE</td>\n",
       "      <td>([GNEL PEDELE 1, BARIKEDJE], [3.28540833333333...</td>\n",
       "      <td>NIKKI</td>\n",
       "      <td>Barkedje (Gothel Centre)</td>\n",
       "      <td>OUENOU</td>\n",
       "      <td>3.3813429</td>\n",
       "      <td>9.8537362</td>\n",
       "      <td>90.0</td>\n",
       "      <td>GOTEL</td>\n",
       "    </tr>\n",
       "    <tr>\n",
       "      <td>9</td>\n",
       "      <td>BOO</td>\n",
       "      <td>([BOOH  1], [3.403436111111111], [9.980075])</td>\n",
       "      <td>NIKKI</td>\n",
       "      <td>BOOH  1</td>\n",
       "      <td>NaN</td>\n",
       "      <td>3.40344</td>\n",
       "      <td>9.98007</td>\n",
       "      <td>NaN</td>\n",
       "      <td>NaN</td>\n",
       "    </tr>\n",
       "    <tr>\n",
       "      <td>13</td>\n",
       "      <td>DANNON</td>\n",
       "      <td>([DANNON, GANDO BAKA], [3.050969444444444, 3.0...</td>\n",
       "      <td>SUYA</td>\n",
       "      <td>DANNON</td>\n",
       "      <td>NaN</td>\n",
       "      <td>3.05097</td>\n",
       "      <td>9.77238</td>\n",
       "      <td>NaN</td>\n",
       "      <td>NaN</td>\n",
       "    </tr>\n",
       "    <tr>\n",
       "      <td>21</td>\n",
       "      <td>GAH-GBEROU</td>\n",
       "      <td>([Bona Soua, Sèkentè], [3.3064194444444444, 3....</td>\n",
       "      <td>TASSO</td>\n",
       "      <td>Bona Soua</td>\n",
       "      <td>NaN</td>\n",
       "      <td>3.30642</td>\n",
       "      <td>9.73383</td>\n",
       "      <td>NaN</td>\n",
       "      <td>NaN</td>\n",
       "    </tr>\n",
       "    <tr>\n",
       "      <td>50</td>\n",
       "      <td>KOUSSOUKOU</td>\n",
       "      <td>([KRIKOUBE, GOURE BANGUI, KOUSSOUKOU 1, KRIKOU...</td>\n",
       "      <td>NIKKI</td>\n",
       "      <td>KOUSSOUKOU 1</td>\n",
       "      <td>NaN</td>\n",
       "      <td>3.24281</td>\n",
       "      <td>9.98464</td>\n",
       "      <td>NaN</td>\n",
       "      <td>NaN</td>\n",
       "    </tr>\n",
       "    <tr>\n",
       "      <td>84</td>\n",
       "      <td>TOTOROU</td>\n",
       "      <td>([TOTOROU], [3.2006555555555556], [9.951266666...</td>\n",
       "      <td>NIKKI</td>\n",
       "      <td>TOTOROU</td>\n",
       "      <td>NaN</td>\n",
       "      <td>3.20066</td>\n",
       "      <td>9.95127</td>\n",
       "      <td>NaN</td>\n",
       "      <td>NaN</td>\n",
       "    </tr>\n",
       "    <tr>\n",
       "      <td>89</td>\n",
       "      <td>YAO-GOUROU</td>\n",
       "      <td>([Kinta, Gah baka, Gnelkourarou, Bonyakou], [3...</td>\n",
       "      <td>SEREKALE</td>\n",
       "      <td>Gnelkourarou</td>\n",
       "      <td>NaN</td>\n",
       "      <td>3.02861</td>\n",
       "      <td>10.0606</td>\n",
       "      <td>NaN</td>\n",
       "      <td>NaN</td>\n",
       "    </tr>\n",
       "    <tr>\n",
       "      <td>90</td>\n",
       "      <td>YORAROU</td>\n",
       "      <td>([Séré Gando, Yorarou, Yorarou, Dakarou, Damon...</td>\n",
       "      <td>SEREKALE</td>\n",
       "      <td>Yorarou</td>\n",
       "      <td>NaN</td>\n",
       "      <td>3.04201</td>\n",
       "      <td>9.91689</td>\n",
       "      <td>NaN</td>\n",
       "      <td>NaN</td>\n",
       "    </tr>\n",
       "  </tbody>\n",
       "</table>\n",
       "</div>"
      ],
      "text/plain": [
       "       village                                                  0  \\\n",
       "4     BARKEDJE  ([GNEL PEDELE 1, BARIKEDJE], [3.28540833333333...   \n",
       "9          BOO       ([BOOH  1], [3.403436111111111], [9.980075])   \n",
       "13      DANNON  ([DANNON, GANDO BAKA], [3.050969444444444, 3.0...   \n",
       "21  GAH-GBEROU  ([Bona Soua, Sèkentè], [3.3064194444444444, 3....   \n",
       "50  KOUSSOUKOU  ([KRIKOUBE, GOURE BANGUI, KOUSSOUKOU 1, KRIKOU...   \n",
       "84     TOTOROU  ([TOTOROU], [3.2006555555555556], [9.951266666...   \n",
       "89  YAO-GOUROU  ([Kinta, Gah baka, Gnelkourarou, Bonyakou], [3...   \n",
       "90     YORAROU  ([Séré Gando, Yorarou, Yorarou, Dakarou, Damon...   \n",
       "\n",
       "   arrondissement                      Name Arrondissement  Longitude  \\\n",
       "4           NIKKI  Barkedje (Gothel Centre)         OUENOU  3.3813429   \n",
       "9           NIKKI                   BOOH  1            NaN    3.40344   \n",
       "13           SUYA                    DANNON            NaN    3.05097   \n",
       "21          TASSO                 Bona Soua            NaN    3.30642   \n",
       "50          NIKKI              KOUSSOUKOU 1            NaN    3.24281   \n",
       "84          NIKKI                   TOTOROU            NaN    3.20066   \n",
       "89       SEREKALE              Gnelkourarou            NaN    3.02861   \n",
       "90       SEREKALE                   Yorarou            NaN    3.04201   \n",
       "\n",
       "     Latitude  match Village  \n",
       "4   9.8537362   90.0   GOTEL  \n",
       "9     9.98007    NaN     NaN  \n",
       "13    9.77238    NaN     NaN  \n",
       "21    9.73383    NaN     NaN  \n",
       "50    9.98464    NaN     NaN  \n",
       "84    9.95127    NaN     NaN  \n",
       "89    10.0606    NaN     NaN  \n",
       "90    9.91689    NaN     NaN  "
      ]
     },
     "execution_count": 117,
     "metadata": {},
     "output_type": "execute_result"
    }
   ],
   "source": [
    "df_villages_loc_pumps[df_villages_loc_pumps['Arrondissement']!=df_villages_loc_pumps['arrondissement']]"
   ]
  },
  {
   "cell_type": "markdown",
   "metadata": {},
   "source": [
    "#All the village list in this picture\n",
    "\n",
    "<a href=\"https://drive.google.com/open?id=1W2HTUI9EqR_WdigA1m-tfFJ5NryyzqeS\" target=\"_parent\"><img src=\"http://icons.iconarchive.com/icons/marcus-roberto/google-play/256/Google-Drive-icon.png\" alt=\"Open In Drive\"/></a>"
   ]
  },
  {
   "cell_type": "code",
   "execution_count": 119,
   "metadata": {},
   "outputs": [],
   "source": [
    "df_villages_loc_pumps = df_villages_loc_pumps[['village',0,'Arrondissement','Name','Latitude','Longitude']]"
   ]
  },
  {
   "cell_type": "code",
   "execution_count": 120,
   "metadata": {},
   "outputs": [],
   "source": [
    "df_villages_loc_pumps.columns=['village','pump_loc','arrondissement','name','latitude','longitude']"
   ]
  },
  {
   "cell_type": "markdown",
   "metadata": {},
   "source": [
    "# LOCALITES"
   ]
  },
  {
   "cell_type": "code",
   "execution_count": 122,
   "metadata": {},
   "outputs": [
    {
     "data": {
      "text/plain": [
       "Index(['arrondissement', 'village', 'localite', 'population', 'type', 'etat',\n",
       "       'longitude', 'latitude', 'domaine', 'latitude_decimals',\n",
       "       'longitude_decimals'],\n",
       "      dtype='object')"
      ]
     },
     "execution_count": 122,
     "metadata": {},
     "output_type": "execute_result"
    }
   ],
   "source": [
    "df_2009.columns"
   ]
  },
  {
   "cell_type": "code",
   "execution_count": 123,
   "metadata": {},
   "outputs": [],
   "source": [
    "df_loc_2009 = df_2009.groupby('localite').agg(\n",
    "                            {\n",
    "                            \"type\":'unique',\n",
    "                            \"population\":'max',\n",
    "                            \"latitude_decimals\":'mean',\n",
    "                            \"longitude_decimals\":'mean',\n",
    "                            \"arrondissement\":'unique',\n",
    "                            \"village\":'unique'})"
   ]
  },
  {
   "cell_type": "code",
   "execution_count": 124,
   "metadata": {},
   "outputs": [],
   "source": [
    "df_loc_2009.columns = [col for col in df_loc_2009.columns.values]"
   ]
  },
  {
   "cell_type": "code",
   "execution_count": 125,
   "metadata": {},
   "outputs": [],
   "source": [
    "df_loc_2009=df_loc_2009.reset_index()"
   ]
  },
  {
   "cell_type": "code",
   "execution_count": 126,
   "metadata": {},
   "outputs": [],
   "source": [
    "df_loc_2009[['village','arrondissement']]=df_loc_2009.apply(lambda x: pd.Series([x['village'][0],\n",
    "                                                                       x['arrondissement'][0]]),axis=1)"
   ]
  },
  {
   "cell_type": "code",
   "execution_count": 127,
   "metadata": {},
   "outputs": [],
   "source": [
    "df_loc_2009.population=pd.to_numeric(df_loc_2009.population, errors='coerce')"
   ]
  },
  {
   "cell_type": "code",
   "execution_count": 130,
   "metadata": {},
   "outputs": [],
   "source": [
    "def count_pm_fpm(x):\n",
    "    types_ouvrage=list(x[\"type\"])\n",
    "    pm=types_ouvrage.count('PM')\n",
    "    fpm=types_ouvrage.count('FPM')\n",
    "    pt=types_ouvrage.count('PT')\n",
    "    none = types_ouvrage.count('/')\n",
    "    \n",
    "    if(len(types_ouvrage)!= (pm+fpm+pt+none)):\n",
    "        print(types_ouvrage)\n",
    "    return [pm,fpm,pt]"
   ]
  },
  {
   "cell_type": "code",
   "execution_count": 131,
   "metadata": {},
   "outputs": [
    {
     "name": "stdout",
     "output_type": "stream",
     "text": [
      "['FPM', 'PT', 'PM', 'BF 1', 'BF 2', 'BF 3', 'BF 4', 'BF 5']\n",
      "['PEA (Rampes de 4 robinets)', 'FPM']\n"
     ]
    }
   ],
   "source": [
    "df_loc_2009[['PM','FPM','PT']]=df_loc_2009.apply(lambda x: pd.Series(count_pm_fpm(x)), axis=1)"
   ]
  },
  {
   "cell_type": "code",
   "execution_count": 132,
   "metadata": {},
   "outputs": [],
   "source": [
    "df_loc_2009=df_loc_2009.drop(\"type\",axis=1)"
   ]
  },
  {
   "cell_type": "code",
   "execution_count": 133,
   "metadata": {},
   "outputs": [],
   "source": [
    "df_loc_2009['fpm_lisette']=df_loc_2009['FPM']"
   ]
  },
  {
   "cell_type": "code",
   "execution_count": 135,
   "metadata": {},
   "outputs": [],
   "source": [
    "df_loc_2009['localite_lisette']=df_loc_2009['localite']"
   ]
  },
  {
   "cell_type": "code",
   "execution_count": 136,
   "metadata": {},
   "outputs": [],
   "source": [
    "l_villages = df_villages_lisette['village'].to_list()\n",
    "df_loc_2009[['village_lisette','vil_match']]=df_loc_2009.apply(\n",
    "    lambda x: pd.Series([(a[0],a[1]) for a in process.extract(x['village'], \n",
    "                                                                 l_villages, \n",
    "                                                                 limit=1)][0]), axis=1)\n"
   ]
  },
  {
   "cell_type": "code",
   "execution_count": 141,
   "metadata": {},
   "outputs": [
    {
     "name": "stdout",
     "output_type": "stream",
     "text": [
      "SEMEROU serou 83\n",
      "CAMP goure tchame 68\n",
      "MADINA goure waignan 60\n",
      "DANNON bannon 83\n",
      "GOURE GOUDA gossogui goure\n",
      "baaba 86\n",
      "GANCHON gnanhoun 80\n",
      "BOUDAROU bouerou 80\n",
      "Sidi kparou agbo barthelemy kparou 86\n",
      "Gourè Alidou gannoure halidou 86\n",
      "Gnelsanda gnel sanna 84\n",
      "Gneltoko looko 72\n",
      "Sèriaworou serewondirou 73\n",
      "Banikanni baani 72\n",
      "Gourè Kariya goure karea 87\n",
      "Aladji Gaani Kparou alpha kparou 86\n",
      "GREFE KPAROU agbo barthelemy kparou 86\n",
      "Ouenra 2 angankirou 2 86\n",
      "Ouenra 1 angankirou 1 86\n",
      "SACABANSSI sakabansi 84\n",
      "SACABANSSI MISSION saabo 72\n",
      "Baraworou saka worou 74\n",
      "Dadi kparou agbo barthelemy kparou 86\n",
      "Gandérou dandegourou 74\n",
      "SOUNAAROU soumarou 82\n",
      "DJIBRIL KPAROU agbo barthelemy kparou 86\n",
      "TOTOROU tontarou 80\n",
      "Gah Sounon Kparou alazi kparou (ferme\n",
      "general) 86\n",
      "Petit paris tepa 68\n",
      "Dambourasson tepa\n",
      "(danbourasson; tairou kparou) 83\n",
      "nº of localités 280\n"
     ]
    }
   ],
   "source": [
    "i=0\n",
    "locs_2009 = [unidecode.unidecode(loc.lower()) for loc in df_loc_2009['localite'].to_list()]\n",
    "\n",
    "for loc_lisette,vill_lisette,arron_lisette in zip(df_villages_loc_pumps['pump_loc'].to_list(),\n",
    "                                                  df_villages_loc_pumps['village'].to_list(),\n",
    "                                                  df_villages_loc_pumps['arrondissement'].to_list()):\n",
    "    for loc in list(set(loc_lisette[0])):\n",
    "        find_loc = process.extract(unidecode.unidecode(loc.lower()),locs_2009,limit=1)\n",
    "        i+=1\n",
    "        loc_2009 = find_loc[0][0]\n",
    "        match =find_loc[0][1]\n",
    "        loc_f=process.extract(loc_2009,df_loc_2009['localite'].to_list(),limit=1)[0][0]\n",
    "        ind=df_loc_2009[df_loc_2009['localite']==loc_f].index[0]\n",
    "        if find_loc[0][1]<88:\n",
    "            print(loc,loc_2009,match)\n",
    "            df_loc_2009.loc[ind,'fpm_lisette']= None\n",
    "            df_loc_2009.loc[ind,'localite_lisette']= None\n",
    "            df_loc_2009.loc[ind,'arron_lisette']= None\n",
    "        else:\n",
    "            df_loc_2009.loc[ind,'fpm_lisette']=int(loc_lisette[0].count(loc))\n",
    "            df_loc_2009.loc[ind,'localite_lisette']=loc\n",
    "            df_loc_2009.loc[ind,'village_lisette']= vill_lisette\n",
    "            df_loc_2009.loc[ind,'arron_lisette']= arron_lisette\n",
    "            \n",
    "            \n",
    "print('nº of localités %3d'%i)"
   ]
  },
  {
   "cell_type": "code",
   "execution_count": 143,
   "metadata": {},
   "outputs": [
    {
     "data": {
      "text/plain": [
       "'TASSO'"
      ]
     },
     "execution_count": 143,
     "metadata": {},
     "output_type": "execute_result"
    }
   ],
   "source": [
    "df_villages_loc_pumps[df_villages_loc_pumps['village']=='TANAKPE']['arrondissement'].values[0]"
   ]
  },
  {
   "cell_type": "code",
   "execution_count": 144,
   "metadata": {},
   "outputs": [],
   "source": [
    "df_loc_2009['arron_lisette']=df_loc_2009.apply(lambda x: df_villages_loc_pumps[\n",
    "                                                        df_villages_loc_pumps['village']==x['village_lisette']\n",
    "                                                                ]['arrondissement'].values[0],\n",
    "                                              axis=1)"
   ]
  },
  {
   "cell_type": "code",
   "execution_count": 145,
   "metadata": {},
   "outputs": [
    {
     "data": {
      "text/html": [
       "<div>\n",
       "<style scoped>\n",
       "    .dataframe tbody tr th:only-of-type {\n",
       "        vertical-align: middle;\n",
       "    }\n",
       "\n",
       "    .dataframe tbody tr th {\n",
       "        vertical-align: top;\n",
       "    }\n",
       "\n",
       "    .dataframe thead th {\n",
       "        text-align: right;\n",
       "    }\n",
       "</style>\n",
       "<table border=\"1\" class=\"dataframe\">\n",
       "  <thead>\n",
       "    <tr style=\"text-align: right;\">\n",
       "      <th></th>\n",
       "      <th>localite</th>\n",
       "      <th>population</th>\n",
       "      <th>latitude_decimals</th>\n",
       "      <th>longitude_decimals</th>\n",
       "      <th>arrondissement</th>\n",
       "      <th>village</th>\n",
       "      <th>PM</th>\n",
       "      <th>FPM</th>\n",
       "      <th>PT</th>\n",
       "      <th>fpm_lisette</th>\n",
       "      <th>localite_lisette</th>\n",
       "      <th>village_lisette</th>\n",
       "      <th>vil_match</th>\n",
       "      <th>arron_lisette</th>\n",
       "    </tr>\n",
       "  </thead>\n",
       "  <tbody>\n",
       "    <tr>\n",
       "      <td>2</td>\n",
       "      <td>Agbo Barthélémy Kparou</td>\n",
       "      <td>100.0</td>\n",
       "      <td>NaN</td>\n",
       "      <td>NaN</td>\n",
       "      <td>NIKKI</td>\n",
       "      <td>Gori</td>\n",
       "      <td>0</td>\n",
       "      <td>0</td>\n",
       "      <td>0</td>\n",
       "      <td>NaN</td>\n",
       "      <td>None</td>\n",
       "      <td>GORI</td>\n",
       "      <td>100</td>\n",
       "      <td>NIKKI</td>\n",
       "    </tr>\n",
       "    <tr>\n",
       "      <td>4</td>\n",
       "      <td>Alazi Kparou (Ferme\\nGénéral)</td>\n",
       "      <td>22.0</td>\n",
       "      <td>10.028500</td>\n",
       "      <td>3.337306</td>\n",
       "      <td>NIKKI</td>\n",
       "      <td>Sakabansi</td>\n",
       "      <td>0</td>\n",
       "      <td>1</td>\n",
       "      <td>0</td>\n",
       "      <td>NaN</td>\n",
       "      <td>None</td>\n",
       "      <td>SAKABANSI</td>\n",
       "      <td>100</td>\n",
       "      <td>NIKKI</td>\n",
       "    </tr>\n",
       "    <tr>\n",
       "      <td>5</td>\n",
       "      <td>Alpha Kparou</td>\n",
       "      <td>73.0</td>\n",
       "      <td>9.891278</td>\n",
       "      <td>2.811806</td>\n",
       "      <td>BIRO</td>\n",
       "      <td>Ourarou</td>\n",
       "      <td>0</td>\n",
       "      <td>1</td>\n",
       "      <td>0</td>\n",
       "      <td>NaN</td>\n",
       "      <td>None</td>\n",
       "      <td>OURAROU</td>\n",
       "      <td>100</td>\n",
       "      <td>BIRO</td>\n",
       "    </tr>\n",
       "    <tr>\n",
       "      <td>7</td>\n",
       "      <td>Angankirou 1</td>\n",
       "      <td>283.0</td>\n",
       "      <td>9.796639</td>\n",
       "      <td>3.303056</td>\n",
       "      <td>NIKKI</td>\n",
       "      <td>Tontarou</td>\n",
       "      <td>1</td>\n",
       "      <td>0</td>\n",
       "      <td>0</td>\n",
       "      <td>NaN</td>\n",
       "      <td>None</td>\n",
       "      <td>ANGANKIROU</td>\n",
       "      <td>100</td>\n",
       "      <td>NIKKI</td>\n",
       "    </tr>\n",
       "    <tr>\n",
       "      <td>8</td>\n",
       "      <td>Angankirou 2</td>\n",
       "      <td>565.0</td>\n",
       "      <td>NaN</td>\n",
       "      <td>NaN</td>\n",
       "      <td>NIKKI</td>\n",
       "      <td>Tontarou</td>\n",
       "      <td>0</td>\n",
       "      <td>0</td>\n",
       "      <td>0</td>\n",
       "      <td>NaN</td>\n",
       "      <td>None</td>\n",
       "      <td>ANGANKIROU</td>\n",
       "      <td>100</td>\n",
       "      <td>NIKKI</td>\n",
       "    </tr>\n",
       "    <tr>\n",
       "      <td>11</td>\n",
       "      <td>Baani</td>\n",
       "      <td>600.0</td>\n",
       "      <td>10.003000</td>\n",
       "      <td>3.129694</td>\n",
       "      <td>SEREKALE</td>\n",
       "      <td>Ganrou Peuhl</td>\n",
       "      <td>0</td>\n",
       "      <td>1</td>\n",
       "      <td>0</td>\n",
       "      <td>NaN</td>\n",
       "      <td>None</td>\n",
       "      <td>BAANI</td>\n",
       "      <td>90</td>\n",
       "      <td>SEREKALE</td>\n",
       "    </tr>\n",
       "    <tr>\n",
       "      <td>112</td>\n",
       "      <td>Gannourè Halidou</td>\n",
       "      <td>150.0</td>\n",
       "      <td>NaN</td>\n",
       "      <td>NaN</td>\n",
       "      <td>OUENOU</td>\n",
       "      <td>Lafiarou</td>\n",
       "      <td>0</td>\n",
       "      <td>0</td>\n",
       "      <td>0</td>\n",
       "      <td>NaN</td>\n",
       "      <td>None</td>\n",
       "      <td>ALAFIAROU</td>\n",
       "      <td>94</td>\n",
       "      <td>OUENOU</td>\n",
       "    </tr>\n",
       "    <tr>\n",
       "      <td>137</td>\n",
       "      <td>Gnel Sanna</td>\n",
       "      <td>1402.0</td>\n",
       "      <td>9.941889</td>\n",
       "      <td>3.446014</td>\n",
       "      <td>OUENOU</td>\n",
       "      <td>Sansi</td>\n",
       "      <td>1</td>\n",
       "      <td>1</td>\n",
       "      <td>0</td>\n",
       "      <td>NaN</td>\n",
       "      <td>None</td>\n",
       "      <td>SANSI</td>\n",
       "      <td>100</td>\n",
       "      <td>OUENOU</td>\n",
       "    </tr>\n",
       "    <tr>\n",
       "      <td>165</td>\n",
       "      <td>Gourè Karèa</td>\n",
       "      <td>160.0</td>\n",
       "      <td>NaN</td>\n",
       "      <td>NaN</td>\n",
       "      <td>GNONKOUROKALI</td>\n",
       "      <td>Guèma</td>\n",
       "      <td>0</td>\n",
       "      <td>0</td>\n",
       "      <td>0</td>\n",
       "      <td>NaN</td>\n",
       "      <td>None</td>\n",
       "      <td>GUEMA</td>\n",
       "      <td>89</td>\n",
       "      <td>GNONKOUROKALI</td>\n",
       "    </tr>\n",
       "    <tr>\n",
       "      <td>226</td>\n",
       "      <td>Looko</td>\n",
       "      <td>60.0</td>\n",
       "      <td>NaN</td>\n",
       "      <td>NaN</td>\n",
       "      <td>NIKKI</td>\n",
       "      <td>Sakabansi</td>\n",
       "      <td>0</td>\n",
       "      <td>0</td>\n",
       "      <td>0</td>\n",
       "      <td>NaN</td>\n",
       "      <td>None</td>\n",
       "      <td>SAKABANSI</td>\n",
       "      <td>100</td>\n",
       "      <td>NIKKI</td>\n",
       "    </tr>\n",
       "    <tr>\n",
       "      <td>250</td>\n",
       "      <td>Saabo</td>\n",
       "      <td>100.0</td>\n",
       "      <td>NaN</td>\n",
       "      <td>NaN</td>\n",
       "      <td>NIKKI</td>\n",
       "      <td>Boucanèrè</td>\n",
       "      <td>0</td>\n",
       "      <td>0</td>\n",
       "      <td>0</td>\n",
       "      <td>NaN</td>\n",
       "      <td>None</td>\n",
       "      <td>BOUKANERE</td>\n",
       "      <td>75</td>\n",
       "      <td>NIKKI</td>\n",
       "    </tr>\n",
       "    <tr>\n",
       "      <td>253</td>\n",
       "      <td>Saka Worou</td>\n",
       "      <td>250.0</td>\n",
       "      <td>9.758528</td>\n",
       "      <td>3.244889</td>\n",
       "      <td>TASSO</td>\n",
       "      <td>Chein</td>\n",
       "      <td>0</td>\n",
       "      <td>1</td>\n",
       "      <td>0</td>\n",
       "      <td>NaN</td>\n",
       "      <td>None</td>\n",
       "      <td>CHEIN-TASSO</td>\n",
       "      <td>90</td>\n",
       "      <td>TASSO</td>\n",
       "    </tr>\n",
       "    <tr>\n",
       "      <td>254</td>\n",
       "      <td>Sakabansi</td>\n",
       "      <td>2163.0</td>\n",
       "      <td>10.040324</td>\n",
       "      <td>3.382921</td>\n",
       "      <td>NIKKI</td>\n",
       "      <td>Sakabansi</td>\n",
       "      <td>1</td>\n",
       "      <td>1</td>\n",
       "      <td>1</td>\n",
       "      <td>NaN</td>\n",
       "      <td>None</td>\n",
       "      <td>SAKABANSI</td>\n",
       "      <td>100</td>\n",
       "      <td>NIKKI</td>\n",
       "    </tr>\n",
       "    <tr>\n",
       "      <td>280</td>\n",
       "      <td>Soumarou</td>\n",
       "      <td>691.0</td>\n",
       "      <td>9.877569</td>\n",
       "      <td>3.124120</td>\n",
       "      <td>SUYA</td>\n",
       "      <td>Soumarou</td>\n",
       "      <td>1</td>\n",
       "      <td>1</td>\n",
       "      <td>0</td>\n",
       "      <td>NaN</td>\n",
       "      <td>None</td>\n",
       "      <td>SOUMAROU</td>\n",
       "      <td>100</td>\n",
       "      <td>SUYA</td>\n",
       "    </tr>\n",
       "    <tr>\n",
       "      <td>302</td>\n",
       "      <td>Tontarou</td>\n",
       "      <td>1034.0</td>\n",
       "      <td>9.838361</td>\n",
       "      <td>3.251639</td>\n",
       "      <td>NIKKI</td>\n",
       "      <td>Tontarou</td>\n",
       "      <td>1</td>\n",
       "      <td>1</td>\n",
       "      <td>0</td>\n",
       "      <td>NaN</td>\n",
       "      <td>None</td>\n",
       "      <td>TONTAROU</td>\n",
       "      <td>100</td>\n",
       "      <td>NIKKI</td>\n",
       "    </tr>\n",
       "    <tr>\n",
       "      <td>307</td>\n",
       "      <td>Tèpa</td>\n",
       "      <td>503.0</td>\n",
       "      <td>9.982722</td>\n",
       "      <td>3.203778</td>\n",
       "      <td>NIKKI</td>\n",
       "      <td>Nikki Gando</td>\n",
       "      <td>1</td>\n",
       "      <td>0</td>\n",
       "      <td>0</td>\n",
       "      <td>NaN</td>\n",
       "      <td>None</td>\n",
       "      <td>GANROU</td>\n",
       "      <td>66</td>\n",
       "      <td>SEREKALE</td>\n",
       "    </tr>\n",
       "    <tr>\n",
       "      <td>308</td>\n",
       "      <td>Tèpa\\n(Danbourasson; Taïrou Kparou)</td>\n",
       "      <td>160.0</td>\n",
       "      <td>NaN</td>\n",
       "      <td>NaN</td>\n",
       "      <td>GNONKOUROKALI</td>\n",
       "      <td>Woroumagassarou</td>\n",
       "      <td>0</td>\n",
       "      <td>0</td>\n",
       "      <td>0</td>\n",
       "      <td>NaN</td>\n",
       "      <td>None</td>\n",
       "      <td>WOROUMANGASSAROU</td>\n",
       "      <td>97</td>\n",
       "      <td>GNONKOUROKALI</td>\n",
       "    </tr>\n",
       "  </tbody>\n",
       "</table>\n",
       "</div>"
      ],
      "text/plain": [
       "                                localite  population  latitude_decimals  \\\n",
       "2                 Agbo Barthélémy Kparou       100.0                NaN   \n",
       "4          Alazi Kparou (Ferme\\nGénéral)        22.0          10.028500   \n",
       "5                           Alpha Kparou        73.0           9.891278   \n",
       "7                           Angankirou 1       283.0           9.796639   \n",
       "8                           Angankirou 2       565.0                NaN   \n",
       "11                                 Baani       600.0          10.003000   \n",
       "112                     Gannourè Halidou       150.0                NaN   \n",
       "137                           Gnel Sanna      1402.0           9.941889   \n",
       "165                          Gourè Karèa       160.0                NaN   \n",
       "226                                Looko        60.0                NaN   \n",
       "250                                Saabo       100.0                NaN   \n",
       "253                           Saka Worou       250.0           9.758528   \n",
       "254                            Sakabansi      2163.0          10.040324   \n",
       "280                             Soumarou       691.0           9.877569   \n",
       "302                             Tontarou      1034.0           9.838361   \n",
       "307                                 Tèpa       503.0           9.982722   \n",
       "308  Tèpa\\n(Danbourasson; Taïrou Kparou)       160.0                NaN   \n",
       "\n",
       "     longitude_decimals arrondissement          village  PM  FPM  PT  \\\n",
       "2                   NaN          NIKKI             Gori   0    0   0   \n",
       "4              3.337306          NIKKI        Sakabansi   0    1   0   \n",
       "5              2.811806           BIRO          Ourarou   0    1   0   \n",
       "7              3.303056          NIKKI         Tontarou   1    0   0   \n",
       "8                   NaN          NIKKI         Tontarou   0    0   0   \n",
       "11             3.129694       SEREKALE     Ganrou Peuhl   0    1   0   \n",
       "112                 NaN         OUENOU         Lafiarou   0    0   0   \n",
       "137            3.446014         OUENOU            Sansi   1    1   0   \n",
       "165                 NaN  GNONKOUROKALI            Guèma   0    0   0   \n",
       "226                 NaN          NIKKI        Sakabansi   0    0   0   \n",
       "250                 NaN          NIKKI        Boucanèrè   0    0   0   \n",
       "253            3.244889          TASSO            Chein   0    1   0   \n",
       "254            3.382921          NIKKI        Sakabansi   1    1   1   \n",
       "280            3.124120           SUYA         Soumarou   1    1   0   \n",
       "302            3.251639          NIKKI         Tontarou   1    1   0   \n",
       "307            3.203778          NIKKI      Nikki Gando   1    0   0   \n",
       "308                 NaN  GNONKOUROKALI  Woroumagassarou   0    0   0   \n",
       "\n",
       "     fpm_lisette localite_lisette   village_lisette  vil_match  arron_lisette  \n",
       "2            NaN             None              GORI        100          NIKKI  \n",
       "4            NaN             None         SAKABANSI        100          NIKKI  \n",
       "5            NaN             None           OURAROU        100           BIRO  \n",
       "7            NaN             None        ANGANKIROU        100          NIKKI  \n",
       "8            NaN             None        ANGANKIROU        100          NIKKI  \n",
       "11           NaN             None             BAANI         90       SEREKALE  \n",
       "112          NaN             None         ALAFIAROU         94         OUENOU  \n",
       "137          NaN             None             SANSI        100         OUENOU  \n",
       "165          NaN             None             GUEMA         89  GNONKOUROKALI  \n",
       "226          NaN             None         SAKABANSI        100          NIKKI  \n",
       "250          NaN             None         BOUKANERE         75          NIKKI  \n",
       "253          NaN             None       CHEIN-TASSO         90          TASSO  \n",
       "254          NaN             None         SAKABANSI        100          NIKKI  \n",
       "280          NaN             None          SOUMAROU        100           SUYA  \n",
       "302          NaN             None          TONTAROU        100          NIKKI  \n",
       "307          NaN             None            GANROU         66       SEREKALE  \n",
       "308          NaN             None  WOROUMANGASSAROU         97  GNONKOUROKALI  "
      ]
     },
     "execution_count": 145,
     "metadata": {},
     "output_type": "execute_result"
    }
   ],
   "source": [
    "df_loc_2009[df_loc_2009['fpm_lisette'].isna()]"
   ]
  },
  {
   "cell_type": "code",
   "execution_count": 146,
   "metadata": {},
   "outputs": [],
   "source": [
    "df_loc_2009['fpm']=df_loc_2009.apply(lambda x: x['fpm_lisette'] if x['fpm_lisette'] else x['FPM'],\n",
    "                                         axis=1)"
   ]
  },
  {
   "cell_type": "code",
   "execution_count": 148,
   "metadata": {},
   "outputs": [],
   "source": [
    "df_loc_2009['localite']=df_loc_2009.apply(lambda x: x['localite_lisette'] if x['localite_lisette'] else x['localite'],\n",
    "                                         axis=1)"
   ]
  },
  {
   "cell_type": "code",
   "execution_count": 149,
   "metadata": {},
   "outputs": [
    {
     "data": {
      "text/plain": [
       "90"
      ]
     },
     "execution_count": 149,
     "metadata": {},
     "output_type": "execute_result"
    }
   ],
   "source": [
    "len(df_villages_loc_pumps['village'].unique())"
   ]
  },
  {
   "cell_type": "code",
   "execution_count": 150,
   "metadata": {},
   "outputs": [
    {
     "data": {
      "text/plain": [
       "88"
      ]
     },
     "execution_count": 150,
     "metadata": {},
     "output_type": "execute_result"
    }
   ],
   "source": [
    "len(list(df_loc_2009['village_lisette'].unique()))"
   ]
  },
  {
   "cell_type": "code",
   "execution_count": 151,
   "metadata": {},
   "outputs": [
    {
     "data": {
      "text/plain": [
       "56"
      ]
     },
     "execution_count": 151,
     "metadata": {},
     "output_type": "execute_result"
    }
   ],
   "source": [
    "len(df_loc_2009['village'].unique())"
   ]
  },
  {
   "cell_type": "code",
   "execution_count": 153,
   "metadata": {},
   "outputs": [],
   "source": [
    "df_pop_vil=df_loc_2009.groupby('village_lisette').agg({'population':'sum'})"
   ]
  },
  {
   "cell_type": "code",
   "execution_count": 154,
   "metadata": {},
   "outputs": [],
   "source": [
    "df_pop_vil.columns = [col for col in df_pop_vil.columns.values]"
   ]
  },
  {
   "cell_type": "code",
   "execution_count": 155,
   "metadata": {},
   "outputs": [],
   "source": [
    "df_pop_vil=df_pop_vil.reset_index()"
   ]
  },
  {
   "cell_type": "code",
   "execution_count": 156,
   "metadata": {},
   "outputs": [],
   "source": [
    "df_pop_vil.columns=['village','population']"
   ]
  },
  {
   "cell_type": "code",
   "execution_count": 157,
   "metadata": {},
   "outputs": [],
   "source": [
    "df_vil_pre=df_villages_loc_pumps[['village','arrondissement','latitude','longitude']]"
   ]
  },
  {
   "cell_type": "code",
   "execution_count": 158,
   "metadata": {},
   "outputs": [],
   "source": [
    "df_vil_final=pd.merge(df_vil_pre,df_pop_vil,on='village',how='outer')"
   ]
  },
  {
   "cell_type": "code",
   "execution_count": 159,
   "metadata": {},
   "outputs": [
    {
     "data": {
      "text/plain": [
       "arrondissement\n",
       "BIRO             14115.0\n",
       "GNONKOUROKALI    23574.0\n",
       "NIKKI            45664.0\n",
       "OUENOU           18334.0\n",
       "SEREKALE         13000.0\n",
       "SUYA              7556.0\n",
       "TASSO            15268.0\n",
       "Name: population, dtype: float64"
      ]
     },
     "execution_count": 159,
     "metadata": {},
     "output_type": "execute_result"
    }
   ],
   "source": [
    "df_vil_final.groupby('arrondissement').sum()['population']"
   ]
  },
  {
   "cell_type": "code",
   "execution_count": 160,
   "metadata": {},
   "outputs": [
    {
     "data": {
      "text/html": [
       "<div>\n",
       "<style scoped>\n",
       "    .dataframe tbody tr th:only-of-type {\n",
       "        vertical-align: middle;\n",
       "    }\n",
       "\n",
       "    .dataframe tbody tr th {\n",
       "        vertical-align: top;\n",
       "    }\n",
       "\n",
       "    .dataframe thead th {\n",
       "        text-align: right;\n",
       "    }\n",
       "</style>\n",
       "<table border=\"1\" class=\"dataframe\">\n",
       "  <thead>\n",
       "    <tr style=\"text-align: right;\">\n",
       "      <th></th>\n",
       "      <th>village</th>\n",
       "      <th>arrondissement</th>\n",
       "      <th>latitude</th>\n",
       "      <th>longitude</th>\n",
       "      <th>population</th>\n",
       "    </tr>\n",
       "  </thead>\n",
       "  <tbody>\n",
       "    <tr>\n",
       "      <td>0</td>\n",
       "      <td>ALAFIAROU</td>\n",
       "      <td>OUENOU</td>\n",
       "      <td>9.9058555</td>\n",
       "      <td>3.4009337</td>\n",
       "      <td>1550.0</td>\n",
       "    </tr>\n",
       "    <tr>\n",
       "      <td>1</td>\n",
       "      <td>ANGANKIROU</td>\n",
       "      <td>NIKKI</td>\n",
       "      <td>9.8002871</td>\n",
       "      <td>3.3042026</td>\n",
       "      <td>1098.0</td>\n",
       "    </tr>\n",
       "    <tr>\n",
       "      <td>2</td>\n",
       "      <td>BAANI</td>\n",
       "      <td>SEREKALE</td>\n",
       "      <td>10.0136933</td>\n",
       "      <td>3.1317472</td>\n",
       "      <td>800.0</td>\n",
       "    </tr>\n",
       "    <tr>\n",
       "      <td>3</td>\n",
       "      <td>BANTERE</td>\n",
       "      <td>SUYA</td>\n",
       "      <td>9.853102</td>\n",
       "      <td>3.0919219</td>\n",
       "      <td>500.0</td>\n",
       "    </tr>\n",
       "    <tr>\n",
       "      <td>4</td>\n",
       "      <td>BARKEDJE</td>\n",
       "      <td>OUENOU</td>\n",
       "      <td>9.8537362</td>\n",
       "      <td>3.3813429</td>\n",
       "      <td>516.0</td>\n",
       "    </tr>\n",
       "  </tbody>\n",
       "</table>\n",
       "</div>"
      ],
      "text/plain": [
       "      village arrondissement    latitude  longitude  population\n",
       "0   ALAFIAROU         OUENOU   9.9058555  3.4009337      1550.0\n",
       "1  ANGANKIROU          NIKKI   9.8002871  3.3042026      1098.0\n",
       "2       BAANI       SEREKALE  10.0136933  3.1317472       800.0\n",
       "3     BANTERE           SUYA    9.853102  3.0919219       500.0\n",
       "4    BARKEDJE         OUENOU   9.8537362  3.3813429       516.0"
      ]
     },
     "execution_count": 160,
     "metadata": {},
     "output_type": "execute_result"
    }
   ],
   "source": [
    "## FINAL VILLAGE LIST\n",
    "\n",
    "df_vil_final.head()"
   ]
  },
  {
   "cell_type": "code",
   "execution_count": 161,
   "metadata": {},
   "outputs": [],
   "source": [
    "df_vil_final.columns=['Name','District','Latitude','Longitude','Population']"
   ]
  },
  {
   "cell_type": "code",
   "execution_count": 163,
   "metadata": {},
   "outputs": [],
   "source": [
    "df_local_final=df_loc_2009[['localite','arron_lisette','village_lisette','population',\n",
    "                            'latitude_decimals','longitude_decimals']]\n",
    "df_local_final.columns=['localite','arrondissement','village','population','latitude','longitude']\n"
   ]
  },
  {
   "cell_type": "code",
   "execution_count": 164,
   "metadata": {
    "colab": {},
    "colab_type": "code",
    "id": "JJf6m_9LmNyH"
   },
   "outputs": [],
   "source": [
    "df_loc_2009['n_per/fpm'] = df_loc_2009.apply(\n",
    "                                    lambda x: 10000 if x['fpm']==0 else x['population']/x['fpm'],axis=1)\n"
   ]
  },
  {
   "cell_type": "code",
   "execution_count": 165,
   "metadata": {},
   "outputs": [],
   "source": [
    "def status(x):\n",
    "    ind=x['n_per/fpm']\n",
    "    status='unknown'\n",
    "    if np.isnan(ind) or isinstance(ind, str):\n",
    "        return status\n",
    "    elif ind<250:\n",
    "        status='green'\n",
    "    elif ind <500:\n",
    "        status='orange'\n",
    "    elif ind==10000:\n",
    "        status='super_red'\n",
    "    elif ind>500:\n",
    "        status='red'\n",
    "    return status"
   ]
  },
  {
   "cell_type": "code",
   "execution_count": 166,
   "metadata": {},
   "outputs": [],
   "source": [
    "df_loc_2009['status'] = df_loc_2009.apply(lambda x: status(x),axis=1)"
   ]
  },
  {
   "cell_type": "code",
   "execution_count": 168,
   "metadata": {},
   "outputs": [],
   "source": [
    "df_loc_2009_final=df_loc_2009[['localite','village_lisette','arron_lisette','population',\n",
    "                  'latitude_decimals','longitude_decimals',\n",
    "                  'PM','PT','fpm','n_per/fpm','status']]"
   ]
  },
  {
   "cell_type": "code",
   "execution_count": 179,
   "metadata": {},
   "outputs": [],
   "source": [
    "df_loc_2009_final.columns=['localite','village','arrondissement','population',\n",
    "                  'latitude','longitude',\n",
    "                  'pm','pt','fpm','n_per/fpm','status']\n"
   ]
  },
  {
   "cell_type": "code",
   "execution_count": 170,
   "metadata": {},
   "outputs": [],
   "source": [
    "##final localites list\n",
    "df_loc_final = df_loc_2009_final[['localite','village','population',\n",
    "                  'latitude','longitude']]"
   ]
  },
  {
   "cell_type": "code",
   "execution_count": 589,
   "metadata": {},
   "outputs": [],
   "source": [
    "df_loc_final.columns=['Name','Village','Population',\n",
    "                  'Latitude','Longitude']"
   ]
  },
  {
   "cell_type": "markdown",
   "metadata": {},
   "source": [
    "# JOIN final and 2016"
   ]
  },
  {
   "cell_type": "code",
   "execution_count": 182,
   "metadata": {},
   "outputs": [
    {
     "data": {
      "text/html": [
       "<div>\n",
       "<style scoped>\n",
       "    .dataframe tbody tr th:only-of-type {\n",
       "        vertical-align: middle;\n",
       "    }\n",
       "\n",
       "    .dataframe tbody tr th {\n",
       "        vertical-align: top;\n",
       "    }\n",
       "\n",
       "    .dataframe thead th {\n",
       "        text-align: right;\n",
       "    }\n",
       "</style>\n",
       "<table border=\"1\" class=\"dataframe\">\n",
       "  <thead>\n",
       "    <tr style=\"text-align: right;\">\n",
       "      <th></th>\n",
       "      <th>localite</th>\n",
       "      <th>village</th>\n",
       "      <th>arrondissement</th>\n",
       "      <th>population</th>\n",
       "      <th>latitude</th>\n",
       "      <th>longitude</th>\n",
       "      <th>pm</th>\n",
       "      <th>pt</th>\n",
       "      <th>fpm</th>\n",
       "      <th>n_per/fpm</th>\n",
       "      <th>status</th>\n",
       "    </tr>\n",
       "  </thead>\n",
       "  <tbody>\n",
       "    <tr>\n",
       "      <td>15</td>\n",
       "      <td>Bah Boré</td>\n",
       "      <td>BIRO</td>\n",
       "      <td>BIRO</td>\n",
       "      <td>150.0</td>\n",
       "      <td>NaN</td>\n",
       "      <td>NaN</td>\n",
       "      <td>0</td>\n",
       "      <td>0</td>\n",
       "      <td>0.0</td>\n",
       "      <td>10000.000000</td>\n",
       "      <td>super_red</td>\n",
       "    </tr>\n",
       "    <tr>\n",
       "      <td>28</td>\n",
       "      <td>BIRO NOUKOUROU</td>\n",
       "      <td>BIRO</td>\n",
       "      <td>BIRO</td>\n",
       "      <td>5000.0</td>\n",
       "      <td>9.903519</td>\n",
       "      <td>2.945014</td>\n",
       "      <td>1</td>\n",
       "      <td>1</td>\n",
       "      <td>4.0</td>\n",
       "      <td>1250.000000</td>\n",
       "      <td>red</td>\n",
       "    </tr>\n",
       "    <tr>\n",
       "      <td>117</td>\n",
       "      <td>Gaouré (Sanni\\nKparou)</td>\n",
       "      <td>BIRO</td>\n",
       "      <td>BIRO</td>\n",
       "      <td>120.0</td>\n",
       "      <td>NaN</td>\n",
       "      <td>NaN</td>\n",
       "      <td>0</td>\n",
       "      <td>0</td>\n",
       "      <td>0.0</td>\n",
       "      <td>10000.000000</td>\n",
       "      <td>super_red</td>\n",
       "    </tr>\n",
       "    <tr>\n",
       "      <td>241</td>\n",
       "      <td>Oumarou Kparou 1 (Sabo)</td>\n",
       "      <td>BIRO</td>\n",
       "      <td>BIRO</td>\n",
       "      <td>200.0</td>\n",
       "      <td>NaN</td>\n",
       "      <td>NaN</td>\n",
       "      <td>0</td>\n",
       "      <td>0</td>\n",
       "      <td>0.0</td>\n",
       "      <td>10000.000000</td>\n",
       "      <td>super_red</td>\n",
       "    </tr>\n",
       "    <tr>\n",
       "      <td>262</td>\n",
       "      <td>SARAVONDO</td>\n",
       "      <td>BIRO</td>\n",
       "      <td>BIRO</td>\n",
       "      <td>350.0</td>\n",
       "      <td>9.904556</td>\n",
       "      <td>2.974125</td>\n",
       "      <td>1</td>\n",
       "      <td>0</td>\n",
       "      <td>1.0</td>\n",
       "      <td>350.000000</td>\n",
       "      <td>orange</td>\n",
       "    </tr>\n",
       "    <tr>\n",
       "      <td>...</td>\n",
       "      <td>...</td>\n",
       "      <td>...</td>\n",
       "      <td>...</td>\n",
       "      <td>...</td>\n",
       "      <td>...</td>\n",
       "      <td>...</td>\n",
       "      <td>...</td>\n",
       "      <td>...</td>\n",
       "      <td>...</td>\n",
       "      <td>...</td>\n",
       "      <td>...</td>\n",
       "    </tr>\n",
       "    <tr>\n",
       "      <td>199</td>\n",
       "      <td>Kinta</td>\n",
       "      <td>YAO-GOUROU</td>\n",
       "      <td>NaN</td>\n",
       "      <td>300.0</td>\n",
       "      <td>10.037319</td>\n",
       "      <td>3.036597</td>\n",
       "      <td>1</td>\n",
       "      <td>0</td>\n",
       "      <td>1.0</td>\n",
       "      <td>300.000000</td>\n",
       "      <td>orange</td>\n",
       "    </tr>\n",
       "    <tr>\n",
       "      <td>57</td>\n",
       "      <td>Dakarou</td>\n",
       "      <td>YORAROU</td>\n",
       "      <td>NaN</td>\n",
       "      <td>300.0</td>\n",
       "      <td>9.896528</td>\n",
       "      <td>3.029972</td>\n",
       "      <td>0</td>\n",
       "      <td>0</td>\n",
       "      <td>1.0</td>\n",
       "      <td>300.000000</td>\n",
       "      <td>orange</td>\n",
       "    </tr>\n",
       "    <tr>\n",
       "      <td>59</td>\n",
       "      <td>Damonsi</td>\n",
       "      <td>YORAROU</td>\n",
       "      <td>NaN</td>\n",
       "      <td>250.0</td>\n",
       "      <td>NaN</td>\n",
       "      <td>NaN</td>\n",
       "      <td>0</td>\n",
       "      <td>0</td>\n",
       "      <td>1.0</td>\n",
       "      <td>250.000000</td>\n",
       "      <td>orange</td>\n",
       "    </tr>\n",
       "    <tr>\n",
       "      <td>100</td>\n",
       "      <td>Yorarou</td>\n",
       "      <td>YORAROU</td>\n",
       "      <td>NaN</td>\n",
       "      <td>100.0</td>\n",
       "      <td>NaN</td>\n",
       "      <td>NaN</td>\n",
       "      <td>0</td>\n",
       "      <td>0</td>\n",
       "      <td>3.0</td>\n",
       "      <td>33.333333</td>\n",
       "      <td>green</td>\n",
       "    </tr>\n",
       "    <tr>\n",
       "      <td>288</td>\n",
       "      <td>Séré Gando</td>\n",
       "      <td>YORAROU</td>\n",
       "      <td>NaN</td>\n",
       "      <td>150.0</td>\n",
       "      <td>9.912083</td>\n",
       "      <td>3.028306</td>\n",
       "      <td>0</td>\n",
       "      <td>0</td>\n",
       "      <td>1.0</td>\n",
       "      <td>150.000000</td>\n",
       "      <td>green</td>\n",
       "    </tr>\n",
       "  </tbody>\n",
       "</table>\n",
       "<p>326 rows × 11 columns</p>\n",
       "</div>"
      ],
      "text/plain": [
       "                    localite     village arrondissement  population  \\\n",
       "15                  Bah Boré        BIRO           BIRO       150.0   \n",
       "28            BIRO NOUKOUROU        BIRO           BIRO      5000.0   \n",
       "117   Gaouré (Sanni\\nKparou)        BIRO           BIRO       120.0   \n",
       "241  Oumarou Kparou 1 (Sabo)        BIRO           BIRO       200.0   \n",
       "262                SARAVONDO        BIRO           BIRO       350.0   \n",
       "..                       ...         ...            ...         ...   \n",
       "199                    Kinta  YAO-GOUROU            NaN       300.0   \n",
       "57                   Dakarou     YORAROU            NaN       300.0   \n",
       "59                   Damonsi     YORAROU            NaN       250.0   \n",
       "100                  Yorarou     YORAROU            NaN       100.0   \n",
       "288               Séré Gando     YORAROU            NaN       150.0   \n",
       "\n",
       "      latitude  longitude  pm  pt  fpm     n_per/fpm     status  \n",
       "15         NaN        NaN   0   0  0.0  10000.000000  super_red  \n",
       "28    9.903519   2.945014   1   1  4.0   1250.000000        red  \n",
       "117        NaN        NaN   0   0  0.0  10000.000000  super_red  \n",
       "241        NaN        NaN   0   0  0.0  10000.000000  super_red  \n",
       "262   9.904556   2.974125   1   0  1.0    350.000000     orange  \n",
       "..         ...        ...  ..  ..  ...           ...        ...  \n",
       "199  10.037319   3.036597   1   0  1.0    300.000000     orange  \n",
       "57    9.896528   3.029972   0   0  1.0    300.000000     orange  \n",
       "59         NaN        NaN   0   0  1.0    250.000000     orange  \n",
       "100        NaN        NaN   0   0  3.0     33.333333      green  \n",
       "288   9.912083   3.028306   0   0  1.0    150.000000      green  \n",
       "\n",
       "[326 rows x 11 columns]"
      ]
     },
     "execution_count": 182,
     "metadata": {},
     "output_type": "execute_result"
    }
   ],
   "source": [
    "df_loc_2009_final.sort_values(by=['arrondissement','village'])"
   ]
  },
  {
   "cell_type": "code",
   "execution_count": 176,
   "metadata": {},
   "outputs": [
    {
     "data": {
      "text/html": [
       "<div>\n",
       "<style scoped>\n",
       "    .dataframe tbody tr th:only-of-type {\n",
       "        vertical-align: middle;\n",
       "    }\n",
       "\n",
       "    .dataframe tbody tr th {\n",
       "        vertical-align: top;\n",
       "    }\n",
       "\n",
       "    .dataframe thead th {\n",
       "        text-align: right;\n",
       "    }\n",
       "</style>\n",
       "<table border=\"1\" class=\"dataframe\">\n",
       "  <thead>\n",
       "    <tr style=\"text-align: right;\">\n",
       "      <th></th>\n",
       "      <th>arrondissement</th>\n",
       "      <th>village</th>\n",
       "      <th>localite</th>\n",
       "      <th>hameau</th>\n",
       "      <th>etat</th>\n",
       "      <th>redevance</th>\n",
       "      <th>annee</th>\n",
       "      <th>marque</th>\n",
       "    </tr>\n",
       "  </thead>\n",
       "  <tbody>\n",
       "    <tr>\n",
       "      <td>0</td>\n",
       "      <td>BIRO</td>\n",
       "      <td>Biro</td>\n",
       "      <td>Nallou</td>\n",
       "      <td>Nallou Banikparou</td>\n",
       "      <td>Fonctionnel</td>\n",
       "      <td>Jamais</td>\n",
       "      <td>2004.0</td>\n",
       "      <td>Vergnet</td>\n",
       "    </tr>\n",
       "    <tr>\n",
       "      <td>1</td>\n",
       "      <td>BIRO</td>\n",
       "      <td>Biro</td>\n",
       "      <td>Goutto</td>\n",
       "      <td>Goutto</td>\n",
       "      <td>Fonctionnel</td>\n",
       "      <td>Jamais</td>\n",
       "      <td>2011.0</td>\n",
       "      <td>Vergnet</td>\n",
       "    </tr>\n",
       "    <tr>\n",
       "      <td>2</td>\n",
       "      <td>BIRO</td>\n",
       "      <td>Biro</td>\n",
       "      <td>Nanlou</td>\n",
       "      <td>Nanlou</td>\n",
       "      <td>Fonctionnel</td>\n",
       "      <td>Jamais</td>\n",
       "      <td>NaN</td>\n",
       "      <td>Vergnet</td>\n",
       "    </tr>\n",
       "    <tr>\n",
       "      <td>3</td>\n",
       "      <td>BIRO</td>\n",
       "      <td>Biro</td>\n",
       "      <td>Sarawodo</td>\n",
       "      <td>Sarawodo</td>\n",
       "      <td>Fonctionnel</td>\n",
       "      <td>Parfait</td>\n",
       "      <td>NaN</td>\n",
       "      <td>Vergnet</td>\n",
       "    </tr>\n",
       "    <tr>\n",
       "      <td>4</td>\n",
       "      <td>BIRO</td>\n",
       "      <td>Biro</td>\n",
       "      <td>Biro</td>\n",
       "      <td>Biro 1</td>\n",
       "      <td>Fonctionnel</td>\n",
       "      <td>Parfait</td>\n",
       "      <td>NaN</td>\n",
       "      <td>Vergnet</td>\n",
       "    </tr>\n",
       "    <tr>\n",
       "      <td>...</td>\n",
       "      <td>...</td>\n",
       "      <td>...</td>\n",
       "      <td>...</td>\n",
       "      <td>...</td>\n",
       "      <td>...</td>\n",
       "      <td>...</td>\n",
       "      <td>...</td>\n",
       "      <td>...</td>\n",
       "    </tr>\n",
       "    <tr>\n",
       "      <td>348</td>\n",
       "      <td>TASSO</td>\n",
       "      <td>Tanakpé</td>\n",
       "      <td>Sèkentè</td>\n",
       "      <td>Sèkentè</td>\n",
       "      <td>Panne</td>\n",
       "      <td>Jamais</td>\n",
       "      <td>NaN</td>\n",
       "      <td>Vergnet</td>\n",
       "    </tr>\n",
       "    <tr>\n",
       "      <td>349</td>\n",
       "      <td>TASSO</td>\n",
       "      <td>Chein</td>\n",
       "      <td>Saka Worou</td>\n",
       "      <td>Saka Worou</td>\n",
       "      <td>Fonctionnel</td>\n",
       "      <td>Une fois</td>\n",
       "      <td>NaN</td>\n",
       "      <td>Vergnet</td>\n",
       "    </tr>\n",
       "    <tr>\n",
       "      <td>350</td>\n",
       "      <td>TASSO</td>\n",
       "      <td>Tchein</td>\n",
       "      <td>Chein Gbérou Kpanin</td>\n",
       "      <td>Chein Kpa (Tchein Kala)</td>\n",
       "      <td>Fonctionnel</td>\n",
       "      <td>Jamais</td>\n",
       "      <td>NaN</td>\n",
       "      <td>Vergnet</td>\n",
       "    </tr>\n",
       "    <tr>\n",
       "      <td>351</td>\n",
       "      <td>TASSO</td>\n",
       "      <td>Chein</td>\n",
       "      <td>Chein Gourou</td>\n",
       "      <td>Chein Gourou</td>\n",
       "      <td>Fonctionnel</td>\n",
       "      <td>Jamais</td>\n",
       "      <td>NaN</td>\n",
       "      <td>Vergnet</td>\n",
       "    </tr>\n",
       "    <tr>\n",
       "      <td>352</td>\n",
       "      <td>TASSO</td>\n",
       "      <td>Chein</td>\n",
       "      <td>Chein Tasso</td>\n",
       "      <td>Chein Tasso</td>\n",
       "      <td>Fonctionnel</td>\n",
       "      <td>Parfait</td>\n",
       "      <td>NaN</td>\n",
       "      <td>Vergnet</td>\n",
       "    </tr>\n",
       "  </tbody>\n",
       "</table>\n",
       "<p>353 rows × 8 columns</p>\n",
       "</div>"
      ],
      "text/plain": [
       "    arrondissement  village             localite                   hameau  \\\n",
       "0             BIRO     Biro               Nallou        Nallou Banikparou   \n",
       "1             BIRO     Biro               Goutto                   Goutto   \n",
       "2             BIRO     Biro               Nanlou                   Nanlou   \n",
       "3             BIRO     Biro             Sarawodo                 Sarawodo   \n",
       "4             BIRO     Biro                 Biro                   Biro 1   \n",
       "..             ...      ...                  ...                      ...   \n",
       "348          TASSO  Tanakpé              Sèkentè                  Sèkentè   \n",
       "349          TASSO    Chein           Saka Worou               Saka Worou   \n",
       "350          TASSO   Tchein  Chein Gbérou Kpanin  Chein Kpa (Tchein Kala)   \n",
       "351          TASSO    Chein         Chein Gourou             Chein Gourou   \n",
       "352          TASSO    Chein          Chein Tasso              Chein Tasso   \n",
       "\n",
       "            etat redevance   annee   marque  \n",
       "0    Fonctionnel    Jamais  2004.0  Vergnet  \n",
       "1    Fonctionnel    Jamais  2011.0  Vergnet  \n",
       "2    Fonctionnel    Jamais     NaN  Vergnet  \n",
       "3    Fonctionnel   Parfait     NaN  Vergnet  \n",
       "4    Fonctionnel   Parfait     NaN  Vergnet  \n",
       "..           ...       ...     ...      ...  \n",
       "348        Panne    Jamais     NaN  Vergnet  \n",
       "349  Fonctionnel  Une fois     NaN  Vergnet  \n",
       "350  Fonctionnel    Jamais     NaN  Vergnet  \n",
       "351  Fonctionnel    Jamais     NaN  Vergnet  \n",
       "352  Fonctionnel   Parfait     NaN  Vergnet  \n",
       "\n",
       "[353 rows x 8 columns]"
      ]
     },
     "execution_count": 176,
     "metadata": {},
     "output_type": "execute_result"
    }
   ],
   "source": [
    "df_2016_tomerge"
   ]
  },
  {
   "cell_type": "code",
   "execution_count": 237,
   "metadata": {},
   "outputs": [],
   "source": [
    "df_g_local_2016=df_2016_tomerge.groupby('localite').agg({'hameau':'unique',\n",
    "                                         'localite':'count'})#.reset_index()"
   ]
  },
  {
   "cell_type": "code",
   "execution_count": 238,
   "metadata": {},
   "outputs": [
    {
     "data": {
      "text/plain": [
       "Index(['hameau', 'localite'], dtype='object')"
      ]
     },
     "execution_count": 238,
     "metadata": {},
     "output_type": "execute_result"
    }
   ],
   "source": [
    "df_g_local_2016.columns"
   ]
  },
  {
   "cell_type": "code",
   "execution_count": 239,
   "metadata": {},
   "outputs": [],
   "source": [
    "df_g_local_2016.columns=['hameau','fpm_2016']"
   ]
  },
  {
   "cell_type": "code",
   "execution_count": 240,
   "metadata": {},
   "outputs": [],
   "source": [
    "df_g_local_2016=df_g_local_2016.reset_index()"
   ]
  },
  {
   "cell_type": "code",
   "execution_count": 243,
   "metadata": {},
   "outputs": [
    {
     "data": {
      "text/plain": [
       "353"
      ]
     },
     "execution_count": 243,
     "metadata": {},
     "output_type": "execute_result"
    }
   ],
   "source": [
    "df_g_local_2016.fpm_2016.sum()"
   ]
  },
  {
   "cell_type": "code",
   "execution_count": 244,
   "metadata": {},
   "outputs": [
    {
     "data": {
      "text/plain": [
       "229"
      ]
     },
     "execution_count": 244,
     "metadata": {},
     "output_type": "execute_result"
    }
   ],
   "source": [
    "len(df_g_local_2016)"
   ]
  },
  {
   "cell_type": "code",
   "execution_count": 245,
   "metadata": {},
   "outputs": [
    {
     "data": {
      "text/plain": [
       "(326, 12)"
      ]
     },
     "execution_count": 245,
     "metadata": {},
     "output_type": "execute_result"
    }
   ],
   "source": [
    "df_loc_2009_final.shape"
   ]
  },
  {
   "cell_type": "code",
   "execution_count": 246,
   "metadata": {},
   "outputs": [],
   "source": [
    "l_loc_ini=[unidecode.unidecode(a.lower()) for a in df_loc_2009_final.localite.to_list()]"
   ]
  },
  {
   "cell_type": "code",
   "execution_count": 247,
   "metadata": {},
   "outputs": [],
   "source": [
    "df_g_local_2016[['loc','match']]=df_g_local_2016.apply(\n",
    "    lambda x: pd.Series([(a[0],a[1]) \n",
    "             if a[1]>86\n",
    "             else\n",
    "             None\n",
    "                         for a in process.extract(unidecode.unidecode(x['localite'].lower()), \n",
    "                                                                 l_loc_ini, \n",
    "                                                                 limit=1)][0]), axis=1)"
   ]
  },
  {
   "cell_type": "code",
   "execution_count": 248,
   "metadata": {},
   "outputs": [
    {
     "name": "stderr",
     "output_type": "stream",
     "text": [
      "/anaconda3/lib/python3.7/site-packages/ipykernel_launcher.py:2: SettingWithCopyWarning:\n",
      "\n",
      "\n",
      "A value is trying to be set on a copy of a slice from a DataFrame.\n",
      "Try using .loc[row_indexer,col_indexer] = value instead\n",
      "\n",
      "See the caveats in the documentation: http://pandas.pydata.org/pandas-docs/stable/user_guide/indexing.html#returning-a-view-versus-a-copy\n",
      "\n"
     ]
    }
   ],
   "source": [
    "df_loc_2009_final['loc']=df_loc_2009_final.apply(\n",
    "    lambda x: unidecode.unidecode(x['localite'].lower()), axis=1\n",
    ")"
   ]
  },
  {
   "cell_type": "code",
   "execution_count": 249,
   "metadata": {},
   "outputs": [
    {
     "data": {
      "text/html": [
       "<div>\n",
       "<style scoped>\n",
       "    .dataframe tbody tr th:only-of-type {\n",
       "        vertical-align: middle;\n",
       "    }\n",
       "\n",
       "    .dataframe tbody tr th {\n",
       "        vertical-align: top;\n",
       "    }\n",
       "\n",
       "    .dataframe thead th {\n",
       "        text-align: right;\n",
       "    }\n",
       "</style>\n",
       "<table border=\"1\" class=\"dataframe\">\n",
       "  <thead>\n",
       "    <tr style=\"text-align: right;\">\n",
       "      <th></th>\n",
       "      <th>localite</th>\n",
       "      <th>hameau</th>\n",
       "      <th>fpm_2016</th>\n",
       "      <th>loc</th>\n",
       "      <th>match</th>\n",
       "    </tr>\n",
       "  </thead>\n",
       "  <tbody>\n",
       "    <tr>\n",
       "      <td>0</td>\n",
       "      <td>Alafiarou</td>\n",
       "      <td>[Alafiarou 1, Alafiarou 2]</td>\n",
       "      <td>2</td>\n",
       "      <td>alafiarou</td>\n",
       "      <td>100.0</td>\n",
       "    </tr>\n",
       "    <tr>\n",
       "      <td>1</td>\n",
       "      <td>Alazi kparou</td>\n",
       "      <td>[Alazi kparou]</td>\n",
       "      <td>1</td>\n",
       "      <td>alazi kparou (ferme\\ngeneral)</td>\n",
       "      <td>90.0</td>\n",
       "    </tr>\n",
       "    <tr>\n",
       "      <td>2</td>\n",
       "      <td>Angankirou1</td>\n",
       "      <td>[Angankirou 1 (1), Angankirou 1 (2), Angankiro...</td>\n",
       "      <td>3</td>\n",
       "      <td>angankirou 1</td>\n",
       "      <td>96.0</td>\n",
       "    </tr>\n",
       "    <tr>\n",
       "      <td>3</td>\n",
       "      <td>Asssolè</td>\n",
       "      <td>[Assolè]</td>\n",
       "      <td>1</td>\n",
       "      <td>assole</td>\n",
       "      <td>92.0</td>\n",
       "    </tr>\n",
       "    <tr>\n",
       "      <td>4</td>\n",
       "      <td>Baani</td>\n",
       "      <td>[Bani Peulh]</td>\n",
       "      <td>2</td>\n",
       "      <td>baani</td>\n",
       "      <td>100.0</td>\n",
       "    </tr>\n",
       "    <tr>\n",
       "      <td>...</td>\n",
       "      <td>...</td>\n",
       "      <td>...</td>\n",
       "      <td>...</td>\n",
       "      <td>...</td>\n",
       "      <td>...</td>\n",
       "    </tr>\n",
       "    <tr>\n",
       "      <td>224</td>\n",
       "      <td>Yékéna</td>\n",
       "      <td>[Yékéna II]</td>\n",
       "      <td>1</td>\n",
       "      <td>yekena</td>\n",
       "      <td>100.0</td>\n",
       "    </tr>\n",
       "    <tr>\n",
       "      <td>225</td>\n",
       "      <td>gah maro peulh</td>\n",
       "      <td>[gah maro peulh]</td>\n",
       "      <td>1</td>\n",
       "      <td>gah maro peuhl</td>\n",
       "      <td>93.0</td>\n",
       "    </tr>\n",
       "    <tr>\n",
       "      <td>226</td>\n",
       "      <td>gnel soumanou</td>\n",
       "      <td>[Gnel soumanou]</td>\n",
       "      <td>1</td>\n",
       "      <td>gnel soumanou</td>\n",
       "      <td>100.0</td>\n",
       "    </tr>\n",
       "    <tr>\n",
       "      <td>227</td>\n",
       "      <td>gourè élibo</td>\n",
       "      <td>[Gourè élibo]</td>\n",
       "      <td>1</td>\n",
       "      <td>goure elibo</td>\n",
       "      <td>100.0</td>\n",
       "    </tr>\n",
       "    <tr>\n",
       "      <td>228</td>\n",
       "      <td>sèkentè</td>\n",
       "      <td>[Sèkentè]</td>\n",
       "      <td>1</td>\n",
       "      <td>sekente</td>\n",
       "      <td>100.0</td>\n",
       "    </tr>\n",
       "  </tbody>\n",
       "</table>\n",
       "<p>229 rows × 5 columns</p>\n",
       "</div>"
      ],
      "text/plain": [
       "           localite                                             hameau  \\\n",
       "0         Alafiarou                         [Alafiarou 1, Alafiarou 2]   \n",
       "1      Alazi kparou                                     [Alazi kparou]   \n",
       "2       Angankirou1  [Angankirou 1 (1), Angankirou 1 (2), Angankiro...   \n",
       "3           Asssolè                                           [Assolè]   \n",
       "4             Baani                                       [Bani Peulh]   \n",
       "..              ...                                                ...   \n",
       "224          Yékéna                                        [Yékéna II]   \n",
       "225  gah maro peulh                                   [gah maro peulh]   \n",
       "226   gnel soumanou                                    [Gnel soumanou]   \n",
       "227     gourè élibo                                      [Gourè élibo]   \n",
       "228         sèkentè                                          [Sèkentè]   \n",
       "\n",
       "     fpm_2016                            loc  match  \n",
       "0           2                      alafiarou  100.0  \n",
       "1           1  alazi kparou (ferme\\ngeneral)   90.0  \n",
       "2           3                   angankirou 1   96.0  \n",
       "3           1                         assole   92.0  \n",
       "4           2                          baani  100.0  \n",
       "..        ...                            ...    ...  \n",
       "224         1                         yekena  100.0  \n",
       "225         1                 gah maro peuhl   93.0  \n",
       "226         1                  gnel soumanou  100.0  \n",
       "227         1                    goure elibo  100.0  \n",
       "228         1                        sekente  100.0  \n",
       "\n",
       "[229 rows x 5 columns]"
      ]
     },
     "execution_count": 249,
     "metadata": {},
     "output_type": "execute_result"
    }
   ],
   "source": [
    "df_g_local_2016"
   ]
  },
  {
   "cell_type": "code",
   "execution_count": 252,
   "metadata": {},
   "outputs": [],
   "source": [
    "df_loc_1619=pd.merge(df_loc_2009_final,df_g_local_2016[['loc','hameau','fpm_2016']], how='left',on='loc')"
   ]
  },
  {
   "cell_type": "code",
   "execution_count": 266,
   "metadata": {},
   "outputs": [],
   "source": [
    "df_loc_1619['fpm_final']=df_loc_1619.apply(\n",
    "    lambda x: x['fpm_2016']\n",
    "    if (np.isnan(x['fpm'])) | (x['fpm']<x['fpm_2016'])\n",
    "    else\n",
    "    x['fpm'],\n",
    "    axis=1\n",
    ")"
   ]
  },
  {
   "cell_type": "code",
   "execution_count": 268,
   "metadata": {},
   "outputs": [],
   "source": [
    "#df_loc_1619[['village','arrondissement','localite','hameau',\n",
    "             'population','latitude','longitude','pm','pt','fpm_final']].to_csv('localites_final_2016.csv')"
   ]
  },
  {
   "cell_type": "code",
   "execution_count": null,
   "metadata": {},
   "outputs": [],
   "source": []
  },
  {
   "cell_type": "markdown",
   "metadata": {},
   "source": [
    "# JOIN final and 2016"
   ]
  },
  {
   "cell_type": "code",
   "execution_count": 270,
   "metadata": {},
   "outputs": [
    {
     "data": {
      "text/html": [
       "<div>\n",
       "<style scoped>\n",
       "    .dataframe tbody tr th:only-of-type {\n",
       "        vertical-align: middle;\n",
       "    }\n",
       "\n",
       "    .dataframe tbody tr th {\n",
       "        vertical-align: top;\n",
       "    }\n",
       "\n",
       "    .dataframe thead th {\n",
       "        text-align: right;\n",
       "    }\n",
       "</style>\n",
       "<table border=\"1\" class=\"dataframe\">\n",
       "  <thead>\n",
       "    <tr style=\"text-align: right;\">\n",
       "      <th></th>\n",
       "      <th>localite</th>\n",
       "      <th>village</th>\n",
       "      <th>arrondissement</th>\n",
       "      <th>population</th>\n",
       "      <th>latitude</th>\n",
       "      <th>longitude</th>\n",
       "      <th>pm</th>\n",
       "      <th>pt</th>\n",
       "      <th>fpm</th>\n",
       "      <th>n_per/fpm</th>\n",
       "      <th>status</th>\n",
       "      <th>loc</th>\n",
       "      <th>hameau</th>\n",
       "      <th>fpm_2016</th>\n",
       "      <th>fpm_final</th>\n",
       "    </tr>\n",
       "  </thead>\n",
       "  <tbody>\n",
       "    <tr>\n",
       "      <td>15</td>\n",
       "      <td>Bah Boré</td>\n",
       "      <td>BIRO</td>\n",
       "      <td>BIRO</td>\n",
       "      <td>150.0</td>\n",
       "      <td>NaN</td>\n",
       "      <td>NaN</td>\n",
       "      <td>0</td>\n",
       "      <td>0</td>\n",
       "      <td>0.0</td>\n",
       "      <td>10000.000000</td>\n",
       "      <td>super_red</td>\n",
       "      <td>bah bore</td>\n",
       "      <td>NaN</td>\n",
       "      <td>NaN</td>\n",
       "      <td>0.0</td>\n",
       "    </tr>\n",
       "    <tr>\n",
       "      <td>29</td>\n",
       "      <td>BIRO NOUKOUROU</td>\n",
       "      <td>BIRO</td>\n",
       "      <td>BIRO</td>\n",
       "      <td>5000.0</td>\n",
       "      <td>9.903519</td>\n",
       "      <td>2.945014</td>\n",
       "      <td>1</td>\n",
       "      <td>1</td>\n",
       "      <td>4.0</td>\n",
       "      <td>1250.000000</td>\n",
       "      <td>red</td>\n",
       "      <td>biro noukourou</td>\n",
       "      <td>[Biro 1, Biro 2, Biro 3, Biro 4, Biro 5]</td>\n",
       "      <td>5.0</td>\n",
       "      <td>5.0</td>\n",
       "    </tr>\n",
       "    <tr>\n",
       "      <td>121</td>\n",
       "      <td>Gaouré (Sanni\\nKparou)</td>\n",
       "      <td>BIRO</td>\n",
       "      <td>BIRO</td>\n",
       "      <td>120.0</td>\n",
       "      <td>NaN</td>\n",
       "      <td>NaN</td>\n",
       "      <td>0</td>\n",
       "      <td>0</td>\n",
       "      <td>0.0</td>\n",
       "      <td>10000.000000</td>\n",
       "      <td>super_red</td>\n",
       "      <td>gaoure (sanni\\nkparou)</td>\n",
       "      <td>NaN</td>\n",
       "      <td>NaN</td>\n",
       "      <td>0.0</td>\n",
       "    </tr>\n",
       "    <tr>\n",
       "      <td>252</td>\n",
       "      <td>Oumarou Kparou 1 (Sabo)</td>\n",
       "      <td>BIRO</td>\n",
       "      <td>BIRO</td>\n",
       "      <td>200.0</td>\n",
       "      <td>NaN</td>\n",
       "      <td>NaN</td>\n",
       "      <td>0</td>\n",
       "      <td>0</td>\n",
       "      <td>0.0</td>\n",
       "      <td>10000.000000</td>\n",
       "      <td>super_red</td>\n",
       "      <td>oumarou kparou 1 (sabo)</td>\n",
       "      <td>NaN</td>\n",
       "      <td>NaN</td>\n",
       "      <td>0.0</td>\n",
       "    </tr>\n",
       "    <tr>\n",
       "      <td>275</td>\n",
       "      <td>SARAVONDO</td>\n",
       "      <td>BIRO</td>\n",
       "      <td>BIRO</td>\n",
       "      <td>350.0</td>\n",
       "      <td>9.904556</td>\n",
       "      <td>2.974125</td>\n",
       "      <td>1</td>\n",
       "      <td>0</td>\n",
       "      <td>1.0</td>\n",
       "      <td>350.000000</td>\n",
       "      <td>orange</td>\n",
       "      <td>saravondo</td>\n",
       "      <td>NaN</td>\n",
       "      <td>NaN</td>\n",
       "      <td>1.0</td>\n",
       "    </tr>\n",
       "    <tr>\n",
       "      <td>...</td>\n",
       "      <td>...</td>\n",
       "      <td>...</td>\n",
       "      <td>...</td>\n",
       "      <td>...</td>\n",
       "      <td>...</td>\n",
       "      <td>...</td>\n",
       "      <td>...</td>\n",
       "      <td>...</td>\n",
       "      <td>...</td>\n",
       "      <td>...</td>\n",
       "      <td>...</td>\n",
       "      <td>...</td>\n",
       "      <td>...</td>\n",
       "      <td>...</td>\n",
       "      <td>...</td>\n",
       "    </tr>\n",
       "    <tr>\n",
       "      <td>209</td>\n",
       "      <td>Kinta</td>\n",
       "      <td>YAO-GOUROU</td>\n",
       "      <td>NaN</td>\n",
       "      <td>300.0</td>\n",
       "      <td>10.037319</td>\n",
       "      <td>3.036597</td>\n",
       "      <td>1</td>\n",
       "      <td>0</td>\n",
       "      <td>1.0</td>\n",
       "      <td>300.000000</td>\n",
       "      <td>orange</td>\n",
       "      <td>kinta</td>\n",
       "      <td>[Kinta (Yao gourou)]</td>\n",
       "      <td>1.0</td>\n",
       "      <td>1.0</td>\n",
       "    </tr>\n",
       "    <tr>\n",
       "      <td>59</td>\n",
       "      <td>Dakarou</td>\n",
       "      <td>YORAROU</td>\n",
       "      <td>NaN</td>\n",
       "      <td>300.0</td>\n",
       "      <td>9.896528</td>\n",
       "      <td>3.029972</td>\n",
       "      <td>0</td>\n",
       "      <td>0</td>\n",
       "      <td>1.0</td>\n",
       "      <td>300.000000</td>\n",
       "      <td>orange</td>\n",
       "      <td>dakarou</td>\n",
       "      <td>[Dakarou]</td>\n",
       "      <td>1.0</td>\n",
       "      <td>1.0</td>\n",
       "    </tr>\n",
       "    <tr>\n",
       "      <td>61</td>\n",
       "      <td>Damonsi</td>\n",
       "      <td>YORAROU</td>\n",
       "      <td>NaN</td>\n",
       "      <td>250.0</td>\n",
       "      <td>NaN</td>\n",
       "      <td>NaN</td>\n",
       "      <td>0</td>\n",
       "      <td>0</td>\n",
       "      <td>1.0</td>\n",
       "      <td>250.000000</td>\n",
       "      <td>orange</td>\n",
       "      <td>damonsi</td>\n",
       "      <td>[Damonsi]</td>\n",
       "      <td>1.0</td>\n",
       "      <td>1.0</td>\n",
       "    </tr>\n",
       "    <tr>\n",
       "      <td>104</td>\n",
       "      <td>Yorarou</td>\n",
       "      <td>YORAROU</td>\n",
       "      <td>NaN</td>\n",
       "      <td>100.0</td>\n",
       "      <td>NaN</td>\n",
       "      <td>NaN</td>\n",
       "      <td>0</td>\n",
       "      <td>0</td>\n",
       "      <td>3.0</td>\n",
       "      <td>33.333333</td>\n",
       "      <td>green</td>\n",
       "      <td>yorarou</td>\n",
       "      <td>[Gah Yorarou]</td>\n",
       "      <td>1.0</td>\n",
       "      <td>3.0</td>\n",
       "    </tr>\n",
       "    <tr>\n",
       "      <td>303</td>\n",
       "      <td>Séré Gando</td>\n",
       "      <td>YORAROU</td>\n",
       "      <td>NaN</td>\n",
       "      <td>150.0</td>\n",
       "      <td>9.912083</td>\n",
       "      <td>3.028306</td>\n",
       "      <td>0</td>\n",
       "      <td>0</td>\n",
       "      <td>1.0</td>\n",
       "      <td>150.000000</td>\n",
       "      <td>green</td>\n",
       "      <td>sere gando</td>\n",
       "      <td>[Séré Gando]</td>\n",
       "      <td>1.0</td>\n",
       "      <td>1.0</td>\n",
       "    </tr>\n",
       "  </tbody>\n",
       "</table>\n",
       "<p>342 rows × 15 columns</p>\n",
       "</div>"
      ],
      "text/plain": [
       "                    localite     village arrondissement  population  \\\n",
       "15                  Bah Boré        BIRO           BIRO       150.0   \n",
       "29            BIRO NOUKOUROU        BIRO           BIRO      5000.0   \n",
       "121   Gaouré (Sanni\\nKparou)        BIRO           BIRO       120.0   \n",
       "252  Oumarou Kparou 1 (Sabo)        BIRO           BIRO       200.0   \n",
       "275                SARAVONDO        BIRO           BIRO       350.0   \n",
       "..                       ...         ...            ...         ...   \n",
       "209                    Kinta  YAO-GOUROU            NaN       300.0   \n",
       "59                   Dakarou     YORAROU            NaN       300.0   \n",
       "61                   Damonsi     YORAROU            NaN       250.0   \n",
       "104                  Yorarou     YORAROU            NaN       100.0   \n",
       "303               Séré Gando     YORAROU            NaN       150.0   \n",
       "\n",
       "      latitude  longitude  pm  pt  fpm     n_per/fpm     status  \\\n",
       "15         NaN        NaN   0   0  0.0  10000.000000  super_red   \n",
       "29    9.903519   2.945014   1   1  4.0   1250.000000        red   \n",
       "121        NaN        NaN   0   0  0.0  10000.000000  super_red   \n",
       "252        NaN        NaN   0   0  0.0  10000.000000  super_red   \n",
       "275   9.904556   2.974125   1   0  1.0    350.000000     orange   \n",
       "..         ...        ...  ..  ..  ...           ...        ...   \n",
       "209  10.037319   3.036597   1   0  1.0    300.000000     orange   \n",
       "59    9.896528   3.029972   0   0  1.0    300.000000     orange   \n",
       "61         NaN        NaN   0   0  1.0    250.000000     orange   \n",
       "104        NaN        NaN   0   0  3.0     33.333333      green   \n",
       "303   9.912083   3.028306   0   0  1.0    150.000000      green   \n",
       "\n",
       "                         loc                                    hameau  \\\n",
       "15                  bah bore                                       NaN   \n",
       "29            biro noukourou  [Biro 1, Biro 2, Biro 3, Biro 4, Biro 5]   \n",
       "121   gaoure (sanni\\nkparou)                                       NaN   \n",
       "252  oumarou kparou 1 (sabo)                                       NaN   \n",
       "275                saravondo                                       NaN   \n",
       "..                       ...                                       ...   \n",
       "209                    kinta                      [Kinta (Yao gourou)]   \n",
       "59                   dakarou                                 [Dakarou]   \n",
       "61                   damonsi                                 [Damonsi]   \n",
       "104                  yorarou                             [Gah Yorarou]   \n",
       "303               sere gando                              [Séré Gando]   \n",
       "\n",
       "     fpm_2016  fpm_final  \n",
       "15        NaN        0.0  \n",
       "29        5.0        5.0  \n",
       "121       NaN        0.0  \n",
       "252       NaN        0.0  \n",
       "275       NaN        1.0  \n",
       "..        ...        ...  \n",
       "209       1.0        1.0  \n",
       "59        1.0        1.0  \n",
       "61        1.0        1.0  \n",
       "104       1.0        3.0  \n",
       "303       1.0        1.0  \n",
       "\n",
       "[342 rows x 15 columns]"
      ]
     },
     "execution_count": 270,
     "metadata": {},
     "output_type": "execute_result"
    }
   ],
   "source": [
    "df_loc_1619.sort_values(by=['arrondissement','village'])"
   ]
  },
  {
   "cell_type": "code",
   "execution_count": 271,
   "metadata": {},
   "outputs": [
    {
     "data": {
      "text/html": [
       "<div>\n",
       "<style scoped>\n",
       "    .dataframe tbody tr th:only-of-type {\n",
       "        vertical-align: middle;\n",
       "    }\n",
       "\n",
       "    .dataframe tbody tr th {\n",
       "        vertical-align: top;\n",
       "    }\n",
       "\n",
       "    .dataframe thead th {\n",
       "        text-align: right;\n",
       "    }\n",
       "</style>\n",
       "<table border=\"1\" class=\"dataframe\">\n",
       "  <thead>\n",
       "    <tr style=\"text-align: right;\">\n",
       "      <th></th>\n",
       "      <th>arrondissement</th>\n",
       "      <th>village</th>\n",
       "      <th>localite</th>\n",
       "      <th>nom_local</th>\n",
       "      <th>marque</th>\n",
       "      <th>latitude_decimals</th>\n",
       "      <th>longitude_decimals</th>\n",
       "    </tr>\n",
       "  </thead>\n",
       "  <tbody>\n",
       "    <tr>\n",
       "      <td>0</td>\n",
       "      <td>BIRO</td>\n",
       "      <td>BIRO</td>\n",
       "      <td>Biro</td>\n",
       "      <td>BIRO 2</td>\n",
       "      <td>Vergnet</td>\n",
       "      <td>9.900000</td>\n",
       "      <td>2.947778</td>\n",
       "    </tr>\n",
       "    <tr>\n",
       "      <td>1</td>\n",
       "      <td>BIRO</td>\n",
       "      <td>BIRO</td>\n",
       "      <td>Sarawondo</td>\n",
       "      <td>SARAWONDO</td>\n",
       "      <td>Vergnet</td>\n",
       "      <td>9.903667</td>\n",
       "      <td>2.974778</td>\n",
       "    </tr>\n",
       "    <tr>\n",
       "      <td>2</td>\n",
       "      <td>BIRO</td>\n",
       "      <td>BIRO</td>\n",
       "      <td>Nallou</td>\n",
       "      <td>NANLOU</td>\n",
       "      <td>Vergnet</td>\n",
       "      <td>9.933333</td>\n",
       "      <td>2.908389</td>\n",
       "    </tr>\n",
       "    <tr>\n",
       "      <td>3</td>\n",
       "      <td>BIRO</td>\n",
       "      <td>BIRO</td>\n",
       "      <td>Biro</td>\n",
       "      <td>BIRO CENTRE</td>\n",
       "      <td>NA</td>\n",
       "      <td>9.902778</td>\n",
       "      <td>2.940639</td>\n",
       "    </tr>\n",
       "    <tr>\n",
       "      <td>4</td>\n",
       "      <td>BIRO</td>\n",
       "      <td>BIRO</td>\n",
       "      <td>Biro</td>\n",
       "      <td>BIRO CENTRE</td>\n",
       "      <td>Afridev</td>\n",
       "      <td>9.903028</td>\n",
       "      <td>2.946639</td>\n",
       "    </tr>\n",
       "    <tr>\n",
       "      <td>...</td>\n",
       "      <td>...</td>\n",
       "      <td>...</td>\n",
       "      <td>...</td>\n",
       "      <td>...</td>\n",
       "      <td>...</td>\n",
       "      <td>...</td>\n",
       "      <td>...</td>\n",
       "    </tr>\n",
       "    <tr>\n",
       "      <td>360</td>\n",
       "      <td>TASSO</td>\n",
       "      <td>TASSO</td>\n",
       "      <td>Fo Darou</td>\n",
       "      <td>Fo-Darou 1</td>\n",
       "      <td>Afridev</td>\n",
       "      <td>9.683333</td>\n",
       "      <td>3.231528</td>\n",
       "    </tr>\n",
       "    <tr>\n",
       "      <td>361</td>\n",
       "      <td>TASSO</td>\n",
       "      <td>TASSO</td>\n",
       "      <td>Tasso</td>\n",
       "      <td>TASSO</td>\n",
       "      <td>Vergnet</td>\n",
       "      <td>9.675000</td>\n",
       "      <td>3.232472</td>\n",
       "    </tr>\n",
       "    <tr>\n",
       "      <td>362</td>\n",
       "      <td>TASSO</td>\n",
       "      <td>TASSO</td>\n",
       "      <td>Tasso Peuhl</td>\n",
       "      <td>Kertia</td>\n",
       "      <td>Vergnet</td>\n",
       "      <td>9.654917</td>\n",
       "      <td>3.236889</td>\n",
       "    </tr>\n",
       "    <tr>\n",
       "      <td>363</td>\n",
       "      <td>TASSO</td>\n",
       "      <td>TASSO</td>\n",
       "      <td>Kobi</td>\n",
       "      <td>KOBI</td>\n",
       "      <td>Vergnet</td>\n",
       "      <td>9.657028</td>\n",
       "      <td>3.261167</td>\n",
       "    </tr>\n",
       "    <tr>\n",
       "      <td>364</td>\n",
       "      <td>TASSO</td>\n",
       "      <td>TASSO</td>\n",
       "      <td>Sinagourou Frontière</td>\n",
       "      <td>Sinagourou Frontière</td>\n",
       "      <td>Vergnet</td>\n",
       "      <td>9.676389</td>\n",
       "      <td>3.266750</td>\n",
       "    </tr>\n",
       "  </tbody>\n",
       "</table>\n",
       "<p>365 rows × 7 columns</p>\n",
       "</div>"
      ],
      "text/plain": [
       "    arrondissement village              localite             nom_local  \\\n",
       "0             BIRO    BIRO                  Biro                BIRO 2   \n",
       "1             BIRO    BIRO             Sarawondo             SARAWONDO   \n",
       "2             BIRO    BIRO                Nallou                NANLOU   \n",
       "3             BIRO    BIRO                  Biro           BIRO CENTRE   \n",
       "4             BIRO    BIRO                  Biro           BIRO CENTRE   \n",
       "..             ...     ...                   ...                   ...   \n",
       "360          TASSO   TASSO              Fo Darou            Fo-Darou 1   \n",
       "361          TASSO   TASSO                 Tasso                 TASSO   \n",
       "362          TASSO   TASSO           Tasso Peuhl                Kertia   \n",
       "363          TASSO   TASSO                  Kobi                  KOBI   \n",
       "364          TASSO   TASSO  Sinagourou Frontière  Sinagourou Frontière   \n",
       "\n",
       "      marque  latitude_decimals  longitude_decimals  \n",
       "0    Vergnet           9.900000            2.947778  \n",
       "1    Vergnet           9.903667            2.974778  \n",
       "2    Vergnet           9.933333            2.908389  \n",
       "3         NA           9.902778            2.940639  \n",
       "4    Afridev           9.903028            2.946639  \n",
       "..       ...                ...                 ...  \n",
       "360  Afridev           9.683333            3.231528  \n",
       "361  Vergnet           9.675000            3.232472  \n",
       "362  Vergnet           9.654917            3.236889  \n",
       "363  Vergnet           9.657028            3.261167  \n",
       "364  Vergnet           9.676389            3.266750  \n",
       "\n",
       "[365 rows x 7 columns]"
      ]
     },
     "execution_count": 271,
     "metadata": {},
     "output_type": "execute_result"
    }
   ],
   "source": [
    "df_2019_tomerge"
   ]
  },
  {
   "cell_type": "code",
   "execution_count": 290,
   "metadata": {},
   "outputs": [],
   "source": [
    "df_g_local_2019=df_2019_tomerge.groupby('localite').agg({'nom_local':'unique',\n",
    "                                         'localite':'count'})#.reset_index()"
   ]
  },
  {
   "cell_type": "code",
   "execution_count": 291,
   "metadata": {},
   "outputs": [
    {
     "data": {
      "text/plain": [
       "Index(['nom_local', 'localite'], dtype='object')"
      ]
     },
     "execution_count": 291,
     "metadata": {},
     "output_type": "execute_result"
    }
   ],
   "source": [
    "df_g_local_2019.columns"
   ]
  },
  {
   "cell_type": "code",
   "execution_count": 292,
   "metadata": {},
   "outputs": [],
   "source": [
    "df_g_local_2019.columns=['hameau','fpm_2019']"
   ]
  },
  {
   "cell_type": "code",
   "execution_count": 293,
   "metadata": {},
   "outputs": [],
   "source": [
    "df_g_local_2019=df_g_local_2019.reset_index()"
   ]
  },
  {
   "cell_type": "code",
   "execution_count": 296,
   "metadata": {},
   "outputs": [
    {
     "data": {
      "text/plain": [
       "365"
      ]
     },
     "execution_count": 296,
     "metadata": {},
     "output_type": "execute_result"
    }
   ],
   "source": [
    "df_g_local_2019.fpm_2019.sum()"
   ]
  },
  {
   "cell_type": "code",
   "execution_count": 297,
   "metadata": {},
   "outputs": [
    {
     "data": {
      "text/plain": [
       "220"
      ]
     },
     "execution_count": 297,
     "metadata": {},
     "output_type": "execute_result"
    }
   ],
   "source": [
    "len(df_g_local_2019)"
   ]
  },
  {
   "cell_type": "code",
   "execution_count": 298,
   "metadata": {},
   "outputs": [
    {
     "data": {
      "text/plain": [
       "365"
      ]
     },
     "execution_count": 298,
     "metadata": {},
     "output_type": "execute_result"
    }
   ],
   "source": [
    "len(df_2019_tomerge)"
   ]
  },
  {
   "cell_type": "code",
   "execution_count": 330,
   "metadata": {},
   "outputs": [],
   "source": [
    "l_loc_ini=[unidecode.unidecode(a.lower()) for a in df_loc_1619.localite.to_list()]"
   ]
  },
  {
   "cell_type": "code",
   "execution_count": 300,
   "metadata": {},
   "outputs": [],
   "source": [
    "df_g_local_2019[['loc','match']]=df_g_local_2019.apply(\n",
    "    lambda x: pd.Series([(a[0],a[1]) \n",
    "             if a[1]>86\n",
    "             else\n",
    "             None\n",
    "                         for a in process.extract(unidecode.unidecode(x['localite'].lower()), \n",
    "                                                                 l_loc_ini, \n",
    "                                                                 limit=1)][0]), axis=1)"
   ]
  },
  {
   "cell_type": "code",
   "execution_count": 301,
   "metadata": {},
   "outputs": [],
   "source": [
    "df_g_local_2019['loc']=df_g_local_2019.apply(\n",
    "    lambda x: unidecode.unidecode(x['localite'].lower()), axis=1\n",
    ")"
   ]
  },
  {
   "cell_type": "code",
   "execution_count": 340,
   "metadata": {},
   "outputs": [
    {
     "data": {
      "text/plain": [
       "[('diyam yalla1', 88), ('booh  1', 86)]"
      ]
     },
     "execution_count": 340,
     "metadata": {},
     "output_type": "execute_result"
    }
   ],
   "source": [
    "process.extract(unidecode.unidecode('Diyam Yolla 1'),l_loc_ini,limit=2)"
   ]
  },
  {
   "cell_type": "code",
   "execution_count": 306,
   "metadata": {},
   "outputs": [],
   "source": [
    "df_loc_1619lis=pd.merge(df_loc_1619,df_g_local_2019[['loc','hameau','fpm_2019']], how='left',on='loc')"
   ]
  },
  {
   "cell_type": "code",
   "execution_count": 307,
   "metadata": {},
   "outputs": [
    {
     "data": {
      "text/html": [
       "<div>\n",
       "<style scoped>\n",
       "    .dataframe tbody tr th:only-of-type {\n",
       "        vertical-align: middle;\n",
       "    }\n",
       "\n",
       "    .dataframe tbody tr th {\n",
       "        vertical-align: top;\n",
       "    }\n",
       "\n",
       "    .dataframe thead th {\n",
       "        text-align: right;\n",
       "    }\n",
       "</style>\n",
       "<table border=\"1\" class=\"dataframe\">\n",
       "  <thead>\n",
       "    <tr style=\"text-align: right;\">\n",
       "      <th></th>\n",
       "      <th>localite</th>\n",
       "      <th>village</th>\n",
       "      <th>arrondissement</th>\n",
       "      <th>population</th>\n",
       "      <th>latitude</th>\n",
       "      <th>longitude</th>\n",
       "      <th>pm</th>\n",
       "      <th>pt</th>\n",
       "      <th>fpm</th>\n",
       "      <th>n_per/fpm</th>\n",
       "      <th>status</th>\n",
       "      <th>loc</th>\n",
       "      <th>hameau_x</th>\n",
       "      <th>fpm_2016</th>\n",
       "      <th>fpm_final</th>\n",
       "      <th>hameau_y</th>\n",
       "      <th>fpm_2019</th>\n",
       "    </tr>\n",
       "  </thead>\n",
       "  <tbody>\n",
       "    <tr>\n",
       "      <td>0</td>\n",
       "      <td>Bakou</td>\n",
       "      <td>TANAKPE</td>\n",
       "      <td>TASSO</td>\n",
       "      <td>300.0</td>\n",
       "      <td>NaN</td>\n",
       "      <td>NaN</td>\n",
       "      <td>0</td>\n",
       "      <td>0</td>\n",
       "      <td>1.0</td>\n",
       "      <td>300.0</td>\n",
       "      <td>orange</td>\n",
       "      <td>bakou</td>\n",
       "      <td>NaN</td>\n",
       "      <td>NaN</td>\n",
       "      <td>1.0</td>\n",
       "      <td>NaN</td>\n",
       "      <td>NaN</td>\n",
       "    </tr>\n",
       "    <tr>\n",
       "      <td>1</td>\n",
       "      <td>Ada Gazé Kparou</td>\n",
       "      <td>SANSI</td>\n",
       "      <td>OUENOU</td>\n",
       "      <td>80.0</td>\n",
       "      <td>NaN</td>\n",
       "      <td>NaN</td>\n",
       "      <td>0</td>\n",
       "      <td>0</td>\n",
       "      <td>0.0</td>\n",
       "      <td>10000.0</td>\n",
       "      <td>super_red</td>\n",
       "      <td>ada gaze kparou</td>\n",
       "      <td>NaN</td>\n",
       "      <td>NaN</td>\n",
       "      <td>0.0</td>\n",
       "      <td>NaN</td>\n",
       "      <td>NaN</td>\n",
       "    </tr>\n",
       "    <tr>\n",
       "      <td>2</td>\n",
       "      <td>Agbo Barthélémy Kparou</td>\n",
       "      <td>GORI</td>\n",
       "      <td>NIKKI</td>\n",
       "      <td>100.0</td>\n",
       "      <td>NaN</td>\n",
       "      <td>NaN</td>\n",
       "      <td>0</td>\n",
       "      <td>0</td>\n",
       "      <td>NaN</td>\n",
       "      <td>NaN</td>\n",
       "      <td>unknown</td>\n",
       "      <td>agbo barthelemy kparou</td>\n",
       "      <td>NaN</td>\n",
       "      <td>NaN</td>\n",
       "      <td>NaN</td>\n",
       "      <td>NaN</td>\n",
       "      <td>NaN</td>\n",
       "    </tr>\n",
       "    <tr>\n",
       "      <td>3</td>\n",
       "      <td>Alafiarou</td>\n",
       "      <td>GANROU -PEULH</td>\n",
       "      <td>SEREKALE</td>\n",
       "      <td>343.0</td>\n",
       "      <td>10.06475</td>\n",
       "      <td>3.082236</td>\n",
       "      <td>1</td>\n",
       "      <td>0</td>\n",
       "      <td>2.0</td>\n",
       "      <td>171.5</td>\n",
       "      <td>green</td>\n",
       "      <td>alafiarou</td>\n",
       "      <td>[Alafiarou 1, Alafiarou 2]</td>\n",
       "      <td>2.0</td>\n",
       "      <td>2.0</td>\n",
       "      <td>[ALAFIAROU 2, Alafiarou 1]</td>\n",
       "      <td>2.0</td>\n",
       "    </tr>\n",
       "    <tr>\n",
       "      <td>4</td>\n",
       "      <td>Alazi Kparou (Ferme\\nGénéral)</td>\n",
       "      <td>SAKABANSI</td>\n",
       "      <td>NIKKI</td>\n",
       "      <td>22.0</td>\n",
       "      <td>10.02850</td>\n",
       "      <td>3.337306</td>\n",
       "      <td>0</td>\n",
       "      <td>0</td>\n",
       "      <td>NaN</td>\n",
       "      <td>NaN</td>\n",
       "      <td>unknown</td>\n",
       "      <td>alazi kparou (ferme\\ngeneral)</td>\n",
       "      <td>[Alazi kparou]</td>\n",
       "      <td>1.0</td>\n",
       "      <td>1.0</td>\n",
       "      <td>NaN</td>\n",
       "      <td>NaN</td>\n",
       "    </tr>\n",
       "  </tbody>\n",
       "</table>\n",
       "</div>"
      ],
      "text/plain": [
       "                        localite        village arrondissement  population  \\\n",
       "0                          Bakou        TANAKPE          TASSO       300.0   \n",
       "1                Ada Gazé Kparou          SANSI         OUENOU        80.0   \n",
       "2         Agbo Barthélémy Kparou           GORI          NIKKI       100.0   \n",
       "3                      Alafiarou  GANROU -PEULH       SEREKALE       343.0   \n",
       "4  Alazi Kparou (Ferme\\nGénéral)      SAKABANSI          NIKKI        22.0   \n",
       "\n",
       "   latitude  longitude  pm  pt  fpm  n_per/fpm     status  \\\n",
       "0       NaN        NaN   0   0  1.0      300.0     orange   \n",
       "1       NaN        NaN   0   0  0.0    10000.0  super_red   \n",
       "2       NaN        NaN   0   0  NaN        NaN    unknown   \n",
       "3  10.06475   3.082236   1   0  2.0      171.5      green   \n",
       "4  10.02850   3.337306   0   0  NaN        NaN    unknown   \n",
       "\n",
       "                             loc                    hameau_x  fpm_2016  \\\n",
       "0                          bakou                         NaN       NaN   \n",
       "1                ada gaze kparou                         NaN       NaN   \n",
       "2         agbo barthelemy kparou                         NaN       NaN   \n",
       "3                      alafiarou  [Alafiarou 1, Alafiarou 2]       2.0   \n",
       "4  alazi kparou (ferme\\ngeneral)              [Alazi kparou]       1.0   \n",
       "\n",
       "   fpm_final                    hameau_y  fpm_2019  \n",
       "0        1.0                         NaN       NaN  \n",
       "1        0.0                         NaN       NaN  \n",
       "2        NaN                         NaN       NaN  \n",
       "3        2.0  [ALAFIAROU 2, Alafiarou 1]       2.0  \n",
       "4        1.0                         NaN       NaN  "
      ]
     },
     "execution_count": 307,
     "metadata": {},
     "output_type": "execute_result"
    }
   ],
   "source": [
    "df_loc_1619lis.head()"
   ]
  },
  {
   "cell_type": "code",
   "execution_count": 316,
   "metadata": {},
   "outputs": [],
   "source": [
    "df_loc_1619lis['fpm_final']=df_loc_1619lis.apply(\n",
    "    lambda x: x['fpm_2019']\n",
    "    if (np.isnan(x['fpm_final'])) | (x['fpm_final']<x['fpm_2019'])\n",
    "    else\n",
    "    x['fpm_final'],\n",
    "    axis=1\n",
    ")"
   ]
  },
  {
   "cell_type": "code",
   "execution_count": 317,
   "metadata": {},
   "outputs": [],
   "source": [
    "df_loc_1619lis[['village','arrondissement','localite','hameau_x','hameau_y',\n",
    "             'population','latitude','longitude','pm','pt','fpm_final']].to_csv('localites_final_2016_lis_2019.csv')"
   ]
  },
  {
   "cell_type": "markdown",
   "metadata": {},
   "source": []
  },
  {
   "cell_type": "code",
   "execution_count": 529,
   "metadata": {},
   "outputs": [],
   "source": [
    "def checker(wrong_options,correct_options):\n",
    "    names_array=[]\n",
    "    ratio_array=[]    \n",
    "    for wrong_option in wrong_options:\n",
    "        if wrong_option in correct_options:\n",
    "            names_array.append(wrong_option)\n",
    "            ratio_array.append('100')\n",
    "        else:   \n",
    "            x=process.extractOne(wrong_option,correct_options,scorer=fuzz.token_set_ratio)\n",
    "            names_array.append(x[0])\n",
    "            ratio_array.append(x[1])\n",
    "    return names_array,ratio_array"
   ]
  },
  {
   "cell_type": "markdown",
   "metadata": {},
   "source": [
    "## LOCALITES 2009"
   ]
  },
  {
   "cell_type": "code",
   "execution_count": 589,
   "metadata": {},
   "outputs": [],
   "source": [
    "dfbase=pd.DataFrame()\n",
    "dfbase['loc_2009']=df_2009['localite'].unique().tolist()"
   ]
  },
  {
   "cell_type": "markdown",
   "metadata": {},
   "source": [
    "## merge with localites 2016"
   ]
  },
  {
   "cell_type": "code",
   "execution_count": 656,
   "metadata": {},
   "outputs": [],
   "source": [
    "str2Match = df_2016['localite'].unique().tolist()\n",
    "strOptions = df_2009['localite'].unique().tolist()"
   ]
  },
  {
   "cell_type": "code",
   "execution_count": 657,
   "metadata": {},
   "outputs": [],
   "source": [
    "name_match,ratio_match=checker(strOptions,str2Match)"
   ]
  },
  {
   "cell_type": "code",
   "execution_count": 658,
   "metadata": {},
   "outputs": [],
   "source": [
    "df1 = pd.DataFrame()\n",
    "df1['loc_2009']=pd.Series(strOptions)\n",
    "df1['loc_2016']=pd.Series(name_match)\n",
    "df1['2009_vs_2016']=pd.to_numeric(pd.Series(ratio_match),errors='coerce')"
   ]
  },
  {
   "cell_type": "code",
   "execution_count": 659,
   "metadata": {},
   "outputs": [],
   "source": [
    "df_1=pd.merge(dfbase,df1,on='loc_2009',how='left')"
   ]
  },
  {
   "cell_type": "code",
   "execution_count": null,
   "metadata": {},
   "outputs": [],
   "source": []
  },
  {
   "cell_type": "code",
   "execution_count": 661,
   "metadata": {},
   "outputs": [],
   "source": [
    "str2Match = df_2019['localite'].unique().tolist()"
   ]
  },
  {
   "cell_type": "code",
   "execution_count": 662,
   "metadata": {},
   "outputs": [],
   "source": [
    "name_match,ratio_match=checker(strOptions,str2Match)"
   ]
  },
  {
   "cell_type": "code",
   "execution_count": 663,
   "metadata": {},
   "outputs": [],
   "source": [
    "df2 = pd.DataFrame()\n",
    "df2['loc_2009']=pd.Series(strOptions)\n",
    "df2['loc_2019']=pd.Series(name_match)\n",
    "df2['2009_vs_2019']=pd.Series(ratio_match)"
   ]
  },
  {
   "cell_type": "code",
   "execution_count": 664,
   "metadata": {},
   "outputs": [],
   "source": [
    "df_2=pd.merge(df_1,df2,on='loc_2009',how='left')"
   ]
  },
  {
   "cell_type": "code",
   "execution_count": null,
   "metadata": {},
   "outputs": [],
   "source": []
  },
  {
   "cell_type": "code",
   "execution_count": 665,
   "metadata": {},
   "outputs": [],
   "source": [
    "str2Match = df_lisette['localite'].unique().tolist()"
   ]
  },
  {
   "cell_type": "code",
   "execution_count": 666,
   "metadata": {},
   "outputs": [],
   "source": [
    "name_match,ratio_match=checker(strOptions,str2Match)"
   ]
  },
  {
   "cell_type": "code",
   "execution_count": 667,
   "metadata": {},
   "outputs": [],
   "source": [
    "df3 = pd.DataFrame()\n",
    "df3['loc_2009']=pd.Series(strOptions)\n",
    "df3['loc_lisette']=pd.Series(name_match)\n",
    "df3['2009_vs_lisette']=pd.Series(ratio_match)"
   ]
  },
  {
   "cell_type": "code",
   "execution_count": 668,
   "metadata": {},
   "outputs": [],
   "source": [
    "df_fin=pd.merge(df_2,df3,on='loc_2009',how='left')"
   ]
  },
  {
   "cell_type": "code",
   "execution_count": null,
   "metadata": {},
   "outputs": [],
   "source": []
  },
  {
   "cell_type": "markdown",
   "metadata": {},
   "source": [
    "## Merge datapoints of pumps"
   ]
  },
  {
   "cell_type": "code",
   "execution_count": 670,
   "metadata": {},
   "outputs": [
    {
     "data": {
      "text/html": [
       "<div>\n",
       "<style scoped>\n",
       "    .dataframe tbody tr th:only-of-type {\n",
       "        vertical-align: middle;\n",
       "    }\n",
       "\n",
       "    .dataframe tbody tr th {\n",
       "        vertical-align: top;\n",
       "    }\n",
       "\n",
       "    .dataframe thead th {\n",
       "        text-align: right;\n",
       "    }\n",
       "</style>\n",
       "<table border=\"1\" class=\"dataframe\">\n",
       "  <thead>\n",
       "    <tr style=\"text-align: right;\">\n",
       "      <th></th>\n",
       "      <th>loc_2009</th>\n",
       "      <th>loc_2016</th>\n",
       "      <th>2009_vs_2016</th>\n",
       "      <th>loc_2019</th>\n",
       "      <th>2009_vs_2019</th>\n",
       "      <th>loc_lisette</th>\n",
       "      <th>2009_vs_lisette</th>\n",
       "    </tr>\n",
       "  </thead>\n",
       "  <tbody>\n",
       "    <tr>\n",
       "      <td>0</td>\n",
       "      <td>Bah Boré</td>\n",
       "      <td>Tèbo Gbaba</td>\n",
       "      <td>62</td>\n",
       "      <td>Booré 2</td>\n",
       "      <td>62</td>\n",
       "      <td>Booré 1</td>\n",
       "      <td>62</td>\n",
       "    </tr>\n",
       "    <tr>\n",
       "      <td>1</td>\n",
       "      <td>Biro</td>\n",
       "      <td>Biro</td>\n",
       "      <td>100</td>\n",
       "      <td>Biro</td>\n",
       "      <td>100</td>\n",
       "      <td>BIRO NOUKOUROU</td>\n",
       "      <td>100</td>\n",
       "    </tr>\n",
       "    <tr>\n",
       "      <td>2</td>\n",
       "      <td>Gaouré (Sanni\\nKparou)</td>\n",
       "      <td>Sani Kao Kparou</td>\n",
       "      <td>85</td>\n",
       "      <td>Sani Kao Kparou</td>\n",
       "      <td>85</td>\n",
       "      <td>SANI KAO KPAROU</td>\n",
       "      <td>85</td>\n",
       "    </tr>\n",
       "    <tr>\n",
       "      <td>3</td>\n",
       "      <td>Goutto</td>\n",
       "      <td>Goutto</td>\n",
       "      <td>100</td>\n",
       "      <td>Goutto</td>\n",
       "      <td>100</td>\n",
       "      <td>GOUTTO</td>\n",
       "      <td>100</td>\n",
       "    </tr>\n",
       "    <tr>\n",
       "      <td>4</td>\n",
       "      <td>Massiagourou</td>\n",
       "      <td>Massiagourou</td>\n",
       "      <td>100</td>\n",
       "      <td>Massiagourou</td>\n",
       "      <td>100</td>\n",
       "      <td>MASSIAGOUROU</td>\n",
       "      <td>100</td>\n",
       "    </tr>\n",
       "    <tr>\n",
       "      <td>...</td>\n",
       "      <td>...</td>\n",
       "      <td>...</td>\n",
       "      <td>...</td>\n",
       "      <td>...</td>\n",
       "      <td>...</td>\n",
       "      <td>...</td>\n",
       "      <td>...</td>\n",
       "    </tr>\n",
       "    <tr>\n",
       "      <td>321</td>\n",
       "      <td>Fo Darou</td>\n",
       "      <td>Fo-Darou</td>\n",
       "      <td>100</td>\n",
       "      <td>Fo Darou</td>\n",
       "      <td>100</td>\n",
       "      <td>Fô darou</td>\n",
       "      <td>93</td>\n",
       "    </tr>\n",
       "    <tr>\n",
       "      <td>322</td>\n",
       "      <td>Sinagourou\\nFrontière</td>\n",
       "      <td>Sinagourou</td>\n",
       "      <td>100</td>\n",
       "      <td>Sinagourou</td>\n",
       "      <td>100</td>\n",
       "      <td>Sinagourou frontière</td>\n",
       "      <td>100</td>\n",
       "    </tr>\n",
       "    <tr>\n",
       "      <td>323</td>\n",
       "      <td>Sombiri (Kertia 2)</td>\n",
       "      <td>Kpiré (2)</td>\n",
       "      <td>45</td>\n",
       "      <td>Soria Kpaa</td>\n",
       "      <td>54</td>\n",
       "      <td>Sombiri</td>\n",
       "      <td>100</td>\n",
       "    </tr>\n",
       "    <tr>\n",
       "      <td>324</td>\n",
       "      <td>Tasso</td>\n",
       "      <td>Tasso</td>\n",
       "      <td>100</td>\n",
       "      <td>Tasso</td>\n",
       "      <td>100</td>\n",
       "      <td>Tasso</td>\n",
       "      <td>100</td>\n",
       "    </tr>\n",
       "    <tr>\n",
       "      <td>325</td>\n",
       "      <td>Tasso Peuhl (Kertia\\n1)</td>\n",
       "      <td>Tasso</td>\n",
       "      <td>100</td>\n",
       "      <td>Tasso</td>\n",
       "      <td>100</td>\n",
       "      <td>Tasso</td>\n",
       "      <td>100</td>\n",
       "    </tr>\n",
       "  </tbody>\n",
       "</table>\n",
       "<p>326 rows × 7 columns</p>\n",
       "</div>"
      ],
      "text/plain": [
       "                    loc_2009         loc_2016  2009_vs_2016         loc_2019  \\\n",
       "0                   Bah Boré       Tèbo Gbaba            62          Booré 2   \n",
       "1                       Biro             Biro           100             Biro   \n",
       "2     Gaouré (Sanni\\nKparou)  Sani Kao Kparou            85  Sani Kao Kparou   \n",
       "3                     Goutto           Goutto           100           Goutto   \n",
       "4               Massiagourou     Massiagourou           100     Massiagourou   \n",
       "..                       ...              ...           ...              ...   \n",
       "321                 Fo Darou         Fo-Darou           100         Fo Darou   \n",
       "322    Sinagourou\\nFrontière       Sinagourou           100       Sinagourou   \n",
       "323       Sombiri (Kertia 2)        Kpiré (2)            45       Soria Kpaa   \n",
       "324                    Tasso            Tasso           100            Tasso   \n",
       "325  Tasso Peuhl (Kertia\\n1)            Tasso           100            Tasso   \n",
       "\n",
       "    2009_vs_2019           loc_lisette 2009_vs_lisette  \n",
       "0             62               Booré 1              62  \n",
       "1            100        BIRO NOUKOUROU             100  \n",
       "2             85       SANI KAO KPAROU              85  \n",
       "3            100                GOUTTO             100  \n",
       "4            100          MASSIAGOUROU             100  \n",
       "..           ...                   ...             ...  \n",
       "321          100              Fô darou              93  \n",
       "322          100  Sinagourou frontière             100  \n",
       "323           54               Sombiri             100  \n",
       "324          100                 Tasso             100  \n",
       "325          100                 Tasso             100  \n",
       "\n",
       "[326 rows x 7 columns]"
      ]
     },
     "execution_count": 670,
     "metadata": {},
     "output_type": "execute_result"
    }
   ],
   "source": [
    "df_fin"
   ]
  },
  {
   "cell_type": "code",
   "execution_count": 680,
   "metadata": {},
   "outputs": [],
   "source": [
    "df_2009_loc_fpm=df_2009.groupby('localite').agg(\n",
    "            {\n",
    "                'population':'mean',\n",
    "                'type':'unique'\n",
    "            }\n",
    "                                            ).reset_index()\n",
    "    "
   ]
  },
  {
   "cell_type": "code",
   "execution_count": 682,
   "metadata": {},
   "outputs": [],
   "source": [
    "df_2009_loc_fpm['fpm_2009']=df_2009_loc_fpm.apply(lambda x: list(x['type']).count('FPM'),axis=1)"
   ]
  },
  {
   "cell_type": "code",
   "execution_count": 696,
   "metadata": {},
   "outputs": [],
   "source": [
    "df_fin9=pd.merge(df_fin,\n",
    "                 df_2009_loc_fpm[['population','localite','fpm_2009']],\n",
    "                 left_on='loc_2009',\n",
    "                 right_on='localite',\n",
    "                 how='left').drop('localite',axis=1)\n"
   ]
  },
  {
   "cell_type": "code",
   "execution_count": 698,
   "metadata": {},
   "outputs": [
    {
     "data": {
      "text/plain": [
       "Index(['n', 'arrondissement', 'village', 'localite', 'hameau', 'etat',\n",
       "       'redevance', 'annee', 'marque'],\n",
       "      dtype='object')"
      ]
     },
     "execution_count": 698,
     "metadata": {},
     "output_type": "execute_result"
    }
   ],
   "source": []
  },
  {
   "cell_type": "code",
   "execution_count": 699,
   "metadata": {},
   "outputs": [],
   "source": [
    "df_2016_loc_fpm=df_2016.groupby('localite').agg(\n",
    "            {\n",
    "                'village':'count'\n",
    "            }\n",
    "                                            ).reset_index()\n",
    "    "
   ]
  },
  {
   "cell_type": "code",
   "execution_count": 701,
   "metadata": {},
   "outputs": [],
   "source": [
    "df_2016_loc_fpm.columns=['localite','fpm_2016']"
   ]
  },
  {
   "cell_type": "code",
   "execution_count": 702,
   "metadata": {},
   "outputs": [],
   "source": [
    "df_fin9=pd.merge(df_fin9,\n",
    "                 df_2016_loc_fpm[['localite','fpm_2016']],\n",
    "                 left_on='loc_2016',\n",
    "                 right_on='localite',\n",
    "                 how='left').drop('localite',axis=1)\n"
   ]
  },
  {
   "cell_type": "code",
   "execution_count": null,
   "metadata": {},
   "outputs": [],
   "source": []
  },
  {
   "cell_type": "code",
   "execution_count": null,
   "metadata": {},
   "outputs": [],
   "source": []
  },
  {
   "cell_type": "code",
   "execution_count": 705,
   "metadata": {},
   "outputs": [],
   "source": [
    "df_2019_loc_fpm=df_2019.groupby('localite').agg(\n",
    "            {\n",
    "                'village':'count'\n",
    "            }\n",
    "                                            ).reset_index()\n",
    "    "
   ]
  },
  {
   "cell_type": "code",
   "execution_count": 706,
   "metadata": {},
   "outputs": [],
   "source": [
    "df_2019_loc_fpm.columns=['localite','fpm_2019']"
   ]
  },
  {
   "cell_type": "code",
   "execution_count": 708,
   "metadata": {},
   "outputs": [],
   "source": [
    "df_fin9=pd.merge(df_fin9,\n",
    "                 df_2019_loc_fpm[['localite','fpm_2019']],\n",
    "                 left_on='loc_2019',\n",
    "                 right_on='localite',\n",
    "                 how='left').drop('localite',axis=1)\n"
   ]
  },
  {
   "cell_type": "code",
   "execution_count": null,
   "metadata": {},
   "outputs": [],
   "source": []
  },
  {
   "cell_type": "code",
   "execution_count": 710,
   "metadata": {},
   "outputs": [],
   "source": [
    "df_lisette_loc_fpm=df_lisette.groupby('localite').agg(\n",
    "            {\n",
    "                'village':'count'\n",
    "            }\n",
    "                                            ).reset_index()\n",
    "    "
   ]
  },
  {
   "cell_type": "code",
   "execution_count": 711,
   "metadata": {},
   "outputs": [],
   "source": [
    "df_lisette_loc_fpm.columns=['localite','fpm_lisette']"
   ]
  },
  {
   "cell_type": "code",
   "execution_count": 712,
   "metadata": {},
   "outputs": [],
   "source": [
    "df_fin9=pd.merge(df_fin9,\n",
    "                 df_lisette_loc_fpm[['localite','fpm_lisette']],\n",
    "                 left_on='loc_lisette',\n",
    "                 right_on='localite',\n",
    "                 how='left').drop('localite',axis=1)\n"
   ]
  },
  {
   "cell_type": "code",
   "execution_count": 713,
   "metadata": {},
   "outputs": [
    {
     "data": {
      "text/html": [
       "<div>\n",
       "<style scoped>\n",
       "    .dataframe tbody tr th:only-of-type {\n",
       "        vertical-align: middle;\n",
       "    }\n",
       "\n",
       "    .dataframe tbody tr th {\n",
       "        vertical-align: top;\n",
       "    }\n",
       "\n",
       "    .dataframe thead th {\n",
       "        text-align: right;\n",
       "    }\n",
       "</style>\n",
       "<table border=\"1\" class=\"dataframe\">\n",
       "  <thead>\n",
       "    <tr style=\"text-align: right;\">\n",
       "      <th></th>\n",
       "      <th>loc_2009</th>\n",
       "      <th>loc_2016</th>\n",
       "      <th>2009_vs_2016</th>\n",
       "      <th>loc_2019</th>\n",
       "      <th>2009_vs_2019</th>\n",
       "      <th>loc_lisette</th>\n",
       "      <th>2009_vs_lisette</th>\n",
       "      <th>population</th>\n",
       "      <th>fpm_2009</th>\n",
       "      <th>fpm_2016</th>\n",
       "      <th>fpm_2019</th>\n",
       "      <th>fpm_lisette</th>\n",
       "    </tr>\n",
       "  </thead>\n",
       "  <tbody>\n",
       "    <tr>\n",
       "      <td>0</td>\n",
       "      <td>Bah Boré</td>\n",
       "      <td>Tèbo Gbaba</td>\n",
       "      <td>62</td>\n",
       "      <td>Booré 2</td>\n",
       "      <td>62</td>\n",
       "      <td>Booré 1</td>\n",
       "      <td>62</td>\n",
       "      <td>150.0</td>\n",
       "      <td>0</td>\n",
       "      <td>1</td>\n",
       "      <td>1</td>\n",
       "      <td>1</td>\n",
       "    </tr>\n",
       "    <tr>\n",
       "      <td>1</td>\n",
       "      <td>Biro</td>\n",
       "      <td>Biro</td>\n",
       "      <td>100</td>\n",
       "      <td>Biro</td>\n",
       "      <td>100</td>\n",
       "      <td>BIRO NOUKOUROU</td>\n",
       "      <td>100</td>\n",
       "      <td>5000.0</td>\n",
       "      <td>1</td>\n",
       "      <td>5</td>\n",
       "      <td>5</td>\n",
       "      <td>4</td>\n",
       "    </tr>\n",
       "    <tr>\n",
       "      <td>2</td>\n",
       "      <td>Gaouré (Sanni\\nKparou)</td>\n",
       "      <td>Sani Kao Kparou</td>\n",
       "      <td>85</td>\n",
       "      <td>Sani Kao Kparou</td>\n",
       "      <td>85</td>\n",
       "      <td>SANI KAO KPAROU</td>\n",
       "      <td>85</td>\n",
       "      <td>120.0</td>\n",
       "      <td>0</td>\n",
       "      <td>1</td>\n",
       "      <td>1</td>\n",
       "      <td>1</td>\n",
       "    </tr>\n",
       "    <tr>\n",
       "      <td>3</td>\n",
       "      <td>Goutto</td>\n",
       "      <td>Goutto</td>\n",
       "      <td>100</td>\n",
       "      <td>Goutto</td>\n",
       "      <td>100</td>\n",
       "      <td>GOUTTO</td>\n",
       "      <td>100</td>\n",
       "      <td>300.0</td>\n",
       "      <td>1</td>\n",
       "      <td>1</td>\n",
       "      <td>1</td>\n",
       "      <td>1</td>\n",
       "    </tr>\n",
       "    <tr>\n",
       "      <td>4</td>\n",
       "      <td>Massiagourou</td>\n",
       "      <td>Massiagourou</td>\n",
       "      <td>100</td>\n",
       "      <td>Massiagourou</td>\n",
       "      <td>100</td>\n",
       "      <td>MASSIAGOUROU</td>\n",
       "      <td>100</td>\n",
       "      <td>621.0</td>\n",
       "      <td>1</td>\n",
       "      <td>1</td>\n",
       "      <td>1</td>\n",
       "      <td>1</td>\n",
       "    </tr>\n",
       "    <tr>\n",
       "      <td>...</td>\n",
       "      <td>...</td>\n",
       "      <td>...</td>\n",
       "      <td>...</td>\n",
       "      <td>...</td>\n",
       "      <td>...</td>\n",
       "      <td>...</td>\n",
       "      <td>...</td>\n",
       "      <td>...</td>\n",
       "      <td>...</td>\n",
       "      <td>...</td>\n",
       "      <td>...</td>\n",
       "      <td>...</td>\n",
       "    </tr>\n",
       "    <tr>\n",
       "      <td>321</td>\n",
       "      <td>Fo Darou</td>\n",
       "      <td>Fo-Darou</td>\n",
       "      <td>100</td>\n",
       "      <td>Fo Darou</td>\n",
       "      <td>100</td>\n",
       "      <td>Fô darou</td>\n",
       "      <td>93</td>\n",
       "      <td>700.0</td>\n",
       "      <td>1</td>\n",
       "      <td>2</td>\n",
       "      <td>1</td>\n",
       "      <td>2</td>\n",
       "    </tr>\n",
       "    <tr>\n",
       "      <td>322</td>\n",
       "      <td>Sinagourou\\nFrontière</td>\n",
       "      <td>Sinagourou</td>\n",
       "      <td>100</td>\n",
       "      <td>Sinagourou</td>\n",
       "      <td>100</td>\n",
       "      <td>Sinagourou frontière</td>\n",
       "      <td>100</td>\n",
       "      <td>250.0</td>\n",
       "      <td>0</td>\n",
       "      <td>3</td>\n",
       "      <td>2</td>\n",
       "      <td>1</td>\n",
       "    </tr>\n",
       "    <tr>\n",
       "      <td>323</td>\n",
       "      <td>Sombiri (Kertia 2)</td>\n",
       "      <td>Kpiré (2)</td>\n",
       "      <td>45</td>\n",
       "      <td>Soria Kpaa</td>\n",
       "      <td>54</td>\n",
       "      <td>Sombiri</td>\n",
       "      <td>100</td>\n",
       "      <td>200.0</td>\n",
       "      <td>0</td>\n",
       "      <td>1</td>\n",
       "      <td>1</td>\n",
       "      <td>1</td>\n",
       "    </tr>\n",
       "    <tr>\n",
       "      <td>324</td>\n",
       "      <td>Tasso</td>\n",
       "      <td>Tasso</td>\n",
       "      <td>100</td>\n",
       "      <td>Tasso</td>\n",
       "      <td>100</td>\n",
       "      <td>Tasso</td>\n",
       "      <td>100</td>\n",
       "      <td>850.0</td>\n",
       "      <td>1</td>\n",
       "      <td>3</td>\n",
       "      <td>2</td>\n",
       "      <td>4</td>\n",
       "    </tr>\n",
       "    <tr>\n",
       "      <td>325</td>\n",
       "      <td>Tasso Peuhl (Kertia\\n1)</td>\n",
       "      <td>Tasso</td>\n",
       "      <td>100</td>\n",
       "      <td>Tasso</td>\n",
       "      <td>100</td>\n",
       "      <td>Tasso</td>\n",
       "      <td>100</td>\n",
       "      <td>250.0</td>\n",
       "      <td>1</td>\n",
       "      <td>3</td>\n",
       "      <td>2</td>\n",
       "      <td>4</td>\n",
       "    </tr>\n",
       "  </tbody>\n",
       "</table>\n",
       "<p>326 rows × 12 columns</p>\n",
       "</div>"
      ],
      "text/plain": [
       "                    loc_2009         loc_2016  2009_vs_2016         loc_2019  \\\n",
       "0                   Bah Boré       Tèbo Gbaba            62          Booré 2   \n",
       "1                       Biro             Biro           100             Biro   \n",
       "2     Gaouré (Sanni\\nKparou)  Sani Kao Kparou            85  Sani Kao Kparou   \n",
       "3                     Goutto           Goutto           100           Goutto   \n",
       "4               Massiagourou     Massiagourou           100     Massiagourou   \n",
       "..                       ...              ...           ...              ...   \n",
       "321                 Fo Darou         Fo-Darou           100         Fo Darou   \n",
       "322    Sinagourou\\nFrontière       Sinagourou           100       Sinagourou   \n",
       "323       Sombiri (Kertia 2)        Kpiré (2)            45       Soria Kpaa   \n",
       "324                    Tasso            Tasso           100            Tasso   \n",
       "325  Tasso Peuhl (Kertia\\n1)            Tasso           100            Tasso   \n",
       "\n",
       "    2009_vs_2019           loc_lisette 2009_vs_lisette  population  fpm_2009  \\\n",
       "0             62               Booré 1              62       150.0         0   \n",
       "1            100        BIRO NOUKOUROU             100      5000.0         1   \n",
       "2             85       SANI KAO KPAROU              85       120.0         0   \n",
       "3            100                GOUTTO             100       300.0         1   \n",
       "4            100          MASSIAGOUROU             100       621.0         1   \n",
       "..           ...                   ...             ...         ...       ...   \n",
       "321          100              Fô darou              93       700.0         1   \n",
       "322          100  Sinagourou frontière             100       250.0         0   \n",
       "323           54               Sombiri             100       200.0         0   \n",
       "324          100                 Tasso             100       850.0         1   \n",
       "325          100                 Tasso             100       250.0         1   \n",
       "\n",
       "     fpm_2016  fpm_2019  fpm_lisette  \n",
       "0           1         1            1  \n",
       "1           5         5            4  \n",
       "2           1         1            1  \n",
       "3           1         1            1  \n",
       "4           1         1            1  \n",
       "..        ...       ...          ...  \n",
       "321         2         1            2  \n",
       "322         3         2            1  \n",
       "323         1         1            1  \n",
       "324         3         2            4  \n",
       "325         3         2            4  \n",
       "\n",
       "[326 rows x 12 columns]"
      ]
     },
     "execution_count": 713,
     "metadata": {},
     "output_type": "execute_result"
    }
   ],
   "source": [
    "df_fin9"
   ]
  },
  {
   "cell_type": "code",
   "execution_count": 714,
   "metadata": {},
   "outputs": [],
   "source": [
    "df_fin9.to_csv('proposed_merged_localites.csv')"
   ]
  },
  {
   "cell_type": "code",
   "execution_count": null,
   "metadata": {},
   "outputs": [],
   "source": []
  }
 ],
 "metadata": {
  "accelerator": "GPU",
  "colab": {
   "collapsed_sections": [],
   "include_colab_link": true,
   "name": "colab_estructurar_bbdd_y_subir_a_firebase.ipynb",
   "provenance": []
  },
  "kernelspec": {
   "display_name": "Python 3",
   "language": "python",
   "name": "python3"
  },
  "language_info": {
   "codemirror_mode": {
    "name": "ipython",
    "version": 3
   },
   "file_extension": ".py",
   "mimetype": "text/x-python",
   "name": "python",
   "nbconvert_exporter": "python",
   "pygments_lexer": "ipython3",
   "version": "3.7.3"
  }
 },
 "nbformat": 4,
 "nbformat_minor": 1
}
